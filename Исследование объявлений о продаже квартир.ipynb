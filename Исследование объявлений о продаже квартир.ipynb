{
 "cells": [
  {
   "cell_type": "markdown",
   "metadata": {},
   "source": [
    "# Исследование объявлений о продаже квартир\n",
    "\n",
    "В вашем распоряжении данные сервиса Яндекс.Недвижимость — архив объявлений о продаже квартир в Санкт-Петербурге и соседних населённых пунктов за несколько лет. Нужно научиться определять рыночную стоимость объектов недвижимости. Ваша задача — установить параметры. Это позволит построить автоматизированную систему: она отследит аномалии и мошенническую деятельность. \n",
    "\n",
    "По каждой квартире на продажу доступны два вида данных. Первые вписаны пользователем, вторые — получены автоматически на основе картографических данных. Например, расстояние до центра, аэропорта, ближайшего парка и водоёма. "
   ]
  },
  {
   "cell_type": "markdown",
   "metadata": {},
   "source": [
    "### Откройте файл с данными и изучите общую информацию. "
   ]
  },
  {
   "cell_type": "code",
   "execution_count": 1,
   "metadata": {},
   "outputs": [],
   "source": [
    "import pandas as pd\n",
    "import matplotlib.pyplot as plt"
   ]
  },
  {
   "cell_type": "code",
   "execution_count": 2,
   "metadata": {
    "scrolled": true
   },
   "outputs": [
    {
     "data": {
      "text/html": [
       "<div>\n",
       "<style scoped>\n",
       "    .dataframe tbody tr th:only-of-type {\n",
       "        vertical-align: middle;\n",
       "    }\n",
       "\n",
       "    .dataframe tbody tr th {\n",
       "        vertical-align: top;\n",
       "    }\n",
       "\n",
       "    .dataframe thead th {\n",
       "        text-align: right;\n",
       "    }\n",
       "</style>\n",
       "<table border=\"1\" class=\"dataframe\">\n",
       "  <thead>\n",
       "    <tr style=\"text-align: right;\">\n",
       "      <th></th>\n",
       "      <th>total_images</th>\n",
       "      <th>last_price</th>\n",
       "      <th>total_area</th>\n",
       "      <th>first_day_exposition</th>\n",
       "      <th>rooms</th>\n",
       "      <th>ceiling_height</th>\n",
       "      <th>floors_total</th>\n",
       "      <th>living_area</th>\n",
       "      <th>floor</th>\n",
       "      <th>is_apartment</th>\n",
       "      <th>studio</th>\n",
       "      <th>open_plan</th>\n",
       "      <th>kitchen_area</th>\n",
       "      <th>balcony</th>\n",
       "      <th>locality_name</th>\n",
       "      <th>airports_nearest</th>\n",
       "      <th>cityCenters_nearest</th>\n",
       "      <th>parks_around3000</th>\n",
       "      <th>parks_nearest</th>\n",
       "      <th>ponds_around3000</th>\n",
       "      <th>ponds_nearest</th>\n",
       "      <th>days_exposition</th>\n",
       "    </tr>\n",
       "  </thead>\n",
       "  <tbody>\n",
       "    <tr>\n",
       "      <th>0</th>\n",
       "      <td>20</td>\n",
       "      <td>13000000.0</td>\n",
       "      <td>108.0</td>\n",
       "      <td>2019-03-07T00:00:00</td>\n",
       "      <td>3</td>\n",
       "      <td>2.70</td>\n",
       "      <td>16.0</td>\n",
       "      <td>51.0</td>\n",
       "      <td>8</td>\n",
       "      <td>NaN</td>\n",
       "      <td>False</td>\n",
       "      <td>False</td>\n",
       "      <td>25.0</td>\n",
       "      <td>NaN</td>\n",
       "      <td>Санкт-Петербург</td>\n",
       "      <td>18863.0</td>\n",
       "      <td>16028.0</td>\n",
       "      <td>1.0</td>\n",
       "      <td>482.0</td>\n",
       "      <td>2.0</td>\n",
       "      <td>755.0</td>\n",
       "      <td>NaN</td>\n",
       "    </tr>\n",
       "    <tr>\n",
       "      <th>1</th>\n",
       "      <td>7</td>\n",
       "      <td>3350000.0</td>\n",
       "      <td>40.4</td>\n",
       "      <td>2018-12-04T00:00:00</td>\n",
       "      <td>1</td>\n",
       "      <td>NaN</td>\n",
       "      <td>11.0</td>\n",
       "      <td>18.6</td>\n",
       "      <td>1</td>\n",
       "      <td>NaN</td>\n",
       "      <td>False</td>\n",
       "      <td>False</td>\n",
       "      <td>11.0</td>\n",
       "      <td>2.0</td>\n",
       "      <td>посёлок Шушары</td>\n",
       "      <td>12817.0</td>\n",
       "      <td>18603.0</td>\n",
       "      <td>0.0</td>\n",
       "      <td>NaN</td>\n",
       "      <td>0.0</td>\n",
       "      <td>NaN</td>\n",
       "      <td>81.0</td>\n",
       "    </tr>\n",
       "    <tr>\n",
       "      <th>2</th>\n",
       "      <td>10</td>\n",
       "      <td>5196000.0</td>\n",
       "      <td>56.0</td>\n",
       "      <td>2015-08-20T00:00:00</td>\n",
       "      <td>2</td>\n",
       "      <td>NaN</td>\n",
       "      <td>5.0</td>\n",
       "      <td>34.3</td>\n",
       "      <td>4</td>\n",
       "      <td>NaN</td>\n",
       "      <td>False</td>\n",
       "      <td>False</td>\n",
       "      <td>8.3</td>\n",
       "      <td>0.0</td>\n",
       "      <td>Санкт-Петербург</td>\n",
       "      <td>21741.0</td>\n",
       "      <td>13933.0</td>\n",
       "      <td>1.0</td>\n",
       "      <td>90.0</td>\n",
       "      <td>2.0</td>\n",
       "      <td>574.0</td>\n",
       "      <td>558.0</td>\n",
       "    </tr>\n",
       "    <tr>\n",
       "      <th>3</th>\n",
       "      <td>0</td>\n",
       "      <td>64900000.0</td>\n",
       "      <td>159.0</td>\n",
       "      <td>2015-07-24T00:00:00</td>\n",
       "      <td>3</td>\n",
       "      <td>NaN</td>\n",
       "      <td>14.0</td>\n",
       "      <td>NaN</td>\n",
       "      <td>9</td>\n",
       "      <td>NaN</td>\n",
       "      <td>False</td>\n",
       "      <td>False</td>\n",
       "      <td>NaN</td>\n",
       "      <td>0.0</td>\n",
       "      <td>Санкт-Петербург</td>\n",
       "      <td>28098.0</td>\n",
       "      <td>6800.0</td>\n",
       "      <td>2.0</td>\n",
       "      <td>84.0</td>\n",
       "      <td>3.0</td>\n",
       "      <td>234.0</td>\n",
       "      <td>424.0</td>\n",
       "    </tr>\n",
       "    <tr>\n",
       "      <th>4</th>\n",
       "      <td>2</td>\n",
       "      <td>10000000.0</td>\n",
       "      <td>100.0</td>\n",
       "      <td>2018-06-19T00:00:00</td>\n",
       "      <td>2</td>\n",
       "      <td>3.03</td>\n",
       "      <td>14.0</td>\n",
       "      <td>32.0</td>\n",
       "      <td>13</td>\n",
       "      <td>NaN</td>\n",
       "      <td>False</td>\n",
       "      <td>False</td>\n",
       "      <td>41.0</td>\n",
       "      <td>NaN</td>\n",
       "      <td>Санкт-Петербург</td>\n",
       "      <td>31856.0</td>\n",
       "      <td>8098.0</td>\n",
       "      <td>2.0</td>\n",
       "      <td>112.0</td>\n",
       "      <td>1.0</td>\n",
       "      <td>48.0</td>\n",
       "      <td>121.0</td>\n",
       "    </tr>\n",
       "  </tbody>\n",
       "</table>\n",
       "</div>"
      ],
      "text/plain": [
       "   total_images  last_price  total_area first_day_exposition  rooms  \\\n",
       "0            20  13000000.0       108.0  2019-03-07T00:00:00      3   \n",
       "1             7   3350000.0        40.4  2018-12-04T00:00:00      1   \n",
       "2            10   5196000.0        56.0  2015-08-20T00:00:00      2   \n",
       "3             0  64900000.0       159.0  2015-07-24T00:00:00      3   \n",
       "4             2  10000000.0       100.0  2018-06-19T00:00:00      2   \n",
       "\n",
       "   ceiling_height  floors_total  living_area  floor is_apartment  studio  \\\n",
       "0            2.70          16.0         51.0      8          NaN   False   \n",
       "1             NaN          11.0         18.6      1          NaN   False   \n",
       "2             NaN           5.0         34.3      4          NaN   False   \n",
       "3             NaN          14.0          NaN      9          NaN   False   \n",
       "4            3.03          14.0         32.0     13          NaN   False   \n",
       "\n",
       "   open_plan  kitchen_area  balcony    locality_name  airports_nearest  \\\n",
       "0      False          25.0      NaN  Санкт-Петербург           18863.0   \n",
       "1      False          11.0      2.0   посёлок Шушары           12817.0   \n",
       "2      False           8.3      0.0  Санкт-Петербург           21741.0   \n",
       "3      False           NaN      0.0  Санкт-Петербург           28098.0   \n",
       "4      False          41.0      NaN  Санкт-Петербург           31856.0   \n",
       "\n",
       "   cityCenters_nearest  parks_around3000  parks_nearest  ponds_around3000  \\\n",
       "0              16028.0               1.0          482.0               2.0   \n",
       "1              18603.0               0.0            NaN               0.0   \n",
       "2              13933.0               1.0           90.0               2.0   \n",
       "3               6800.0               2.0           84.0               3.0   \n",
       "4               8098.0               2.0          112.0               1.0   \n",
       "\n",
       "   ponds_nearest  days_exposition  \n",
       "0          755.0              NaN  \n",
       "1            NaN             81.0  \n",
       "2          574.0            558.0  \n",
       "3          234.0            424.0  \n",
       "4           48.0            121.0  "
      ]
     },
     "execution_count": 2,
     "metadata": {},
     "output_type": "execute_result"
    }
   ],
   "source": [
    "pd.set_option('display.max_columns', None)\n",
    "data = pd.read_csv('/datasets/real_estate_data.csv', sep='\\t')\n",
    "data.head()"
   ]
  },
  {
   "cell_type": "code",
   "execution_count": 3,
   "metadata": {},
   "outputs": [
    {
     "name": "stdout",
     "output_type": "stream",
     "text": [
      "<class 'pandas.core.frame.DataFrame'>\n",
      "RangeIndex: 23699 entries, 0 to 23698\n",
      "Data columns (total 22 columns):\n",
      " #   Column                Non-Null Count  Dtype  \n",
      "---  ------                --------------  -----  \n",
      " 0   total_images          23699 non-null  int64  \n",
      " 1   last_price            23699 non-null  float64\n",
      " 2   total_area            23699 non-null  float64\n",
      " 3   first_day_exposition  23699 non-null  object \n",
      " 4   rooms                 23699 non-null  int64  \n",
      " 5   ceiling_height        14504 non-null  float64\n",
      " 6   floors_total          23613 non-null  float64\n",
      " 7   living_area           21796 non-null  float64\n",
      " 8   floor                 23699 non-null  int64  \n",
      " 9   is_apartment          2775 non-null   object \n",
      " 10  studio                23699 non-null  bool   \n",
      " 11  open_plan             23699 non-null  bool   \n",
      " 12  kitchen_area          21421 non-null  float64\n",
      " 13  balcony               12180 non-null  float64\n",
      " 14  locality_name         23650 non-null  object \n",
      " 15  airports_nearest      18157 non-null  float64\n",
      " 16  cityCenters_nearest   18180 non-null  float64\n",
      " 17  parks_around3000      18181 non-null  float64\n",
      " 18  parks_nearest         8079 non-null   float64\n",
      " 19  ponds_around3000      18181 non-null  float64\n",
      " 20  ponds_nearest         9110 non-null   float64\n",
      " 21  days_exposition       20518 non-null  float64\n",
      "dtypes: bool(2), float64(14), int64(3), object(3)\n",
      "memory usage: 3.7+ MB\n"
     ]
    }
   ],
   "source": [
    "data.info()"
   ]
  },
  {
   "cell_type": "code",
   "execution_count": 4,
   "metadata": {},
   "outputs": [
    {
     "data": {
      "image/png": "[encoded data removed]",
      "text/plain": [
       "<Figure size 1080x1440 with 20 Axes>"
      ]
     },
     "metadata": {
      "needs_background": "light"
     },
     "output_type": "display_data"
    }
   ],
   "source": [
    "data.hist(figsize=(15,20)); #построим гистограмму "
   ]
  },
  {
   "cell_type": "markdown",
   "metadata": {},
   "source": [
    "Перед тем как выполнять анализ, нужно убедиться ,что данные не содержат пропуски, не имеют дубликатов, соответствую своему типу (int, float, bool). Так же  необходимо проверить странныые , аномальные значения."
   ]
  },
  {
   "cell_type": "markdown",
   "metadata": {},
   "source": [
    "### Предобработка данных"
   ]
  },
  {
   "cell_type": "code",
   "execution_count": 5,
   "metadata": {},
   "outputs": [
    {
     "data": {
      "text/plain": [
       "total_images                0\n",
       "last_price                  0\n",
       "total_area                  0\n",
       "first_day_exposition        0\n",
       "rooms                       0\n",
       "ceiling_height           9195\n",
       "floors_total               86\n",
       "living_area              1903\n",
       "floor                       0\n",
       "is_apartment            20924\n",
       "studio                      0\n",
       "open_plan                   0\n",
       "kitchen_area             2278\n",
       "balcony                 11519\n",
       "locality_name              49\n",
       "airports_nearest         5542\n",
       "cityCenters_nearest      5519\n",
       "parks_around3000         5518\n",
       "parks_nearest           15620\n",
       "ponds_around3000         5518\n",
       "ponds_nearest           14589\n",
       "days_exposition          3181\n",
       "dtype: int64"
      ]
     },
     "execution_count": 5,
     "metadata": {},
     "output_type": "execute_result"
    }
   ],
   "source": [
    "data.isna().sum() #найдем количество пропусков в столбцах "
   ]
  },
  {
   "cell_type": "markdown",
   "metadata": {},
   "source": [
    "Мы обнаружили пропуски в 14 столбцах: 'ceiling_height','floors_total','living_area','is_apartment','kitchen_area','balcony','locality_name','airports_nearest','cityCenters_nearest','parks_around3000','parks_nearest','ponds_around3000','ponds_nearest','days_exposition'."
   ]
  },
  {
   "cell_type": "markdown",
   "metadata": {},
   "source": [
    "Заполним пропуски ,где это возможно."
   ]
  },
  {
   "cell_type": "markdown",
   "metadata": {},
   "source": [
    "Например в столбце 'balcony' ,пропущенные значения можно заменить на 0"
   ]
  },
  {
   "cell_type": "code",
   "execution_count": 6,
   "metadata": {},
   "outputs": [],
   "source": [
    "data['balcony'] = data['balcony'].fillna(0)"
   ]
  },
  {
   "cell_type": "markdown",
   "metadata": {},
   "source": [
    "Так же можно предположить , что пропуски в столбцах 'parks_around3000' и 'ponds_around3000' (число парков и водоемов в радиусе 3000 м соответсвенно) равны 0"
   ]
  },
  {
   "cell_type": "code",
   "execution_count": 7,
   "metadata": {},
   "outputs": [],
   "source": [
    "data['parks_around3000'] = data['parks_around3000'].fillna(0)\n",
    "data['ponds_around3000'] = data['ponds_around3000'].fillna(0)"
   ]
  },
  {
   "cell_type": "markdown",
   "metadata": {},
   "source": [
    "В столбце 'ceiling_height' пропуски можно заменить медианным значением."
   ]
  },
  {
   "cell_type": "code",
   "execution_count": 8,
   "metadata": {},
   "outputs": [],
   "source": [
    "data['ceiling_height'] = data['ceiling_height'].fillna(data['ceiling_height'].median())"
   ]
  },
  {
   "cell_type": "markdown",
   "metadata": {},
   "source": [
    "Пропуски в 'floors_total' и 'locality_name' можно удалить, так как их количество не повлияет на анлиз."
   ]
  },
  {
   "cell_type": "code",
   "execution_count": 9,
   "metadata": {},
   "outputs": [],
   "source": [
    "data = data.dropna(subset=['floors_total','locality_name'])"
   ]
  },
  {
   "cell_type": "markdown",
   "metadata": {},
   "source": [
    "Предположим, что пропуски в столбце is_apartment означают, что квартира не является аппартаментами. Заполним все пропуски в данном столбце значением False:"
   ]
  },
  {
   "cell_type": "code",
   "execution_count": 10,
   "metadata": {},
   "outputs": [],
   "source": [
    "data['is_apartment'] = data['is_apartment'].fillna(False)"
   ]
  },
  {
   "cell_type": "markdown",
   "metadata": {},
   "source": [
    "Пропуски в 'living_area' и 'kitchen_area' заполним значением медианной общей площади."
   ]
  },
  {
   "cell_type": "code",
   "execution_count": 11,
   "metadata": {},
   "outputs": [],
   "source": [
    "median_total_area = data['total_area'].median()\n",
    "median_kitchen_area = data['kitchen_area'].median()\n",
    "median_living_area = data['living_area'].median()"
   ]
  },
  {
   "cell_type": "code",
   "execution_count": 12,
   "metadata": {},
   "outputs": [],
   "source": [
    "kitchen = median_kitchen_area/median_total_area\n",
    "living = median_living_area/median_total_area\n",
    "kitchen_median = median_total_area * kitchen\n",
    "living_median = median_total_area * living"
   ]
  },
  {
   "cell_type": "code",
   "execution_count": 13,
   "metadata": {},
   "outputs": [],
   "source": [
    "data['kitchen_area'] = data['kitchen_area'].fillna(kitchen)\n",
    "data['living_area'] = data['living_area'].fillna(living)"
   ]
  },
  {
   "cell_type": "markdown",
   "metadata": {},
   "source": [
    "Причин появления пропусков может быть несколько. Одна из них человеческий фактор, другая это технологические ошибки , которые возникают при копировании , считывании или смене формата."
   ]
  },
  {
   "cell_type": "markdown",
   "metadata": {},
   "source": [
    "Для определения , правильности выбраного типа данных для каждого столбца , вызовем еще раз метод info()"
   ]
  },
  {
   "cell_type": "code",
   "execution_count": 14,
   "metadata": {},
   "outputs": [
    {
     "name": "stdout",
     "output_type": "stream",
     "text": [
      "<class 'pandas.core.frame.DataFrame'>\n",
      "Int64Index: 23565 entries, 0 to 23698\n",
      "Data columns (total 22 columns):\n",
      " #   Column                Non-Null Count  Dtype  \n",
      "---  ------                --------------  -----  \n",
      " 0   total_images          23565 non-null  int64  \n",
      " 1   last_price            23565 non-null  float64\n",
      " 2   total_area            23565 non-null  float64\n",
      " 3   first_day_exposition  23565 non-null  object \n",
      " 4   rooms                 23565 non-null  int64  \n",
      " 5   ceiling_height        23565 non-null  float64\n",
      " 6   floors_total          23565 non-null  float64\n",
      " 7   living_area           23565 non-null  float64\n",
      " 8   floor                 23565 non-null  int64  \n",
      " 9   is_apartment          23565 non-null  bool   \n",
      " 10  studio                23565 non-null  bool   \n",
      " 11  open_plan             23565 non-null  bool   \n",
      " 12  kitchen_area          23565 non-null  float64\n",
      " 13  balcony               23565 non-null  float64\n",
      " 14  locality_name         23565 non-null  object \n",
      " 15  airports_nearest      18041 non-null  float64\n",
      " 16  cityCenters_nearest   18064 non-null  float64\n",
      " 17  parks_around3000      23565 non-null  float64\n",
      " 18  parks_nearest         8030 non-null   float64\n",
      " 19  ponds_around3000      23565 non-null  float64\n",
      " 20  ponds_nearest         9036 non-null   float64\n",
      " 21  days_exposition       20394 non-null  float64\n",
      "dtypes: bool(3), float64(14), int64(3), object(2)\n",
      "memory usage: 3.7+ MB\n"
     ]
    }
   ],
   "source": [
    "data.info()"
   ]
  },
  {
   "cell_type": "markdown",
   "metadata": {},
   "source": [
    "Как видно из таблицы, в некоторых столбцах есть не соответсвие ."
   ]
  },
  {
   "cell_type": "markdown",
   "metadata": {},
   "source": [
    "Для начала переименуем один столбец"
   ]
  },
  {
   "cell_type": "code",
   "execution_count": 15,
   "metadata": {},
   "outputs": [],
   "source": [
    "data = data.rename(columns={'cityCenters_nearest': 'city_сenters_nearest'})"
   ]
  },
  {
   "cell_type": "markdown",
   "metadata": {},
   "source": [
    "Далее в столбце 'first_day_exposition' необходимо изменить тип данных на дату, а в столбце 'is_apartment' на булевый тип. Так же в столбце 'balcony' нужно изменить на целочисленный тип данных (так как количество балконов исчесляется целым числом)."
   ]
  },
  {
   "cell_type": "code",
   "execution_count": 16,
   "metadata": {},
   "outputs": [],
   "source": [
    "data['first_day_exposition'] = pd.to_datetime(data['first_day_exposition'],format = '%Y-%m-%dT%H:%M:%S')"
   ]
  },
  {
   "cell_type": "code",
   "execution_count": 17,
   "metadata": {},
   "outputs": [],
   "source": [
    "data['is_apartment'] = data['is_apartment'].astype('bool')"
   ]
  },
  {
   "cell_type": "code",
   "execution_count": 18,
   "metadata": {},
   "outputs": [],
   "source": [
    "data['balcony'] = data['balcony'].astype('int')"
   ]
  },
  {
   "cell_type": "code",
   "execution_count": 19,
   "metadata": {},
   "outputs": [],
   "source": [
    "data['locality_name'] = data['locality_name'].astype('str')"
   ]
  },
  {
   "cell_type": "markdown",
   "metadata": {},
   "source": [
    "Изменять тип данных необходимо , для достовернного анализа данных."
   ]
  },
  {
   "cell_type": "markdown",
   "metadata": {},
   "source": [
    "Далее перейдем к поиску дубликатов , в столбце 'locality_name'(название населенного пункта)"
   ]
  },
  {
   "cell_type": "markdown",
   "metadata": {},
   "source": [
    "Выведем все уникальные названия городов"
   ]
  },
  {
   "cell_type": "code",
   "execution_count": 20,
   "metadata": {},
   "outputs": [
    {
     "data": {
      "text/plain": [
       "array(['Санкт-Петербург', 'посёлок Шушары', 'городской посёлок Янино-1',\n",
       "       'посёлок Парголово', 'посёлок Мурино', 'Ломоносов', 'Сертолово',\n",
       "       'Петергоф', 'Пушкин', 'деревня Кудрово', 'Коммунар', 'Колпино',\n",
       "       'поселок городского типа Красный Бор', 'Гатчина', 'поселок Мурино',\n",
       "       'деревня Фёдоровское', 'Выборг', 'Кронштадт', 'Кировск',\n",
       "       'деревня Новое Девяткино', 'посёлок Металлострой',\n",
       "       'посёлок городского типа Лебяжье',\n",
       "       'посёлок городского типа Сиверский', 'поселок Молодцово',\n",
       "       'поселок городского типа Кузьмоловский',\n",
       "       'садовое товарищество Новая Ропша', 'Павловск',\n",
       "       'деревня Пикколово', 'Всеволожск', 'Волхов', 'Кингисепп',\n",
       "       'Приозерск', 'Сестрорецк', 'деревня Куттузи', 'посёлок Аннино',\n",
       "       'поселок городского типа Ефимовский', 'посёлок Плодовое',\n",
       "       'деревня Заклинье', 'поселок Торковичи', 'поселок Первомайское',\n",
       "       'Красное Село', 'посёлок Понтонный', 'Сясьстрой', 'деревня Старая',\n",
       "       'деревня Лесколово', 'посёлок Новый Свет', 'Сланцы',\n",
       "       'село Путилово', 'Ивангород', 'Мурино', 'Шлиссельбург',\n",
       "       'Никольское', 'Зеленогорск', 'Сосновый Бор', 'поселок Новый Свет',\n",
       "       'деревня Оржицы', 'деревня Кальтино', 'Кудрово',\n",
       "       'поселок Романовка', 'посёлок Бугры', 'поселок Бугры',\n",
       "       'поселок городского типа Рощино', 'Кириши', 'Луга', 'Волосово',\n",
       "       'Отрадное', 'село Павлово', 'поселок Оредеж', 'село Копорье',\n",
       "       'посёлок городского типа Красный Бор', 'посёлок Молодёжное',\n",
       "       'Тихвин', 'посёлок Победа', 'деревня Нурма',\n",
       "       'поселок городского типа Синявино', 'Тосно',\n",
       "       'посёлок городского типа Кузьмоловский', 'посёлок Стрельна',\n",
       "       'Бокситогорск', 'посёлок Александровская', 'деревня Лопухинка',\n",
       "       'Пикалёво', 'поселок Терволово',\n",
       "       'поселок городского типа Советский', 'Подпорожье',\n",
       "       'посёлок Петровское', 'посёлок городского типа Токсово',\n",
       "       'поселок Сельцо', 'посёлок городского типа Вырица',\n",
       "       'деревня Кипень', 'деревня Келози', 'деревня Вартемяги',\n",
       "       'посёлок Тельмана', 'поселок Севастьяново',\n",
       "       'городской поселок Большая Ижора', 'городской посёлок Павлово',\n",
       "       'деревня Агалатово', 'посёлок Новогорелово',\n",
       "       'городской посёлок Лесогорский', 'деревня Лаголово',\n",
       "       'поселок Цвелодубово', 'поселок городского типа Рахья',\n",
       "       'поселок городского типа Вырица', 'деревня Белогорка',\n",
       "       'поселок Заводской', 'городской посёлок Новоселье',\n",
       "       'деревня Большие Колпаны', 'деревня Горбунки', 'деревня Батово',\n",
       "       'деревня Заневка', 'деревня Иссад', 'Приморск',\n",
       "       'городской посёлок Фёдоровское', 'деревня Мистолово',\n",
       "       'Новая Ладога', 'поселок Зимитицы', 'поселок Барышево',\n",
       "       'деревня Разметелево', 'поселок городского типа имени Свердлова',\n",
       "       'деревня Пеники', 'поселок Рябово', 'деревня Пудомяги',\n",
       "       'поселок станции Корнево', 'деревня Низино', 'деревня Бегуницы',\n",
       "       'посёлок Поляны', 'городской посёлок Мга', 'поселок Елизаветино',\n",
       "       'посёлок городского типа Кузнечное', 'деревня Колтуши',\n",
       "       'поселок Запорожское', 'посёлок городского типа Рощино',\n",
       "       'деревня Гостилицы', 'деревня Малое Карлино',\n",
       "       'посёлок Мичуринское', 'посёлок городского типа имени Морозова',\n",
       "       'посёлок Песочный', 'посёлок Сосново', 'деревня Аро',\n",
       "       'поселок Ильичёво', 'посёлок городского типа Тайцы',\n",
       "       'деревня Малое Верево', 'деревня Извара', 'поселок станции Вещево',\n",
       "       'село Паша', 'деревня Калитино',\n",
       "       'посёлок городского типа Ульяновка', 'деревня Чудской Бор',\n",
       "       'поселок городского типа Дубровка', 'деревня Мины',\n",
       "       'поселок Войсковицы', 'посёлок городского типа имени Свердлова',\n",
       "       'деревня Коркино', 'посёлок Ропша',\n",
       "       'поселок городского типа Приладожский', 'посёлок Щеглово',\n",
       "       'посёлок Гаврилово', 'Лодейное Поле', 'деревня Рабитицы',\n",
       "       'поселок городского типа Никольский', 'деревня Кузьмолово',\n",
       "       'деревня Малые Колпаны', 'поселок Тельмана',\n",
       "       'посёлок Петро-Славянка', 'городской посёлок Назия',\n",
       "       'посёлок Репино', 'посёлок Ильичёво', 'поселок Углово',\n",
       "       'поселок Старая Малукса', 'садовое товарищество Рахья',\n",
       "       'поселок Аннино', 'поселок Победа', 'деревня Меньково',\n",
       "       'деревня Старые Бегуницы', 'посёлок Сапёрный', 'поселок Семрино',\n",
       "       'поселок Гаврилово', 'поселок Глажево', 'поселок Кобринское',\n",
       "       'деревня Гарболово', 'деревня Юкки',\n",
       "       'поселок станции Приветнинское', 'деревня Мануйлово',\n",
       "       'деревня Пчева', 'поселок Поляны', 'поселок Цвылёво',\n",
       "       'поселок Мельниково', 'посёлок Пудость', 'посёлок Усть-Луга',\n",
       "       'Светогорск', 'Любань', 'поселок Селезнёво',\n",
       "       'поселок городского типа Рябово', 'Каменногорск', 'деревня Кривко',\n",
       "       'поселок Глебычево', 'деревня Парицы', 'поселок Жилпосёлок',\n",
       "       'посёлок городского типа Мга', 'городской поселок Янино-1',\n",
       "       'посёлок Войскорово', 'село Никольское', 'посёлок Терволово',\n",
       "       'поселок Стеклянный', 'посёлок городского типа Важины',\n",
       "       'посёлок Мыза-Ивановка', 'село Русско-Высоцкое',\n",
       "       'поселок городского типа Лебяжье',\n",
       "       'поселок городского типа Форносово', 'село Старая Ладога',\n",
       "       'поселок Житково', 'городской посёлок Виллози', 'деревня Лампово',\n",
       "       'деревня Шпаньково', 'деревня Лаврики', 'посёлок Сумино',\n",
       "       'посёлок Возрождение', 'деревня Старосиверская',\n",
       "       'посёлок Кикерино', 'поселок Возрождение',\n",
       "       'деревня Старое Хинколово', 'посёлок Пригородный',\n",
       "       'посёлок Торфяное', 'городской посёлок Будогощь',\n",
       "       'поселок Суходолье', 'поселок Красная Долина', 'деревня Хапо-Ое',\n",
       "       'поселок городского типа Дружная Горка', 'поселок Лисий Нос',\n",
       "       'деревня Яльгелево', 'посёлок Стеклянный', 'село Рождествено',\n",
       "       'деревня Старополье', 'посёлок Левашово', 'деревня Сяськелево',\n",
       "       'деревня Камышовка',\n",
       "       'садоводческое некоммерческое товарищество Лесная Поляна',\n",
       "       'деревня Хязельки', 'поселок Жилгородок',\n",
       "       'посёлок городского типа Павлово', 'деревня Ялгино',\n",
       "       'поселок Новый Учхоз', 'городской посёлок Рощино',\n",
       "       'поселок Гончарово', 'поселок Почап', 'посёлок Сапёрное',\n",
       "       'посёлок Платформа 69-й километр', 'поселок Каложицы',\n",
       "       'деревня Фалилеево', 'деревня Пельгора',\n",
       "       'поселок городского типа Лесогорский', 'деревня Торошковичи',\n",
       "       'посёлок Белоостров', 'посёлок Алексеевка', 'поселок Серебрянский',\n",
       "       'поселок Лукаши', 'поселок Петровское', 'деревня Щеглово',\n",
       "       'поселок Мичуринское', 'деревня Тарасово', 'поселок Кингисеппский',\n",
       "       'посёлок при железнодорожной станции Вещево', 'поселок Ушаки',\n",
       "       'деревня Котлы', 'деревня Сижно', 'деревня Торосово',\n",
       "       'посёлок Форт Красная Горка', 'деревня Новолисино',\n",
       "       'посёлок станции Громово', 'деревня Глинка', 'посёлок Мельниково',\n",
       "       'поселок городского типа Назия', 'деревня Старая Пустошь',\n",
       "       'поселок Коммунары', 'поселок Починок',\n",
       "       'посёлок городского типа Вознесенье', 'деревня Разбегаево',\n",
       "       'посёлок городского типа Рябово', 'поселок Гладкое',\n",
       "       'посёлок при железнодорожной станции Приветнинское',\n",
       "       'поселок Тёсово-4', 'посёлок Жилгородок', 'деревня Бор',\n",
       "       'посёлок Коробицыно', 'деревня Большая Вруда', 'деревня Курковицы',\n",
       "       'посёлок Лисий Нос', 'городской посёлок Советский',\n",
       "       'посёлок Кобралово', 'деревня Суоранда', 'поселок Кобралово',\n",
       "       'поселок городского типа Кондратьево',\n",
       "       'коттеджный поселок Счастье', 'поселок Любань', 'деревня Реброво',\n",
       "       'деревня Зимитицы', 'деревня Тойворово', 'поселок Семиозерье',\n",
       "       'поселок Лесное', 'поселок Совхозный', 'поселок Усть-Луга',\n",
       "       'посёлок Ленинское', 'посёлок Суйда',\n",
       "       'посёлок городского типа Форносово', 'деревня Нижние Осельки',\n",
       "       'посёлок станции Свирь', 'поселок Перово', 'Высоцк',\n",
       "       'поселок Гарболово', 'село Шум', 'поселок Котельский',\n",
       "       'поселок станции Лужайка', 'деревня Большая Пустомержа',\n",
       "       'поселок Красносельское', 'деревня Вахнова Кара', 'деревня Пижма',\n",
       "       'коттеджный поселок Кивеннапа Север', 'поселок Коробицыно',\n",
       "       'поселок Ромашки', 'посёлок Перово', 'деревня Каськово',\n",
       "       'деревня Куровицы', 'посёлок Плоское', 'поселок Сумино',\n",
       "       'поселок городского типа Большая Ижора', 'поселок Кирпичное',\n",
       "       'деревня Ям-Тесово', 'деревня Раздолье', 'деревня Терпилицы',\n",
       "       'поселок городского типа Токсово', 'посёлок Шугозеро',\n",
       "       'деревня Ваганово', 'поселок Пушное', 'садовое товарищество Садко',\n",
       "       'посёлок Усть-Ижора', 'деревня Выскатка',\n",
       "       'городской посёлок Свирьстрой', 'поселок Громово',\n",
       "       'деревня Кисельня', 'посёлок Старая Малукса',\n",
       "       'деревня Трубников Бор', 'поселок Калитино',\n",
       "       'посёлок Высокоключевой', 'садовое товарищество Приладожский',\n",
       "       'посёлок Пансионат Зелёный Бор', 'деревня Ненимяки',\n",
       "       'поселок Пансионат Зелёный Бор', 'деревня Снегирёвка',\n",
       "       'деревня Рапполово', 'деревня Пустынка', 'поселок Рабитицы',\n",
       "       'деревня Большой Сабск', 'деревня Русско', 'деревня Лупполово',\n",
       "       'деревня Большое Рейзино', 'деревня Малая Романовка',\n",
       "       'поселок Дружноселье', 'поселок Пчевжа', 'поселок Володарское',\n",
       "       'деревня Нижняя', 'коттеджный посёлок Лесное', 'деревня Тихковицы',\n",
       "       'деревня Борисова Грива', 'посёлок Дзержинского'], dtype=object)"
      ]
     },
     "execution_count": 20,
     "metadata": {},
     "output_type": "execute_result"
    }
   ],
   "source": [
    "data['locality_name'].unique()"
   ]
  },
  {
   "cell_type": "markdown",
   "metadata": {},
   "source": [
    "Создадим функцию для удаления неявных дубликатов"
   ]
  },
  {
   "cell_type": "code",
   "execution_count": 21,
   "metadata": {},
   "outputs": [],
   "source": [
    "data['locality_name'] = data['locality_name'].str.replace('ё', 'е')\n",
    "to_replace = ['поселок городского типа ', 'поселок ', 'деревня ', 'городской ', 'садовое товарищество ', \n",
    "    'садоводческое некоммерческое товарищество ', 'коттеджный ', 'поселок при железнодорожной станции']\n",
    "for clean in to_replace:\n",
    "  data['locality_name'] = data['locality_name'].str.replace(clean, '')"
   ]
  },
  {
   "cell_type": "code",
   "execution_count": 22,
   "metadata": {},
   "outputs": [
    {
     "data": {
      "text/plain": [
       "310"
      ]
     },
     "execution_count": 22,
     "metadata": {},
     "output_type": "execute_result"
    }
   ],
   "source": [
    "data['locality_name'].nunique()"
   ]
  },
  {
   "cell_type": "markdown",
   "metadata": {},
   "source": [
    "Найдем и устраним редкие и выбивающиеся значения."
   ]
  },
  {
   "cell_type": "code",
   "execution_count": 23,
   "metadata": {
    "scrolled": false
   },
   "outputs": [
    {
     "data": {
      "text/html": [
       "<div>\n",
       "<style scoped>\n",
       "    .dataframe tbody tr th:only-of-type {\n",
       "        vertical-align: middle;\n",
       "    }\n",
       "\n",
       "    .dataframe tbody tr th {\n",
       "        vertical-align: top;\n",
       "    }\n",
       "\n",
       "    .dataframe thead th {\n",
       "        text-align: right;\n",
       "    }\n",
       "</style>\n",
       "<table border=\"1\" class=\"dataframe\">\n",
       "  <thead>\n",
       "    <tr style=\"text-align: right;\">\n",
       "      <th></th>\n",
       "      <th>total_images</th>\n",
       "      <th>last_price</th>\n",
       "      <th>total_area</th>\n",
       "      <th>rooms</th>\n",
       "      <th>ceiling_height</th>\n",
       "      <th>floors_total</th>\n",
       "      <th>living_area</th>\n",
       "      <th>floor</th>\n",
       "      <th>kitchen_area</th>\n",
       "      <th>balcony</th>\n",
       "      <th>airports_nearest</th>\n",
       "      <th>city_сenters_nearest</th>\n",
       "      <th>parks_around3000</th>\n",
       "      <th>parks_nearest</th>\n",
       "      <th>ponds_around3000</th>\n",
       "      <th>ponds_nearest</th>\n",
       "      <th>days_exposition</th>\n",
       "    </tr>\n",
       "  </thead>\n",
       "  <tbody>\n",
       "    <tr>\n",
       "      <th>count</th>\n",
       "      <td>23565.000000</td>\n",
       "      <td>2.356500e+04</td>\n",
       "      <td>23565.000000</td>\n",
       "      <td>23565.000000</td>\n",
       "      <td>23565.000000</td>\n",
       "      <td>23565.000000</td>\n",
       "      <td>23565.000000</td>\n",
       "      <td>23565.000000</td>\n",
       "      <td>23565.000000</td>\n",
       "      <td>23565.000000</td>\n",
       "      <td>18041.000000</td>\n",
       "      <td>18064.000000</td>\n",
       "      <td>23565.000000</td>\n",
       "      <td>8030.000000</td>\n",
       "      <td>23565.000000</td>\n",
       "      <td>9036.000000</td>\n",
       "      <td>20394.000000</td>\n",
       "    </tr>\n",
       "    <tr>\n",
       "      <th>mean</th>\n",
       "      <td>9.878421</td>\n",
       "      <td>6.540058e+06</td>\n",
       "      <td>60.322824</td>\n",
       "      <td>2.070656</td>\n",
       "      <td>2.724530</td>\n",
       "      <td>10.675875</td>\n",
       "      <td>31.773630</td>\n",
       "      <td>5.878124</td>\n",
       "      <td>9.581674</td>\n",
       "      <td>0.593677</td>\n",
       "      <td>28797.082701</td>\n",
       "      <td>14192.656056</td>\n",
       "      <td>0.468831</td>\n",
       "      <td>490.580448</td>\n",
       "      <td>0.589900</td>\n",
       "      <td>518.289509</td>\n",
       "      <td>180.741395</td>\n",
       "    </tr>\n",
       "    <tr>\n",
       "      <th>std</th>\n",
       "      <td>5.681156</td>\n",
       "      <td>1.091093e+07</td>\n",
       "      <td>35.657060</td>\n",
       "      <td>1.078591</td>\n",
       "      <td>0.991026</td>\n",
       "      <td>6.594823</td>\n",
       "      <td>23.047362</td>\n",
       "      <td>4.871485</td>\n",
       "      <td>6.383323</td>\n",
       "      <td>0.960660</td>\n",
       "      <td>12632.499735</td>\n",
       "      <td>8613.348153</td>\n",
       "      <td>0.748403</td>\n",
       "      <td>341.572956</td>\n",
       "      <td>0.883966</td>\n",
       "      <td>278.009558</td>\n",
       "      <td>219.732782</td>\n",
       "    </tr>\n",
       "    <tr>\n",
       "      <th>min</th>\n",
       "      <td>0.000000</td>\n",
       "      <td>1.219000e+04</td>\n",
       "      <td>12.000000</td>\n",
       "      <td>0.000000</td>\n",
       "      <td>1.000000</td>\n",
       "      <td>1.000000</td>\n",
       "      <td>0.576923</td>\n",
       "      <td>1.000000</td>\n",
       "      <td>0.175000</td>\n",
       "      <td>0.000000</td>\n",
       "      <td>0.000000</td>\n",
       "      <td>181.000000</td>\n",
       "      <td>0.000000</td>\n",
       "      <td>1.000000</td>\n",
       "      <td>0.000000</td>\n",
       "      <td>13.000000</td>\n",
       "      <td>1.000000</td>\n",
       "    </tr>\n",
       "    <tr>\n",
       "      <th>25%</th>\n",
       "      <td>6.000000</td>\n",
       "      <td>3.400000e+06</td>\n",
       "      <td>40.000000</td>\n",
       "      <td>1.000000</td>\n",
       "      <td>2.600000</td>\n",
       "      <td>5.000000</td>\n",
       "      <td>17.800000</td>\n",
       "      <td>2.000000</td>\n",
       "      <td>6.300000</td>\n",
       "      <td>0.000000</td>\n",
       "      <td>18565.000000</td>\n",
       "      <td>9238.000000</td>\n",
       "      <td>0.000000</td>\n",
       "      <td>288.000000</td>\n",
       "      <td>0.000000</td>\n",
       "      <td>293.000000</td>\n",
       "      <td>45.000000</td>\n",
       "    </tr>\n",
       "    <tr>\n",
       "      <th>50%</th>\n",
       "      <td>9.000000</td>\n",
       "      <td>4.646000e+06</td>\n",
       "      <td>52.000000</td>\n",
       "      <td>2.000000</td>\n",
       "      <td>2.650000</td>\n",
       "      <td>9.000000</td>\n",
       "      <td>29.000000</td>\n",
       "      <td>4.000000</td>\n",
       "      <td>9.000000</td>\n",
       "      <td>0.000000</td>\n",
       "      <td>26757.000000</td>\n",
       "      <td>13096.500000</td>\n",
       "      <td>0.000000</td>\n",
       "      <td>455.000000</td>\n",
       "      <td>0.000000</td>\n",
       "      <td>503.000000</td>\n",
       "      <td>95.000000</td>\n",
       "    </tr>\n",
       "    <tr>\n",
       "      <th>75%</th>\n",
       "      <td>14.000000</td>\n",
       "      <td>6.790000e+06</td>\n",
       "      <td>69.700000</td>\n",
       "      <td>3.000000</td>\n",
       "      <td>2.700000</td>\n",
       "      <td>16.000000</td>\n",
       "      <td>41.100000</td>\n",
       "      <td>8.000000</td>\n",
       "      <td>11.410000</td>\n",
       "      <td>1.000000</td>\n",
       "      <td>37273.000000</td>\n",
       "      <td>16285.000000</td>\n",
       "      <td>1.000000</td>\n",
       "      <td>612.000000</td>\n",
       "      <td>1.000000</td>\n",
       "      <td>730.000000</td>\n",
       "      <td>231.000000</td>\n",
       "    </tr>\n",
       "    <tr>\n",
       "      <th>max</th>\n",
       "      <td>50.000000</td>\n",
       "      <td>7.630000e+08</td>\n",
       "      <td>900.000000</td>\n",
       "      <td>19.000000</td>\n",
       "      <td>100.000000</td>\n",
       "      <td>60.000000</td>\n",
       "      <td>409.700000</td>\n",
       "      <td>33.000000</td>\n",
       "      <td>112.000000</td>\n",
       "      <td>5.000000</td>\n",
       "      <td>84869.000000</td>\n",
       "      <td>65968.000000</td>\n",
       "      <td>3.000000</td>\n",
       "      <td>3190.000000</td>\n",
       "      <td>3.000000</td>\n",
       "      <td>1344.000000</td>\n",
       "      <td>1580.000000</td>\n",
       "    </tr>\n",
       "  </tbody>\n",
       "</table>\n",
       "</div>"
      ],
      "text/plain": [
       "       total_images    last_price    total_area         rooms  ceiling_height  \\\n",
       "count  23565.000000  2.356500e+04  23565.000000  23565.000000    23565.000000   \n",
       "mean       9.878421  6.540058e+06     60.322824      2.070656        2.724530   \n",
       "std        5.681156  1.091093e+07     35.657060      1.078591        0.991026   \n",
       "min        0.000000  1.219000e+04     12.000000      0.000000        1.000000   \n",
       "25%        6.000000  3.400000e+06     40.000000      1.000000        2.600000   \n",
       "50%        9.000000  4.646000e+06     52.000000      2.000000        2.650000   \n",
       "75%       14.000000  6.790000e+06     69.700000      3.000000        2.700000   \n",
       "max       50.000000  7.630000e+08    900.000000     19.000000      100.000000   \n",
       "\n",
       "       floors_total   living_area         floor  kitchen_area       balcony  \\\n",
       "count  23565.000000  23565.000000  23565.000000  23565.000000  23565.000000   \n",
       "mean      10.675875     31.773630      5.878124      9.581674      0.593677   \n",
       "std        6.594823     23.047362      4.871485      6.383323      0.960660   \n",
       "min        1.000000      0.576923      1.000000      0.175000      0.000000   \n",
       "25%        5.000000     17.800000      2.000000      6.300000      0.000000   \n",
       "50%        9.000000     29.000000      4.000000      9.000000      0.000000   \n",
       "75%       16.000000     41.100000      8.000000     11.410000      1.000000   \n",
       "max       60.000000    409.700000     33.000000    112.000000      5.000000   \n",
       "\n",
       "       airports_nearest  city_сenters_nearest  parks_around3000  \\\n",
       "count      18041.000000          18064.000000      23565.000000   \n",
       "mean       28797.082701          14192.656056          0.468831   \n",
       "std        12632.499735           8613.348153          0.748403   \n",
       "min            0.000000            181.000000          0.000000   \n",
       "25%        18565.000000           9238.000000          0.000000   \n",
       "50%        26757.000000          13096.500000          0.000000   \n",
       "75%        37273.000000          16285.000000          1.000000   \n",
       "max        84869.000000          65968.000000          3.000000   \n",
       "\n",
       "       parks_nearest  ponds_around3000  ponds_nearest  days_exposition  \n",
       "count    8030.000000      23565.000000    9036.000000     20394.000000  \n",
       "mean      490.580448          0.589900     518.289509       180.741395  \n",
       "std       341.572956          0.883966     278.009558       219.732782  \n",
       "min         1.000000          0.000000      13.000000         1.000000  \n",
       "25%       288.000000          0.000000     293.000000        45.000000  \n",
       "50%       455.000000          0.000000     503.000000        95.000000  \n",
       "75%       612.000000          1.000000     730.000000       231.000000  \n",
       "max      3190.000000          3.000000    1344.000000      1580.000000  "
      ]
     },
     "execution_count": 23,
     "metadata": {},
     "output_type": "execute_result"
    }
   ],
   "source": [
    "data.describe()"
   ]
  },
  {
   "cell_type": "markdown",
   "metadata": {},
   "source": [
    "Изучим уникальные значение в столбце 'ceiling_height'"
   ]
  },
  {
   "cell_type": "code",
   "execution_count": 24,
   "metadata": {},
   "outputs": [
    {
     "data": {
      "text/plain": [
       "count    23565.000000\n",
       "mean         2.724530\n",
       "std          0.991026\n",
       "min          1.000000\n",
       "25%          2.600000\n",
       "50%          2.650000\n",
       "75%          2.700000\n",
       "max        100.000000\n",
       "Name: ceiling_height, dtype: float64"
      ]
     },
     "execution_count": 24,
     "metadata": {},
     "output_type": "execute_result"
    }
   ],
   "source": [
    "data['ceiling_height'].describe()"
   ]
  },
  {
   "cell_type": "code",
   "execution_count": 25,
   "metadata": {},
   "outputs": [
    {
     "data": {
      "text/plain": [
       "array([  2.7 ,   2.65,   3.03,   2.5 ,   2.67,   2.56,   3.05,   2.75,\n",
       "         2.6 ,   2.9 ,   2.8 ,   2.55,   3.  ,   3.2 ,   2.61,   3.25,\n",
       "         3.45,   2.77,   2.85,   2.64,   2.57,   4.15,   3.5 ,   3.3 ,\n",
       "         2.71,   4.  ,   2.47,   2.73,   2.84,   3.1 ,   2.34,   3.4 ,\n",
       "         3.06,   2.72,   2.54,   2.51,   2.78,   2.76,  25.  ,   2.58,\n",
       "         3.7 ,   2.52,   5.2 ,   2.87,   2.66,   2.59,   2.  ,   2.45,\n",
       "         3.6 ,   2.92,   3.11,   3.13,   3.8 ,   3.15,   3.55,   3.16,\n",
       "         3.62,   3.12,   2.53,   2.74,   2.96,   2.46,   5.3 ,   5.  ,\n",
       "         2.79,   2.95,   4.06,   2.94,   3.82,   3.54,   3.53,   2.83,\n",
       "         4.7 ,   2.4 ,   3.38,   3.01,   5.6 ,   3.65,   3.9 ,   3.18,\n",
       "         3.35,   2.3 ,   3.57,   2.48,   2.62,   2.82,   3.98,   2.63,\n",
       "         3.83,   3.52,   3.95,   3.75,   2.88,   3.67,   3.87,   3.66,\n",
       "         3.85,   3.86,   4.19,   3.24,   4.8 ,   4.5 ,   4.2 ,   3.36,\n",
       "        32.  ,   3.08,   3.68,   3.07,   3.37,   3.09,   8.  ,   3.26,\n",
       "         3.34,   2.81,   3.44,   2.97,   3.14,   4.37,   2.68,   3.22,\n",
       "         3.27,  27.  ,   4.1 ,   2.93,   3.46,  24.  ,   3.47,   3.33,\n",
       "         3.63,   3.32,  26.  ,   1.2 ,   8.3 ,   2.98,   2.86,   3.17,\n",
       "         4.4 ,   3.28,   3.04,   4.45,   5.5 ,   3.84,   3.23,   3.02,\n",
       "         3.21,   3.43,   3.78,   4.3 ,   3.39,   2.69,   3.31,   4.65,\n",
       "         3.56,   2.2 ,   3.51,   3.93,   3.42,   2.99,   3.49,  14.  ,\n",
       "         4.14,   2.91,   3.88,   1.75,   4.25,   3.29,  20.  ,   2.25,\n",
       "         3.76,   3.69,   6.  ,  22.6 ,   2.89,   3.58,   5.8 ,  27.5 ,\n",
       "         2.49,   4.9 ,   3.48,  10.3 ,   1.  , 100.  ,   3.59])"
      ]
     },
     "execution_count": 25,
     "metadata": {},
     "output_type": "execute_result"
    }
   ],
   "source": [
    "data['ceiling_height'].unique()"
   ]
  },
  {
   "cell_type": "markdown",
   "metadata": {},
   "source": [
    "Из данных видно,что некоторые значения гораздо больше,чем другие"
   ]
  },
  {
   "cell_type": "markdown",
   "metadata": {},
   "source": [
    "Допустим,что высота потолков не может быыть больше 20 , такие значения можно разделить на 2"
   ]
  },
  {
   "cell_type": "code",
   "execution_count": 26,
   "metadata": {},
   "outputs": [
    {
     "data": {
      "text/plain": [
       "array([ 2.7 ,  2.65,  3.03,  2.5 ,  2.67,  2.56,  3.05,  2.75,  2.6 ,\n",
       "        2.9 ,  2.8 ,  2.55,  3.  ,  3.2 ,  2.61,  3.25,  3.45,  2.77,\n",
       "        2.85,  2.64,  2.57,  4.15,  3.5 ,  3.3 ,  2.71,  4.  ,  2.47,\n",
       "        2.73,  2.84,  3.1 ,  2.34,  3.4 ,  3.06,  2.72,  2.54,  2.51,\n",
       "        2.78,  2.76,  2.58,  3.7 ,  2.52,  5.2 ,  2.87,  2.66,  2.59,\n",
       "        2.  ,  2.45,  3.6 ,  2.92,  3.11,  3.13,  3.8 ,  3.15,  3.55,\n",
       "        3.16,  3.62,  3.12,  2.53,  2.74,  2.96,  2.46,  5.3 ,  5.  ,\n",
       "        2.79,  2.95,  4.06,  2.94,  3.82,  3.54,  3.53,  2.83,  4.7 ,\n",
       "        2.4 ,  3.38,  3.01,  5.6 ,  3.65,  3.9 ,  3.18,  3.35,  2.3 ,\n",
       "        3.57,  2.48,  2.62,  2.82,  3.98,  2.63,  3.83,  3.52,  3.95,\n",
       "        3.75,  2.88,  3.67,  3.87,  3.66,  3.85,  3.86,  4.19,  3.24,\n",
       "        4.8 ,  4.5 ,  4.2 ,  3.36,  3.08,  3.68,  3.07,  3.37,  3.09,\n",
       "        8.  ,  3.26,  3.34,  2.81,  3.44,  2.97,  3.14,  4.37,  2.68,\n",
       "        3.22,  3.27,  4.1 ,  2.93,  3.46,  3.47,  3.33,  3.63,  3.32,\n",
       "        1.2 ,  8.3 ,  2.98,  2.86,  3.17,  4.4 ,  3.28,  3.04,  4.45,\n",
       "        5.5 ,  3.84,  3.23,  3.02,  3.21,  3.43,  3.78,  4.3 ,  3.39,\n",
       "        2.69,  3.31,  4.65,  3.56,  2.2 ,  3.51,  3.93,  3.42,  2.99,\n",
       "        3.49, 14.  ,  4.14,  2.91,  3.88,  1.75,  4.25,  3.29, 20.  ,\n",
       "        2.25,  3.76,  3.69,  6.  ,  2.26,  2.89,  3.58,  5.8 ,  2.49,\n",
       "        4.9 ,  3.48, 10.3 ,  1.  , 10.  ,  3.59])"
      ]
     },
     "execution_count": 26,
     "metadata": {},
     "output_type": "execute_result"
    }
   ],
   "source": [
    "data.loc[data['ceiling_height']>20, 'ceiling_height'] = data.loc[data['ceiling_height']>20, 'ceiling_height']/10\n",
    "data['ceiling_height'].unique()"
   ]
  },
  {
   "cell_type": "markdown",
   "metadata": {},
   "source": [
    "Высота потолков меньше 2 скорее всего тоже ошибки, их можно исключить"
   ]
  },
  {
   "cell_type": "code",
   "execution_count": 27,
   "metadata": {},
   "outputs": [
    {
     "data": {
      "text/plain": [
       "array([ 2.7 ,  2.65,  3.03,  2.5 ,  2.67,  2.56,  3.05,  2.75,  2.6 ,\n",
       "        2.9 ,  2.8 ,  2.55,  3.  ,  3.2 ,  2.61,  3.25,  3.45,  2.77,\n",
       "        2.85,  2.64,  2.57,  4.15,  3.5 ,  3.3 ,  2.71,  4.  ,  2.47,\n",
       "        2.73,  2.84,  3.1 ,  2.34,  3.4 ,  3.06,  2.72,  2.54,  2.51,\n",
       "        2.78,  2.76,  2.58,  3.7 ,  2.52,  5.2 ,  2.87,  2.66,  2.59,\n",
       "        2.45,  3.6 ,  2.92,  3.11,  3.13,  3.8 ,  3.15,  3.55,  3.16,\n",
       "        3.62,  3.12,  2.53,  2.74,  2.96,  2.46,  5.3 ,  5.  ,  2.79,\n",
       "        2.95,  4.06,  2.94,  3.82,  3.54,  3.53,  2.83,  4.7 ,  2.4 ,\n",
       "        3.38,  3.01,  5.6 ,  3.65,  3.9 ,  3.18,  3.35,  2.3 ,  3.57,\n",
       "        2.48,  2.62,  2.82,  3.98,  2.63,  3.83,  3.52,  3.95,  3.75,\n",
       "        2.88,  3.67,  3.87,  3.66,  3.85,  3.86,  4.19,  3.24,  4.8 ,\n",
       "        4.5 ,  4.2 ,  3.36,  3.08,  3.68,  3.07,  3.37,  3.09,  8.  ,\n",
       "        3.26,  3.34,  2.81,  3.44,  2.97,  3.14,  4.37,  2.68,  3.22,\n",
       "        3.27,  4.1 ,  2.93,  3.46,  3.47,  3.33,  3.63,  3.32,  8.3 ,\n",
       "        2.98,  2.86,  3.17,  4.4 ,  3.28,  3.04,  4.45,  5.5 ,  3.84,\n",
       "        3.23,  3.02,  3.21,  3.43,  3.78,  4.3 ,  3.39,  2.69,  3.31,\n",
       "        4.65,  3.56,  2.2 ,  3.51,  3.93,  3.42,  2.99,  3.49, 14.  ,\n",
       "        4.14,  2.91,  3.88,  4.25,  3.29, 20.  ,  2.25,  3.76,  3.69,\n",
       "        6.  ,  2.26,  2.89,  3.58,  5.8 ,  2.49,  4.9 ,  3.48, 10.3 ,\n",
       "       10.  ,  3.59])"
      ]
     },
     "execution_count": 27,
     "metadata": {},
     "output_type": "execute_result"
    }
   ],
   "source": [
    "data = data.loc[data['ceiling_height']>2]\n",
    "data['ceiling_height'].unique()"
   ]
  },
  {
   "cell_type": "markdown",
   "metadata": {},
   "source": [
    "Продолжим искать аномалии в столбце 'last_price'"
   ]
  },
  {
   "cell_type": "code",
   "execution_count": 28,
   "metadata": {},
   "outputs": [
    {
     "data": {
      "text/plain": [
       "count    2.355100e+04\n",
       "mean     6.541901e+06\n",
       "std      1.091371e+07\n",
       "min      1.219000e+04\n",
       "25%      3.402500e+06\n",
       "50%      4.650000e+06\n",
       "75%      6.794500e+06\n",
       "max      7.630000e+08\n",
       "Name: last_price, dtype: float64"
      ]
     },
     "execution_count": 28,
     "metadata": {},
     "output_type": "execute_result"
    }
   ],
   "source": [
    "data['last_price'].describe()"
   ]
  },
  {
   "cell_type": "markdown",
   "metadata": {},
   "source": [
    "Можно заметить ,что минимальное значение очень маленькое. Проврим его"
   ]
  },
  {
   "cell_type": "code",
   "execution_count": 29,
   "metadata": {},
   "outputs": [
    {
     "data": {
      "text/html": [
       "<div>\n",
       "<style scoped>\n",
       "    .dataframe tbody tr th:only-of-type {\n",
       "        vertical-align: middle;\n",
       "    }\n",
       "\n",
       "    .dataframe tbody tr th {\n",
       "        vertical-align: top;\n",
       "    }\n",
       "\n",
       "    .dataframe thead th {\n",
       "        text-align: right;\n",
       "    }\n",
       "</style>\n",
       "<table border=\"1\" class=\"dataframe\">\n",
       "  <thead>\n",
       "    <tr style=\"text-align: right;\">\n",
       "      <th></th>\n",
       "      <th>total_images</th>\n",
       "      <th>last_price</th>\n",
       "      <th>total_area</th>\n",
       "      <th>first_day_exposition</th>\n",
       "      <th>rooms</th>\n",
       "      <th>ceiling_height</th>\n",
       "      <th>floors_total</th>\n",
       "      <th>living_area</th>\n",
       "      <th>floor</th>\n",
       "      <th>is_apartment</th>\n",
       "      <th>studio</th>\n",
       "      <th>open_plan</th>\n",
       "      <th>kitchen_area</th>\n",
       "      <th>balcony</th>\n",
       "      <th>locality_name</th>\n",
       "      <th>airports_nearest</th>\n",
       "      <th>city_сenters_nearest</th>\n",
       "      <th>parks_around3000</th>\n",
       "      <th>parks_nearest</th>\n",
       "      <th>ponds_around3000</th>\n",
       "      <th>ponds_nearest</th>\n",
       "      <th>days_exposition</th>\n",
       "    </tr>\n",
       "  </thead>\n",
       "  <tbody>\n",
       "    <tr>\n",
       "      <th>8793</th>\n",
       "      <td>7</td>\n",
       "      <td>12190.0</td>\n",
       "      <td>109.0</td>\n",
       "      <td>2019-03-20</td>\n",
       "      <td>2</td>\n",
       "      <td>2.75</td>\n",
       "      <td>25.0</td>\n",
       "      <td>32.0</td>\n",
       "      <td>25</td>\n",
       "      <td>False</td>\n",
       "      <td>False</td>\n",
       "      <td>False</td>\n",
       "      <td>40.5</td>\n",
       "      <td>0</td>\n",
       "      <td>Санкт-Петербург</td>\n",
       "      <td>36421.0</td>\n",
       "      <td>9176.0</td>\n",
       "      <td>1.0</td>\n",
       "      <td>805.0</td>\n",
       "      <td>0.0</td>\n",
       "      <td>NaN</td>\n",
       "      <td>8.0</td>\n",
       "    </tr>\n",
       "  </tbody>\n",
       "</table>\n",
       "</div>"
      ],
      "text/plain": [
       "      total_images  last_price  total_area first_day_exposition  rooms  \\\n",
       "8793             7     12190.0       109.0           2019-03-20      2   \n",
       "\n",
       "      ceiling_height  floors_total  living_area  floor  is_apartment  studio  \\\n",
       "8793            2.75          25.0         32.0     25         False   False   \n",
       "\n",
       "      open_plan  kitchen_area  balcony    locality_name  airports_nearest  \\\n",
       "8793      False          40.5        0  Санкт-Петербург           36421.0   \n",
       "\n",
       "      city_сenters_nearest  parks_around3000  parks_nearest  ponds_around3000  \\\n",
       "8793                9176.0               1.0          805.0               0.0   \n",
       "\n",
       "      ponds_nearest  days_exposition  \n",
       "8793            NaN              8.0  "
      ]
     },
     "execution_count": 29,
     "metadata": {},
     "output_type": "execute_result"
    }
   ],
   "source": [
    "data.query('last_price == 1.219000e+04')"
   ]
  },
  {
   "cell_type": "markdown",
   "metadata": {},
   "source": [
    "Избавимся от этой строки , так как тут явная ошибка , квартира такой площади не может стоить так мало."
   ]
  },
  {
   "cell_type": "code",
   "execution_count": 30,
   "metadata": {
    "scrolled": false
   },
   "outputs": [],
   "source": [
    "data = data[data['last_price'] != 1.219000e+04]"
   ]
  },
  {
   "cell_type": "markdown",
   "metadata": {},
   "source": [
    "Проверим этот столбец на выбросы ."
   ]
  },
  {
   "cell_type": "code",
   "execution_count": 31,
   "metadata": {},
   "outputs": [
    {
     "data": {
      "text/plain": [
       "array([[<AxesSubplot:title={'center':'last_price'}>]], dtype=object)"
      ]
     },
     "execution_count": 31,
     "metadata": {},
     "output_type": "execute_result"
    },
    {
     "data": {
      "image/png": "[encoded data removed]",
      "text/plain": [
       "<Figure size 432x288 with 1 Axes>"
      ]
     },
     "metadata": {
      "needs_background": "light"
     },
     "output_type": "display_data"
    }
   ],
   "source": [
    "data.hist('last_price', bins = 30)"
   ]
  },
  {
   "cell_type": "code",
   "execution_count": 32,
   "metadata": {
    "scrolled": true
   },
   "outputs": [
    {
     "data": {
      "text/plain": [
       "<AxesSubplot:>"
      ]
     },
     "execution_count": 32,
     "metadata": {},
     "output_type": "execute_result"
    },
    {
     "data": {
      "image/png": "[encoded data removed]",
      "text/plain": [
       "<Figure size 432x288 with 1 Axes>"
      ]
     },
     "metadata": {
      "needs_background": "light"
     },
     "output_type": "display_data"
    }
   ],
   "source": [
    "data.boxplot('last_price')"
   ]
  },
  {
   "cell_type": "code",
   "execution_count": 33,
   "metadata": {},
   "outputs": [
    {
     "data": {
      "text/plain": [
       "<AxesSubplot:>"
      ]
     },
     "execution_count": 33,
     "metadata": {},
     "output_type": "execute_result"
    },
    {
     "data": {
      "image/png": "[encoded data removed]",
      "text/plain": [
       "<Figure size 432x288 with 1 Axes>"
      ]
     },
     "metadata": {
      "needs_background": "light"
     },
     "output_type": "display_data"
    }
   ],
   "source": [
    "data.boxplot('last_price', showfliers=False)"
   ]
  },
  {
   "cell_type": "markdown",
   "metadata": {},
   "source": [
    "Знаения больше 12 000 000 это выбросы"
   ]
  },
  {
   "cell_type": "code",
   "execution_count": 34,
   "metadata": {},
   "outputs": [],
   "source": [
    "data = data.query('last_price < 12000000')"
   ]
  },
  {
   "cell_type": "markdown",
   "metadata": {},
   "source": [
    "Затем проверим столбец 'living_area'"
   ]
  },
  {
   "cell_type": "code",
   "execution_count": 35,
   "metadata": {},
   "outputs": [
    {
     "data": {
      "text/plain": [
       "count    21568.000000\n",
       "mean        28.325029\n",
       "std         15.320309\n",
       "min          0.576923\n",
       "25%         17.600000\n",
       "50%         28.000000\n",
       "75%         38.000000\n",
       "max        160.000000\n",
       "Name: living_area, dtype: float64"
      ]
     },
     "execution_count": 35,
     "metadata": {},
     "output_type": "execute_result"
    }
   ],
   "source": [
    "data['living_area'].describe()"
   ]
  },
  {
   "cell_type": "markdown",
   "metadata": {},
   "source": [
    "Проверим минимальное значение"
   ]
  },
  {
   "cell_type": "code",
   "execution_count": 36,
   "metadata": {},
   "outputs": [
    {
     "data": {
      "text/html": [
       "<div>\n",
       "<style scoped>\n",
       "    .dataframe tbody tr th:only-of-type {\n",
       "        vertical-align: middle;\n",
       "    }\n",
       "\n",
       "    .dataframe tbody tr th {\n",
       "        vertical-align: top;\n",
       "    }\n",
       "\n",
       "    .dataframe thead th {\n",
       "        text-align: right;\n",
       "    }\n",
       "</style>\n",
       "<table border=\"1\" class=\"dataframe\">\n",
       "  <thead>\n",
       "    <tr style=\"text-align: right;\">\n",
       "      <th></th>\n",
       "      <th>total_images</th>\n",
       "      <th>last_price</th>\n",
       "      <th>total_area</th>\n",
       "      <th>first_day_exposition</th>\n",
       "      <th>rooms</th>\n",
       "      <th>ceiling_height</th>\n",
       "      <th>floors_total</th>\n",
       "      <th>living_area</th>\n",
       "      <th>floor</th>\n",
       "      <th>is_apartment</th>\n",
       "      <th>studio</th>\n",
       "      <th>open_plan</th>\n",
       "      <th>kitchen_area</th>\n",
       "      <th>balcony</th>\n",
       "      <th>locality_name</th>\n",
       "      <th>airports_nearest</th>\n",
       "      <th>city_сenters_nearest</th>\n",
       "      <th>parks_around3000</th>\n",
       "      <th>parks_nearest</th>\n",
       "      <th>ponds_around3000</th>\n",
       "      <th>ponds_nearest</th>\n",
       "      <th>days_exposition</th>\n",
       "    </tr>\n",
       "  </thead>\n",
       "  <tbody>\n",
       "    <tr>\n",
       "      <th>13915</th>\n",
       "      <td>20</td>\n",
       "      <td>6350000.0</td>\n",
       "      <td>52.0</td>\n",
       "      <td>2018-02-06</td>\n",
       "      <td>2</td>\n",
       "      <td>3.00</td>\n",
       "      <td>6.0</td>\n",
       "      <td>2.0</td>\n",
       "      <td>2</td>\n",
       "      <td>False</td>\n",
       "      <td>False</td>\n",
       "      <td>False</td>\n",
       "      <td>9.000</td>\n",
       "      <td>0</td>\n",
       "      <td>Санкт-Петербург</td>\n",
       "      <td>32453.0</td>\n",
       "      <td>6521.0</td>\n",
       "      <td>0.0</td>\n",
       "      <td>NaN</td>\n",
       "      <td>1.0</td>\n",
       "      <td>1012.0</td>\n",
       "      <td>91.0</td>\n",
       "    </tr>\n",
       "    <tr>\n",
       "      <th>21758</th>\n",
       "      <td>0</td>\n",
       "      <td>2330000.0</td>\n",
       "      <td>23.0</td>\n",
       "      <td>2018-01-01</td>\n",
       "      <td>0</td>\n",
       "      <td>2.65</td>\n",
       "      <td>24.0</td>\n",
       "      <td>2.0</td>\n",
       "      <td>22</td>\n",
       "      <td>False</td>\n",
       "      <td>True</td>\n",
       "      <td>False</td>\n",
       "      <td>0.175</td>\n",
       "      <td>0</td>\n",
       "      <td>Мурино</td>\n",
       "      <td>NaN</td>\n",
       "      <td>NaN</td>\n",
       "      <td>0.0</td>\n",
       "      <td>NaN</td>\n",
       "      <td>0.0</td>\n",
       "      <td>NaN</td>\n",
       "      <td>66.0</td>\n",
       "    </tr>\n",
       "  </tbody>\n",
       "</table>\n",
       "</div>"
      ],
      "text/plain": [
       "       total_images  last_price  total_area first_day_exposition  rooms  \\\n",
       "13915            20   6350000.0        52.0           2018-02-06      2   \n",
       "21758             0   2330000.0        23.0           2018-01-01      0   \n",
       "\n",
       "       ceiling_height  floors_total  living_area  floor  is_apartment  studio  \\\n",
       "13915            3.00           6.0          2.0      2         False   False   \n",
       "21758            2.65          24.0          2.0     22         False    True   \n",
       "\n",
       "       open_plan  kitchen_area  balcony    locality_name  airports_nearest  \\\n",
       "13915      False         9.000        0  Санкт-Петербург           32453.0   \n",
       "21758      False         0.175        0           Мурино               NaN   \n",
       "\n",
       "       city_сenters_nearest  parks_around3000  parks_nearest  \\\n",
       "13915                6521.0               0.0            NaN   \n",
       "21758                   NaN               0.0            NaN   \n",
       "\n",
       "       ponds_around3000  ponds_nearest  days_exposition  \n",
       "13915               1.0         1012.0             91.0  \n",
       "21758               0.0            NaN             66.0  "
      ]
     },
     "execution_count": 36,
     "metadata": {},
     "output_type": "execute_result"
    }
   ],
   "source": [
    "data.query('living_area == 2')"
   ]
  },
  {
   "cell_type": "markdown",
   "metadata": {},
   "source": [
    "Такие данные не вызывают сомнения."
   ]
  },
  {
   "cell_type": "markdown",
   "metadata": {},
   "source": [
    "Проверим столбец 'rooms' на наличие аномалий"
   ]
  },
  {
   "cell_type": "code",
   "execution_count": 37,
   "metadata": {
    "scrolled": true
   },
   "outputs": [
    {
     "data": {
      "text/plain": [
       "count    21568.000000\n",
       "mean         1.933652\n",
       "std          0.914484\n",
       "min          0.000000\n",
       "25%          1.000000\n",
       "50%          2.000000\n",
       "75%          3.000000\n",
       "max          7.000000\n",
       "Name: rooms, dtype: float64"
      ]
     },
     "execution_count": 37,
     "metadata": {},
     "output_type": "execute_result"
    }
   ],
   "source": [
    "data['rooms'].describe()"
   ]
  },
  {
   "cell_type": "code",
   "execution_count": 38,
   "metadata": {},
   "outputs": [
    {
     "data": {
      "text/plain": [
       "<AxesSubplot:>"
      ]
     },
     "execution_count": 38,
     "metadata": {},
     "output_type": "execute_result"
    },
    {
     "data": {
      "image/png": "[encoded data removed]",
      "text/plain": [
       "<Figure size 432x288 with 1 Axes>"
      ]
     },
     "metadata": {
      "needs_background": "light"
     },
     "output_type": "display_data"
    }
   ],
   "source": [
    "data.boxplot('rooms')"
   ]
  },
  {
   "cell_type": "markdown",
   "metadata": {},
   "source": [
    "Значения больше 7 это выбросы "
   ]
  },
  {
   "cell_type": "code",
   "execution_count": 39,
   "metadata": {},
   "outputs": [],
   "source": [
    "data = data.query('rooms < 7')"
   ]
  },
  {
   "cell_type": "code",
   "execution_count": 40,
   "metadata": {},
   "outputs": [
    {
     "data": {
      "text/plain": [
       "<AxesSubplot:>"
      ]
     },
     "execution_count": 40,
     "metadata": {},
     "output_type": "execute_result"
    },
    {
     "data": {
      "image/png": "[encoded data removed]",
      "text/plain": [
       "<Figure size 432x288 with 1 Axes>"
      ]
     },
     "metadata": {
      "needs_background": "light"
     },
     "output_type": "display_data"
    }
   ],
   "source": [
    "data.boxplot('rooms',showfliers=False )"
   ]
  },
  {
   "cell_type": "code",
   "execution_count": 41,
   "metadata": {},
   "outputs": [
    {
     "data": {
      "text/plain": [
       "array([[<AxesSubplot:title={'center':'rooms'}>]], dtype=object)"
      ]
     },
     "execution_count": 41,
     "metadata": {},
     "output_type": "execute_result"
    },
    {
     "data": {
      "image/png": "[encoded data removed]",
      "text/plain": [
       "<Figure size 432x288 with 1 Axes>"
      ]
     },
     "metadata": {
      "needs_background": "light"
     },
     "output_type": "display_data"
    }
   ],
   "source": [
    "data.hist('rooms', range=(0,6), bins = 50)"
   ]
  },
  {
   "cell_type": "code",
   "execution_count": 42,
   "metadata": {},
   "outputs": [
    {
     "data": {
      "text/html": [
       "<div>\n",
       "<style scoped>\n",
       "    .dataframe tbody tr th:only-of-type {\n",
       "        vertical-align: middle;\n",
       "    }\n",
       "\n",
       "    .dataframe tbody tr th {\n",
       "        vertical-align: top;\n",
       "    }\n",
       "\n",
       "    .dataframe thead th {\n",
       "        text-align: right;\n",
       "    }\n",
       "</style>\n",
       "<table border=\"1\" class=\"dataframe\">\n",
       "  <thead>\n",
       "    <tr style=\"text-align: right;\">\n",
       "      <th></th>\n",
       "      <th>total_images</th>\n",
       "      <th>last_price</th>\n",
       "      <th>total_area</th>\n",
       "      <th>first_day_exposition</th>\n",
       "      <th>rooms</th>\n",
       "      <th>ceiling_height</th>\n",
       "      <th>floors_total</th>\n",
       "      <th>living_area</th>\n",
       "      <th>floor</th>\n",
       "      <th>is_apartment</th>\n",
       "      <th>studio</th>\n",
       "      <th>open_plan</th>\n",
       "      <th>kitchen_area</th>\n",
       "      <th>balcony</th>\n",
       "      <th>locality_name</th>\n",
       "      <th>airports_nearest</th>\n",
       "      <th>city_сenters_nearest</th>\n",
       "      <th>parks_around3000</th>\n",
       "      <th>parks_nearest</th>\n",
       "      <th>ponds_around3000</th>\n",
       "      <th>ponds_nearest</th>\n",
       "      <th>days_exposition</th>\n",
       "    </tr>\n",
       "  </thead>\n",
       "  <tbody>\n",
       "    <tr>\n",
       "      <th>144</th>\n",
       "      <td>1</td>\n",
       "      <td>2450000.0</td>\n",
       "      <td>27.00</td>\n",
       "      <td>2017-03-30</td>\n",
       "      <td>0</td>\n",
       "      <td>2.65</td>\n",
       "      <td>24.0</td>\n",
       "      <td>15.500000</td>\n",
       "      <td>2</td>\n",
       "      <td>False</td>\n",
       "      <td>True</td>\n",
       "      <td>False</td>\n",
       "      <td>0.175</td>\n",
       "      <td>2</td>\n",
       "      <td>Мурино</td>\n",
       "      <td>NaN</td>\n",
       "      <td>NaN</td>\n",
       "      <td>0.0</td>\n",
       "      <td>NaN</td>\n",
       "      <td>0.0</td>\n",
       "      <td>NaN</td>\n",
       "      <td>181.0</td>\n",
       "    </tr>\n",
       "    <tr>\n",
       "      <th>349</th>\n",
       "      <td>4</td>\n",
       "      <td>2320000.0</td>\n",
       "      <td>25.00</td>\n",
       "      <td>2017-09-27</td>\n",
       "      <td>0</td>\n",
       "      <td>2.65</td>\n",
       "      <td>14.0</td>\n",
       "      <td>17.000000</td>\n",
       "      <td>1</td>\n",
       "      <td>False</td>\n",
       "      <td>False</td>\n",
       "      <td>True</td>\n",
       "      <td>0.175</td>\n",
       "      <td>0</td>\n",
       "      <td>Кудрово</td>\n",
       "      <td>NaN</td>\n",
       "      <td>NaN</td>\n",
       "      <td>0.0</td>\n",
       "      <td>NaN</td>\n",
       "      <td>0.0</td>\n",
       "      <td>NaN</td>\n",
       "      <td>45.0</td>\n",
       "    </tr>\n",
       "    <tr>\n",
       "      <th>440</th>\n",
       "      <td>8</td>\n",
       "      <td>2480000.0</td>\n",
       "      <td>27.11</td>\n",
       "      <td>2018-03-12</td>\n",
       "      <td>0</td>\n",
       "      <td>2.65</td>\n",
       "      <td>17.0</td>\n",
       "      <td>24.750000</td>\n",
       "      <td>4</td>\n",
       "      <td>False</td>\n",
       "      <td>True</td>\n",
       "      <td>False</td>\n",
       "      <td>0.175</td>\n",
       "      <td>2</td>\n",
       "      <td>Санкт-Петербург</td>\n",
       "      <td>38171.0</td>\n",
       "      <td>15015.0</td>\n",
       "      <td>0.0</td>\n",
       "      <td>NaN</td>\n",
       "      <td>2.0</td>\n",
       "      <td>982.0</td>\n",
       "      <td>64.0</td>\n",
       "    </tr>\n",
       "    <tr>\n",
       "      <th>508</th>\n",
       "      <td>0</td>\n",
       "      <td>3375000.0</td>\n",
       "      <td>34.40</td>\n",
       "      <td>2017-03-28</td>\n",
       "      <td>0</td>\n",
       "      <td>2.65</td>\n",
       "      <td>26.0</td>\n",
       "      <td>24.300000</td>\n",
       "      <td>19</td>\n",
       "      <td>False</td>\n",
       "      <td>False</td>\n",
       "      <td>True</td>\n",
       "      <td>0.175</td>\n",
       "      <td>1</td>\n",
       "      <td>Парголово</td>\n",
       "      <td>53115.0</td>\n",
       "      <td>19292.0</td>\n",
       "      <td>0.0</td>\n",
       "      <td>NaN</td>\n",
       "      <td>1.0</td>\n",
       "      <td>593.0</td>\n",
       "      <td>430.0</td>\n",
       "    </tr>\n",
       "    <tr>\n",
       "      <th>608</th>\n",
       "      <td>2</td>\n",
       "      <td>1850000.0</td>\n",
       "      <td>25.00</td>\n",
       "      <td>2019-02-20</td>\n",
       "      <td>0</td>\n",
       "      <td>2.65</td>\n",
       "      <td>10.0</td>\n",
       "      <td>0.576923</td>\n",
       "      <td>7</td>\n",
       "      <td>False</td>\n",
       "      <td>True</td>\n",
       "      <td>False</td>\n",
       "      <td>0.175</td>\n",
       "      <td>0</td>\n",
       "      <td>Шушары</td>\n",
       "      <td>NaN</td>\n",
       "      <td>NaN</td>\n",
       "      <td>0.0</td>\n",
       "      <td>NaN</td>\n",
       "      <td>0.0</td>\n",
       "      <td>NaN</td>\n",
       "      <td>29.0</td>\n",
       "    </tr>\n",
       "    <tr>\n",
       "      <th>...</th>\n",
       "      <td>...</td>\n",
       "      <td>...</td>\n",
       "      <td>...</td>\n",
       "      <td>...</td>\n",
       "      <td>...</td>\n",
       "      <td>...</td>\n",
       "      <td>...</td>\n",
       "      <td>...</td>\n",
       "      <td>...</td>\n",
       "      <td>...</td>\n",
       "      <td>...</td>\n",
       "      <td>...</td>\n",
       "      <td>...</td>\n",
       "      <td>...</td>\n",
       "      <td>...</td>\n",
       "      <td>...</td>\n",
       "      <td>...</td>\n",
       "      <td>...</td>\n",
       "      <td>...</td>\n",
       "      <td>...</td>\n",
       "      <td>...</td>\n",
       "      <td>...</td>\n",
       "    </tr>\n",
       "    <tr>\n",
       "      <th>23210</th>\n",
       "      <td>7</td>\n",
       "      <td>3200000.0</td>\n",
       "      <td>26.00</td>\n",
       "      <td>2017-09-01</td>\n",
       "      <td>0</td>\n",
       "      <td>2.65</td>\n",
       "      <td>25.0</td>\n",
       "      <td>18.000000</td>\n",
       "      <td>16</td>\n",
       "      <td>False</td>\n",
       "      <td>True</td>\n",
       "      <td>False</td>\n",
       "      <td>0.175</td>\n",
       "      <td>0</td>\n",
       "      <td>Санкт-Петербург</td>\n",
       "      <td>11405.0</td>\n",
       "      <td>13222.0</td>\n",
       "      <td>0.0</td>\n",
       "      <td>NaN</td>\n",
       "      <td>1.0</td>\n",
       "      <td>623.0</td>\n",
       "      <td>14.0</td>\n",
       "    </tr>\n",
       "    <tr>\n",
       "      <th>23442</th>\n",
       "      <td>0</td>\n",
       "      <td>2500000.0</td>\n",
       "      <td>27.70</td>\n",
       "      <td>2017-09-28</td>\n",
       "      <td>0</td>\n",
       "      <td>2.65</td>\n",
       "      <td>24.0</td>\n",
       "      <td>18.000000</td>\n",
       "      <td>4</td>\n",
       "      <td>False</td>\n",
       "      <td>False</td>\n",
       "      <td>True</td>\n",
       "      <td>0.175</td>\n",
       "      <td>2</td>\n",
       "      <td>Мурино</td>\n",
       "      <td>NaN</td>\n",
       "      <td>NaN</td>\n",
       "      <td>0.0</td>\n",
       "      <td>NaN</td>\n",
       "      <td>0.0</td>\n",
       "      <td>NaN</td>\n",
       "      <td>4.0</td>\n",
       "    </tr>\n",
       "    <tr>\n",
       "      <th>23554</th>\n",
       "      <td>15</td>\n",
       "      <td>3350000.0</td>\n",
       "      <td>26.00</td>\n",
       "      <td>2018-09-07</td>\n",
       "      <td>0</td>\n",
       "      <td>2.65</td>\n",
       "      <td>19.0</td>\n",
       "      <td>0.576923</td>\n",
       "      <td>8</td>\n",
       "      <td>False</td>\n",
       "      <td>True</td>\n",
       "      <td>False</td>\n",
       "      <td>0.175</td>\n",
       "      <td>0</td>\n",
       "      <td>Санкт-Петербург</td>\n",
       "      <td>18090.0</td>\n",
       "      <td>17092.0</td>\n",
       "      <td>0.0</td>\n",
       "      <td>NaN</td>\n",
       "      <td>2.0</td>\n",
       "      <td>112.0</td>\n",
       "      <td>31.0</td>\n",
       "    </tr>\n",
       "    <tr>\n",
       "      <th>23592</th>\n",
       "      <td>10</td>\n",
       "      <td>1450000.0</td>\n",
       "      <td>29.00</td>\n",
       "      <td>2017-11-11</td>\n",
       "      <td>0</td>\n",
       "      <td>2.65</td>\n",
       "      <td>9.0</td>\n",
       "      <td>18.000000</td>\n",
       "      <td>8</td>\n",
       "      <td>False</td>\n",
       "      <td>False</td>\n",
       "      <td>True</td>\n",
       "      <td>0.175</td>\n",
       "      <td>2</td>\n",
       "      <td>Никольское</td>\n",
       "      <td>NaN</td>\n",
       "      <td>NaN</td>\n",
       "      <td>0.0</td>\n",
       "      <td>NaN</td>\n",
       "      <td>0.0</td>\n",
       "      <td>NaN</td>\n",
       "      <td>82.0</td>\n",
       "    </tr>\n",
       "    <tr>\n",
       "      <th>23637</th>\n",
       "      <td>8</td>\n",
       "      <td>2350000.0</td>\n",
       "      <td>26.00</td>\n",
       "      <td>2018-06-26</td>\n",
       "      <td>0</td>\n",
       "      <td>2.65</td>\n",
       "      <td>25.0</td>\n",
       "      <td>17.000000</td>\n",
       "      <td>4</td>\n",
       "      <td>False</td>\n",
       "      <td>True</td>\n",
       "      <td>False</td>\n",
       "      <td>0.175</td>\n",
       "      <td>2</td>\n",
       "      <td>Бугры</td>\n",
       "      <td>NaN</td>\n",
       "      <td>NaN</td>\n",
       "      <td>0.0</td>\n",
       "      <td>NaN</td>\n",
       "      <td>0.0</td>\n",
       "      <td>NaN</td>\n",
       "      <td>207.0</td>\n",
       "    </tr>\n",
       "  </tbody>\n",
       "</table>\n",
       "<p>192 rows × 22 columns</p>\n",
       "</div>"
      ],
      "text/plain": [
       "       total_images  last_price  total_area first_day_exposition  rooms  \\\n",
       "144               1   2450000.0       27.00           2017-03-30      0   \n",
       "349               4   2320000.0       25.00           2017-09-27      0   \n",
       "440               8   2480000.0       27.11           2018-03-12      0   \n",
       "508               0   3375000.0       34.40           2017-03-28      0   \n",
       "608               2   1850000.0       25.00           2019-02-20      0   \n",
       "...             ...         ...         ...                  ...    ...   \n",
       "23210             7   3200000.0       26.00           2017-09-01      0   \n",
       "23442             0   2500000.0       27.70           2017-09-28      0   \n",
       "23554            15   3350000.0       26.00           2018-09-07      0   \n",
       "23592            10   1450000.0       29.00           2017-11-11      0   \n",
       "23637             8   2350000.0       26.00           2018-06-26      0   \n",
       "\n",
       "       ceiling_height  floors_total  living_area  floor  is_apartment  studio  \\\n",
       "144              2.65          24.0    15.500000      2         False    True   \n",
       "349              2.65          14.0    17.000000      1         False   False   \n",
       "440              2.65          17.0    24.750000      4         False    True   \n",
       "508              2.65          26.0    24.300000     19         False   False   \n",
       "608              2.65          10.0     0.576923      7         False    True   \n",
       "...               ...           ...          ...    ...           ...     ...   \n",
       "23210            2.65          25.0    18.000000     16         False    True   \n",
       "23442            2.65          24.0    18.000000      4         False   False   \n",
       "23554            2.65          19.0     0.576923      8         False    True   \n",
       "23592            2.65           9.0    18.000000      8         False   False   \n",
       "23637            2.65          25.0    17.000000      4         False    True   \n",
       "\n",
       "       open_plan  kitchen_area  balcony    locality_name  airports_nearest  \\\n",
       "144        False         0.175        2           Мурино               NaN   \n",
       "349         True         0.175        0          Кудрово               NaN   \n",
       "440        False         0.175        2  Санкт-Петербург           38171.0   \n",
       "508         True         0.175        1        Парголово           53115.0   \n",
       "608        False         0.175        0           Шушары               NaN   \n",
       "...          ...           ...      ...              ...               ...   \n",
       "23210      False         0.175        0  Санкт-Петербург           11405.0   \n",
       "23442       True         0.175        2           Мурино               NaN   \n",
       "23554      False         0.175        0  Санкт-Петербург           18090.0   \n",
       "23592       True         0.175        2       Никольское               NaN   \n",
       "23637      False         0.175        2            Бугры               NaN   \n",
       "\n",
       "       city_сenters_nearest  parks_around3000  parks_nearest  \\\n",
       "144                     NaN               0.0            NaN   \n",
       "349                     NaN               0.0            NaN   \n",
       "440                 15015.0               0.0            NaN   \n",
       "508                 19292.0               0.0            NaN   \n",
       "608                     NaN               0.0            NaN   \n",
       "...                     ...               ...            ...   \n",
       "23210               13222.0               0.0            NaN   \n",
       "23442                   NaN               0.0            NaN   \n",
       "23554               17092.0               0.0            NaN   \n",
       "23592                   NaN               0.0            NaN   \n",
       "23637                   NaN               0.0            NaN   \n",
       "\n",
       "       ponds_around3000  ponds_nearest  days_exposition  \n",
       "144                 0.0            NaN            181.0  \n",
       "349                 0.0            NaN             45.0  \n",
       "440                 2.0          982.0             64.0  \n",
       "508                 1.0          593.0            430.0  \n",
       "608                 0.0            NaN             29.0  \n",
       "...                 ...            ...              ...  \n",
       "23210               1.0          623.0             14.0  \n",
       "23442               0.0            NaN              4.0  \n",
       "23554               2.0          112.0             31.0  \n",
       "23592               0.0            NaN             82.0  \n",
       "23637               0.0            NaN            207.0  \n",
       "\n",
       "[192 rows x 22 columns]"
      ]
     },
     "execution_count": 42,
     "metadata": {},
     "output_type": "execute_result"
    }
   ],
   "source": [
    "data.query('rooms == 0')"
   ]
  },
  {
   "cell_type": "markdown",
   "metadata": {},
   "source": [
    "Каких-то аномальных значений не обнаружено. В столбце 'rooms' значение 0 означает квартира-студия."
   ]
  },
  {
   "cell_type": "code",
   "execution_count": 43,
   "metadata": {},
   "outputs": [
    {
     "data": {
      "text/plain": [
       "count    21567.000000\n",
       "mean        10.759679\n",
       "std          6.635156\n",
       "min          1.000000\n",
       "25%          5.000000\n",
       "50%          9.000000\n",
       "75%         16.000000\n",
       "max         60.000000\n",
       "Name: floors_total, dtype: float64"
      ]
     },
     "execution_count": 43,
     "metadata": {},
     "output_type": "execute_result"
    }
   ],
   "source": [
    "data['floors_total'].describe()"
   ]
  },
  {
   "cell_type": "markdown",
   "metadata": {},
   "source": [
    "В самом высоком жилом доме Санкт-Петербурга максмальный этаж 37, значение 60 является аномалией. Удалим строку с этим значением."
   ]
  },
  {
   "cell_type": "code",
   "execution_count": 44,
   "metadata": {},
   "outputs": [
    {
     "data": {
      "text/html": [
       "<div>\n",
       "<style scoped>\n",
       "    .dataframe tbody tr th:only-of-type {\n",
       "        vertical-align: middle;\n",
       "    }\n",
       "\n",
       "    .dataframe tbody tr th {\n",
       "        vertical-align: top;\n",
       "    }\n",
       "\n",
       "    .dataframe thead th {\n",
       "        text-align: right;\n",
       "    }\n",
       "</style>\n",
       "<table border=\"1\" class=\"dataframe\">\n",
       "  <thead>\n",
       "    <tr style=\"text-align: right;\">\n",
       "      <th></th>\n",
       "      <th>total_images</th>\n",
       "      <th>last_price</th>\n",
       "      <th>total_area</th>\n",
       "      <th>first_day_exposition</th>\n",
       "      <th>rooms</th>\n",
       "      <th>ceiling_height</th>\n",
       "      <th>floors_total</th>\n",
       "      <th>living_area</th>\n",
       "      <th>floor</th>\n",
       "      <th>is_apartment</th>\n",
       "      <th>studio</th>\n",
       "      <th>open_plan</th>\n",
       "      <th>kitchen_area</th>\n",
       "      <th>balcony</th>\n",
       "      <th>locality_name</th>\n",
       "      <th>airports_nearest</th>\n",
       "      <th>city_сenters_nearest</th>\n",
       "      <th>parks_around3000</th>\n",
       "      <th>parks_nearest</th>\n",
       "      <th>ponds_around3000</th>\n",
       "      <th>ponds_nearest</th>\n",
       "      <th>days_exposition</th>\n",
       "    </tr>\n",
       "  </thead>\n",
       "  <tbody>\n",
       "    <tr>\n",
       "      <th>2253</th>\n",
       "      <td>12</td>\n",
       "      <td>3800000.0</td>\n",
       "      <td>45.5</td>\n",
       "      <td>2018-06-28</td>\n",
       "      <td>2</td>\n",
       "      <td>2.88</td>\n",
       "      <td>60.0</td>\n",
       "      <td>27.4</td>\n",
       "      <td>4</td>\n",
       "      <td>False</td>\n",
       "      <td>False</td>\n",
       "      <td>False</td>\n",
       "      <td>7.4</td>\n",
       "      <td>0</td>\n",
       "      <td>Кронштадт</td>\n",
       "      <td>67763.0</td>\n",
       "      <td>49488.0</td>\n",
       "      <td>2.0</td>\n",
       "      <td>342.0</td>\n",
       "      <td>3.0</td>\n",
       "      <td>614.0</td>\n",
       "      <td>166.0</td>\n",
       "    </tr>\n",
       "  </tbody>\n",
       "</table>\n",
       "</div>"
      ],
      "text/plain": [
       "      total_images  last_price  total_area first_day_exposition  rooms  \\\n",
       "2253            12   3800000.0        45.5           2018-06-28      2   \n",
       "\n",
       "      ceiling_height  floors_total  living_area  floor  is_apartment  studio  \\\n",
       "2253            2.88          60.0         27.4      4         False   False   \n",
       "\n",
       "      open_plan  kitchen_area  balcony locality_name  airports_nearest  \\\n",
       "2253      False           7.4        0     Кронштадт           67763.0   \n",
       "\n",
       "      city_сenters_nearest  parks_around3000  parks_nearest  ponds_around3000  \\\n",
       "2253               49488.0               2.0          342.0               3.0   \n",
       "\n",
       "      ponds_nearest  days_exposition  \n",
       "2253          614.0            166.0  "
      ]
     },
     "execution_count": 44,
     "metadata": {},
     "output_type": "execute_result"
    }
   ],
   "source": [
    "data.query('floors_total == 60')"
   ]
  },
  {
   "cell_type": "code",
   "execution_count": 45,
   "metadata": {},
   "outputs": [],
   "source": [
    "data = data[data['floors_total'] != 60]"
   ]
  },
  {
   "cell_type": "markdown",
   "metadata": {},
   "source": [
    "Проверим столбец 'airports_nearest' на наличе аномалий."
   ]
  },
  {
   "cell_type": "code",
   "execution_count": 46,
   "metadata": {},
   "outputs": [
    {
     "data": {
      "text/plain": [
       "count    16090.000000\n",
       "mean     28904.301865\n",
       "std      12984.249076\n",
       "min          0.000000\n",
       "25%      18079.000000\n",
       "50%      27006.000000\n",
       "75%      37625.000000\n",
       "max      84869.000000\n",
       "Name: airports_nearest, dtype: float64"
      ]
     },
     "execution_count": 46,
     "metadata": {},
     "output_type": "execute_result"
    }
   ],
   "source": [
    "data['airports_nearest'].describe()"
   ]
  },
  {
   "cell_type": "markdown",
   "metadata": {},
   "source": [
    "Проверм максимальное значение 84 км."
   ]
  },
  {
   "cell_type": "code",
   "execution_count": 47,
   "metadata": {},
   "outputs": [
    {
     "data": {
      "text/html": [
       "<div>\n",
       "<style scoped>\n",
       "    .dataframe tbody tr th:only-of-type {\n",
       "        vertical-align: middle;\n",
       "    }\n",
       "\n",
       "    .dataframe tbody tr th {\n",
       "        vertical-align: top;\n",
       "    }\n",
       "\n",
       "    .dataframe thead th {\n",
       "        text-align: right;\n",
       "    }\n",
       "</style>\n",
       "<table border=\"1\" class=\"dataframe\">\n",
       "  <thead>\n",
       "    <tr style=\"text-align: right;\">\n",
       "      <th></th>\n",
       "      <th>total_images</th>\n",
       "      <th>last_price</th>\n",
       "      <th>total_area</th>\n",
       "      <th>first_day_exposition</th>\n",
       "      <th>rooms</th>\n",
       "      <th>ceiling_height</th>\n",
       "      <th>floors_total</th>\n",
       "      <th>living_area</th>\n",
       "      <th>floor</th>\n",
       "      <th>is_apartment</th>\n",
       "      <th>studio</th>\n",
       "      <th>open_plan</th>\n",
       "      <th>kitchen_area</th>\n",
       "      <th>balcony</th>\n",
       "      <th>locality_name</th>\n",
       "      <th>airports_nearest</th>\n",
       "      <th>city_сenters_nearest</th>\n",
       "      <th>parks_around3000</th>\n",
       "      <th>parks_nearest</th>\n",
       "      <th>ponds_around3000</th>\n",
       "      <th>ponds_nearest</th>\n",
       "      <th>days_exposition</th>\n",
       "    </tr>\n",
       "  </thead>\n",
       "  <tbody>\n",
       "    <tr>\n",
       "      <th>9640</th>\n",
       "      <td>8</td>\n",
       "      <td>4200000.0</td>\n",
       "      <td>51.4</td>\n",
       "      <td>2014-12-10</td>\n",
       "      <td>2</td>\n",
       "      <td>2.55</td>\n",
       "      <td>5.0</td>\n",
       "      <td>31.0</td>\n",
       "      <td>2</td>\n",
       "      <td>False</td>\n",
       "      <td>False</td>\n",
       "      <td>False</td>\n",
       "      <td>6.0</td>\n",
       "      <td>1</td>\n",
       "      <td>Молодежное</td>\n",
       "      <td>84869.0</td>\n",
       "      <td>65968.0</td>\n",
       "      <td>0.0</td>\n",
       "      <td>NaN</td>\n",
       "      <td>0.0</td>\n",
       "      <td>NaN</td>\n",
       "      <td>1194.0</td>\n",
       "    </tr>\n",
       "  </tbody>\n",
       "</table>\n",
       "</div>"
      ],
      "text/plain": [
       "      total_images  last_price  total_area first_day_exposition  rooms  \\\n",
       "9640             8   4200000.0        51.4           2014-12-10      2   \n",
       "\n",
       "      ceiling_height  floors_total  living_area  floor  is_apartment  studio  \\\n",
       "9640            2.55           5.0         31.0      2         False   False   \n",
       "\n",
       "      open_plan  kitchen_area  balcony locality_name  airports_nearest  \\\n",
       "9640      False           6.0        1    Молодежное           84869.0   \n",
       "\n",
       "      city_сenters_nearest  parks_around3000  parks_nearest  ponds_around3000  \\\n",
       "9640               65968.0               0.0            NaN               0.0   \n",
       "\n",
       "      ponds_nearest  days_exposition  \n",
       "9640            NaN           1194.0  "
      ]
     },
     "execution_count": 47,
     "metadata": {},
     "output_type": "execute_result"
    }
   ],
   "source": [
    "data.query('airports_nearest == 84869')"
   ]
  },
  {
   "cell_type": "markdown",
   "metadata": {},
   "source": [
    "Обратившись к картам , можно обнаружить,, что эти данные правильныые. "
   ]
  },
  {
   "cell_type": "markdown",
   "metadata": {},
   "source": [
    "Проверим столбец 'city_сenters_nearest' на наличие аномалий."
   ]
  },
  {
   "cell_type": "code",
   "execution_count": 48,
   "metadata": {},
   "outputs": [
    {
     "data": {
      "text/plain": [
       "count    16102.000000\n",
       "mean     14954.930506\n",
       "std       8563.914453\n",
       "min        208.000000\n",
       "25%      10584.000000\n",
       "50%      13608.000000\n",
       "75%      16688.250000\n",
       "max      65968.000000\n",
       "Name: city_сenters_nearest, dtype: float64"
      ]
     },
     "execution_count": 48,
     "metadata": {},
     "output_type": "execute_result"
    }
   ],
   "source": [
    "data['city_сenters_nearest'].describe()"
   ]
  },
  {
   "cell_type": "markdown",
   "metadata": {},
   "source": [
    "Никаких выделяющихся значений не обнаружено."
   ]
  },
  {
   "cell_type": "markdown",
   "metadata": {},
   "source": [
    "Проверим столбец 'parks_around3000' на наличие аномалий."
   ]
  },
  {
   "cell_type": "code",
   "execution_count": 49,
   "metadata": {},
   "outputs": [
    {
     "data": {
      "text/plain": [
       "count    21566.000000\n",
       "mean         0.417463\n",
       "std          0.705008\n",
       "min          0.000000\n",
       "25%          0.000000\n",
       "50%          0.000000\n",
       "75%          1.000000\n",
       "max          3.000000\n",
       "Name: parks_around3000, dtype: float64"
      ]
     },
     "execution_count": 49,
     "metadata": {},
     "output_type": "execute_result"
    }
   ],
   "source": [
    "data['parks_around3000'].describe()"
   ]
  },
  {
   "cell_type": "markdown",
   "metadata": {},
   "source": [
    "Так же мы видим, что никаких выделяющихся значений нет."
   ]
  },
  {
   "cell_type": "markdown",
   "metadata": {},
   "source": [
    "Проверим столбец 'parks_nearest' на наличие аномалий "
   ]
  },
  {
   "cell_type": "code",
   "execution_count": 50,
   "metadata": {},
   "outputs": [
    {
     "data": {
      "text/plain": [
       "count    6719.000000\n",
       "mean      488.979312\n",
       "std       329.281718\n",
       "min         1.000000\n",
       "25%       289.000000\n",
       "50%       456.000000\n",
       "75%       613.000000\n",
       "max      3190.000000\n",
       "Name: parks_nearest, dtype: float64"
      ]
     },
     "execution_count": 50,
     "metadata": {},
     "output_type": "execute_result"
    }
   ],
   "source": [
    "data['parks_nearest'].describe()"
   ]
  },
  {
   "cell_type": "markdown",
   "metadata": {},
   "source": [
    "В этом столбце также все в порядке."
   ]
  },
  {
   "cell_type": "markdown",
   "metadata": {},
   "source": [
    "Проверим столбец 'ponds_around3000' на наличие аномалий "
   ]
  },
  {
   "cell_type": "code",
   "execution_count": 51,
   "metadata": {},
   "outputs": [
    {
     "data": {
      "text/plain": [
       "count    21566.000000\n",
       "mean         0.530557\n",
       "std          0.831095\n",
       "min          0.000000\n",
       "25%          0.000000\n",
       "50%          0.000000\n",
       "75%          1.000000\n",
       "max          3.000000\n",
       "Name: ponds_around3000, dtype: float64"
      ]
     },
     "execution_count": 51,
     "metadata": {},
     "output_type": "execute_result"
    }
   ],
   "source": [
    "data['ponds_around3000'].describe()"
   ]
  },
  {
   "cell_type": "markdown",
   "metadata": {},
   "source": [
    "В общем и целом здесь тоже все в порядке."
   ]
  },
  {
   "cell_type": "markdown",
   "metadata": {},
   "source": [
    "Проверим столбец 'ponds_nearest'."
   ]
  },
  {
   "cell_type": "code",
   "execution_count": 52,
   "metadata": {},
   "outputs": [
    {
     "data": {
      "text/plain": [
       "count    7741.000000\n",
       "mean      531.315851\n",
       "std       277.516883\n",
       "min        16.000000\n",
       "25%       315.000000\n",
       "50%       521.000000\n",
       "75%       741.000000\n",
       "max      1344.000000\n",
       "Name: ponds_nearest, dtype: float64"
      ]
     },
     "execution_count": 52,
     "metadata": {},
     "output_type": "execute_result"
    }
   ],
   "source": [
    "data['ponds_nearest'].describe()"
   ]
  },
  {
   "cell_type": "markdown",
   "metadata": {},
   "source": [
    "Никаких аномалий не обнаружено."
   ]
  },
  {
   "cell_type": "markdown",
   "metadata": {},
   "source": [
    "Проверим столбец 'days_exposition'."
   ]
  },
  {
   "cell_type": "code",
   "execution_count": 53,
   "metadata": {},
   "outputs": [
    {
     "data": {
      "text/plain": [
       "count    18932.000000\n",
       "mean       173.404236\n",
       "std        212.005762\n",
       "min          1.000000\n",
       "25%         44.000000\n",
       "50%         91.000000\n",
       "75%        219.000000\n",
       "max       1580.000000\n",
       "Name: days_exposition, dtype: float64"
      ]
     },
     "execution_count": 53,
     "metadata": {},
     "output_type": "execute_result"
    }
   ],
   "source": [
    "data['days_exposition'].describe()"
   ]
  },
  {
   "cell_type": "markdown",
   "metadata": {},
   "source": [
    "Тут тоже все в порядке."
   ]
  },
  {
   "cell_type": "code",
   "execution_count": 54,
   "metadata": {
    "scrolled": true
   },
   "outputs": [
    {
     "data": {
      "text/plain": [
       "count    21566.000000\n",
       "mean        53.381154\n",
       "std         19.217563\n",
       "min         12.000000\n",
       "25%         39.000000\n",
       "50%         49.400000\n",
       "75%         63.800000\n",
       "max        230.000000\n",
       "Name: total_area, dtype: float64"
      ]
     },
     "execution_count": 54,
     "metadata": {},
     "output_type": "execute_result"
    }
   ],
   "source": [
    "data['total_area'].describe()"
   ]
  },
  {
   "cell_type": "markdown",
   "metadata": {},
   "source": [
    "Проверим этот столбец на выбросы"
   ]
  },
  {
   "cell_type": "code",
   "execution_count": 55,
   "metadata": {
    "scrolled": false
   },
   "outputs": [
    {
     "data": {
      "text/plain": [
       "(0.0, 150.0)"
      ]
     },
     "execution_count": 55,
     "metadata": {},
     "output_type": "execute_result"
    },
    {
     "data": {
      "image/png": "[encoded data removed]",
      "text/plain": [
       "<Figure size 432x288 with 1 Axes>"
      ]
     },
     "metadata": {
      "needs_background": "light"
     },
     "output_type": "display_data"
    }
   ],
   "source": [
    "data.boxplot('total_area')\n",
    "plt.ylim(0,150)"
   ]
  },
  {
   "cell_type": "markdown",
   "metadata": {},
   "source": [
    "Значения больше 110 это выбросы\n"
   ]
  },
  {
   "cell_type": "code",
   "execution_count": 56,
   "metadata": {},
   "outputs": [
    {
     "data": {
      "text/plain": [
       "<AxesSubplot:>"
      ]
     },
     "execution_count": 56,
     "metadata": {},
     "output_type": "execute_result"
    },
    {
     "data": {
      "image/png": "[encoded data removed]",
      "text/plain": [
       "<Figure size 432x288 with 1 Axes>"
      ]
     },
     "metadata": {
      "needs_background": "light"
     },
     "output_type": "display_data"
    }
   ],
   "source": [
    "data.boxplot('total_area', showfliers=False)"
   ]
  },
  {
   "cell_type": "code",
   "execution_count": 57,
   "metadata": {},
   "outputs": [],
   "source": [
    "data = data.query('total_area < 110')"
   ]
  },
  {
   "cell_type": "markdown",
   "metadata": {},
   "source": [
    "Избавились от выбросов в столбце 'total_area' "
   ]
  },
  {
   "cell_type": "markdown",
   "metadata": {},
   "source": [
    "### Посчитайте и добавьте в таблицу новые столбцы"
   ]
  },
  {
   "cell_type": "markdown",
   "metadata": {},
   "source": [
    "Добавим в таблицу новый столбец 'price_per_meter'. Разделим цену квартиры 'last_price' на общую площдь квартиры 'total_area'."
   ]
  },
  {
   "cell_type": "code",
   "execution_count": 58,
   "metadata": {},
   "outputs": [],
   "source": [
    "data['price_per_meter'] = data['last_price']/data['total_area']"
   ]
  },
  {
   "cell_type": "markdown",
   "metadata": {},
   "source": [
    "Добавим в таблицу столбец день недели публикации 'week_day', стобец с месяцем публикации 'month_exposition' и с годом публикации 'year_exposition'."
   ]
  },
  {
   "cell_type": "code",
   "execution_count": 59,
   "metadata": {},
   "outputs": [],
   "source": [
    "data['week_day'] = data['first_day_exposition'].dt.dayofweek\n",
    "data['month_exposition'] = data['first_day_exposition'].dt.month\n",
    "data['year_exposition'] = data['first_day_exposition'].dt.year"
   ]
  },
  {
   "cell_type": "markdown",
   "metadata": {},
   "source": [
    "Добвавим столбец , где указан тип этажа квартиры."
   ]
  },
  {
   "cell_type": "code",
   "execution_count": 60,
   "metadata": {},
   "outputs": [],
   "source": [
    "def floor_type(row):\n",
    "    if row['floor'] == 1:\n",
    "        return 'первый'\n",
    "    elif row['floor'] == row['floors_total']:\n",
    "        return 'последний'\n",
    "    return 'другой'\n",
    "\n",
    "data['floor_type'] = data.apply(floor_type, axis=1)"
   ]
  },
  {
   "cell_type": "code",
   "execution_count": 61,
   "metadata": {},
   "outputs": [
    {
     "data": {
      "text/html": [
       "<div>\n",
       "<style scoped>\n",
       "    .dataframe tbody tr th:only-of-type {\n",
       "        vertical-align: middle;\n",
       "    }\n",
       "\n",
       "    .dataframe tbody tr th {\n",
       "        vertical-align: top;\n",
       "    }\n",
       "\n",
       "    .dataframe thead th {\n",
       "        text-align: right;\n",
       "    }\n",
       "</style>\n",
       "<table border=\"1\" class=\"dataframe\">\n",
       "  <thead>\n",
       "    <tr style=\"text-align: right;\">\n",
       "      <th></th>\n",
       "      <th>floor</th>\n",
       "      <th>floor_type</th>\n",
       "    </tr>\n",
       "  </thead>\n",
       "  <tbody>\n",
       "    <tr>\n",
       "      <th>1</th>\n",
       "      <td>1</td>\n",
       "      <td>первый</td>\n",
       "    </tr>\n",
       "    <tr>\n",
       "      <th>2</th>\n",
       "      <td>4</td>\n",
       "      <td>другой</td>\n",
       "    </tr>\n",
       "    <tr>\n",
       "      <th>4</th>\n",
       "      <td>13</td>\n",
       "      <td>другой</td>\n",
       "    </tr>\n",
       "    <tr>\n",
       "      <th>5</th>\n",
       "      <td>5</td>\n",
       "      <td>другой</td>\n",
       "    </tr>\n",
       "    <tr>\n",
       "      <th>6</th>\n",
       "      <td>6</td>\n",
       "      <td>другой</td>\n",
       "    </tr>\n",
       "    <tr>\n",
       "      <th>...</th>\n",
       "      <td>...</td>\n",
       "      <td>...</td>\n",
       "    </tr>\n",
       "    <tr>\n",
       "      <th>23693</th>\n",
       "      <td>8</td>\n",
       "      <td>другой</td>\n",
       "    </tr>\n",
       "    <tr>\n",
       "      <th>23695</th>\n",
       "      <td>4</td>\n",
       "      <td>другой</td>\n",
       "    </tr>\n",
       "    <tr>\n",
       "      <th>23696</th>\n",
       "      <td>1</td>\n",
       "      <td>первый</td>\n",
       "    </tr>\n",
       "    <tr>\n",
       "      <th>23697</th>\n",
       "      <td>12</td>\n",
       "      <td>другой</td>\n",
       "    </tr>\n",
       "    <tr>\n",
       "      <th>23698</th>\n",
       "      <td>1</td>\n",
       "      <td>первый</td>\n",
       "    </tr>\n",
       "  </tbody>\n",
       "</table>\n",
       "<p>21294 rows × 2 columns</p>\n",
       "</div>"
      ],
      "text/plain": [
       "       floor floor_type\n",
       "1          1     первый\n",
       "2          4     другой\n",
       "4         13     другой\n",
       "5          5     другой\n",
       "6          6     другой\n",
       "...      ...        ...\n",
       "23693      8     другой\n",
       "23695      4     другой\n",
       "23696      1     первый\n",
       "23697     12     другой\n",
       "23698      1     первый\n",
       "\n",
       "[21294 rows x 2 columns]"
      ]
     },
     "execution_count": 61,
     "metadata": {},
     "output_type": "execute_result"
    }
   ],
   "source": [
    "data[['floor', 'floor_type']]"
   ]
  },
  {
   "cell_type": "markdown",
   "metadata": {},
   "source": [
    "Далее добавим столбец с информацией о расстоянии в км до центра города"
   ]
  },
  {
   "cell_type": "code",
   "execution_count": 62,
   "metadata": {},
   "outputs": [],
   "source": [
    "data['city_сenters_nearest_km'] = round(data['city_сenters_nearest']/1000)"
   ]
  },
  {
   "cell_type": "code",
   "execution_count": 63,
   "metadata": {},
   "outputs": [
    {
     "data": {
      "text/html": [
       "<div>\n",
       "<style scoped>\n",
       "    .dataframe tbody tr th:only-of-type {\n",
       "        vertical-align: middle;\n",
       "    }\n",
       "\n",
       "    .dataframe tbody tr th {\n",
       "        vertical-align: top;\n",
       "    }\n",
       "\n",
       "    .dataframe thead th {\n",
       "        text-align: right;\n",
       "    }\n",
       "</style>\n",
       "<table border=\"1\" class=\"dataframe\">\n",
       "  <thead>\n",
       "    <tr style=\"text-align: right;\">\n",
       "      <th></th>\n",
       "      <th>total_images</th>\n",
       "      <th>last_price</th>\n",
       "      <th>total_area</th>\n",
       "      <th>first_day_exposition</th>\n",
       "      <th>rooms</th>\n",
       "      <th>ceiling_height</th>\n",
       "      <th>floors_total</th>\n",
       "      <th>living_area</th>\n",
       "      <th>floor</th>\n",
       "      <th>is_apartment</th>\n",
       "      <th>studio</th>\n",
       "      <th>open_plan</th>\n",
       "      <th>kitchen_area</th>\n",
       "      <th>balcony</th>\n",
       "      <th>locality_name</th>\n",
       "      <th>airports_nearest</th>\n",
       "      <th>city_сenters_nearest</th>\n",
       "      <th>parks_around3000</th>\n",
       "      <th>parks_nearest</th>\n",
       "      <th>ponds_around3000</th>\n",
       "      <th>ponds_nearest</th>\n",
       "      <th>days_exposition</th>\n",
       "      <th>price_per_meter</th>\n",
       "      <th>week_day</th>\n",
       "      <th>month_exposition</th>\n",
       "      <th>year_exposition</th>\n",
       "      <th>floor_type</th>\n",
       "      <th>city_сenters_nearest_km</th>\n",
       "    </tr>\n",
       "  </thead>\n",
       "  <tbody>\n",
       "    <tr>\n",
       "      <th>1</th>\n",
       "      <td>7</td>\n",
       "      <td>3350000.0</td>\n",
       "      <td>40.40</td>\n",
       "      <td>2018-12-04</td>\n",
       "      <td>1</td>\n",
       "      <td>2.65</td>\n",
       "      <td>11.0</td>\n",
       "      <td>18.600000</td>\n",
       "      <td>1</td>\n",
       "      <td>False</td>\n",
       "      <td>False</td>\n",
       "      <td>False</td>\n",
       "      <td>11.000</td>\n",
       "      <td>2</td>\n",
       "      <td>Шушары</td>\n",
       "      <td>12817.0</td>\n",
       "      <td>18603.0</td>\n",
       "      <td>0.0</td>\n",
       "      <td>NaN</td>\n",
       "      <td>0.0</td>\n",
       "      <td>NaN</td>\n",
       "      <td>81.0</td>\n",
       "      <td>82920.792079</td>\n",
       "      <td>1</td>\n",
       "      <td>12</td>\n",
       "      <td>2018</td>\n",
       "      <td>первый</td>\n",
       "      <td>19.0</td>\n",
       "    </tr>\n",
       "    <tr>\n",
       "      <th>2</th>\n",
       "      <td>10</td>\n",
       "      <td>5196000.0</td>\n",
       "      <td>56.00</td>\n",
       "      <td>2015-08-20</td>\n",
       "      <td>2</td>\n",
       "      <td>2.65</td>\n",
       "      <td>5.0</td>\n",
       "      <td>34.300000</td>\n",
       "      <td>4</td>\n",
       "      <td>False</td>\n",
       "      <td>False</td>\n",
       "      <td>False</td>\n",
       "      <td>8.300</td>\n",
       "      <td>0</td>\n",
       "      <td>Санкт-Петербург</td>\n",
       "      <td>21741.0</td>\n",
       "      <td>13933.0</td>\n",
       "      <td>1.0</td>\n",
       "      <td>90.0</td>\n",
       "      <td>2.0</td>\n",
       "      <td>574.0</td>\n",
       "      <td>558.0</td>\n",
       "      <td>92785.714286</td>\n",
       "      <td>3</td>\n",
       "      <td>8</td>\n",
       "      <td>2015</td>\n",
       "      <td>другой</td>\n",
       "      <td>14.0</td>\n",
       "    </tr>\n",
       "    <tr>\n",
       "      <th>4</th>\n",
       "      <td>2</td>\n",
       "      <td>10000000.0</td>\n",
       "      <td>100.00</td>\n",
       "      <td>2018-06-19</td>\n",
       "      <td>2</td>\n",
       "      <td>3.03</td>\n",
       "      <td>14.0</td>\n",
       "      <td>32.000000</td>\n",
       "      <td>13</td>\n",
       "      <td>False</td>\n",
       "      <td>False</td>\n",
       "      <td>False</td>\n",
       "      <td>41.000</td>\n",
       "      <td>0</td>\n",
       "      <td>Санкт-Петербург</td>\n",
       "      <td>31856.0</td>\n",
       "      <td>8098.0</td>\n",
       "      <td>2.0</td>\n",
       "      <td>112.0</td>\n",
       "      <td>1.0</td>\n",
       "      <td>48.0</td>\n",
       "      <td>121.0</td>\n",
       "      <td>100000.000000</td>\n",
       "      <td>1</td>\n",
       "      <td>6</td>\n",
       "      <td>2018</td>\n",
       "      <td>другой</td>\n",
       "      <td>8.0</td>\n",
       "    </tr>\n",
       "    <tr>\n",
       "      <th>5</th>\n",
       "      <td>10</td>\n",
       "      <td>2890000.0</td>\n",
       "      <td>30.40</td>\n",
       "      <td>2018-09-10</td>\n",
       "      <td>1</td>\n",
       "      <td>2.65</td>\n",
       "      <td>12.0</td>\n",
       "      <td>14.400000</td>\n",
       "      <td>5</td>\n",
       "      <td>False</td>\n",
       "      <td>False</td>\n",
       "      <td>False</td>\n",
       "      <td>9.100</td>\n",
       "      <td>0</td>\n",
       "      <td>Янино-1</td>\n",
       "      <td>NaN</td>\n",
       "      <td>NaN</td>\n",
       "      <td>0.0</td>\n",
       "      <td>NaN</td>\n",
       "      <td>0.0</td>\n",
       "      <td>NaN</td>\n",
       "      <td>55.0</td>\n",
       "      <td>95065.789474</td>\n",
       "      <td>0</td>\n",
       "      <td>9</td>\n",
       "      <td>2018</td>\n",
       "      <td>другой</td>\n",
       "      <td>NaN</td>\n",
       "    </tr>\n",
       "    <tr>\n",
       "      <th>6</th>\n",
       "      <td>6</td>\n",
       "      <td>3700000.0</td>\n",
       "      <td>37.30</td>\n",
       "      <td>2017-11-02</td>\n",
       "      <td>1</td>\n",
       "      <td>2.65</td>\n",
       "      <td>26.0</td>\n",
       "      <td>10.600000</td>\n",
       "      <td>6</td>\n",
       "      <td>False</td>\n",
       "      <td>False</td>\n",
       "      <td>False</td>\n",
       "      <td>14.400</td>\n",
       "      <td>1</td>\n",
       "      <td>Парголово</td>\n",
       "      <td>52996.0</td>\n",
       "      <td>19143.0</td>\n",
       "      <td>0.0</td>\n",
       "      <td>NaN</td>\n",
       "      <td>0.0</td>\n",
       "      <td>NaN</td>\n",
       "      <td>155.0</td>\n",
       "      <td>99195.710456</td>\n",
       "      <td>3</td>\n",
       "      <td>11</td>\n",
       "      <td>2017</td>\n",
       "      <td>другой</td>\n",
       "      <td>19.0</td>\n",
       "    </tr>\n",
       "    <tr>\n",
       "      <th>...</th>\n",
       "      <td>...</td>\n",
       "      <td>...</td>\n",
       "      <td>...</td>\n",
       "      <td>...</td>\n",
       "      <td>...</td>\n",
       "      <td>...</td>\n",
       "      <td>...</td>\n",
       "      <td>...</td>\n",
       "      <td>...</td>\n",
       "      <td>...</td>\n",
       "      <td>...</td>\n",
       "      <td>...</td>\n",
       "      <td>...</td>\n",
       "      <td>...</td>\n",
       "      <td>...</td>\n",
       "      <td>...</td>\n",
       "      <td>...</td>\n",
       "      <td>...</td>\n",
       "      <td>...</td>\n",
       "      <td>...</td>\n",
       "      <td>...</td>\n",
       "      <td>...</td>\n",
       "      <td>...</td>\n",
       "      <td>...</td>\n",
       "      <td>...</td>\n",
       "      <td>...</td>\n",
       "      <td>...</td>\n",
       "      <td>...</td>\n",
       "    </tr>\n",
       "    <tr>\n",
       "      <th>23693</th>\n",
       "      <td>9</td>\n",
       "      <td>4600000.0</td>\n",
       "      <td>62.40</td>\n",
       "      <td>2016-08-05</td>\n",
       "      <td>3</td>\n",
       "      <td>2.60</td>\n",
       "      <td>9.0</td>\n",
       "      <td>40.000000</td>\n",
       "      <td>8</td>\n",
       "      <td>False</td>\n",
       "      <td>False</td>\n",
       "      <td>False</td>\n",
       "      <td>8.000</td>\n",
       "      <td>0</td>\n",
       "      <td>Петергоф</td>\n",
       "      <td>45602.0</td>\n",
       "      <td>34104.0</td>\n",
       "      <td>1.0</td>\n",
       "      <td>352.0</td>\n",
       "      <td>1.0</td>\n",
       "      <td>675.0</td>\n",
       "      <td>239.0</td>\n",
       "      <td>73717.948718</td>\n",
       "      <td>4</td>\n",
       "      <td>8</td>\n",
       "      <td>2016</td>\n",
       "      <td>другой</td>\n",
       "      <td>34.0</td>\n",
       "    </tr>\n",
       "    <tr>\n",
       "      <th>23695</th>\n",
       "      <td>14</td>\n",
       "      <td>3100000.0</td>\n",
       "      <td>59.00</td>\n",
       "      <td>2018-01-15</td>\n",
       "      <td>3</td>\n",
       "      <td>2.65</td>\n",
       "      <td>5.0</td>\n",
       "      <td>38.000000</td>\n",
       "      <td>4</td>\n",
       "      <td>False</td>\n",
       "      <td>False</td>\n",
       "      <td>False</td>\n",
       "      <td>8.500</td>\n",
       "      <td>0</td>\n",
       "      <td>Тосно</td>\n",
       "      <td>NaN</td>\n",
       "      <td>NaN</td>\n",
       "      <td>0.0</td>\n",
       "      <td>NaN</td>\n",
       "      <td>0.0</td>\n",
       "      <td>NaN</td>\n",
       "      <td>45.0</td>\n",
       "      <td>52542.372881</td>\n",
       "      <td>0</td>\n",
       "      <td>1</td>\n",
       "      <td>2018</td>\n",
       "      <td>другой</td>\n",
       "      <td>NaN</td>\n",
       "    </tr>\n",
       "    <tr>\n",
       "      <th>23696</th>\n",
       "      <td>18</td>\n",
       "      <td>2500000.0</td>\n",
       "      <td>56.70</td>\n",
       "      <td>2018-02-11</td>\n",
       "      <td>2</td>\n",
       "      <td>2.65</td>\n",
       "      <td>3.0</td>\n",
       "      <td>29.700000</td>\n",
       "      <td>1</td>\n",
       "      <td>False</td>\n",
       "      <td>False</td>\n",
       "      <td>False</td>\n",
       "      <td>0.175</td>\n",
       "      <td>0</td>\n",
       "      <td>село Рождествено</td>\n",
       "      <td>NaN</td>\n",
       "      <td>NaN</td>\n",
       "      <td>0.0</td>\n",
       "      <td>NaN</td>\n",
       "      <td>0.0</td>\n",
       "      <td>NaN</td>\n",
       "      <td>NaN</td>\n",
       "      <td>44091.710758</td>\n",
       "      <td>6</td>\n",
       "      <td>2</td>\n",
       "      <td>2018</td>\n",
       "      <td>первый</td>\n",
       "      <td>NaN</td>\n",
       "    </tr>\n",
       "    <tr>\n",
       "      <th>23697</th>\n",
       "      <td>13</td>\n",
       "      <td>11475000.0</td>\n",
       "      <td>76.75</td>\n",
       "      <td>2017-03-28</td>\n",
       "      <td>2</td>\n",
       "      <td>3.00</td>\n",
       "      <td>17.0</td>\n",
       "      <td>0.576923</td>\n",
       "      <td>12</td>\n",
       "      <td>False</td>\n",
       "      <td>False</td>\n",
       "      <td>False</td>\n",
       "      <td>23.300</td>\n",
       "      <td>2</td>\n",
       "      <td>Санкт-Петербург</td>\n",
       "      <td>39140.0</td>\n",
       "      <td>10364.0</td>\n",
       "      <td>2.0</td>\n",
       "      <td>173.0</td>\n",
       "      <td>3.0</td>\n",
       "      <td>196.0</td>\n",
       "      <td>602.0</td>\n",
       "      <td>149511.400651</td>\n",
       "      <td>1</td>\n",
       "      <td>3</td>\n",
       "      <td>2017</td>\n",
       "      <td>другой</td>\n",
       "      <td>10.0</td>\n",
       "    </tr>\n",
       "    <tr>\n",
       "      <th>23698</th>\n",
       "      <td>4</td>\n",
       "      <td>1350000.0</td>\n",
       "      <td>32.30</td>\n",
       "      <td>2017-07-21</td>\n",
       "      <td>1</td>\n",
       "      <td>2.50</td>\n",
       "      <td>5.0</td>\n",
       "      <td>12.300000</td>\n",
       "      <td>1</td>\n",
       "      <td>False</td>\n",
       "      <td>False</td>\n",
       "      <td>False</td>\n",
       "      <td>9.000</td>\n",
       "      <td>0</td>\n",
       "      <td>Новый Учхоз</td>\n",
       "      <td>NaN</td>\n",
       "      <td>NaN</td>\n",
       "      <td>0.0</td>\n",
       "      <td>NaN</td>\n",
       "      <td>0.0</td>\n",
       "      <td>NaN</td>\n",
       "      <td>NaN</td>\n",
       "      <td>41795.665635</td>\n",
       "      <td>4</td>\n",
       "      <td>7</td>\n",
       "      <td>2017</td>\n",
       "      <td>первый</td>\n",
       "      <td>NaN</td>\n",
       "    </tr>\n",
       "  </tbody>\n",
       "</table>\n",
       "<p>21294 rows × 28 columns</p>\n",
       "</div>"
      ],
      "text/plain": [
       "       total_images  last_price  total_area first_day_exposition  rooms  \\\n",
       "1                 7   3350000.0       40.40           2018-12-04      1   \n",
       "2                10   5196000.0       56.00           2015-08-20      2   \n",
       "4                 2  10000000.0      100.00           2018-06-19      2   \n",
       "5                10   2890000.0       30.40           2018-09-10      1   \n",
       "6                 6   3700000.0       37.30           2017-11-02      1   \n",
       "...             ...         ...         ...                  ...    ...   \n",
       "23693             9   4600000.0       62.40           2016-08-05      3   \n",
       "23695            14   3100000.0       59.00           2018-01-15      3   \n",
       "23696            18   2500000.0       56.70           2018-02-11      2   \n",
       "23697            13  11475000.0       76.75           2017-03-28      2   \n",
       "23698             4   1350000.0       32.30           2017-07-21      1   \n",
       "\n",
       "       ceiling_height  floors_total  living_area  floor  is_apartment  studio  \\\n",
       "1                2.65          11.0    18.600000      1         False   False   \n",
       "2                2.65           5.0    34.300000      4         False   False   \n",
       "4                3.03          14.0    32.000000     13         False   False   \n",
       "5                2.65          12.0    14.400000      5         False   False   \n",
       "6                2.65          26.0    10.600000      6         False   False   \n",
       "...               ...           ...          ...    ...           ...     ...   \n",
       "23693            2.60           9.0    40.000000      8         False   False   \n",
       "23695            2.65           5.0    38.000000      4         False   False   \n",
       "23696            2.65           3.0    29.700000      1         False   False   \n",
       "23697            3.00          17.0     0.576923     12         False   False   \n",
       "23698            2.50           5.0    12.300000      1         False   False   \n",
       "\n",
       "       open_plan  kitchen_area  balcony     locality_name  airports_nearest  \\\n",
       "1          False        11.000        2            Шушары           12817.0   \n",
       "2          False         8.300        0   Санкт-Петербург           21741.0   \n",
       "4          False        41.000        0   Санкт-Петербург           31856.0   \n",
       "5          False         9.100        0           Янино-1               NaN   \n",
       "6          False        14.400        1         Парголово           52996.0   \n",
       "...          ...           ...      ...               ...               ...   \n",
       "23693      False         8.000        0          Петергоф           45602.0   \n",
       "23695      False         8.500        0             Тосно               NaN   \n",
       "23696      False         0.175        0  село Рождествено               NaN   \n",
       "23697      False        23.300        2   Санкт-Петербург           39140.0   \n",
       "23698      False         9.000        0       Новый Учхоз               NaN   \n",
       "\n",
       "       city_сenters_nearest  parks_around3000  parks_nearest  \\\n",
       "1                   18603.0               0.0            NaN   \n",
       "2                   13933.0               1.0           90.0   \n",
       "4                    8098.0               2.0          112.0   \n",
       "5                       NaN               0.0            NaN   \n",
       "6                   19143.0               0.0            NaN   \n",
       "...                     ...               ...            ...   \n",
       "23693               34104.0               1.0          352.0   \n",
       "23695                   NaN               0.0            NaN   \n",
       "23696                   NaN               0.0            NaN   \n",
       "23697               10364.0               2.0          173.0   \n",
       "23698                   NaN               0.0            NaN   \n",
       "\n",
       "       ponds_around3000  ponds_nearest  days_exposition  price_per_meter  \\\n",
       "1                   0.0            NaN             81.0     82920.792079   \n",
       "2                   2.0          574.0            558.0     92785.714286   \n",
       "4                   1.0           48.0            121.0    100000.000000   \n",
       "5                   0.0            NaN             55.0     95065.789474   \n",
       "6                   0.0            NaN            155.0     99195.710456   \n",
       "...                 ...            ...              ...              ...   \n",
       "23693               1.0          675.0            239.0     73717.948718   \n",
       "23695               0.0            NaN             45.0     52542.372881   \n",
       "23696               0.0            NaN              NaN     44091.710758   \n",
       "23697               3.0          196.0            602.0    149511.400651   \n",
       "23698               0.0            NaN              NaN     41795.665635   \n",
       "\n",
       "       week_day  month_exposition  year_exposition floor_type  \\\n",
       "1             1                12             2018     первый   \n",
       "2             3                 8             2015     другой   \n",
       "4             1                 6             2018     другой   \n",
       "5             0                 9             2018     другой   \n",
       "6             3                11             2017     другой   \n",
       "...         ...               ...              ...        ...   \n",
       "23693         4                 8             2016     другой   \n",
       "23695         0                 1             2018     другой   \n",
       "23696         6                 2             2018     первый   \n",
       "23697         1                 3             2017     другой   \n",
       "23698         4                 7             2017     первый   \n",
       "\n",
       "       city_сenters_nearest_km  \n",
       "1                         19.0  \n",
       "2                         14.0  \n",
       "4                          8.0  \n",
       "5                          NaN  \n",
       "6                         19.0  \n",
       "...                        ...  \n",
       "23693                     34.0  \n",
       "23695                      NaN  \n",
       "23696                      NaN  \n",
       "23697                     10.0  \n",
       "23698                      NaN  \n",
       "\n",
       "[21294 rows x 28 columns]"
      ]
     },
     "execution_count": 63,
     "metadata": {},
     "output_type": "execute_result"
    }
   ],
   "source": [
    "data"
   ]
  },
  {
   "cell_type": "markdown",
   "metadata": {},
   "source": [
    "### Проведите исследовательский анализ данных"
   ]
  },
  {
   "cell_type": "markdown",
   "metadata": {},
   "source": [
    "Построим гистограммы для некотоых параметров из таблицы , а именно:\n",
    "- общая площадь\n",
    "*жилая площадь\n",
    "*площадь кухни\n",
    "*цена объекта\n",
    "*количество комнат\n",
    "*высота потолков\n",
    "*этаж квартиры\n",
    "*тип этажа квартиры («первый», «последний», «другой»)\n",
    "*общее количество этажей в доме\n",
    "*расстояние до центра города в метрах\n",
    "*расстояние до ближайшего аэропорта\n",
    "*расстояние до ближайшего парка\n",
    "*день и месяц публикации объявления"
   ]
  },
  {
   "cell_type": "code",
   "execution_count": 64,
   "metadata": {},
   "outputs": [
    {
     "data": {
      "text/plain": [
       "<AxesSubplot:>"
      ]
     },
     "execution_count": 64,
     "metadata": {},
     "output_type": "execute_result"
    },
    {
     "data": {
      "image/png": "[encoded data removed]",
      "text/plain": [
       "<Figure size 432x288 with 1 Axes>"
      ]
     },
     "metadata": {
      "needs_background": "light"
     },
     "output_type": "display_data"
    }
   ],
   "source": [
    "data['total_area'].hist(legend=True,range=(0,150),bins=30)"
   ]
  },
  {
   "cell_type": "markdown",
   "metadata": {},
   "source": [
    "В основном квартиры продатся с общей площадью от 20 до 100 кв.м "
   ]
  },
  {
   "cell_type": "code",
   "execution_count": 65,
   "metadata": {},
   "outputs": [
    {
     "data": {
      "text/plain": [
       "<AxesSubplot:>"
      ]
     },
     "execution_count": 65,
     "metadata": {},
     "output_type": "execute_result"
    },
    {
     "data": {
      "image/png": "[encoded data removed]",
      "text/plain": [
       "<Figure size 432x288 with 1 Axes>"
      ]
     },
     "metadata": {
      "needs_background": "light"
     },
     "output_type": "display_data"
    }
   ],
   "source": [
    "data['living_area'].hist(range = (10,150),bins=30)"
   ]
  },
  {
   "cell_type": "markdown",
   "metadata": {},
   "source": [
    "Обычно жилая площадь составляет от 15 до 50 кв.м"
   ]
  },
  {
   "cell_type": "code",
   "execution_count": 66,
   "metadata": {},
   "outputs": [
    {
     "data": {
      "text/plain": [
       "<AxesSubplot:>"
      ]
     },
     "execution_count": 66,
     "metadata": {},
     "output_type": "execute_result"
    },
    {
     "data": {
      "image/png": "[encoded data removed]",
      "text/plain": [
       "<Figure size 432x288 with 1 Axes>"
      ]
     },
     "metadata": {
      "needs_background": "light"
     },
     "output_type": "display_data"
    }
   ],
   "source": [
    "data['kitchen_area'].hist(range = (5,40),bins='auto')"
   ]
  },
  {
   "cell_type": "markdown",
   "metadata": {},
   "source": [
    "Кухонная площадь обыычно имеет значение от 5 до 15 кв.м"
   ]
  },
  {
   "cell_type": "code",
   "execution_count": 67,
   "metadata": {},
   "outputs": [
    {
     "data": {
      "text/plain": [
       "<AxesSubplot:>"
      ]
     },
     "execution_count": 67,
     "metadata": {},
     "output_type": "execute_result"
    },
    {
     "data": {
      "image/png": "[encoded data removed]",
      "text/plain": [
       "<Figure size 432x288 with 1 Axes>"
      ]
     },
     "metadata": {
      "needs_background": "light"
     },
     "output_type": "display_data"
    }
   ],
   "source": [
    "data['last_price'].hist(range = (0,0.25e8),bins=30)"
   ]
  },
  {
   "cell_type": "markdown",
   "metadata": {},
   "source": [
    "Большинство квартир продаются по цене до 10 млн. Самое большое количество квартир до 5 млн.\n"
   ]
  },
  {
   "cell_type": "code",
   "execution_count": 68,
   "metadata": {},
   "outputs": [
    {
     "data": {
      "text/plain": [
       "<AxesSubplot:>"
      ]
     },
     "execution_count": 68,
     "metadata": {},
     "output_type": "execute_result"
    },
    {
     "data": {
      "image/png": "[encoded data removed]",
      "text/plain": [
       "<Figure size 432x288 with 1 Axes>"
      ]
     },
     "metadata": {
      "needs_background": "light"
     },
     "output_type": "display_data"
    }
   ],
   "source": [
    "data['rooms'].hist(range = (0,5),bins=100)"
   ]
  },
  {
   "cell_type": "markdown",
   "metadata": {},
   "source": [
    "Большинство квартир на рынке недвижимости одно-, двух- и трех- комнатные."
   ]
  },
  {
   "cell_type": "code",
   "execution_count": 69,
   "metadata": {},
   "outputs": [
    {
     "data": {
      "text/plain": [
       "<AxesSubplot:>"
      ]
     },
     "execution_count": 69,
     "metadata": {},
     "output_type": "execute_result"
    },
    {
     "data": {
      "image/png": "[encoded data removed]",
      "text/plain": [
       "<Figure size 432x288 with 1 Axes>"
      ]
     },
     "metadata": {
      "needs_background": "light"
     },
     "output_type": "display_data"
    }
   ],
   "source": [
    "data['ceiling_height'].hist(range=(2.4,4),bins=50)"
   ]
  },
  {
   "cell_type": "markdown",
   "metadata": {},
   "source": [
    "Бльше всего квартир с высотой потолков 2,5-2,7 метра"
   ]
  },
  {
   "cell_type": "code",
   "execution_count": 70,
   "metadata": {},
   "outputs": [
    {
     "data": {
      "text/plain": [
       "<AxesSubplot:>"
      ]
     },
     "execution_count": 70,
     "metadata": {},
     "output_type": "execute_result"
    },
    {
     "data": {
      "image/png": "[encoded data removed]",
      "text/plain": [
       "<Figure size 432x288 with 1 Axes>"
      ]
     },
     "metadata": {
      "needs_background": "light"
     },
     "output_type": "display_data"
    }
   ],
   "source": [
    "data['floor'].hist(range=(1,25),bins=25)"
   ]
  },
  {
   "cell_type": "markdown",
   "metadata": {},
   "source": [
    "В основном квартиры размещаются до 10 этажа."
   ]
  },
  {
   "cell_type": "code",
   "execution_count": 71,
   "metadata": {},
   "outputs": [
    {
     "data": {
      "text/plain": [
       "<AxesSubplot:>"
      ]
     },
     "execution_count": 71,
     "metadata": {},
     "output_type": "execute_result"
    },
    {
     "data": {
      "image/png": "[encoded data removed]",
      "text/plain": [
       "<Figure size 432x288 with 1 Axes>"
      ]
     },
     "metadata": {
      "needs_background": "light"
     },
     "output_type": "display_data"
    }
   ],
   "source": [
    "data['floor_type'].hist()"
   ]
  },
  {
   "cell_type": "markdown",
   "metadata": {},
   "source": [
    "На рынке недвижимости больше всего квартир не на первом и не на поседнем этаже."
   ]
  },
  {
   "cell_type": "code",
   "execution_count": 72,
   "metadata": {},
   "outputs": [
    {
     "data": {
      "text/plain": [
       "<AxesSubplot:>"
      ]
     },
     "execution_count": 72,
     "metadata": {},
     "output_type": "execute_result"
    },
    {
     "data": {
      "image/png": "[encoded data removed]",
      "text/plain": [
       "<Figure size 432x288 with 1 Axes>"
      ]
     },
     "metadata": {
      "needs_background": "light"
     },
     "output_type": "display_data"
    }
   ],
   "source": [
    "data['floors_total'].hist(range=(0,30),bins=30)"
   ]
  },
  {
   "cell_type": "markdown",
   "metadata": {},
   "source": [
    "Данная гистограмма подтверждает ,что большинство квартир продаются в 5ти этажной застройке.Так же много квартир представлены в 9ти этажной застройке."
   ]
  },
  {
   "cell_type": "code",
   "execution_count": 73,
   "metadata": {
    "scrolled": true
   },
   "outputs": [
    {
     "data": {
      "text/plain": [
       "<AxesSubplot:>"
      ]
     },
     "execution_count": 73,
     "metadata": {},
     "output_type": "execute_result"
    },
    {
     "data": {
      "image/png": "[encoded data removed]",
      "text/plain": [
       "<Figure size 432x288 with 1 Axes>"
      ]
     },
     "metadata": {
      "needs_background": "light"
     },
     "output_type": "display_data"
    }
   ],
   "source": [
    "data['city_сenters_nearest'].hist(range=(0,60000), bins = 30)"
   ]
  },
  {
   "cell_type": "markdown",
   "metadata": {},
   "source": [
    "В основном квартиры располагаются до 15 км от центра города."
   ]
  },
  {
   "cell_type": "markdown",
   "metadata": {},
   "source": [
    "Проверим всплески от 30 до 55 км от города."
   ]
  },
  {
   "cell_type": "code",
   "execution_count": 74,
   "metadata": {},
   "outputs": [
    {
     "data": {
      "text/plain": [
       "Колпино         313\n",
       "Петергоф        190\n",
       "Сестрорецк      163\n",
       "Пушкин          135\n",
       "Ломоносов       126\n",
       "Шушары           95\n",
       "Кронштадт        91\n",
       "Красное Село     66\n",
       "Павловск         36\n",
       "Понтонный        20\n",
       "Зеленогорск      16\n",
       "Саперный          6\n",
       "Репино            2\n",
       "Белоостров        1\n",
       "Name: locality_name, dtype: int64"
      ]
     },
     "execution_count": 74,
     "metadata": {},
     "output_type": "execute_result"
    }
   ],
   "source": [
    "data[(data['city_сenters_nearest'] > 30000 ) & (data['city_сenters_nearest'] < 55000)]['locality_name'].value_counts()"
   ]
  },
  {
   "cell_type": "markdown",
   "metadata": {},
   "source": [
    "Всплески обусловлены наличием больших населенных пунктов в пригороде Санкт-Петербурга."
   ]
  },
  {
   "cell_type": "code",
   "execution_count": 75,
   "metadata": {
    "scrolled": true
   },
   "outputs": [
    {
     "data": {
      "text/plain": [
       "<AxesSubplot:>"
      ]
     },
     "execution_count": 75,
     "metadata": {},
     "output_type": "execute_result"
    },
    {
     "data": {
      "image/png": "[encoded data removed]",
      "text/plain": [
       "<Figure size 432x288 with 1 Axes>"
      ]
     },
     "metadata": {
      "needs_background": "light"
     },
     "output_type": "display_data"
    }
   ],
   "source": [
    "data['airports_nearest'].hist(bins=30,range=(0,60000))"
   ]
  },
  {
   "cell_type": "markdown",
   "metadata": {},
   "source": [
    "Так как аэропорт находистя за городом, почти все квартиры находятся на расстоянии от 10 км от аэропорта."
   ]
  },
  {
   "cell_type": "code",
   "execution_count": 76,
   "metadata": {},
   "outputs": [
    {
     "data": {
      "text/plain": [
       "<AxesSubplot:>"
      ]
     },
     "execution_count": 76,
     "metadata": {},
     "output_type": "execute_result"
    },
    {
     "data": {
      "image/png": "[encoded data removed]",
      "text/plain": [
       "<Figure size 432x288 with 1 Axes>"
      ]
     },
     "metadata": {
      "needs_background": "light"
     },
     "output_type": "display_data"
    }
   ],
   "source": [
    "data['parks_nearest'].hist(range=(0,1500),bins=30)"
   ]
  },
  {
   "cell_type": "markdown",
   "metadata": {},
   "source": [
    "Наличие рядом с кватирой парка,является преимуществом. В основном квартиры расположены до 800 метров от парка."
   ]
  },
  {
   "cell_type": "code",
   "execution_count": 77,
   "metadata": {},
   "outputs": [
    {
     "data": {
      "text/plain": [
       "<AxesSubplot:>"
      ]
     },
     "execution_count": 77,
     "metadata": {},
     "output_type": "execute_result"
    },
    {
     "data": {
      "image/png": "[encoded data removed]",
      "text/plain": [
       "<Figure size 432x288 with 1 Axes>"
      ]
     },
     "metadata": {
      "needs_background": "light"
     },
     "output_type": "display_data"
    }
   ],
   "source": [
    "data['week_day'].hist(bins=30)"
   ]
  },
  {
   "cell_type": "markdown",
   "metadata": {},
   "source": [
    "Большенство объявлений публикуют в будние дни. На выходных заметен спад публикации."
   ]
  },
  {
   "cell_type": "code",
   "execution_count": 78,
   "metadata": {},
   "outputs": [
    {
     "data": {
      "text/plain": [
       "<AxesSubplot:>"
      ]
     },
     "execution_count": 78,
     "metadata": {},
     "output_type": "execute_result"
    },
    {
     "data": {
      "image/png": "[encoded data removed]",
      "text/plain": [
       "<Figure size 432x288 with 1 Axes>"
      ]
     },
     "metadata": {
      "needs_background": "light"
     },
     "output_type": "display_data"
    }
   ],
   "source": [
    "data['month_exposition'].hist(bins=24)"
   ]
  },
  {
   "cell_type": "markdown",
   "metadata": {},
   "source": [
    "На гистограмме заметно, что сезоном продажи квартиры являются февраль,март,апрель,сентябрь,октябрь и ноябрь."
   ]
  },
  {
   "cell_type": "markdown",
   "metadata": {},
   "source": [
    "Изучим как быстро продовались квартиры"
   ]
  },
  {
   "cell_type": "code",
   "execution_count": 79,
   "metadata": {},
   "outputs": [
    {
     "data": {
      "text/plain": [
       "<AxesSubplot:>"
      ]
     },
     "execution_count": 79,
     "metadata": {},
     "output_type": "execute_result"
    },
    {
     "data": {
      "image/png": "[encoded data removed]",
      "text/plain": [
       "<Figure size 432x288 with 1 Axes>"
      ]
     },
     "metadata": {
      "needs_background": "light"
     },
     "output_type": "display_data"
    }
   ],
   "source": [
    "data['days_exposition'].hist()"
   ]
  },
  {
   "cell_type": "markdown",
   "metadata": {},
   "source": [
    "Сделаем числовое описание 'days_exposition' и построим диаграмму размаха"
   ]
  },
  {
   "cell_type": "code",
   "execution_count": 80,
   "metadata": {},
   "outputs": [
    {
     "data": {
      "text/plain": [
       "count    18698.000000\n",
       "mean       171.726120\n",
       "std        209.980971\n",
       "min          1.000000\n",
       "25%         43.000000\n",
       "50%         91.000000\n",
       "75%        217.000000\n",
       "max       1580.000000\n",
       "Name: days_exposition, dtype: float64"
      ]
     },
     "execution_count": 80,
     "metadata": {},
     "output_type": "execute_result"
    }
   ],
   "source": [
    "data['days_exposition'].describe()"
   ]
  },
  {
   "cell_type": "code",
   "execution_count": 81,
   "metadata": {},
   "outputs": [
    {
     "data": {
      "text/plain": [
       "<AxesSubplot:>"
      ]
     },
     "execution_count": 81,
     "metadata": {},
     "output_type": "execute_result"
    },
    {
     "data": {
      "image/png": "[encoded data removed]",
      "text/plain": [
       "<Figure size 432x288 with 1 Axes>"
      ]
     },
     "metadata": {
      "needs_background": "light"
     },
     "output_type": "display_data"
    }
   ],
   "source": [
    "data.boxplot('days_exposition')"
   ]
  },
  {
   "cell_type": "code",
   "execution_count": 82,
   "metadata": {},
   "outputs": [
    {
     "data": {
      "text/plain": [
       "(0.0, 550.0)"
      ]
     },
     "execution_count": 82,
     "metadata": {},
     "output_type": "execute_result"
    },
    {
     "data": {
      "image/png": "[encoded data removed]",
      "text/plain": [
       "<Figure size 432x288 with 1 Axes>"
      ]
     },
     "metadata": {
      "needs_background": "light"
     },
     "output_type": "display_data"
    }
   ],
   "source": [
    "data.boxplot('days_exposition')\n",
    "plt.ylim(0, 550)"
   ]
  },
  {
   "cell_type": "markdown",
   "metadata": {},
   "source": [
    "Минимальное количество дней объявления на сайте - 1 день. Среднее количество дней - 180. Медианное значение - 95. Максимальное - 1580 дней."
   ]
  },
  {
   "cell_type": "markdown",
   "metadata": {},
   "source": [
    "Квартиры которые продавались , больше 500 дней это выбросы"
   ]
  },
  {
   "cell_type": "markdown",
   "metadata": {},
   "source": [
    "Следовательно обычно квартиры продаются за 95 дней. 25% квартир продаются от 0 до 45 дней. Это является быстрой продажей . 75% квартир продаются до 231 день. И медленные продажи квартир от 231 до 500 дней."
   ]
  },
  {
   "cell_type": "markdown",
   "metadata": {},
   "source": [
    "Изучим какие из этих факторов влияют на общую стоимость объекта.\n",
    "- общей площади;\n",
    "- жилой площади;\n",
    "- площади кухни;\n",
    "- количество комнат;\n",
    "- типа этажа, на котором расположена квартира (первый, последний, другой);\n",
    "- даты размещения (день недели, месяц, год);"
   ]
  },
  {
   "cell_type": "markdown",
   "metadata": {},
   "source": [
    "Зависит ли цена от общей площади."
   ]
  },
  {
   "cell_type": "code",
   "execution_count": 83,
   "metadata": {},
   "outputs": [
    {
     "data": {
      "text/plain": [
       "<AxesSubplot:xlabel='total_area', ylabel='last_price'>"
      ]
     },
     "execution_count": 83,
     "metadata": {},
     "output_type": "execute_result"
    },
    {
     "data": {
      "image/png": "[encoded data removed]",
      "text/plain": [
       "<Figure size 432x288 with 1 Axes>"
      ]
     },
     "metadata": {
      "needs_background": "light"
     },
     "output_type": "display_data"
    }
   ],
   "source": [
    "data.plot(x='total_area', y='last_price', kind='scatter', alpha=0.4)"
   ]
  },
  {
   "cell_type": "code",
   "execution_count": 84,
   "metadata": {},
   "outputs": [
    {
     "data": {
      "text/plain": [
       "0.6931894530199184"
      ]
     },
     "execution_count": 84,
     "metadata": {},
     "output_type": "execute_result"
    }
   ],
   "source": [
    "data['total_area'].corr(data['last_price'])"
   ]
  },
  {
   "cell_type": "markdown",
   "metadata": {},
   "source": [
    "Мы посчитали корреляцию и увидели явную зависимость между ценой квартиры и общей площадью.Чем больше площадь, тем выше цена."
   ]
  },
  {
   "cell_type": "markdown",
   "metadata": {},
   "source": [
    "Зависит ли цена от жтлой площади."
   ]
  },
  {
   "cell_type": "code",
   "execution_count": 85,
   "metadata": {},
   "outputs": [
    {
     "data": {
      "text/plain": [
       "<AxesSubplot:xlabel='living_area', ylabel='last_price'>"
      ]
     },
     "execution_count": 85,
     "metadata": {},
     "output_type": "execute_result"
    },
    {
     "data": {
      "image/png": "[encoded data removed]",
      "text/plain": [
       "<Figure size 432x288 with 1 Axes>"
      ]
     },
     "metadata": {
      "needs_background": "light"
     },
     "output_type": "display_data"
    }
   ],
   "source": [
    "data.plot(x='living_area', y='last_price', kind='scatter', alpha=0.4)"
   ]
  },
  {
   "cell_type": "code",
   "execution_count": 86,
   "metadata": {},
   "outputs": [
    {
     "data": {
      "text/plain": [
       "0.46729746064512717"
      ]
     },
     "execution_count": 86,
     "metadata": {},
     "output_type": "execute_result"
    }
   ],
   "source": [
    "data['living_area'].corr(data['last_price'])"
   ]
  },
  {
   "cell_type": "markdown",
   "metadata": {},
   "source": [
    "Мы посчитали корреляцию и увидели зависимость цены квартиры от жтлой площади. Чем больше жилая площадь, тем выше цена квартиры."
   ]
  },
  {
   "cell_type": "code",
   "execution_count": 87,
   "metadata": {},
   "outputs": [
    {
     "data": {
      "text/plain": [
       "<AxesSubplot:xlabel='kitchen_area', ylabel='last_price'>"
      ]
     },
     "execution_count": 87,
     "metadata": {},
     "output_type": "execute_result"
    },
    {
     "data": {
      "image/png": "[encoded data removed]",
      "text/plain": [
       "<Figure size 432x288 with 1 Axes>"
      ]
     },
     "metadata": {
      "needs_background": "light"
     },
     "output_type": "display_data"
    }
   ],
   "source": [
    "data.plot(x='kitchen_area', y='last_price', kind='scatter', alpha=0.4)"
   ]
  },
  {
   "cell_type": "code",
   "execution_count": 88,
   "metadata": {},
   "outputs": [
    {
     "data": {
      "text/plain": [
       "0.40911560622447174"
      ]
     },
     "execution_count": 88,
     "metadata": {},
     "output_type": "execute_result"
    }
   ],
   "source": [
    "data['kitchen_area'].corr(data['last_price'])"
   ]
  },
  {
   "cell_type": "markdown",
   "metadata": {},
   "source": [
    "Корреляция горазд меньше ,чем в предыдущих пунктах. Поэтому можно сделать вывод: площадь кухни тоже влияет на цену квартиры, но зависимость не такая сильная. "
   ]
  },
  {
   "cell_type": "markdown",
   "metadata": {},
   "source": [
    "Изучим зависит ли цена от количества комнат."
   ]
  },
  {
   "cell_type": "code",
   "execution_count": 89,
   "metadata": {},
   "outputs": [
    {
     "data": {
      "text/plain": [
       "<AxesSubplot:xlabel='rooms', ylabel='last_price'>"
      ]
     },
     "execution_count": 89,
     "metadata": {},
     "output_type": "execute_result"
    },
    {
     "data": {
      "image/png": "[encoded data removed]",
      "text/plain": [
       "<Figure size 432x288 with 1 Axes>"
      ]
     },
     "metadata": {
      "needs_background": "light"
     },
     "output_type": "display_data"
    }
   ],
   "source": [
    "data.plot(x='rooms', y='last_price', kind='scatter', alpha=0.4)"
   ]
  },
  {
   "cell_type": "code",
   "execution_count": 90,
   "metadata": {},
   "outputs": [
    {
     "data": {
      "text/plain": [
       "0.42469664361533044"
      ]
     },
     "execution_count": 90,
     "metadata": {},
     "output_type": "execute_result"
    }
   ],
   "source": [
    "data['rooms'].corr(data['last_price'])"
   ]
  },
  {
   "cell_type": "markdown",
   "metadata": {},
   "source": [
    "На графике видно ,что корреляция проявляется сильнее в квартирах до 5ти комнат. Так же заметим,что ,чем больше комнат , тем больше ена квартиры,но зависимость небольшая."
   ]
  },
  {
   "cell_type": "markdown",
   "metadata": {},
   "source": [
    "Изучим зависит ли цена от типа этажа. на котором расположена квартира."
   ]
  },
  {
   "cell_type": "code",
   "execution_count": 91,
   "metadata": {},
   "outputs": [
    {
     "data": {
      "text/html": [
       "<div>\n",
       "<style scoped>\n",
       "    .dataframe tbody tr th:only-of-type {\n",
       "        vertical-align: middle;\n",
       "    }\n",
       "\n",
       "    .dataframe tbody tr th {\n",
       "        vertical-align: top;\n",
       "    }\n",
       "\n",
       "    .dataframe thead th {\n",
       "        text-align: right;\n",
       "    }\n",
       "</style>\n",
       "<table border=\"1\" class=\"dataframe\">\n",
       "  <thead>\n",
       "    <tr style=\"text-align: right;\">\n",
       "      <th></th>\n",
       "      <th>last_price</th>\n",
       "    </tr>\n",
       "    <tr>\n",
       "      <th>floor_type</th>\n",
       "      <th></th>\n",
       "    </tr>\n",
       "  </thead>\n",
       "  <tbody>\n",
       "    <tr>\n",
       "      <th>первый</th>\n",
       "      <td>3800000.0</td>\n",
       "    </tr>\n",
       "    <tr>\n",
       "      <th>последний</th>\n",
       "      <td>4000000.0</td>\n",
       "    </tr>\n",
       "    <tr>\n",
       "      <th>другой</th>\n",
       "      <td>4550000.0</td>\n",
       "    </tr>\n",
       "  </tbody>\n",
       "</table>\n",
       "</div>"
      ],
      "text/plain": [
       "            last_price\n",
       "floor_type            \n",
       "первый       3800000.0\n",
       "последний    4000000.0\n",
       "другой       4550000.0"
      ]
     },
     "execution_count": 91,
     "metadata": {},
     "output_type": "execute_result"
    }
   ],
   "source": [
    "data.pivot_table(index='floor_type', values='last_price', aggfunc='median').sort_values(by='last_price')"
   ]
  },
  {
   "cell_type": "code",
   "execution_count": 92,
   "metadata": {},
   "outputs": [
    {
     "data": {
      "text/plain": [
       "<AxesSubplot:xlabel='floor_type', ylabel='last_price'>"
      ]
     },
     "execution_count": 92,
     "metadata": {},
     "output_type": "execute_result"
    },
    {
     "data": {
      "image/png": "[encoded data removed]",
      "text/plain": [
       "<Figure size 432x288 with 1 Axes>"
      ]
     },
     "metadata": {
      "needs_background": "light"
     },
     "output_type": "display_data"
    }
   ],
   "source": [
    "data.plot(x='floor_type', y='last_price', kind='scatter', alpha=0.2)\n"
   ]
  },
  {
   "cell_type": "markdown",
   "metadata": {},
   "source": [
    "Цена квартиры на последнем этаже самая большая. Дешевле на других этажах и самые дешевые квартиры на первом этаже."
   ]
  },
  {
   "cell_type": "markdown",
   "metadata": {},
   "source": [
    "Изучим ,зависит ли цена от дня рамещения объявления."
   ]
  },
  {
   "cell_type": "code",
   "execution_count": 93,
   "metadata": {},
   "outputs": [],
   "source": [
    "day_price = data.pivot_table(index='week_day', values='last_price', aggfunc='median').reset_index()"
   ]
  },
  {
   "cell_type": "code",
   "execution_count": 94,
   "metadata": {},
   "outputs": [
    {
     "data": {
      "text/plain": [
       "<AxesSubplot:xlabel='week_day'>"
      ]
     },
     "execution_count": 94,
     "metadata": {},
     "output_type": "execute_result"
    },
    {
     "data": {
      "image/png": "[encoded data removed]",
      "text/plain": [
       "<Figure size 432x288 with 1 Axes>"
      ]
     },
     "metadata": {
      "needs_background": "light"
     },
     "output_type": "display_data"
    }
   ],
   "source": [
    "day_price.plot(x='week_day', y='last_price')"
   ]
  },
  {
   "cell_type": "markdown",
   "metadata": {},
   "source": [
    "Из графика можно сделать вывод, что в пятницу,субботу и воскресень цена вставленных квартир, еньше ,чем в начале и середине недели."
   ]
  },
  {
   "cell_type": "markdown",
   "metadata": {},
   "source": [
    "Изучим ,зависит ли цена от месяца рамещения объявления."
   ]
  },
  {
   "cell_type": "code",
   "execution_count": 95,
   "metadata": {},
   "outputs": [
    {
     "data": {
      "text/html": [
       "<div>\n",
       "<style scoped>\n",
       "    .dataframe tbody tr th:only-of-type {\n",
       "        vertical-align: middle;\n",
       "    }\n",
       "\n",
       "    .dataframe tbody tr th {\n",
       "        vertical-align: top;\n",
       "    }\n",
       "\n",
       "    .dataframe thead th {\n",
       "        text-align: right;\n",
       "    }\n",
       "</style>\n",
       "<table border=\"1\" class=\"dataframe\">\n",
       "  <thead>\n",
       "    <tr style=\"text-align: right;\">\n",
       "      <th></th>\n",
       "      <th>month_exposition</th>\n",
       "      <th>last_price</th>\n",
       "    </tr>\n",
       "  </thead>\n",
       "  <tbody>\n",
       "    <tr>\n",
       "      <th>0</th>\n",
       "      <td>1</td>\n",
       "      <td>4380000.0</td>\n",
       "    </tr>\n",
       "    <tr>\n",
       "      <th>1</th>\n",
       "      <td>2</td>\n",
       "      <td>4390000.0</td>\n",
       "    </tr>\n",
       "    <tr>\n",
       "      <th>2</th>\n",
       "      <td>3</td>\n",
       "      <td>4400000.0</td>\n",
       "    </tr>\n",
       "    <tr>\n",
       "      <th>3</th>\n",
       "      <td>4</td>\n",
       "      <td>4550000.0</td>\n",
       "    </tr>\n",
       "    <tr>\n",
       "      <th>4</th>\n",
       "      <td>5</td>\n",
       "      <td>4300000.0</td>\n",
       "    </tr>\n",
       "    <tr>\n",
       "      <th>5</th>\n",
       "      <td>6</td>\n",
       "      <td>4200000.0</td>\n",
       "    </tr>\n",
       "    <tr>\n",
       "      <th>6</th>\n",
       "      <td>7</td>\n",
       "      <td>4340000.0</td>\n",
       "    </tr>\n",
       "    <tr>\n",
       "      <th>7</th>\n",
       "      <td>8</td>\n",
       "      <td>4350000.0</td>\n",
       "    </tr>\n",
       "    <tr>\n",
       "      <th>8</th>\n",
       "      <td>9</td>\n",
       "      <td>4400000.0</td>\n",
       "    </tr>\n",
       "    <tr>\n",
       "      <th>9</th>\n",
       "      <td>10</td>\n",
       "      <td>4377500.0</td>\n",
       "    </tr>\n",
       "    <tr>\n",
       "      <th>10</th>\n",
       "      <td>11</td>\n",
       "      <td>4440000.0</td>\n",
       "    </tr>\n",
       "    <tr>\n",
       "      <th>11</th>\n",
       "      <td>12</td>\n",
       "      <td>4449000.0</td>\n",
       "    </tr>\n",
       "  </tbody>\n",
       "</table>\n",
       "</div>"
      ],
      "text/plain": [
       "    month_exposition  last_price\n",
       "0                  1   4380000.0\n",
       "1                  2   4390000.0\n",
       "2                  3   4400000.0\n",
       "3                  4   4550000.0\n",
       "4                  5   4300000.0\n",
       "5                  6   4200000.0\n",
       "6                  7   4340000.0\n",
       "7                  8   4350000.0\n",
       "8                  9   4400000.0\n",
       "9                 10   4377500.0\n",
       "10                11   4440000.0\n",
       "11                12   4449000.0"
      ]
     },
     "execution_count": 95,
     "metadata": {},
     "output_type": "execute_result"
    }
   ],
   "source": [
    "month_price = data.pivot_table(index='month_exposition', values='last_price', aggfunc='median').reset_index()\n",
    "month_price"
   ]
  },
  {
   "cell_type": "code",
   "execution_count": 96,
   "metadata": {
    "scrolled": true
   },
   "outputs": [
    {
     "data": {
      "text/plain": [
       "(4000000.0, 5500000.0)"
      ]
     },
     "execution_count": 96,
     "metadata": {},
     "output_type": "execute_result"
    },
    {
     "data": {
      "image/png": "[encoded data removed]",
      "text/plain": [
       "<Figure size 432x288 with 1 Axes>"
      ]
     },
     "metadata": {
      "needs_background": "light"
     },
     "output_type": "display_data"
    }
   ],
   "source": [
    "month_price.plot(x='month_exposition', y='last_price')\n",
    "plt.ylim(4000000,5500000)"
   ]
  },
  {
   "cell_type": "markdown",
   "metadata": {},
   "source": [
    "По графику можно увидеть, что какой-либо зависимости в цене квартиры от месяца года нет."
   ]
  },
  {
   "cell_type": "code",
   "execution_count": 97,
   "metadata": {},
   "outputs": [
    {
     "data": {
      "text/html": [
       "<div>\n",
       "<style scoped>\n",
       "    .dataframe tbody tr th:only-of-type {\n",
       "        vertical-align: middle;\n",
       "    }\n",
       "\n",
       "    .dataframe tbody tr th {\n",
       "        vertical-align: top;\n",
       "    }\n",
       "\n",
       "    .dataframe thead th {\n",
       "        text-align: right;\n",
       "    }\n",
       "</style>\n",
       "<table border=\"1\" class=\"dataframe\">\n",
       "  <thead>\n",
       "    <tr style=\"text-align: right;\">\n",
       "      <th></th>\n",
       "      <th>year_exposition</th>\n",
       "      <th>last_price</th>\n",
       "    </tr>\n",
       "  </thead>\n",
       "  <tbody>\n",
       "    <tr>\n",
       "      <th>0</th>\n",
       "      <td>2014</td>\n",
       "      <td>5425000.0</td>\n",
       "    </tr>\n",
       "    <tr>\n",
       "      <th>1</th>\n",
       "      <td>2015</td>\n",
       "      <td>4790000.0</td>\n",
       "    </tr>\n",
       "    <tr>\n",
       "      <th>2</th>\n",
       "      <td>2016</td>\n",
       "      <td>4270000.0</td>\n",
       "    </tr>\n",
       "    <tr>\n",
       "      <th>3</th>\n",
       "      <td>2017</td>\n",
       "      <td>4250000.0</td>\n",
       "    </tr>\n",
       "    <tr>\n",
       "      <th>4</th>\n",
       "      <td>2018</td>\n",
       "      <td>4350000.0</td>\n",
       "    </tr>\n",
       "    <tr>\n",
       "      <th>5</th>\n",
       "      <td>2019</td>\n",
       "      <td>4800000.0</td>\n",
       "    </tr>\n",
       "  </tbody>\n",
       "</table>\n",
       "</div>"
      ],
      "text/plain": [
       "   year_exposition  last_price\n",
       "0             2014   5425000.0\n",
       "1             2015   4790000.0\n",
       "2             2016   4270000.0\n",
       "3             2017   4250000.0\n",
       "4             2018   4350000.0\n",
       "5             2019   4800000.0"
      ]
     },
     "execution_count": 97,
     "metadata": {},
     "output_type": "execute_result"
    }
   ],
   "source": [
    "year_price = data.pivot_table(index='year_exposition', values='last_price', aggfunc='median').reset_index()\n",
    "year_price"
   ]
  },
  {
   "cell_type": "code",
   "execution_count": 98,
   "metadata": {},
   "outputs": [
    {
     "data": {
      "text/plain": [
       "<AxesSubplot:xlabel='year_exposition'>"
      ]
     },
     "execution_count": 98,
     "metadata": {},
     "output_type": "execute_result"
    },
    {
     "data": {
      "image/png": "[encoded data removed]",
      "text/plain": [
       "<Figure size 432x288 with 1 Axes>"
      ]
     },
     "metadata": {
      "needs_background": "light"
     },
     "output_type": "display_data"
    }
   ],
   "source": [
    "year_price.plot(x='year_exposition', y='last_price')"
   ]
  },
  {
   "cell_type": "markdown",
   "metadata": {},
   "source": [
    "Цена квартир с 2014 года по 2017 резко уменьшалось, с 2018 заметен небольшоя рост."
   ]
  },
  {
   "cell_type": "markdown",
   "metadata": {},
   "source": [
    "Посчитаем среднюю цену одного квадратного метра в 10 населённых пунктах с наибольшим числом объявлений и выделим населённые пункты с самой высокой и низкой стоимостью квадратного метра. "
   ]
  },
  {
   "cell_type": "markdown",
   "metadata": {},
   "source": [
    "Найдем 10 населенных пунктов с наибльшим числом объявлений.Для начала создадим сводную таблицу."
   ]
  },
  {
   "cell_type": "code",
   "execution_count": 99,
   "metadata": {},
   "outputs": [
    {
     "data": {
      "text/html": [
       "<div>\n",
       "<style scoped>\n",
       "    .dataframe tbody tr th:only-of-type {\n",
       "        vertical-align: middle;\n",
       "    }\n",
       "\n",
       "    .dataframe tbody tr th {\n",
       "        vertical-align: top;\n",
       "    }\n",
       "\n",
       "    .dataframe thead tr th {\n",
       "        text-align: left;\n",
       "    }\n",
       "</style>\n",
       "<table border=\"1\" class=\"dataframe\">\n",
       "  <thead>\n",
       "    <tr>\n",
       "      <th></th>\n",
       "      <th>locality_name</th>\n",
       "      <th>count</th>\n",
       "      <th>mean</th>\n",
       "    </tr>\n",
       "    <tr>\n",
       "      <th></th>\n",
       "      <th></th>\n",
       "      <th>price_per_meter</th>\n",
       "      <th>price_per_meter</th>\n",
       "    </tr>\n",
       "  </thead>\n",
       "  <tbody>\n",
       "    <tr>\n",
       "      <th>0</th>\n",
       "      <td>Агалатово</td>\n",
       "      <td>4</td>\n",
       "      <td>71214.470963</td>\n",
       "    </tr>\n",
       "    <tr>\n",
       "      <th>1</th>\n",
       "      <td>Александровская</td>\n",
       "      <td>1</td>\n",
       "      <td>63559.322034</td>\n",
       "    </tr>\n",
       "    <tr>\n",
       "      <th>2</th>\n",
       "      <td>Алексеевка</td>\n",
       "      <td>1</td>\n",
       "      <td>22222.222222</td>\n",
       "    </tr>\n",
       "    <tr>\n",
       "      <th>3</th>\n",
       "      <td>Аннино</td>\n",
       "      <td>16</td>\n",
       "      <td>63322.637137</td>\n",
       "    </tr>\n",
       "    <tr>\n",
       "      <th>4</th>\n",
       "      <td>Аро</td>\n",
       "      <td>3</td>\n",
       "      <td>51412.421933</td>\n",
       "    </tr>\n",
       "    <tr>\n",
       "      <th>...</th>\n",
       "      <td>...</td>\n",
       "      <td>...</td>\n",
       "      <td>...</td>\n",
       "    </tr>\n",
       "    <tr>\n",
       "      <th>304</th>\n",
       "      <td>станции Громово</td>\n",
       "      <td>3</td>\n",
       "      <td>34081.684424</td>\n",
       "    </tr>\n",
       "    <tr>\n",
       "      <th>305</th>\n",
       "      <td>станции Корнево</td>\n",
       "      <td>1</td>\n",
       "      <td>82568.807339</td>\n",
       "    </tr>\n",
       "    <tr>\n",
       "      <th>306</th>\n",
       "      <td>станции Лужайка</td>\n",
       "      <td>1</td>\n",
       "      <td>15000.000000</td>\n",
       "    </tr>\n",
       "    <tr>\n",
       "      <th>307</th>\n",
       "      <td>станции Приветнинское</td>\n",
       "      <td>2</td>\n",
       "      <td>57079.365079</td>\n",
       "    </tr>\n",
       "    <tr>\n",
       "      <th>308</th>\n",
       "      <td>станции Свирь</td>\n",
       "      <td>2</td>\n",
       "      <td>11481.481481</td>\n",
       "    </tr>\n",
       "  </tbody>\n",
       "</table>\n",
       "<p>309 rows × 3 columns</p>\n",
       "</div>"
      ],
      "text/plain": [
       "             locality_name           count            mean\n",
       "                           price_per_meter price_per_meter\n",
       "0                Агалатово               4    71214.470963\n",
       "1          Александровская               1    63559.322034\n",
       "2               Алексеевка               1    22222.222222\n",
       "3                   Аннино              16    63322.637137\n",
       "4                      Аро               3    51412.421933\n",
       "..                     ...             ...             ...\n",
       "304        станции Громово               3    34081.684424\n",
       "305        станции Корнево               1    82568.807339\n",
       "306        станции Лужайка               1    15000.000000\n",
       "307  станции Приветнинское               2    57079.365079\n",
       "308          станции Свирь               2    11481.481481\n",
       "\n",
       "[309 rows x 3 columns]"
      ]
     },
     "execution_count": 99,
     "metadata": {},
     "output_type": "execute_result"
    }
   ],
   "source": [
    "data_price = data.pivot_table(index='locality_name', values='price_per_meter', aggfunc=['count', 'mean']).reset_index() \n",
    "data_price"
   ]
  },
  {
   "cell_type": "markdown",
   "metadata": {},
   "source": [
    "Переименуем столбцы"
   ]
  },
  {
   "cell_type": "code",
   "execution_count": 100,
   "metadata": {},
   "outputs": [
    {
     "data": {
      "text/html": [
       "<div>\n",
       "<style scoped>\n",
       "    .dataframe tbody tr th:only-of-type {\n",
       "        vertical-align: middle;\n",
       "    }\n",
       "\n",
       "    .dataframe tbody tr th {\n",
       "        vertical-align: top;\n",
       "    }\n",
       "\n",
       "    .dataframe thead th {\n",
       "        text-align: right;\n",
       "    }\n",
       "</style>\n",
       "<table border=\"1\" class=\"dataframe\">\n",
       "  <thead>\n",
       "    <tr style=\"text-align: right;\">\n",
       "      <th></th>\n",
       "      <th>locality_name</th>\n",
       "      <th>count</th>\n",
       "      <th>mean</th>\n",
       "    </tr>\n",
       "  </thead>\n",
       "  <tbody>\n",
       "    <tr>\n",
       "      <th>0</th>\n",
       "      <td>Агалатово</td>\n",
       "      <td>4</td>\n",
       "      <td>71214.470963</td>\n",
       "    </tr>\n",
       "    <tr>\n",
       "      <th>1</th>\n",
       "      <td>Александровская</td>\n",
       "      <td>1</td>\n",
       "      <td>63559.322034</td>\n",
       "    </tr>\n",
       "    <tr>\n",
       "      <th>2</th>\n",
       "      <td>Алексеевка</td>\n",
       "      <td>1</td>\n",
       "      <td>22222.222222</td>\n",
       "    </tr>\n",
       "    <tr>\n",
       "      <th>3</th>\n",
       "      <td>Аннино</td>\n",
       "      <td>16</td>\n",
       "      <td>63322.637137</td>\n",
       "    </tr>\n",
       "    <tr>\n",
       "      <th>4</th>\n",
       "      <td>Аро</td>\n",
       "      <td>3</td>\n",
       "      <td>51412.421933</td>\n",
       "    </tr>\n",
       "    <tr>\n",
       "      <th>...</th>\n",
       "      <td>...</td>\n",
       "      <td>...</td>\n",
       "      <td>...</td>\n",
       "    </tr>\n",
       "    <tr>\n",
       "      <th>304</th>\n",
       "      <td>станции Громово</td>\n",
       "      <td>3</td>\n",
       "      <td>34081.684424</td>\n",
       "    </tr>\n",
       "    <tr>\n",
       "      <th>305</th>\n",
       "      <td>станции Корнево</td>\n",
       "      <td>1</td>\n",
       "      <td>82568.807339</td>\n",
       "    </tr>\n",
       "    <tr>\n",
       "      <th>306</th>\n",
       "      <td>станции Лужайка</td>\n",
       "      <td>1</td>\n",
       "      <td>15000.000000</td>\n",
       "    </tr>\n",
       "    <tr>\n",
       "      <th>307</th>\n",
       "      <td>станции Приветнинское</td>\n",
       "      <td>2</td>\n",
       "      <td>57079.365079</td>\n",
       "    </tr>\n",
       "    <tr>\n",
       "      <th>308</th>\n",
       "      <td>станции Свирь</td>\n",
       "      <td>2</td>\n",
       "      <td>11481.481481</td>\n",
       "    </tr>\n",
       "  </tbody>\n",
       "</table>\n",
       "<p>309 rows × 3 columns</p>\n",
       "</div>"
      ],
      "text/plain": [
       "             locality_name  count          mean\n",
       "0                Агалатово      4  71214.470963\n",
       "1          Александровская      1  63559.322034\n",
       "2               Алексеевка      1  22222.222222\n",
       "3                   Аннино     16  63322.637137\n",
       "4                      Аро      3  51412.421933\n",
       "..                     ...    ...           ...\n",
       "304        станции Громово      3  34081.684424\n",
       "305        станции Корнево      1  82568.807339\n",
       "306        станции Лужайка      1  15000.000000\n",
       "307  станции Приветнинское      2  57079.365079\n",
       "308          станции Свирь      2  11481.481481\n",
       "\n",
       "[309 rows x 3 columns]"
      ]
     },
     "execution_count": 100,
     "metadata": {},
     "output_type": "execute_result"
    }
   ],
   "source": [
    "data_price.columns = ('locality_name','count','mean')\n",
    "data_price"
   ]
  },
  {
   "cell_type": "markdown",
   "metadata": {},
   "source": [
    "Отсортируем по убыванию и выделим первые 10 строк."
   ]
  },
  {
   "cell_type": "code",
   "execution_count": 101,
   "metadata": {},
   "outputs": [],
   "source": [
    "data_price_sort = data_price.sort_values(by='count',ascending = False)\n",
    "data_price_10 = data_price_sort.head(10)"
   ]
  },
  {
   "cell_type": "markdown",
   "metadata": {},
   "source": [
    "Отсортируем по средней цене за квадратный метр."
   ]
  },
  {
   "cell_type": "code",
   "execution_count": 102,
   "metadata": {},
   "outputs": [
    {
     "data": {
      "text/html": [
       "<div>\n",
       "<style scoped>\n",
       "    .dataframe tbody tr th:only-of-type {\n",
       "        vertical-align: middle;\n",
       "    }\n",
       "\n",
       "    .dataframe tbody tr th {\n",
       "        vertical-align: top;\n",
       "    }\n",
       "\n",
       "    .dataframe thead th {\n",
       "        text-align: right;\n",
       "    }\n",
       "</style>\n",
       "<table border=\"1\" class=\"dataframe\">\n",
       "  <thead>\n",
       "    <tr style=\"text-align: right;\">\n",
       "      <th></th>\n",
       "      <th>locality_name</th>\n",
       "      <th>count</th>\n",
       "      <th>mean</th>\n",
       "    </tr>\n",
       "  </thead>\n",
       "  <tbody>\n",
       "    <tr>\n",
       "      <th>213</th>\n",
       "      <td>Санкт-Петербург</td>\n",
       "      <td>13523</td>\n",
       "      <td>105901.862723</td>\n",
       "    </tr>\n",
       "    <tr>\n",
       "      <th>194</th>\n",
       "      <td>Пушкин</td>\n",
       "      <td>337</td>\n",
       "      <td>100493.971120</td>\n",
       "    </tr>\n",
       "    <tr>\n",
       "      <th>102</th>\n",
       "      <td>Кудрово</td>\n",
       "      <td>467</td>\n",
       "      <td>95087.724999</td>\n",
       "    </tr>\n",
       "    <tr>\n",
       "      <th>165</th>\n",
       "      <td>Парголово</td>\n",
       "      <td>325</td>\n",
       "      <td>90417.201454</td>\n",
       "    </tr>\n",
       "    <tr>\n",
       "      <th>141</th>\n",
       "      <td>Мурино</td>\n",
       "      <td>586</td>\n",
       "      <td>86041.116064</td>\n",
       "    </tr>\n",
       "    <tr>\n",
       "      <th>283</th>\n",
       "      <td>Шушары</td>\n",
       "      <td>432</td>\n",
       "      <td>78620.137735</td>\n",
       "    </tr>\n",
       "    <tr>\n",
       "      <th>87</th>\n",
       "      <td>Колпино</td>\n",
       "      <td>335</td>\n",
       "      <td>75221.876295</td>\n",
       "    </tr>\n",
       "    <tr>\n",
       "      <th>41</th>\n",
       "      <td>Гатчина</td>\n",
       "      <td>303</td>\n",
       "      <td>68664.035870</td>\n",
       "    </tr>\n",
       "    <tr>\n",
       "      <th>33</th>\n",
       "      <td>Всеволожск</td>\n",
       "      <td>393</td>\n",
       "      <td>67284.294016</td>\n",
       "    </tr>\n",
       "    <tr>\n",
       "      <th>34</th>\n",
       "      <td>Выборг</td>\n",
       "      <td>225</td>\n",
       "      <td>58293.652302</td>\n",
       "    </tr>\n",
       "  </tbody>\n",
       "</table>\n",
       "</div>"
      ],
      "text/plain": [
       "       locality_name  count           mean\n",
       "213  Санкт-Петербург  13523  105901.862723\n",
       "194           Пушкин    337  100493.971120\n",
       "102          Кудрово    467   95087.724999\n",
       "165        Парголово    325   90417.201454\n",
       "141           Мурино    586   86041.116064\n",
       "283           Шушары    432   78620.137735\n",
       "87           Колпино    335   75221.876295\n",
       "41           Гатчина    303   68664.035870\n",
       "33        Всеволожск    393   67284.294016\n",
       "34            Выборг    225   58293.652302"
      ]
     },
     "execution_count": 102,
     "metadata": {},
     "output_type": "execute_result"
    }
   ],
   "source": [
    "data_price_10 = data_price_10.sort_values(by='mean',ascending = False)\n",
    "data_price_10"
   ]
  },
  {
   "cell_type": "markdown",
   "metadata": {},
   "source": [
    "Сделаем новую индексацию и оставим только 2 сотлбика 'locality_name' и 'mean'."
   ]
  },
  {
   "cell_type": "code",
   "execution_count": 103,
   "metadata": {},
   "outputs": [
    {
     "data": {
      "text/html": [
       "<div>\n",
       "<style scoped>\n",
       "    .dataframe tbody tr th:only-of-type {\n",
       "        vertical-align: middle;\n",
       "    }\n",
       "\n",
       "    .dataframe tbody tr th {\n",
       "        vertical-align: top;\n",
       "    }\n",
       "\n",
       "    .dataframe thead th {\n",
       "        text-align: right;\n",
       "    }\n",
       "</style>\n",
       "<table border=\"1\" class=\"dataframe\">\n",
       "  <thead>\n",
       "    <tr style=\"text-align: right;\">\n",
       "      <th></th>\n",
       "      <th>locality_name</th>\n",
       "      <th>mean</th>\n",
       "    </tr>\n",
       "  </thead>\n",
       "  <tbody>\n",
       "    <tr>\n",
       "      <th>0</th>\n",
       "      <td>Санкт-Петербург</td>\n",
       "      <td>105901.862723</td>\n",
       "    </tr>\n",
       "    <tr>\n",
       "      <th>1</th>\n",
       "      <td>Пушкин</td>\n",
       "      <td>100493.971120</td>\n",
       "    </tr>\n",
       "    <tr>\n",
       "      <th>2</th>\n",
       "      <td>Кудрово</td>\n",
       "      <td>95087.724999</td>\n",
       "    </tr>\n",
       "    <tr>\n",
       "      <th>3</th>\n",
       "      <td>Парголово</td>\n",
       "      <td>90417.201454</td>\n",
       "    </tr>\n",
       "    <tr>\n",
       "      <th>4</th>\n",
       "      <td>Мурино</td>\n",
       "      <td>86041.116064</td>\n",
       "    </tr>\n",
       "    <tr>\n",
       "      <th>5</th>\n",
       "      <td>Шушары</td>\n",
       "      <td>78620.137735</td>\n",
       "    </tr>\n",
       "    <tr>\n",
       "      <th>6</th>\n",
       "      <td>Колпино</td>\n",
       "      <td>75221.876295</td>\n",
       "    </tr>\n",
       "    <tr>\n",
       "      <th>7</th>\n",
       "      <td>Гатчина</td>\n",
       "      <td>68664.035870</td>\n",
       "    </tr>\n",
       "    <tr>\n",
       "      <th>8</th>\n",
       "      <td>Всеволожск</td>\n",
       "      <td>67284.294016</td>\n",
       "    </tr>\n",
       "    <tr>\n",
       "      <th>9</th>\n",
       "      <td>Выборг</td>\n",
       "      <td>58293.652302</td>\n",
       "    </tr>\n",
       "  </tbody>\n",
       "</table>\n",
       "</div>"
      ],
      "text/plain": [
       "     locality_name           mean\n",
       "0  Санкт-Петербург  105901.862723\n",
       "1           Пушкин  100493.971120\n",
       "2          Кудрово   95087.724999\n",
       "3        Парголово   90417.201454\n",
       "4           Мурино   86041.116064\n",
       "5           Шушары   78620.137735\n",
       "6          Колпино   75221.876295\n",
       "7          Гатчина   68664.035870\n",
       "8       Всеволожск   67284.294016\n",
       "9           Выборг   58293.652302"
      ]
     },
     "execution_count": 103,
     "metadata": {},
     "output_type": "execute_result"
    }
   ],
   "source": [
    "data_price_10 = data_price_10.reset_index().loc[:, ['locality_name','mean']]\n",
    "data_price_10"
   ]
  },
  {
   "cell_type": "markdown",
   "metadata": {},
   "source": [
    "Из таблицы можно сделать выво, что самый дорогой квадратный метр квартиры в г.Санкт-Петербург , самый дешевый в г.Выборг."
   ]
  },
  {
   "cell_type": "markdown",
   "metadata": {},
   "source": [
    "Далее выделим квартиры в Санкт-Петербурге с помощью столбца locality_name и вычислим среднюю цену каждого километра."
   ]
  },
  {
   "cell_type": "code",
   "execution_count": 104,
   "metadata": {},
   "outputs": [
    {
     "data": {
      "text/html": [
       "<div>\n",
       "<style scoped>\n",
       "    .dataframe tbody tr th:only-of-type {\n",
       "        vertical-align: middle;\n",
       "    }\n",
       "\n",
       "    .dataframe tbody tr th {\n",
       "        vertical-align: top;\n",
       "    }\n",
       "\n",
       "    .dataframe thead th {\n",
       "        text-align: right;\n",
       "    }\n",
       "</style>\n",
       "<table border=\"1\" class=\"dataframe\">\n",
       "  <thead>\n",
       "    <tr style=\"text-align: right;\">\n",
       "      <th></th>\n",
       "      <th>city_сenters_nearest_km</th>\n",
       "      <th>last_price</th>\n",
       "    </tr>\n",
       "  </thead>\n",
       "  <tbody>\n",
       "    <tr>\n",
       "      <th>0</th>\n",
       "      <td>0.0</td>\n",
       "      <td>8.053333e+06</td>\n",
       "    </tr>\n",
       "    <tr>\n",
       "      <th>1</th>\n",
       "      <td>1.0</td>\n",
       "      <td>8.128573e+06</td>\n",
       "    </tr>\n",
       "    <tr>\n",
       "      <th>2</th>\n",
       "      <td>2.0</td>\n",
       "      <td>7.792000e+06</td>\n",
       "    </tr>\n",
       "    <tr>\n",
       "      <th>3</th>\n",
       "      <td>3.0</td>\n",
       "      <td>7.190386e+06</td>\n",
       "    </tr>\n",
       "    <tr>\n",
       "      <th>4</th>\n",
       "      <td>4.0</td>\n",
       "      <td>7.426364e+06</td>\n",
       "    </tr>\n",
       "    <tr>\n",
       "      <th>5</th>\n",
       "      <td>5.0</td>\n",
       "      <td>7.543457e+06</td>\n",
       "    </tr>\n",
       "    <tr>\n",
       "      <th>6</th>\n",
       "      <td>6.0</td>\n",
       "      <td>7.059173e+06</td>\n",
       "    </tr>\n",
       "    <tr>\n",
       "      <th>7</th>\n",
       "      <td>7.0</td>\n",
       "      <td>6.690837e+06</td>\n",
       "    </tr>\n",
       "    <tr>\n",
       "      <th>8</th>\n",
       "      <td>8.0</td>\n",
       "      <td>6.582529e+06</td>\n",
       "    </tr>\n",
       "    <tr>\n",
       "      <th>9</th>\n",
       "      <td>9.0</td>\n",
       "      <td>5.535010e+06</td>\n",
       "    </tr>\n",
       "    <tr>\n",
       "      <th>10</th>\n",
       "      <td>10.0</td>\n",
       "      <td>5.391658e+06</td>\n",
       "    </tr>\n",
       "    <tr>\n",
       "      <th>11</th>\n",
       "      <td>11.0</td>\n",
       "      <td>5.293032e+06</td>\n",
       "    </tr>\n",
       "    <tr>\n",
       "      <th>12</th>\n",
       "      <td>12.0</td>\n",
       "      <td>5.285699e+06</td>\n",
       "    </tr>\n",
       "    <tr>\n",
       "      <th>13</th>\n",
       "      <td>13.0</td>\n",
       "      <td>5.527713e+06</td>\n",
       "    </tr>\n",
       "    <tr>\n",
       "      <th>14</th>\n",
       "      <td>14.0</td>\n",
       "      <td>5.232728e+06</td>\n",
       "    </tr>\n",
       "    <tr>\n",
       "      <th>15</th>\n",
       "      <td>15.0</td>\n",
       "      <td>5.276264e+06</td>\n",
       "    </tr>\n",
       "    <tr>\n",
       "      <th>16</th>\n",
       "      <td>16.0</td>\n",
       "      <td>5.095198e+06</td>\n",
       "    </tr>\n",
       "    <tr>\n",
       "      <th>17</th>\n",
       "      <td>17.0</td>\n",
       "      <td>4.861117e+06</td>\n",
       "    </tr>\n",
       "    <tr>\n",
       "      <th>18</th>\n",
       "      <td>18.0</td>\n",
       "      <td>4.637066e+06</td>\n",
       "    </tr>\n",
       "    <tr>\n",
       "      <th>19</th>\n",
       "      <td>19.0</td>\n",
       "      <td>4.815437e+06</td>\n",
       "    </tr>\n",
       "    <tr>\n",
       "      <th>20</th>\n",
       "      <td>20.0</td>\n",
       "      <td>5.990037e+06</td>\n",
       "    </tr>\n",
       "    <tr>\n",
       "      <th>21</th>\n",
       "      <td>21.0</td>\n",
       "      <td>5.440648e+06</td>\n",
       "    </tr>\n",
       "    <tr>\n",
       "      <th>22</th>\n",
       "      <td>22.0</td>\n",
       "      <td>5.159570e+06</td>\n",
       "    </tr>\n",
       "    <tr>\n",
       "      <th>23</th>\n",
       "      <td>23.0</td>\n",
       "      <td>4.689843e+06</td>\n",
       "    </tr>\n",
       "    <tr>\n",
       "      <th>24</th>\n",
       "      <td>24.0</td>\n",
       "      <td>3.854430e+06</td>\n",
       "    </tr>\n",
       "    <tr>\n",
       "      <th>25</th>\n",
       "      <td>25.0</td>\n",
       "      <td>4.052840e+06</td>\n",
       "    </tr>\n",
       "    <tr>\n",
       "      <th>26</th>\n",
       "      <td>26.0</td>\n",
       "      <td>4.014287e+06</td>\n",
       "    </tr>\n",
       "    <tr>\n",
       "      <th>27</th>\n",
       "      <td>27.0</td>\n",
       "      <td>2.250000e+06</td>\n",
       "    </tr>\n",
       "    <tr>\n",
       "      <th>28</th>\n",
       "      <td>28.0</td>\n",
       "      <td>4.597500e+06</td>\n",
       "    </tr>\n",
       "    <tr>\n",
       "      <th>29</th>\n",
       "      <td>29.0</td>\n",
       "      <td>4.236667e+06</td>\n",
       "    </tr>\n",
       "  </tbody>\n",
       "</table>\n",
       "</div>"
      ],
      "text/plain": [
       "    city_сenters_nearest_km    last_price\n",
       "0                       0.0  8.053333e+06\n",
       "1                       1.0  8.128573e+06\n",
       "2                       2.0  7.792000e+06\n",
       "3                       3.0  7.190386e+06\n",
       "4                       4.0  7.426364e+06\n",
       "5                       5.0  7.543457e+06\n",
       "6                       6.0  7.059173e+06\n",
       "7                       7.0  6.690837e+06\n",
       "8                       8.0  6.582529e+06\n",
       "9                       9.0  5.535010e+06\n",
       "10                     10.0  5.391658e+06\n",
       "11                     11.0  5.293032e+06\n",
       "12                     12.0  5.285699e+06\n",
       "13                     13.0  5.527713e+06\n",
       "14                     14.0  5.232728e+06\n",
       "15                     15.0  5.276264e+06\n",
       "16                     16.0  5.095198e+06\n",
       "17                     17.0  4.861117e+06\n",
       "18                     18.0  4.637066e+06\n",
       "19                     19.0  4.815437e+06\n",
       "20                     20.0  5.990037e+06\n",
       "21                     21.0  5.440648e+06\n",
       "22                     22.0  5.159570e+06\n",
       "23                     23.0  4.689843e+06\n",
       "24                     24.0  3.854430e+06\n",
       "25                     25.0  4.052840e+06\n",
       "26                     26.0  4.014287e+06\n",
       "27                     27.0  2.250000e+06\n",
       "28                     28.0  4.597500e+06\n",
       "29                     29.0  4.236667e+06"
      ]
     },
     "execution_count": 104,
     "metadata": {},
     "output_type": "execute_result"
    }
   ],
   "source": [
    "data_Spb_centers = data.query('locality_name == \"Санкт-Петербург\"').pivot_table(index='city_сenters_nearest_km',values='last_price', aggfunc='mean').reset_index()\n",
    "data_Spb_centers"
   ]
  },
  {
   "cell_type": "markdown",
   "metadata": {},
   "source": [
    "Построим график"
   ]
  },
  {
   "cell_type": "code",
   "execution_count": 105,
   "metadata": {},
   "outputs": [
    {
     "data": {
      "text/plain": [
       "<AxesSubplot:xlabel='city_сenters_nearest_km'>"
      ]
     },
     "execution_count": 105,
     "metadata": {},
     "output_type": "execute_result"
    },
    {
     "data": {
      "image/png": "[encoded data removed]",
      "text/plain": [
       "<Figure size 432x288 with 1 Axes>"
      ]
     },
     "metadata": {
      "needs_background": "light"
     },
     "output_type": "display_data"
    }
   ],
   "source": [
    "data_Spb_centers.plot(x='city_сenters_nearest_km', y='last_price')"
   ]
  },
  {
   "cell_type": "markdown",
   "metadata": {},
   "source": [
    "Посчитаем корреляцию."
   ]
  },
  {
   "cell_type": "code",
   "execution_count": 106,
   "metadata": {},
   "outputs": [
    {
     "data": {
      "text/plain": [
       "0.14323133732518764"
      ]
     },
     "execution_count": 106,
     "metadata": {},
     "output_type": "execute_result"
    }
   ],
   "source": [
    "data_Spb_centers['city_сenters_nearest_km'].corr(data['last_price'])"
   ]
  },
  {
   "cell_type": "markdown",
   "metadata": {},
   "source": [
    "Отрицательная корреляция означает,что при удалении от центра цена квартиры будет уменьшаться. На график видны всплески, это может означать наличи элитных райоов в удалении от центра."
   ]
  },
  {
   "cell_type": "markdown",
   "metadata": {},
   "source": [
    "### Общий вывод"
   ]
  },
  {
   "cell_type": "markdown",
   "metadata": {},
   "source": [
    "Мы проанализировлаи данные сервиса Яндекс.Недвижимость. Для начала произвели предобработку данных , избавились от дубликатов , заменили,где можо, пропущенные значения. Выяснили , что на рынке недвижимости в основном продаются квартиры с общей площадью от 30 до 100 кв.м. Обычно жилая площадь составляет от 15 до 50 кв.м . Кухонная площадь обычно имеет значение от 5 до 15 кв.м. Большинство квартир продаются по цене до 10 млн. Самое большое количество квартир до 5 млн. Так же выяснили,что большинство квартир на рынке недвижимости одно-, двух- и трех- комнатные. Изучили высоту потолков больше всего квартир с высотой потолков 2,5-2,7 метра. В основном квартиры размещаются до 10 этажа. На рынке недвижимости больше всего квартир не на первом и не на поседнем этаже. Узнали,что большая часть квартир продаются в 5ти этажной застройке.Так же много квартир представлены в 9ти этажной застройке. В основном квартиры располагаются до 15 км от центра города. Из-за отдаленност аэопорта ,почти все квартиры находятся на расстоянии от 10 км от аэропорта.Наличие рядом с кватирой парка,является преимуществом. В основном квартиры расположены до 800 метров от парка.Большенство объявлений публикуют в будние дни. Сезоном продажи квартиры являются февраль,март,апрель,сентябрь,октябрь и ноябрь. В основном квартиры продются за 95 дней. \n"
   ]
  },
  {
   "cell_type": "markdown",
   "metadata": {},
   "source": [
    "Цена квартиры напрямую зависит от общей площади,кухоннй площади и жилой площади. Чем больше комнат , тем больше цена квартиры,но зависимость небольшая. Цена квартиры на последнем этаже самая большая. Дешевле на других этажах и самые дешевые квартиры на первом этаже. В пятницу,субботу и воскресень цена вставленных квартир, меньше ,чем в начале и середине недели. Какой-либо зависимости в цене квартиры от месяца года нет. Цена квартир с 2014 года по 2017 резко уменьшалось, с 2018 заметен небольшоя рост. Самый дорогой квадратный метр квартиры в г.Санкт-Петербург (в среднем 114877 руб) , самый дешевый в г.Выборг (в среднем 58238). При удалении от центра цена квартиры будет уменьшаться. На график видны всплески, это может означать наличи элитных райоов в удалении от центра."
   ]
  },
  {
   "cell_type": "code",
   "execution_count": null,
   "metadata": {},
   "outputs": [],
   "source": []
  }
 ],
 "metadata": {
  "ExecuteTimeLog": [
   {
    "duration": 64,
    "start_time": "2023-01-24T20:19:19.001Z"
   },
   {
    "duration": 381,
    "start_time": "2023-01-24T20:19:22.333Z"
   },
   {
    "duration": 316,
    "start_time": "2023-01-24T20:19:22.789Z"
   },
   {
    "duration": 15,
    "start_time": "2023-01-24T20:19:51.619Z"
   },
   {
    "duration": 12,
    "start_time": "2023-01-24T20:20:33.450Z"
   },
   {
    "duration": 88,
    "start_time": "2023-01-24T20:21:09.424Z"
   },
   {
    "duration": 25,
    "start_time": "2023-01-24T20:21:10.875Z"
   },
   {
    "duration": 15,
    "start_time": "2023-01-24T20:21:16.040Z"
   },
   {
    "duration": 15,
    "start_time": "2023-01-24T20:25:36.221Z"
   },
   {
    "duration": 1671,
    "start_time": "2023-01-24T20:27:14.018Z"
   },
   {
    "duration": 1871,
    "start_time": "2023-01-24T20:27:37.171Z"
   },
   {
    "duration": 50,
    "start_time": "2023-01-25T11:55:34.385Z"
   },
   {
    "duration": 403,
    "start_time": "2023-01-25T11:55:38.404Z"
   },
   {
    "duration": 145,
    "start_time": "2023-01-25T11:55:38.841Z"
   },
   {
    "duration": 30,
    "start_time": "2023-01-25T11:55:39.338Z"
   },
   {
    "duration": 14,
    "start_time": "2023-01-25T11:55:40.006Z"
   },
   {
    "duration": 2394,
    "start_time": "2023-01-25T11:55:40.639Z"
   },
   {
    "duration": 28,
    "start_time": "2023-01-25T11:55:45.478Z"
   },
   {
    "duration": 9,
    "start_time": "2023-01-25T11:55:50.949Z"
   },
   {
    "duration": 4,
    "start_time": "2023-01-25T12:13:17.335Z"
   },
   {
    "duration": 8,
    "start_time": "2023-01-25T12:16:29.350Z"
   },
   {
    "duration": 47,
    "start_time": "2023-01-25T12:23:14.339Z"
   },
   {
    "duration": 5,
    "start_time": "2023-01-25T12:23:23.605Z"
   },
   {
    "duration": 9,
    "start_time": "2023-01-25T12:24:08.420Z"
   },
   {
    "duration": 14,
    "start_time": "2023-01-25T12:50:16.971Z"
   },
   {
    "duration": 352,
    "start_time": "2023-01-25T13:31:38.410Z"
   },
   {
    "duration": 365,
    "start_time": "2023-01-25T13:32:23.564Z"
   },
   {
    "duration": 12,
    "start_time": "2023-01-25T13:34:15.518Z"
   },
   {
    "duration": 11,
    "start_time": "2023-01-25T13:34:43.346Z"
   },
   {
    "duration": 8,
    "start_time": "2023-01-25T13:36:35.369Z"
   },
   {
    "duration": 7,
    "start_time": "2023-01-25T13:37:03.378Z"
   },
   {
    "duration": 5,
    "start_time": "2023-01-25T13:37:22.867Z"
   },
   {
    "duration": 7,
    "start_time": "2023-01-25T13:37:56.007Z"
   },
   {
    "duration": 714,
    "start_time": "2023-01-25T13:38:08.318Z"
   },
   {
    "duration": 712,
    "start_time": "2023-01-25T13:38:24.789Z"
   },
   {
    "duration": 13,
    "start_time": "2023-01-25T13:38:41.430Z"
   },
   {
    "duration": 6,
    "start_time": "2023-01-25T13:39:13.912Z"
   },
   {
    "duration": 13,
    "start_time": "2023-01-25T13:39:33.261Z"
   },
   {
    "duration": 4,
    "start_time": "2023-01-25T13:40:16.852Z"
   },
   {
    "duration": 44,
    "start_time": "2023-01-25T13:40:21.554Z"
   },
   {
    "duration": 57,
    "start_time": "2023-01-25T13:41:56.211Z"
   },
   {
    "duration": 31,
    "start_time": "2023-01-25T13:42:02.815Z"
   },
   {
    "duration": 26,
    "start_time": "2023-01-25T13:42:08.342Z"
   },
   {
    "duration": 3,
    "start_time": "2023-01-25T13:42:11.188Z"
   },
   {
    "duration": 92,
    "start_time": "2023-01-25T13:42:11.594Z"
   },
   {
    "duration": 24,
    "start_time": "2023-01-25T13:42:11.989Z"
   },
   {
    "duration": 46,
    "start_time": "2023-01-25T13:42:18.873Z"
   },
   {
    "duration": 26,
    "start_time": "2023-01-25T13:42:28.667Z"
   },
   {
    "duration": 25,
    "start_time": "2023-01-25T13:42:38.659Z"
   },
   {
    "duration": 15,
    "start_time": "2023-01-25T13:42:39.651Z"
   },
   {
    "duration": 2053,
    "start_time": "2023-01-25T13:42:40.004Z"
   },
   {
    "duration": 9,
    "start_time": "2023-01-25T13:42:42.059Z"
   },
   {
    "duration": 22,
    "start_time": "2023-01-25T13:42:42.069Z"
   },
   {
    "duration": 18,
    "start_time": "2023-01-25T13:42:42.094Z"
   },
   {
    "duration": 14,
    "start_time": "2023-01-25T13:42:42.375Z"
   },
   {
    "duration": 8,
    "start_time": "2023-01-25T13:42:43.346Z"
   },
   {
    "duration": 5,
    "start_time": "2023-01-25T13:42:43.500Z"
   },
   {
    "duration": 4,
    "start_time": "2023-01-25T13:42:43.670Z"
   },
   {
    "duration": 52,
    "start_time": "2023-01-25T13:42:44.376Z"
   },
   {
    "duration": 4,
    "start_time": "2023-01-25T13:46:37.009Z"
   },
   {
    "duration": 9,
    "start_time": "2023-01-25T13:46:41.582Z"
   },
   {
    "duration": 5,
    "start_time": "2023-01-25T13:46:54.182Z"
   },
   {
    "duration": 4,
    "start_time": "2023-01-25T13:51:06.716Z"
   },
   {
    "duration": 7,
    "start_time": "2023-01-25T13:58:56.803Z"
   },
   {
    "duration": 6,
    "start_time": "2023-01-25T13:59:27.384Z"
   },
   {
    "duration": 5,
    "start_time": "2023-01-25T13:59:38.889Z"
   },
   {
    "duration": 5,
    "start_time": "2023-01-25T13:59:45.040Z"
   },
   {
    "duration": 6,
    "start_time": "2023-01-25T14:00:19.616Z"
   },
   {
    "duration": 4,
    "start_time": "2023-01-25T14:08:59.377Z"
   },
   {
    "duration": 54,
    "start_time": "2023-01-25T16:12:49.751Z"
   },
   {
    "duration": 404,
    "start_time": "2023-01-25T16:12:54.864Z"
   },
   {
    "duration": 143,
    "start_time": "2023-01-25T16:12:55.270Z"
   },
   {
    "duration": 34,
    "start_time": "2023-01-25T16:12:55.894Z"
   },
   {
    "duration": 16,
    "start_time": "2023-01-25T16:12:56.342Z"
   },
   {
    "duration": 2473,
    "start_time": "2023-01-25T16:12:56.673Z"
   },
   {
    "duration": 10,
    "start_time": "2023-01-25T16:12:59.148Z"
   },
   {
    "duration": 5,
    "start_time": "2023-01-25T16:12:59.159Z"
   },
   {
    "duration": 7,
    "start_time": "2023-01-25T16:12:59.166Z"
   },
   {
    "duration": 15,
    "start_time": "2023-01-25T16:12:59.175Z"
   },
   {
    "duration": 6,
    "start_time": "2023-01-25T16:12:59.411Z"
   },
   {
    "duration": 10,
    "start_time": "2023-01-25T16:12:59.735Z"
   },
   {
    "duration": 4,
    "start_time": "2023-01-25T16:12:59.899Z"
   },
   {
    "duration": 5,
    "start_time": "2023-01-25T16:13:00.169Z"
   },
   {
    "duration": 7,
    "start_time": "2023-01-25T16:13:01.396Z"
   },
   {
    "duration": 50,
    "start_time": "2023-01-25T16:13:02.501Z"
   },
   {
    "duration": 10,
    "start_time": "2023-01-25T16:13:09.306Z"
   },
   {
    "duration": 16,
    "start_time": "2023-01-25T16:21:39.833Z"
   },
   {
    "duration": 4,
    "start_time": "2023-01-25T16:21:46.096Z"
   },
   {
    "duration": 8,
    "start_time": "2023-01-25T16:21:48.723Z"
   },
   {
    "duration": 6,
    "start_time": "2023-01-25T16:22:02.036Z"
   },
   {
    "duration": 4,
    "start_time": "2023-01-25T16:51:07.110Z"
   },
   {
    "duration": 6,
    "start_time": "2023-01-25T16:51:13.909Z"
   },
   {
    "duration": 3,
    "start_time": "2023-01-25T16:51:26.338Z"
   },
   {
    "duration": 10,
    "start_time": "2023-01-25T16:51:27.626Z"
   },
   {
    "duration": 439,
    "start_time": "2023-01-28T11:21:41.649Z"
   },
   {
    "duration": 339,
    "start_time": "2023-01-28T11:21:42.090Z"
   },
   {
    "duration": 31,
    "start_time": "2023-01-28T11:21:42.528Z"
   },
   {
    "duration": 16,
    "start_time": "2023-01-28T11:21:42.977Z"
   },
   {
    "duration": 2378,
    "start_time": "2023-01-28T11:21:43.422Z"
   },
   {
    "duration": 11,
    "start_time": "2023-01-28T11:21:45.803Z"
   },
   {
    "duration": 3,
    "start_time": "2023-01-28T11:21:45.815Z"
   },
   {
    "duration": 5,
    "start_time": "2023-01-28T11:21:46.186Z"
   },
   {
    "duration": 15,
    "start_time": "2023-01-28T11:21:47.390Z"
   },
   {
    "duration": 6,
    "start_time": "2023-01-28T11:21:48.722Z"
   },
   {
    "duration": 9,
    "start_time": "2023-01-28T11:21:49.333Z"
   },
   {
    "duration": 6,
    "start_time": "2023-01-28T11:21:49.527Z"
   },
   {
    "duration": 6,
    "start_time": "2023-01-28T11:21:49.685Z"
   },
   {
    "duration": 6,
    "start_time": "2023-01-28T11:21:50.840Z"
   },
   {
    "duration": 101,
    "start_time": "2023-01-28T11:21:51.236Z"
   },
   {
    "duration": 3,
    "start_time": "2023-01-28T11:54:35.487Z"
   },
   {
    "duration": 4,
    "start_time": "2023-01-28T11:54:52.546Z"
   },
   {
    "duration": 79,
    "start_time": "2023-01-28T12:02:25.429Z"
   },
   {
    "duration": 4,
    "start_time": "2023-01-28T12:02:29.725Z"
   },
   {
    "duration": 6,
    "start_time": "2023-01-28T12:02:52.716Z"
   },
   {
    "duration": 4,
    "start_time": "2023-01-28T12:11:06.535Z"
   },
   {
    "duration": 5,
    "start_time": "2023-01-28T12:13:36.435Z"
   },
   {
    "duration": 291,
    "start_time": "2023-01-28T12:18:37.152Z"
   },
   {
    "duration": 6,
    "start_time": "2023-01-28T12:22:23.950Z"
   },
   {
    "duration": 7,
    "start_time": "2023-01-28T12:22:39.099Z"
   },
   {
    "duration": 7,
    "start_time": "2023-01-28T12:22:47.183Z"
   },
   {
    "duration": 3,
    "start_time": "2023-01-28T12:25:17.828Z"
   },
   {
    "duration": 113,
    "start_time": "2023-01-28T12:25:18.130Z"
   },
   {
    "duration": 27,
    "start_time": "2023-01-28T12:25:18.372Z"
   },
   {
    "duration": 24,
    "start_time": "2023-01-28T12:25:18.830Z"
   },
   {
    "duration": 2136,
    "start_time": "2023-01-28T12:25:19.235Z"
   },
   {
    "duration": 16,
    "start_time": "2023-01-28T12:25:21.374Z"
   },
   {
    "duration": 5,
    "start_time": "2023-01-28T12:25:21.475Z"
   },
   {
    "duration": 6,
    "start_time": "2023-01-28T12:25:22.068Z"
   },
   {
    "duration": 16,
    "start_time": "2023-01-28T12:25:23.239Z"
   },
   {
    "duration": 4,
    "start_time": "2023-01-28T12:25:24.877Z"
   },
   {
    "duration": 9,
    "start_time": "2023-01-28T12:25:25.336Z"
   },
   {
    "duration": 5,
    "start_time": "2023-01-28T12:25:25.537Z"
   },
   {
    "duration": 4,
    "start_time": "2023-01-28T12:25:25.672Z"
   },
   {
    "duration": 4,
    "start_time": "2023-01-28T17:33:21.174Z"
   },
   {
    "duration": 10,
    "start_time": "2023-01-28T17:33:23.978Z"
   },
   {
    "duration": 3,
    "start_time": "2023-01-28T17:33:25.107Z"
   },
   {
    "duration": 8,
    "start_time": "2023-01-28T17:33:26.025Z"
   },
   {
    "duration": 27,
    "start_time": "2023-01-28T17:33:27.866Z"
   },
   {
    "duration": 7,
    "start_time": "2023-01-28T17:36:42.681Z"
   },
   {
    "duration": 8,
    "start_time": "2023-01-28T17:36:52.257Z"
   },
   {
    "duration": 13,
    "start_time": "2023-01-28T17:37:48.646Z"
   },
   {
    "duration": 85,
    "start_time": "2023-01-28T18:57:13.847Z"
   },
   {
    "duration": 124,
    "start_time": "2023-01-28T18:57:21.933Z"
   },
   {
    "duration": 154,
    "start_time": "2023-01-28T18:57:28.630Z"
   },
   {
    "duration": 130,
    "start_time": "2023-01-28T18:57:35.468Z"
   },
   {
    "duration": 116,
    "start_time": "2023-01-28T18:57:47.932Z"
   },
   {
    "duration": 125,
    "start_time": "2023-01-28T18:57:51.866Z"
   },
   {
    "duration": 166,
    "start_time": "2023-01-28T18:57:56.322Z"
   },
   {
    "duration": 14,
    "start_time": "2023-01-28T18:58:31.929Z"
   },
   {
    "duration": 8,
    "start_time": "2023-01-28T18:59:40.719Z"
   },
   {
    "duration": 117,
    "start_time": "2023-01-28T18:59:46.432Z"
   },
   {
    "duration": 8,
    "start_time": "2023-01-28T19:04:52.155Z"
   },
   {
    "duration": 7,
    "start_time": "2023-01-28T19:05:08.691Z"
   },
   {
    "duration": 7,
    "start_time": "2023-01-28T19:05:14.733Z"
   },
   {
    "duration": 100,
    "start_time": "2023-01-28T19:05:21.509Z"
   },
   {
    "duration": 5,
    "start_time": "2023-01-28T19:05:35.664Z"
   },
   {
    "duration": 4,
    "start_time": "2023-01-28T19:05:40.580Z"
   },
   {
    "duration": 159,
    "start_time": "2023-01-28T19:15:25.387Z"
   },
   {
    "duration": 6,
    "start_time": "2023-01-28T19:20:15.560Z"
   },
   {
    "duration": 7,
    "start_time": "2023-01-28T19:29:09.513Z"
   },
   {
    "duration": 6,
    "start_time": "2023-01-28T19:29:12.804Z"
   },
   {
    "duration": 50,
    "start_time": "2023-01-28T19:29:56.344Z"
   },
   {
    "duration": 5,
    "start_time": "2023-01-28T19:30:34.455Z"
   },
   {
    "duration": 7,
    "start_time": "2023-01-28T19:30:42.940Z"
   },
   {
    "duration": 5,
    "start_time": "2023-01-28T19:31:05.027Z"
   },
   {
    "duration": 6,
    "start_time": "2023-01-28T19:31:29.239Z"
   },
   {
    "duration": 15,
    "start_time": "2023-01-28T19:31:35.984Z"
   },
   {
    "duration": 13,
    "start_time": "2023-01-28T19:33:17.131Z"
   },
   {
    "duration": 13,
    "start_time": "2023-01-28T19:33:23.337Z"
   },
   {
    "duration": 6,
    "start_time": "2023-01-28T19:33:49.384Z"
   },
   {
    "duration": 6,
    "start_time": "2023-01-28T19:33:53.938Z"
   },
   {
    "duration": 15,
    "start_time": "2023-01-28T19:34:31.285Z"
   },
   {
    "duration": 73,
    "start_time": "2023-01-28T19:34:42.034Z"
   },
   {
    "duration": 10,
    "start_time": "2023-01-28T19:34:47.473Z"
   },
   {
    "duration": 6,
    "start_time": "2023-01-28T19:40:33.756Z"
   },
   {
    "duration": 8,
    "start_time": "2023-01-28T19:40:36.886Z"
   },
   {
    "duration": 86,
    "start_time": "2023-01-28T19:41:21.627Z"
   },
   {
    "duration": 127,
    "start_time": "2023-01-28T19:41:28.956Z"
   },
   {
    "duration": 4,
    "start_time": "2023-01-28T19:41:54.922Z"
   },
   {
    "duration": 97,
    "start_time": "2023-01-28T19:41:55.033Z"
   },
   {
    "duration": 26,
    "start_time": "2023-01-28T19:41:55.181Z"
   },
   {
    "duration": 14,
    "start_time": "2023-01-28T19:41:55.325Z"
   },
   {
    "duration": 2179,
    "start_time": "2023-01-28T19:41:55.588Z"
   },
   {
    "duration": 16,
    "start_time": "2023-01-28T19:41:57.769Z"
   },
   {
    "duration": 5,
    "start_time": "2023-01-28T19:41:57.786Z"
   },
   {
    "duration": 21,
    "start_time": "2023-01-28T19:41:57.794Z"
   },
   {
    "duration": 15,
    "start_time": "2023-01-28T19:41:59.331Z"
   },
   {
    "duration": 5,
    "start_time": "2023-01-28T19:42:00.863Z"
   },
   {
    "duration": 13,
    "start_time": "2023-01-28T19:42:01.798Z"
   },
   {
    "duration": 5,
    "start_time": "2023-01-28T19:42:02.144Z"
   },
   {
    "duration": 4,
    "start_time": "2023-01-28T19:42:02.517Z"
   },
   {
    "duration": 4,
    "start_time": "2023-01-28T19:42:02.816Z"
   },
   {
    "duration": 8,
    "start_time": "2023-01-28T19:42:04.350Z"
   },
   {
    "duration": 4,
    "start_time": "2023-01-28T19:42:06.145Z"
   },
   {
    "duration": 43,
    "start_time": "2023-01-28T19:42:06.849Z"
   },
   {
    "duration": 12,
    "start_time": "2023-01-28T19:42:07.645Z"
   },
   {
    "duration": 70,
    "start_time": "2023-01-28T19:42:08.769Z"
   },
   {
    "duration": 6,
    "start_time": "2023-01-28T19:42:09.952Z"
   },
   {
    "duration": 133,
    "start_time": "2023-01-28T19:42:11.025Z"
   },
   {
    "duration": 249,
    "start_time": "2023-01-28T19:42:21.211Z"
   },
   {
    "duration": 8,
    "start_time": "2023-01-28T19:43:08.095Z"
   },
   {
    "duration": 120,
    "start_time": "2023-01-28T19:44:28.890Z"
   },
   {
    "duration": 127,
    "start_time": "2023-01-28T19:44:38.246Z"
   },
   {
    "duration": 112,
    "start_time": "2023-01-28T19:44:42.538Z"
   },
   {
    "duration": 9,
    "start_time": "2023-01-28T19:45:36.569Z"
   },
   {
    "duration": 15,
    "start_time": "2023-01-28T19:48:08.374Z"
   },
   {
    "duration": 38,
    "start_time": "2023-01-28T19:49:46.681Z"
   },
   {
    "duration": 12,
    "start_time": "2023-01-28T19:51:44.840Z"
   },
   {
    "duration": 10,
    "start_time": "2023-01-28T19:55:50.768Z"
   },
   {
    "duration": 70,
    "start_time": "2023-01-28T19:56:30.487Z"
   },
   {
    "duration": 9,
    "start_time": "2023-01-28T19:56:53.666Z"
   },
   {
    "duration": 9,
    "start_time": "2023-01-28T19:59:24.251Z"
   },
   {
    "duration": 548,
    "start_time": "2023-01-28T19:59:31.212Z"
   },
   {
    "duration": 103,
    "start_time": "2023-01-28T19:59:45.062Z"
   },
   {
    "duration": 97,
    "start_time": "2023-01-28T20:00:19.709Z"
   },
   {
    "duration": 132,
    "start_time": "2023-01-28T20:01:03.152Z"
   },
   {
    "duration": 549,
    "start_time": "2023-01-28T20:05:16.686Z"
   },
   {
    "duration": 6,
    "start_time": "2023-01-28T20:09:55.372Z"
   },
   {
    "duration": 12,
    "start_time": "2023-01-28T20:10:26.861Z"
   },
   {
    "duration": 9,
    "start_time": "2023-01-28T20:10:32.884Z"
   },
   {
    "duration": 1107,
    "start_time": "2023-01-28T20:13:36.051Z"
   },
   {
    "duration": 1139,
    "start_time": "2023-01-28T20:13:57.832Z"
   },
   {
    "duration": 6,
    "start_time": "2023-01-28T20:14:12.744Z"
   },
   {
    "duration": 7,
    "start_time": "2023-01-28T20:14:16.421Z"
   },
   {
    "duration": 7,
    "start_time": "2023-01-28T20:15:12.731Z"
   },
   {
    "duration": 8,
    "start_time": "2023-01-28T20:18:02.217Z"
   },
   {
    "duration": 10,
    "start_time": "2023-01-28T20:18:04.548Z"
   },
   {
    "duration": 50,
    "start_time": "2023-01-28T20:18:09.639Z"
   },
   {
    "duration": 51,
    "start_time": "2023-01-28T20:20:00.047Z"
   },
   {
    "duration": 41,
    "start_time": "2023-01-28T20:20:09.447Z"
   },
   {
    "duration": 54,
    "start_time": "2023-01-28T20:20:21.738Z"
   },
   {
    "duration": 6,
    "start_time": "2023-01-28T20:20:30.163Z"
   },
   {
    "duration": 7,
    "start_time": "2023-01-28T20:22:08.937Z"
   },
   {
    "duration": 9,
    "start_time": "2023-01-28T20:22:37.934Z"
   },
   {
    "duration": 7,
    "start_time": "2023-01-28T20:22:49.385Z"
   },
   {
    "duration": 4,
    "start_time": "2023-01-28T20:22:55.369Z"
   },
   {
    "duration": 4,
    "start_time": "2023-01-28T20:22:55.640Z"
   },
   {
    "duration": 14,
    "start_time": "2023-01-28T20:22:56.127Z"
   },
   {
    "duration": 6,
    "start_time": "2023-01-28T20:22:56.693Z"
   },
   {
    "duration": 16,
    "start_time": "2023-01-28T20:22:57.196Z"
   },
   {
    "duration": 4,
    "start_time": "2023-01-28T20:22:57.349Z"
   },
   {
    "duration": 4,
    "start_time": "2023-01-28T20:22:57.483Z"
   },
   {
    "duration": 6,
    "start_time": "2023-01-28T20:22:57.883Z"
   },
   {
    "duration": 9,
    "start_time": "2023-01-28T20:22:58.596Z"
   },
   {
    "duration": 5,
    "start_time": "2023-01-28T20:22:58.962Z"
   },
   {
    "duration": 35,
    "start_time": "2023-01-28T20:22:59.150Z"
   },
   {
    "duration": 7,
    "start_time": "2023-01-28T20:22:59.722Z"
   },
   {
    "duration": 65,
    "start_time": "2023-01-28T20:23:00.456Z"
   },
   {
    "duration": 7,
    "start_time": "2023-01-28T20:23:01.260Z"
   },
   {
    "duration": 4,
    "start_time": "2023-01-28T20:23:01.760Z"
   },
   {
    "duration": 5,
    "start_time": "2023-01-28T20:23:03.360Z"
   },
   {
    "duration": 45,
    "start_time": "2023-01-28T20:23:04.962Z"
   },
   {
    "duration": 7,
    "start_time": "2023-01-28T20:23:05.286Z"
   },
   {
    "duration": 12,
    "start_time": "2023-01-28T20:24:45.950Z"
   },
   {
    "duration": 10,
    "start_time": "2023-01-28T20:25:08.450Z"
   },
   {
    "duration": 5,
    "start_time": "2023-01-28T20:25:32.978Z"
   },
   {
    "duration": 184,
    "start_time": "2023-01-28T20:25:33.249Z"
   },
   {
    "duration": 6,
    "start_time": "2023-01-28T20:25:35.273Z"
   },
   {
    "duration": 6,
    "start_time": "2023-01-28T20:26:38.899Z"
   },
   {
    "duration": 6,
    "start_time": "2023-01-28T20:26:39.714Z"
   },
   {
    "duration": 49,
    "start_time": "2023-01-28T20:26:40.259Z"
   },
   {
    "duration": 6,
    "start_time": "2023-01-28T20:26:40.462Z"
   },
   {
    "duration": 55,
    "start_time": "2023-01-30T13:32:25.044Z"
   },
   {
    "duration": 425,
    "start_time": "2023-01-30T13:32:29.180Z"
   },
   {
    "duration": 138,
    "start_time": "2023-01-30T13:32:29.609Z"
   },
   {
    "duration": 30,
    "start_time": "2023-01-30T13:32:29.749Z"
   },
   {
    "duration": 19,
    "start_time": "2023-01-30T13:32:32.541Z"
   },
   {
    "duration": 2248,
    "start_time": "2023-01-30T13:32:33.020Z"
   },
   {
    "duration": 13,
    "start_time": "2023-01-30T13:32:35.270Z"
   },
   {
    "duration": 24,
    "start_time": "2023-01-30T13:32:35.287Z"
   },
   {
    "duration": 4,
    "start_time": "2023-01-30T13:32:35.930Z"
   },
   {
    "duration": 8,
    "start_time": "2023-01-30T13:32:36.826Z"
   },
   {
    "duration": 15,
    "start_time": "2023-01-30T13:32:37.451Z"
   },
   {
    "duration": 5,
    "start_time": "2023-01-30T13:32:38.202Z"
   },
   {
    "duration": 9,
    "start_time": "2023-01-30T13:32:38.573Z"
   },
   {
    "duration": 5,
    "start_time": "2023-01-30T13:32:38.723Z"
   },
   {
    "duration": 5,
    "start_time": "2023-01-30T13:32:39.266Z"
   },
   {
    "duration": 5,
    "start_time": "2023-01-30T13:32:39.614Z"
   },
   {
    "duration": 7,
    "start_time": "2023-01-30T13:32:42.217Z"
   },
   {
    "duration": 6,
    "start_time": "2023-01-30T13:32:43.050Z"
   },
   {
    "duration": 39,
    "start_time": "2023-01-30T13:32:43.343Z"
   },
   {
    "duration": 7,
    "start_time": "2023-01-30T13:32:43.683Z"
   },
   {
    "duration": 72,
    "start_time": "2023-01-30T13:32:45.680Z"
   },
   {
    "duration": 10,
    "start_time": "2023-01-30T13:32:46.317Z"
   },
   {
    "duration": 6,
    "start_time": "2023-01-30T13:32:46.657Z"
   },
   {
    "duration": 7,
    "start_time": "2023-01-30T13:32:47.762Z"
   },
   {
    "duration": 103,
    "start_time": "2023-01-30T13:32:48.328Z"
   },
   {
    "duration": 6,
    "start_time": "2023-01-30T13:32:48.534Z"
   },
   {
    "duration": 60,
    "start_time": "2023-01-30T13:33:22.746Z"
   },
   {
    "duration": 3,
    "start_time": "2023-01-30T13:33:29.758Z"
   },
   {
    "duration": 11,
    "start_time": "2023-01-30T13:33:32.913Z"
   },
   {
    "duration": 8,
    "start_time": "2023-01-30T13:34:09.667Z"
   },
   {
    "duration": 43,
    "start_time": "2023-01-30T13:34:19.324Z"
   },
   {
    "duration": 8,
    "start_time": "2023-01-30T13:36:34.566Z"
   },
   {
    "duration": 39,
    "start_time": "2023-01-30T13:36:35.203Z"
   },
   {
    "duration": 20,
    "start_time": "2023-01-30T13:36:45.324Z"
   },
   {
    "duration": 7,
    "start_time": "2023-01-30T13:54:52.368Z"
   },
   {
    "duration": 403,
    "start_time": "2023-01-30T13:55:41.699Z"
   },
   {
    "duration": 89,
    "start_time": "2023-01-30T13:55:42.104Z"
   },
   {
    "duration": 39,
    "start_time": "2023-01-30T13:55:42.194Z"
   },
   {
    "duration": 19,
    "start_time": "2023-01-30T13:55:42.235Z"
   },
   {
    "duration": 2136,
    "start_time": "2023-01-30T13:55:42.256Z"
   },
   {
    "duration": 11,
    "start_time": "2023-01-30T13:55:44.394Z"
   },
   {
    "duration": 4,
    "start_time": "2023-01-30T13:55:44.407Z"
   },
   {
    "duration": 6,
    "start_time": "2023-01-30T13:55:44.413Z"
   },
   {
    "duration": 10,
    "start_time": "2023-01-30T13:55:44.420Z"
   },
   {
    "duration": 17,
    "start_time": "2023-01-30T13:55:44.432Z"
   },
   {
    "duration": 6,
    "start_time": "2023-01-30T13:55:44.451Z"
   },
   {
    "duration": 9,
    "start_time": "2023-01-30T13:55:44.459Z"
   },
   {
    "duration": 6,
    "start_time": "2023-01-30T13:55:44.470Z"
   },
   {
    "duration": 34,
    "start_time": "2023-01-30T13:55:44.478Z"
   },
   {
    "duration": 5,
    "start_time": "2023-01-30T13:55:44.514Z"
   },
   {
    "duration": 12,
    "start_time": "2023-01-30T13:55:44.521Z"
   },
   {
    "duration": 4,
    "start_time": "2023-01-30T13:55:44.535Z"
   },
   {
    "duration": 72,
    "start_time": "2023-01-30T13:55:44.541Z"
   },
   {
    "duration": 10,
    "start_time": "2023-01-30T13:55:44.615Z"
   },
   {
    "duration": 84,
    "start_time": "2023-01-30T13:55:44.627Z"
   },
   {
    "duration": 9,
    "start_time": "2023-01-30T13:55:44.712Z"
   },
   {
    "duration": 14,
    "start_time": "2023-01-30T13:55:44.722Z"
   },
   {
    "duration": 8,
    "start_time": "2023-01-30T13:55:44.738Z"
   },
   {
    "duration": 40,
    "start_time": "2023-01-30T14:01:33.224Z"
   },
   {
    "duration": 46,
    "start_time": "2023-01-30T14:01:52.902Z"
   },
   {
    "duration": 47,
    "start_time": "2023-01-30T14:02:36.518Z"
   },
   {
    "duration": 82,
    "start_time": "2023-01-30T14:03:30.243Z"
   },
   {
    "duration": 7,
    "start_time": "2023-01-30T14:03:52.397Z"
   },
   {
    "duration": 7,
    "start_time": "2023-01-30T14:04:01.580Z"
   },
   {
    "duration": 58,
    "start_time": "2023-01-30T14:12:25.461Z"
   },
   {
    "duration": 47,
    "start_time": "2023-01-30T14:12:30.745Z"
   },
   {
    "duration": 45,
    "start_time": "2023-01-30T14:12:35.872Z"
   },
   {
    "duration": 46,
    "start_time": "2023-01-30T14:16:13.608Z"
   },
   {
    "duration": 9,
    "start_time": "2023-01-30T14:16:36.735Z"
   },
   {
    "duration": 7,
    "start_time": "2023-01-30T14:17:35.978Z"
   },
   {
    "duration": 381,
    "start_time": "2023-01-30T14:18:01.536Z"
   },
   {
    "duration": 91,
    "start_time": "2023-01-30T14:18:01.919Z"
   },
   {
    "duration": 32,
    "start_time": "2023-01-30T14:18:02.011Z"
   },
   {
    "duration": 16,
    "start_time": "2023-01-30T14:18:02.045Z"
   },
   {
    "duration": 2049,
    "start_time": "2023-01-30T14:18:02.063Z"
   },
   {
    "duration": 9,
    "start_time": "2023-01-30T14:18:04.114Z"
   },
   {
    "duration": 26,
    "start_time": "2023-01-30T14:18:04.125Z"
   },
   {
    "duration": 17,
    "start_time": "2023-01-30T14:18:04.152Z"
   },
   {
    "duration": 19,
    "start_time": "2023-01-30T14:18:04.171Z"
   },
   {
    "duration": 40,
    "start_time": "2023-01-30T14:18:04.193Z"
   },
   {
    "duration": 13,
    "start_time": "2023-01-30T14:18:04.235Z"
   },
   {
    "duration": 29,
    "start_time": "2023-01-30T14:18:04.250Z"
   },
   {
    "duration": 26,
    "start_time": "2023-01-30T14:18:04.280Z"
   },
   {
    "duration": 15,
    "start_time": "2023-01-30T14:18:04.308Z"
   },
   {
    "duration": 16,
    "start_time": "2023-01-30T14:18:04.325Z"
   },
   {
    "duration": 24,
    "start_time": "2023-01-30T14:18:04.342Z"
   },
   {
    "duration": 24,
    "start_time": "2023-01-30T14:18:04.368Z"
   },
   {
    "duration": 62,
    "start_time": "2023-01-30T14:18:04.393Z"
   },
   {
    "duration": 9,
    "start_time": "2023-01-30T14:18:04.457Z"
   },
   {
    "duration": 84,
    "start_time": "2023-01-30T14:18:04.468Z"
   },
   {
    "duration": 8,
    "start_time": "2023-01-30T14:18:04.553Z"
   },
   {
    "duration": 21,
    "start_time": "2023-01-30T14:18:04.562Z"
   },
   {
    "duration": 35,
    "start_time": "2023-01-30T14:18:04.584Z"
   },
   {
    "duration": 23,
    "start_time": "2023-01-30T14:18:04.620Z"
   },
   {
    "duration": 76,
    "start_time": "2023-01-30T14:18:24.445Z"
   },
   {
    "duration": 7,
    "start_time": "2023-01-30T14:18:27.376Z"
   },
   {
    "duration": 10,
    "start_time": "2023-01-30T14:18:29.329Z"
   },
   {
    "duration": 8,
    "start_time": "2023-01-30T14:18:30.092Z"
   },
   {
    "duration": 413,
    "start_time": "2023-01-30T14:18:35.000Z"
   },
   {
    "duration": 89,
    "start_time": "2023-01-30T14:18:35.415Z"
   },
   {
    "duration": 33,
    "start_time": "2023-01-30T14:18:35.505Z"
   },
   {
    "duration": 14,
    "start_time": "2023-01-30T14:18:35.541Z"
   },
   {
    "duration": 2180,
    "start_time": "2023-01-30T14:18:35.556Z"
   },
   {
    "duration": 10,
    "start_time": "2023-01-30T14:18:37.738Z"
   },
   {
    "duration": 7,
    "start_time": "2023-01-30T14:18:37.749Z"
   },
   {
    "duration": 9,
    "start_time": "2023-01-30T14:18:37.758Z"
   },
   {
    "duration": 16,
    "start_time": "2023-01-30T14:18:37.769Z"
   },
   {
    "duration": 18,
    "start_time": "2023-01-30T14:18:37.788Z"
   },
   {
    "duration": 5,
    "start_time": "2023-01-30T14:18:37.808Z"
   },
   {
    "duration": 11,
    "start_time": "2023-01-30T14:18:37.814Z"
   },
   {
    "duration": 15,
    "start_time": "2023-01-30T14:18:37.826Z"
   },
   {
    "duration": 17,
    "start_time": "2023-01-30T14:18:37.843Z"
   },
   {
    "duration": 4,
    "start_time": "2023-01-30T14:18:37.862Z"
   },
   {
    "duration": 17,
    "start_time": "2023-01-30T14:18:37.867Z"
   },
   {
    "duration": 13,
    "start_time": "2023-01-30T14:18:37.885Z"
   },
   {
    "duration": 41,
    "start_time": "2023-01-30T14:18:37.899Z"
   },
   {
    "duration": 6,
    "start_time": "2023-01-30T14:18:37.941Z"
   },
   {
    "duration": 78,
    "start_time": "2023-01-30T14:18:37.949Z"
   },
   {
    "duration": 7,
    "start_time": "2023-01-30T14:18:38.029Z"
   },
   {
    "duration": 5,
    "start_time": "2023-01-30T14:18:38.038Z"
   },
   {
    "duration": 11,
    "start_time": "2023-01-30T14:18:38.045Z"
   },
   {
    "duration": 8,
    "start_time": "2023-01-30T14:18:38.057Z"
   },
   {
    "duration": 40,
    "start_time": "2023-01-30T14:21:56.247Z"
   },
   {
    "duration": 120,
    "start_time": "2023-01-30T14:22:18.792Z"
   },
   {
    "duration": 407,
    "start_time": "2023-01-30T16:49:39.805Z"
   },
   {
    "duration": 167,
    "start_time": "2023-01-30T16:49:40.213Z"
   },
   {
    "duration": 40,
    "start_time": "2023-01-30T16:49:40.382Z"
   },
   {
    "duration": 17,
    "start_time": "2023-01-30T16:49:40.424Z"
   },
   {
    "duration": 2674,
    "start_time": "2023-01-30T16:49:40.443Z"
   },
   {
    "duration": 9,
    "start_time": "2023-01-30T16:49:43.119Z"
   },
   {
    "duration": 7,
    "start_time": "2023-01-30T16:49:43.129Z"
   },
   {
    "duration": 8,
    "start_time": "2023-01-30T16:49:43.137Z"
   },
   {
    "duration": 5,
    "start_time": "2023-01-30T16:49:43.147Z"
   },
   {
    "duration": 17,
    "start_time": "2023-01-30T16:49:43.155Z"
   },
   {
    "duration": 29,
    "start_time": "2023-01-30T16:49:43.174Z"
   },
   {
    "duration": 12,
    "start_time": "2023-01-30T16:49:43.205Z"
   },
   {
    "duration": 13,
    "start_time": "2023-01-30T16:49:43.220Z"
   },
   {
    "duration": 12,
    "start_time": "2023-01-30T16:49:43.235Z"
   },
   {
    "duration": 7,
    "start_time": "2023-01-30T16:49:43.249Z"
   },
   {
    "duration": 28,
    "start_time": "2023-01-30T16:49:43.258Z"
   },
   {
    "duration": 3,
    "start_time": "2023-01-30T16:49:43.288Z"
   },
   {
    "duration": 53,
    "start_time": "2023-01-30T16:49:43.294Z"
   },
   {
    "duration": 9,
    "start_time": "2023-01-30T16:49:43.349Z"
   },
   {
    "duration": 114,
    "start_time": "2023-01-30T16:49:43.360Z"
   },
   {
    "duration": 9,
    "start_time": "2023-01-30T16:49:43.476Z"
   },
   {
    "duration": 19,
    "start_time": "2023-01-30T16:49:43.487Z"
   },
   {
    "duration": 16,
    "start_time": "2023-01-30T16:49:43.508Z"
   },
   {
    "duration": 14,
    "start_time": "2023-01-30T16:49:43.526Z"
   },
   {
    "duration": 204,
    "start_time": "2023-01-30T16:49:43.544Z"
   },
   {
    "duration": 10,
    "start_time": "2023-01-30T16:53:09.834Z"
   },
   {
    "duration": 8,
    "start_time": "2023-01-30T16:53:22.776Z"
   },
   {
    "duration": 6,
    "start_time": "2023-01-30T16:58:26.161Z"
   },
   {
    "duration": 10,
    "start_time": "2023-01-30T16:58:28.919Z"
   },
   {
    "duration": 6,
    "start_time": "2023-01-30T17:00:18.738Z"
   },
   {
    "duration": 6,
    "start_time": "2023-01-30T17:00:25.141Z"
   },
   {
    "duration": 4,
    "start_time": "2023-01-30T17:00:36.567Z"
   },
   {
    "duration": 71,
    "start_time": "2023-01-30T17:01:53.357Z"
   },
   {
    "duration": 24,
    "start_time": "2023-01-30T17:02:53.959Z"
   },
   {
    "duration": 45,
    "start_time": "2023-01-30T17:04:17.871Z"
   },
   {
    "duration": 12,
    "start_time": "2023-01-30T17:05:03.960Z"
   },
   {
    "duration": 44,
    "start_time": "2023-01-30T17:07:16.087Z"
   },
   {
    "duration": 13,
    "start_time": "2023-01-30T17:07:36.740Z"
   },
   {
    "duration": 56,
    "start_time": "2023-01-30T17:07:42.589Z"
   },
   {
    "duration": 12,
    "start_time": "2023-01-30T17:07:43.100Z"
   },
   {
    "duration": 37,
    "start_time": "2023-01-30T17:10:06.825Z"
   },
   {
    "duration": 7,
    "start_time": "2023-01-30T17:14:25.857Z"
   },
   {
    "duration": 9,
    "start_time": "2023-01-30T17:16:46.079Z"
   },
   {
    "duration": 5,
    "start_time": "2023-01-30T17:21:09.208Z"
   },
   {
    "duration": 7,
    "start_time": "2023-01-30T17:22:43.650Z"
   },
   {
    "duration": 4,
    "start_time": "2023-01-30T17:27:30.219Z"
   },
   {
    "duration": 9,
    "start_time": "2023-01-30T17:28:24.621Z"
   },
   {
    "duration": 6,
    "start_time": "2023-01-30T17:28:40.389Z"
   },
   {
    "duration": 7,
    "start_time": "2023-01-30T17:30:02.352Z"
   },
   {
    "duration": 429,
    "start_time": "2023-01-30T17:30:08.616Z"
   },
   {
    "duration": 125,
    "start_time": "2023-01-30T17:30:09.047Z"
   },
   {
    "duration": 43,
    "start_time": "2023-01-30T17:30:09.174Z"
   },
   {
    "duration": 23,
    "start_time": "2023-01-30T17:30:09.219Z"
   },
   {
    "duration": 2625,
    "start_time": "2023-01-30T17:30:09.244Z"
   },
   {
    "duration": 16,
    "start_time": "2023-01-30T17:30:11.873Z"
   },
   {
    "duration": 28,
    "start_time": "2023-01-30T17:30:11.890Z"
   },
   {
    "duration": 29,
    "start_time": "2023-01-30T17:30:11.920Z"
   },
   {
    "duration": 46,
    "start_time": "2023-01-30T17:30:11.951Z"
   },
   {
    "duration": 49,
    "start_time": "2023-01-30T17:30:12.000Z"
   },
   {
    "duration": 41,
    "start_time": "2023-01-30T17:30:12.051Z"
   },
   {
    "duration": 23,
    "start_time": "2023-01-30T17:30:12.093Z"
   },
   {
    "duration": 32,
    "start_time": "2023-01-30T17:30:12.118Z"
   },
   {
    "duration": 31,
    "start_time": "2023-01-30T17:30:12.151Z"
   },
   {
    "duration": 41,
    "start_time": "2023-01-30T17:30:12.184Z"
   },
   {
    "duration": 47,
    "start_time": "2023-01-30T17:30:12.227Z"
   },
   {
    "duration": 42,
    "start_time": "2023-01-30T17:30:12.277Z"
   },
   {
    "duration": 27,
    "start_time": "2023-01-30T17:30:12.321Z"
   },
   {
    "duration": 26,
    "start_time": "2023-01-30T17:30:12.355Z"
   },
   {
    "duration": 27,
    "start_time": "2023-01-30T17:30:12.384Z"
   },
   {
    "duration": 28,
    "start_time": "2023-01-30T17:30:12.414Z"
   },
   {
    "duration": 61,
    "start_time": "2023-01-30T17:30:12.444Z"
   },
   {
    "duration": 26,
    "start_time": "2023-01-30T17:30:12.507Z"
   },
   {
    "duration": 101,
    "start_time": "2023-01-30T17:30:12.535Z"
   },
   {
    "duration": 11,
    "start_time": "2023-01-30T17:30:12.638Z"
   },
   {
    "duration": 36,
    "start_time": "2023-01-30T17:30:12.651Z"
   },
   {
    "duration": 65,
    "start_time": "2023-01-30T17:30:12.689Z"
   },
   {
    "duration": 42,
    "start_time": "2023-01-30T17:30:12.759Z"
   },
   {
    "duration": 22,
    "start_time": "2023-01-30T17:30:12.803Z"
   },
   {
    "duration": 75,
    "start_time": "2023-01-30T17:30:12.828Z"
   },
   {
    "duration": 54,
    "start_time": "2023-01-30T17:30:12.905Z"
   },
   {
    "duration": 53,
    "start_time": "2023-01-30T17:30:12.962Z"
   },
   {
    "duration": 30,
    "start_time": "2023-01-30T17:30:13.017Z"
   },
   {
    "duration": 11,
    "start_time": "2023-01-30T17:33:04.515Z"
   },
   {
    "duration": 45,
    "start_time": "2023-01-30T17:33:58.976Z"
   },
   {
    "duration": 34,
    "start_time": "2023-01-30T17:34:07.698Z"
   },
   {
    "duration": 40,
    "start_time": "2023-01-30T17:34:23.390Z"
   },
   {
    "duration": 73,
    "start_time": "2023-01-30T17:35:36.737Z"
   },
   {
    "duration": 8,
    "start_time": "2023-01-30T17:35:40.037Z"
   },
   {
    "duration": 8,
    "start_time": "2023-01-30T17:35:40.335Z"
   },
   {
    "duration": 7,
    "start_time": "2023-01-30T17:35:42.225Z"
   },
   {
    "duration": 3,
    "start_time": "2023-01-30T17:35:42.466Z"
   },
   {
    "duration": 5,
    "start_time": "2023-01-30T17:35:42.855Z"
   },
   {
    "duration": 6,
    "start_time": "2023-01-30T17:35:51.005Z"
   },
   {
    "duration": 11,
    "start_time": "2023-01-30T17:36:07.893Z"
   },
   {
    "duration": 43,
    "start_time": "2023-01-30T17:36:50.698Z"
   },
   {
    "duration": 25,
    "start_time": "2023-01-30T17:36:58.721Z"
   },
   {
    "duration": 11,
    "start_time": "2023-01-30T20:05:44.929Z"
   },
   {
    "duration": 371,
    "start_time": "2023-01-31T13:18:34.344Z"
   },
   {
    "duration": 88,
    "start_time": "2023-01-31T13:18:34.717Z"
   },
   {
    "duration": 32,
    "start_time": "2023-01-31T13:18:34.806Z"
   },
   {
    "duration": 14,
    "start_time": "2023-01-31T13:18:34.840Z"
   },
   {
    "duration": 2193,
    "start_time": "2023-01-31T13:18:34.856Z"
   },
   {
    "duration": 13,
    "start_time": "2023-01-31T13:18:37.052Z"
   },
   {
    "duration": 4,
    "start_time": "2023-01-31T13:18:37.068Z"
   },
   {
    "duration": 5,
    "start_time": "2023-01-31T13:18:37.104Z"
   },
   {
    "duration": 10,
    "start_time": "2023-01-31T13:18:37.111Z"
   },
   {
    "duration": 13,
    "start_time": "2023-01-31T13:18:37.125Z"
   },
   {
    "duration": 8,
    "start_time": "2023-01-31T13:18:37.140Z"
   },
   {
    "duration": 4,
    "start_time": "2023-01-31T13:18:37.149Z"
   },
   {
    "duration": 6,
    "start_time": "2023-01-31T13:18:37.202Z"
   },
   {
    "duration": 29,
    "start_time": "2023-01-31T13:18:37.210Z"
   },
   {
    "duration": 9,
    "start_time": "2023-01-31T13:18:37.241Z"
   },
   {
    "duration": 37,
    "start_time": "2023-01-31T13:18:37.253Z"
   },
   {
    "duration": 12,
    "start_time": "2023-01-31T13:18:37.292Z"
   },
   {
    "duration": 13,
    "start_time": "2023-01-31T13:18:37.305Z"
   },
   {
    "duration": 16,
    "start_time": "2023-01-31T13:18:37.320Z"
   },
   {
    "duration": 23,
    "start_time": "2023-01-31T13:18:37.338Z"
   },
   {
    "duration": 18,
    "start_time": "2023-01-31T13:18:37.362Z"
   },
   {
    "duration": 51,
    "start_time": "2023-01-31T13:18:37.382Z"
   },
   {
    "duration": 22,
    "start_time": "2023-01-31T13:18:37.435Z"
   },
   {
    "duration": 92,
    "start_time": "2023-01-31T13:18:37.459Z"
   },
   {
    "duration": 12,
    "start_time": "2023-01-31T13:18:37.553Z"
   },
   {
    "duration": 12,
    "start_time": "2023-01-31T13:18:37.567Z"
   },
   {
    "duration": 15,
    "start_time": "2023-01-31T13:18:37.603Z"
   },
   {
    "duration": 35,
    "start_time": "2023-01-31T13:18:37.621Z"
   },
   {
    "duration": 32,
    "start_time": "2023-01-31T13:18:37.657Z"
   },
   {
    "duration": 49,
    "start_time": "2023-01-31T13:18:37.690Z"
   },
   {
    "duration": 80,
    "start_time": "2023-01-31T13:18:37.740Z"
   },
   {
    "duration": 23,
    "start_time": "2023-01-31T13:18:37.821Z"
   },
   {
    "duration": 16,
    "start_time": "2023-01-31T13:18:37.846Z"
   },
   {
    "duration": 59,
    "start_time": "2023-01-31T13:18:37.864Z"
   },
   {
    "duration": 13,
    "start_time": "2023-01-31T13:18:37.925Z"
   },
   {
    "duration": 45,
    "start_time": "2023-01-31T13:18:37.940Z"
   },
   {
    "duration": 43,
    "start_time": "2023-01-31T13:18:37.986Z"
   },
   {
    "duration": 11,
    "start_time": "2023-01-31T13:18:38.031Z"
   },
   {
    "duration": 26,
    "start_time": "2023-01-31T13:23:36.554Z"
   },
   {
    "duration": 45,
    "start_time": "2023-01-31T13:24:05.420Z"
   },
   {
    "duration": 5,
    "start_time": "2023-01-31T13:27:15.411Z"
   },
   {
    "duration": 6,
    "start_time": "2023-01-31T13:27:29.474Z"
   },
   {
    "duration": 6,
    "start_time": "2023-01-31T13:30:20.844Z"
   },
   {
    "duration": 6,
    "start_time": "2023-01-31T13:31:09.588Z"
   },
   {
    "duration": 10,
    "start_time": "2023-01-31T13:32:24.533Z"
   },
   {
    "duration": 58,
    "start_time": "2023-01-31T13:34:08.418Z"
   },
   {
    "duration": 79,
    "start_time": "2023-01-31T13:34:35.263Z"
   },
   {
    "duration": 16,
    "start_time": "2023-01-31T13:34:45.706Z"
   },
   {
    "duration": 15,
    "start_time": "2023-01-31T13:34:59.058Z"
   },
   {
    "duration": 24,
    "start_time": "2023-01-31T13:35:17.168Z"
   },
   {
    "duration": 10,
    "start_time": "2023-01-31T13:37:10.117Z"
   },
   {
    "duration": 9,
    "start_time": "2023-01-31T13:38:43.812Z"
   },
   {
    "duration": 12,
    "start_time": "2023-01-31T13:39:55.100Z"
   },
   {
    "duration": 9,
    "start_time": "2023-01-31T13:40:12.045Z"
   },
   {
    "duration": 9,
    "start_time": "2023-01-31T13:41:04.559Z"
   },
   {
    "duration": 10,
    "start_time": "2023-01-31T13:42:10.776Z"
   },
   {
    "duration": 11,
    "start_time": "2023-01-31T13:42:46.991Z"
   },
   {
    "duration": 11,
    "start_time": "2023-01-31T13:43:21.853Z"
   },
   {
    "duration": 3,
    "start_time": "2023-01-31T13:51:31.621Z"
   },
   {
    "duration": 14,
    "start_time": "2023-01-31T13:51:48.082Z"
   },
   {
    "duration": 11,
    "start_time": "2023-01-31T13:56:33.888Z"
   },
   {
    "duration": 5,
    "start_time": "2023-01-31T13:56:46.697Z"
   },
   {
    "duration": 8,
    "start_time": "2023-01-31T13:56:51.669Z"
   },
   {
    "duration": 6,
    "start_time": "2023-01-31T14:06:58.710Z"
   },
   {
    "duration": 4,
    "start_time": "2023-01-31T14:07:12.465Z"
   },
   {
    "duration": 6,
    "start_time": "2023-01-31T14:07:13.584Z"
   },
   {
    "duration": 6,
    "start_time": "2023-01-31T14:08:35.367Z"
   },
   {
    "duration": 12,
    "start_time": "2023-01-31T14:11:23.971Z"
   },
   {
    "duration": 44,
    "start_time": "2023-01-31T14:13:42.452Z"
   },
   {
    "duration": 5,
    "start_time": "2023-01-31T16:12:33.056Z"
   },
   {
    "duration": 23,
    "start_time": "2023-01-31T16:13:29.912Z"
   },
   {
    "duration": 203,
    "start_time": "2023-01-31T16:15:51.171Z"
   },
   {
    "duration": 19,
    "start_time": "2023-01-31T16:19:03.546Z"
   },
   {
    "duration": 95,
    "start_time": "2023-01-31T16:19:12.472Z"
   },
   {
    "duration": 452,
    "start_time": "2023-01-31T16:22:58.827Z"
   },
   {
    "duration": 123,
    "start_time": "2023-01-31T16:22:59.281Z"
   },
   {
    "duration": 38,
    "start_time": "2023-01-31T16:22:59.406Z"
   },
   {
    "duration": 29,
    "start_time": "2023-01-31T16:22:59.447Z"
   },
   {
    "duration": 2459,
    "start_time": "2023-01-31T16:22:59.478Z"
   },
   {
    "duration": 11,
    "start_time": "2023-01-31T16:23:01.939Z"
   },
   {
    "duration": 38,
    "start_time": "2023-01-31T16:23:01.952Z"
   },
   {
    "duration": 32,
    "start_time": "2023-01-31T16:23:01.992Z"
   },
   {
    "duration": 28,
    "start_time": "2023-01-31T16:23:02.026Z"
   },
   {
    "duration": 42,
    "start_time": "2023-01-31T16:23:02.057Z"
   },
   {
    "duration": 73,
    "start_time": "2023-01-31T16:23:02.102Z"
   },
   {
    "duration": 67,
    "start_time": "2023-01-31T16:23:02.177Z"
   },
   {
    "duration": 32,
    "start_time": "2023-01-31T16:23:02.246Z"
   },
   {
    "duration": 64,
    "start_time": "2023-01-31T16:23:02.280Z"
   },
   {
    "duration": 32,
    "start_time": "2023-01-31T16:23:02.346Z"
   },
   {
    "duration": 46,
    "start_time": "2023-01-31T16:23:02.380Z"
   },
   {
    "duration": 29,
    "start_time": "2023-01-31T16:23:02.428Z"
   },
   {
    "duration": 33,
    "start_time": "2023-01-31T16:23:02.459Z"
   },
   {
    "duration": 53,
    "start_time": "2023-01-31T16:23:02.496Z"
   },
   {
    "duration": 29,
    "start_time": "2023-01-31T16:23:02.553Z"
   },
   {
    "duration": 23,
    "start_time": "2023-01-31T16:23:02.585Z"
   },
   {
    "duration": 92,
    "start_time": "2023-01-31T16:23:02.610Z"
   },
   {
    "duration": 39,
    "start_time": "2023-01-31T16:23:02.704Z"
   },
   {
    "duration": 132,
    "start_time": "2023-01-31T16:23:02.745Z"
   },
   {
    "duration": 10,
    "start_time": "2023-01-31T16:23:02.879Z"
   },
   {
    "duration": 33,
    "start_time": "2023-01-31T16:23:02.904Z"
   },
   {
    "duration": 43,
    "start_time": "2023-01-31T16:23:02.940Z"
   },
   {
    "duration": 34,
    "start_time": "2023-01-31T16:23:02.991Z"
   },
   {
    "duration": 46,
    "start_time": "2023-01-31T16:23:03.027Z"
   },
   {
    "duration": 48,
    "start_time": "2023-01-31T16:23:03.074Z"
   },
   {
    "duration": 14,
    "start_time": "2023-01-31T16:23:03.124Z"
   },
   {
    "duration": 55,
    "start_time": "2023-01-31T16:23:03.139Z"
   },
   {
    "duration": 28,
    "start_time": "2023-01-31T16:23:03.197Z"
   },
   {
    "duration": 50,
    "start_time": "2023-01-31T16:23:03.228Z"
   },
   {
    "duration": 24,
    "start_time": "2023-01-31T16:23:03.281Z"
   },
   {
    "duration": 68,
    "start_time": "2023-01-31T16:23:03.309Z"
   },
   {
    "duration": 120,
    "start_time": "2023-01-31T16:23:03.381Z"
   },
   {
    "duration": 13,
    "start_time": "2023-01-31T16:23:03.503Z"
   },
   {
    "duration": 61,
    "start_time": "2023-01-31T16:23:03.518Z"
   },
   {
    "duration": 24,
    "start_time": "2023-01-31T16:23:03.581Z"
   },
   {
    "duration": 137,
    "start_time": "2023-01-31T16:23:03.608Z"
   },
   {
    "duration": 55,
    "start_time": "2023-01-31T16:23:03.746Z"
   },
   {
    "duration": 34,
    "start_time": "2023-01-31T16:23:03.806Z"
   },
   {
    "duration": 56,
    "start_time": "2023-01-31T16:23:03.842Z"
   },
   {
    "duration": 42,
    "start_time": "2023-01-31T16:23:03.899Z"
   },
   {
    "duration": 60,
    "start_time": "2023-01-31T16:23:03.943Z"
   },
   {
    "duration": 54,
    "start_time": "2023-01-31T16:23:04.005Z"
   },
   {
    "duration": 32,
    "start_time": "2023-01-31T16:23:04.060Z"
   },
   {
    "duration": 37,
    "start_time": "2023-01-31T16:23:04.094Z"
   },
   {
    "duration": 40,
    "start_time": "2023-01-31T16:23:04.133Z"
   },
   {
    "duration": 89,
    "start_time": "2023-01-31T16:23:04.176Z"
   },
   {
    "duration": 5,
    "start_time": "2023-01-31T16:23:04.268Z"
   },
   {
    "duration": 2269,
    "start_time": "2023-01-31T16:23:04.275Z"
   },
   {
    "duration": 41,
    "start_time": "2023-01-31T16:23:21.513Z"
   },
   {
    "duration": 4,
    "start_time": "2023-01-31T16:23:38.821Z"
   },
   {
    "duration": 3085,
    "start_time": "2023-01-31T16:23:39.188Z"
   },
   {
    "duration": 52,
    "start_time": "2023-01-31T16:23:42.275Z"
   },
   {
    "duration": 3,
    "start_time": "2023-01-31T16:23:59.080Z"
   },
   {
    "duration": 148,
    "start_time": "2023-01-31T16:24:00.180Z"
   },
   {
    "duration": 39,
    "start_time": "2023-01-31T16:24:00.958Z"
   },
   {
    "duration": 3,
    "start_time": "2023-01-31T16:24:55.329Z"
   },
   {
    "duration": 89,
    "start_time": "2023-01-31T16:24:56.519Z"
   },
   {
    "duration": 16,
    "start_time": "2023-01-31T16:25:05.633Z"
   },
   {
    "duration": 3,
    "start_time": "2023-01-31T16:26:31.947Z"
   },
   {
    "duration": 567,
    "start_time": "2023-01-31T16:26:32.164Z"
   },
   {
    "duration": 0,
    "start_time": "2023-01-31T16:26:32.733Z"
   },
   {
    "duration": 3,
    "start_time": "2023-01-31T16:31:54.733Z"
   },
   {
    "duration": 636,
    "start_time": "2023-01-31T16:31:56.018Z"
   },
   {
    "duration": 90,
    "start_time": "2023-01-31T16:33:05.766Z"
   },
   {
    "duration": 4,
    "start_time": "2023-01-31T16:33:08.058Z"
   },
   {
    "duration": 213,
    "start_time": "2023-01-31T16:33:08.205Z"
   },
   {
    "duration": 458,
    "start_time": "2023-01-31T16:33:12.074Z"
   },
   {
    "duration": 91,
    "start_time": "2023-01-31T16:33:12.535Z"
   },
   {
    "duration": 35,
    "start_time": "2023-01-31T16:33:12.628Z"
   },
   {
    "duration": 39,
    "start_time": "2023-01-31T16:33:12.665Z"
   },
   {
    "duration": 2619,
    "start_time": "2023-01-31T16:33:12.706Z"
   },
   {
    "duration": 11,
    "start_time": "2023-01-31T16:33:15.326Z"
   },
   {
    "duration": 9,
    "start_time": "2023-01-31T16:33:15.338Z"
   },
   {
    "duration": 15,
    "start_time": "2023-01-31T16:33:15.349Z"
   },
   {
    "duration": 40,
    "start_time": "2023-01-31T16:33:15.366Z"
   },
   {
    "duration": 14,
    "start_time": "2023-01-31T16:33:15.410Z"
   },
   {
    "duration": 11,
    "start_time": "2023-01-31T16:33:15.426Z"
   },
   {
    "duration": 8,
    "start_time": "2023-01-31T16:33:15.439Z"
   },
   {
    "duration": 13,
    "start_time": "2023-01-31T16:33:15.449Z"
   },
   {
    "duration": 52,
    "start_time": "2023-01-31T16:33:15.464Z"
   },
   {
    "duration": 6,
    "start_time": "2023-01-31T16:33:15.518Z"
   },
   {
    "duration": 13,
    "start_time": "2023-01-31T16:33:15.526Z"
   },
   {
    "duration": 10,
    "start_time": "2023-01-31T16:33:15.541Z"
   },
   {
    "duration": 10,
    "start_time": "2023-01-31T16:33:15.553Z"
   },
   {
    "duration": 41,
    "start_time": "2023-01-31T16:33:15.565Z"
   },
   {
    "duration": 11,
    "start_time": "2023-01-31T16:33:15.609Z"
   },
   {
    "duration": 10,
    "start_time": "2023-01-31T16:33:15.623Z"
   },
   {
    "duration": 76,
    "start_time": "2023-01-31T16:33:15.635Z"
   },
   {
    "duration": 8,
    "start_time": "2023-01-31T16:33:15.713Z"
   },
   {
    "duration": 113,
    "start_time": "2023-01-31T16:33:15.723Z"
   },
   {
    "duration": 11,
    "start_time": "2023-01-31T16:33:15.838Z"
   },
   {
    "duration": 12,
    "start_time": "2023-01-31T16:33:15.851Z"
   },
   {
    "duration": 45,
    "start_time": "2023-01-31T16:33:15.866Z"
   },
   {
    "duration": 22,
    "start_time": "2023-01-31T16:33:15.915Z"
   },
   {
    "duration": 9,
    "start_time": "2023-01-31T16:33:15.939Z"
   },
   {
    "duration": 67,
    "start_time": "2023-01-31T16:33:15.950Z"
   },
   {
    "duration": 7,
    "start_time": "2023-01-31T16:33:16.018Z"
   },
   {
    "duration": 30,
    "start_time": "2023-01-31T16:33:16.027Z"
   },
   {
    "duration": 45,
    "start_time": "2023-01-31T16:33:16.059Z"
   },
   {
    "duration": 25,
    "start_time": "2023-01-31T16:33:16.106Z"
   },
   {
    "duration": 12,
    "start_time": "2023-01-31T16:33:16.133Z"
   },
   {
    "duration": 75,
    "start_time": "2023-01-31T16:33:16.148Z"
   },
   {
    "duration": 78,
    "start_time": "2023-01-31T16:33:16.225Z"
   },
   {
    "duration": 12,
    "start_time": "2023-01-31T16:33:16.305Z"
   },
   {
    "duration": 37,
    "start_time": "2023-01-31T16:33:16.318Z"
   },
   {
    "duration": 6,
    "start_time": "2023-01-31T16:33:16.356Z"
   },
   {
    "duration": 47,
    "start_time": "2023-01-31T16:33:16.364Z"
   },
   {
    "duration": 46,
    "start_time": "2023-01-31T16:33:16.413Z"
   },
   {
    "duration": 43,
    "start_time": "2023-01-31T16:33:16.462Z"
   },
   {
    "duration": 15,
    "start_time": "2023-01-31T16:33:16.508Z"
   },
   {
    "duration": 13,
    "start_time": "2023-01-31T16:33:16.526Z"
   },
   {
    "duration": 12,
    "start_time": "2023-01-31T16:33:16.541Z"
   },
   {
    "duration": 36,
    "start_time": "2023-01-31T16:33:16.603Z"
   },
   {
    "duration": 28,
    "start_time": "2023-01-31T16:33:16.641Z"
   },
   {
    "duration": 5,
    "start_time": "2023-01-31T16:33:16.671Z"
   },
   {
    "duration": 18,
    "start_time": "2023-01-31T16:33:16.678Z"
   },
   {
    "duration": 43,
    "start_time": "2023-01-31T16:33:16.703Z"
   },
   {
    "duration": 3,
    "start_time": "2023-01-31T16:33:16.748Z"
   },
   {
    "duration": 190,
    "start_time": "2023-01-31T16:33:16.753Z"
   },
   {
    "duration": 0,
    "start_time": "2023-01-31T16:33:16.945Z"
   },
   {
    "duration": 234,
    "start_time": "2023-01-31T16:33:55.170Z"
   },
   {
    "duration": 411,
    "start_time": "2023-01-31T16:37:32.765Z"
   },
   {
    "duration": 110,
    "start_time": "2023-01-31T16:37:33.178Z"
   },
   {
    "duration": 38,
    "start_time": "2023-01-31T16:37:33.290Z"
   },
   {
    "duration": 19,
    "start_time": "2023-01-31T16:37:33.330Z"
   },
   {
    "duration": 2535,
    "start_time": "2023-01-31T16:37:33.351Z"
   },
   {
    "duration": 20,
    "start_time": "2023-01-31T16:37:35.888Z"
   },
   {
    "duration": 10,
    "start_time": "2023-01-31T16:37:35.910Z"
   },
   {
    "duration": 11,
    "start_time": "2023-01-31T16:37:35.922Z"
   },
   {
    "duration": 9,
    "start_time": "2023-01-31T16:37:35.935Z"
   },
   {
    "duration": 24,
    "start_time": "2023-01-31T16:37:35.948Z"
   },
   {
    "duration": 31,
    "start_time": "2023-01-31T16:37:35.973Z"
   },
   {
    "duration": 3,
    "start_time": "2023-01-31T16:37:36.006Z"
   },
   {
    "duration": 13,
    "start_time": "2023-01-31T16:37:36.011Z"
   },
   {
    "duration": 22,
    "start_time": "2023-01-31T16:37:36.026Z"
   },
   {
    "duration": 6,
    "start_time": "2023-01-31T16:37:36.049Z"
   },
   {
    "duration": 23,
    "start_time": "2023-01-31T16:37:36.056Z"
   },
   {
    "duration": 23,
    "start_time": "2023-01-31T16:37:36.081Z"
   },
   {
    "duration": 21,
    "start_time": "2023-01-31T16:37:36.105Z"
   },
   {
    "duration": 16,
    "start_time": "2023-01-31T16:37:36.127Z"
   },
   {
    "duration": 27,
    "start_time": "2023-01-31T16:37:36.145Z"
   },
   {
    "duration": 5,
    "start_time": "2023-01-31T16:37:36.174Z"
   },
   {
    "duration": 39,
    "start_time": "2023-01-31T16:37:36.181Z"
   },
   {
    "duration": 8,
    "start_time": "2023-01-31T16:37:36.222Z"
   },
   {
    "duration": 105,
    "start_time": "2023-01-31T16:37:36.232Z"
   },
   {
    "duration": 10,
    "start_time": "2023-01-31T16:37:36.338Z"
   },
   {
    "duration": 7,
    "start_time": "2023-01-31T16:37:36.350Z"
   },
   {
    "duration": 45,
    "start_time": "2023-01-31T16:37:36.359Z"
   },
   {
    "duration": 10,
    "start_time": "2023-01-31T16:37:36.407Z"
   },
   {
    "duration": 16,
    "start_time": "2023-01-31T16:37:36.419Z"
   },
   {
    "duration": 26,
    "start_time": "2023-01-31T16:37:36.437Z"
   },
   {
    "duration": 39,
    "start_time": "2023-01-31T16:37:36.464Z"
   },
   {
    "duration": 26,
    "start_time": "2023-01-31T16:37:36.505Z"
   },
   {
    "duration": 8,
    "start_time": "2023-01-31T16:37:36.533Z"
   },
   {
    "duration": 63,
    "start_time": "2023-01-31T16:37:36.543Z"
   },
   {
    "duration": 10,
    "start_time": "2023-01-31T16:37:36.607Z"
   },
   {
    "duration": 31,
    "start_time": "2023-01-31T16:37:36.619Z"
   },
   {
    "duration": 83,
    "start_time": "2023-01-31T16:37:36.651Z"
   },
   {
    "duration": 10,
    "start_time": "2023-01-31T16:37:36.736Z"
   },
   {
    "duration": 26,
    "start_time": "2023-01-31T16:37:36.749Z"
   },
   {
    "duration": 6,
    "start_time": "2023-01-31T16:37:36.802Z"
   },
   {
    "duration": 13,
    "start_time": "2023-01-31T16:37:36.810Z"
   },
   {
    "duration": 29,
    "start_time": "2023-01-31T16:37:36.825Z"
   },
   {
    "duration": 52,
    "start_time": "2023-01-31T16:37:36.856Z"
   },
   {
    "duration": 11,
    "start_time": "2023-01-31T16:37:36.911Z"
   },
   {
    "duration": 9,
    "start_time": "2023-01-31T16:37:36.924Z"
   },
   {
    "duration": 12,
    "start_time": "2023-01-31T16:37:36.934Z"
   },
   {
    "duration": 67,
    "start_time": "2023-01-31T16:37:36.949Z"
   },
   {
    "duration": 12,
    "start_time": "2023-01-31T16:37:37.018Z"
   },
   {
    "duration": 5,
    "start_time": "2023-01-31T16:37:37.032Z"
   },
   {
    "duration": 20,
    "start_time": "2023-01-31T16:37:37.040Z"
   },
   {
    "duration": 84,
    "start_time": "2023-01-31T16:37:37.062Z"
   },
   {
    "duration": 211,
    "start_time": "2023-01-31T16:37:37.147Z"
   },
   {
    "duration": 477,
    "start_time": "2023-01-31T16:37:47.444Z"
   },
   {
    "duration": 102,
    "start_time": "2023-01-31T16:37:47.924Z"
   },
   {
    "duration": 34,
    "start_time": "2023-01-31T16:37:48.028Z"
   },
   {
    "duration": 41,
    "start_time": "2023-01-31T16:37:48.065Z"
   },
   {
    "duration": 2316,
    "start_time": "2023-01-31T16:37:48.107Z"
   },
   {
    "duration": 9,
    "start_time": "2023-01-31T16:37:50.425Z"
   },
   {
    "duration": 23,
    "start_time": "2023-01-31T16:37:50.436Z"
   },
   {
    "duration": 10,
    "start_time": "2023-01-31T16:37:50.461Z"
   },
   {
    "duration": 25,
    "start_time": "2023-01-31T16:37:50.473Z"
   },
   {
    "duration": 23,
    "start_time": "2023-01-31T16:37:50.501Z"
   },
   {
    "duration": 18,
    "start_time": "2023-01-31T16:37:50.526Z"
   },
   {
    "duration": 10,
    "start_time": "2023-01-31T16:37:50.546Z"
   },
   {
    "duration": 21,
    "start_time": "2023-01-31T16:37:50.558Z"
   },
   {
    "duration": 34,
    "start_time": "2023-01-31T16:37:50.581Z"
   },
   {
    "duration": 9,
    "start_time": "2023-01-31T16:37:50.617Z"
   },
   {
    "duration": 42,
    "start_time": "2023-01-31T16:37:50.628Z"
   },
   {
    "duration": 23,
    "start_time": "2023-01-31T16:37:50.672Z"
   },
   {
    "duration": 26,
    "start_time": "2023-01-31T16:37:50.696Z"
   },
   {
    "duration": 27,
    "start_time": "2023-01-31T16:37:50.724Z"
   },
   {
    "duration": 31,
    "start_time": "2023-01-31T16:37:50.753Z"
   },
   {
    "duration": 27,
    "start_time": "2023-01-31T16:37:50.786Z"
   },
   {
    "duration": 44,
    "start_time": "2023-01-31T16:37:50.815Z"
   },
   {
    "duration": 39,
    "start_time": "2023-01-31T16:37:50.861Z"
   },
   {
    "duration": 84,
    "start_time": "2023-01-31T16:37:50.902Z"
   },
   {
    "duration": 8,
    "start_time": "2023-01-31T16:37:50.988Z"
   },
   {
    "duration": 25,
    "start_time": "2023-01-31T16:37:51.003Z"
   },
   {
    "duration": 34,
    "start_time": "2023-01-31T16:37:51.030Z"
   },
   {
    "duration": 28,
    "start_time": "2023-01-31T16:37:51.067Z"
   },
   {
    "duration": 21,
    "start_time": "2023-01-31T16:37:51.097Z"
   },
   {
    "duration": 49,
    "start_time": "2023-01-31T16:37:51.120Z"
   },
   {
    "duration": 6,
    "start_time": "2023-01-31T16:37:51.171Z"
   },
   {
    "duration": 58,
    "start_time": "2023-01-31T16:37:51.179Z"
   },
   {
    "duration": 28,
    "start_time": "2023-01-31T16:37:51.239Z"
   },
   {
    "duration": 46,
    "start_time": "2023-01-31T16:37:51.269Z"
   },
   {
    "duration": 19,
    "start_time": "2023-01-31T16:37:51.317Z"
   },
   {
    "duration": 54,
    "start_time": "2023-01-31T16:37:51.338Z"
   },
   {
    "duration": 46,
    "start_time": "2023-01-31T16:37:51.393Z"
   },
   {
    "duration": 36,
    "start_time": "2023-01-31T16:37:51.441Z"
   },
   {
    "duration": 43,
    "start_time": "2023-01-31T16:37:51.479Z"
   },
   {
    "duration": 16,
    "start_time": "2023-01-31T16:37:51.525Z"
   },
   {
    "duration": 44,
    "start_time": "2023-01-31T16:37:51.543Z"
   },
   {
    "duration": 37,
    "start_time": "2023-01-31T16:37:51.589Z"
   },
   {
    "duration": 23,
    "start_time": "2023-01-31T16:37:51.628Z"
   },
   {
    "duration": 32,
    "start_time": "2023-01-31T16:37:51.653Z"
   },
   {
    "duration": 50,
    "start_time": "2023-01-31T16:37:51.687Z"
   },
   {
    "duration": 34,
    "start_time": "2023-01-31T16:37:51.739Z"
   },
   {
    "duration": 31,
    "start_time": "2023-01-31T16:37:51.774Z"
   },
   {
    "duration": 47,
    "start_time": "2023-01-31T16:37:51.807Z"
   },
   {
    "duration": 36,
    "start_time": "2023-01-31T16:37:51.856Z"
   },
   {
    "duration": 38,
    "start_time": "2023-01-31T16:37:51.894Z"
   },
   {
    "duration": 59,
    "start_time": "2023-01-31T16:37:51.934Z"
   },
   {
    "duration": 632,
    "start_time": "2023-01-31T16:37:51.994Z"
   },
   {
    "duration": 548,
    "start_time": "2023-01-31T16:44:12.066Z"
   },
   {
    "duration": 360,
    "start_time": "2023-01-31T16:45:09.160Z"
   },
   {
    "duration": 793,
    "start_time": "2023-01-31T16:45:38.312Z"
   },
   {
    "duration": 12,
    "start_time": "2023-01-31T16:45:50.156Z"
   },
   {
    "duration": 776,
    "start_time": "2023-01-31T16:47:32.562Z"
   },
   {
    "duration": 5,
    "start_time": "2023-01-31T16:47:56.076Z"
   },
   {
    "duration": 50,
    "start_time": "2023-01-31T16:48:43.256Z"
   },
   {
    "duration": 46,
    "start_time": "2023-01-31T16:56:21.409Z"
   },
   {
    "duration": 136,
    "start_time": "2023-01-31T16:56:28.875Z"
   },
   {
    "duration": 10,
    "start_time": "2023-01-31T16:57:13.408Z"
   },
   {
    "duration": 770,
    "start_time": "2023-01-31T16:57:20.188Z"
   },
   {
    "duration": 727,
    "start_time": "2023-01-31T16:57:58.202Z"
   },
   {
    "duration": 527,
    "start_time": "2023-01-31T16:58:08.261Z"
   },
   {
    "duration": 535,
    "start_time": "2023-01-31T16:58:25.406Z"
   },
   {
    "duration": 484,
    "start_time": "2023-01-31T17:02:02.021Z"
   },
   {
    "duration": 154,
    "start_time": "2023-01-31T17:21:16.055Z"
   },
   {
    "duration": 173,
    "start_time": "2023-01-31T17:22:11.940Z"
   },
   {
    "duration": 627,
    "start_time": "2023-01-31T17:22:18.650Z"
   },
   {
    "duration": 9,
    "start_time": "2023-01-31T17:33:05.948Z"
   },
   {
    "duration": 495,
    "start_time": "2023-01-31T17:33:19.834Z"
   },
   {
    "duration": 4982,
    "start_time": "2023-01-31T17:33:52.961Z"
   },
   {
    "duration": 4,
    "start_time": "2023-01-31T17:40:28.536Z"
   },
   {
    "duration": 296,
    "start_time": "2023-01-31T17:44:13.850Z"
   },
   {
    "duration": 291,
    "start_time": "2023-01-31T17:45:03.057Z"
   },
   {
    "duration": 275,
    "start_time": "2023-01-31T17:45:10.698Z"
   },
   {
    "duration": 270,
    "start_time": "2023-01-31T17:45:45.143Z"
   },
   {
    "duration": 549,
    "start_time": "2023-01-31T17:46:48.248Z"
   },
   {
    "duration": 1229,
    "start_time": "2023-01-31T17:47:16.926Z"
   },
   {
    "duration": 168,
    "start_time": "2023-01-31T17:47:35.538Z"
   },
   {
    "duration": 745,
    "start_time": "2023-01-31T17:47:43.153Z"
   },
   {
    "duration": 754,
    "start_time": "2023-01-31T17:47:50.302Z"
   },
   {
    "duration": 45,
    "start_time": "2023-01-31T17:48:49.164Z"
   },
   {
    "duration": 345,
    "start_time": "2023-01-31T17:48:52.448Z"
   },
   {
    "duration": 187,
    "start_time": "2023-01-31T17:49:16.989Z"
   },
   {
    "duration": 4010,
    "start_time": "2023-01-31T17:50:02.845Z"
   },
   {
    "duration": 50,
    "start_time": "2023-01-31T17:50:30.210Z"
   },
   {
    "duration": 483,
    "start_time": "2023-01-31T17:50:36.345Z"
   },
   {
    "duration": 938,
    "start_time": "2023-01-31T17:50:46.039Z"
   },
   {
    "duration": 163,
    "start_time": "2023-01-31T17:50:50.094Z"
   },
   {
    "duration": 186,
    "start_time": "2023-01-31T17:50:58.474Z"
   },
   {
    "duration": 213,
    "start_time": "2023-01-31T17:51:08.356Z"
   },
   {
    "duration": 170,
    "start_time": "2023-01-31T17:51:49.381Z"
   },
   {
    "duration": 224,
    "start_time": "2023-01-31T17:51:52.116Z"
   },
   {
    "duration": 168,
    "start_time": "2023-01-31T17:51:58.938Z"
   },
   {
    "duration": 215,
    "start_time": "2023-01-31T17:52:05.079Z"
   },
   {
    "duration": 180,
    "start_time": "2023-01-31T17:52:28.561Z"
   },
   {
    "duration": 181,
    "start_time": "2023-01-31T17:52:35.242Z"
   },
   {
    "duration": 132,
    "start_time": "2023-01-31T17:52:51.385Z"
   },
   {
    "duration": 139,
    "start_time": "2023-01-31T17:53:01.902Z"
   },
   {
    "duration": 190,
    "start_time": "2023-01-31T17:53:14.246Z"
   },
   {
    "duration": 148,
    "start_time": "2023-01-31T17:53:18.645Z"
   },
   {
    "duration": 47,
    "start_time": "2023-01-31T17:54:45.884Z"
   },
   {
    "duration": 139,
    "start_time": "2023-01-31T17:54:55.892Z"
   },
   {
    "duration": 376,
    "start_time": "2023-01-31T23:42:02.248Z"
   },
   {
    "duration": 131,
    "start_time": "2023-01-31T23:42:02.626Z"
   },
   {
    "duration": 30,
    "start_time": "2023-01-31T23:42:02.759Z"
   },
   {
    "duration": 17,
    "start_time": "2023-01-31T23:42:02.791Z"
   },
   {
    "duration": 2148,
    "start_time": "2023-01-31T23:42:02.809Z"
   },
   {
    "duration": 9,
    "start_time": "2023-01-31T23:42:04.959Z"
   },
   {
    "duration": 15,
    "start_time": "2023-01-31T23:42:04.970Z"
   },
   {
    "duration": 21,
    "start_time": "2023-01-31T23:42:04.987Z"
   },
   {
    "duration": 15,
    "start_time": "2023-01-31T23:42:05.009Z"
   },
   {
    "duration": 21,
    "start_time": "2023-01-31T23:42:05.027Z"
   },
   {
    "duration": 21,
    "start_time": "2023-01-31T23:42:05.049Z"
   },
   {
    "duration": 22,
    "start_time": "2023-01-31T23:42:05.071Z"
   },
   {
    "duration": 3,
    "start_time": "2023-01-31T23:42:05.095Z"
   },
   {
    "duration": 7,
    "start_time": "2023-01-31T23:42:05.100Z"
   },
   {
    "duration": 16,
    "start_time": "2023-01-31T23:42:05.108Z"
   },
   {
    "duration": 6,
    "start_time": "2023-01-31T23:42:05.126Z"
   },
   {
    "duration": 8,
    "start_time": "2023-01-31T23:42:05.134Z"
   },
   {
    "duration": 33,
    "start_time": "2023-01-31T23:42:05.145Z"
   },
   {
    "duration": 8,
    "start_time": "2023-01-31T23:42:05.180Z"
   },
   {
    "duration": 26,
    "start_time": "2023-01-31T23:42:05.190Z"
   },
   {
    "duration": 16,
    "start_time": "2023-01-31T23:42:05.220Z"
   },
   {
    "duration": 8,
    "start_time": "2023-01-31T23:42:05.238Z"
   },
   {
    "duration": 30,
    "start_time": "2023-01-31T23:42:05.248Z"
   },
   {
    "duration": 8,
    "start_time": "2023-01-31T23:42:05.279Z"
   },
   {
    "duration": 74,
    "start_time": "2023-01-31T23:42:05.303Z"
   },
   {
    "duration": 31,
    "start_time": "2023-01-31T23:42:05.379Z"
   },
   {
    "duration": 6,
    "start_time": "2023-01-31T23:42:05.412Z"
   },
   {
    "duration": 23,
    "start_time": "2023-01-31T23:42:05.421Z"
   },
   {
    "duration": 15,
    "start_time": "2023-01-31T23:42:05.446Z"
   },
   {
    "duration": 47,
    "start_time": "2023-01-31T23:42:05.462Z"
   },
   {
    "duration": 25,
    "start_time": "2023-01-31T23:42:05.511Z"
   },
   {
    "duration": 25,
    "start_time": "2023-01-31T23:42:05.537Z"
   },
   {
    "duration": 34,
    "start_time": "2023-01-31T23:42:05.563Z"
   },
   {
    "duration": 10,
    "start_time": "2023-01-31T23:42:05.603Z"
   },
   {
    "duration": 33,
    "start_time": "2023-01-31T23:42:05.615Z"
   },
   {
    "duration": 8,
    "start_time": "2023-01-31T23:42:05.650Z"
   },
   {
    "duration": 46,
    "start_time": "2023-01-31T23:42:05.661Z"
   },
   {
    "duration": 42,
    "start_time": "2023-01-31T23:42:05.708Z"
   },
   {
    "duration": 9,
    "start_time": "2023-01-31T23:42:05.752Z"
   },
   {
    "duration": 50,
    "start_time": "2023-01-31T23:42:05.763Z"
   },
   {
    "duration": 5,
    "start_time": "2023-01-31T23:42:05.814Z"
   },
   {
    "duration": 13,
    "start_time": "2023-01-31T23:42:05.821Z"
   },
   {
    "duration": 28,
    "start_time": "2023-01-31T23:42:05.835Z"
   },
   {
    "duration": 9,
    "start_time": "2023-01-31T23:42:05.864Z"
   },
   {
    "duration": 35,
    "start_time": "2023-01-31T23:42:05.874Z"
   },
   {
    "duration": 25,
    "start_time": "2023-01-31T23:42:05.911Z"
   },
   {
    "duration": 9,
    "start_time": "2023-01-31T23:42:05.938Z"
   },
   {
    "duration": 11,
    "start_time": "2023-01-31T23:42:05.949Z"
   },
   {
    "duration": 9,
    "start_time": "2023-01-31T23:42:05.962Z"
   },
   {
    "duration": 4,
    "start_time": "2023-01-31T23:42:05.973Z"
   },
   {
    "duration": 13,
    "start_time": "2023-01-31T23:42:06.003Z"
   },
   {
    "duration": 324,
    "start_time": "2023-01-31T23:42:06.018Z"
   },
   {
    "duration": 20,
    "start_time": "2023-01-31T23:42:06.344Z"
   },
   {
    "duration": 5,
    "start_time": "2023-01-31T23:42:06.367Z"
   },
   {
    "duration": 82,
    "start_time": "2023-01-31T23:42:06.375Z"
   },
   {
    "duration": 531,
    "start_time": "2023-01-31T23:42:06.459Z"
   },
   {
    "duration": 271,
    "start_time": "2023-01-31T23:42:06.992Z"
   },
   {
    "duration": 259,
    "start_time": "2023-01-31T23:42:07.265Z"
   },
   {
    "duration": 386,
    "start_time": "2023-01-31T23:42:07.526Z"
   },
   {
    "duration": 169,
    "start_time": "2023-01-31T23:42:07.914Z"
   },
   {
    "duration": 174,
    "start_time": "2023-01-31T23:42:08.085Z"
   },
   {
    "duration": 160,
    "start_time": "2023-01-31T23:42:08.261Z"
   },
   {
    "duration": 250,
    "start_time": "2023-01-31T23:42:08.423Z"
   },
   {
    "duration": 68,
    "start_time": "2023-01-31T23:45:33.733Z"
   },
   {
    "duration": 129,
    "start_time": "2023-01-31T23:46:24.341Z"
   },
   {
    "duration": 15,
    "start_time": "2023-01-31T23:47:07.556Z"
   },
   {
    "duration": 140,
    "start_time": "2023-01-31T23:48:05.821Z"
   },
   {
    "duration": 115,
    "start_time": "2023-01-31T23:51:28.923Z"
   },
   {
    "duration": 50,
    "start_time": "2023-01-31T23:51:53.953Z"
   },
   {
    "duration": 711,
    "start_time": "2023-01-31T23:52:05.101Z"
   },
   {
    "duration": 127,
    "start_time": "2023-01-31T23:52:19.302Z"
   },
   {
    "duration": 175,
    "start_time": "2023-01-31T23:52:36.111Z"
   },
   {
    "duration": 150,
    "start_time": "2023-01-31T23:53:15.853Z"
   },
   {
    "duration": 704,
    "start_time": "2023-01-31T23:54:13.484Z"
   },
   {
    "duration": 517,
    "start_time": "2023-01-31T23:54:39.206Z"
   },
   {
    "duration": 97,
    "start_time": "2023-01-31T23:54:39.725Z"
   },
   {
    "duration": 33,
    "start_time": "2023-01-31T23:54:39.824Z"
   },
   {
    "duration": 14,
    "start_time": "2023-01-31T23:54:39.859Z"
   },
   {
    "duration": 2154,
    "start_time": "2023-01-31T23:54:39.903Z"
   },
   {
    "duration": 10,
    "start_time": "2023-01-31T23:54:42.058Z"
   },
   {
    "duration": 5,
    "start_time": "2023-01-31T23:54:42.069Z"
   },
   {
    "duration": 10,
    "start_time": "2023-01-31T23:54:42.075Z"
   },
   {
    "duration": 8,
    "start_time": "2023-01-31T23:54:42.087Z"
   },
   {
    "duration": 15,
    "start_time": "2023-01-31T23:54:42.097Z"
   },
   {
    "duration": 5,
    "start_time": "2023-01-31T23:54:42.113Z"
   },
   {
    "duration": 11,
    "start_time": "2023-01-31T23:54:42.120Z"
   },
   {
    "duration": 4,
    "start_time": "2023-01-31T23:54:42.132Z"
   },
   {
    "duration": 13,
    "start_time": "2023-01-31T23:54:42.137Z"
   },
   {
    "duration": 20,
    "start_time": "2023-01-31T23:54:42.152Z"
   },
   {
    "duration": 6,
    "start_time": "2023-01-31T23:54:42.174Z"
   },
   {
    "duration": 29,
    "start_time": "2023-01-31T23:54:42.181Z"
   },
   {
    "duration": 6,
    "start_time": "2023-01-31T23:54:42.211Z"
   },
   {
    "duration": 8,
    "start_time": "2023-01-31T23:54:42.219Z"
   },
   {
    "duration": 15,
    "start_time": "2023-01-31T23:54:42.229Z"
   },
   {
    "duration": 19,
    "start_time": "2023-01-31T23:54:42.246Z"
   },
   {
    "duration": 15,
    "start_time": "2023-01-31T23:54:42.267Z"
   },
   {
    "duration": 33,
    "start_time": "2023-01-31T23:54:42.284Z"
   },
   {
    "duration": 6,
    "start_time": "2023-01-31T23:54:42.319Z"
   },
   {
    "duration": 81,
    "start_time": "2023-01-31T23:54:42.326Z"
   },
   {
    "duration": 10,
    "start_time": "2023-01-31T23:54:42.408Z"
   },
   {
    "duration": 16,
    "start_time": "2023-01-31T23:54:42.419Z"
   },
   {
    "duration": 12,
    "start_time": "2023-01-31T23:54:42.439Z"
   },
   {
    "duration": 17,
    "start_time": "2023-01-31T23:54:42.453Z"
   },
   {
    "duration": 33,
    "start_time": "2023-01-31T23:54:42.471Z"
   },
   {
    "duration": 23,
    "start_time": "2023-01-31T23:54:42.506Z"
   },
   {
    "duration": 6,
    "start_time": "2023-01-31T23:54:42.530Z"
   },
   {
    "duration": 28,
    "start_time": "2023-01-31T23:54:42.537Z"
   },
   {
    "duration": 40,
    "start_time": "2023-01-31T23:54:42.566Z"
   },
   {
    "duration": 22,
    "start_time": "2023-01-31T23:54:42.607Z"
   },
   {
    "duration": 7,
    "start_time": "2023-01-31T23:54:42.631Z"
   },
   {
    "duration": 67,
    "start_time": "2023-01-31T23:54:42.640Z"
   },
   {
    "duration": 37,
    "start_time": "2023-01-31T23:54:42.709Z"
   },
   {
    "duration": 9,
    "start_time": "2023-01-31T23:54:42.747Z"
   },
   {
    "duration": 63,
    "start_time": "2023-01-31T23:54:42.757Z"
   },
   {
    "duration": 5,
    "start_time": "2023-01-31T23:54:42.821Z"
   },
   {
    "duration": 25,
    "start_time": "2023-01-31T23:54:42.828Z"
   },
   {
    "duration": 32,
    "start_time": "2023-01-31T23:54:42.855Z"
   },
   {
    "duration": 18,
    "start_time": "2023-01-31T23:54:42.888Z"
   },
   {
    "duration": 11,
    "start_time": "2023-01-31T23:54:42.908Z"
   },
   {
    "duration": 11,
    "start_time": "2023-01-31T23:54:42.921Z"
   },
   {
    "duration": 8,
    "start_time": "2023-01-31T23:54:42.934Z"
   },
   {
    "duration": 12,
    "start_time": "2023-01-31T23:54:42.944Z"
   },
   {
    "duration": 55,
    "start_time": "2023-01-31T23:54:42.957Z"
   },
   {
    "duration": 5,
    "start_time": "2023-01-31T23:54:43.014Z"
   },
   {
    "duration": 19,
    "start_time": "2023-01-31T23:54:43.021Z"
   },
   {
    "duration": 324,
    "start_time": "2023-01-31T23:54:43.041Z"
   },
   {
    "duration": 12,
    "start_time": "2023-01-31T23:54:43.367Z"
   },
   {
    "duration": 23,
    "start_time": "2023-01-31T23:54:43.381Z"
   },
   {
    "duration": 48,
    "start_time": "2023-01-31T23:54:43.406Z"
   },
   {
    "duration": 521,
    "start_time": "2023-01-31T23:54:43.456Z"
   },
   {
    "duration": 253,
    "start_time": "2023-01-31T23:54:43.979Z"
   },
   {
    "duration": 256,
    "start_time": "2023-01-31T23:54:44.233Z"
   },
   {
    "duration": 375,
    "start_time": "2023-01-31T23:54:44.491Z"
   },
   {
    "duration": 146,
    "start_time": "2023-01-31T23:54:44.868Z"
   },
   {
    "duration": 178,
    "start_time": "2023-01-31T23:54:45.016Z"
   },
   {
    "duration": 175,
    "start_time": "2023-01-31T23:54:45.196Z"
   },
   {
    "duration": 238,
    "start_time": "2023-01-31T23:54:45.373Z"
   },
   {
    "duration": 163,
    "start_time": "2023-01-31T23:54:45.613Z"
   },
   {
    "duration": 726,
    "start_time": "2023-01-31T23:54:45.778Z"
   },
   {
    "duration": 136,
    "start_time": "2023-01-31T23:54:52.582Z"
   },
   {
    "duration": 150,
    "start_time": "2023-01-31T23:56:15.578Z"
   },
   {
    "duration": 173,
    "start_time": "2023-01-31T23:56:27.696Z"
   },
   {
    "duration": 64,
    "start_time": "2023-01-31T23:57:05.596Z"
   },
   {
    "duration": 109,
    "start_time": "2023-01-31T23:57:12.386Z"
   },
   {
    "duration": 163,
    "start_time": "2023-01-31T23:57:28.996Z"
   },
   {
    "duration": 165,
    "start_time": "2023-01-31T23:57:46.896Z"
   },
   {
    "duration": 783,
    "start_time": "2023-01-31T23:58:17.497Z"
   },
   {
    "duration": 180,
    "start_time": "2023-01-31T23:58:21.679Z"
   },
   {
    "duration": 178,
    "start_time": "2023-01-31T23:58:30.520Z"
   },
   {
    "duration": 162,
    "start_time": "2023-01-31T23:58:53.706Z"
   },
   {
    "duration": 477,
    "start_time": "2023-02-01T09:56:47.785Z"
   },
   {
    "duration": 338,
    "start_time": "2023-02-01T09:56:48.264Z"
   },
   {
    "duration": 37,
    "start_time": "2023-02-01T09:56:48.604Z"
   },
   {
    "duration": 17,
    "start_time": "2023-02-01T09:56:48.644Z"
   },
   {
    "duration": 2498,
    "start_time": "2023-02-01T09:56:48.663Z"
   },
   {
    "duration": 12,
    "start_time": "2023-02-01T09:56:51.163Z"
   },
   {
    "duration": 7,
    "start_time": "2023-02-01T09:56:51.177Z"
   },
   {
    "duration": 6,
    "start_time": "2023-02-01T09:56:51.185Z"
   },
   {
    "duration": 6,
    "start_time": "2023-02-01T09:56:51.193Z"
   },
   {
    "duration": 22,
    "start_time": "2023-02-01T09:56:51.202Z"
   },
   {
    "duration": 8,
    "start_time": "2023-02-01T09:56:51.226Z"
   },
   {
    "duration": 11,
    "start_time": "2023-02-01T09:56:51.236Z"
   },
   {
    "duration": 12,
    "start_time": "2023-02-01T09:56:51.249Z"
   },
   {
    "duration": 7,
    "start_time": "2023-02-01T09:56:51.262Z"
   },
   {
    "duration": 17,
    "start_time": "2023-02-01T09:56:51.271Z"
   },
   {
    "duration": 31,
    "start_time": "2023-02-01T09:56:51.290Z"
   },
   {
    "duration": 10,
    "start_time": "2023-02-01T09:56:51.323Z"
   },
   {
    "duration": 14,
    "start_time": "2023-02-01T09:56:51.338Z"
   },
   {
    "duration": 13,
    "start_time": "2023-02-01T09:56:51.354Z"
   },
   {
    "duration": 13,
    "start_time": "2023-02-01T09:56:51.369Z"
   },
   {
    "duration": 15,
    "start_time": "2023-02-01T09:56:51.384Z"
   },
   {
    "duration": 4,
    "start_time": "2023-02-01T09:56:51.401Z"
   },
   {
    "duration": 54,
    "start_time": "2023-02-01T09:56:51.407Z"
   },
   {
    "duration": 9,
    "start_time": "2023-02-01T09:56:51.464Z"
   },
   {
    "duration": 82,
    "start_time": "2023-02-01T09:56:51.476Z"
   },
   {
    "duration": 10,
    "start_time": "2023-02-01T09:56:51.561Z"
   },
   {
    "duration": 7,
    "start_time": "2023-02-01T09:56:51.573Z"
   },
   {
    "duration": 40,
    "start_time": "2023-02-01T09:56:51.585Z"
   },
   {
    "duration": 10,
    "start_time": "2023-02-01T09:56:51.626Z"
   },
   {
    "duration": 10,
    "start_time": "2023-02-01T09:56:51.638Z"
   },
   {
    "duration": 29,
    "start_time": "2023-02-01T09:56:51.650Z"
   },
   {
    "duration": 42,
    "start_time": "2023-02-01T09:56:51.681Z"
   },
   {
    "duration": 35,
    "start_time": "2023-02-01T09:56:51.725Z"
   },
   {
    "duration": 10,
    "start_time": "2023-02-01T09:56:51.761Z"
   },
   {
    "duration": 58,
    "start_time": "2023-02-01T09:56:51.773Z"
   },
   {
    "duration": 12,
    "start_time": "2023-02-01T09:56:51.833Z"
   },
   {
    "duration": 34,
    "start_time": "2023-02-01T09:56:51.848Z"
   },
   {
    "duration": 60,
    "start_time": "2023-02-01T09:56:51.884Z"
   },
   {
    "duration": 9,
    "start_time": "2023-02-01T09:56:51.946Z"
   },
   {
    "duration": 27,
    "start_time": "2023-02-01T09:56:51.957Z"
   },
   {
    "duration": 5,
    "start_time": "2023-02-01T09:56:51.986Z"
   },
   {
    "duration": 10,
    "start_time": "2023-02-01T09:56:52.020Z"
   },
   {
    "duration": 25,
    "start_time": "2023-02-01T09:56:52.032Z"
   },
   {
    "duration": 9,
    "start_time": "2023-02-01T09:56:52.058Z"
   },
   {
    "duration": 9,
    "start_time": "2023-02-01T09:56:52.069Z"
   },
   {
    "duration": 45,
    "start_time": "2023-02-01T09:56:52.080Z"
   },
   {
    "duration": 12,
    "start_time": "2023-02-01T09:56:52.128Z"
   },
   {
    "duration": 9,
    "start_time": "2023-02-01T09:56:52.142Z"
   },
   {
    "duration": 10,
    "start_time": "2023-02-01T09:56:52.152Z"
   },
   {
    "duration": 4,
    "start_time": "2023-02-01T09:56:52.163Z"
   },
   {
    "duration": 17,
    "start_time": "2023-02-01T09:56:52.169Z"
   },
   {
    "duration": 388,
    "start_time": "2023-02-01T09:56:52.188Z"
   },
   {
    "duration": 11,
    "start_time": "2023-02-01T09:56:52.578Z"
   },
   {
    "duration": 6,
    "start_time": "2023-02-01T09:56:52.591Z"
   },
   {
    "duration": 52,
    "start_time": "2023-02-01T09:56:52.599Z"
   },
   {
    "duration": 543,
    "start_time": "2023-02-01T09:56:52.652Z"
   },
   {
    "duration": 247,
    "start_time": "2023-02-01T09:56:53.197Z"
   },
   {
    "duration": 286,
    "start_time": "2023-02-01T09:56:53.446Z"
   },
   {
    "duration": 437,
    "start_time": "2023-02-01T09:56:53.734Z"
   },
   {
    "duration": 168,
    "start_time": "2023-02-01T09:56:54.173Z"
   },
   {
    "duration": 233,
    "start_time": "2023-02-01T09:56:54.346Z"
   },
   {
    "duration": 324,
    "start_time": "2023-02-01T09:56:54.581Z"
   },
   {
    "duration": 166,
    "start_time": "2023-02-01T09:56:54.907Z"
   },
   {
    "duration": 227,
    "start_time": "2023-02-01T09:56:55.075Z"
   },
   {
    "duration": 181,
    "start_time": "2023-02-01T09:56:55.305Z"
   },
   {
    "duration": 181,
    "start_time": "2023-02-01T09:56:55.488Z"
   },
   {
    "duration": 193,
    "start_time": "2023-02-01T09:56:55.671Z"
   },
   {
    "duration": 80,
    "start_time": "2023-02-01T09:58:07.960Z"
   },
   {
    "duration": 165,
    "start_time": "2023-02-01T09:58:14.176Z"
   },
   {
    "duration": 149,
    "start_time": "2023-02-01T09:58:23.690Z"
   },
   {
    "duration": 147,
    "start_time": "2023-02-01T09:58:56.435Z"
   },
   {
    "duration": 143,
    "start_time": "2023-02-01T09:59:42.270Z"
   },
   {
    "duration": 91,
    "start_time": "2023-02-01T10:05:06.478Z"
   },
   {
    "duration": 152,
    "start_time": "2023-02-01T10:05:12.774Z"
   },
   {
    "duration": 81,
    "start_time": "2023-02-01T10:06:28.177Z"
   },
   {
    "duration": 13,
    "start_time": "2023-02-01T10:06:33.461Z"
   },
   {
    "duration": 9,
    "start_time": "2023-02-01T10:07:17.115Z"
   },
   {
    "duration": 140,
    "start_time": "2023-02-01T10:07:38.865Z"
   },
   {
    "duration": 187,
    "start_time": "2023-02-01T10:09:17.325Z"
   },
   {
    "duration": 137,
    "start_time": "2023-02-01T10:09:38.855Z"
   },
   {
    "duration": 886,
    "start_time": "2023-02-01T10:10:38.686Z"
   },
   {
    "duration": 122,
    "start_time": "2023-02-01T10:10:39.575Z"
   },
   {
    "duration": 46,
    "start_time": "2023-02-01T10:10:39.699Z"
   },
   {
    "duration": 24,
    "start_time": "2023-02-01T10:10:39.748Z"
   },
   {
    "duration": 2298,
    "start_time": "2023-02-01T10:10:39.775Z"
   },
   {
    "duration": 17,
    "start_time": "2023-02-01T10:10:42.076Z"
   },
   {
    "duration": 5,
    "start_time": "2023-02-01T10:10:42.095Z"
   },
   {
    "duration": 11,
    "start_time": "2023-02-01T10:10:42.103Z"
   },
   {
    "duration": 16,
    "start_time": "2023-02-01T10:10:42.115Z"
   },
   {
    "duration": 17,
    "start_time": "2023-02-01T10:10:42.136Z"
   },
   {
    "duration": 10,
    "start_time": "2023-02-01T10:10:42.155Z"
   },
   {
    "duration": 9,
    "start_time": "2023-02-01T10:10:42.167Z"
   },
   {
    "duration": 4,
    "start_time": "2023-02-01T10:10:42.179Z"
   },
   {
    "duration": 35,
    "start_time": "2023-02-01T10:10:42.186Z"
   },
   {
    "duration": 19,
    "start_time": "2023-02-01T10:10:42.224Z"
   },
   {
    "duration": 6,
    "start_time": "2023-02-01T10:10:42.245Z"
   },
   {
    "duration": 14,
    "start_time": "2023-02-01T10:10:42.254Z"
   },
   {
    "duration": 4,
    "start_time": "2023-02-01T10:10:42.271Z"
   },
   {
    "duration": 43,
    "start_time": "2023-02-01T10:10:42.278Z"
   },
   {
    "duration": 7,
    "start_time": "2023-02-01T10:10:42.324Z"
   },
   {
    "duration": 21,
    "start_time": "2023-02-01T10:10:42.333Z"
   },
   {
    "duration": 8,
    "start_time": "2023-02-01T10:10:42.356Z"
   },
   {
    "duration": 35,
    "start_time": "2023-02-01T10:10:42.366Z"
   },
   {
    "duration": 25,
    "start_time": "2023-02-01T10:10:42.403Z"
   },
   {
    "duration": 103,
    "start_time": "2023-02-01T10:10:42.430Z"
   },
   {
    "duration": 13,
    "start_time": "2023-02-01T10:10:42.536Z"
   },
   {
    "duration": 7,
    "start_time": "2023-02-01T10:10:42.552Z"
   },
   {
    "duration": 13,
    "start_time": "2023-02-01T10:10:42.566Z"
   },
   {
    "duration": 47,
    "start_time": "2023-02-01T10:10:42.582Z"
   },
   {
    "duration": 17,
    "start_time": "2023-02-01T10:10:42.631Z"
   },
   {
    "duration": 44,
    "start_time": "2023-02-01T10:10:42.651Z"
   },
   {
    "duration": 8,
    "start_time": "2023-02-01T10:10:42.721Z"
   },
   {
    "duration": 42,
    "start_time": "2023-02-01T10:10:42.731Z"
   },
   {
    "duration": 15,
    "start_time": "2023-02-01T10:10:42.776Z"
   },
   {
    "duration": 52,
    "start_time": "2023-02-01T10:10:42.793Z"
   },
   {
    "duration": 8,
    "start_time": "2023-02-01T10:10:42.848Z"
   },
   {
    "duration": 63,
    "start_time": "2023-02-01T10:10:42.858Z"
   },
   {
    "duration": 56,
    "start_time": "2023-02-01T10:10:42.924Z"
   },
   {
    "duration": 12,
    "start_time": "2023-02-01T10:10:42.982Z"
   },
   {
    "duration": 27,
    "start_time": "2023-02-01T10:10:43.020Z"
   },
   {
    "duration": 9,
    "start_time": "2023-02-01T10:10:43.051Z"
   },
   {
    "duration": 14,
    "start_time": "2023-02-01T10:10:43.063Z"
   },
   {
    "duration": 75,
    "start_time": "2023-02-01T10:10:43.079Z"
   },
   {
    "duration": 11,
    "start_time": "2023-02-01T10:10:43.157Z"
   },
   {
    "duration": 10,
    "start_time": "2023-02-01T10:10:43.170Z"
   },
   {
    "duration": 43,
    "start_time": "2023-02-01T10:10:43.182Z"
   },
   {
    "duration": 12,
    "start_time": "2023-02-01T10:10:43.227Z"
   },
   {
    "duration": 15,
    "start_time": "2023-02-01T10:10:43.241Z"
   },
   {
    "duration": 11,
    "start_time": "2023-02-01T10:10:43.259Z"
   },
   {
    "duration": 4,
    "start_time": "2023-02-01T10:10:43.272Z"
   },
   {
    "duration": 56,
    "start_time": "2023-02-01T10:10:43.279Z"
   },
   {
    "duration": 490,
    "start_time": "2023-02-01T10:10:43.339Z"
   },
   {
    "duration": 16,
    "start_time": "2023-02-01T10:10:43.831Z"
   },
   {
    "duration": 6,
    "start_time": "2023-02-01T10:10:43.850Z"
   },
   {
    "duration": 66,
    "start_time": "2023-02-01T10:10:43.858Z"
   },
   {
    "duration": 660,
    "start_time": "2023-02-01T10:10:43.926Z"
   },
   {
    "duration": 350,
    "start_time": "2023-02-01T10:10:44.588Z"
   },
   {
    "duration": 334,
    "start_time": "2023-02-01T10:10:44.940Z"
   },
   {
    "duration": 449,
    "start_time": "2023-02-01T10:10:45.275Z"
   },
   {
    "duration": 236,
    "start_time": "2023-02-01T10:10:45.726Z"
   },
   {
    "duration": 202,
    "start_time": "2023-02-01T10:10:45.964Z"
   },
   {
    "duration": 214,
    "start_time": "2023-02-01T10:10:46.168Z"
   },
   {
    "duration": 264,
    "start_time": "2023-02-01T10:10:46.384Z"
   },
   {
    "duration": 190,
    "start_time": "2023-02-01T10:10:46.651Z"
   },
   {
    "duration": 222,
    "start_time": "2023-02-01T10:10:46.843Z"
   },
   {
    "duration": 250,
    "start_time": "2023-02-01T10:10:47.067Z"
   },
   {
    "duration": 265,
    "start_time": "2023-02-01T10:10:47.319Z"
   },
   {
    "duration": 172,
    "start_time": "2023-02-01T10:10:47.586Z"
   },
   {
    "duration": 168,
    "start_time": "2023-02-01T10:10:47.761Z"
   },
   {
    "duration": 220,
    "start_time": "2023-02-01T10:10:47.931Z"
   },
   {
    "duration": 17,
    "start_time": "2023-02-01T10:10:48.154Z"
   },
   {
    "duration": 177,
    "start_time": "2023-02-01T10:10:48.173Z"
   },
   {
    "duration": 195,
    "start_time": "2023-02-01T10:10:48.353Z"
   },
   {
    "duration": 176,
    "start_time": "2023-02-01T10:11:00.907Z"
   },
   {
    "duration": 123,
    "start_time": "2023-02-01T10:11:29.790Z"
   },
   {
    "duration": 198,
    "start_time": "2023-02-01T10:19:59.578Z"
   },
   {
    "duration": 174,
    "start_time": "2023-02-01T10:20:34.377Z"
   },
   {
    "duration": 430,
    "start_time": "2023-02-01T10:22:30.202Z"
   },
   {
    "duration": 212,
    "start_time": "2023-02-01T10:24:06.457Z"
   },
   {
    "duration": 145,
    "start_time": "2023-02-01T10:25:42.522Z"
   },
   {
    "duration": 98,
    "start_time": "2023-02-01T10:34:09.081Z"
   },
   {
    "duration": 2247,
    "start_time": "2023-02-01T10:34:41.145Z"
   },
   {
    "duration": 172,
    "start_time": "2023-02-01T10:35:02.345Z"
   },
   {
    "duration": 12,
    "start_time": "2023-02-01T10:35:11.161Z"
   },
   {
    "duration": 164,
    "start_time": "2023-02-01T10:37:40.477Z"
   },
   {
    "duration": 193,
    "start_time": "2023-02-01T10:40:08.216Z"
   },
   {
    "duration": 155,
    "start_time": "2023-02-01T10:41:25.880Z"
   },
   {
    "duration": 50,
    "start_time": "2023-02-03T08:35:20.784Z"
   },
   {
    "duration": 7,
    "start_time": "2023-02-03T08:35:24.547Z"
   },
   {
    "duration": 864,
    "start_time": "2023-02-03T08:35:29.510Z"
   },
   {
    "duration": 313,
    "start_time": "2023-02-03T08:35:30.376Z"
   },
   {
    "duration": 29,
    "start_time": "2023-02-03T08:35:30.691Z"
   },
   {
    "duration": 14,
    "start_time": "2023-02-03T08:35:30.722Z"
   },
   {
    "duration": 2053,
    "start_time": "2023-02-03T08:35:30.738Z"
   },
   {
    "duration": 10,
    "start_time": "2023-02-03T08:35:32.793Z"
   },
   {
    "duration": 23,
    "start_time": "2023-02-03T08:35:32.804Z"
   },
   {
    "duration": 30,
    "start_time": "2023-02-03T08:35:32.829Z"
   },
   {
    "duration": 32,
    "start_time": "2023-02-03T08:35:32.861Z"
   },
   {
    "duration": 29,
    "start_time": "2023-02-03T08:35:32.896Z"
   },
   {
    "duration": 14,
    "start_time": "2023-02-03T08:35:32.927Z"
   },
   {
    "duration": 35,
    "start_time": "2023-02-03T08:35:32.942Z"
   },
   {
    "duration": 13,
    "start_time": "2023-02-03T08:35:32.979Z"
   },
   {
    "duration": 30,
    "start_time": "2023-02-03T08:35:32.993Z"
   },
   {
    "duration": 40,
    "start_time": "2023-02-03T08:35:33.024Z"
   },
   {
    "duration": 22,
    "start_time": "2023-02-03T08:35:33.066Z"
   },
   {
    "duration": 30,
    "start_time": "2023-02-03T08:35:33.089Z"
   },
   {
    "duration": 16,
    "start_time": "2023-02-03T08:35:33.121Z"
   },
   {
    "duration": 33,
    "start_time": "2023-02-03T08:35:33.139Z"
   },
   {
    "duration": 22,
    "start_time": "2023-02-03T08:35:33.174Z"
   },
   {
    "duration": 28,
    "start_time": "2023-02-03T08:35:33.197Z"
   },
   {
    "duration": 14,
    "start_time": "2023-02-03T08:35:33.227Z"
   },
   {
    "duration": 53,
    "start_time": "2023-02-03T08:35:33.243Z"
   },
   {
    "duration": 16,
    "start_time": "2023-02-03T08:35:33.298Z"
   },
   {
    "duration": 81,
    "start_time": "2023-02-03T08:35:33.316Z"
   },
   {
    "duration": 9,
    "start_time": "2023-02-03T08:35:33.399Z"
   },
   {
    "duration": 18,
    "start_time": "2023-02-03T08:35:33.409Z"
   },
   {
    "duration": 34,
    "start_time": "2023-02-03T08:35:33.432Z"
   },
   {
    "duration": 24,
    "start_time": "2023-02-03T08:35:33.468Z"
   },
   {
    "duration": 25,
    "start_time": "2023-02-03T08:35:33.494Z"
   },
   {
    "duration": 43,
    "start_time": "2023-02-03T08:35:33.521Z"
   },
   {
    "duration": 18,
    "start_time": "2023-02-03T08:35:33.567Z"
   },
   {
    "duration": 45,
    "start_time": "2023-02-03T08:35:33.587Z"
   },
   {
    "duration": 12,
    "start_time": "2023-02-03T08:35:33.634Z"
   },
   {
    "duration": 34,
    "start_time": "2023-02-03T08:35:33.648Z"
   },
   {
    "duration": 12,
    "start_time": "2023-02-03T08:35:33.683Z"
   },
   {
    "duration": 50,
    "start_time": "2023-02-03T08:35:33.697Z"
   },
   {
    "duration": 43,
    "start_time": "2023-02-03T08:35:33.748Z"
   },
   {
    "duration": 9,
    "start_time": "2023-02-03T08:35:33.793Z"
   },
   {
    "duration": 41,
    "start_time": "2023-02-03T08:35:33.804Z"
   },
   {
    "duration": 20,
    "start_time": "2023-02-03T08:35:33.847Z"
   },
   {
    "duration": 37,
    "start_time": "2023-02-03T08:35:33.868Z"
   },
   {
    "duration": 47,
    "start_time": "2023-02-03T08:35:33.907Z"
   },
   {
    "duration": 26,
    "start_time": "2023-02-03T08:35:33.955Z"
   },
   {
    "duration": 20,
    "start_time": "2023-02-03T08:35:33.983Z"
   },
   {
    "duration": 29,
    "start_time": "2023-02-03T08:35:34.005Z"
   },
   {
    "duration": 18,
    "start_time": "2023-02-03T08:35:34.036Z"
   },
   {
    "duration": 18,
    "start_time": "2023-02-03T08:35:34.056Z"
   },
   {
    "duration": 39,
    "start_time": "2023-02-03T08:35:34.076Z"
   },
   {
    "duration": 20,
    "start_time": "2023-02-03T08:35:34.117Z"
   },
   {
    "duration": 39,
    "start_time": "2023-02-03T08:35:34.139Z"
   },
   {
    "duration": 361,
    "start_time": "2023-02-03T08:35:34.180Z"
   },
   {
    "duration": 11,
    "start_time": "2023-02-03T08:35:34.543Z"
   },
   {
    "duration": 25,
    "start_time": "2023-02-03T08:35:34.556Z"
   },
   {
    "duration": 45,
    "start_time": "2023-02-03T08:35:34.583Z"
   },
   {
    "duration": 528,
    "start_time": "2023-02-03T08:35:34.630Z"
   },
   {
    "duration": 246,
    "start_time": "2023-02-03T08:35:35.159Z"
   },
   {
    "duration": 266,
    "start_time": "2023-02-03T08:35:35.407Z"
   },
   {
    "duration": 149,
    "start_time": "2023-02-03T08:35:35.675Z"
   },
   {
    "duration": 267,
    "start_time": "2023-02-03T08:35:35.826Z"
   },
   {
    "duration": 199,
    "start_time": "2023-02-03T08:35:36.095Z"
   },
   {
    "duration": 169,
    "start_time": "2023-02-03T08:35:36.296Z"
   },
   {
    "duration": 142,
    "start_time": "2023-02-03T08:35:36.467Z"
   },
   {
    "duration": 293,
    "start_time": "2023-02-03T08:35:36.611Z"
   },
   {
    "duration": 169,
    "start_time": "2023-02-03T08:35:36.906Z"
   },
   {
    "duration": 11,
    "start_time": "2023-02-03T08:35:37.077Z"
   },
   {
    "duration": 169,
    "start_time": "2023-02-03T08:35:37.090Z"
   },
   {
    "duration": 177,
    "start_time": "2023-02-03T08:35:37.261Z"
   },
   {
    "duration": 168,
    "start_time": "2023-02-03T08:35:37.440Z"
   },
   {
    "duration": 153,
    "start_time": "2023-02-03T08:35:37.610Z"
   },
   {
    "duration": 146,
    "start_time": "2023-02-03T08:35:37.764Z"
   },
   {
    "duration": 9,
    "start_time": "2023-02-03T08:35:37.911Z"
   },
   {
    "duration": 148,
    "start_time": "2023-02-03T08:35:37.921Z"
   },
   {
    "duration": 119,
    "start_time": "2023-02-03T08:35:38.071Z"
   },
   {
    "duration": 245,
    "start_time": "2023-02-03T08:35:38.192Z"
   },
   {
    "duration": 200,
    "start_time": "2023-02-03T08:35:53.501Z"
   },
   {
    "duration": 5,
    "start_time": "2023-02-03T08:36:20.718Z"
   },
   {
    "duration": 197,
    "start_time": "2023-02-03T08:38:01.224Z"
   },
   {
    "duration": 7,
    "start_time": "2023-02-03T08:38:27.036Z"
   },
   {
    "duration": 191,
    "start_time": "2023-02-03T08:39:28.014Z"
   },
   {
    "duration": 6,
    "start_time": "2023-02-03T08:39:43.534Z"
   },
   {
    "duration": 196,
    "start_time": "2023-02-03T11:14:06.327Z"
   },
   {
    "duration": 1265,
    "start_time": "2023-02-03T11:14:35.503Z"
   },
   {
    "duration": 6,
    "start_time": "2023-02-03T11:14:40.624Z"
   },
   {
    "duration": 16,
    "start_time": "2023-02-03T11:18:35.835Z"
   },
   {
    "duration": 184,
    "start_time": "2023-02-03T11:19:10.212Z"
   },
   {
    "duration": 11,
    "start_time": "2023-02-03T11:22:19.777Z"
   },
   {
    "duration": 1279,
    "start_time": "2023-02-03T11:22:40.488Z"
   },
   {
    "duration": 155,
    "start_time": "2023-02-03T11:22:47.251Z"
   },
   {
    "duration": 15,
    "start_time": "2023-02-03T11:23:03.854Z"
   },
   {
    "duration": 11,
    "start_time": "2023-02-03T11:23:09.243Z"
   },
   {
    "duration": 10,
    "start_time": "2023-02-03T11:26:02.783Z"
   },
   {
    "duration": 244,
    "start_time": "2023-02-03T11:26:39.910Z"
   },
   {
    "duration": 17,
    "start_time": "2023-02-03T11:27:18.154Z"
   },
   {
    "duration": 126,
    "start_time": "2023-02-03T11:28:05.016Z"
   },
   {
    "duration": 120,
    "start_time": "2023-02-03T11:28:30.591Z"
   },
   {
    "duration": 10,
    "start_time": "2023-02-03T11:29:13.600Z"
   },
   {
    "duration": 159,
    "start_time": "2023-02-03T11:29:14.200Z"
   },
   {
    "duration": 160,
    "start_time": "2023-02-03T11:29:15.428Z"
   },
   {
    "duration": 145,
    "start_time": "2023-02-03T11:29:40.544Z"
   },
   {
    "duration": 20,
    "start_time": "2023-02-03T11:29:44.408Z"
   },
   {
    "duration": 145,
    "start_time": "2023-02-03T11:29:45.170Z"
   },
   {
    "duration": 10,
    "start_time": "2023-02-03T11:31:20.230Z"
   },
   {
    "duration": 20,
    "start_time": "2023-02-03T11:31:27.319Z"
   },
   {
    "duration": 1379,
    "start_time": "2023-02-03T11:31:57.802Z"
   },
   {
    "duration": 1219,
    "start_time": "2023-02-03T11:32:13.530Z"
   },
   {
    "duration": 15,
    "start_time": "2023-02-03T11:32:15.407Z"
   },
   {
    "duration": 1230,
    "start_time": "2023-02-03T11:32:15.993Z"
   },
   {
    "duration": 148,
    "start_time": "2023-02-03T11:32:23.080Z"
   },
   {
    "duration": 11,
    "start_time": "2023-02-03T11:36:56.817Z"
   },
   {
    "duration": 25,
    "start_time": "2023-02-03T11:37:58.771Z"
   },
   {
    "duration": 30,
    "start_time": "2023-02-03T11:38:03.416Z"
   },
   {
    "duration": 8,
    "start_time": "2023-02-03T11:39:37.884Z"
   },
   {
    "duration": 8,
    "start_time": "2023-02-03T11:39:42.507Z"
   },
   {
    "duration": 3,
    "start_time": "2023-02-03T11:39:55.965Z"
   },
   {
    "duration": 13,
    "start_time": "2023-02-03T11:40:06.048Z"
   },
   {
    "duration": 12,
    "start_time": "2023-02-03T11:41:10.287Z"
   },
   {
    "duration": 13,
    "start_time": "2023-02-03T11:41:27.342Z"
   },
   {
    "duration": 12,
    "start_time": "2023-02-03T11:42:09.948Z"
   },
   {
    "duration": 11,
    "start_time": "2023-02-03T11:42:46.086Z"
   },
   {
    "duration": 4,
    "start_time": "2023-02-03T11:45:01.173Z"
   },
   {
    "duration": 4,
    "start_time": "2023-02-03T11:45:42.889Z"
   },
   {
    "duration": 11,
    "start_time": "2023-02-03T11:45:50.519Z"
   },
   {
    "duration": 5,
    "start_time": "2023-02-03T11:47:45.292Z"
   },
   {
    "duration": 10,
    "start_time": "2023-02-03T11:47:51.178Z"
   },
   {
    "duration": 11,
    "start_time": "2023-02-03T11:47:54.674Z"
   },
   {
    "duration": 4,
    "start_time": "2023-02-03T11:54:11.921Z"
   },
   {
    "duration": 33,
    "start_time": "2023-02-03T11:54:14.723Z"
   },
   {
    "duration": 34,
    "start_time": "2023-02-03T11:54:43.431Z"
   },
   {
    "duration": 19,
    "start_time": "2023-02-03T11:55:03.896Z"
   },
   {
    "duration": 21,
    "start_time": "2023-02-03T11:55:17.077Z"
   },
   {
    "duration": 24,
    "start_time": "2023-02-03T11:55:58.248Z"
   },
   {
    "duration": 5,
    "start_time": "2023-02-03T11:57:48.651Z"
   },
   {
    "duration": 44,
    "start_time": "2023-02-03T11:57:49.764Z"
   },
   {
    "duration": 641,
    "start_time": "2023-02-03T11:57:57.584Z"
   },
   {
    "duration": 94,
    "start_time": "2023-02-03T11:57:58.237Z"
   },
   {
    "duration": 29,
    "start_time": "2023-02-03T11:57:58.333Z"
   },
   {
    "duration": 21,
    "start_time": "2023-02-03T11:57:58.364Z"
   },
   {
    "duration": 2304,
    "start_time": "2023-02-03T11:57:58.387Z"
   },
   {
    "duration": 44,
    "start_time": "2023-02-03T11:58:00.693Z"
   },
   {
    "duration": 8,
    "start_time": "2023-02-03T11:58:00.739Z"
   },
   {
    "duration": 71,
    "start_time": "2023-02-03T11:58:00.748Z"
   },
   {
    "duration": 62,
    "start_time": "2023-02-03T11:58:00.821Z"
   },
   {
    "duration": 62,
    "start_time": "2023-02-03T11:58:00.888Z"
   },
   {
    "duration": 23,
    "start_time": "2023-02-03T11:58:00.953Z"
   },
   {
    "duration": 45,
    "start_time": "2023-02-03T11:58:00.978Z"
   },
   {
    "duration": 51,
    "start_time": "2023-02-03T11:58:01.025Z"
   },
   {
    "duration": 77,
    "start_time": "2023-02-03T11:58:01.078Z"
   },
   {
    "duration": 54,
    "start_time": "2023-02-03T11:58:01.157Z"
   },
   {
    "duration": 22,
    "start_time": "2023-02-03T11:58:01.213Z"
   },
   {
    "duration": 39,
    "start_time": "2023-02-03T11:58:01.237Z"
   },
   {
    "duration": 25,
    "start_time": "2023-02-03T11:58:01.278Z"
   },
   {
    "duration": 40,
    "start_time": "2023-02-03T11:58:01.305Z"
   },
   {
    "duration": 25,
    "start_time": "2023-02-03T11:58:01.347Z"
   },
   {
    "duration": 34,
    "start_time": "2023-02-03T11:58:01.374Z"
   },
   {
    "duration": 38,
    "start_time": "2023-02-03T11:58:01.409Z"
   },
   {
    "duration": 52,
    "start_time": "2023-02-03T11:58:01.449Z"
   },
   {
    "duration": 15,
    "start_time": "2023-02-03T11:58:01.503Z"
   },
   {
    "duration": 99,
    "start_time": "2023-02-03T11:58:01.520Z"
   },
   {
    "duration": 10,
    "start_time": "2023-02-03T11:58:01.621Z"
   },
   {
    "duration": 28,
    "start_time": "2023-02-03T11:58:01.633Z"
   },
   {
    "duration": 25,
    "start_time": "2023-02-03T11:58:01.666Z"
   },
   {
    "duration": 37,
    "start_time": "2023-02-03T11:58:01.693Z"
   },
   {
    "duration": 42,
    "start_time": "2023-02-03T11:58:01.733Z"
   },
   {
    "duration": 51,
    "start_time": "2023-02-03T11:58:01.777Z"
   },
   {
    "duration": 27,
    "start_time": "2023-02-03T11:58:01.830Z"
   },
   {
    "duration": 52,
    "start_time": "2023-02-03T11:58:01.859Z"
   },
   {
    "duration": 9,
    "start_time": "2023-02-03T11:58:01.912Z"
   },
   {
    "duration": 52,
    "start_time": "2023-02-03T11:58:01.922Z"
   },
   {
    "duration": 23,
    "start_time": "2023-02-03T11:58:01.975Z"
   },
   {
    "duration": 36,
    "start_time": "2023-02-03T11:58:01.999Z"
   },
   {
    "duration": 37,
    "start_time": "2023-02-03T11:58:02.037Z"
   },
   {
    "duration": 8,
    "start_time": "2023-02-03T11:58:02.076Z"
   },
   {
    "duration": 39,
    "start_time": "2023-02-03T11:58:02.086Z"
   },
   {
    "duration": 11,
    "start_time": "2023-02-03T11:58:02.137Z"
   },
   {
    "duration": 31,
    "start_time": "2023-02-03T11:58:02.150Z"
   },
   {
    "duration": 51,
    "start_time": "2023-02-03T11:58:02.183Z"
   },
   {
    "duration": 23,
    "start_time": "2023-02-03T11:58:02.235Z"
   },
   {
    "duration": 26,
    "start_time": "2023-02-03T11:58:02.260Z"
   },
   {
    "duration": 24,
    "start_time": "2023-02-03T11:58:02.288Z"
   },
   {
    "duration": 24,
    "start_time": "2023-02-03T11:58:02.313Z"
   },
   {
    "duration": 17,
    "start_time": "2023-02-03T11:58:02.338Z"
   },
   {
    "duration": 18,
    "start_time": "2023-02-03T11:58:02.356Z"
   },
   {
    "duration": 10,
    "start_time": "2023-02-03T11:58:02.376Z"
   },
   {
    "duration": 26,
    "start_time": "2023-02-03T11:58:02.387Z"
   },
   {
    "duration": 349,
    "start_time": "2023-02-03T11:58:02.415Z"
   },
   {
    "duration": 11,
    "start_time": "2023-02-03T11:58:02.766Z"
   },
   {
    "duration": 15,
    "start_time": "2023-02-03T11:58:02.779Z"
   },
   {
    "duration": 61,
    "start_time": "2023-02-03T11:58:02.795Z"
   },
   {
    "duration": 548,
    "start_time": "2023-02-03T11:58:02.857Z"
   },
   {
    "duration": 242,
    "start_time": "2023-02-03T11:58:03.407Z"
   },
   {
    "duration": 297,
    "start_time": "2023-02-03T11:58:03.651Z"
   },
   {
    "duration": 160,
    "start_time": "2023-02-03T11:58:03.950Z"
   },
   {
    "duration": 289,
    "start_time": "2023-02-03T11:58:04.112Z"
   },
   {
    "duration": 221,
    "start_time": "2023-02-03T11:58:04.403Z"
   },
   {
    "duration": 177,
    "start_time": "2023-02-03T11:58:04.626Z"
   },
   {
    "duration": 141,
    "start_time": "2023-02-03T11:58:04.805Z"
   },
   {
    "duration": 313,
    "start_time": "2023-02-03T11:58:04.947Z"
   },
   {
    "duration": 188,
    "start_time": "2023-02-03T11:58:05.262Z"
   },
   {
    "duration": 12,
    "start_time": "2023-02-03T11:58:05.451Z"
   },
   {
    "duration": 190,
    "start_time": "2023-02-03T11:58:05.464Z"
   },
   {
    "duration": 200,
    "start_time": "2023-02-03T11:58:05.656Z"
   },
   {
    "duration": 202,
    "start_time": "2023-02-03T11:58:05.858Z"
   },
   {
    "duration": 184,
    "start_time": "2023-02-03T11:58:06.062Z"
   },
   {
    "duration": 164,
    "start_time": "2023-02-03T11:58:06.248Z"
   },
   {
    "duration": 23,
    "start_time": "2023-02-03T11:58:06.415Z"
   },
   {
    "duration": 145,
    "start_time": "2023-02-03T11:58:06.439Z"
   },
   {
    "duration": 119,
    "start_time": "2023-02-03T11:58:06.586Z"
   },
   {
    "duration": 213,
    "start_time": "2023-02-03T11:58:06.707Z"
   },
   {
    "duration": 18,
    "start_time": "2023-02-03T11:58:06.922Z"
   },
   {
    "duration": 216,
    "start_time": "2023-02-03T11:58:06.941Z"
   },
   {
    "duration": 6,
    "start_time": "2023-02-03T11:58:07.159Z"
   },
   {
    "duration": 228,
    "start_time": "2023-02-03T11:58:07.166Z"
   },
   {
    "duration": 6,
    "start_time": "2023-02-03T11:58:07.396Z"
   },
   {
    "duration": 234,
    "start_time": "2023-02-03T11:58:07.403Z"
   },
   {
    "duration": 6,
    "start_time": "2023-02-03T11:58:07.643Z"
   },
   {
    "duration": 21,
    "start_time": "2023-02-03T11:58:07.650Z"
   },
   {
    "duration": 206,
    "start_time": "2023-02-03T11:58:07.673Z"
   },
   {
    "duration": 10,
    "start_time": "2023-02-03T11:58:07.882Z"
   },
   {
    "duration": 177,
    "start_time": "2023-02-03T11:58:07.894Z"
   },
   {
    "duration": 17,
    "start_time": "2023-02-03T11:58:08.072Z"
   },
   {
    "duration": 325,
    "start_time": "2023-02-03T11:58:08.091Z"
   },
   {
    "duration": 30,
    "start_time": "2023-02-03T11:58:08.418Z"
   },
   {
    "duration": 204,
    "start_time": "2023-02-03T11:58:08.451Z"
   },
   {
    "duration": 38,
    "start_time": "2023-02-03T11:58:08.658Z"
   },
   {
    "duration": 15,
    "start_time": "2023-02-03T11:58:08.699Z"
   },
   {
    "duration": 22,
    "start_time": "2023-02-03T11:58:08.738Z"
   },
   {
    "duration": 38,
    "start_time": "2023-02-03T11:58:08.762Z"
   },
   {
    "duration": 19,
    "start_time": "2023-02-03T11:58:08.802Z"
   },
   {
    "duration": 55,
    "start_time": "2023-02-03T11:58:08.823Z"
   },
   {
    "duration": 158,
    "start_time": "2023-02-03T11:59:09.818Z"
   },
   {
    "duration": 76,
    "start_time": "2023-02-03T11:59:45.662Z"
   },
   {
    "duration": 14,
    "start_time": "2023-02-03T12:00:08.253Z"
   },
   {
    "duration": 7,
    "start_time": "2023-02-03T12:00:47.565Z"
   },
   {
    "duration": 1125,
    "start_time": "2023-02-03T12:29:37.666Z"
   },
   {
    "duration": 590,
    "start_time": "2023-02-03T12:29:38.794Z"
   },
   {
    "duration": 48,
    "start_time": "2023-02-03T12:29:39.402Z"
   },
   {
    "duration": 26,
    "start_time": "2023-02-03T12:29:39.458Z"
   },
   {
    "duration": 2789,
    "start_time": "2023-02-03T12:29:39.490Z"
   },
   {
    "duration": 14,
    "start_time": "2023-02-03T12:29:42.281Z"
   },
   {
    "duration": 7,
    "start_time": "2023-02-03T12:29:42.297Z"
   },
   {
    "duration": 10,
    "start_time": "2023-02-03T12:29:42.306Z"
   },
   {
    "duration": 90,
    "start_time": "2023-02-03T12:29:42.318Z"
   },
   {
    "duration": 21,
    "start_time": "2023-02-03T12:29:42.410Z"
   },
   {
    "duration": 42,
    "start_time": "2023-02-03T12:29:42.433Z"
   },
   {
    "duration": 29,
    "start_time": "2023-02-03T12:29:42.479Z"
   },
   {
    "duration": 7,
    "start_time": "2023-02-03T12:29:42.509Z"
   },
   {
    "duration": 23,
    "start_time": "2023-02-03T12:29:42.522Z"
   },
   {
    "duration": 87,
    "start_time": "2023-02-03T12:29:42.547Z"
   },
   {
    "duration": 24,
    "start_time": "2023-02-03T12:29:42.638Z"
   },
   {
    "duration": 46,
    "start_time": "2023-02-03T12:29:42.668Z"
   },
   {
    "duration": 7,
    "start_time": "2023-02-03T12:29:42.716Z"
   },
   {
    "duration": 64,
    "start_time": "2023-02-03T12:29:42.725Z"
   },
   {
    "duration": 17,
    "start_time": "2023-02-03T12:29:42.793Z"
   },
   {
    "duration": 13,
    "start_time": "2023-02-03T12:29:42.812Z"
   },
   {
    "duration": 7,
    "start_time": "2023-02-03T12:29:42.828Z"
   },
   {
    "duration": 103,
    "start_time": "2023-02-03T12:29:42.837Z"
   },
   {
    "duration": 20,
    "start_time": "2023-02-03T12:29:42.951Z"
   },
   {
    "duration": 133,
    "start_time": "2023-02-03T12:29:42.973Z"
   },
   {
    "duration": 9,
    "start_time": "2023-02-03T12:29:43.108Z"
   },
   {
    "duration": 14,
    "start_time": "2023-02-03T12:29:43.130Z"
   },
   {
    "duration": 59,
    "start_time": "2023-02-03T12:29:43.145Z"
   },
   {
    "duration": 27,
    "start_time": "2023-02-03T12:29:43.207Z"
   },
   {
    "duration": 20,
    "start_time": "2023-02-03T12:29:43.240Z"
   },
   {
    "duration": 72,
    "start_time": "2023-02-03T12:29:43.261Z"
   },
   {
    "duration": 9,
    "start_time": "2023-02-03T12:29:43.348Z"
   },
   {
    "duration": 96,
    "start_time": "2023-02-03T12:29:43.361Z"
   },
   {
    "duration": 17,
    "start_time": "2023-02-03T12:29:43.462Z"
   },
   {
    "duration": 60,
    "start_time": "2023-02-03T12:29:43.484Z"
   },
   {
    "duration": 20,
    "start_time": "2023-02-03T12:29:43.555Z"
   },
   {
    "duration": 70,
    "start_time": "2023-02-03T12:29:43.581Z"
   },
   {
    "duration": 69,
    "start_time": "2023-02-03T12:29:43.657Z"
   },
   {
    "duration": 32,
    "start_time": "2023-02-03T12:29:43.728Z"
   },
   {
    "duration": 72,
    "start_time": "2023-02-03T12:29:43.769Z"
   },
   {
    "duration": 28,
    "start_time": "2023-02-03T12:29:43.862Z"
   },
   {
    "duration": 17,
    "start_time": "2023-02-03T12:29:43.907Z"
   },
   {
    "duration": 54,
    "start_time": "2023-02-03T12:29:43.925Z"
   },
   {
    "duration": 42,
    "start_time": "2023-02-03T12:29:43.983Z"
   },
   {
    "duration": 37,
    "start_time": "2023-02-03T12:29:44.027Z"
   },
   {
    "duration": 52,
    "start_time": "2023-02-03T12:29:44.068Z"
   },
   {
    "duration": 42,
    "start_time": "2023-02-03T12:29:44.122Z"
   },
   {
    "duration": 32,
    "start_time": "2023-02-03T12:29:44.172Z"
   },
   {
    "duration": 21,
    "start_time": "2023-02-03T12:29:44.206Z"
   },
   {
    "duration": 30,
    "start_time": "2023-02-03T12:29:44.235Z"
   },
   {
    "duration": 26,
    "start_time": "2023-02-03T12:29:44.272Z"
   },
   {
    "duration": 445,
    "start_time": "2023-02-03T12:29:44.302Z"
   },
   {
    "duration": 15,
    "start_time": "2023-02-03T12:29:44.749Z"
   },
   {
    "duration": 43,
    "start_time": "2023-02-03T12:29:44.765Z"
   },
   {
    "duration": 65,
    "start_time": "2023-02-03T12:29:44.810Z"
   },
   {
    "duration": 797,
    "start_time": "2023-02-03T12:29:44.877Z"
   },
   {
    "duration": 268,
    "start_time": "2023-02-03T12:29:45.680Z"
   },
   {
    "duration": 396,
    "start_time": "2023-02-03T12:29:45.949Z"
   },
   {
    "duration": 222,
    "start_time": "2023-02-03T12:29:46.348Z"
   },
   {
    "duration": 334,
    "start_time": "2023-02-03T12:29:46.572Z"
   },
   {
    "duration": 294,
    "start_time": "2023-02-03T12:29:46.908Z"
   },
   {
    "duration": 194,
    "start_time": "2023-02-03T12:29:47.203Z"
   },
   {
    "duration": 216,
    "start_time": "2023-02-03T12:29:47.400Z"
   },
   {
    "duration": 365,
    "start_time": "2023-02-03T12:29:47.618Z"
   },
   {
    "duration": 219,
    "start_time": "2023-02-03T12:29:47.994Z"
   },
   {
    "duration": 33,
    "start_time": "2023-02-03T12:29:48.216Z"
   },
   {
    "duration": 223,
    "start_time": "2023-02-03T12:29:48.256Z"
   },
   {
    "duration": 204,
    "start_time": "2023-02-03T12:29:48.480Z"
   },
   {
    "duration": 213,
    "start_time": "2023-02-03T12:29:48.689Z"
   },
   {
    "duration": 179,
    "start_time": "2023-02-03T12:29:48.906Z"
   },
   {
    "duration": 174,
    "start_time": "2023-02-03T12:29:49.087Z"
   },
   {
    "duration": 9,
    "start_time": "2023-02-03T12:29:49.263Z"
   },
   {
    "duration": 144,
    "start_time": "2023-02-03T12:29:49.274Z"
   },
   {
    "duration": 137,
    "start_time": "2023-02-03T12:29:49.420Z"
   },
   {
    "duration": 217,
    "start_time": "2023-02-03T12:29:49.558Z"
   },
   {
    "duration": 17,
    "start_time": "2023-02-03T12:29:49.777Z"
   },
   {
    "duration": 211,
    "start_time": "2023-02-03T12:29:49.796Z"
   },
   {
    "duration": 6,
    "start_time": "2023-02-03T12:29:50.008Z"
   },
   {
    "duration": 227,
    "start_time": "2023-02-03T12:29:50.016Z"
   },
   {
    "duration": 6,
    "start_time": "2023-02-03T12:29:50.259Z"
   },
   {
    "duration": 257,
    "start_time": "2023-02-03T12:29:50.267Z"
   },
   {
    "duration": 16,
    "start_time": "2023-02-03T12:29:50.526Z"
   },
   {
    "duration": 74,
    "start_time": "2023-02-03T12:29:50.544Z"
   },
   {
    "duration": 214,
    "start_time": "2023-02-03T12:29:50.620Z"
   },
   {
    "duration": 11,
    "start_time": "2023-02-03T12:29:50.835Z"
   },
   {
    "duration": 232,
    "start_time": "2023-02-03T12:29:50.847Z"
   },
   {
    "duration": 19,
    "start_time": "2023-02-03T12:29:51.086Z"
   },
   {
    "duration": 337,
    "start_time": "2023-02-03T12:29:51.107Z"
   },
   {
    "duration": 22,
    "start_time": "2023-02-03T12:29:51.447Z"
   },
   {
    "duration": 223,
    "start_time": "2023-02-03T12:29:51.470Z"
   },
   {
    "duration": 28,
    "start_time": "2023-02-03T12:29:51.696Z"
   },
   {
    "duration": 11,
    "start_time": "2023-02-03T12:29:51.728Z"
   },
   {
    "duration": 49,
    "start_time": "2023-02-03T12:29:51.741Z"
   },
   {
    "duration": 14,
    "start_time": "2023-02-03T12:29:51.792Z"
   },
   {
    "duration": 11,
    "start_time": "2023-02-03T12:29:51.808Z"
   },
   {
    "duration": 44,
    "start_time": "2023-02-03T12:29:51.821Z"
   },
   {
    "duration": 184,
    "start_time": "2023-02-03T12:29:51.866Z"
   },
   {
    "duration": 6,
    "start_time": "2023-02-03T12:29:52.051Z"
   },
   {
    "duration": 620,
    "start_time": "2023-02-03T19:38:51.657Z"
   },
   {
    "duration": 85,
    "start_time": "2023-02-03T19:38:52.279Z"
   },
   {
    "duration": 28,
    "start_time": "2023-02-03T19:38:52.366Z"
   },
   {
    "duration": 14,
    "start_time": "2023-02-03T19:38:52.396Z"
   },
   {
    "duration": 1938,
    "start_time": "2023-02-03T19:38:52.411Z"
   },
   {
    "duration": 8,
    "start_time": "2023-02-03T19:38:54.351Z"
   },
   {
    "duration": 11,
    "start_time": "2023-02-03T19:38:54.361Z"
   },
   {
    "duration": 19,
    "start_time": "2023-02-03T19:38:54.373Z"
   },
   {
    "duration": 5,
    "start_time": "2023-02-03T19:38:54.394Z"
   },
   {
    "duration": 24,
    "start_time": "2023-02-03T19:38:54.401Z"
   },
   {
    "duration": 8,
    "start_time": "2023-02-03T19:38:54.426Z"
   },
   {
    "duration": 29,
    "start_time": "2023-02-03T19:38:54.436Z"
   },
   {
    "duration": 6,
    "start_time": "2023-02-03T19:38:54.466Z"
   },
   {
    "duration": 29,
    "start_time": "2023-02-03T19:38:54.473Z"
   },
   {
    "duration": 27,
    "start_time": "2023-02-03T19:38:54.503Z"
   },
   {
    "duration": 5,
    "start_time": "2023-02-03T19:38:54.532Z"
   },
   {
    "duration": 9,
    "start_time": "2023-02-03T19:38:54.538Z"
   },
   {
    "duration": 6,
    "start_time": "2023-02-03T19:38:54.548Z"
   },
   {
    "duration": 10,
    "start_time": "2023-02-03T19:38:54.555Z"
   },
   {
    "duration": 22,
    "start_time": "2023-02-03T19:38:54.566Z"
   },
   {
    "duration": 17,
    "start_time": "2023-02-03T19:38:54.589Z"
   },
   {
    "duration": 5,
    "start_time": "2023-02-03T19:38:54.607Z"
   },
   {
    "duration": 31,
    "start_time": "2023-02-03T19:38:54.613Z"
   },
   {
    "duration": 8,
    "start_time": "2023-02-03T19:38:54.646Z"
   },
   {
    "duration": 78,
    "start_time": "2023-02-03T19:38:54.655Z"
   },
   {
    "duration": 7,
    "start_time": "2023-02-03T19:38:54.735Z"
   },
   {
    "duration": 13,
    "start_time": "2023-02-03T19:38:54.744Z"
   },
   {
    "duration": 8,
    "start_time": "2023-02-03T19:38:54.761Z"
   },
   {
    "duration": 25,
    "start_time": "2023-02-03T19:38:54.770Z"
   },
   {
    "duration": 13,
    "start_time": "2023-02-03T19:38:54.797Z"
   },
   {
    "duration": 24,
    "start_time": "2023-02-03T19:38:54.811Z"
   },
   {
    "duration": 5,
    "start_time": "2023-02-03T19:38:54.837Z"
   },
   {
    "duration": 48,
    "start_time": "2023-02-03T19:38:54.844Z"
   },
   {
    "duration": 10,
    "start_time": "2023-02-03T19:38:54.893Z"
   },
   {
    "duration": 30,
    "start_time": "2023-02-03T19:38:54.906Z"
   },
   {
    "duration": 7,
    "start_time": "2023-02-03T19:38:54.938Z"
   },
   {
    "duration": 24,
    "start_time": "2023-02-03T19:38:54.947Z"
   },
   {
    "duration": 54,
    "start_time": "2023-02-03T19:38:54.972Z"
   },
   {
    "duration": 8,
    "start_time": "2023-02-03T19:38:55.027Z"
   },
   {
    "duration": 24,
    "start_time": "2023-02-03T19:38:55.037Z"
   },
   {
    "duration": 30,
    "start_time": "2023-02-03T19:38:55.062Z"
   },
   {
    "duration": 13,
    "start_time": "2023-02-03T19:38:55.093Z"
   },
   {
    "duration": 31,
    "start_time": "2023-02-03T19:38:55.108Z"
   },
   {
    "duration": 9,
    "start_time": "2023-02-03T19:38:55.141Z"
   },
   {
    "duration": 8,
    "start_time": "2023-02-03T19:38:55.151Z"
   },
   {
    "duration": 32,
    "start_time": "2023-02-03T19:38:55.161Z"
   },
   {
    "duration": 10,
    "start_time": "2023-02-03T19:38:55.195Z"
   },
   {
    "duration": 10,
    "start_time": "2023-02-03T19:38:55.207Z"
   },
   {
    "duration": 22,
    "start_time": "2023-02-03T19:38:55.218Z"
   },
   {
    "duration": 4,
    "start_time": "2023-02-03T19:38:55.241Z"
   },
   {
    "duration": 15,
    "start_time": "2023-02-03T19:38:55.247Z"
   },
   {
    "duration": 336,
    "start_time": "2023-02-03T19:38:55.263Z"
   },
   {
    "duration": 10,
    "start_time": "2023-02-03T19:38:55.601Z"
   },
   {
    "duration": 10,
    "start_time": "2023-02-03T19:38:55.613Z"
   },
   {
    "duration": 39,
    "start_time": "2023-02-03T19:38:55.625Z"
   },
   {
    "duration": 576,
    "start_time": "2023-02-03T19:38:55.666Z"
   },
   {
    "duration": 241,
    "start_time": "2023-02-03T19:38:56.244Z"
   },
   {
    "duration": 260,
    "start_time": "2023-02-03T19:38:56.487Z"
   },
   {
    "duration": 135,
    "start_time": "2023-02-03T19:38:56.748Z"
   },
   {
    "duration": 261,
    "start_time": "2023-02-03T19:38:56.885Z"
   },
   {
    "duration": 205,
    "start_time": "2023-02-03T19:38:57.147Z"
   },
   {
    "duration": 154,
    "start_time": "2023-02-03T19:38:57.354Z"
   },
   {
    "duration": 126,
    "start_time": "2023-02-03T19:38:57.510Z"
   },
   {
    "duration": 242,
    "start_time": "2023-02-03T19:38:57.638Z"
   },
   {
    "duration": 160,
    "start_time": "2023-02-03T19:38:57.882Z"
   },
   {
    "duration": 11,
    "start_time": "2023-02-03T19:38:58.044Z"
   },
   {
    "duration": 171,
    "start_time": "2023-02-03T19:38:58.057Z"
   },
   {
    "duration": 166,
    "start_time": "2023-02-03T19:38:58.230Z"
   },
   {
    "duration": 174,
    "start_time": "2023-02-03T19:38:58.398Z"
   },
   {
    "duration": 150,
    "start_time": "2023-02-03T19:38:58.574Z"
   },
   {
    "duration": 162,
    "start_time": "2023-02-03T19:38:58.725Z"
   },
   {
    "duration": 10,
    "start_time": "2023-02-03T19:38:58.889Z"
   },
   {
    "duration": 132,
    "start_time": "2023-02-03T19:38:58.900Z"
   },
   {
    "duration": 115,
    "start_time": "2023-02-03T19:38:59.033Z"
   },
   {
    "duration": 207,
    "start_time": "2023-02-03T19:38:59.150Z"
   },
   {
    "duration": 6,
    "start_time": "2023-02-03T19:38:59.359Z"
   },
   {
    "duration": 206,
    "start_time": "2023-02-03T19:38:59.366Z"
   },
   {
    "duration": 6,
    "start_time": "2023-02-03T19:38:59.574Z"
   },
   {
    "duration": 192,
    "start_time": "2023-02-03T19:38:59.592Z"
   },
   {
    "duration": 9,
    "start_time": "2023-02-03T19:38:59.786Z"
   },
   {
    "duration": 202,
    "start_time": "2023-02-03T19:38:59.797Z"
   },
   {
    "duration": 6,
    "start_time": "2023-02-03T19:39:00.006Z"
   },
   {
    "duration": 29,
    "start_time": "2023-02-03T19:39:00.014Z"
   },
   {
    "duration": 189,
    "start_time": "2023-02-03T19:39:00.045Z"
   },
   {
    "duration": 10,
    "start_time": "2023-02-03T19:39:00.236Z"
   },
   {
    "duration": 161,
    "start_time": "2023-02-03T19:39:00.247Z"
   },
   {
    "duration": 14,
    "start_time": "2023-02-03T19:39:00.409Z"
   },
   {
    "duration": 270,
    "start_time": "2023-02-03T19:39:00.425Z"
   },
   {
    "duration": 14,
    "start_time": "2023-02-03T19:39:00.697Z"
   },
   {
    "duration": 165,
    "start_time": "2023-02-03T19:39:00.713Z"
   },
   {
    "duration": 34,
    "start_time": "2023-02-03T19:39:00.880Z"
   },
   {
    "duration": 12,
    "start_time": "2023-02-03T19:39:00.916Z"
   },
   {
    "duration": 36,
    "start_time": "2023-02-03T19:39:00.930Z"
   },
   {
    "duration": 21,
    "start_time": "2023-02-03T19:39:00.968Z"
   },
   {
    "duration": 42,
    "start_time": "2023-02-03T19:39:00.991Z"
   },
   {
    "duration": 58,
    "start_time": "2023-02-03T19:39:01.035Z"
   },
   {
    "duration": 151,
    "start_time": "2023-02-03T19:39:01.095Z"
   },
   {
    "duration": 5,
    "start_time": "2023-02-03T19:39:01.248Z"
   },
   {
    "duration": 7,
    "start_time": "2023-02-03T19:40:55.875Z"
   },
   {
    "duration": 14,
    "start_time": "2023-02-03T19:41:46.227Z"
   },
   {
    "duration": 83,
    "start_time": "2023-02-03T19:41:49.490Z"
   },
   {
    "duration": 6,
    "start_time": "2023-02-03T19:42:06.525Z"
   },
   {
    "duration": 47,
    "start_time": "2023-02-04T10:31:35.695Z"
   },
   {
    "duration": 781,
    "start_time": "2023-02-04T10:31:40.101Z"
   },
   {
    "duration": 318,
    "start_time": "2023-02-04T10:31:40.885Z"
   },
   {
    "duration": 40,
    "start_time": "2023-02-04T10:31:41.205Z"
   },
   {
    "duration": 2,
    "start_time": "2023-02-04T10:31:48.896Z"
   },
   {
    "duration": 7,
    "start_time": "2023-02-04T10:31:56.862Z"
   },
   {
    "duration": 8,
    "start_time": "2023-02-04T10:32:06.576Z"
   },
   {
    "duration": 9,
    "start_time": "2023-02-04T10:32:11.821Z"
   },
   {
    "duration": 3,
    "start_time": "2023-02-04T10:32:32.611Z"
   },
   {
    "duration": 83,
    "start_time": "2023-02-04T10:32:32.821Z"
   },
   {
    "duration": 10,
    "start_time": "2023-02-04T10:32:33.032Z"
   },
   {
    "duration": 2,
    "start_time": "2023-02-04T10:32:40.597Z"
   },
   {
    "duration": 7,
    "start_time": "2023-02-04T10:33:07.298Z"
   },
   {
    "duration": 657,
    "start_time": "2023-02-04T10:33:17.289Z"
   },
   {
    "duration": 91,
    "start_time": "2023-02-04T10:33:17.948Z"
   },
   {
    "duration": 4,
    "start_time": "2023-02-04T10:33:18.040Z"
   },
   {
    "duration": 87,
    "start_time": "2023-02-04T10:33:18.045Z"
   },
   {
    "duration": 0,
    "start_time": "2023-02-04T10:33:18.136Z"
   },
   {
    "duration": 0,
    "start_time": "2023-02-04T10:33:18.137Z"
   },
   {
    "duration": 0,
    "start_time": "2023-02-04T10:33:18.138Z"
   },
   {
    "duration": 0,
    "start_time": "2023-02-04T10:33:18.139Z"
   },
   {
    "duration": 0,
    "start_time": "2023-02-04T10:33:18.140Z"
   },
   {
    "duration": 0,
    "start_time": "2023-02-04T10:33:18.141Z"
   },
   {
    "duration": 0,
    "start_time": "2023-02-04T10:33:18.142Z"
   },
   {
    "duration": 0,
    "start_time": "2023-02-04T10:33:18.143Z"
   },
   {
    "duration": 0,
    "start_time": "2023-02-04T10:33:18.144Z"
   },
   {
    "duration": 0,
    "start_time": "2023-02-04T10:33:18.145Z"
   },
   {
    "duration": 0,
    "start_time": "2023-02-04T10:33:18.146Z"
   },
   {
    "duration": 0,
    "start_time": "2023-02-04T10:33:18.147Z"
   },
   {
    "duration": 0,
    "start_time": "2023-02-04T10:33:18.148Z"
   },
   {
    "duration": 0,
    "start_time": "2023-02-04T10:33:18.149Z"
   },
   {
    "duration": 0,
    "start_time": "2023-02-04T10:33:18.150Z"
   },
   {
    "duration": 0,
    "start_time": "2023-02-04T10:33:18.151Z"
   },
   {
    "duration": 0,
    "start_time": "2023-02-04T10:33:18.152Z"
   },
   {
    "duration": 0,
    "start_time": "2023-02-04T10:33:18.153Z"
   },
   {
    "duration": 0,
    "start_time": "2023-02-04T10:33:18.154Z"
   },
   {
    "duration": 0,
    "start_time": "2023-02-04T10:33:18.155Z"
   },
   {
    "duration": 0,
    "start_time": "2023-02-04T10:33:18.156Z"
   },
   {
    "duration": 0,
    "start_time": "2023-02-04T10:33:18.157Z"
   },
   {
    "duration": 0,
    "start_time": "2023-02-04T10:33:18.158Z"
   },
   {
    "duration": 0,
    "start_time": "2023-02-04T10:33:18.159Z"
   },
   {
    "duration": 0,
    "start_time": "2023-02-04T10:33:18.160Z"
   },
   {
    "duration": 0,
    "start_time": "2023-02-04T10:33:18.161Z"
   },
   {
    "duration": 0,
    "start_time": "2023-02-04T10:33:18.204Z"
   },
   {
    "duration": 0,
    "start_time": "2023-02-04T10:33:18.205Z"
   },
   {
    "duration": 0,
    "start_time": "2023-02-04T10:33:18.206Z"
   },
   {
    "duration": 0,
    "start_time": "2023-02-04T10:33:18.207Z"
   },
   {
    "duration": 0,
    "start_time": "2023-02-04T10:33:18.208Z"
   },
   {
    "duration": 0,
    "start_time": "2023-02-04T10:33:18.208Z"
   },
   {
    "duration": 0,
    "start_time": "2023-02-04T10:33:18.209Z"
   },
   {
    "duration": 0,
    "start_time": "2023-02-04T10:33:18.210Z"
   },
   {
    "duration": 0,
    "start_time": "2023-02-04T10:33:18.211Z"
   },
   {
    "duration": 0,
    "start_time": "2023-02-04T10:33:18.212Z"
   },
   {
    "duration": 0,
    "start_time": "2023-02-04T10:33:18.213Z"
   },
   {
    "duration": 0,
    "start_time": "2023-02-04T10:33:18.214Z"
   },
   {
    "duration": 0,
    "start_time": "2023-02-04T10:33:18.215Z"
   },
   {
    "duration": 0,
    "start_time": "2023-02-04T10:33:18.216Z"
   },
   {
    "duration": 0,
    "start_time": "2023-02-04T10:33:18.217Z"
   },
   {
    "duration": 0,
    "start_time": "2023-02-04T10:33:18.218Z"
   },
   {
    "duration": 0,
    "start_time": "2023-02-04T10:33:18.219Z"
   },
   {
    "duration": 1,
    "start_time": "2023-02-04T10:33:18.219Z"
   },
   {
    "duration": 0,
    "start_time": "2023-02-04T10:33:18.221Z"
   },
   {
    "duration": 0,
    "start_time": "2023-02-04T10:33:18.222Z"
   },
   {
    "duration": 0,
    "start_time": "2023-02-04T10:33:18.222Z"
   },
   {
    "duration": 0,
    "start_time": "2023-02-04T10:33:18.223Z"
   },
   {
    "duration": 0,
    "start_time": "2023-02-04T10:33:18.224Z"
   },
   {
    "duration": 0,
    "start_time": "2023-02-04T10:33:18.225Z"
   },
   {
    "duration": 0,
    "start_time": "2023-02-04T10:33:18.227Z"
   },
   {
    "duration": 0,
    "start_time": "2023-02-04T10:33:18.228Z"
   },
   {
    "duration": 0,
    "start_time": "2023-02-04T10:33:18.228Z"
   },
   {
    "duration": 0,
    "start_time": "2023-02-04T10:33:18.229Z"
   },
   {
    "duration": 0,
    "start_time": "2023-02-04T10:33:18.231Z"
   },
   {
    "duration": 0,
    "start_time": "2023-02-04T10:33:18.232Z"
   },
   {
    "duration": 0,
    "start_time": "2023-02-04T10:33:18.233Z"
   },
   {
    "duration": 0,
    "start_time": "2023-02-04T10:33:18.234Z"
   },
   {
    "duration": 0,
    "start_time": "2023-02-04T10:33:18.235Z"
   },
   {
    "duration": 0,
    "start_time": "2023-02-04T10:33:18.236Z"
   },
   {
    "duration": 0,
    "start_time": "2023-02-04T10:33:18.237Z"
   },
   {
    "duration": 0,
    "start_time": "2023-02-04T10:33:18.238Z"
   },
   {
    "duration": 0,
    "start_time": "2023-02-04T10:33:18.239Z"
   },
   {
    "duration": 0,
    "start_time": "2023-02-04T10:33:18.240Z"
   },
   {
    "duration": 0,
    "start_time": "2023-02-04T10:33:18.240Z"
   },
   {
    "duration": 0,
    "start_time": "2023-02-04T10:33:18.307Z"
   },
   {
    "duration": 0,
    "start_time": "2023-02-04T10:33:18.309Z"
   },
   {
    "duration": 0,
    "start_time": "2023-02-04T10:33:18.310Z"
   },
   {
    "duration": 1,
    "start_time": "2023-02-04T10:33:18.310Z"
   },
   {
    "duration": 0,
    "start_time": "2023-02-04T10:33:18.311Z"
   },
   {
    "duration": 0,
    "start_time": "2023-02-04T10:33:18.313Z"
   },
   {
    "duration": 0,
    "start_time": "2023-02-04T10:33:18.314Z"
   },
   {
    "duration": 0,
    "start_time": "2023-02-04T10:33:18.315Z"
   },
   {
    "duration": 0,
    "start_time": "2023-02-04T10:33:18.316Z"
   },
   {
    "duration": 0,
    "start_time": "2023-02-04T10:33:18.317Z"
   },
   {
    "duration": 0,
    "start_time": "2023-02-04T10:33:18.318Z"
   },
   {
    "duration": 0,
    "start_time": "2023-02-04T10:33:18.319Z"
   },
   {
    "duration": 0,
    "start_time": "2023-02-04T10:33:18.320Z"
   },
   {
    "duration": 0,
    "start_time": "2023-02-04T10:33:18.321Z"
   },
   {
    "duration": 0,
    "start_time": "2023-02-04T10:33:18.322Z"
   },
   {
    "duration": 0,
    "start_time": "2023-02-04T10:33:18.323Z"
   },
   {
    "duration": 0,
    "start_time": "2023-02-04T10:33:18.324Z"
   },
   {
    "duration": 0,
    "start_time": "2023-02-04T10:33:18.325Z"
   },
   {
    "duration": 0,
    "start_time": "2023-02-04T10:33:18.326Z"
   },
   {
    "duration": 0,
    "start_time": "2023-02-04T10:33:18.327Z"
   },
   {
    "duration": 0,
    "start_time": "2023-02-04T10:33:18.328Z"
   },
   {
    "duration": 0,
    "start_time": "2023-02-04T10:33:18.329Z"
   },
   {
    "duration": 0,
    "start_time": "2023-02-04T10:33:18.330Z"
   },
   {
    "duration": 0,
    "start_time": "2023-02-04T10:33:18.331Z"
   },
   {
    "duration": 0,
    "start_time": "2023-02-04T10:33:18.332Z"
   },
   {
    "duration": 0,
    "start_time": "2023-02-04T10:33:18.333Z"
   },
   {
    "duration": 0,
    "start_time": "2023-02-04T10:33:18.334Z"
   },
   {
    "duration": 70,
    "start_time": "2023-02-04T10:33:18.339Z"
   },
   {
    "duration": 0,
    "start_time": "2023-02-04T10:33:18.410Z"
   },
   {
    "duration": 2,
    "start_time": "2023-02-04T10:34:35.679Z"
   },
   {
    "duration": 90,
    "start_time": "2023-02-04T10:34:37.577Z"
   },
   {
    "duration": 3,
    "start_time": "2023-02-04T10:34:38.533Z"
   },
   {
    "duration": 7,
    "start_time": "2023-02-04T10:34:43.579Z"
   },
   {
    "duration": 2,
    "start_time": "2023-02-04T10:34:51.469Z"
   },
   {
    "duration": 7,
    "start_time": "2023-02-04T10:34:52.295Z"
   },
   {
    "duration": 7,
    "start_time": "2023-02-04T10:34:55.899Z"
   },
   {
    "duration": 2,
    "start_time": "2023-02-04T10:36:04.010Z"
   },
   {
    "duration": 8,
    "start_time": "2023-02-04T10:36:04.544Z"
   },
   {
    "duration": 7,
    "start_time": "2023-02-04T10:36:06.541Z"
   },
   {
    "duration": 2,
    "start_time": "2023-02-04T10:37:42.969Z"
   },
   {
    "duration": 92,
    "start_time": "2023-02-04T10:37:43.364Z"
   },
   {
    "duration": 2,
    "start_time": "2023-02-04T10:37:43.775Z"
   },
   {
    "duration": 14,
    "start_time": "2023-02-04T10:37:47.589Z"
   },
   {
    "duration": 4,
    "start_time": "2023-02-04T10:37:50.998Z"
   },
   {
    "duration": 7,
    "start_time": "2023-02-04T10:37:52.390Z"
   },
   {
    "duration": 7,
    "start_time": "2023-02-04T10:38:03.872Z"
   },
   {
    "duration": 7,
    "start_time": "2023-02-04T10:38:07.516Z"
   },
   {
    "duration": 7,
    "start_time": "2023-02-04T10:38:14.769Z"
   },
   {
    "duration": 7,
    "start_time": "2023-02-04T10:38:20.262Z"
   },
   {
    "duration": 2,
    "start_time": "2023-02-04T10:40:07.352Z"
   },
   {
    "duration": 89,
    "start_time": "2023-02-04T10:40:07.793Z"
   },
   {
    "duration": 8,
    "start_time": "2023-02-04T10:40:08.401Z"
   },
   {
    "duration": 3,
    "start_time": "2023-02-04T10:40:13.697Z"
   },
   {
    "duration": 136,
    "start_time": "2023-02-04T10:40:16.888Z"
   },
   {
    "duration": 101,
    "start_time": "2023-02-04T10:40:28.631Z"
   },
   {
    "duration": 3,
    "start_time": "2023-02-04T10:40:31.561Z"
   },
   {
    "duration": 8,
    "start_time": "2023-02-04T10:40:36.052Z"
   },
   {
    "duration": 7,
    "start_time": "2023-02-04T10:40:45.252Z"
   },
   {
    "duration": 599,
    "start_time": "2023-02-04T10:40:51.042Z"
   },
   {
    "duration": 115,
    "start_time": "2023-02-04T10:40:51.644Z"
   },
   {
    "duration": 14,
    "start_time": "2023-02-04T10:40:51.760Z"
   },
   {
    "duration": 1820,
    "start_time": "2023-02-04T10:40:51.776Z"
   },
   {
    "duration": 9,
    "start_time": "2023-02-04T10:40:53.597Z"
   },
   {
    "duration": 3,
    "start_time": "2023-02-04T10:40:53.607Z"
   },
   {
    "duration": 4,
    "start_time": "2023-02-04T10:40:53.612Z"
   },
   {
    "duration": 6,
    "start_time": "2023-02-04T10:40:53.617Z"
   },
   {
    "duration": 11,
    "start_time": "2023-02-04T10:40:53.624Z"
   },
   {
    "duration": 5,
    "start_time": "2023-02-04T10:40:53.638Z"
   },
   {
    "duration": 12,
    "start_time": "2023-02-04T10:40:53.644Z"
   },
   {
    "duration": 3,
    "start_time": "2023-02-04T10:40:53.658Z"
   },
   {
    "duration": 8,
    "start_time": "2023-02-04T10:40:53.663Z"
   },
   {
    "duration": 41,
    "start_time": "2023-02-04T10:40:53.673Z"
   },
   {
    "duration": 6,
    "start_time": "2023-02-04T10:40:53.716Z"
   },
   {
    "duration": 7,
    "start_time": "2023-02-04T10:40:53.724Z"
   },
   {
    "duration": 19,
    "start_time": "2023-02-04T10:40:53.733Z"
   },
   {
    "duration": 13,
    "start_time": "2023-02-04T10:40:53.753Z"
   },
   {
    "duration": 15,
    "start_time": "2023-02-04T10:40:53.768Z"
   },
   {
    "duration": 8,
    "start_time": "2023-02-04T10:40:53.785Z"
   },
   {
    "duration": 9,
    "start_time": "2023-02-04T10:40:53.795Z"
   },
   {
    "duration": 31,
    "start_time": "2023-02-04T10:40:53.806Z"
   },
   {
    "duration": 7,
    "start_time": "2023-02-04T10:40:53.838Z"
   },
   {
    "duration": 81,
    "start_time": "2023-02-04T10:40:53.846Z"
   },
   {
    "duration": 8,
    "start_time": "2023-02-04T10:40:53.928Z"
   },
   {
    "duration": 5,
    "start_time": "2023-02-04T10:40:53.937Z"
   },
   {
    "duration": 9,
    "start_time": "2023-02-04T10:40:53.943Z"
   },
   {
    "duration": 7,
    "start_time": "2023-02-04T10:40:53.956Z"
   },
   {
    "duration": 7,
    "start_time": "2023-02-04T10:40:53.965Z"
   },
   {
    "duration": 51,
    "start_time": "2023-02-04T10:40:53.973Z"
   },
   {
    "duration": 5,
    "start_time": "2023-02-04T10:40:54.026Z"
   },
   {
    "duration": 20,
    "start_time": "2023-02-04T10:40:54.032Z"
   },
   {
    "duration": 7,
    "start_time": "2023-02-04T10:40:54.054Z"
   },
   {
    "duration": 46,
    "start_time": "2023-02-04T10:40:54.062Z"
   },
   {
    "duration": 7,
    "start_time": "2023-02-04T10:40:54.110Z"
   },
   {
    "duration": 21,
    "start_time": "2023-02-04T10:40:54.118Z"
   },
   {
    "duration": 36,
    "start_time": "2023-02-04T10:40:54.141Z"
   },
   {
    "duration": 31,
    "start_time": "2023-02-04T10:40:54.178Z"
   },
   {
    "duration": 19,
    "start_time": "2023-02-04T10:40:54.211Z"
   },
   {
    "duration": 4,
    "start_time": "2023-02-04T10:40:54.232Z"
   },
   {
    "duration": 9,
    "start_time": "2023-02-04T10:40:54.237Z"
   },
   {
    "duration": 22,
    "start_time": "2023-02-04T10:40:54.247Z"
   },
   {
    "duration": 41,
    "start_time": "2023-02-04T10:40:54.270Z"
   },
   {
    "duration": 7,
    "start_time": "2023-02-04T10:40:54.312Z"
   },
   {
    "duration": 8,
    "start_time": "2023-02-04T10:40:54.320Z"
   },
   {
    "duration": 8,
    "start_time": "2023-02-04T10:40:54.329Z"
   },
   {
    "duration": 8,
    "start_time": "2023-02-04T10:40:54.338Z"
   },
   {
    "duration": 8,
    "start_time": "2023-02-04T10:40:54.348Z"
   },
   {
    "duration": 3,
    "start_time": "2023-02-04T10:40:54.358Z"
   },
   {
    "duration": 51,
    "start_time": "2023-02-04T10:40:54.363Z"
   },
   {
    "duration": 318,
    "start_time": "2023-02-04T10:40:54.416Z"
   },
   {
    "duration": 10,
    "start_time": "2023-02-04T10:40:54.736Z"
   },
   {
    "duration": 10,
    "start_time": "2023-02-04T10:40:54.747Z"
   },
   {
    "duration": 50,
    "start_time": "2023-02-04T10:40:54.759Z"
   },
   {
    "duration": 503,
    "start_time": "2023-02-04T10:40:54.810Z"
   },
   {
    "duration": 236,
    "start_time": "2023-02-04T10:40:55.315Z"
   },
   {
    "duration": 250,
    "start_time": "2023-02-04T10:40:55.553Z"
   },
   {
    "duration": 147,
    "start_time": "2023-02-04T10:40:55.805Z"
   },
   {
    "duration": 244,
    "start_time": "2023-02-04T10:40:55.954Z"
   },
   {
    "duration": 184,
    "start_time": "2023-02-04T10:40:56.199Z"
   },
   {
    "duration": 147,
    "start_time": "2023-02-04T10:40:56.384Z"
   },
   {
    "duration": 138,
    "start_time": "2023-02-04T10:40:56.533Z"
   },
   {
    "duration": 221,
    "start_time": "2023-02-04T10:40:56.673Z"
   },
   {
    "duration": 163,
    "start_time": "2023-02-04T10:40:56.895Z"
   },
   {
    "duration": 9,
    "start_time": "2023-02-04T10:40:57.060Z"
   },
   {
    "duration": 168,
    "start_time": "2023-02-04T10:40:57.070Z"
   },
   {
    "duration": 170,
    "start_time": "2023-02-04T10:40:57.240Z"
   },
   {
    "duration": 163,
    "start_time": "2023-02-04T10:40:57.412Z"
   },
   {
    "duration": 141,
    "start_time": "2023-02-04T10:40:57.577Z"
   },
   {
    "duration": 143,
    "start_time": "2023-02-04T10:40:57.720Z"
   },
   {
    "duration": 9,
    "start_time": "2023-02-04T10:40:57.865Z"
   },
   {
    "duration": 140,
    "start_time": "2023-02-04T10:40:57.876Z"
   },
   {
    "duration": 107,
    "start_time": "2023-02-04T10:40:58.018Z"
   },
   {
    "duration": 176,
    "start_time": "2023-02-04T10:40:58.127Z"
   },
   {
    "duration": 5,
    "start_time": "2023-02-04T10:40:58.305Z"
   },
   {
    "duration": 184,
    "start_time": "2023-02-04T10:40:58.311Z"
   },
   {
    "duration": 10,
    "start_time": "2023-02-04T10:40:58.496Z"
   },
   {
    "duration": 258,
    "start_time": "2023-02-04T10:40:58.507Z"
   },
   {
    "duration": 5,
    "start_time": "2023-02-04T10:40:58.767Z"
   },
   {
    "duration": 186,
    "start_time": "2023-02-04T10:40:58.773Z"
   },
   {
    "duration": 5,
    "start_time": "2023-02-04T10:40:58.961Z"
   },
   {
    "duration": 14,
    "start_time": "2023-02-04T10:40:58.971Z"
   },
   {
    "duration": 170,
    "start_time": "2023-02-04T10:40:58.986Z"
   },
   {
    "duration": 9,
    "start_time": "2023-02-04T10:40:59.158Z"
   },
   {
    "duration": 151,
    "start_time": "2023-02-04T10:40:59.168Z"
   },
   {
    "duration": 13,
    "start_time": "2023-02-04T10:40:59.321Z"
   },
   {
    "duration": 138,
    "start_time": "2023-02-04T10:40:59.335Z"
   },
   {
    "duration": 12,
    "start_time": "2023-02-04T10:40:59.475Z"
   },
   {
    "duration": 145,
    "start_time": "2023-02-04T10:40:59.488Z"
   },
   {
    "duration": 25,
    "start_time": "2023-02-04T10:40:59.634Z"
   },
   {
    "duration": 9,
    "start_time": "2023-02-04T10:40:59.661Z"
   },
   {
    "duration": 7,
    "start_time": "2023-02-04T10:40:59.672Z"
   },
   {
    "duration": 29,
    "start_time": "2023-02-04T10:40:59.680Z"
   },
   {
    "duration": 13,
    "start_time": "2023-02-04T10:40:59.711Z"
   },
   {
    "duration": 22,
    "start_time": "2023-02-04T10:40:59.725Z"
   },
   {
    "duration": 141,
    "start_time": "2023-02-04T10:40:59.748Z"
   },
   {
    "duration": 16,
    "start_time": "2023-02-04T10:40:59.891Z"
   },
   {
    "duration": 115,
    "start_time": "2023-02-04T10:42:16.855Z"
   },
   {
    "duration": 13,
    "start_time": "2023-02-04T10:42:23.618Z"
   },
   {
    "duration": 1854,
    "start_time": "2023-02-04T10:42:26.113Z"
   },
   {
    "duration": 1949,
    "start_time": "2023-02-04T10:42:41.723Z"
   },
   {
    "duration": 1872,
    "start_time": "2023-02-04T10:42:50.303Z"
   },
   {
    "duration": 4,
    "start_time": "2023-02-04T10:46:49.224Z"
   },
   {
    "duration": 353,
    "start_time": "2023-02-04T10:46:49.953Z"
   },
   {
    "duration": 633,
    "start_time": "2023-02-04T10:46:56.924Z"
   },
   {
    "duration": 111,
    "start_time": "2023-02-04T10:46:57.559Z"
   },
   {
    "duration": 14,
    "start_time": "2023-02-04T10:46:57.672Z"
   },
   {
    "duration": 1773,
    "start_time": "2023-02-04T10:46:57.703Z"
   },
   {
    "duration": 9,
    "start_time": "2023-02-04T10:46:59.477Z"
   },
   {
    "duration": 4,
    "start_time": "2023-02-04T10:46:59.487Z"
   },
   {
    "duration": 4,
    "start_time": "2023-02-04T10:46:59.492Z"
   },
   {
    "duration": 9,
    "start_time": "2023-02-04T10:46:59.497Z"
   },
   {
    "duration": 10,
    "start_time": "2023-02-04T10:46:59.507Z"
   },
   {
    "duration": 5,
    "start_time": "2023-02-04T10:46:59.520Z"
   },
   {
    "duration": 7,
    "start_time": "2023-02-04T10:46:59.526Z"
   },
   {
    "duration": 2,
    "start_time": "2023-02-04T10:46:59.534Z"
   },
   {
    "duration": 5,
    "start_time": "2023-02-04T10:46:59.538Z"
   },
   {
    "duration": 13,
    "start_time": "2023-02-04T10:46:59.544Z"
   },
   {
    "duration": 4,
    "start_time": "2023-02-04T10:46:59.559Z"
   },
   {
    "duration": 40,
    "start_time": "2023-02-04T10:46:59.565Z"
   },
   {
    "duration": 3,
    "start_time": "2023-02-04T10:46:59.606Z"
   },
   {
    "duration": 5,
    "start_time": "2023-02-04T10:46:59.611Z"
   },
   {
    "duration": 4,
    "start_time": "2023-02-04T10:46:59.618Z"
   },
   {
    "duration": 7,
    "start_time": "2023-02-04T10:46:59.623Z"
   },
   {
    "duration": 3,
    "start_time": "2023-02-04T10:46:59.632Z"
   },
   {
    "duration": 27,
    "start_time": "2023-02-04T10:46:59.636Z"
   },
   {
    "duration": 5,
    "start_time": "2023-02-04T10:46:59.665Z"
   },
   {
    "duration": 93,
    "start_time": "2023-02-04T10:46:59.672Z"
   },
   {
    "duration": 7,
    "start_time": "2023-02-04T10:46:59.767Z"
   },
   {
    "duration": 5,
    "start_time": "2023-02-04T10:46:59.776Z"
   },
   {
    "duration": 27,
    "start_time": "2023-02-04T10:46:59.782Z"
   },
   {
    "duration": 7,
    "start_time": "2023-02-04T10:46:59.813Z"
   },
   {
    "duration": 9,
    "start_time": "2023-02-04T10:46:59.821Z"
   },
   {
    "duration": 20,
    "start_time": "2023-02-04T10:46:59.831Z"
   },
   {
    "duration": 5,
    "start_time": "2023-02-04T10:46:59.852Z"
   },
   {
    "duration": 46,
    "start_time": "2023-02-04T10:46:59.858Z"
   },
   {
    "duration": 7,
    "start_time": "2023-02-04T10:46:59.906Z"
   },
   {
    "duration": 18,
    "start_time": "2023-02-04T10:46:59.915Z"
   },
   {
    "duration": 7,
    "start_time": "2023-02-04T10:46:59.935Z"
   },
   {
    "duration": 18,
    "start_time": "2023-02-04T10:46:59.943Z"
   },
   {
    "duration": 58,
    "start_time": "2023-02-04T10:46:59.962Z"
   },
   {
    "duration": 7,
    "start_time": "2023-02-04T10:47:00.021Z"
   },
   {
    "duration": 32,
    "start_time": "2023-02-04T10:47:00.029Z"
   },
   {
    "duration": 5,
    "start_time": "2023-02-04T10:47:00.062Z"
   },
   {
    "duration": 11,
    "start_time": "2023-02-04T10:47:00.068Z"
   },
   {
    "duration": 26,
    "start_time": "2023-02-04T10:47:00.081Z"
   },
   {
    "duration": 7,
    "start_time": "2023-02-04T10:47:00.109Z"
   },
   {
    "duration": 28,
    "start_time": "2023-02-04T10:47:00.117Z"
   },
   {
    "duration": 23,
    "start_time": "2023-02-04T10:47:00.146Z"
   },
   {
    "duration": 9,
    "start_time": "2023-02-04T10:47:00.171Z"
   },
   {
    "duration": 82,
    "start_time": "2023-02-04T10:47:00.181Z"
   },
   {
    "duration": 37,
    "start_time": "2023-02-04T10:47:00.264Z"
   },
   {
    "duration": 14,
    "start_time": "2023-02-04T10:47:00.303Z"
   },
   {
    "duration": 46,
    "start_time": "2023-02-04T10:47:00.318Z"
   },
   {
    "duration": 305,
    "start_time": "2023-02-04T10:47:00.365Z"
   },
   {
    "duration": 10,
    "start_time": "2023-02-04T10:47:00.671Z"
   },
   {
    "duration": 20,
    "start_time": "2023-02-04T10:47:00.682Z"
   },
   {
    "duration": 49,
    "start_time": "2023-02-04T10:47:00.703Z"
   },
   {
    "duration": 531,
    "start_time": "2023-02-04T10:47:00.754Z"
   },
   {
    "duration": 208,
    "start_time": "2023-02-04T10:47:01.287Z"
   },
   {
    "duration": 250,
    "start_time": "2023-02-04T10:47:01.496Z"
   },
   {
    "duration": 134,
    "start_time": "2023-02-04T10:47:01.748Z"
   },
   {
    "duration": 232,
    "start_time": "2023-02-04T10:47:01.884Z"
   },
   {
    "duration": 180,
    "start_time": "2023-02-04T10:47:02.118Z"
   },
   {
    "duration": 142,
    "start_time": "2023-02-04T10:47:02.303Z"
   },
   {
    "duration": 128,
    "start_time": "2023-02-04T10:47:02.447Z"
   },
   {
    "duration": 229,
    "start_time": "2023-02-04T10:47:02.576Z"
   },
   {
    "duration": 160,
    "start_time": "2023-02-04T10:47:02.807Z"
   },
   {
    "duration": 9,
    "start_time": "2023-02-04T10:47:02.969Z"
   },
   {
    "duration": 177,
    "start_time": "2023-02-04T10:47:02.980Z"
   },
   {
    "duration": 157,
    "start_time": "2023-02-04T10:47:03.158Z"
   },
   {
    "duration": 165,
    "start_time": "2023-02-04T10:47:03.317Z"
   },
   {
    "duration": 142,
    "start_time": "2023-02-04T10:47:03.484Z"
   },
   {
    "duration": 143,
    "start_time": "2023-02-04T10:47:03.628Z"
   },
   {
    "duration": 9,
    "start_time": "2023-02-04T10:47:03.772Z"
   },
   {
    "duration": 135,
    "start_time": "2023-02-04T10:47:03.783Z"
   },
   {
    "duration": 111,
    "start_time": "2023-02-04T10:47:03.920Z"
   },
   {
    "duration": 176,
    "start_time": "2023-02-04T10:47:04.033Z"
   },
   {
    "duration": 5,
    "start_time": "2023-02-04T10:47:04.211Z"
   },
   {
    "duration": 187,
    "start_time": "2023-02-04T10:47:04.218Z"
   },
   {
    "duration": 6,
    "start_time": "2023-02-04T10:47:04.407Z"
   },
   {
    "duration": 275,
    "start_time": "2023-02-04T10:47:04.414Z"
   },
   {
    "duration": 14,
    "start_time": "2023-02-04T10:47:04.691Z"
   },
   {
    "duration": 196,
    "start_time": "2023-02-04T10:47:04.707Z"
   },
   {
    "duration": 5,
    "start_time": "2023-02-04T10:47:04.905Z"
   },
   {
    "duration": 13,
    "start_time": "2023-02-04T10:47:04.915Z"
   },
   {
    "duration": 183,
    "start_time": "2023-02-04T10:47:04.930Z"
   },
   {
    "duration": 10,
    "start_time": "2023-02-04T10:47:05.115Z"
   },
   {
    "duration": 152,
    "start_time": "2023-02-04T10:47:05.127Z"
   },
   {
    "duration": 23,
    "start_time": "2023-02-04T10:47:05.281Z"
   },
   {
    "duration": 152,
    "start_time": "2023-02-04T10:47:05.306Z"
   },
   {
    "duration": 14,
    "start_time": "2023-02-04T10:47:05.459Z"
   },
   {
    "duration": 153,
    "start_time": "2023-02-04T10:47:05.475Z"
   },
   {
    "duration": 25,
    "start_time": "2023-02-04T10:47:05.630Z"
   },
   {
    "duration": 10,
    "start_time": "2023-02-04T10:47:05.656Z"
   },
   {
    "duration": 3,
    "start_time": "2023-02-04T10:47:05.668Z"
   },
   {
    "duration": 10,
    "start_time": "2023-02-04T10:47:05.672Z"
   },
   {
    "duration": 8,
    "start_time": "2023-02-04T10:47:05.704Z"
   },
   {
    "duration": 21,
    "start_time": "2023-02-04T10:47:05.714Z"
   },
   {
    "duration": 150,
    "start_time": "2023-02-04T10:47:05.736Z"
   },
   {
    "duration": 5,
    "start_time": "2023-02-04T10:47:05.887Z"
   },
   {
    "duration": 4,
    "start_time": "2023-02-04T10:47:15.624Z"
   },
   {
    "duration": 27,
    "start_time": "2023-02-04T10:47:16.272Z"
   },
   {
    "duration": 7,
    "start_time": "2023-02-04T10:47:17.123Z"
   },
   {
    "duration": 3,
    "start_time": "2023-02-04T10:49:22.457Z"
   },
   {
    "duration": 26,
    "start_time": "2023-02-04T10:49:22.919Z"
   },
   {
    "duration": 7,
    "start_time": "2023-02-04T10:49:23.481Z"
   },
   {
    "duration": 3,
    "start_time": "2023-02-04T10:49:40.085Z"
   },
   {
    "duration": 27,
    "start_time": "2023-02-04T10:49:40.918Z"
   },
   {
    "duration": 8,
    "start_time": "2023-02-04T10:49:41.538Z"
   },
   {
    "duration": 627,
    "start_time": "2023-02-04T10:49:57.917Z"
   },
   {
    "duration": 109,
    "start_time": "2023-02-04T10:49:58.546Z"
   },
   {
    "duration": 13,
    "start_time": "2023-02-04T10:49:58.657Z"
   },
   {
    "duration": 1808,
    "start_time": "2023-02-04T10:49:58.672Z"
   },
   {
    "duration": 9,
    "start_time": "2023-02-04T10:50:00.482Z"
   },
   {
    "duration": 11,
    "start_time": "2023-02-04T10:50:00.492Z"
   },
   {
    "duration": 23,
    "start_time": "2023-02-04T10:50:00.504Z"
   },
   {
    "duration": 34,
    "start_time": "2023-02-04T10:50:00.528Z"
   },
   {
    "duration": 16,
    "start_time": "2023-02-04T10:50:00.564Z"
   },
   {
    "duration": 6,
    "start_time": "2023-02-04T10:50:00.581Z"
   },
   {
    "duration": 23,
    "start_time": "2023-02-04T10:50:00.588Z"
   },
   {
    "duration": 9,
    "start_time": "2023-02-04T10:50:00.613Z"
   },
   {
    "duration": 17,
    "start_time": "2023-02-04T10:50:00.623Z"
   },
   {
    "duration": 34,
    "start_time": "2023-02-04T10:50:00.643Z"
   },
   {
    "duration": 5,
    "start_time": "2023-02-04T10:50:00.679Z"
   },
   {
    "duration": 26,
    "start_time": "2023-02-04T10:50:00.686Z"
   },
   {
    "duration": 21,
    "start_time": "2023-02-04T10:50:00.714Z"
   },
   {
    "duration": 16,
    "start_time": "2023-02-04T10:50:00.736Z"
   },
   {
    "duration": 6,
    "start_time": "2023-02-04T10:50:00.754Z"
   },
   {
    "duration": 11,
    "start_time": "2023-02-04T10:50:00.761Z"
   },
   {
    "duration": 4,
    "start_time": "2023-02-04T10:50:00.773Z"
   },
   {
    "duration": 29,
    "start_time": "2023-02-04T10:50:00.778Z"
   },
   {
    "duration": 7,
    "start_time": "2023-02-04T10:50:00.809Z"
   },
   {
    "duration": 86,
    "start_time": "2023-02-04T10:50:00.817Z"
   },
   {
    "duration": 9,
    "start_time": "2023-02-04T10:50:00.905Z"
   },
   {
    "duration": 13,
    "start_time": "2023-02-04T10:50:00.916Z"
   },
   {
    "duration": 8,
    "start_time": "2023-02-04T10:50:00.931Z"
   },
   {
    "duration": 8,
    "start_time": "2023-02-04T10:50:00.941Z"
   },
   {
    "duration": 9,
    "start_time": "2023-02-04T10:50:00.951Z"
   },
   {
    "duration": 49,
    "start_time": "2023-02-04T10:50:00.961Z"
   },
   {
    "duration": 13,
    "start_time": "2023-02-04T10:50:01.011Z"
   },
   {
    "duration": 30,
    "start_time": "2023-02-04T10:50:01.025Z"
   },
   {
    "duration": 18,
    "start_time": "2023-02-04T10:50:01.056Z"
   },
   {
    "duration": 69,
    "start_time": "2023-02-04T10:50:01.076Z"
   },
   {
    "duration": 30,
    "start_time": "2023-02-04T10:50:01.146Z"
   },
   {
    "duration": 30,
    "start_time": "2023-02-04T10:50:01.178Z"
   },
   {
    "duration": 49,
    "start_time": "2023-02-04T10:50:01.210Z"
   },
   {
    "duration": 8,
    "start_time": "2023-02-04T10:50:01.260Z"
   },
   {
    "duration": 46,
    "start_time": "2023-02-04T10:50:01.269Z"
   },
   {
    "duration": 26,
    "start_time": "2023-02-04T10:50:01.316Z"
   },
   {
    "duration": 20,
    "start_time": "2023-02-04T10:50:01.347Z"
   },
   {
    "duration": 32,
    "start_time": "2023-02-04T10:50:01.368Z"
   },
   {
    "duration": 28,
    "start_time": "2023-02-04T10:50:01.402Z"
   },
   {
    "duration": 29,
    "start_time": "2023-02-04T10:50:01.432Z"
   },
   {
    "duration": 23,
    "start_time": "2023-02-04T10:50:01.462Z"
   },
   {
    "duration": 43,
    "start_time": "2023-02-04T10:50:01.487Z"
   },
   {
    "duration": 31,
    "start_time": "2023-02-04T10:50:01.531Z"
   },
   {
    "duration": 14,
    "start_time": "2023-02-04T10:50:01.564Z"
   },
   {
    "duration": 27,
    "start_time": "2023-02-04T10:50:01.580Z"
   },
   {
    "duration": 18,
    "start_time": "2023-02-04T10:50:01.609Z"
   },
   {
    "duration": 303,
    "start_time": "2023-02-04T10:50:01.628Z"
   },
   {
    "duration": 10,
    "start_time": "2023-02-04T10:50:01.933Z"
   },
   {
    "duration": 19,
    "start_time": "2023-02-04T10:50:01.944Z"
   },
   {
    "duration": 34,
    "start_time": "2023-02-04T10:50:01.964Z"
   },
   {
    "duration": 411,
    "start_time": "2023-02-04T10:50:01.999Z"
   },
   {
    "duration": 280,
    "start_time": "2023-02-04T10:50:02.412Z"
   },
   {
    "duration": 241,
    "start_time": "2023-02-04T10:50:02.693Z"
   },
   {
    "duration": 130,
    "start_time": "2023-02-04T10:50:02.936Z"
   },
   {
    "duration": 241,
    "start_time": "2023-02-04T10:50:03.067Z"
   },
   {
    "duration": 180,
    "start_time": "2023-02-04T10:50:03.309Z"
   },
   {
    "duration": 141,
    "start_time": "2023-02-04T10:50:03.490Z"
   },
   {
    "duration": 121,
    "start_time": "2023-02-04T10:50:03.632Z"
   },
   {
    "duration": 150,
    "start_time": "2023-02-04T10:50:03.754Z"
   },
   {
    "duration": 218,
    "start_time": "2023-02-04T10:50:03.906Z"
   },
   {
    "duration": 9,
    "start_time": "2023-02-04T10:50:04.126Z"
   },
   {
    "duration": 160,
    "start_time": "2023-02-04T10:50:04.137Z"
   },
   {
    "duration": 161,
    "start_time": "2023-02-04T10:50:04.298Z"
   },
   {
    "duration": 156,
    "start_time": "2023-02-04T10:50:04.460Z"
   },
   {
    "duration": 142,
    "start_time": "2023-02-04T10:50:04.618Z"
   },
   {
    "duration": 142,
    "start_time": "2023-02-04T10:50:04.761Z"
   },
   {
    "duration": 9,
    "start_time": "2023-02-04T10:50:04.905Z"
   },
   {
    "duration": 132,
    "start_time": "2023-02-04T10:50:04.915Z"
   },
   {
    "duration": 113,
    "start_time": "2023-02-04T10:50:05.049Z"
   },
   {
    "duration": 187,
    "start_time": "2023-02-04T10:50:05.164Z"
   },
   {
    "duration": 6,
    "start_time": "2023-02-04T10:50:05.352Z"
   },
   {
    "duration": 194,
    "start_time": "2023-02-04T10:50:05.359Z"
   },
   {
    "duration": 5,
    "start_time": "2023-02-04T10:50:05.555Z"
   },
   {
    "duration": 189,
    "start_time": "2023-02-04T10:50:05.561Z"
   },
   {
    "duration": 5,
    "start_time": "2023-02-04T10:50:05.751Z"
   },
   {
    "duration": 190,
    "start_time": "2023-02-04T10:50:05.757Z"
   },
   {
    "duration": 5,
    "start_time": "2023-02-04T10:50:05.948Z"
   },
   {
    "duration": 16,
    "start_time": "2023-02-04T10:50:05.954Z"
   },
   {
    "duration": 266,
    "start_time": "2023-02-04T10:50:05.972Z"
   },
   {
    "duration": 9,
    "start_time": "2023-02-04T10:50:06.240Z"
   },
   {
    "duration": 155,
    "start_time": "2023-02-04T10:50:06.250Z"
   },
   {
    "duration": 13,
    "start_time": "2023-02-04T10:50:06.407Z"
   },
   {
    "duration": 145,
    "start_time": "2023-02-04T10:50:06.422Z"
   },
   {
    "duration": 13,
    "start_time": "2023-02-04T10:50:06.568Z"
   },
   {
    "duration": 160,
    "start_time": "2023-02-04T10:50:06.582Z"
   },
   {
    "duration": 34,
    "start_time": "2023-02-04T10:50:06.744Z"
   },
   {
    "duration": 10,
    "start_time": "2023-02-04T10:50:06.780Z"
   },
   {
    "duration": 9,
    "start_time": "2023-02-04T10:50:06.804Z"
   },
   {
    "duration": 12,
    "start_time": "2023-02-04T10:50:06.814Z"
   },
   {
    "duration": 15,
    "start_time": "2023-02-04T10:50:06.828Z"
   },
   {
    "duration": 22,
    "start_time": "2023-02-04T10:50:06.845Z"
   },
   {
    "duration": 139,
    "start_time": "2023-02-04T10:50:06.869Z"
   },
   {
    "duration": 5,
    "start_time": "2023-02-04T10:50:07.009Z"
   },
   {
    "duration": 93,
    "start_time": "2023-02-04T10:54:17.917Z"
   },
   {
    "duration": 23,
    "start_time": "2023-02-04T10:54:18.771Z"
   },
   {
    "duration": 7,
    "start_time": "2023-02-04T10:54:19.529Z"
   },
   {
    "duration": 8,
    "start_time": "2023-02-04T10:57:21.842Z"
   },
   {
    "duration": 10,
    "start_time": "2023-02-04T11:03:16.989Z"
   },
   {
    "duration": 105,
    "start_time": "2023-02-04T11:05:10.402Z"
   },
   {
    "duration": 101,
    "start_time": "2023-02-04T11:07:14.668Z"
   },
   {
    "duration": 169,
    "start_time": "2023-02-05T13:09:52.553Z"
   },
   {
    "duration": 101,
    "start_time": "2023-02-05T13:10:24.130Z"
   },
   {
    "duration": 112,
    "start_time": "2023-02-05T13:10:50.378Z"
   },
   {
    "duration": 112,
    "start_time": "2023-02-05T13:24:39.777Z"
   },
   {
    "duration": 793,
    "start_time": "2023-02-05T13:25:02.698Z"
   },
   {
    "duration": 145,
    "start_time": "2023-02-05T13:25:15.953Z"
   },
   {
    "duration": 4,
    "start_time": "2023-02-05T13:26:34.590Z"
   },
   {
    "duration": 136,
    "start_time": "2023-02-05T13:26:38.057Z"
   },
   {
    "duration": 121,
    "start_time": "2023-02-05T13:26:42.392Z"
   },
   {
    "duration": 100,
    "start_time": "2023-02-05T13:30:45.619Z"
   },
   {
    "duration": 115,
    "start_time": "2023-02-05T13:31:48.169Z"
   },
   {
    "duration": 103,
    "start_time": "2023-02-05T13:34:42.376Z"
   },
   {
    "duration": 103,
    "start_time": "2023-02-05T13:34:49.436Z"
   },
   {
    "duration": 111,
    "start_time": "2023-02-05T13:34:53.455Z"
   },
   {
    "duration": 101,
    "start_time": "2023-02-05T13:34:55.919Z"
   },
   {
    "duration": 151,
    "start_time": "2023-02-05T13:40:32.733Z"
   },
   {
    "duration": 193,
    "start_time": "2023-02-05T13:40:55.081Z"
   },
   {
    "duration": 130,
    "start_time": "2023-02-05T13:48:03.789Z"
   },
   {
    "duration": 213,
    "start_time": "2023-02-05T13:49:04.226Z"
   },
   {
    "duration": 113,
    "start_time": "2023-02-05T13:49:07.961Z"
   },
   {
    "duration": 141,
    "start_time": "2023-02-05T13:52:55.023Z"
   },
   {
    "duration": 149,
    "start_time": "2023-02-05T13:53:35.451Z"
   },
   {
    "duration": 138,
    "start_time": "2023-02-05T13:53:47.253Z"
   },
   {
    "duration": 694,
    "start_time": "2023-02-05T19:26:11.941Z"
   },
   {
    "duration": 136,
    "start_time": "2023-02-05T19:26:12.637Z"
   },
   {
    "duration": 13,
    "start_time": "2023-02-05T19:26:12.775Z"
   },
   {
    "duration": 2009,
    "start_time": "2023-02-05T19:26:12.790Z"
   },
   {
    "duration": 9,
    "start_time": "2023-02-05T19:26:14.801Z"
   },
   {
    "duration": 3,
    "start_time": "2023-02-05T19:26:14.812Z"
   },
   {
    "duration": 5,
    "start_time": "2023-02-05T19:26:14.817Z"
   },
   {
    "duration": 25,
    "start_time": "2023-02-05T19:26:14.823Z"
   },
   {
    "duration": 18,
    "start_time": "2023-02-05T19:26:14.850Z"
   },
   {
    "duration": 6,
    "start_time": "2023-02-05T19:26:14.870Z"
   },
   {
    "duration": 9,
    "start_time": "2023-02-05T19:26:14.877Z"
   },
   {
    "duration": 5,
    "start_time": "2023-02-05T19:26:14.887Z"
   },
   {
    "duration": 8,
    "start_time": "2023-02-05T19:26:14.893Z"
   },
   {
    "duration": 19,
    "start_time": "2023-02-05T19:26:14.902Z"
   },
   {
    "duration": 5,
    "start_time": "2023-02-05T19:26:14.922Z"
   },
   {
    "duration": 29,
    "start_time": "2023-02-05T19:26:14.929Z"
   },
   {
    "duration": 11,
    "start_time": "2023-02-05T19:26:14.960Z"
   },
   {
    "duration": 7,
    "start_time": "2023-02-05T19:26:14.972Z"
   },
   {
    "duration": 4,
    "start_time": "2023-02-05T19:26:14.981Z"
   },
   {
    "duration": 9,
    "start_time": "2023-02-05T19:26:14.986Z"
   },
   {
    "duration": 120,
    "start_time": "2023-02-05T19:26:14.997Z"
   },
   {
    "duration": 78,
    "start_time": "2023-02-05T19:26:15.119Z"
   },
   {
    "duration": 0,
    "start_time": "2023-02-05T19:26:15.200Z"
   },
   {
    "duration": 0,
    "start_time": "2023-02-05T19:26:15.201Z"
   },
   {
    "duration": 0,
    "start_time": "2023-02-05T19:26:15.202Z"
   },
   {
    "duration": 0,
    "start_time": "2023-02-05T19:26:15.203Z"
   },
   {
    "duration": 0,
    "start_time": "2023-02-05T19:26:15.204Z"
   },
   {
    "duration": 0,
    "start_time": "2023-02-05T19:26:15.205Z"
   },
   {
    "duration": 0,
    "start_time": "2023-02-05T19:26:15.206Z"
   },
   {
    "duration": 0,
    "start_time": "2023-02-05T19:26:15.207Z"
   },
   {
    "duration": 0,
    "start_time": "2023-02-05T19:26:15.208Z"
   },
   {
    "duration": 0,
    "start_time": "2023-02-05T19:26:15.209Z"
   },
   {
    "duration": 0,
    "start_time": "2023-02-05T19:26:15.210Z"
   },
   {
    "duration": 0,
    "start_time": "2023-02-05T19:26:15.211Z"
   },
   {
    "duration": 0,
    "start_time": "2023-02-05T19:26:15.212Z"
   },
   {
    "duration": 0,
    "start_time": "2023-02-05T19:26:15.213Z"
   },
   {
    "duration": 0,
    "start_time": "2023-02-05T19:26:15.214Z"
   },
   {
    "duration": 0,
    "start_time": "2023-02-05T19:26:15.215Z"
   },
   {
    "duration": 0,
    "start_time": "2023-02-05T19:26:15.216Z"
   },
   {
    "duration": 0,
    "start_time": "2023-02-05T19:26:15.217Z"
   },
   {
    "duration": 0,
    "start_time": "2023-02-05T19:26:15.217Z"
   },
   {
    "duration": 0,
    "start_time": "2023-02-05T19:26:15.218Z"
   },
   {
    "duration": 0,
    "start_time": "2023-02-05T19:26:15.254Z"
   },
   {
    "duration": 0,
    "start_time": "2023-02-05T19:26:15.256Z"
   },
   {
    "duration": 0,
    "start_time": "2023-02-05T19:26:15.257Z"
   },
   {
    "duration": 0,
    "start_time": "2023-02-05T19:26:15.259Z"
   },
   {
    "duration": 0,
    "start_time": "2023-02-05T19:26:15.260Z"
   },
   {
    "duration": 0,
    "start_time": "2023-02-05T19:26:15.261Z"
   },
   {
    "duration": 0,
    "start_time": "2023-02-05T19:26:15.263Z"
   },
   {
    "duration": 0,
    "start_time": "2023-02-05T19:26:15.264Z"
   },
   {
    "duration": 0,
    "start_time": "2023-02-05T19:26:15.265Z"
   },
   {
    "duration": 0,
    "start_time": "2023-02-05T19:26:15.267Z"
   },
   {
    "duration": 0,
    "start_time": "2023-02-05T19:26:15.268Z"
   },
   {
    "duration": 0,
    "start_time": "2023-02-05T19:26:15.269Z"
   },
   {
    "duration": 0,
    "start_time": "2023-02-05T19:26:15.270Z"
   },
   {
    "duration": 0,
    "start_time": "2023-02-05T19:26:15.271Z"
   },
   {
    "duration": 0,
    "start_time": "2023-02-05T19:26:15.273Z"
   },
   {
    "duration": 0,
    "start_time": "2023-02-05T19:26:15.274Z"
   },
   {
    "duration": 0,
    "start_time": "2023-02-05T19:26:15.276Z"
   },
   {
    "duration": 0,
    "start_time": "2023-02-05T19:26:15.277Z"
   },
   {
    "duration": 0,
    "start_time": "2023-02-05T19:26:15.278Z"
   },
   {
    "duration": 0,
    "start_time": "2023-02-05T19:26:15.279Z"
   },
   {
    "duration": 0,
    "start_time": "2023-02-05T19:26:15.280Z"
   },
   {
    "duration": 0,
    "start_time": "2023-02-05T19:26:15.283Z"
   },
   {
    "duration": 0,
    "start_time": "2023-02-05T19:26:15.285Z"
   },
   {
    "duration": 0,
    "start_time": "2023-02-05T19:26:15.286Z"
   },
   {
    "duration": 0,
    "start_time": "2023-02-05T19:26:15.287Z"
   },
   {
    "duration": 0,
    "start_time": "2023-02-05T19:26:15.288Z"
   },
   {
    "duration": 0,
    "start_time": "2023-02-05T19:26:15.289Z"
   },
   {
    "duration": 0,
    "start_time": "2023-02-05T19:26:15.290Z"
   },
   {
    "duration": 0,
    "start_time": "2023-02-05T19:26:15.292Z"
   },
   {
    "duration": 0,
    "start_time": "2023-02-05T19:26:15.349Z"
   },
   {
    "duration": 0,
    "start_time": "2023-02-05T19:26:15.351Z"
   },
   {
    "duration": 0,
    "start_time": "2023-02-05T19:26:15.352Z"
   },
   {
    "duration": 0,
    "start_time": "2023-02-05T19:26:15.353Z"
   },
   {
    "duration": 0,
    "start_time": "2023-02-05T19:26:15.355Z"
   },
   {
    "duration": 0,
    "start_time": "2023-02-05T19:26:15.356Z"
   },
   {
    "duration": 0,
    "start_time": "2023-02-05T19:26:15.357Z"
   },
   {
    "duration": 0,
    "start_time": "2023-02-05T19:26:15.358Z"
   },
   {
    "duration": 0,
    "start_time": "2023-02-05T19:26:15.360Z"
   },
   {
    "duration": 0,
    "start_time": "2023-02-05T19:26:15.361Z"
   },
   {
    "duration": 0,
    "start_time": "2023-02-05T19:26:15.362Z"
   },
   {
    "duration": 0,
    "start_time": "2023-02-05T19:26:15.364Z"
   },
   {
    "duration": 0,
    "start_time": "2023-02-05T19:26:15.364Z"
   },
   {
    "duration": 0,
    "start_time": "2023-02-05T19:26:15.366Z"
   },
   {
    "duration": 0,
    "start_time": "2023-02-05T19:26:15.368Z"
   },
   {
    "duration": 0,
    "start_time": "2023-02-05T19:26:15.369Z"
   },
   {
    "duration": 0,
    "start_time": "2023-02-05T19:26:15.372Z"
   },
   {
    "duration": 0,
    "start_time": "2023-02-05T19:26:15.373Z"
   },
   {
    "duration": 0,
    "start_time": "2023-02-05T19:26:15.374Z"
   },
   {
    "duration": 0,
    "start_time": "2023-02-05T19:26:15.375Z"
   },
   {
    "duration": 0,
    "start_time": "2023-02-05T19:26:15.377Z"
   },
   {
    "duration": 0,
    "start_time": "2023-02-05T19:26:15.378Z"
   },
   {
    "duration": 0,
    "start_time": "2023-02-05T19:26:15.379Z"
   },
   {
    "duration": 0,
    "start_time": "2023-02-05T19:26:15.381Z"
   },
   {
    "duration": 0,
    "start_time": "2023-02-05T19:26:15.382Z"
   },
   {
    "duration": 0,
    "start_time": "2023-02-05T19:26:15.384Z"
   },
   {
    "duration": 0,
    "start_time": "2023-02-05T19:26:15.385Z"
   },
   {
    "duration": 0,
    "start_time": "2023-02-05T19:26:15.386Z"
   },
   {
    "duration": 0,
    "start_time": "2023-02-05T19:26:15.388Z"
   },
   {
    "duration": 0,
    "start_time": "2023-02-05T19:26:15.389Z"
   },
   {
    "duration": 1,
    "start_time": "2023-02-05T19:26:15.448Z"
   },
   {
    "duration": 0,
    "start_time": "2023-02-05T19:26:15.450Z"
   },
   {
    "duration": 0,
    "start_time": "2023-02-05T19:26:15.451Z"
   },
   {
    "duration": 844,
    "start_time": "2023-02-06T10:15:42.406Z"
   },
   {
    "duration": 359,
    "start_time": "2023-02-06T10:15:43.252Z"
   },
   {
    "duration": 23,
    "start_time": "2023-02-06T10:15:43.614Z"
   },
   {
    "duration": 2229,
    "start_time": "2023-02-06T10:15:43.640Z"
   },
   {
    "duration": 9,
    "start_time": "2023-02-06T10:15:45.871Z"
   },
   {
    "duration": 8,
    "start_time": "2023-02-06T10:15:45.882Z"
   },
   {
    "duration": 18,
    "start_time": "2023-02-06T10:15:45.892Z"
   },
   {
    "duration": 40,
    "start_time": "2023-02-06T10:15:45.912Z"
   },
   {
    "duration": 18,
    "start_time": "2023-02-06T10:15:45.955Z"
   },
   {
    "duration": 18,
    "start_time": "2023-02-06T10:15:45.976Z"
   },
   {
    "duration": 36,
    "start_time": "2023-02-06T10:15:45.996Z"
   },
   {
    "duration": 25,
    "start_time": "2023-02-06T10:15:46.034Z"
   },
   {
    "duration": 30,
    "start_time": "2023-02-06T10:15:46.061Z"
   },
   {
    "duration": 39,
    "start_time": "2023-02-06T10:15:46.093Z"
   },
   {
    "duration": 17,
    "start_time": "2023-02-06T10:15:46.134Z"
   },
   {
    "duration": 19,
    "start_time": "2023-02-06T10:15:46.153Z"
   },
   {
    "duration": 23,
    "start_time": "2023-02-06T10:15:46.176Z"
   },
   {
    "duration": 26,
    "start_time": "2023-02-06T10:15:46.201Z"
   },
   {
    "duration": 14,
    "start_time": "2023-02-06T10:15:46.230Z"
   },
   {
    "duration": 38,
    "start_time": "2023-02-06T10:15:46.246Z"
   },
   {
    "duration": 119,
    "start_time": "2023-02-06T10:15:46.287Z"
   },
   {
    "duration": 80,
    "start_time": "2023-02-06T10:15:46.409Z"
   },
   {
    "duration": 0,
    "start_time": "2023-02-06T10:15:46.493Z"
   },
   {
    "duration": 0,
    "start_time": "2023-02-06T10:15:46.494Z"
   },
   {
    "duration": 0,
    "start_time": "2023-02-06T10:15:46.495Z"
   },
   {
    "duration": 0,
    "start_time": "2023-02-06T10:15:46.497Z"
   },
   {
    "duration": 0,
    "start_time": "2023-02-06T10:15:46.498Z"
   },
   {
    "duration": 0,
    "start_time": "2023-02-06T10:15:46.499Z"
   },
   {
    "duration": 0,
    "start_time": "2023-02-06T10:15:46.500Z"
   },
   {
    "duration": 0,
    "start_time": "2023-02-06T10:15:46.501Z"
   },
   {
    "duration": 0,
    "start_time": "2023-02-06T10:15:46.502Z"
   },
   {
    "duration": 0,
    "start_time": "2023-02-06T10:15:46.503Z"
   },
   {
    "duration": 0,
    "start_time": "2023-02-06T10:15:46.505Z"
   },
   {
    "duration": 0,
    "start_time": "2023-02-06T10:15:46.506Z"
   },
   {
    "duration": 0,
    "start_time": "2023-02-06T10:15:46.508Z"
   },
   {
    "duration": 0,
    "start_time": "2023-02-06T10:15:46.509Z"
   },
   {
    "duration": 0,
    "start_time": "2023-02-06T10:15:46.510Z"
   },
   {
    "duration": 0,
    "start_time": "2023-02-06T10:15:46.512Z"
   },
   {
    "duration": 0,
    "start_time": "2023-02-06T10:15:46.513Z"
   },
   {
    "duration": 0,
    "start_time": "2023-02-06T10:15:46.515Z"
   },
   {
    "duration": 0,
    "start_time": "2023-02-06T10:15:46.516Z"
   },
   {
    "duration": 0,
    "start_time": "2023-02-06T10:15:46.518Z"
   },
   {
    "duration": 0,
    "start_time": "2023-02-06T10:15:46.522Z"
   },
   {
    "duration": 0,
    "start_time": "2023-02-06T10:15:46.523Z"
   },
   {
    "duration": 0,
    "start_time": "2023-02-06T10:15:46.525Z"
   },
   {
    "duration": 0,
    "start_time": "2023-02-06T10:15:46.526Z"
   },
   {
    "duration": 0,
    "start_time": "2023-02-06T10:15:46.581Z"
   },
   {
    "duration": 0,
    "start_time": "2023-02-06T10:15:46.582Z"
   },
   {
    "duration": 0,
    "start_time": "2023-02-06T10:15:46.583Z"
   },
   {
    "duration": 0,
    "start_time": "2023-02-06T10:15:46.584Z"
   },
   {
    "duration": 0,
    "start_time": "2023-02-06T10:15:46.585Z"
   },
   {
    "duration": 0,
    "start_time": "2023-02-06T10:15:46.586Z"
   },
   {
    "duration": 0,
    "start_time": "2023-02-06T10:15:46.588Z"
   },
   {
    "duration": 0,
    "start_time": "2023-02-06T10:15:46.589Z"
   },
   {
    "duration": 0,
    "start_time": "2023-02-06T10:15:46.590Z"
   },
   {
    "duration": 0,
    "start_time": "2023-02-06T10:15:46.591Z"
   },
   {
    "duration": 0,
    "start_time": "2023-02-06T10:15:46.592Z"
   },
   {
    "duration": 0,
    "start_time": "2023-02-06T10:15:46.593Z"
   },
   {
    "duration": 0,
    "start_time": "2023-02-06T10:15:46.594Z"
   },
   {
    "duration": 0,
    "start_time": "2023-02-06T10:15:46.595Z"
   },
   {
    "duration": 0,
    "start_time": "2023-02-06T10:15:46.599Z"
   },
   {
    "duration": 0,
    "start_time": "2023-02-06T10:15:46.600Z"
   },
   {
    "duration": 0,
    "start_time": "2023-02-06T10:15:46.601Z"
   },
   {
    "duration": 0,
    "start_time": "2023-02-06T10:15:46.602Z"
   },
   {
    "duration": 0,
    "start_time": "2023-02-06T10:15:46.603Z"
   },
   {
    "duration": 0,
    "start_time": "2023-02-06T10:15:46.603Z"
   },
   {
    "duration": 0,
    "start_time": "2023-02-06T10:15:46.604Z"
   },
   {
    "duration": 0,
    "start_time": "2023-02-06T10:15:46.605Z"
   },
   {
    "duration": 0,
    "start_time": "2023-02-06T10:15:46.605Z"
   },
   {
    "duration": 0,
    "start_time": "2023-02-06T10:15:46.606Z"
   },
   {
    "duration": 0,
    "start_time": "2023-02-06T10:15:46.607Z"
   },
   {
    "duration": 0,
    "start_time": "2023-02-06T10:15:46.608Z"
   },
   {
    "duration": 0,
    "start_time": "2023-02-06T10:15:46.612Z"
   },
   {
    "duration": 0,
    "start_time": "2023-02-06T10:15:46.613Z"
   },
   {
    "duration": 0,
    "start_time": "2023-02-06T10:15:46.615Z"
   },
   {
    "duration": 0,
    "start_time": "2023-02-06T10:15:46.616Z"
   },
   {
    "duration": 0,
    "start_time": "2023-02-06T10:15:46.618Z"
   },
   {
    "duration": 0,
    "start_time": "2023-02-06T10:15:46.619Z"
   },
   {
    "duration": 0,
    "start_time": "2023-02-06T10:15:46.620Z"
   },
   {
    "duration": 0,
    "start_time": "2023-02-06T10:15:46.622Z"
   },
   {
    "duration": 0,
    "start_time": "2023-02-06T10:15:46.623Z"
   },
   {
    "duration": 0,
    "start_time": "2023-02-06T10:15:46.625Z"
   },
   {
    "duration": 0,
    "start_time": "2023-02-06T10:15:46.682Z"
   },
   {
    "duration": 0,
    "start_time": "2023-02-06T10:15:46.683Z"
   },
   {
    "duration": 0,
    "start_time": "2023-02-06T10:15:46.685Z"
   },
   {
    "duration": 0,
    "start_time": "2023-02-06T10:15:46.686Z"
   },
   {
    "duration": 0,
    "start_time": "2023-02-06T10:15:46.688Z"
   },
   {
    "duration": 0,
    "start_time": "2023-02-06T10:15:46.689Z"
   },
   {
    "duration": 0,
    "start_time": "2023-02-06T10:15:46.691Z"
   },
   {
    "duration": 0,
    "start_time": "2023-02-06T10:15:46.692Z"
   },
   {
    "duration": 0,
    "start_time": "2023-02-06T10:15:46.693Z"
   },
   {
    "duration": 0,
    "start_time": "2023-02-06T10:15:46.695Z"
   },
   {
    "duration": 0,
    "start_time": "2023-02-06T10:15:46.696Z"
   },
   {
    "duration": 0,
    "start_time": "2023-02-06T10:15:46.697Z"
   },
   {
    "duration": 0,
    "start_time": "2023-02-06T10:15:46.699Z"
   },
   {
    "duration": 0,
    "start_time": "2023-02-06T10:15:46.701Z"
   },
   {
    "duration": 0,
    "start_time": "2023-02-06T10:15:46.702Z"
   },
   {
    "duration": 0,
    "start_time": "2023-02-06T10:15:46.704Z"
   },
   {
    "duration": 0,
    "start_time": "2023-02-06T10:15:46.705Z"
   },
   {
    "duration": 0,
    "start_time": "2023-02-06T10:15:46.706Z"
   },
   {
    "duration": 0,
    "start_time": "2023-02-06T10:15:46.707Z"
   },
   {
    "duration": 0,
    "start_time": "2023-02-06T10:15:46.709Z"
   },
   {
    "duration": 0,
    "start_time": "2023-02-06T10:15:46.710Z"
   },
   {
    "duration": 0,
    "start_time": "2023-02-06T10:15:46.711Z"
   },
   {
    "duration": 96,
    "start_time": "2023-02-06T10:18:09.334Z"
   },
   {
    "duration": 10,
    "start_time": "2023-02-06T10:18:09.933Z"
   },
   {
    "duration": 94,
    "start_time": "2023-02-06T10:18:17.973Z"
   },
   {
    "duration": 10,
    "start_time": "2023-02-06T10:18:18.864Z"
   },
   {
    "duration": 93,
    "start_time": "2023-02-06T10:19:23.933Z"
   },
   {
    "duration": 12,
    "start_time": "2023-02-06T10:19:24.504Z"
   },
   {
    "duration": 101,
    "start_time": "2023-02-06T10:19:30.270Z"
   },
   {
    "duration": 12,
    "start_time": "2023-02-06T10:19:30.685Z"
   },
   {
    "duration": 93,
    "start_time": "2023-02-06T10:19:34.431Z"
   },
   {
    "duration": 10,
    "start_time": "2023-02-06T10:19:34.809Z"
   },
   {
    "duration": 110,
    "start_time": "2023-02-06T10:20:04.077Z"
   },
   {
    "duration": 10,
    "start_time": "2023-02-06T10:20:04.888Z"
   },
   {
    "duration": 93,
    "start_time": "2023-02-06T10:20:58.248Z"
   },
   {
    "duration": 8,
    "start_time": "2023-02-06T10:21:00.853Z"
   },
   {
    "duration": 693,
    "start_time": "2023-02-06T10:21:08.948Z"
   },
   {
    "duration": 115,
    "start_time": "2023-02-06T10:21:09.644Z"
   },
   {
    "duration": 24,
    "start_time": "2023-02-06T10:21:09.761Z"
   },
   {
    "duration": 1986,
    "start_time": "2023-02-06T10:21:09.787Z"
   },
   {
    "duration": 11,
    "start_time": "2023-02-06T10:21:11.774Z"
   },
   {
    "duration": 5,
    "start_time": "2023-02-06T10:21:11.787Z"
   },
   {
    "duration": 6,
    "start_time": "2023-02-06T10:21:11.794Z"
   },
   {
    "duration": 15,
    "start_time": "2023-02-06T10:21:11.801Z"
   },
   {
    "duration": 17,
    "start_time": "2023-02-06T10:21:11.818Z"
   },
   {
    "duration": 7,
    "start_time": "2023-02-06T10:21:11.838Z"
   },
   {
    "duration": 22,
    "start_time": "2023-02-06T10:21:11.847Z"
   },
   {
    "duration": 6,
    "start_time": "2023-02-06T10:21:11.871Z"
   },
   {
    "duration": 9,
    "start_time": "2023-02-06T10:21:11.879Z"
   },
   {
    "duration": 16,
    "start_time": "2023-02-06T10:21:11.890Z"
   },
   {
    "duration": 6,
    "start_time": "2023-02-06T10:21:11.908Z"
   },
   {
    "duration": 11,
    "start_time": "2023-02-06T10:21:11.916Z"
   },
   {
    "duration": 11,
    "start_time": "2023-02-06T10:21:11.929Z"
   },
   {
    "duration": 20,
    "start_time": "2023-02-06T10:21:11.942Z"
   },
   {
    "duration": 11,
    "start_time": "2023-02-06T10:21:11.963Z"
   },
   {
    "duration": 20,
    "start_time": "2023-02-06T10:21:11.976Z"
   },
   {
    "duration": 103,
    "start_time": "2023-02-06T10:21:11.997Z"
   },
   {
    "duration": 9,
    "start_time": "2023-02-06T10:21:12.102Z"
   },
   {
    "duration": 85,
    "start_time": "2023-02-06T10:21:12.113Z"
   },
   {
    "duration": 9,
    "start_time": "2023-02-06T10:21:12.200Z"
   },
   {
    "duration": 7,
    "start_time": "2023-02-06T10:21:12.211Z"
   },
   {
    "duration": 9,
    "start_time": "2023-02-06T10:21:12.220Z"
   },
   {
    "duration": 13,
    "start_time": "2023-02-06T10:21:12.231Z"
   },
   {
    "duration": 13,
    "start_time": "2023-02-06T10:21:12.284Z"
   },
   {
    "duration": 32,
    "start_time": "2023-02-06T10:21:12.298Z"
   },
   {
    "duration": 7,
    "start_time": "2023-02-06T10:21:12.332Z"
   },
   {
    "duration": 181,
    "start_time": "2023-02-06T10:21:12.341Z"
   },
   {
    "duration": 149,
    "start_time": "2023-02-06T10:21:12.523Z"
   },
   {
    "duration": 124,
    "start_time": "2023-02-06T10:21:12.680Z"
   },
   {
    "duration": 9,
    "start_time": "2023-02-06T10:21:12.807Z"
   },
   {
    "duration": 22,
    "start_time": "2023-02-06T10:21:12.818Z"
   },
   {
    "duration": 9,
    "start_time": "2023-02-06T10:21:12.842Z"
   },
   {
    "duration": 134,
    "start_time": "2023-02-06T10:21:12.882Z"
   },
   {
    "duration": 122,
    "start_time": "2023-02-06T10:21:13.018Z"
   },
   {
    "duration": 217,
    "start_time": "2023-02-06T10:21:13.142Z"
   },
   {
    "duration": 64,
    "start_time": "2023-02-06T10:21:13.361Z"
   },
   {
    "duration": 9,
    "start_time": "2023-02-06T10:21:13.427Z"
   },
   {
    "duration": 24,
    "start_time": "2023-02-06T10:21:13.437Z"
   },
   {
    "duration": 27,
    "start_time": "2023-02-06T10:21:13.463Z"
   },
   {
    "duration": 11,
    "start_time": "2023-02-06T10:21:13.492Z"
   },
   {
    "duration": 33,
    "start_time": "2023-02-06T10:21:13.505Z"
   },
   {
    "duration": 11,
    "start_time": "2023-02-06T10:21:13.541Z"
   },
   {
    "duration": 141,
    "start_time": "2023-02-06T10:21:13.553Z"
   },
   {
    "duration": 10,
    "start_time": "2023-02-06T10:21:13.696Z"
   },
   {
    "duration": 14,
    "start_time": "2023-02-06T10:21:13.708Z"
   },
   {
    "duration": 10,
    "start_time": "2023-02-06T10:21:13.724Z"
   },
   {
    "duration": 10,
    "start_time": "2023-02-06T10:21:13.735Z"
   },
   {
    "duration": 43,
    "start_time": "2023-02-06T10:21:13.747Z"
   },
   {
    "duration": 165,
    "start_time": "2023-02-06T10:21:13.792Z"
   },
   {
    "duration": 126,
    "start_time": "2023-02-06T10:21:13.959Z"
   },
   {
    "duration": 5,
    "start_time": "2023-02-06T10:21:14.086Z"
   },
   {
    "duration": 21,
    "start_time": "2023-02-06T10:21:14.093Z"
   },
   {
    "duration": 348,
    "start_time": "2023-02-06T10:21:14.115Z"
   },
   {
    "duration": 11,
    "start_time": "2023-02-06T10:21:14.464Z"
   },
   {
    "duration": 3,
    "start_time": "2023-02-06T10:21:14.482Z"
   },
   {
    "duration": 39,
    "start_time": "2023-02-06T10:21:14.487Z"
   },
   {
    "duration": 469,
    "start_time": "2023-02-06T10:21:14.527Z"
   },
   {
    "duration": 244,
    "start_time": "2023-02-06T10:21:14.998Z"
   },
   {
    "duration": 340,
    "start_time": "2023-02-06T10:21:15.243Z"
   },
   {
    "duration": 137,
    "start_time": "2023-02-06T10:21:15.584Z"
   },
   {
    "duration": 284,
    "start_time": "2023-02-06T10:21:15.723Z"
   },
   {
    "duration": 219,
    "start_time": "2023-02-06T10:21:16.009Z"
   },
   {
    "duration": 219,
    "start_time": "2023-02-06T10:21:16.230Z"
   },
   {
    "duration": 137,
    "start_time": "2023-02-06T10:21:16.451Z"
   },
   {
    "duration": 179,
    "start_time": "2023-02-06T10:21:16.590Z"
   },
   {
    "duration": 180,
    "start_time": "2023-02-06T10:21:16.771Z"
   },
   {
    "duration": 10,
    "start_time": "2023-02-06T10:21:16.953Z"
   },
   {
    "duration": 195,
    "start_time": "2023-02-06T10:21:16.965Z"
   },
   {
    "duration": 188,
    "start_time": "2023-02-06T10:21:17.161Z"
   },
   {
    "duration": 281,
    "start_time": "2023-02-06T10:21:17.351Z"
   },
   {
    "duration": 168,
    "start_time": "2023-02-06T10:21:17.634Z"
   },
   {
    "duration": 163,
    "start_time": "2023-02-06T10:21:17.804Z"
   },
   {
    "duration": 20,
    "start_time": "2023-02-06T10:21:17.969Z"
   },
   {
    "duration": 157,
    "start_time": "2023-02-06T10:21:17.990Z"
   },
   {
    "duration": 115,
    "start_time": "2023-02-06T10:21:18.148Z"
   },
   {
    "duration": 211,
    "start_time": "2023-02-06T10:21:18.265Z"
   },
   {
    "duration": 8,
    "start_time": "2023-02-06T10:21:18.477Z"
   },
   {
    "duration": 211,
    "start_time": "2023-02-06T10:21:18.491Z"
   },
   {
    "duration": 5,
    "start_time": "2023-02-06T10:21:18.704Z"
   },
   {
    "duration": 226,
    "start_time": "2023-02-06T10:21:18.710Z"
   },
   {
    "duration": 6,
    "start_time": "2023-02-06T10:21:18.938Z"
   },
   {
    "duration": 236,
    "start_time": "2023-02-06T10:21:18.946Z"
   },
   {
    "duration": 6,
    "start_time": "2023-02-06T10:21:19.184Z"
   },
   {
    "duration": 30,
    "start_time": "2023-02-06T10:21:19.191Z"
   },
   {
    "duration": 190,
    "start_time": "2023-02-06T10:21:19.223Z"
   },
   {
    "duration": 10,
    "start_time": "2023-02-06T10:21:19.415Z"
   },
   {
    "duration": 191,
    "start_time": "2023-02-06T10:21:19.427Z"
   },
   {
    "duration": 14,
    "start_time": "2023-02-06T10:21:19.621Z"
   },
   {
    "duration": 169,
    "start_time": "2023-02-06T10:21:19.637Z"
   },
   {
    "duration": 13,
    "start_time": "2023-02-06T10:21:19.808Z"
   },
   {
    "duration": 153,
    "start_time": "2023-02-06T10:21:19.822Z"
   },
   {
    "duration": 28,
    "start_time": "2023-02-06T10:21:19.981Z"
   },
   {
    "duration": 18,
    "start_time": "2023-02-06T10:21:20.010Z"
   },
   {
    "duration": 30,
    "start_time": "2023-02-06T10:21:20.030Z"
   },
   {
    "duration": 62,
    "start_time": "2023-02-06T10:21:20.062Z"
   },
   {
    "duration": 37,
    "start_time": "2023-02-06T10:21:20.126Z"
   },
   {
    "duration": 50,
    "start_time": "2023-02-06T10:21:20.165Z"
   },
   {
    "duration": 142,
    "start_time": "2023-02-06T10:21:20.217Z"
   },
   {
    "duration": 5,
    "start_time": "2023-02-06T10:21:20.361Z"
   },
   {
    "duration": 688,
    "start_time": "2023-02-06T10:22:33.980Z"
   },
   {
    "duration": 127,
    "start_time": "2023-02-06T10:22:34.670Z"
   },
   {
    "duration": 15,
    "start_time": "2023-02-06T10:22:34.798Z"
   },
   {
    "duration": 2084,
    "start_time": "2023-02-06T10:22:34.817Z"
   },
   {
    "duration": 10,
    "start_time": "2023-02-06T10:22:36.903Z"
   },
   {
    "duration": 4,
    "start_time": "2023-02-06T10:22:36.915Z"
   },
   {
    "duration": 5,
    "start_time": "2023-02-06T10:22:36.921Z"
   },
   {
    "duration": 8,
    "start_time": "2023-02-06T10:22:36.927Z"
   },
   {
    "duration": 11,
    "start_time": "2023-02-06T10:22:36.936Z"
   },
   {
    "duration": 7,
    "start_time": "2023-02-06T10:22:36.950Z"
   },
   {
    "duration": 22,
    "start_time": "2023-02-06T10:22:36.959Z"
   },
   {
    "duration": 3,
    "start_time": "2023-02-06T10:22:36.983Z"
   },
   {
    "duration": 8,
    "start_time": "2023-02-06T10:22:36.988Z"
   },
   {
    "duration": 15,
    "start_time": "2023-02-06T10:22:36.997Z"
   },
   {
    "duration": 5,
    "start_time": "2023-02-06T10:22:37.013Z"
   },
   {
    "duration": 8,
    "start_time": "2023-02-06T10:22:37.019Z"
   },
   {
    "duration": 7,
    "start_time": "2023-02-06T10:22:37.029Z"
   },
   {
    "duration": 9,
    "start_time": "2023-02-06T10:22:37.037Z"
   },
   {
    "duration": 6,
    "start_time": "2023-02-06T10:22:37.047Z"
   },
   {
    "duration": 31,
    "start_time": "2023-02-06T10:22:37.054Z"
   },
   {
    "duration": 100,
    "start_time": "2023-02-06T10:22:37.087Z"
   },
   {
    "duration": 6,
    "start_time": "2023-02-06T10:22:37.189Z"
   },
   {
    "duration": 68,
    "start_time": "2023-02-06T10:22:37.196Z"
   },
   {
    "duration": 17,
    "start_time": "2023-02-06T10:22:37.265Z"
   },
   {
    "duration": 5,
    "start_time": "2023-02-06T10:22:37.284Z"
   },
   {
    "duration": 9,
    "start_time": "2023-02-06T10:22:37.290Z"
   },
   {
    "duration": 7,
    "start_time": "2023-02-06T10:22:37.301Z"
   },
   {
    "duration": 8,
    "start_time": "2023-02-06T10:22:37.312Z"
   },
   {
    "duration": 23,
    "start_time": "2023-02-06T10:22:37.321Z"
   },
   {
    "duration": 40,
    "start_time": "2023-02-06T10:22:37.345Z"
   },
   {
    "duration": 166,
    "start_time": "2023-02-06T10:22:37.387Z"
   },
   {
    "duration": 137,
    "start_time": "2023-02-06T10:22:37.555Z"
   },
   {
    "duration": 127,
    "start_time": "2023-02-06T10:22:37.693Z"
   },
   {
    "duration": 10,
    "start_time": "2023-02-06T10:22:37.821Z"
   },
   {
    "duration": 22,
    "start_time": "2023-02-06T10:22:37.833Z"
   },
   {
    "duration": 30,
    "start_time": "2023-02-06T10:22:37.857Z"
   },
   {
    "duration": 126,
    "start_time": "2023-02-06T10:22:37.888Z"
   },
   {
    "duration": 125,
    "start_time": "2023-02-06T10:22:38.016Z"
   },
   {
    "duration": 219,
    "start_time": "2023-02-06T10:22:38.143Z"
   },
   {
    "duration": 44,
    "start_time": "2023-02-06T10:22:38.364Z"
   },
   {
    "duration": 9,
    "start_time": "2023-02-06T10:22:38.410Z"
   },
   {
    "duration": 21,
    "start_time": "2023-02-06T10:22:38.421Z"
   },
   {
    "duration": 8,
    "start_time": "2023-02-06T10:22:38.444Z"
   },
   {
    "duration": 12,
    "start_time": "2023-02-06T10:22:38.480Z"
   },
   {
    "duration": 23,
    "start_time": "2023-02-06T10:22:38.493Z"
   },
   {
    "duration": 27,
    "start_time": "2023-02-06T10:22:38.517Z"
   },
   {
    "duration": 117,
    "start_time": "2023-02-06T10:22:38.546Z"
   },
   {
    "duration": 20,
    "start_time": "2023-02-06T10:22:38.665Z"
   },
   {
    "duration": 18,
    "start_time": "2023-02-06T10:22:38.687Z"
   },
   {
    "duration": 30,
    "start_time": "2023-02-06T10:22:38.706Z"
   },
   {
    "duration": 21,
    "start_time": "2023-02-06T10:22:38.737Z"
   },
   {
    "duration": 15,
    "start_time": "2023-02-06T10:22:38.760Z"
   },
   {
    "duration": 140,
    "start_time": "2023-02-06T10:22:38.776Z"
   },
   {
    "duration": 107,
    "start_time": "2023-02-06T10:22:38.918Z"
   },
   {
    "duration": 5,
    "start_time": "2023-02-06T10:22:39.027Z"
   },
   {
    "duration": 21,
    "start_time": "2023-02-06T10:22:39.034Z"
   },
   {
    "duration": 329,
    "start_time": "2023-02-06T10:22:39.057Z"
   },
   {
    "duration": 12,
    "start_time": "2023-02-06T10:22:39.387Z"
   },
   {
    "duration": 4,
    "start_time": "2023-02-06T10:22:39.400Z"
   },
   {
    "duration": 41,
    "start_time": "2023-02-06T10:22:39.406Z"
   },
   {
    "duration": 458,
    "start_time": "2023-02-06T10:22:39.449Z"
   },
   {
    "duration": 231,
    "start_time": "2023-02-06T10:22:39.909Z"
   },
   {
    "duration": 351,
    "start_time": "2023-02-06T10:22:40.142Z"
   },
   {
    "duration": 144,
    "start_time": "2023-02-06T10:22:40.496Z"
   },
   {
    "duration": 301,
    "start_time": "2023-02-06T10:22:40.642Z"
   },
   {
    "duration": 232,
    "start_time": "2023-02-06T10:22:40.945Z"
   },
   {
    "duration": 169,
    "start_time": "2023-02-06T10:22:41.180Z"
   },
   {
    "duration": 137,
    "start_time": "2023-02-06T10:22:41.351Z"
   },
   {
    "duration": 179,
    "start_time": "2023-02-06T10:22:41.489Z"
   },
   {
    "duration": 172,
    "start_time": "2023-02-06T10:22:41.670Z"
   },
   {
    "duration": 14,
    "start_time": "2023-02-06T10:22:41.844Z"
   },
   {
    "duration": 180,
    "start_time": "2023-02-06T10:22:41.859Z"
   },
   {
    "duration": 185,
    "start_time": "2023-02-06T10:22:42.040Z"
   },
   {
    "duration": 259,
    "start_time": "2023-02-06T10:22:42.227Z"
   },
   {
    "duration": 160,
    "start_time": "2023-02-06T10:22:42.488Z"
   },
   {
    "duration": 177,
    "start_time": "2023-02-06T10:22:42.650Z"
   },
   {
    "duration": 10,
    "start_time": "2023-02-06T10:22:42.829Z"
   },
   {
    "duration": 140,
    "start_time": "2023-02-06T10:22:42.841Z"
   },
   {
    "duration": 132,
    "start_time": "2023-02-06T10:22:42.983Z"
   },
   {
    "duration": 198,
    "start_time": "2023-02-06T10:22:43.117Z"
   },
   {
    "duration": 6,
    "start_time": "2023-02-06T10:22:43.317Z"
   },
   {
    "duration": 239,
    "start_time": "2023-02-06T10:22:43.330Z"
   },
   {
    "duration": 16,
    "start_time": "2023-02-06T10:22:43.570Z"
   },
   {
    "duration": 204,
    "start_time": "2023-02-06T10:22:43.588Z"
   },
   {
    "duration": 7,
    "start_time": "2023-02-06T10:22:43.794Z"
   },
   {
    "duration": 204,
    "start_time": "2023-02-06T10:22:43.803Z"
   },
   {
    "duration": 7,
    "start_time": "2023-02-06T10:22:44.009Z"
   },
   {
    "duration": 17,
    "start_time": "2023-02-06T10:22:44.018Z"
   },
   {
    "duration": 192,
    "start_time": "2023-02-06T10:22:44.036Z"
   },
   {
    "duration": 11,
    "start_time": "2023-02-06T10:22:44.230Z"
   },
   {
    "duration": 156,
    "start_time": "2023-02-06T10:22:44.243Z"
   },
   {
    "duration": 16,
    "start_time": "2023-02-06T10:22:44.401Z"
   },
   {
    "duration": 170,
    "start_time": "2023-02-06T10:22:44.419Z"
   },
   {
    "duration": 15,
    "start_time": "2023-02-06T10:22:44.591Z"
   },
   {
    "duration": 159,
    "start_time": "2023-02-06T10:22:44.607Z"
   },
   {
    "duration": 36,
    "start_time": "2023-02-06T10:22:44.768Z"
   },
   {
    "duration": 10,
    "start_time": "2023-02-06T10:22:44.806Z"
   },
   {
    "duration": 6,
    "start_time": "2023-02-06T10:22:44.817Z"
   },
   {
    "duration": 15,
    "start_time": "2023-02-06T10:22:44.825Z"
   },
   {
    "duration": 11,
    "start_time": "2023-02-06T10:22:44.842Z"
   },
   {
    "duration": 35,
    "start_time": "2023-02-06T10:22:44.885Z"
   },
   {
    "duration": 175,
    "start_time": "2023-02-06T10:22:44.922Z"
   },
   {
    "duration": 6,
    "start_time": "2023-02-06T10:22:45.099Z"
   },
   {
    "duration": 666,
    "start_time": "2023-02-06T19:46:45.511Z"
   },
   {
    "duration": 120,
    "start_time": "2023-02-06T19:46:46.179Z"
   },
   {
    "duration": 14,
    "start_time": "2023-02-06T19:46:46.300Z"
   },
   {
    "duration": 1992,
    "start_time": "2023-02-06T19:46:46.316Z"
   },
   {
    "duration": 9,
    "start_time": "2023-02-06T19:46:48.309Z"
   },
   {
    "duration": 3,
    "start_time": "2023-02-06T19:46:48.319Z"
   },
   {
    "duration": 8,
    "start_time": "2023-02-06T19:46:48.323Z"
   },
   {
    "duration": 18,
    "start_time": "2023-02-06T19:46:48.332Z"
   },
   {
    "duration": 18,
    "start_time": "2023-02-06T19:46:48.351Z"
   },
   {
    "duration": 5,
    "start_time": "2023-02-06T19:46:48.371Z"
   },
   {
    "duration": 5,
    "start_time": "2023-02-06T19:46:48.378Z"
   },
   {
    "duration": 3,
    "start_time": "2023-02-06T19:46:48.384Z"
   },
   {
    "duration": 6,
    "start_time": "2023-02-06T19:46:48.388Z"
   },
   {
    "duration": 19,
    "start_time": "2023-02-06T19:46:48.395Z"
   },
   {
    "duration": 6,
    "start_time": "2023-02-06T19:46:48.415Z"
   },
   {
    "duration": 41,
    "start_time": "2023-02-06T19:46:48.422Z"
   },
   {
    "duration": 8,
    "start_time": "2023-02-06T19:46:48.465Z"
   },
   {
    "duration": 8,
    "start_time": "2023-02-06T19:46:48.475Z"
   },
   {
    "duration": 6,
    "start_time": "2023-02-06T19:46:48.485Z"
   },
   {
    "duration": 9,
    "start_time": "2023-02-06T19:46:48.492Z"
   },
   {
    "duration": 119,
    "start_time": "2023-02-06T19:46:48.502Z"
   },
   {
    "duration": 7,
    "start_time": "2023-02-06T19:46:48.622Z"
   },
   {
    "duration": 227,
    "start_time": "2023-02-06T19:46:48.631Z"
   },
   {
    "duration": 8,
    "start_time": "2023-02-06T19:46:48.860Z"
   },
   {
    "duration": 5,
    "start_time": "2023-02-06T19:46:48.870Z"
   },
   {
    "duration": 9,
    "start_time": "2023-02-06T19:46:48.876Z"
   },
   {
    "duration": 7,
    "start_time": "2023-02-06T19:46:48.886Z"
   },
   {
    "duration": 8,
    "start_time": "2023-02-06T19:46:48.897Z"
   },
   {
    "duration": 56,
    "start_time": "2023-02-06T19:46:48.906Z"
   },
   {
    "duration": 5,
    "start_time": "2023-02-06T19:46:48.964Z"
   },
   {
    "duration": 140,
    "start_time": "2023-02-06T19:46:48.971Z"
   },
   {
    "duration": 128,
    "start_time": "2023-02-06T19:46:49.113Z"
   },
   {
    "duration": 121,
    "start_time": "2023-02-06T19:46:49.249Z"
   },
   {
    "duration": 8,
    "start_time": "2023-02-06T19:46:49.372Z"
   },
   {
    "duration": 24,
    "start_time": "2023-02-06T19:46:49.381Z"
   },
   {
    "duration": 7,
    "start_time": "2023-02-06T19:46:49.406Z"
   },
   {
    "duration": 133,
    "start_time": "2023-02-06T19:46:49.415Z"
   },
   {
    "duration": 118,
    "start_time": "2023-02-06T19:46:49.550Z"
   },
   {
    "duration": 192,
    "start_time": "2023-02-06T19:46:49.670Z"
   },
   {
    "duration": 30,
    "start_time": "2023-02-06T19:46:49.864Z"
   },
   {
    "duration": 8,
    "start_time": "2023-02-06T19:46:49.896Z"
   },
   {
    "duration": 24,
    "start_time": "2023-02-06T19:46:49.906Z"
   },
   {
    "duration": 10,
    "start_time": "2023-02-06T19:46:49.947Z"
   },
   {
    "duration": 16,
    "start_time": "2023-02-06T19:46:49.963Z"
   },
   {
    "duration": 18,
    "start_time": "2023-02-06T19:46:49.980Z"
   },
   {
    "duration": 11,
    "start_time": "2023-02-06T19:46:49.999Z"
   },
   {
    "duration": 115,
    "start_time": "2023-02-06T19:46:50.012Z"
   },
   {
    "duration": 23,
    "start_time": "2023-02-06T19:46:50.129Z"
   },
   {
    "duration": 10,
    "start_time": "2023-02-06T19:46:50.154Z"
   },
   {
    "duration": 12,
    "start_time": "2023-02-06T19:46:50.169Z"
   },
   {
    "duration": 8,
    "start_time": "2023-02-06T19:46:50.183Z"
   },
   {
    "duration": 8,
    "start_time": "2023-02-06T19:46:50.192Z"
   },
   {
    "duration": 137,
    "start_time": "2023-02-06T19:46:50.201Z"
   },
   {
    "duration": 103,
    "start_time": "2023-02-06T19:46:50.340Z"
   },
   {
    "duration": 10,
    "start_time": "2023-02-06T19:46:50.449Z"
   },
   {
    "duration": 15,
    "start_time": "2023-02-06T19:46:50.464Z"
   },
   {
    "duration": 306,
    "start_time": "2023-02-06T19:46:50.480Z"
   },
   {
    "duration": 10,
    "start_time": "2023-02-06T19:46:50.788Z"
   },
   {
    "duration": 7,
    "start_time": "2023-02-06T19:46:50.800Z"
   },
   {
    "duration": 51,
    "start_time": "2023-02-06T19:46:50.809Z"
   },
   {
    "duration": 419,
    "start_time": "2023-02-06T19:46:50.862Z"
   },
   {
    "duration": 234,
    "start_time": "2023-02-06T19:46:51.283Z"
   },
   {
    "duration": 307,
    "start_time": "2023-02-06T19:46:51.519Z"
   },
   {
    "duration": 138,
    "start_time": "2023-02-06T19:46:51.828Z"
   },
   {
    "duration": 248,
    "start_time": "2023-02-06T19:46:51.968Z"
   },
   {
    "duration": 183,
    "start_time": "2023-02-06T19:46:52.218Z"
   },
   {
    "duration": 140,
    "start_time": "2023-02-06T19:46:52.403Z"
   },
   {
    "duration": 120,
    "start_time": "2023-02-06T19:46:52.549Z"
   },
   {
    "duration": 158,
    "start_time": "2023-02-06T19:46:52.671Z"
   },
   {
    "duration": 162,
    "start_time": "2023-02-06T19:46:52.831Z"
   },
   {
    "duration": 9,
    "start_time": "2023-02-06T19:46:52.994Z"
   },
   {
    "duration": 161,
    "start_time": "2023-02-06T19:46:53.005Z"
   },
   {
    "duration": 162,
    "start_time": "2023-02-06T19:46:53.168Z"
   },
   {
    "duration": 264,
    "start_time": "2023-02-06T19:46:53.332Z"
   },
   {
    "duration": 153,
    "start_time": "2023-02-06T19:46:53.598Z"
   },
   {
    "duration": 132,
    "start_time": "2023-02-06T19:46:53.755Z"
   },
   {
    "duration": 10,
    "start_time": "2023-02-06T19:46:53.889Z"
   },
   {
    "duration": 133,
    "start_time": "2023-02-06T19:46:53.901Z"
   },
   {
    "duration": 125,
    "start_time": "2023-02-06T19:46:54.035Z"
   },
   {
    "duration": 192,
    "start_time": "2023-02-06T19:46:54.165Z"
   },
   {
    "duration": 5,
    "start_time": "2023-02-06T19:46:54.362Z"
   },
   {
    "duration": 191,
    "start_time": "2023-02-06T19:46:54.373Z"
   },
   {
    "duration": 6,
    "start_time": "2023-02-06T19:46:54.565Z"
   },
   {
    "duration": 192,
    "start_time": "2023-02-06T19:46:54.573Z"
   },
   {
    "duration": 5,
    "start_time": "2023-02-06T19:46:54.766Z"
   },
   {
    "duration": 196,
    "start_time": "2023-02-06T19:46:54.772Z"
   },
   {
    "duration": 5,
    "start_time": "2023-02-06T19:46:54.970Z"
   },
   {
    "duration": 14,
    "start_time": "2023-02-06T19:46:54.976Z"
   },
   {
    "duration": 181,
    "start_time": "2023-02-06T19:46:54.992Z"
   },
   {
    "duration": 10,
    "start_time": "2023-02-06T19:46:55.175Z"
   },
   {
    "duration": 197,
    "start_time": "2023-02-06T19:46:55.186Z"
   },
   {
    "duration": 17,
    "start_time": "2023-02-06T19:46:55.385Z"
   },
   {
    "duration": 162,
    "start_time": "2023-02-06T19:46:55.404Z"
   },
   {
    "duration": 13,
    "start_time": "2023-02-06T19:46:55.568Z"
   },
   {
    "duration": 145,
    "start_time": "2023-02-06T19:46:55.583Z"
   },
   {
    "duration": 41,
    "start_time": "2023-02-06T19:46:55.730Z"
   },
   {
    "duration": 11,
    "start_time": "2023-02-06T19:46:55.772Z"
   },
   {
    "duration": 15,
    "start_time": "2023-02-06T19:46:55.785Z"
   },
   {
    "duration": 10,
    "start_time": "2023-02-06T19:46:55.802Z"
   },
   {
    "duration": 12,
    "start_time": "2023-02-06T19:46:55.814Z"
   },
   {
    "duration": 36,
    "start_time": "2023-02-06T19:46:55.828Z"
   },
   {
    "duration": 167,
    "start_time": "2023-02-06T19:46:55.866Z"
   },
   {
    "duration": 5,
    "start_time": "2023-02-06T19:46:56.035Z"
   },
   {
    "duration": 6,
    "start_time": "2023-02-06T19:48:06.494Z"
   },
   {
    "duration": 13,
    "start_time": "2023-02-06T19:48:28.913Z"
   },
   {
    "duration": 90,
    "start_time": "2023-02-06T19:48:33.473Z"
   },
   {
    "duration": 43,
    "start_time": "2023-02-07T23:40:40.097Z"
   },
   {
    "duration": 6,
    "start_time": "2023-02-07T23:40:43.960Z"
   },
   {
    "duration": 809,
    "start_time": "2023-02-07T23:40:48.983Z"
   },
   {
    "duration": 722,
    "start_time": "2023-02-07T23:40:49.793Z"
   },
   {
    "duration": 14,
    "start_time": "2023-02-07T23:40:50.517Z"
   },
   {
    "duration": 1815,
    "start_time": "2023-02-07T23:40:50.533Z"
   },
   {
    "duration": 10,
    "start_time": "2023-02-07T23:40:52.350Z"
   },
   {
    "duration": 4,
    "start_time": "2023-02-07T23:40:52.361Z"
   },
   {
    "duration": 14,
    "start_time": "2023-02-07T23:40:52.366Z"
   },
   {
    "duration": 7,
    "start_time": "2023-02-07T23:40:52.381Z"
   },
   {
    "duration": 13,
    "start_time": "2023-02-07T23:40:52.389Z"
   },
   {
    "duration": 5,
    "start_time": "2023-02-07T23:40:52.405Z"
   },
   {
    "duration": 8,
    "start_time": "2023-02-07T23:40:52.412Z"
   },
   {
    "duration": 4,
    "start_time": "2023-02-07T23:40:52.421Z"
   },
   {
    "duration": 6,
    "start_time": "2023-02-07T23:40:52.426Z"
   },
   {
    "duration": 14,
    "start_time": "2023-02-07T23:40:52.433Z"
   },
   {
    "duration": 21,
    "start_time": "2023-02-07T23:40:52.449Z"
   },
   {
    "duration": 7,
    "start_time": "2023-02-07T23:40:52.471Z"
   },
   {
    "duration": 7,
    "start_time": "2023-02-07T23:40:52.480Z"
   },
   {
    "duration": 6,
    "start_time": "2023-02-07T23:40:52.489Z"
   },
   {
    "duration": 5,
    "start_time": "2023-02-07T23:40:52.496Z"
   },
   {
    "duration": 7,
    "start_time": "2023-02-07T23:40:52.503Z"
   },
   {
    "duration": 116,
    "start_time": "2023-02-07T23:40:52.512Z"
   },
   {
    "duration": 7,
    "start_time": "2023-02-07T23:40:52.629Z"
   },
   {
    "duration": 78,
    "start_time": "2023-02-07T23:40:52.637Z"
   },
   {
    "duration": 8,
    "start_time": "2023-02-07T23:40:52.717Z"
   },
   {
    "duration": 5,
    "start_time": "2023-02-07T23:40:52.727Z"
   },
   {
    "duration": 8,
    "start_time": "2023-02-07T23:40:52.733Z"
   },
   {
    "duration": 31,
    "start_time": "2023-02-07T23:40:52.742Z"
   },
   {
    "duration": 8,
    "start_time": "2023-02-07T23:40:52.776Z"
   },
   {
    "duration": 18,
    "start_time": "2023-02-07T23:40:52.786Z"
   },
   {
    "duration": 6,
    "start_time": "2023-02-07T23:40:52.806Z"
   },
   {
    "duration": 155,
    "start_time": "2023-02-07T23:40:52.814Z"
   },
   {
    "duration": 129,
    "start_time": "2023-02-07T23:40:52.971Z"
   },
   {
    "duration": 119,
    "start_time": "2023-02-07T23:40:53.102Z"
   },
   {
    "duration": 8,
    "start_time": "2023-02-07T23:40:53.222Z"
   },
   {
    "duration": 18,
    "start_time": "2023-02-07T23:40:53.232Z"
   },
   {
    "duration": 8,
    "start_time": "2023-02-07T23:40:53.267Z"
   },
   {
    "duration": 120,
    "start_time": "2023-02-07T23:40:53.276Z"
   },
   {
    "duration": 109,
    "start_time": "2023-02-07T23:40:53.397Z"
   },
   {
    "duration": 186,
    "start_time": "2023-02-07T23:40:53.507Z"
   },
   {
    "duration": 32,
    "start_time": "2023-02-07T23:40:53.695Z"
   },
   {
    "duration": 8,
    "start_time": "2023-02-07T23:40:53.729Z"
   },
   {
    "duration": 36,
    "start_time": "2023-02-07T23:40:53.738Z"
   },
   {
    "duration": 7,
    "start_time": "2023-02-07T23:40:53.776Z"
   },
   {
    "duration": 15,
    "start_time": "2023-02-07T23:40:53.784Z"
   },
   {
    "duration": 19,
    "start_time": "2023-02-07T23:40:53.800Z"
   },
   {
    "duration": 8,
    "start_time": "2023-02-07T23:40:53.821Z"
   },
   {
    "duration": 116,
    "start_time": "2023-02-07T23:40:53.831Z"
   },
   {
    "duration": 9,
    "start_time": "2023-02-07T23:40:53.948Z"
   },
   {
    "duration": 7,
    "start_time": "2023-02-07T23:40:53.968Z"
   },
   {
    "duration": 8,
    "start_time": "2023-02-07T23:40:53.977Z"
   },
   {
    "duration": 8,
    "start_time": "2023-02-07T23:40:53.986Z"
   },
   {
    "duration": 7,
    "start_time": "2023-02-07T23:40:53.995Z"
   },
   {
    "duration": 131,
    "start_time": "2023-02-07T23:40:54.003Z"
   },
   {
    "duration": 114,
    "start_time": "2023-02-07T23:40:54.136Z"
   },
   {
    "duration": 15,
    "start_time": "2023-02-07T23:40:54.252Z"
   },
   {
    "duration": 74,
    "start_time": "2023-02-07T23:40:54.268Z"
   },
   {
    "duration": 0,
    "start_time": "2023-02-07T23:40:54.343Z"
   },
   {
    "duration": 0,
    "start_time": "2023-02-07T23:40:54.344Z"
   },
   {
    "duration": 0,
    "start_time": "2023-02-07T23:40:54.345Z"
   },
   {
    "duration": 0,
    "start_time": "2023-02-07T23:40:54.346Z"
   },
   {
    "duration": 0,
    "start_time": "2023-02-07T23:40:54.347Z"
   },
   {
    "duration": 0,
    "start_time": "2023-02-07T23:40:54.367Z"
   },
   {
    "duration": 0,
    "start_time": "2023-02-07T23:40:54.368Z"
   },
   {
    "duration": 0,
    "start_time": "2023-02-07T23:40:54.369Z"
   },
   {
    "duration": 0,
    "start_time": "2023-02-07T23:40:54.371Z"
   },
   {
    "duration": 0,
    "start_time": "2023-02-07T23:40:54.372Z"
   },
   {
    "duration": 0,
    "start_time": "2023-02-07T23:40:54.372Z"
   },
   {
    "duration": 0,
    "start_time": "2023-02-07T23:40:54.374Z"
   },
   {
    "duration": 0,
    "start_time": "2023-02-07T23:40:54.375Z"
   },
   {
    "duration": 0,
    "start_time": "2023-02-07T23:40:54.376Z"
   },
   {
    "duration": 0,
    "start_time": "2023-02-07T23:40:54.377Z"
   },
   {
    "duration": 0,
    "start_time": "2023-02-07T23:40:54.378Z"
   },
   {
    "duration": 0,
    "start_time": "2023-02-07T23:40:54.379Z"
   },
   {
    "duration": 0,
    "start_time": "2023-02-07T23:40:54.380Z"
   },
   {
    "duration": 0,
    "start_time": "2023-02-07T23:40:54.381Z"
   },
   {
    "duration": 0,
    "start_time": "2023-02-07T23:40:54.382Z"
   },
   {
    "duration": 0,
    "start_time": "2023-02-07T23:40:54.383Z"
   },
   {
    "duration": 0,
    "start_time": "2023-02-07T23:40:54.384Z"
   },
   {
    "duration": 0,
    "start_time": "2023-02-07T23:40:54.385Z"
   },
   {
    "duration": 0,
    "start_time": "2023-02-07T23:40:54.386Z"
   },
   {
    "duration": 0,
    "start_time": "2023-02-07T23:40:54.387Z"
   },
   {
    "duration": 0,
    "start_time": "2023-02-07T23:40:54.388Z"
   },
   {
    "duration": 0,
    "start_time": "2023-02-07T23:40:54.388Z"
   },
   {
    "duration": 0,
    "start_time": "2023-02-07T23:40:54.389Z"
   },
   {
    "duration": 0,
    "start_time": "2023-02-07T23:40:54.390Z"
   },
   {
    "duration": 0,
    "start_time": "2023-02-07T23:40:54.391Z"
   },
   {
    "duration": 0,
    "start_time": "2023-02-07T23:40:54.392Z"
   },
   {
    "duration": 0,
    "start_time": "2023-02-07T23:40:54.393Z"
   },
   {
    "duration": 0,
    "start_time": "2023-02-07T23:40:54.394Z"
   },
   {
    "duration": 0,
    "start_time": "2023-02-07T23:40:54.395Z"
   },
   {
    "duration": 0,
    "start_time": "2023-02-07T23:40:54.396Z"
   },
   {
    "duration": 0,
    "start_time": "2023-02-07T23:40:54.397Z"
   },
   {
    "duration": 0,
    "start_time": "2023-02-07T23:40:54.398Z"
   },
   {
    "duration": 0,
    "start_time": "2023-02-07T23:40:54.399Z"
   },
   {
    "duration": 0,
    "start_time": "2023-02-07T23:40:54.400Z"
   },
   {
    "duration": 0,
    "start_time": "2023-02-07T23:40:54.401Z"
   },
   {
    "duration": 0,
    "start_time": "2023-02-07T23:40:54.402Z"
   },
   {
    "duration": 0,
    "start_time": "2023-02-07T23:40:54.403Z"
   },
   {
    "duration": 0,
    "start_time": "2023-02-07T23:40:54.404Z"
   },
   {
    "duration": 0,
    "start_time": "2023-02-07T23:40:54.405Z"
   },
   {
    "duration": 0,
    "start_time": "2023-02-07T23:40:54.406Z"
   },
   {
    "duration": 0,
    "start_time": "2023-02-07T23:40:54.468Z"
   },
   {
    "duration": 0,
    "start_time": "2023-02-07T23:40:54.469Z"
   },
   {
    "duration": 0,
    "start_time": "2023-02-07T23:40:54.470Z"
   },
   {
    "duration": 0,
    "start_time": "2023-02-07T23:40:54.470Z"
   },
   {
    "duration": 12,
    "start_time": "2023-02-07T23:42:06.718Z"
   },
   {
    "duration": 96,
    "start_time": "2023-02-07T23:42:07.804Z"
   },
   {
    "duration": 8,
    "start_time": "2023-02-07T23:42:53.506Z"
   },
   {
    "duration": 9,
    "start_time": "2023-02-07T23:42:54.382Z"
   },
   {
    "duration": 19,
    "start_time": "2023-02-07T23:42:55.258Z"
   },
   {
    "duration": 625,
    "start_time": "2023-02-07T23:43:32.022Z"
   },
   {
    "duration": 116,
    "start_time": "2023-02-07T23:43:32.649Z"
   },
   {
    "duration": 17,
    "start_time": "2023-02-07T23:43:32.767Z"
   },
   {
    "duration": 1969,
    "start_time": "2023-02-07T23:43:32.787Z"
   },
   {
    "duration": 9,
    "start_time": "2023-02-07T23:43:34.758Z"
   },
   {
    "duration": 5,
    "start_time": "2023-02-07T23:43:34.769Z"
   },
   {
    "duration": 6,
    "start_time": "2023-02-07T23:43:34.776Z"
   },
   {
    "duration": 7,
    "start_time": "2023-02-07T23:43:34.783Z"
   },
   {
    "duration": 15,
    "start_time": "2023-02-07T23:43:34.793Z"
   },
   {
    "duration": 10,
    "start_time": "2023-02-07T23:43:34.812Z"
   },
   {
    "duration": 15,
    "start_time": "2023-02-07T23:43:34.824Z"
   },
   {
    "duration": 10,
    "start_time": "2023-02-07T23:43:34.840Z"
   },
   {
    "duration": 19,
    "start_time": "2023-02-07T23:43:34.852Z"
   },
   {
    "duration": 20,
    "start_time": "2023-02-07T23:43:34.874Z"
   },
   {
    "duration": 5,
    "start_time": "2023-02-07T23:43:34.896Z"
   },
   {
    "duration": 8,
    "start_time": "2023-02-07T23:43:34.903Z"
   },
   {
    "duration": 5,
    "start_time": "2023-02-07T23:43:34.912Z"
   },
   {
    "duration": 8,
    "start_time": "2023-02-07T23:43:34.919Z"
   },
   {
    "duration": 5,
    "start_time": "2023-02-07T23:43:34.929Z"
   },
   {
    "duration": 34,
    "start_time": "2023-02-07T23:43:34.936Z"
   },
   {
    "duration": 116,
    "start_time": "2023-02-07T23:43:34.972Z"
   },
   {
    "duration": 7,
    "start_time": "2023-02-07T23:43:35.090Z"
   },
   {
    "duration": 78,
    "start_time": "2023-02-07T23:43:35.098Z"
   },
   {
    "duration": 8,
    "start_time": "2023-02-07T23:43:35.177Z"
   },
   {
    "duration": 5,
    "start_time": "2023-02-07T23:43:35.187Z"
   },
   {
    "duration": 8,
    "start_time": "2023-02-07T23:43:35.193Z"
   },
   {
    "duration": 7,
    "start_time": "2023-02-07T23:43:35.202Z"
   },
   {
    "duration": 8,
    "start_time": "2023-02-07T23:43:35.213Z"
   },
   {
    "duration": 55,
    "start_time": "2023-02-07T23:43:35.222Z"
   },
   {
    "duration": 6,
    "start_time": "2023-02-07T23:43:35.279Z"
   },
   {
    "duration": 148,
    "start_time": "2023-02-07T23:43:35.287Z"
   },
   {
    "duration": 120,
    "start_time": "2023-02-07T23:43:35.436Z"
   },
   {
    "duration": 113,
    "start_time": "2023-02-07T23:43:35.557Z"
   },
   {
    "duration": 8,
    "start_time": "2023-02-07T23:43:35.672Z"
   },
   {
    "duration": 7,
    "start_time": "2023-02-07T23:43:35.682Z"
   },
   {
    "duration": 19,
    "start_time": "2023-02-07T23:43:35.690Z"
   },
   {
    "duration": 6,
    "start_time": "2023-02-07T23:43:35.711Z"
   },
   {
    "duration": 131,
    "start_time": "2023-02-07T23:43:35.719Z"
   },
   {
    "duration": 15,
    "start_time": "2023-02-07T23:43:35.852Z"
   },
   {
    "duration": 100,
    "start_time": "2023-02-07T23:43:35.868Z"
   },
   {
    "duration": 191,
    "start_time": "2023-02-07T23:43:35.970Z"
   },
   {
    "duration": 34,
    "start_time": "2023-02-07T23:43:36.166Z"
   },
   {
    "duration": 8,
    "start_time": "2023-02-07T23:43:36.201Z"
   },
   {
    "duration": 115,
    "start_time": "2023-02-07T23:43:36.211Z"
   },
   {
    "duration": 6,
    "start_time": "2023-02-07T23:43:36.328Z"
   },
   {
    "duration": 10,
    "start_time": "2023-02-07T23:43:36.335Z"
   },
   {
    "duration": 33,
    "start_time": "2023-02-07T23:43:36.347Z"
   },
   {
    "duration": 12,
    "start_time": "2023-02-07T23:43:36.382Z"
   },
   {
    "duration": 8,
    "start_time": "2023-02-07T23:43:36.396Z"
   },
   {
    "duration": 7,
    "start_time": "2023-02-07T23:43:36.406Z"
   },
   {
    "duration": 8,
    "start_time": "2023-02-07T23:43:36.415Z"
   },
   {
    "duration": 7,
    "start_time": "2023-02-07T23:43:36.424Z"
   },
   {
    "duration": 40,
    "start_time": "2023-02-07T23:43:36.433Z"
   },
   {
    "duration": 7,
    "start_time": "2023-02-07T23:43:36.475Z"
   },
   {
    "duration": 123,
    "start_time": "2023-02-07T23:43:36.483Z"
   },
   {
    "duration": 101,
    "start_time": "2023-02-07T23:43:36.608Z"
   },
   {
    "duration": 9,
    "start_time": "2023-02-07T23:43:36.710Z"
   },
   {
    "duration": 7,
    "start_time": "2023-02-07T23:43:36.720Z"
   },
   {
    "duration": 19,
    "start_time": "2023-02-07T23:43:36.728Z"
   },
   {
    "duration": 305,
    "start_time": "2023-02-07T23:43:36.749Z"
   },
   {
    "duration": 20,
    "start_time": "2023-02-07T23:43:37.056Z"
   },
   {
    "duration": 6,
    "start_time": "2023-02-07T23:43:37.077Z"
   },
   {
    "duration": 38,
    "start_time": "2023-02-07T23:43:37.085Z"
   },
   {
    "duration": 475,
    "start_time": "2023-02-07T23:43:37.125Z"
   },
   {
    "duration": 223,
    "start_time": "2023-02-07T23:43:37.602Z"
   },
   {
    "duration": 311,
    "start_time": "2023-02-07T23:43:37.827Z"
   },
   {
    "duration": 128,
    "start_time": "2023-02-07T23:43:38.140Z"
   },
   {
    "duration": 225,
    "start_time": "2023-02-07T23:43:38.270Z"
   },
   {
    "duration": 169,
    "start_time": "2023-02-07T23:43:38.497Z"
   },
   {
    "duration": 133,
    "start_time": "2023-02-07T23:43:38.668Z"
   },
   {
    "duration": 128,
    "start_time": "2023-02-07T23:43:38.803Z"
   },
   {
    "duration": 149,
    "start_time": "2023-02-07T23:43:38.933Z"
   },
   {
    "duration": 149,
    "start_time": "2023-02-07T23:43:39.084Z"
   },
   {
    "duration": 10,
    "start_time": "2023-02-07T23:43:39.235Z"
   },
   {
    "duration": 176,
    "start_time": "2023-02-07T23:43:39.246Z"
   },
   {
    "duration": 163,
    "start_time": "2023-02-07T23:43:39.423Z"
   },
   {
    "duration": 246,
    "start_time": "2023-02-07T23:43:39.587Z"
   },
   {
    "duration": 145,
    "start_time": "2023-02-07T23:43:39.835Z"
   },
   {
    "duration": 140,
    "start_time": "2023-02-07T23:43:39.981Z"
   },
   {
    "duration": 9,
    "start_time": "2023-02-07T23:43:40.122Z"
   },
   {
    "duration": 121,
    "start_time": "2023-02-07T23:43:40.132Z"
   },
   {
    "duration": 111,
    "start_time": "2023-02-07T23:43:40.267Z"
   },
   {
    "duration": 178,
    "start_time": "2023-02-07T23:43:40.380Z"
   },
   {
    "duration": 6,
    "start_time": "2023-02-07T23:43:40.566Z"
   },
   {
    "duration": 184,
    "start_time": "2023-02-07T23:43:40.573Z"
   },
   {
    "duration": 12,
    "start_time": "2023-02-07T23:43:40.758Z"
   },
   {
    "duration": 172,
    "start_time": "2023-02-07T23:43:40.772Z"
   },
   {
    "duration": 5,
    "start_time": "2023-02-07T23:43:40.946Z"
   },
   {
    "duration": 177,
    "start_time": "2023-02-07T23:43:40.952Z"
   },
   {
    "duration": 5,
    "start_time": "2023-02-07T23:43:41.131Z"
   },
   {
    "duration": 13,
    "start_time": "2023-02-07T23:43:41.138Z"
   },
   {
    "duration": 154,
    "start_time": "2023-02-07T23:43:41.167Z"
   },
   {
    "duration": 9,
    "start_time": "2023-02-07T23:43:41.323Z"
   },
   {
    "duration": 138,
    "start_time": "2023-02-07T23:43:41.334Z"
   },
   {
    "duration": 14,
    "start_time": "2023-02-07T23:43:41.474Z"
   },
   {
    "duration": 146,
    "start_time": "2023-02-07T23:43:41.489Z"
   },
   {
    "duration": 13,
    "start_time": "2023-02-07T23:43:41.637Z"
   },
   {
    "duration": 151,
    "start_time": "2023-02-07T23:43:41.652Z"
   },
   {
    "duration": 24,
    "start_time": "2023-02-07T23:43:41.805Z"
   },
   {
    "duration": 9,
    "start_time": "2023-02-07T23:43:41.831Z"
   },
   {
    "duration": 26,
    "start_time": "2023-02-07T23:43:41.841Z"
   },
   {
    "duration": 8,
    "start_time": "2023-02-07T23:43:41.869Z"
   },
   {
    "duration": 12,
    "start_time": "2023-02-07T23:43:41.878Z"
   },
   {
    "duration": 23,
    "start_time": "2023-02-07T23:43:41.891Z"
   },
   {
    "duration": 160,
    "start_time": "2023-02-07T23:43:41.916Z"
   },
   {
    "duration": 6,
    "start_time": "2023-02-07T23:43:42.077Z"
   },
   {
    "duration": 193,
    "start_time": "2023-02-07T23:46:00.958Z"
   },
   {
    "duration": 276,
    "start_time": "2023-02-07T23:48:13.863Z"
   },
   {
    "duration": 227,
    "start_time": "2023-02-07T23:49:57.851Z"
   },
   {
    "duration": 176,
    "start_time": "2023-02-07T23:50:06.969Z"
   },
   {
    "duration": 136,
    "start_time": "2023-02-07T23:50:31.736Z"
   },
   {
    "duration": 117,
    "start_time": "2023-02-07T23:50:41.318Z"
   },
   {
    "duration": 152,
    "start_time": "2023-02-07T23:50:56.362Z"
   },
   {
    "duration": 132,
    "start_time": "2023-02-07T23:51:01.796Z"
   },
   {
    "duration": 164,
    "start_time": "2023-02-07T23:51:08.211Z"
   },
   {
    "duration": 140,
    "start_time": "2023-02-07T23:52:14.255Z"
   },
   {
    "duration": 205,
    "start_time": "2023-02-07T23:52:39.264Z"
   },
   {
    "duration": 6,
    "start_time": "2023-02-07T23:53:37.426Z"
   },
   {
    "duration": 71,
    "start_time": "2023-02-07T23:54:01.980Z"
   },
   {
    "duration": 38,
    "start_time": "2023-02-07T23:54:05.619Z"
   },
   {
    "duration": 624,
    "start_time": "2023-02-08T19:18:31.388Z"
   },
   {
    "duration": 112,
    "start_time": "2023-02-08T19:18:32.014Z"
   },
   {
    "duration": 16,
    "start_time": "2023-02-08T19:18:32.127Z"
   },
   {
    "duration": 1869,
    "start_time": "2023-02-08T19:18:32.148Z"
   },
   {
    "duration": 11,
    "start_time": "2023-02-08T19:18:34.019Z"
   },
   {
    "duration": 17,
    "start_time": "2023-02-08T19:18:34.032Z"
   },
   {
    "duration": 5,
    "start_time": "2023-02-08T19:18:34.050Z"
   },
   {
    "duration": 6,
    "start_time": "2023-02-08T19:18:34.057Z"
   },
   {
    "duration": 19,
    "start_time": "2023-02-08T19:18:34.064Z"
   },
   {
    "duration": 5,
    "start_time": "2023-02-08T19:18:34.086Z"
   },
   {
    "duration": 8,
    "start_time": "2023-02-08T19:18:34.093Z"
   },
   {
    "duration": 3,
    "start_time": "2023-02-08T19:18:34.102Z"
   },
   {
    "duration": 20,
    "start_time": "2023-02-08T19:18:34.106Z"
   },
   {
    "duration": 26,
    "start_time": "2023-02-08T19:18:34.128Z"
   },
   {
    "duration": 5,
    "start_time": "2023-02-08T19:18:34.155Z"
   },
   {
    "duration": 7,
    "start_time": "2023-02-08T19:18:34.162Z"
   },
   {
    "duration": 14,
    "start_time": "2023-02-08T19:18:34.170Z"
   },
   {
    "duration": 17,
    "start_time": "2023-02-08T19:18:34.185Z"
   },
   {
    "duration": 20,
    "start_time": "2023-02-08T19:18:34.203Z"
   },
   {
    "duration": 14,
    "start_time": "2023-02-08T19:18:34.225Z"
   },
   {
    "duration": 119,
    "start_time": "2023-02-08T19:18:34.240Z"
   },
   {
    "duration": 7,
    "start_time": "2023-02-08T19:18:34.361Z"
   },
   {
    "duration": 71,
    "start_time": "2023-02-08T19:18:34.369Z"
   },
   {
    "duration": 12,
    "start_time": "2023-02-08T19:18:34.441Z"
   },
   {
    "duration": 9,
    "start_time": "2023-02-08T19:18:34.454Z"
   },
   {
    "duration": 13,
    "start_time": "2023-02-08T19:18:34.464Z"
   },
   {
    "duration": 17,
    "start_time": "2023-02-08T19:18:34.479Z"
   },
   {
    "duration": 8,
    "start_time": "2023-02-08T19:18:34.500Z"
   },
   {
    "duration": 23,
    "start_time": "2023-02-08T19:18:34.509Z"
   },
   {
    "duration": 14,
    "start_time": "2023-02-08T19:18:34.534Z"
   },
   {
    "duration": 164,
    "start_time": "2023-02-08T19:18:34.550Z"
   },
   {
    "duration": 121,
    "start_time": "2023-02-08T19:18:34.716Z"
   },
   {
    "duration": 105,
    "start_time": "2023-02-08T19:18:34.848Z"
   },
   {
    "duration": 8,
    "start_time": "2023-02-08T19:18:34.954Z"
   },
   {
    "duration": 8,
    "start_time": "2023-02-08T19:18:34.964Z"
   },
   {
    "duration": 20,
    "start_time": "2023-02-08T19:18:34.973Z"
   },
   {
    "duration": 7,
    "start_time": "2023-02-08T19:18:34.995Z"
   },
   {
    "duration": 146,
    "start_time": "2023-02-08T19:18:35.004Z"
   },
   {
    "duration": 6,
    "start_time": "2023-02-08T19:18:35.151Z"
   },
   {
    "duration": 108,
    "start_time": "2023-02-08T19:18:35.159Z"
   },
   {
    "duration": 257,
    "start_time": "2023-02-08T19:18:35.269Z"
   },
   {
    "duration": 38,
    "start_time": "2023-02-08T19:18:35.527Z"
   },
   {
    "duration": 8,
    "start_time": "2023-02-08T19:18:35.566Z"
   },
   {
    "duration": 27,
    "start_time": "2023-02-08T19:18:35.575Z"
   },
   {
    "duration": 6,
    "start_time": "2023-02-08T19:18:35.603Z"
   },
   {
    "duration": 11,
    "start_time": "2023-02-08T19:18:35.610Z"
   },
   {
    "duration": 37,
    "start_time": "2023-02-08T19:18:35.622Z"
   },
   {
    "duration": 9,
    "start_time": "2023-02-08T19:18:35.661Z"
   },
   {
    "duration": 8,
    "start_time": "2023-02-08T19:18:35.672Z"
   },
   {
    "duration": 9,
    "start_time": "2023-02-08T19:18:35.682Z"
   },
   {
    "duration": 8,
    "start_time": "2023-02-08T19:18:35.693Z"
   },
   {
    "duration": 46,
    "start_time": "2023-02-08T19:18:35.703Z"
   },
   {
    "duration": 9,
    "start_time": "2023-02-08T19:18:35.751Z"
   },
   {
    "duration": 7,
    "start_time": "2023-02-08T19:18:35.762Z"
   },
   {
    "duration": 127,
    "start_time": "2023-02-08T19:18:35.770Z"
   },
   {
    "duration": 99,
    "start_time": "2023-02-08T19:18:35.898Z"
   },
   {
    "duration": 8,
    "start_time": "2023-02-08T19:18:35.998Z"
   },
   {
    "duration": 4,
    "start_time": "2023-02-08T19:18:36.007Z"
   },
   {
    "duration": 12,
    "start_time": "2023-02-08T19:18:36.013Z"
   },
   {
    "duration": 316,
    "start_time": "2023-02-08T19:18:36.026Z"
   },
   {
    "duration": 15,
    "start_time": "2023-02-08T19:18:36.344Z"
   },
   {
    "duration": 7,
    "start_time": "2023-02-08T19:18:36.361Z"
   },
   {
    "duration": 55,
    "start_time": "2023-02-08T19:18:36.370Z"
   },
   {
    "duration": 209,
    "start_time": "2023-02-08T19:18:36.427Z"
   },
   {
    "duration": 155,
    "start_time": "2023-02-08T19:18:36.638Z"
   },
   {
    "duration": 262,
    "start_time": "2023-02-08T19:18:36.794Z"
   },
   {
    "duration": 160,
    "start_time": "2023-02-08T19:18:37.057Z"
   },
   {
    "duration": 272,
    "start_time": "2023-02-08T19:18:37.218Z"
   },
   {
    "duration": 177,
    "start_time": "2023-02-08T19:18:37.492Z"
   },
   {
    "duration": 145,
    "start_time": "2023-02-08T19:18:37.671Z"
   },
   {
    "duration": 132,
    "start_time": "2023-02-08T19:18:37.818Z"
   },
   {
    "duration": 141,
    "start_time": "2023-02-08T19:18:37.951Z"
   },
   {
    "duration": 149,
    "start_time": "2023-02-08T19:18:38.093Z"
   },
   {
    "duration": 10,
    "start_time": "2023-02-08T19:18:38.244Z"
   },
   {
    "duration": 157,
    "start_time": "2023-02-08T19:18:38.256Z"
   },
   {
    "duration": 157,
    "start_time": "2023-02-08T19:18:38.414Z"
   },
   {
    "duration": 182,
    "start_time": "2023-02-08T19:18:38.573Z"
   },
   {
    "duration": 142,
    "start_time": "2023-02-08T19:18:38.757Z"
   },
   {
    "duration": 220,
    "start_time": "2023-02-08T19:18:38.901Z"
   },
   {
    "duration": 9,
    "start_time": "2023-02-08T19:18:39.123Z"
   },
   {
    "duration": 130,
    "start_time": "2023-02-08T19:18:39.134Z"
   },
   {
    "duration": 119,
    "start_time": "2023-02-08T19:18:39.270Z"
   },
   {
    "duration": 185,
    "start_time": "2023-02-08T19:18:39.391Z"
   },
   {
    "duration": 6,
    "start_time": "2023-02-08T19:18:39.577Z"
   },
   {
    "duration": 192,
    "start_time": "2023-02-08T19:18:39.584Z"
   },
   {
    "duration": 7,
    "start_time": "2023-02-08T19:18:39.778Z"
   },
   {
    "duration": 188,
    "start_time": "2023-02-08T19:18:39.787Z"
   },
   {
    "duration": 5,
    "start_time": "2023-02-08T19:18:39.976Z"
   },
   {
    "duration": 185,
    "start_time": "2023-02-08T19:18:39.982Z"
   },
   {
    "duration": 5,
    "start_time": "2023-02-08T19:18:40.168Z"
   },
   {
    "duration": 30,
    "start_time": "2023-02-08T19:18:40.174Z"
   },
   {
    "duration": 149,
    "start_time": "2023-02-08T19:18:40.206Z"
   },
   {
    "duration": 9,
    "start_time": "2023-02-08T19:18:40.357Z"
   },
   {
    "duration": 137,
    "start_time": "2023-02-08T19:18:40.368Z"
   },
   {
    "duration": 12,
    "start_time": "2023-02-08T19:18:40.507Z"
   },
   {
    "duration": 153,
    "start_time": "2023-02-08T19:18:40.520Z"
   },
   {
    "duration": 14,
    "start_time": "2023-02-08T19:18:40.675Z"
   },
   {
    "duration": 159,
    "start_time": "2023-02-08T19:18:40.691Z"
   },
   {
    "duration": 25,
    "start_time": "2023-02-08T19:18:40.851Z"
   },
   {
    "duration": 10,
    "start_time": "2023-02-08T19:18:40.877Z"
   },
   {
    "duration": 3,
    "start_time": "2023-02-08T19:18:40.888Z"
   },
   {
    "duration": 12,
    "start_time": "2023-02-08T19:18:40.893Z"
   },
   {
    "duration": 21,
    "start_time": "2023-02-08T19:18:40.906Z"
   },
   {
    "duration": 37,
    "start_time": "2023-02-08T19:18:40.929Z"
   },
   {
    "duration": 142,
    "start_time": "2023-02-08T19:18:40.968Z"
   },
   {
    "duration": 7,
    "start_time": "2023-02-08T19:18:41.111Z"
   },
   {
    "duration": 14,
    "start_time": "2023-02-08T19:18:52.521Z"
   },
   {
    "duration": 81,
    "start_time": "2023-02-08T19:18:55.853Z"
   }
  ],
  "kernelspec": {
   "display_name": "Python 3 (ipykernel)",
   "language": "python",
   "name": "python3"
  },
  "language_info": {
   "codemirror_mode": {
    "name": "ipython",
    "version": 3
   },
   "file_extension": ".py",
   "mimetype": "text/x-python",
   "name": "python",
   "nbconvert_exporter": "python",
   "pygments_lexer": "ipython3",
   "version": "3.9.5"
  },
  "toc": {
   "base_numbering": 1,
   "nav_menu": {},
   "number_sections": true,
   "sideBar": true,
   "skip_h1_title": true,
   "title_cell": "Table of Contents",
   "title_sidebar": "Contents",
   "toc_cell": false,
   "toc_position": {},
   "toc_section_display": true,
   "toc_window_display": false
  }
 },
 "nbformat": 4,
 "nbformat_minor": 2
}
