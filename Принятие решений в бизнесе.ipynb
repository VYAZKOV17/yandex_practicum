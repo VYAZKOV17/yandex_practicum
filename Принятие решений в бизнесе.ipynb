{
 "cells": [
  {
   "cell_type": "markdown",
   "id": "2ae63a15",
   "metadata": {},
   "source": [
    "# ПРИНЯТИЕ РЕШЕНИЙ В БИЗНЕСЕ"
   ]
  },
  {
   "cell_type": "markdown",
   "id": "6ef393d6",
   "metadata": {},
   "source": [
    "**Цель проекта**\n",
    "\n",
    "Необходимость приоритизировать гипотезы из списка гипотез, предоставленных отделом Маркетинга;\n",
    "\n",
    "Анализа результатов проведенного А/В-тестирования и аргументация решения по результатам теста.\n",
    "\n",
    "Варианты решений:\n",
    "1. Остановить тест, зафиксировать победу одной из групп.\n",
    "2. Остановить тест, зафиксировать отсутствие различий между группами.\n",
    "3. Продолжить тест."
   ]
  },
  {
   "cell_type": "markdown",
   "id": "86e81f83",
   "metadata": {},
   "source": [
    "**Описание данных**"
   ]
  },
  {
   "cell_type": "markdown",
   "id": "5bffcea9",
   "metadata": {},
   "source": [
    "**Данные для первой части**"
   ]
  },
  {
   "cell_type": "markdown",
   "id": "038fb1a6",
   "metadata": {},
   "source": [
    "\n",
    "Файл /datasets/hypothesis.csv.\n",
    "- Hypothesis — краткое описание гипотезы;\n",
    "- Reach — охват пользователей по 10-балльной шкале;\n",
    "- Impact — влияние на пользователей по 10-балльной шкале;\n",
    "- Confidence — уверенность в гипотезе по 10-балльной шкале;\n",
    "- Efforts — затраты ресурсов на проверку гипотезы по 10-балльной шкале. Чем больше значение Efforts, тем дороже проверка гипотезы."
   ]
  },
  {
   "cell_type": "markdown",
   "id": "47700ed6",
   "metadata": {},
   "source": [
    "**Данные для второй части**\n"
   ]
  },
  {
   "cell_type": "markdown",
   "id": "5712e0aa",
   "metadata": {},
   "source": [
    "\n",
    "Файл /datasets/orders.csv. \n",
    "- transactionId — идентификатор заказа;\n",
    "- visitorId — идентификатор пользователя, совершившего заказ;\n",
    "- date — дата, когда был совершён заказ;\n",
    "- revenue — выручка заказа;\n",
    "- group — группа A/B-теста, в которую попал заказ.\n"
   ]
  },
  {
   "cell_type": "markdown",
   "id": "78a9b824",
   "metadata": {},
   "source": [
    "Файл /datasets/visitors.csv. \n",
    "- date — дата;\n",
    "- group — группа A/B-теста;\n",
    "- visitors — количество пользователей в указанную дату в указанной группе A/B-теста"
   ]
  },
  {
   "cell_type": "markdown",
   "id": "c26cd381",
   "metadata": {},
   "source": [
    "**Часть 1. Приоритизация гипотез.**\n"
   ]
  },
  {
   "cell_type": "markdown",
   "id": "6bba1236",
   "metadata": {},
   "source": [
    "**Задача**\n",
    "- Примените фреймворк ICE для приоритизации гипотез. Отсортируйте их по убыванию приоритета.\n",
    "- Примените фреймворк RICE для приоритизации гипотез. Отсортируйте их по убыванию приоритета.\n",
    "- Укажите, как изменилась приоритизация гипотез при применении RICE вместо ICE. Объясните, почему так произошло."
   ]
  },
  {
   "cell_type": "markdown",
   "id": "e81cf102",
   "metadata": {},
   "source": [
    "Для начала познакомимся с данными и откроем файлы, изучим данные\n",
    "\n"
   ]
  },
  {
   "cell_type": "code",
   "execution_count": 1,
   "id": "9db74407",
   "metadata": {},
   "outputs": [],
   "source": [
    "import pandas as pd\n",
    "import numpy as np\n",
    "import matplotlib.pyplot as plt\n",
    "import seaborn as sns\n",
    "import math\n",
    "import datetime as dt\n",
    "import warnings\n",
    "plt.rcParams[\"figure.figsize\"] = (8,6)\n",
    "from scipy import stats as st"
   ]
  },
  {
   "cell_type": "code",
   "execution_count": 2,
   "id": "b17617fa",
   "metadata": {},
   "outputs": [
    {
     "name": "stdout",
     "output_type": "stream",
     "text": [
      "<class 'pandas.core.frame.DataFrame'>\n",
      "RangeIndex: 9 entries, 0 to 8\n",
      "Data columns (total 5 columns):\n",
      " #   Column      Non-Null Count  Dtype \n",
      "---  ------      --------------  ----- \n",
      " 0   Hypothesis  9 non-null      object\n",
      " 1   Reach       9 non-null      int64 \n",
      " 2   Impact      9 non-null      int64 \n",
      " 3   Confidence  9 non-null      int64 \n",
      " 4   Efforts     9 non-null      int64 \n",
      "dtypes: int64(4), object(1)\n",
      "memory usage: 488.0+ bytes\n"
     ]
    },
    {
     "data": {
      "text/html": [
       "<div>\n",
       "<style scoped>\n",
       "    .dataframe tbody tr th:only-of-type {\n",
       "        vertical-align: middle;\n",
       "    }\n",
       "\n",
       "    .dataframe tbody tr th {\n",
       "        vertical-align: top;\n",
       "    }\n",
       "\n",
       "    .dataframe thead th {\n",
       "        text-align: right;\n",
       "    }\n",
       "</style>\n",
       "<table border=\"1\" class=\"dataframe\">\n",
       "  <thead>\n",
       "    <tr style=\"text-align: right;\">\n",
       "      <th></th>\n",
       "      <th>Hypothesis</th>\n",
       "      <th>Reach</th>\n",
       "      <th>Impact</th>\n",
       "      <th>Confidence</th>\n",
       "      <th>Efforts</th>\n",
       "    </tr>\n",
       "  </thead>\n",
       "  <tbody>\n",
       "    <tr>\n",
       "      <th>0</th>\n",
       "      <td>Добавить два новых канала привлечения трафика, что позволит привлекать на 30% больше пользователей</td>\n",
       "      <td>3</td>\n",
       "      <td>10</td>\n",
       "      <td>8</td>\n",
       "      <td>6</td>\n",
       "    </tr>\n",
       "    <tr>\n",
       "      <th>1</th>\n",
       "      <td>Запустить собственную службу доставки, что сократит срок доставки заказов</td>\n",
       "      <td>2</td>\n",
       "      <td>5</td>\n",
       "      <td>4</td>\n",
       "      <td>10</td>\n",
       "    </tr>\n",
       "    <tr>\n",
       "      <th>2</th>\n",
       "      <td>Добавить блоки рекомендаций товаров на сайт интернет магазина, чтобы повысить конверсию и средний чек заказа</td>\n",
       "      <td>8</td>\n",
       "      <td>3</td>\n",
       "      <td>7</td>\n",
       "      <td>3</td>\n",
       "    </tr>\n",
       "    <tr>\n",
       "      <th>3</th>\n",
       "      <td>Изменить структура категорий, что увеличит конверсию, т.к. пользователи быстрее найдут нужный товар</td>\n",
       "      <td>8</td>\n",
       "      <td>3</td>\n",
       "      <td>3</td>\n",
       "      <td>8</td>\n",
       "    </tr>\n",
       "    <tr>\n",
       "      <th>4</th>\n",
       "      <td>Изменить цвет фона главной страницы, чтобы увеличить вовлеченность пользователей</td>\n",
       "      <td>3</td>\n",
       "      <td>1</td>\n",
       "      <td>1</td>\n",
       "      <td>1</td>\n",
       "    </tr>\n",
       "    <tr>\n",
       "      <th>5</th>\n",
       "      <td>Добавить страницу отзывов клиентов о магазине, что позволит увеличить количество заказов</td>\n",
       "      <td>3</td>\n",
       "      <td>2</td>\n",
       "      <td>2</td>\n",
       "      <td>3</td>\n",
       "    </tr>\n",
       "    <tr>\n",
       "      <th>6</th>\n",
       "      <td>Показать на главной странице баннеры с актуальными акциями и распродажами, чтобы увеличить конверсию</td>\n",
       "      <td>5</td>\n",
       "      <td>3</td>\n",
       "      <td>8</td>\n",
       "      <td>3</td>\n",
       "    </tr>\n",
       "    <tr>\n",
       "      <th>7</th>\n",
       "      <td>Добавить форму подписки на все основные страницы, чтобы собрать базу клиентов для email-рассылок</td>\n",
       "      <td>10</td>\n",
       "      <td>7</td>\n",
       "      <td>8</td>\n",
       "      <td>5</td>\n",
       "    </tr>\n",
       "    <tr>\n",
       "      <th>8</th>\n",
       "      <td>Запустить акцию, дающую скидку на товар в день рождения</td>\n",
       "      <td>1</td>\n",
       "      <td>9</td>\n",
       "      <td>9</td>\n",
       "      <td>5</td>\n",
       "    </tr>\n",
       "  </tbody>\n",
       "</table>\n",
       "</div>"
      ],
      "text/plain": [
       "                                                                                                     Hypothesis  \\\n",
       "0            Добавить два новых канала привлечения трафика, что позволит привлекать на 30% больше пользователей   \n",
       "1                                     Запустить собственную службу доставки, что сократит срок доставки заказов   \n",
       "2  Добавить блоки рекомендаций товаров на сайт интернет магазина, чтобы повысить конверсию и средний чек заказа   \n",
       "3           Изменить структура категорий, что увеличит конверсию, т.к. пользователи быстрее найдут нужный товар   \n",
       "4                              Изменить цвет фона главной страницы, чтобы увеличить вовлеченность пользователей   \n",
       "5                      Добавить страницу отзывов клиентов о магазине, что позволит увеличить количество заказов   \n",
       "6          Показать на главной странице баннеры с актуальными акциями и распродажами, чтобы увеличить конверсию   \n",
       "7              Добавить форму подписки на все основные страницы, чтобы собрать базу клиентов для email-рассылок   \n",
       "8                                                       Запустить акцию, дающую скидку на товар в день рождения   \n",
       "\n",
       "   Reach  Impact  Confidence  Efforts  \n",
       "0      3      10           8        6  \n",
       "1      2       5           4       10  \n",
       "2      8       3           7        3  \n",
       "3      8       3           3        8  \n",
       "4      3       1           1        1  \n",
       "5      3       2           2        3  \n",
       "6      5       3           8        3  \n",
       "7     10       7           8        5  \n",
       "8      1       9           9        5  "
      ]
     },
     "execution_count": 2,
     "metadata": {},
     "output_type": "execute_result"
    }
   ],
   "source": [
    "hypothesis = pd.read_csv('/datasets/hypothesis.csv')\n",
    "pd.options.display.max_colwidth = 150\n",
    "hypothesis.info()\n",
    "hypothesis"
   ]
  },
  {
   "cell_type": "code",
   "execution_count": 3,
   "id": "c715a479",
   "metadata": {},
   "outputs": [
    {
     "name": "stdout",
     "output_type": "stream",
     "text": [
      "<class 'pandas.core.frame.DataFrame'>\n",
      "RangeIndex: 1197 entries, 0 to 1196\n",
      "Data columns (total 5 columns):\n",
      " #   Column         Non-Null Count  Dtype \n",
      "---  ------         --------------  ----- \n",
      " 0   transactionId  1197 non-null   int64 \n",
      " 1   visitorId      1197 non-null   int64 \n",
      " 2   date           1197 non-null   object\n",
      " 3   revenue        1197 non-null   int64 \n",
      " 4   group          1197 non-null   object\n",
      "dtypes: int64(3), object(2)\n",
      "memory usage: 46.9+ KB\n"
     ]
    },
    {
     "data": {
      "text/html": [
       "<div>\n",
       "<style scoped>\n",
       "    .dataframe tbody tr th:only-of-type {\n",
       "        vertical-align: middle;\n",
       "    }\n",
       "\n",
       "    .dataframe tbody tr th {\n",
       "        vertical-align: top;\n",
       "    }\n",
       "\n",
       "    .dataframe thead th {\n",
       "        text-align: right;\n",
       "    }\n",
       "</style>\n",
       "<table border=\"1\" class=\"dataframe\">\n",
       "  <thead>\n",
       "    <tr style=\"text-align: right;\">\n",
       "      <th></th>\n",
       "      <th>transactionId</th>\n",
       "      <th>visitorId</th>\n",
       "      <th>date</th>\n",
       "      <th>revenue</th>\n",
       "      <th>group</th>\n",
       "    </tr>\n",
       "  </thead>\n",
       "  <tbody>\n",
       "    <tr>\n",
       "      <th>0</th>\n",
       "      <td>3667963787</td>\n",
       "      <td>3312258926</td>\n",
       "      <td>2019-08-15</td>\n",
       "      <td>1650</td>\n",
       "      <td>B</td>\n",
       "    </tr>\n",
       "    <tr>\n",
       "      <th>1</th>\n",
       "      <td>2804400009</td>\n",
       "      <td>3642806036</td>\n",
       "      <td>2019-08-15</td>\n",
       "      <td>730</td>\n",
       "      <td>B</td>\n",
       "    </tr>\n",
       "    <tr>\n",
       "      <th>2</th>\n",
       "      <td>2961555356</td>\n",
       "      <td>4069496402</td>\n",
       "      <td>2019-08-15</td>\n",
       "      <td>400</td>\n",
       "      <td>A</td>\n",
       "    </tr>\n",
       "    <tr>\n",
       "      <th>3</th>\n",
       "      <td>3797467345</td>\n",
       "      <td>1196621759</td>\n",
       "      <td>2019-08-15</td>\n",
       "      <td>9759</td>\n",
       "      <td>B</td>\n",
       "    </tr>\n",
       "    <tr>\n",
       "      <th>4</th>\n",
       "      <td>2282983706</td>\n",
       "      <td>2322279887</td>\n",
       "      <td>2019-08-15</td>\n",
       "      <td>2308</td>\n",
       "      <td>B</td>\n",
       "    </tr>\n",
       "    <tr>\n",
       "      <th>...</th>\n",
       "      <td>...</td>\n",
       "      <td>...</td>\n",
       "      <td>...</td>\n",
       "      <td>...</td>\n",
       "      <td>...</td>\n",
       "    </tr>\n",
       "    <tr>\n",
       "      <th>1192</th>\n",
       "      <td>2662137336</td>\n",
       "      <td>3733762160</td>\n",
       "      <td>2019-08-14</td>\n",
       "      <td>6490</td>\n",
       "      <td>B</td>\n",
       "    </tr>\n",
       "    <tr>\n",
       "      <th>1193</th>\n",
       "      <td>2203539145</td>\n",
       "      <td>370388673</td>\n",
       "      <td>2019-08-14</td>\n",
       "      <td>3190</td>\n",
       "      <td>A</td>\n",
       "    </tr>\n",
       "    <tr>\n",
       "      <th>1194</th>\n",
       "      <td>1807773912</td>\n",
       "      <td>573423106</td>\n",
       "      <td>2019-08-14</td>\n",
       "      <td>10550</td>\n",
       "      <td>A</td>\n",
       "    </tr>\n",
       "    <tr>\n",
       "      <th>1195</th>\n",
       "      <td>1947021204</td>\n",
       "      <td>1614305549</td>\n",
       "      <td>2019-08-14</td>\n",
       "      <td>100</td>\n",
       "      <td>A</td>\n",
       "    </tr>\n",
       "    <tr>\n",
       "      <th>1196</th>\n",
       "      <td>3936777065</td>\n",
       "      <td>2108080724</td>\n",
       "      <td>2019-08-15</td>\n",
       "      <td>202740</td>\n",
       "      <td>B</td>\n",
       "    </tr>\n",
       "  </tbody>\n",
       "</table>\n",
       "<p>1197 rows × 5 columns</p>\n",
       "</div>"
      ],
      "text/plain": [
       "      transactionId   visitorId        date  revenue group\n",
       "0        3667963787  3312258926  2019-08-15     1650     B\n",
       "1        2804400009  3642806036  2019-08-15      730     B\n",
       "2        2961555356  4069496402  2019-08-15      400     A\n",
       "3        3797467345  1196621759  2019-08-15     9759     B\n",
       "4        2282983706  2322279887  2019-08-15     2308     B\n",
       "...             ...         ...         ...      ...   ...\n",
       "1192     2662137336  3733762160  2019-08-14     6490     B\n",
       "1193     2203539145   370388673  2019-08-14     3190     A\n",
       "1194     1807773912   573423106  2019-08-14    10550     A\n",
       "1195     1947021204  1614305549  2019-08-14      100     A\n",
       "1196     3936777065  2108080724  2019-08-15   202740     B\n",
       "\n",
       "[1197 rows x 5 columns]"
      ]
     },
     "execution_count": 3,
     "metadata": {},
     "output_type": "execute_result"
    }
   ],
   "source": [
    "orders = pd.read_csv('/datasets/orders.csv')\n",
    "orders.info()\n",
    "orders"
   ]
  },
  {
   "cell_type": "code",
   "execution_count": 4,
   "id": "f52dec63",
   "metadata": {},
   "outputs": [
    {
     "name": "stdout",
     "output_type": "stream",
     "text": [
      "<class 'pandas.core.frame.DataFrame'>\n",
      "RangeIndex: 62 entries, 0 to 61\n",
      "Data columns (total 3 columns):\n",
      " #   Column    Non-Null Count  Dtype \n",
      "---  ------    --------------  ----- \n",
      " 0   date      62 non-null     object\n",
      " 1   group     62 non-null     object\n",
      " 2   visitors  62 non-null     int64 \n",
      "dtypes: int64(1), object(2)\n",
      "memory usage: 1.6+ KB\n"
     ]
    },
    {
     "data": {
      "text/html": [
       "<div>\n",
       "<style scoped>\n",
       "    .dataframe tbody tr th:only-of-type {\n",
       "        vertical-align: middle;\n",
       "    }\n",
       "\n",
       "    .dataframe tbody tr th {\n",
       "        vertical-align: top;\n",
       "    }\n",
       "\n",
       "    .dataframe thead th {\n",
       "        text-align: right;\n",
       "    }\n",
       "</style>\n",
       "<table border=\"1\" class=\"dataframe\">\n",
       "  <thead>\n",
       "    <tr style=\"text-align: right;\">\n",
       "      <th></th>\n",
       "      <th>date</th>\n",
       "      <th>group</th>\n",
       "      <th>visitors</th>\n",
       "    </tr>\n",
       "  </thead>\n",
       "  <tbody>\n",
       "    <tr>\n",
       "      <th>0</th>\n",
       "      <td>2019-08-01</td>\n",
       "      <td>A</td>\n",
       "      <td>719</td>\n",
       "    </tr>\n",
       "    <tr>\n",
       "      <th>1</th>\n",
       "      <td>2019-08-02</td>\n",
       "      <td>A</td>\n",
       "      <td>619</td>\n",
       "    </tr>\n",
       "    <tr>\n",
       "      <th>2</th>\n",
       "      <td>2019-08-03</td>\n",
       "      <td>A</td>\n",
       "      <td>507</td>\n",
       "    </tr>\n",
       "    <tr>\n",
       "      <th>3</th>\n",
       "      <td>2019-08-04</td>\n",
       "      <td>A</td>\n",
       "      <td>717</td>\n",
       "    </tr>\n",
       "    <tr>\n",
       "      <th>4</th>\n",
       "      <td>2019-08-05</td>\n",
       "      <td>A</td>\n",
       "      <td>756</td>\n",
       "    </tr>\n",
       "    <tr>\n",
       "      <th>...</th>\n",
       "      <td>...</td>\n",
       "      <td>...</td>\n",
       "      <td>...</td>\n",
       "    </tr>\n",
       "    <tr>\n",
       "      <th>57</th>\n",
       "      <td>2019-08-27</td>\n",
       "      <td>B</td>\n",
       "      <td>720</td>\n",
       "    </tr>\n",
       "    <tr>\n",
       "      <th>58</th>\n",
       "      <td>2019-08-28</td>\n",
       "      <td>B</td>\n",
       "      <td>654</td>\n",
       "    </tr>\n",
       "    <tr>\n",
       "      <th>59</th>\n",
       "      <td>2019-08-29</td>\n",
       "      <td>B</td>\n",
       "      <td>531</td>\n",
       "    </tr>\n",
       "    <tr>\n",
       "      <th>60</th>\n",
       "      <td>2019-08-30</td>\n",
       "      <td>B</td>\n",
       "      <td>490</td>\n",
       "    </tr>\n",
       "    <tr>\n",
       "      <th>61</th>\n",
       "      <td>2019-08-31</td>\n",
       "      <td>B</td>\n",
       "      <td>718</td>\n",
       "    </tr>\n",
       "  </tbody>\n",
       "</table>\n",
       "<p>62 rows × 3 columns</p>\n",
       "</div>"
      ],
      "text/plain": [
       "          date group  visitors\n",
       "0   2019-08-01     A       719\n",
       "1   2019-08-02     A       619\n",
       "2   2019-08-03     A       507\n",
       "3   2019-08-04     A       717\n",
       "4   2019-08-05     A       756\n",
       "..         ...   ...       ...\n",
       "57  2019-08-27     B       720\n",
       "58  2019-08-28     B       654\n",
       "59  2019-08-29     B       531\n",
       "60  2019-08-30     B       490\n",
       "61  2019-08-31     B       718\n",
       "\n",
       "[62 rows x 3 columns]"
      ]
     },
     "execution_count": 4,
     "metadata": {},
     "output_type": "execute_result"
    }
   ],
   "source": [
    "visitors = pd.read_csv('/datasets/visitors.csv')\n",
    "visitors.info()\n",
    "visitors"
   ]
  },
  {
   "cell_type": "markdown",
   "id": "a6d55a60",
   "metadata": {},
   "source": [
    "Мы посмотрели таблицы с данными. Пропусков не обнаружено, но в столбцах с датой нужно изменить тип данных\n"
   ]
  },
  {
   "cell_type": "markdown",
   "id": "5b46694d",
   "metadata": {},
   "source": [
    "**Предобработка данных**"
   ]
  },
  {
   "cell_type": "code",
   "execution_count": 5,
   "id": "29521013",
   "metadata": {},
   "outputs": [],
   "source": [
    "orders['date'] = pd.to_datetime(orders['date'])\n",
    "visitors['date'] = pd.to_datetime(visitors['date'])"
   ]
  },
  {
   "cell_type": "markdown",
   "id": "af6dcd3a",
   "metadata": {},
   "source": [
    "Также приведем название столбцов к  одному стилю"
   ]
  },
  {
   "cell_type": "code",
   "execution_count": 6,
   "id": "15b1f5f9",
   "metadata": {},
   "outputs": [],
   "source": [
    "hypothesis.columns = hypothesis.columns.str.lower()\n",
    "orders.columns = [name.replace('Id', '_id') for name in orders.columns]"
   ]
  },
  {
   "cell_type": "markdown",
   "id": "d40ee4cd",
   "metadata": {},
   "source": [
    "Проверим таблицы на наличие дубликатов."
   ]
  },
  {
   "cell_type": "code",
   "execution_count": 7,
   "id": "fa93972f",
   "metadata": {},
   "outputs": [
    {
     "data": {
      "text/plain": [
       "0"
      ]
     },
     "execution_count": 7,
     "metadata": {},
     "output_type": "execute_result"
    }
   ],
   "source": [
    "hypothesis.duplicated().sum()"
   ]
  },
  {
   "cell_type": "code",
   "execution_count": 8,
   "id": "08569e0b",
   "metadata": {},
   "outputs": [
    {
     "data": {
      "text/plain": [
       "0"
      ]
     },
     "execution_count": 8,
     "metadata": {},
     "output_type": "execute_result"
    }
   ],
   "source": [
    "orders.duplicated().sum()"
   ]
  },
  {
   "cell_type": "code",
   "execution_count": 9,
   "id": "cac98c32",
   "metadata": {},
   "outputs": [
    {
     "data": {
      "text/plain": [
       "0"
      ]
     },
     "execution_count": 9,
     "metadata": {},
     "output_type": "execute_result"
    }
   ],
   "source": [
    "visitors.duplicated().sum()"
   ]
  },
  {
   "cell_type": "markdown",
   "id": "1b45b415",
   "metadata": {},
   "source": [
    "Проверим на наличие пропусков"
   ]
  },
  {
   "cell_type": "code",
   "execution_count": 10,
   "id": "8671c200",
   "metadata": {},
   "outputs": [
    {
     "data": {
      "text/plain": [
       "date        0\n",
       "group       0\n",
       "visitors    0\n",
       "dtype: int64"
      ]
     },
     "execution_count": 10,
     "metadata": {},
     "output_type": "execute_result"
    }
   ],
   "source": [
    "hypothesis.isna().sum()\n",
    "orders.isna().sum()\n",
    "visitors.isna().sum()"
   ]
  },
  {
   "cell_type": "markdown",
   "id": "c8f18861",
   "metadata": {},
   "source": [
    "Теперь можно переходить к приоретизации гипотиз."
   ]
  },
  {
   "cell_type": "markdown",
   "id": "bc169c2d",
   "metadata": {},
   "source": [
    "**Приоритизация гипотез**"
   ]
  },
  {
   "cell_type": "markdown",
   "id": "1bcf5bac",
   "metadata": {},
   "source": [
    "В таблице **hypothesis** приведено 9 гипотез. Каждя гипотеза оценена по 10ти бальной шкале по нескольким критериям.\n",
    "Применим фреймворк ICE для приоритизации гипотез."
   ]
  },
  {
   "cell_type": "markdown",
   "id": "01fc0bc0",
   "metadata": {},
   "source": [
    "ICE (от англ. impact, confidence, effort / ease «влияние, уверенность, усилия / простота») — один из самых популярных способов приоритизации задач."
   ]
  },
  {
   "cell_type": "code",
   "execution_count": 11,
   "id": "33c73013",
   "metadata": {},
   "outputs": [],
   "source": [
    "hypothesis['ice'] = round(hypothesis['impact'] * hypothesis['confidence'] /hypothesis['efforts'], 2)"
   ]
  },
  {
   "cell_type": "markdown",
   "id": "cf7f58d6",
   "metadata": {},
   "source": [
    "Отсортируем по убыванию приоритета.\n"
   ]
  },
  {
   "cell_type": "code",
   "execution_count": 12,
   "id": "14c1d73f",
   "metadata": {},
   "outputs": [
    {
     "data": {
      "text/html": [
       "<div>\n",
       "<style scoped>\n",
       "    .dataframe tbody tr th:only-of-type {\n",
       "        vertical-align: middle;\n",
       "    }\n",
       "\n",
       "    .dataframe tbody tr th {\n",
       "        vertical-align: top;\n",
       "    }\n",
       "\n",
       "    .dataframe thead th {\n",
       "        text-align: right;\n",
       "    }\n",
       "</style>\n",
       "<table border=\"1\" class=\"dataframe\">\n",
       "  <thead>\n",
       "    <tr style=\"text-align: right;\">\n",
       "      <th></th>\n",
       "      <th>hypothesis</th>\n",
       "      <th>ice</th>\n",
       "    </tr>\n",
       "  </thead>\n",
       "  <tbody>\n",
       "    <tr>\n",
       "      <th>8</th>\n",
       "      <td>Запустить акцию, дающую скидку на товар в день рождения</td>\n",
       "      <td>16.20</td>\n",
       "    </tr>\n",
       "    <tr>\n",
       "      <th>0</th>\n",
       "      <td>Добавить два новых канала привлечения трафика, что позволит привлекать на 30% больше пользователей</td>\n",
       "      <td>13.33</td>\n",
       "    </tr>\n",
       "    <tr>\n",
       "      <th>7</th>\n",
       "      <td>Добавить форму подписки на все основные страницы, чтобы собрать базу клиентов для email-рассылок</td>\n",
       "      <td>11.20</td>\n",
       "    </tr>\n",
       "    <tr>\n",
       "      <th>6</th>\n",
       "      <td>Показать на главной странице баннеры с актуальными акциями и распродажами, чтобы увеличить конверсию</td>\n",
       "      <td>8.00</td>\n",
       "    </tr>\n",
       "    <tr>\n",
       "      <th>2</th>\n",
       "      <td>Добавить блоки рекомендаций товаров на сайт интернет магазина, чтобы повысить конверсию и средний чек заказа</td>\n",
       "      <td>7.00</td>\n",
       "    </tr>\n",
       "    <tr>\n",
       "      <th>1</th>\n",
       "      <td>Запустить собственную службу доставки, что сократит срок доставки заказов</td>\n",
       "      <td>2.00</td>\n",
       "    </tr>\n",
       "    <tr>\n",
       "      <th>5</th>\n",
       "      <td>Добавить страницу отзывов клиентов о магазине, что позволит увеличить количество заказов</td>\n",
       "      <td>1.33</td>\n",
       "    </tr>\n",
       "    <tr>\n",
       "      <th>3</th>\n",
       "      <td>Изменить структура категорий, что увеличит конверсию, т.к. пользователи быстрее найдут нужный товар</td>\n",
       "      <td>1.12</td>\n",
       "    </tr>\n",
       "    <tr>\n",
       "      <th>4</th>\n",
       "      <td>Изменить цвет фона главной страницы, чтобы увеличить вовлеченность пользователей</td>\n",
       "      <td>1.00</td>\n",
       "    </tr>\n",
       "  </tbody>\n",
       "</table>\n",
       "</div>"
      ],
      "text/plain": [
       "                                                                                                     hypothesis  \\\n",
       "8                                                       Запустить акцию, дающую скидку на товар в день рождения   \n",
       "0            Добавить два новых канала привлечения трафика, что позволит привлекать на 30% больше пользователей   \n",
       "7              Добавить форму подписки на все основные страницы, чтобы собрать базу клиентов для email-рассылок   \n",
       "6          Показать на главной странице баннеры с актуальными акциями и распродажами, чтобы увеличить конверсию   \n",
       "2  Добавить блоки рекомендаций товаров на сайт интернет магазина, чтобы повысить конверсию и средний чек заказа   \n",
       "1                                     Запустить собственную службу доставки, что сократит срок доставки заказов   \n",
       "5                      Добавить страницу отзывов клиентов о магазине, что позволит увеличить количество заказов   \n",
       "3           Изменить структура категорий, что увеличит конверсию, т.к. пользователи быстрее найдут нужный товар   \n",
       "4                              Изменить цвет фона главной страницы, чтобы увеличить вовлеченность пользователей   \n",
       "\n",
       "     ice  \n",
       "8  16.20  \n",
       "0  13.33  \n",
       "7  11.20  \n",
       "6   8.00  \n",
       "2   7.00  \n",
       "1   2.00  \n",
       "5   1.33  \n",
       "3   1.12  \n",
       "4   1.00  "
      ]
     },
     "execution_count": 12,
     "metadata": {},
     "output_type": "execute_result"
    }
   ],
   "source": [
    "hypothesis[['hypothesis','ice']].sort_values(by='ice',ascending = False)"
   ]
  },
  {
   "cell_type": "markdown",
   "id": "785c3d55",
   "metadata": {},
   "source": [
    "Далее применим фреймворк RICE для приоритизации гипотез и отсортируем их по убыванию приоритета."
   ]
  },
  {
   "cell_type": "code",
   "execution_count": 13,
   "id": "b27b60de",
   "metadata": {},
   "outputs": [
    {
     "data": {
      "text/plain": [
       "0     40.0\n",
       "1      4.0\n",
       "2     56.0\n",
       "3      9.0\n",
       "4      3.0\n",
       "5      4.0\n",
       "6     40.0\n",
       "7    112.0\n",
       "8     16.2\n",
       "Name: rice, dtype: float64"
      ]
     },
     "execution_count": 13,
     "metadata": {},
     "output_type": "execute_result"
    }
   ],
   "source": [
    "hypothesis['rice'] = hypothesis['impact'] * hypothesis['confidence'] *  hypothesis['reach']/hypothesis['efforts']\n",
    "hypothesis['rice']"
   ]
  },
  {
   "cell_type": "code",
   "execution_count": 14,
   "id": "ee1750e5",
   "metadata": {},
   "outputs": [
    {
     "data": {
      "text/html": [
       "<div>\n",
       "<style scoped>\n",
       "    .dataframe tbody tr th:only-of-type {\n",
       "        vertical-align: middle;\n",
       "    }\n",
       "\n",
       "    .dataframe tbody tr th {\n",
       "        vertical-align: top;\n",
       "    }\n",
       "\n",
       "    .dataframe thead th {\n",
       "        text-align: right;\n",
       "    }\n",
       "</style>\n",
       "<table border=\"1\" class=\"dataframe\">\n",
       "  <thead>\n",
       "    <tr style=\"text-align: right;\">\n",
       "      <th></th>\n",
       "      <th>hypothesis</th>\n",
       "      <th>rice</th>\n",
       "    </tr>\n",
       "  </thead>\n",
       "  <tbody>\n",
       "    <tr>\n",
       "      <th>7</th>\n",
       "      <td>Добавить форму подписки на все основные страницы, чтобы собрать базу клиентов для email-рассылок</td>\n",
       "      <td>112.0</td>\n",
       "    </tr>\n",
       "    <tr>\n",
       "      <th>2</th>\n",
       "      <td>Добавить блоки рекомендаций товаров на сайт интернет магазина, чтобы повысить конверсию и средний чек заказа</td>\n",
       "      <td>56.0</td>\n",
       "    </tr>\n",
       "    <tr>\n",
       "      <th>0</th>\n",
       "      <td>Добавить два новых канала привлечения трафика, что позволит привлекать на 30% больше пользователей</td>\n",
       "      <td>40.0</td>\n",
       "    </tr>\n",
       "    <tr>\n",
       "      <th>6</th>\n",
       "      <td>Показать на главной странице баннеры с актуальными акциями и распродажами, чтобы увеличить конверсию</td>\n",
       "      <td>40.0</td>\n",
       "    </tr>\n",
       "    <tr>\n",
       "      <th>8</th>\n",
       "      <td>Запустить акцию, дающую скидку на товар в день рождения</td>\n",
       "      <td>16.2</td>\n",
       "    </tr>\n",
       "    <tr>\n",
       "      <th>3</th>\n",
       "      <td>Изменить структура категорий, что увеличит конверсию, т.к. пользователи быстрее найдут нужный товар</td>\n",
       "      <td>9.0</td>\n",
       "    </tr>\n",
       "    <tr>\n",
       "      <th>1</th>\n",
       "      <td>Запустить собственную службу доставки, что сократит срок доставки заказов</td>\n",
       "      <td>4.0</td>\n",
       "    </tr>\n",
       "    <tr>\n",
       "      <th>5</th>\n",
       "      <td>Добавить страницу отзывов клиентов о магазине, что позволит увеличить количество заказов</td>\n",
       "      <td>4.0</td>\n",
       "    </tr>\n",
       "    <tr>\n",
       "      <th>4</th>\n",
       "      <td>Изменить цвет фона главной страницы, чтобы увеличить вовлеченность пользователей</td>\n",
       "      <td>3.0</td>\n",
       "    </tr>\n",
       "  </tbody>\n",
       "</table>\n",
       "</div>"
      ],
      "text/plain": [
       "                                                                                                     hypothesis  \\\n",
       "7              Добавить форму подписки на все основные страницы, чтобы собрать базу клиентов для email-рассылок   \n",
       "2  Добавить блоки рекомендаций товаров на сайт интернет магазина, чтобы повысить конверсию и средний чек заказа   \n",
       "0            Добавить два новых канала привлечения трафика, что позволит привлекать на 30% больше пользователей   \n",
       "6          Показать на главной странице баннеры с актуальными акциями и распродажами, чтобы увеличить конверсию   \n",
       "8                                                       Запустить акцию, дающую скидку на товар в день рождения   \n",
       "3           Изменить структура категорий, что увеличит конверсию, т.к. пользователи быстрее найдут нужный товар   \n",
       "1                                     Запустить собственную службу доставки, что сократит срок доставки заказов   \n",
       "5                      Добавить страницу отзывов клиентов о магазине, что позволит увеличить количество заказов   \n",
       "4                              Изменить цвет фона главной страницы, чтобы увеличить вовлеченность пользователей   \n",
       "\n",
       "    rice  \n",
       "7  112.0  \n",
       "2   56.0  \n",
       "0   40.0  \n",
       "6   40.0  \n",
       "8   16.2  \n",
       "3    9.0  \n",
       "1    4.0  \n",
       "5    4.0  \n",
       "4    3.0  "
      ]
     },
     "execution_count": 14,
     "metadata": {},
     "output_type": "execute_result"
    }
   ],
   "source": [
    "hypothesis[['hypothesis','rice']].sort_values(by='rice',ascending = False)"
   ]
  },
  {
   "cell_type": "markdown",
   "id": "87c87a1f",
   "metadata": {},
   "source": [
    "Мы видим те же самые гипотезы, только в другой последовательности. Разница приоритезиций заключается в том, что одна учитывает кол-во пользователей, которых затронут изменения, а другая - нет. В зависимости от фреймворка у нас полуились разные лидирующие гипоотезы. В случае с фреймворком ICE на лидирующих позициях гипотеза номер 8. А елси мыы примееняем фреймворк RICE лидирующие позиции занимает гипотеза номер 7. "
   ]
  },
  {
   "cell_type": "markdown",
   "id": "f016af36",
   "metadata": {},
   "source": [
    "**Часть 2. Анализ A/B-теста**"
   ]
  },
  {
   "cell_type": "markdown",
   "id": "2378a363",
   "metadata": {},
   "source": [
    "Для того чтобы построить графики по кумулятивным данным, необходимо собрать датафрем , который будет содержать информацию о дате, группе (А или В), кумулятивных количестве заказов и пользователей их оформивших, среднем чеке и, наконец, о кумулятивном количестве посетителей магазина."
   ]
  },
  {
   "cell_type": "markdown",
   "id": "e7ed9286",
   "metadata": {},
   "source": [
    "Проверим количество пользователей в разных группах, выразим в процентах от общего количества:\n",
    "\n"
   ]
  },
  {
   "cell_type": "code",
   "execution_count": 15,
   "id": "6fc7cb40",
   "metadata": {},
   "outputs": [
    {
     "data": {
      "text/html": [
       "<div>\n",
       "<style scoped>\n",
       "    .dataframe tbody tr th:only-of-type {\n",
       "        vertical-align: middle;\n",
       "    }\n",
       "\n",
       "    .dataframe tbody tr th {\n",
       "        vertical-align: top;\n",
       "    }\n",
       "\n",
       "    .dataframe thead th {\n",
       "        text-align: right;\n",
       "    }\n",
       "</style>\n",
       "<table border=\"1\" class=\"dataframe\">\n",
       "  <thead>\n",
       "    <tr style=\"text-align: right;\">\n",
       "      <th></th>\n",
       "      <th>visitor_id</th>\n",
       "    </tr>\n",
       "    <tr>\n",
       "      <th>group</th>\n",
       "      <th></th>\n",
       "    </tr>\n",
       "  </thead>\n",
       "  <tbody>\n",
       "    <tr>\n",
       "      <th>A</th>\n",
       "      <td>48.8</td>\n",
       "    </tr>\n",
       "    <tr>\n",
       "      <th>B</th>\n",
       "      <td>56.8</td>\n",
       "    </tr>\n",
       "  </tbody>\n",
       "</table>\n",
       "</div>"
      ],
      "text/plain": [
       "       visitor_id\n",
       "group            \n",
       "A            48.8\n",
       "B            56.8"
      ]
     },
     "execution_count": 15,
     "metadata": {},
     "output_type": "execute_result"
    }
   ],
   "source": [
    "round(orders.groupby('group').agg({'visitor_id':'nunique'})/orders['visitor_id'].nunique()*100, 1)\n"
   ]
  },
  {
   "cell_type": "markdown",
   "id": "d058aa55",
   "metadata": {},
   "source": [
    "Из предыдущей проверки видим, что 5% пользователей попали в обе группы. Найдем этих пользователей:"
   ]
  },
  {
   "cell_type": "code",
   "execution_count": 16,
   "id": "fab636b8",
   "metadata": {},
   "outputs": [
    {
     "name": "stdout",
     "output_type": "stream",
     "text": [
      "Количество пользователей, попавших в обе группы: 58\n"
     ]
    }
   ],
   "source": [
    "visitor_both_group = np.intersect1d(orders.query('group == \"A\"')['visitor_id'], orders.query(\n",
    "'group == \"B\"')['visitor_id'], assume_unique = False)\n",
    "print('Количество пользователей, попавших в обе группы:', len(visitor_both_group))"
   ]
  },
  {
   "cell_type": "markdown",
   "id": "9f3579c6",
   "metadata": {},
   "source": [
    "Так как процент количества пользователей, которые присутствуют в обеих группах около 5 % , то от них можно избавиться."
   ]
  },
  {
   "cell_type": "markdown",
   "id": "1c6b1f0f",
   "metadata": {},
   "source": [
    "Избавимся от пользователей, который оказались в двух группах одновременно."
   ]
  },
  {
   "cell_type": "code",
   "execution_count": 17,
   "id": "13757bec",
   "metadata": {},
   "outputs": [],
   "source": [
    "dubls = orders.groupby('visitor_id').agg( \n",
    "    {'group': 'nunique'}).query('group == 2').reset_index()['visitor_id'].tolist()     \n",
    "orders = orders.query('visitor_id not in @dubls').copy()"
   ]
  },
  {
   "cell_type": "markdown",
   "id": "80887a13",
   "metadata": {},
   "source": [
    "Создадим массив уникальных пар значений дат и групп теста."
   ]
  },
  {
   "cell_type": "code",
   "execution_count": 18,
   "id": "14045a8b",
   "metadata": {},
   "outputs": [],
   "source": [
    "dates_grouped = orders[['date', 'group']].drop_duplicates()"
   ]
  },
  {
   "cell_type": "markdown",
   "id": "98f7acc7",
   "metadata": {},
   "source": [
    "Получим агрегированные кумулятивные по дням данные о заказах."
   ]
  },
  {
   "cell_type": "code",
   "execution_count": 19,
   "id": "7cf4201d",
   "metadata": {},
   "outputs": [
    {
     "data": {
      "text/html": [
       "<div>\n",
       "<style scoped>\n",
       "    .dataframe tbody tr th:only-of-type {\n",
       "        vertical-align: middle;\n",
       "    }\n",
       "\n",
       "    .dataframe tbody tr th {\n",
       "        vertical-align: top;\n",
       "    }\n",
       "\n",
       "    .dataframe thead th {\n",
       "        text-align: right;\n",
       "    }\n",
       "</style>\n",
       "<table border=\"1\" class=\"dataframe\">\n",
       "  <thead>\n",
       "    <tr style=\"text-align: right;\">\n",
       "      <th></th>\n",
       "      <th>date</th>\n",
       "      <th>group</th>\n",
       "      <th>transaction_id</th>\n",
       "      <th>visitor_id</th>\n",
       "      <th>revenue</th>\n",
       "    </tr>\n",
       "  </thead>\n",
       "  <tbody>\n",
       "    <tr>\n",
       "      <th>55</th>\n",
       "      <td>2019-08-01</td>\n",
       "      <td>A</td>\n",
       "      <td>23</td>\n",
       "      <td>19</td>\n",
       "      <td>142779</td>\n",
       "    </tr>\n",
       "    <tr>\n",
       "      <th>66</th>\n",
       "      <td>2019-08-01</td>\n",
       "      <td>B</td>\n",
       "      <td>17</td>\n",
       "      <td>17</td>\n",
       "      <td>59758</td>\n",
       "    </tr>\n",
       "    <tr>\n",
       "      <th>175</th>\n",
       "      <td>2019-08-02</td>\n",
       "      <td>A</td>\n",
       "      <td>42</td>\n",
       "      <td>36</td>\n",
       "      <td>234381</td>\n",
       "    </tr>\n",
       "    <tr>\n",
       "      <th>173</th>\n",
       "      <td>2019-08-02</td>\n",
       "      <td>B</td>\n",
       "      <td>40</td>\n",
       "      <td>39</td>\n",
       "      <td>221801</td>\n",
       "    </tr>\n",
       "    <tr>\n",
       "      <th>291</th>\n",
       "      <td>2019-08-03</td>\n",
       "      <td>A</td>\n",
       "      <td>66</td>\n",
       "      <td>60</td>\n",
       "      <td>346854</td>\n",
       "    </tr>\n",
       "    <tr>\n",
       "      <th>383</th>\n",
       "      <td>2019-08-03</td>\n",
       "      <td>B</td>\n",
       "      <td>54</td>\n",
       "      <td>53</td>\n",
       "      <td>288850</td>\n",
       "    </tr>\n",
       "  </tbody>\n",
       "</table>\n",
       "</div>"
      ],
      "text/plain": [
       "          date group  transaction_id  visitor_id  revenue\n",
       "55  2019-08-01     A              23          19   142779\n",
       "66  2019-08-01     B              17          17    59758\n",
       "175 2019-08-02     A              42          36   234381\n",
       "173 2019-08-02     B              40          39   221801\n",
       "291 2019-08-03     A              66          60   346854\n",
       "383 2019-08-03     B              54          53   288850"
      ]
     },
     "execution_count": 19,
     "metadata": {},
     "output_type": "execute_result"
    }
   ],
   "source": [
    "orders_grouped = dates_grouped.apply(\n",
    "    lambda x: orders[\n",
    "        np.logical_and(\n",
    "            orders['date'] <= x['date'], orders['group'] == x['group']\n",
    "        )\n",
    "    ].agg(\n",
    "        {\n",
    "            'date': 'max',\n",
    "            'group': 'max',\n",
    "            'transaction_id': 'nunique',\n",
    "            'visitor_id': 'nunique',\n",
    "            'revenue': 'sum',\n",
    "        }\n",
    "    ),\n",
    "    axis=1,\n",
    ").sort_values(by=['date', 'group'])\n",
    "\n",
    "orders_grouped.head(6)"
   ]
  },
  {
   "cell_type": "markdown",
   "id": "43878236",
   "metadata": {},
   "source": [
    "Получим агрегированные кумулятивные по дням данные о посетителях интернет-магазина."
   ]
  },
  {
   "cell_type": "code",
   "execution_count": 20,
   "id": "628d600b",
   "metadata": {},
   "outputs": [
    {
     "data": {
      "text/html": [
       "<div>\n",
       "<style scoped>\n",
       "    .dataframe tbody tr th:only-of-type {\n",
       "        vertical-align: middle;\n",
       "    }\n",
       "\n",
       "    .dataframe tbody tr th {\n",
       "        vertical-align: top;\n",
       "    }\n",
       "\n",
       "    .dataframe thead th {\n",
       "        text-align: right;\n",
       "    }\n",
       "</style>\n",
       "<table border=\"1\" class=\"dataframe\">\n",
       "  <thead>\n",
       "    <tr style=\"text-align: right;\">\n",
       "      <th></th>\n",
       "      <th>date</th>\n",
       "      <th>group</th>\n",
       "      <th>visitors</th>\n",
       "    </tr>\n",
       "  </thead>\n",
       "  <tbody>\n",
       "    <tr>\n",
       "      <th>55</th>\n",
       "      <td>2019-08-01</td>\n",
       "      <td>A</td>\n",
       "      <td>719</td>\n",
       "    </tr>\n",
       "    <tr>\n",
       "      <th>66</th>\n",
       "      <td>2019-08-01</td>\n",
       "      <td>B</td>\n",
       "      <td>713</td>\n",
       "    </tr>\n",
       "    <tr>\n",
       "      <th>175</th>\n",
       "      <td>2019-08-02</td>\n",
       "      <td>A</td>\n",
       "      <td>1338</td>\n",
       "    </tr>\n",
       "    <tr>\n",
       "      <th>173</th>\n",
       "      <td>2019-08-02</td>\n",
       "      <td>B</td>\n",
       "      <td>1294</td>\n",
       "    </tr>\n",
       "    <tr>\n",
       "      <th>291</th>\n",
       "      <td>2019-08-03</td>\n",
       "      <td>A</td>\n",
       "      <td>1845</td>\n",
       "    </tr>\n",
       "    <tr>\n",
       "      <th>383</th>\n",
       "      <td>2019-08-03</td>\n",
       "      <td>B</td>\n",
       "      <td>1803</td>\n",
       "    </tr>\n",
       "  </tbody>\n",
       "</table>\n",
       "</div>"
      ],
      "text/plain": [
       "          date group  visitors\n",
       "55  2019-08-01     A       719\n",
       "66  2019-08-01     B       713\n",
       "175 2019-08-02     A      1338\n",
       "173 2019-08-02     B      1294\n",
       "291 2019-08-03     A      1845\n",
       "383 2019-08-03     B      1803"
      ]
     },
     "execution_count": 20,
     "metadata": {},
     "output_type": "execute_result"
    }
   ],
   "source": [
    "visitors_grouped = dates_grouped.apply(\n",
    "    lambda x: visitors[\n",
    "        np.logical_and(\n",
    "            visitors['date'] <= x['date'], visitors['group'] == x['group']\n",
    "        )\n",
    "    ].agg(\n",
    "        {\n",
    "            'date': 'max', \n",
    "            'group': 'max', \n",
    "            'visitors': 'sum'\n",
    "        }\n",
    "    ),\n",
    "    axis=1,\n",
    ").sort_values(by=['date', 'group'])\n",
    "\n",
    "visitors_grouped.head(6)"
   ]
  },
  {
   "cell_type": "markdown",
   "id": "e19180aa",
   "metadata": {},
   "source": [
    "Объединим кумулятивные данные в одной таблице и присваиваем ее столбцам понятные названия."
   ]
  },
  {
   "cell_type": "code",
   "execution_count": 21,
   "id": "95ff73b4",
   "metadata": {},
   "outputs": [],
   "source": [
    "cumulative_data = orders_grouped.merge(\n",
    "    visitors_grouped, \n",
    "    left_on=['date', 'group'], \n",
    "    right_on=['date', 'group']\n",
    ")\n",
    "\n",
    "cumulative_data.columns = ['date', 'group', 'orders', 'buyers', 'revenue', 'visitors']"
   ]
  },
  {
   "cell_type": "markdown",
   "id": "3c4f67ea",
   "metadata": {},
   "source": [
    "Добавим расчетную колонку с конверсией."
   ]
  },
  {
   "cell_type": "code",
   "execution_count": 22,
   "id": "4ab86122",
   "metadata": {},
   "outputs": [
    {
     "data": {
      "text/html": [
       "<div>\n",
       "<style scoped>\n",
       "    .dataframe tbody tr th:only-of-type {\n",
       "        vertical-align: middle;\n",
       "    }\n",
       "\n",
       "    .dataframe tbody tr th {\n",
       "        vertical-align: top;\n",
       "    }\n",
       "\n",
       "    .dataframe thead th {\n",
       "        text-align: right;\n",
       "    }\n",
       "</style>\n",
       "<table border=\"1\" class=\"dataframe\">\n",
       "  <thead>\n",
       "    <tr style=\"text-align: right;\">\n",
       "      <th></th>\n",
       "      <th>date</th>\n",
       "      <th>group</th>\n",
       "      <th>orders</th>\n",
       "      <th>buyers</th>\n",
       "      <th>revenue</th>\n",
       "      <th>visitors</th>\n",
       "      <th>conversion</th>\n",
       "    </tr>\n",
       "  </thead>\n",
       "  <tbody>\n",
       "    <tr>\n",
       "      <th>0</th>\n",
       "      <td>2019-08-01</td>\n",
       "      <td>A</td>\n",
       "      <td>23</td>\n",
       "      <td>19</td>\n",
       "      <td>142779</td>\n",
       "      <td>719</td>\n",
       "      <td>0.031989</td>\n",
       "    </tr>\n",
       "    <tr>\n",
       "      <th>1</th>\n",
       "      <td>2019-08-01</td>\n",
       "      <td>B</td>\n",
       "      <td>17</td>\n",
       "      <td>17</td>\n",
       "      <td>59758</td>\n",
       "      <td>713</td>\n",
       "      <td>0.023843</td>\n",
       "    </tr>\n",
       "    <tr>\n",
       "      <th>2</th>\n",
       "      <td>2019-08-02</td>\n",
       "      <td>A</td>\n",
       "      <td>42</td>\n",
       "      <td>36</td>\n",
       "      <td>234381</td>\n",
       "      <td>1338</td>\n",
       "      <td>0.031390</td>\n",
       "    </tr>\n",
       "    <tr>\n",
       "      <th>3</th>\n",
       "      <td>2019-08-02</td>\n",
       "      <td>B</td>\n",
       "      <td>40</td>\n",
       "      <td>39</td>\n",
       "      <td>221801</td>\n",
       "      <td>1294</td>\n",
       "      <td>0.030912</td>\n",
       "    </tr>\n",
       "    <tr>\n",
       "      <th>4</th>\n",
       "      <td>2019-08-03</td>\n",
       "      <td>A</td>\n",
       "      <td>66</td>\n",
       "      <td>60</td>\n",
       "      <td>346854</td>\n",
       "      <td>1845</td>\n",
       "      <td>0.035772</td>\n",
       "    </tr>\n",
       "    <tr>\n",
       "      <th>5</th>\n",
       "      <td>2019-08-03</td>\n",
       "      <td>B</td>\n",
       "      <td>54</td>\n",
       "      <td>53</td>\n",
       "      <td>288850</td>\n",
       "      <td>1803</td>\n",
       "      <td>0.029950</td>\n",
       "    </tr>\n",
       "  </tbody>\n",
       "</table>\n",
       "</div>"
      ],
      "text/plain": [
       "        date group  orders  buyers  revenue  visitors  conversion\n",
       "0 2019-08-01     A      23      19   142779       719    0.031989\n",
       "1 2019-08-01     B      17      17    59758       713    0.023843\n",
       "2 2019-08-02     A      42      36   234381      1338    0.031390\n",
       "3 2019-08-02     B      40      39   221801      1294    0.030912\n",
       "4 2019-08-03     A      66      60   346854      1845    0.035772\n",
       "5 2019-08-03     B      54      53   288850      1803    0.029950"
      ]
     },
     "execution_count": 22,
     "metadata": {},
     "output_type": "execute_result"
    }
   ],
   "source": [
    "cumulative_data['conversion'] = cumulative_data['orders'] / cumulative_data['visitors']\n",
    "cumulative_data.head(6)"
   ]
  },
  {
   "cell_type": "markdown",
   "id": "9a0ce9dc",
   "metadata": {},
   "source": [
    "**2.1 Выручка по группам**"
   ]
  },
  {
   "cell_type": "markdown",
   "id": "f4b440f5",
   "metadata": {},
   "source": [
    "Создадим датафреймы с кумулятивным количеством заказов и кумулятивной выручкой по дням в группе А и В."
   ]
  },
  {
   "cell_type": "code",
   "execution_count": 23,
   "id": "748ea2a0",
   "metadata": {},
   "outputs": [],
   "source": [
    "cumulative_revenue_a = cumulative_data[cumulative_data['group']=='A'][['date','revenue', 'orders']]\n",
    "cumulative_revenue_b = cumulative_data[cumulative_data['group']=='B'][['date','revenue', 'orders']]\n"
   ]
  },
  {
   "cell_type": "markdown",
   "id": "34ba4057",
   "metadata": {},
   "source": [
    "Построим график."
   ]
  },
  {
   "cell_type": "code",
   "execution_count": 24,
   "id": "c872632d",
   "metadata": {},
   "outputs": [
    {
     "data": {
      "image/png": "[encoded data removed]",
      "text/plain": [
       "<Figure size 576x432 with 1 Axes>"
      ]
     },
     "metadata": {
      "needs_background": "light"
     },
     "output_type": "display_data"
    }
   ],
   "source": [
    "plt.plot(cumulative_revenue_a['date'], cumulative_revenue_a['revenue'], label='A')\n",
    "plt.plot(cumulative_revenue_b['date'], cumulative_revenue_b['revenue'], label='B')\n",
    "plt.title('График динамики кумулятивной выручки по группам А и В')\n",
    "plt.ylabel(\"Выручка, млн.\")\n",
    "plt.xlabel(\"Дата\")\n",
    "plt.xticks(rotation=30)\n",
    "plt.legend()\n",
    "plt.show()"
   ]
  },
  {
   "cell_type": "markdown",
   "id": "d755855f",
   "metadata": {},
   "source": [
    "Из графика можно сделать вывод, что кумулятивная выручка группы А растет линейно, и она меньше, чем у группы В.\n",
    "При этом в группе В есть резкий скачок в районе 18-го августа, что может говорить о всплесках числа заказов, или о появлении очень дорогих заказов в выборке."
   ]
  },
  {
   "cell_type": "markdown",
   "id": "da074303",
   "metadata": {},
   "source": [
    "**2.2 Средний чек по группам**"
   ]
  },
  {
   "cell_type": "code",
   "execution_count": 25,
   "id": "684aeb8f",
   "metadata": {},
   "outputs": [
    {
     "data": {
      "image/png": "[encoded data removed]",
      "text/plain": [
       "<Figure size 576x432 with 1 Axes>"
      ]
     },
     "metadata": {
      "needs_background": "light"
     },
     "output_type": "display_data"
    }
   ],
   "source": [
    "plt.plot(cumulative_revenue_a['date'], \n",
    "         cumulative_revenue_a['revenue'] / cumulative_revenue_a['orders'],\n",
    "         label='A')\n",
    "\n",
    "plt.plot(cumulative_revenue_b['date'], \n",
    "         cumulative_revenue_b['revenue'] / cumulative_revenue_b['orders'], \n",
    "         label='B')\n",
    "\n",
    "plt.title('График динамики кумулятивного среднего чека по группам А и В')\n",
    "plt.ylabel(\"Средний чек, млн.\")\n",
    "plt.xlabel(\"Дата\")\n",
    "plt.legend()\n",
    "plt.show()"
   ]
  },
  {
   "cell_type": "markdown",
   "id": "0365c68e",
   "metadata": {},
   "source": [
    "Мы видим, что средний чек в группе А через какое-то время стабилизировался. Средний чек группы В показал резкий рывок, что говорит в пользу версии о дорогой покупке."
   ]
  },
  {
   "cell_type": "markdown",
   "id": "49f6bf81",
   "metadata": {},
   "source": [
    "**2.3 Относительное изменения кумулятивного среднего чека группы B к группе A**"
   ]
  },
  {
   "cell_type": "markdown",
   "id": "5afd3a7b",
   "metadata": {},
   "source": [
    "Соберем данные в одном датафрейме"
   ]
  },
  {
   "cell_type": "code",
   "execution_count": 26,
   "id": "867e0023",
   "metadata": {},
   "outputs": [],
   "source": [
    "cumulative_revenue_ab = cumulative_revenue_a.merge(\n",
    "    cumulative_revenue_b, \n",
    "    left_on='date', \n",
    "    right_on='date', \n",
    "    how='left', \n",
    "    suffixes=['_a', '_b']\n",
    ")"
   ]
  },
  {
   "cell_type": "markdown",
   "id": "17431bd2",
   "metadata": {},
   "source": [
    "Построим график отношения средних чеков."
   ]
  },
  {
   "cell_type": "code",
   "execution_count": 27,
   "id": "458d8d5e",
   "metadata": {},
   "outputs": [
    {
     "data": {
      "image/png": "[encoded data removed]",
      "text/plain": [
       "<Figure size 576x432 with 1 Axes>"
      ]
     },
     "metadata": {
      "needs_background": "light"
     },
     "output_type": "display_data"
    }
   ],
   "source": [
    "plt.plot(cumulative_revenue_ab['date'], \n",
    "         (\n",
    "             cumulative_revenue_ab['revenue_b']/cumulative_revenue_ab['orders_b']\n",
    "         )/\n",
    "         (\n",
    "             cumulative_revenue_ab['revenue_a']/cumulative_revenue_ab['orders_a']\n",
    "         )-1\n",
    "        )\n",
    "\n",
    "# добавляем ось X\n",
    "plt.axhline(y=0, color='black', linestyle='--')\n",
    "plt.title('График относительного изменения кумулятивного среднего чека группы B к группе A')\n",
    "plt.ylabel(\"Относительно изменение\")\n",
    "plt.xlabel(\"Дата\")\n",
    "plt.xticks(rotation=30)\n",
    "plt.show()"
   ]
  },
  {
   "cell_type": "markdown",
   "id": "0d070671",
   "metadata": {},
   "source": [
    "График резко скачет в нескольких точках. Скорее всего имеют место какие-то выбросы и крупные заказы."
   ]
  },
  {
   "cell_type": "markdown",
   "id": "27879f33",
   "metadata": {},
   "source": [
    "**2.4 Кумулятивное среднее количество заказов по группам**"
   ]
  },
  {
   "cell_type": "markdown",
   "id": "447c3fa9",
   "metadata": {},
   "source": [
    "Сначала отберем данные по группам А и В."
   ]
  },
  {
   "cell_type": "code",
   "execution_count": 28,
   "id": "d3c312c9",
   "metadata": {},
   "outputs": [],
   "source": [
    "cumulative_data_a = cumulative_data[cumulative_data['group']=='A']\n",
    "cumulative_data_b = cumulative_data[cumulative_data['group']=='B']"
   ]
  },
  {
   "cell_type": "markdown",
   "id": "18bdef97",
   "metadata": {},
   "source": [
    "Построим график"
   ]
  },
  {
   "cell_type": "code",
   "execution_count": 50,
   "id": "eadc2d66",
   "metadata": {},
   "outputs": [
    {
     "data": {
      "image/png": "[encoded data removed]",
      "text/plain": [
       "<Figure size 576x432 with 1 Axes>"
      ]
     },
     "metadata": {
      "needs_background": "light"
     },
     "output_type": "display_data"
    }
   ],
   "source": [
    "cumulative_data['conversion'] = cumulative_data['orders']/cumulative_data['visitors']\n",
    "plt.plot(cumulative_data_a['date'], cumulative_data_a['conversion'], label='A')\n",
    "plt.plot(cumulative_data_b['date'], cumulative_data_b['conversion'], label='B')\n",
    "plt.title('График кумулятивного среднего количество заказов по группам', pad=20)\n",
    "plt.xlabel('Дата')\n",
    "plt.ylabel(\"Кумулятивное среднее количество заказов\")\n",
    "\n",
    "plt.ylim([0.02, 0.04])\n",
    "plt.legend();"
   ]
  },
  {
   "cell_type": "markdown",
   "id": "3e47645e",
   "metadata": {},
   "source": [
    "Из полученного результат видно, что в начале графики колебались , но затем постепнно выровнялись. После 5 августа среднее количество покупок на посетителя группы B с некоторыми колебаниями, но увеличилась и зафиксировалась. Среднее количесво покупок группы А же наоборот, несколько просела."
   ]
  },
  {
   "cell_type": "markdown",
   "id": "57a7a7d2",
   "metadata": {},
   "source": [
    "**2.5 Относительное изменение кумулятивного среднего количества заказов на посетителя группы B к группе A.**"
   ]
  },
  {
   "cell_type": "code",
   "execution_count": 30,
   "id": "92384270",
   "metadata": {},
   "outputs": [
    {
     "data": {
      "image/png": "[encoded data removed]",
      "text/plain": [
       "<Figure size 576x432 with 1 Axes>"
      ]
     },
     "metadata": {
      "needs_background": "light"
     },
     "output_type": "display_data"
    }
   ],
   "source": [
    "cumulative_conversions_ab = (\n",
    "    cumulative_data_a[['date','conversion']]\n",
    "    .merge(\n",
    "        cumulative_data_b[['date','conversion']], \n",
    "        left_on='date', \n",
    "        right_on='date', \n",
    "        how='left', \n",
    "        suffixes=['_a', '_b']\n",
    "    )\n",
    ")\n",
    "plt.plot(\n",
    "    cumulative_conversions_ab['date'], \n",
    "    cumulative_conversions_ab['conversion_b']/\n",
    "    cumulative_conversions_ab['conversion_a']-1\n",
    ")\n",
    "\n",
    "# добавляем ось X\n",
    "plt.axhline(y=0, color='black', linestyle='--')\n",
    "plt.axhline(y=0.15, color='grey', linestyle='--')\n",
    "plt.title('Относительный прирост кумулятивного среднего количества заказов на посетителя группы B относительно группы A')\n",
    "plt.xticks(rotation=30)\n",
    "plt.xlabel('Дата')\n",
    "plt.ylabel(\"Относительное изменение\")\n",
    "\n",
    "plt.show()"
   ]
  },
  {
   "cell_type": "markdown",
   "id": "6de5f65f",
   "metadata": {},
   "source": [
    "В начале теста группа В проигрывала группе А, но затем ситуация поменялась. Ее сренее количество заказов быстро росла, затем начался медленный спад. Теперь среднее кодичество заказов группы В снова растет.\n",
    "Стоит отметить, что графики выше сигнализировали нам о наличии крупных заказов.\n",
    "Необходимо проанализировать данные после чистки от выбросов еще раз."
   ]
  },
  {
   "cell_type": "markdown",
   "id": "e50991f0",
   "metadata": {},
   "source": [
    "**2.6 Количество заказов по пользователям**"
   ]
  },
  {
   "cell_type": "markdown",
   "id": "bfdd05bc",
   "metadata": {},
   "source": [
    "Среднестатистический пользователь редко совершает более одного или двух заказов. Посмотрим сколько заказов делают наши участники тестирования.\n"
   ]
  },
  {
   "cell_type": "code",
   "execution_count": 31,
   "id": "7ab14941",
   "metadata": {},
   "outputs": [
    {
     "data": {
      "text/plain": [
       "count    973.000000\n",
       "mean       1.044193\n",
       "std        0.238090\n",
       "min        1.000000\n",
       "25%        1.000000\n",
       "50%        1.000000\n",
       "75%        1.000000\n",
       "max        3.000000\n",
       "Name: orders, dtype: float64"
      ]
     },
     "metadata": {},
     "output_type": "display_data"
    },
    {
     "data": {
      "image/png": "[encoded data removed]",
      "text/plain": [
       "<Figure size 576x432 with 1 Axes>"
      ]
     },
     "metadata": {
      "needs_background": "light"
     },
     "output_type": "display_data"
    }
   ],
   "source": [
    "orders_by_users = (\n",
    "    orders.groupby('visitor_id', as_index=False)\n",
    "    .agg({'transaction_id': 'nunique'})\n",
    ")\n",
    "orders_by_users.columns =  ['visitor_id', 'orders']\n",
    "display(orders_by_users['orders'].describe())\n",
    "\n",
    "# строим гистограмму\n",
    "plt.hist(orders_by_users['orders'],bins = 11) \n",
    "plt.title('Распределение количества заказов по пользователям')\n",
    "plt.xlabel('Количество заказов')\n",
    "plt.ylabel('Количество пользователей')\n",
    "plt.show()"
   ]
  },
  {
   "cell_type": "markdown",
   "id": "bb85356c",
   "metadata": {},
   "source": [
    "Из графика видно, что большинство делали только один заказ."
   ]
  },
  {
   "cell_type": "code",
   "execution_count": 32,
   "id": "4b06c75f",
   "metadata": {},
   "outputs": [
    {
     "data": {
      "image/png": "[encoded data removed]",
      "text/plain": [
       "<Figure size 576x432 with 1 Axes>"
      ]
     },
     "metadata": {
      "needs_background": "light"
     },
     "output_type": "display_data"
    }
   ],
   "source": [
    "x_values = pd.Series(range(0,len(orders_by_users)))\n",
    "\n",
    "# строим точечную диаграмму\n",
    "plt.scatter(x_values, orders_by_users['orders'], color='green', alpha=0.5)\n",
    "plt.title('Распределение количества заказов по пользователям')\n",
    "plt.xlabel('Пользователи')\n",
    "plt.ylabel('Количество заказов')\n",
    "plt.show()"
   ]
  },
  {
   "cell_type": "markdown",
   "id": "d7d9ec92",
   "metadata": {},
   "source": [
    "Много пользователей с 2-3 заказами. Их точную долю мы пока не знаем, поэтому сложно понять, можно ли считать их выбросами или нет.\n",
    "Посчитаем 95-й и 99-й перцентили количества заказов на пользователя и выберем границу для определения аномальных пользователей."
   ]
  },
  {
   "cell_type": "code",
   "execution_count": 33,
   "id": "ce86a7e0",
   "metadata": {},
   "outputs": [
    {
     "data": {
      "text/plain": [
       "array([1., 2.])"
      ]
     },
     "execution_count": 33,
     "metadata": {},
     "output_type": "execute_result"
    }
   ],
   "source": [
    "np.percentile(orders_by_users['orders'], [95, 99])"
   ]
  },
  {
   "cell_type": "markdown",
   "id": "692029ad",
   "metadata": {},
   "source": [
    "**2.7 Стоимость заказов по пользователям**"
   ]
  },
  {
   "cell_type": "markdown",
   "id": "7030b0c9",
   "metadata": {},
   "source": [
    "Построим гистограмму стоимсоть заказов"
   ]
  },
  {
   "cell_type": "code",
   "execution_count": 34,
   "id": "acdd47ad",
   "metadata": {},
   "outputs": [
    {
     "data": {
      "text/plain": [
       "count    1.016000e+03\n",
       "mean     8.300815e+03\n",
       "std      4.212199e+04\n",
       "min      5.000000e+01\n",
       "25%      1.190000e+03\n",
       "50%      2.955000e+03\n",
       "75%      8.134250e+03\n",
       "max      1.294500e+06\n",
       "Name: revenue, dtype: float64"
      ]
     },
     "metadata": {},
     "output_type": "display_data"
    }
   ],
   "source": [
    "display(orders['revenue'].describe())"
   ]
  },
  {
   "cell_type": "code",
   "execution_count": 35,
   "id": "652d873a",
   "metadata": {},
   "outputs": [
    {
     "data": {
      "image/png": "[encoded data removed]",
      "text/plain": [
       "<Figure size 576x432 with 1 Axes>"
      ]
     },
     "metadata": {
      "needs_background": "light"
     },
     "output_type": "display_data"
    }
   ],
   "source": [
    "plt.hist(orders['revenue'], alpha=0.5) \n",
    "plt.title('Распределение стоимости заказов по пользователям')\n",
    "plt.xlabel('Стоимость заказов')\n",
    "plt.ylabel('Количество пользователей')\n",
    "plt.show()"
   ]
  },
  {
   "cell_type": "markdown",
   "id": "49243449",
   "metadata": {},
   "source": [
    "Мы видим, что один из заказов превышает 1 миллион."
   ]
  },
  {
   "cell_type": "markdown",
   "id": "34ebf1f6",
   "metadata": {},
   "source": [
    "Построим точечную диаграмму."
   ]
  },
  {
   "cell_type": "code",
   "execution_count": 36,
   "id": "c8f494dc",
   "metadata": {},
   "outputs": [
    {
     "data": {
      "image/png": "[encoded data removed]",
      "text/plain": [
       "<Figure size 576x432 with 1 Axes>"
      ]
     },
     "metadata": {
      "needs_background": "light"
     },
     "output_type": "display_data"
    }
   ],
   "source": [
    "x_values = pd.Series(range(0,len(orders['revenue'])))\n",
    "\n",
    "\n",
    "plt.scatter(x_values, orders['revenue'], color='green', alpha=0.5)\n",
    "plt.title('Распределение стоимости заказов по пользователям')\n",
    "plt.xlabel('Пользователи')\n",
    "plt.ylabel('Стоимость заказов')\n",
    "plt.show()"
   ]
  },
  {
   "cell_type": "markdown",
   "id": "66fb8eff",
   "metadata": {},
   "source": [
    "Видим несколько крупных заказов , которые выбиваются из общего количества заказов."
   ]
  },
  {
   "cell_type": "markdown",
   "id": "5acd8ba6",
   "metadata": {},
   "source": [
    "Построим диаграмму без этих крупных заказов"
   ]
  },
  {
   "cell_type": "code",
   "execution_count": 37,
   "id": "b476dcb7",
   "metadata": {},
   "outputs": [
    {
     "data": {
      "image/png": "[encoded data removed]",
      "text/plain": [
       "<Figure size 576x432 with 1 Axes>"
      ]
     },
     "metadata": {
      "needs_background": "light"
     },
     "output_type": "display_data"
    }
   ],
   "source": [
    "plt.ylim(0, 150000)\n",
    "plt.scatter(x_values, orders['revenue'], color='green', alpha=0.5)\n",
    "plt.title('Распределение стоимости заказов по пользователям')\n",
    "plt.xlabel('Пользователи')\n",
    "plt.ylabel('Стоимость заказов')\n",
    "plt.show()"
   ]
  },
  {
   "cell_type": "markdown",
   "id": "100f60ab",
   "metadata": {},
   "source": [
    "Основная часть заказов не превышает 20000."
   ]
  },
  {
   "cell_type": "markdown",
   "id": "68f47f68",
   "metadata": {},
   "source": [
    "Посчитаем 95-й и 99-й прецентель и определим границу для аномалий"
   ]
  },
  {
   "cell_type": "code",
   "execution_count": 38,
   "id": "603f9d77",
   "metadata": {},
   "outputs": [
    {
     "name": "stdout",
     "output_type": "stream",
     "text": [
      "[26785. 53904.]\n"
     ]
    }
   ],
   "source": [
    "print(np.percentile(orders['revenue'], [95, 99])) "
   ]
  },
  {
   "cell_type": "markdown",
   "id": "c7f76de4",
   "metadata": {},
   "source": [
    "Выберем границу в 58233\n"
   ]
  },
  {
   "cell_type": "markdown",
   "id": "1112db7c",
   "metadata": {},
   "source": [
    "**2.8 Статистическая значимость различий в среднем количестве заказов на посетителя между группами, «сырые» данные**"
   ]
  },
  {
   "cell_type": "markdown",
   "id": "7eb11160",
   "metadata": {},
   "source": [
    "Посчитаем статистическую значимость различий в конверсии между группами по «сырым» данным — без удаления аномальных пользователей.\n",
    "\n",
    "Введем основную и альтернативные гипотезы"
   ]
  },
  {
   "cell_type": "markdown",
   "id": "b251f49d",
   "metadata": {},
   "source": [
    "Н0 - различий в среднем количестве заказов на посетителя между группами нет"
   ]
  },
  {
   "cell_type": "markdown",
   "id": "a54f12b2",
   "metadata": {},
   "source": [
    "Н1 -различия в среднем количестве заказов на посетителя между группами есть"
   ]
  },
  {
   "cell_type": "markdown",
   "id": "83ad9094",
   "metadata": {},
   "source": [
    "уровень значимости = 0.05"
   ]
  },
  {
   "cell_type": "markdown",
   "id": "012292e4",
   "metadata": {},
   "source": [
    "Так как данные о продажах и средних чеках редко бывают нормально распределены (это классический пример переменных, подверженных выбросам), для проверки гипотез будем использовать непараметрический тест Уилкоксона-Манна-Уитни.\n",
    "Для уровеня значимости установим стандартный уровень статистической значимости, равный 0.05."
   ]
  },
  {
   "cell_type": "code",
   "execution_count": 39,
   "id": "9bc313cd",
   "metadata": {},
   "outputs": [
    {
     "data": {
      "text/html": [
       "<div>\n",
       "<style scoped>\n",
       "    .dataframe tbody tr th:only-of-type {\n",
       "        vertical-align: middle;\n",
       "    }\n",
       "\n",
       "    .dataframe tbody tr th {\n",
       "        vertical-align: top;\n",
       "    }\n",
       "\n",
       "    .dataframe thead th {\n",
       "        text-align: right;\n",
       "    }\n",
       "</style>\n",
       "<table border=\"1\" class=\"dataframe\">\n",
       "  <thead>\n",
       "    <tr style=\"text-align: right;\">\n",
       "      <th></th>\n",
       "      <th>date</th>\n",
       "      <th>orders_daily_a</th>\n",
       "      <th>revenue_per_date_a</th>\n",
       "      <th>orders_daily_b</th>\n",
       "      <th>revenue_per_date_b</th>\n",
       "      <th>orders_cummulative_a</th>\n",
       "      <th>revenue_cummulative_a</th>\n",
       "      <th>orders_cummulative_b</th>\n",
       "      <th>revenue_cummulative_b</th>\n",
       "      <th>visitors_per_date_a</th>\n",
       "      <th>visitors_per_date_b</th>\n",
       "      <th>visitors_cummulative_a</th>\n",
       "      <th>visitors_cummulative_b</th>\n",
       "    </tr>\n",
       "  </thead>\n",
       "  <tbody>\n",
       "    <tr>\n",
       "      <th>0</th>\n",
       "      <td>2019-08-01</td>\n",
       "      <td>23</td>\n",
       "      <td>142779</td>\n",
       "      <td>17</td>\n",
       "      <td>59758</td>\n",
       "      <td>23</td>\n",
       "      <td>142779</td>\n",
       "      <td>17</td>\n",
       "      <td>59758</td>\n",
       "      <td>719</td>\n",
       "      <td>713</td>\n",
       "      <td>719</td>\n",
       "      <td>713</td>\n",
       "    </tr>\n",
       "    <tr>\n",
       "      <th>1</th>\n",
       "      <td>2019-08-02</td>\n",
       "      <td>19</td>\n",
       "      <td>91602</td>\n",
       "      <td>23</td>\n",
       "      <td>162043</td>\n",
       "      <td>42</td>\n",
       "      <td>234381</td>\n",
       "      <td>40</td>\n",
       "      <td>221801</td>\n",
       "      <td>619</td>\n",
       "      <td>581</td>\n",
       "      <td>1338</td>\n",
       "      <td>1294</td>\n",
       "    </tr>\n",
       "    <tr>\n",
       "      <th>2</th>\n",
       "      <td>2019-08-03</td>\n",
       "      <td>24</td>\n",
       "      <td>112473</td>\n",
       "      <td>14</td>\n",
       "      <td>67049</td>\n",
       "      <td>66</td>\n",
       "      <td>346854</td>\n",
       "      <td>54</td>\n",
       "      <td>288850</td>\n",
       "      <td>507</td>\n",
       "      <td>509</td>\n",
       "      <td>1845</td>\n",
       "      <td>1803</td>\n",
       "    </tr>\n",
       "    <tr>\n",
       "      <th>3</th>\n",
       "      <td>2019-08-04</td>\n",
       "      <td>11</td>\n",
       "      <td>41176</td>\n",
       "      <td>14</td>\n",
       "      <td>96890</td>\n",
       "      <td>77</td>\n",
       "      <td>388030</td>\n",
       "      <td>68</td>\n",
       "      <td>385740</td>\n",
       "      <td>717</td>\n",
       "      <td>770</td>\n",
       "      <td>2562</td>\n",
       "      <td>2573</td>\n",
       "    </tr>\n",
       "    <tr>\n",
       "      <th>4</th>\n",
       "      <td>2019-08-05</td>\n",
       "      <td>22</td>\n",
       "      <td>86383</td>\n",
       "      <td>21</td>\n",
       "      <td>89908</td>\n",
       "      <td>99</td>\n",
       "      <td>474413</td>\n",
       "      <td>89</td>\n",
       "      <td>475648</td>\n",
       "      <td>756</td>\n",
       "      <td>707</td>\n",
       "      <td>3318</td>\n",
       "      <td>3280</td>\n",
       "    </tr>\n",
       "    <tr>\n",
       "      <th>5</th>\n",
       "      <td>2019-08-06</td>\n",
       "      <td>15</td>\n",
       "      <td>40919</td>\n",
       "      <td>23</td>\n",
       "      <td>214842</td>\n",
       "      <td>114</td>\n",
       "      <td>515332</td>\n",
       "      <td>112</td>\n",
       "      <td>690490</td>\n",
       "      <td>667</td>\n",
       "      <td>655</td>\n",
       "      <td>3985</td>\n",
       "      <td>3935</td>\n",
       "    </tr>\n",
       "  </tbody>\n",
       "</table>\n",
       "</div>"
      ],
      "text/plain": [
       "        date  orders_daily_a  revenue_per_date_a  orders_daily_b  \\\n",
       "0 2019-08-01              23              142779              17   \n",
       "1 2019-08-02              19               91602              23   \n",
       "2 2019-08-03              24              112473              14   \n",
       "3 2019-08-04              11               41176              14   \n",
       "4 2019-08-05              22               86383              21   \n",
       "5 2019-08-06              15               40919              23   \n",
       "\n",
       "   revenue_per_date_b  orders_cummulative_a  revenue_cummulative_a  \\\n",
       "0               59758                    23                 142779   \n",
       "1              162043                    42                 234381   \n",
       "2               67049                    66                 346854   \n",
       "3               96890                    77                 388030   \n",
       "4               89908                    99                 474413   \n",
       "5              214842                   114                 515332   \n",
       "\n",
       "   orders_cummulative_b  revenue_cummulative_b  visitors_per_date_a  \\\n",
       "0                    17                  59758                  719   \n",
       "1                    40                 221801                  619   \n",
       "2                    54                 288850                  507   \n",
       "3                    68                 385740                  717   \n",
       "4                    89                 475648                  756   \n",
       "5                   112                 690490                  667   \n",
       "\n",
       "   visitors_per_date_b  visitors_cummulative_a  visitors_cummulative_b  \n",
       "0                  713                     719                     713  \n",
       "1                  581                    1338                    1294  \n",
       "2                  509                    1845                    1803  \n",
       "3                  770                    2562                    2573  \n",
       "4                  707                    3318                    3280  \n",
       "5                  655                    3985                    3935  "
      ]
     },
     "execution_count": 39,
     "metadata": {},
     "output_type": "execute_result"
    }
   ],
   "source": [
    "visitors_daily_a = visitors[visitors['group'] == 'A'][['date', 'visitors']]\n",
    "visitors_daily_a.columns = ['date', 'visitors_per_date_a']\n",
    "\n",
    "visitors_cummulative_a = visitors_daily_a.apply(\n",
    "    lambda x: visitors_daily_a[visitors_daily_a['date'] <= x['date']].agg(\n",
    "        {'date': 'max', 'visitors_per_date_a': 'sum'}\n",
    "    ),\n",
    "    axis=1,\n",
    ")\n",
    "visitors_cummulative_a.columns = ['date', 'visitors_cummulative_a']\n",
    "\n",
    "visitors_daily_b = visitors[visitors['group'] == 'B'][['date', 'visitors']]\n",
    "visitors_daily_b.columns = ['date', 'visitors_per_date_b']\n",
    "\n",
    "visitors_cummulative_b = visitors_daily_b.apply(\n",
    "    lambda x: visitors_daily_b[visitors_daily_b['date'] <= x['date']].agg(\n",
    "        {'date': 'max', 'visitors_per_date_b': 'sum'}\n",
    "    ),\n",
    "    axis=1,\n",
    ")\n",
    "visitors_cummulative_b.columns = ['date', 'visitors_cummulative_b']\n",
    "\n",
    "orders_daily_a = (\n",
    "    orders[orders['group'] == 'A'][['date', 'transaction_id', 'visitor_id', 'revenue']]\n",
    "    .groupby('date', as_index=False)\n",
    "    .agg({'transaction_id': pd.Series.nunique, 'revenue': 'sum'})\n",
    ")\n",
    "orders_daily_a.columns = ['date', 'orders_daily_a', 'revenue_per_date_a']\n",
    "\n",
    "orders_cummulative_a = orders_daily_a.apply(\n",
    "    lambda x: orders_daily_a[orders_daily_a['date'] <= x['date']].agg(\n",
    "        {'date': 'max', 'orders_daily_a': 'sum', 'revenue_per_date_a': 'sum'}\n",
    "    ),\n",
    "    axis=1,\n",
    ").sort_values(by=['date'])\n",
    "\n",
    "orders_cummulative_a.columns = ['date','orders_cummulative_a','revenue_cummulative_a']\n",
    "\n",
    "orders_daily_b = (\n",
    "    orders[orders['group'] == 'B'][['date', 'transaction_id', 'visitor_id', 'revenue']]\n",
    "    .groupby('date', as_index=False)\n",
    "    .agg({'transaction_id': pd.Series.nunique, 'revenue': 'sum'})\n",
    ")\n",
    "orders_daily_b.columns = ['date', 'orders_daily_b', 'revenue_per_date_b']\n",
    "\n",
    "orders_cummulative_b = orders_daily_b.apply(\n",
    "    lambda x: orders_daily_b[orders_daily_b['date'] <= x['date']].agg(\n",
    "        {'date': 'max', 'orders_daily_b': 'sum', 'revenue_per_date_b': 'sum'}\n",
    "    ),\n",
    "    axis=1,\n",
    ").sort_values(by=['date'])\n",
    "\n",
    "orders_cummulative_b.columns = ['date','orders_cummulative_b','revenue_cummulative_b']\n",
    "\n",
    "\n",
    "data = (\n",
    "    orders_daily_a.merge(\n",
    "        orders_daily_b, left_on='date', right_on='date', how='left'\n",
    "    )\n",
    "    .merge(orders_cummulative_a, left_on='date', right_on='date', how='left')\n",
    "    .merge(orders_cummulative_b, left_on='date', right_on='date', how='left')\n",
    "    .merge(visitors_daily_a, left_on='date', right_on='date', how='left')\n",
    "    .merge(visitors_daily_b, left_on='date', right_on='date', how='left')\n",
    "    .merge(visitors_cummulative_a, left_on='date', right_on='date', how='left')\n",
    "    .merge(visitors_cummulative_b, left_on='date', right_on='date', how='left')\n",
    ")\n",
    "\n",
    "data.head(6)"
   ]
  },
  {
   "cell_type": "markdown",
   "id": "26959cbc",
   "metadata": {},
   "source": [
    "У нас получилась таблица, где"
   ]
  },
  {
   "cell_type": "markdown",
   "id": "e6203ef4",
   "metadata": {},
   "source": [
    "- date — дата;\n",
    "- orders_daily_a — количество заказов в выбранную дату в группе A;\n",
    "- revenue_per_date_a — суммарная выручка в выбранную дату в группе A;\n",
    "- orders_daily_a — количество заказов в выбранную дату в группе B;\n",
    "- revenue_per_date_a — суммарная выручка в выбранную дату в группе B;\n",
    "- orders_cummulative_a — суммарное число заказов до выбранной даты включительно в группе A;\n",
    "- revenue_cummulative_a — суммарная выручка до выбранной даты включительно в группе A;\n",
    "- orders_cummulative_b — суммарное количество заказов до выбранной даты включительно в группе B;\n",
    "- revenue_cummulative_b — суммарная выручка до выбранной даты включительно в группе B;\n",
    "- visitors_per_date_a — количество пользователей в выбранную дату в группе A;\n",
    "- visitors_per_date_b — количество пользователей в выбранную дату в группе B;\n",
    "- visitors_cummulative_a — количество пользователей до выбранной даты включительно в группе A;\n",
    "- visitors_cummulative_b — количество пользователей до выбранной даты включительно в группе B."
   ]
  },
  {
   "cell_type": "markdown",
   "id": "bdd52897",
   "metadata": {},
   "source": [
    "Создадим переменные orders_by_users_a и orders_by_users_a; в них для пользователей, которые заказывали хотя бы 1 раз, укажем число совершённых заказов."
   ]
  },
  {
   "cell_type": "code",
   "execution_count": 40,
   "id": "25e9bbb0",
   "metadata": {},
   "outputs": [],
   "source": [
    "orders_by_users_a = (\n",
    "    orders[orders['group'] == 'A']\n",
    "    .groupby('visitor_id', as_index=False)\n",
    "    .agg({'transaction_id': pd.Series.nunique})\n",
    ")\n",
    "orders_by_users_a.columns = ['visitor_id', 'orders']\n",
    "\n",
    "orders_by_users_b = (\n",
    "    orders[orders['group'] == 'B']\n",
    "    .groupby('visitor_id', as_index=False)\n",
    "    .agg({'transaction_id': pd.Series.nunique})\n",
    ")\n",
    "orders_by_users_b.columns = ['visitor_id', 'orders']"
   ]
  },
  {
   "cell_type": "markdown",
   "id": "25947fdc",
   "metadata": {},
   "source": [
    "Далее создадим переменные sample_a и sample_b, в которых пользователям из разных групп будет соответствовать количество заказов. Тем, кто ничего не заказал, будут соответствовать нули. Это нужно, чтобы подготовить выборки к проверке критерием Манна-Уитни."
   ]
  },
  {
   "cell_type": "code",
   "execution_count": 41,
   "id": "f0c87fdc",
   "metadata": {},
   "outputs": [],
   "source": [
    "sample_a = pd.concat([orders_by_users_a['orders'],\n",
    "                      pd.Series(\n",
    "                          0, \n",
    "                          index=np.arange(data['visitors_per_date_a'].sum() - \n",
    "                                          len(orders_by_users_a['orders'])), \n",
    "                          name='orders')],axis=0\n",
    "                    )\n",
    "\n",
    "sample_b = pd.concat([orders_by_users_b['orders'],\n",
    "                      pd.Series(\n",
    "                          0, \n",
    "                          index=np.arange(data['visitors_per_date_b'].sum() - \n",
    "                                          len(orders_by_users_b['orders'])), \n",
    "                          name='orders')],axis=0\n",
    "                    )"
   ]
  },
  {
   "cell_type": "markdown",
   "id": "ddac913f",
   "metadata": {},
   "source": [
    "Создадим  функцию, в которой:\n",
    "\n",
    "- задаем уровень значимости alpha=0.05,\n",
    "- применим критерий Манна-Уитни,\n",
    "- отформатируем p-value, округлив его до трёх знаков после запятой,\n",
    "- выведем относительный прирост конверсии группы B: конверсия группы B / конверсия группы A - 1, округлив до трёх знаков после запятой."
   ]
  },
  {
   "cell_type": "code",
   "execution_count": 42,
   "id": "826bc00b",
   "metadata": {},
   "outputs": [],
   "source": [
    "def stat_significance(data_a, data_b):\n",
    "    alpha = 0.05\n",
    "    p_value = st.mannwhitneyu(data_a, data_b)[1]\n",
    "    print(\"P-value: {0:.3f}\".format(p_value))\n",
    "\n",
    "    if (p_value < alpha):\n",
    "        print(\"Отвергаем нулевую гипотезу: между группами есть разница\")\n",
    "    else:\n",
    "        print(\"Не получилось отвергнуть нулевую гипотезу, нет оснований считать группы разными\")\n",
    "    \n",
    "    print(\"Относительный прирост В к А: {0:.3%}\".format(data_b.mean() / data_a.mean()-1))"
   ]
  },
  {
   "cell_type": "code",
   "execution_count": 43,
   "id": "b5d0bd0c",
   "metadata": {},
   "outputs": [
    {
     "name": "stdout",
     "output_type": "stream",
     "text": [
      "P-value: 0.011\n",
      "Отвергаем нулевую гипотезу: между группами есть разница\n",
      "Относительный прирост В к А: 15.980%\n"
     ]
    }
   ],
   "source": [
    "stat_significance(sample_a, sample_b)"
   ]
  },
  {
   "cell_type": "markdown",
   "id": "3fb273bb",
   "metadata": {},
   "source": [
    "По 'сырым' данным различия в конверсии между группами есть.\n",
    "P-value = 0.017 меньше 0.05. Значит, нулевую гипотезу о том, что статистически значимых различий в среднем количестве заказов на посетителя между группами нет, отвергаем. Относительный выигрыш группы B равен 13.81%."
   ]
  },
  {
   "cell_type": "markdown",
   "id": "b561ec1d",
   "metadata": {},
   "source": [
    "**2.9 Статистическая значимость различий в среднем чеке заказа между группами, «сырые» данные**"
   ]
  },
  {
   "cell_type": "markdown",
   "id": "944b22de",
   "metadata": {},
   "source": [
    "Введем основную и альтернативные гипотезы"
   ]
  },
  {
   "cell_type": "markdown",
   "id": "00b20cda",
   "metadata": {},
   "source": [
    "Н0 - различий в среднем чеке между группами нет"
   ]
  },
  {
   "cell_type": "markdown",
   "id": "9fd2f8c3",
   "metadata": {},
   "source": [
    "Н1 - различия в среднем чеке между группами есть"
   ]
  },
  {
   "cell_type": "markdown",
   "id": "2463e98f",
   "metadata": {},
   "source": [
    "Уровень значимости = 0,05"
   ]
  },
  {
   "cell_type": "markdown",
   "id": "10b8de1a",
   "metadata": {},
   "source": [
    "Чтобы рассчитать статистическую значимость различий в среднем чеке, передадим критерию mannwhitneyu() данные о выручке с заказов. А ещё найдём относительные различия в среднем чеке между группами."
   ]
  },
  {
   "cell_type": "code",
   "execution_count": 44,
   "id": "8e366a69",
   "metadata": {},
   "outputs": [
    {
     "name": "stdout",
     "output_type": "stream",
     "text": [
      "P-value: 0.829\n",
      "Не получилось отвергнуть нулевую гипотезу, нет оснований считать группы разными\n",
      "Относительный прирост В к А: 28.660%\n"
     ]
    }
   ],
   "source": [
    "stat_significance(orders[orders['group']=='A']['revenue'], orders[orders['group']=='B']['revenue'])\n"
   ]
  },
  {
   "cell_type": "markdown",
   "id": "08e96922",
   "metadata": {},
   "source": [
    "P-value значительно больше 0.05. Значит, причин отвергать нулевую гипотезу и считать, что в среднем чеке есть различия, нет. Впрочем, средний чек группы B значительно выше среднего чека группы A."
   ]
  },
  {
   "cell_type": "markdown",
   "id": "d4531d49",
   "metadata": {},
   "source": [
    "**2.10 Статистическая значимость  различий в среднем количестве заказов на посетителя между группами, «очищенные» данные** "
   ]
  },
  {
   "cell_type": "markdown",
   "id": "f9fc5a71",
   "metadata": {},
   "source": [
    "Возьмем за аномальных пользователей тех, кто совершил от 5 заказов или совершил заказ дороже 58233. Таким образом мы избавимся от 1% пользователей с наибольшим числом заказов и от 1% пользователей с дорогими заказами.Далее сделаем срезы пользователей с числом заказов больше 4 — users_with_many_orders и пользователей, совершивших заказы дороже 58233 — users_with_expensive_orders. Объединим их в таблице abnormal_users.\n",
    "Узнаем, сколько всего аномальных пользователей методом shape()."
   ]
  },
  {
   "cell_type": "code",
   "execution_count": 45,
   "id": "048bcfd7",
   "metadata": {},
   "outputs": [
    {
     "data": {
      "text/plain": [
       "1099    148427295\n",
       "33      249864742\n",
       "58      611059232\n",
       "949     887908475\n",
       "744     888512513\n",
       "Name: visitor_id, dtype: int64"
      ]
     },
     "metadata": {},
     "output_type": "display_data"
    },
    {
     "data": {
      "text/plain": [
       "16"
      ]
     },
     "execution_count": 45,
     "metadata": {},
     "output_type": "execute_result"
    }
   ],
   "source": [
    "many_orders = np.percentile(orders_by_users['orders'], 99)\n",
    "expensive_orders = np.percentile(orders['revenue'], 99)\n",
    "\n",
    "\n",
    "users_with_many_orders = pd.concat(\n",
    "    [\n",
    "        orders_by_users_a[orders_by_users_a['orders'] > many_orders]['visitor_id'],\n",
    "        orders_by_users_b[orders_by_users_b['orders'] > many_orders]['visitor_id'],\n",
    "    ],\n",
    "    axis=0,\n",
    ")\n",
    "\n",
    "\n",
    "users_with_expensive_orders = orders[orders['revenue'] > expensive_orders]['visitor_id']\n",
    "\n",
    "\n",
    "abnormal_users = (\n",
    "    pd.concat([users_with_many_orders, users_with_expensive_orders], axis=0)\n",
    "    .drop_duplicates()\n",
    "    .sort_values()\n",
    ")\n",
    "display(abnormal_users.head(5))\n",
    "abnormal_users.shape[0]"
   ]
  },
  {
   "cell_type": "markdown",
   "id": "628b0d6e",
   "metadata": {},
   "source": [
    "Всего 15 аномальных пользователей.\n",
    "Узнаем, как их действия повлияли на результаты теста. Посчитаем статистическую значимость различий в конверсии между группами теста по очищенным данным. Сначала подготовим выборки количества заказов по пользователям по группам теста."
   ]
  },
  {
   "cell_type": "markdown",
   "id": "7a4d716f",
   "metadata": {},
   "source": [
    "Оценим потери пользователей в относительном выражении.\n"
   ]
  },
  {
   "cell_type": "code",
   "execution_count": 46,
   "id": "f2ec935d",
   "metadata": {},
   "outputs": [
    {
     "data": {
      "text/plain": [
       "0.01644398766700925"
      ]
     },
     "execution_count": 46,
     "metadata": {},
     "output_type": "execute_result"
    }
   ],
   "source": [
    "abnormal_users.shape[0]/len(orders['visitor_id'].unique())"
   ]
  },
  {
   "cell_type": "markdown",
   "id": "6f7576c0",
   "metadata": {},
   "source": [
    "В относительном выражение потери пользователей составлюют примерно 1,5 % , что допустимо."
   ]
  },
  {
   "cell_type": "code",
   "execution_count": 47,
   "id": "f9092929",
   "metadata": {},
   "outputs": [],
   "source": [
    "sample_a_filtered = pd.concat(\n",
    "    [\n",
    "        orders_by_users_a[\n",
    "            np.logical_not(orders_by_users_a['visitor_id'].isin(abnormal_users))\n",
    "        ]['orders'],\n",
    "        pd.Series(\n",
    "            0,\n",
    "            index=np.arange(\n",
    "                data['visitors_per_date_a'].sum() - len(orders_by_users_a['orders'])\n",
    "            ),\n",
    "            name='orders',\n",
    "        ),\n",
    "    ],\n",
    "    axis=0,\n",
    ")\n",
    "\n",
    "sample_b_filtered = pd.concat(\n",
    "    [\n",
    "        orders_by_users_b[\n",
    "            np.logical_not(orders_by_users_b['visitor_id'].isin(abnormal_users))\n",
    "        ]['orders'],\n",
    "        pd.Series(\n",
    "            0,\n",
    "            index=np.arange(\n",
    "                data['visitors_per_date_b'].sum() - len(orders_by_users_b['orders'])\n",
    "            ),\n",
    "            name='orders',\n",
    "        ),\n",
    "    ],\n",
    "    axis=0,\n",
    ")"
   ]
  },
  {
   "cell_type": "code",
   "execution_count": 48,
   "id": "78c908fd",
   "metadata": {},
   "outputs": [
    {
     "name": "stdout",
     "output_type": "stream",
     "text": [
      "P-value: 0.007\n",
      "Отвергаем нулевую гипотезу: между группами есть разница\n",
      "Относительный прирост В к А: 18.921%\n"
     ]
    }
   ],
   "source": [
    "stat_significance(sample_a_filtered, sample_b_filtered)"
   ]
  },
  {
   "cell_type": "markdown",
   "id": "fe6ef2a2",
   "metadata": {},
   "source": [
    "На очищенных данных разница в среднем количестве заказов на посетителя между группами есть, а относительный прирост среднего количества заказов на посетителя группы В отнистельно группы А увеличился на 15.3%."
   ]
  },
  {
   "cell_type": "markdown",
   "id": "4607119e",
   "metadata": {},
   "source": [
    "**2.11 Статистическая значимость различий в среднем чеке заказа между группами, «очищенные» данные.**"
   ]
  },
  {
   "cell_type": "markdown",
   "id": "84c8cbe7",
   "metadata": {},
   "source": [
    "Подсчитаем статистическую значимость различий в среднем чеке после удаления аномальных пользователей."
   ]
  },
  {
   "cell_type": "code",
   "execution_count": 49,
   "id": "d1b0cffb",
   "metadata": {},
   "outputs": [
    {
     "name": "stdout",
     "output_type": "stream",
     "text": [
      "P-value: 0.788\n",
      "Не получилось отвергнуть нулевую гипотезу, нет оснований считать группы разными\n",
      "Относительный прирост В к А: -3.234%\n"
     ]
    }
   ],
   "source": [
    "stat_significance(\n",
    "    orders[(orders['group']=='A') & np.logical_not(orders['visitor_id'].isin(abnormal_users))]['revenue'], \n",
    "    orders[(orders['group']=='B') & np.logical_not(orders['visitor_id'].isin(abnormal_users))]['revenue']\n",
    "                  )"
   ]
  },
  {
   "cell_type": "markdown",
   "id": "adfb249c",
   "metadata": {},
   "source": [
    "P-value значительно больше 0.05. Значит, причин отвергать нулевую гипотезу и считать, что в среднем чеке есть различия, нет. По разнице средних чеков групп различий практически нет."
   ]
  },
  {
   "cell_type": "markdown",
   "id": "bee05158",
   "metadata": {},
   "source": [
    "**3 Вывод**"
   ]
  },
  {
   "cell_type": "markdown",
   "id": "899222f3",
   "metadata": {},
   "source": [
    "**3.1 Приоретизация гипотез**"
   ]
  },
  {
   "cell_type": "markdown",
   "id": "407c92dc",
   "metadata": {},
   "source": [
    "В части приоритизации гипотез из списка, предоставленных отделом Маркетинга следует в первую очередь обратить внимание на гипотезы:"
   ]
  },
  {
   "cell_type": "markdown",
   "id": "024281f3",
   "metadata": {},
   "source": [
    "- \"Запустить акцию, дающую скидку на товар в день рождения\",\n",
    "- \"Добавить два новых канала привлечения трафика, что позволит привлекать на 30% больше пользователей\",\n",
    "- \"Добавить форму подписки на все основные страницы, чтобы собрать базу клиентов для email-рассылок\";\n",
    "Если ранжирование гипотез должно включать в себя и охват пользователей интернет-магазина, то места необходимо распределить таким образом:\n",
    "\n",
    "- \"Добавить форму подписки на все основные страницы, чтобы собрать базу клиентов для email-рассылок\",\n",
    "- \"Добавить блоки рекомендаций товаров на сайт интернет магазина, чтобы повысить конверсию и средний чек заказа\",\n",
    "- \"Добавить два новых канала привлечения трафика, что позволит привлекать на 30% больше пользователей\"."
   ]
  },
  {
   "cell_type": "markdown",
   "id": "924852b9",
   "metadata": {},
   "source": [
    "**3.2 Анализ А/В теста**"
   ]
  },
  {
   "cell_type": "markdown",
   "id": "1c8b8acd",
   "metadata": {},
   "source": [
    "Есть статистически значимое различие в среднем количестве заказов на посетителя между группами как по «сырым», так и по данным после фильтрации аномалий.Среднее количество заказов на посетителя группы В выше, чем в А, на 14-15%;"
   ]
  },
  {
   "cell_type": "markdown",
   "id": "a680d1b0",
   "metadata": {},
   "source": [
    "Нет статистически значимого различия по среднему чеку между группами ни по «сырым», ни по данным после фильтрации аномалий. При этом средний чек группы В выше (на \"очищенных\" данных - на ~2%);"
   ]
  },
  {
   "cell_type": "markdown",
   "id": "51d72fef",
   "metadata": {},
   "source": [
    "График относительного изменения кумулятивного среднего количества заказов на посетителя группы B к группе A показывает, что результаты группы В стабильно лучше группы А;"
   ]
  },
  {
   "cell_type": "markdown",
   "id": "19f86f55",
   "metadata": {},
   "source": [
    "На основании вышеизложенного рекомендуем остановить тест, зафиксировав победу группы B (ее среднее количество заказов на посетителя значительно выше , чем у группы группы А)."
   ]
  }
 ],
 "metadata": {
  "ExecuteTimeLog": [
   {
    "duration": 58,
    "start_time": "2023-04-30T08:56:09.264Z"
   },
   {
    "duration": 1442,
    "start_time": "2023-04-30T08:56:14.338Z"
   },
   {
    "duration": 144,
    "start_time": "2023-04-30T08:56:15.782Z"
   },
   {
    "duration": 0,
    "start_time": "2023-04-30T08:56:15.930Z"
   },
   {
    "duration": 0,
    "start_time": "2023-04-30T08:56:15.932Z"
   },
   {
    "duration": 0,
    "start_time": "2023-04-30T08:56:15.934Z"
   },
   {
    "duration": 0,
    "start_time": "2023-04-30T08:56:15.936Z"
   },
   {
    "duration": 0,
    "start_time": "2023-04-30T08:56:15.938Z"
   },
   {
    "duration": 0,
    "start_time": "2023-04-30T08:56:15.939Z"
   },
   {
    "duration": 0,
    "start_time": "2023-04-30T08:56:15.940Z"
   },
   {
    "duration": 0,
    "start_time": "2023-04-30T08:56:15.942Z"
   },
   {
    "duration": 0,
    "start_time": "2023-04-30T08:56:15.943Z"
   },
   {
    "duration": 0,
    "start_time": "2023-04-30T08:56:15.944Z"
   },
   {
    "duration": 0,
    "start_time": "2023-04-30T08:56:15.946Z"
   },
   {
    "duration": 0,
    "start_time": "2023-04-30T08:56:15.948Z"
   },
   {
    "duration": 0,
    "start_time": "2023-04-30T08:56:15.949Z"
   },
   {
    "duration": 0,
    "start_time": "2023-04-30T08:56:15.950Z"
   },
   {
    "duration": 0,
    "start_time": "2023-04-30T08:56:15.951Z"
   },
   {
    "duration": 0,
    "start_time": "2023-04-30T08:56:15.994Z"
   },
   {
    "duration": 0,
    "start_time": "2023-04-30T08:56:15.995Z"
   },
   {
    "duration": 0,
    "start_time": "2023-04-30T08:56:15.996Z"
   },
   {
    "duration": 0,
    "start_time": "2023-04-30T08:56:15.997Z"
   },
   {
    "duration": 0,
    "start_time": "2023-04-30T08:56:15.999Z"
   },
   {
    "duration": 0,
    "start_time": "2023-04-30T08:56:16.000Z"
   },
   {
    "duration": 0,
    "start_time": "2023-04-30T08:56:16.001Z"
   },
   {
    "duration": 0,
    "start_time": "2023-04-30T08:56:16.004Z"
   },
   {
    "duration": 0,
    "start_time": "2023-04-30T08:56:16.006Z"
   },
   {
    "duration": 0,
    "start_time": "2023-04-30T08:56:16.008Z"
   },
   {
    "duration": 0,
    "start_time": "2023-04-30T08:56:16.008Z"
   },
   {
    "duration": 0,
    "start_time": "2023-04-30T08:56:16.009Z"
   },
   {
    "duration": 0,
    "start_time": "2023-04-30T08:56:16.010Z"
   },
   {
    "duration": 0,
    "start_time": "2023-04-30T08:56:16.011Z"
   },
   {
    "duration": 0,
    "start_time": "2023-04-30T08:56:16.013Z"
   },
   {
    "duration": 0,
    "start_time": "2023-04-30T08:56:16.015Z"
   },
   {
    "duration": 0,
    "start_time": "2023-04-30T08:56:16.016Z"
   },
   {
    "duration": 0,
    "start_time": "2023-04-30T08:56:16.018Z"
   },
   {
    "duration": 0,
    "start_time": "2023-04-30T08:56:16.019Z"
   },
   {
    "duration": 0,
    "start_time": "2023-04-30T08:56:16.020Z"
   },
   {
    "duration": 0,
    "start_time": "2023-04-30T08:56:16.022Z"
   },
   {
    "duration": 0,
    "start_time": "2023-04-30T08:56:16.024Z"
   },
   {
    "duration": 0,
    "start_time": "2023-04-30T08:56:16.026Z"
   },
   {
    "duration": 0,
    "start_time": "2023-04-30T08:56:16.028Z"
   },
   {
    "duration": 0,
    "start_time": "2023-04-30T08:56:16.030Z"
   },
   {
    "duration": 0,
    "start_time": "2023-04-30T08:56:16.031Z"
   },
   {
    "duration": 0,
    "start_time": "2023-04-30T08:56:16.032Z"
   },
   {
    "duration": 51,
    "start_time": "2023-04-30T08:56:58.751Z"
   },
   {
    "duration": 109,
    "start_time": "2023-04-30T08:57:21.240Z"
   },
   {
    "duration": 118,
    "start_time": "2023-04-30T08:57:54.334Z"
   },
   {
    "duration": 142,
    "start_time": "2023-04-30T08:57:56.109Z"
   },
   {
    "duration": 1299,
    "start_time": "2023-04-30T08:58:01.847Z"
   },
   {
    "duration": 49,
    "start_time": "2023-04-30T08:58:03.148Z"
   },
   {
    "duration": 62,
    "start_time": "2023-04-30T08:58:03.202Z"
   },
   {
    "duration": 33,
    "start_time": "2023-04-30T08:58:03.266Z"
   },
   {
    "duration": 7,
    "start_time": "2023-04-30T08:58:03.302Z"
   },
   {
    "duration": 13,
    "start_time": "2023-04-30T08:58:03.311Z"
   },
   {
    "duration": 7,
    "start_time": "2023-04-30T08:58:03.326Z"
   },
   {
    "duration": 6,
    "start_time": "2023-04-30T08:58:03.334Z"
   },
   {
    "duration": 4,
    "start_time": "2023-04-30T08:58:03.342Z"
   },
   {
    "duration": 17,
    "start_time": "2023-04-30T08:58:03.348Z"
   },
   {
    "duration": 27,
    "start_time": "2023-04-30T08:58:03.367Z"
   },
   {
    "duration": 23,
    "start_time": "2023-04-30T08:58:03.400Z"
   },
   {
    "duration": 13,
    "start_time": "2023-04-30T08:58:03.425Z"
   },
   {
    "duration": 6,
    "start_time": "2023-04-30T08:58:03.440Z"
   },
   {
    "duration": 217,
    "start_time": "2023-04-30T08:58:03.448Z"
   },
   {
    "duration": 164,
    "start_time": "2023-04-30T08:58:03.667Z"
   },
   {
    "duration": 7,
    "start_time": "2023-04-30T08:58:03.833Z"
   },
   {
    "duration": 16,
    "start_time": "2023-04-30T08:58:03.841Z"
   },
   {
    "duration": 10,
    "start_time": "2023-04-30T08:58:03.859Z"
   },
   {
    "duration": 427,
    "start_time": "2023-04-30T08:58:03.871Z"
   },
   {
    "duration": 275,
    "start_time": "2023-04-30T08:58:04.300Z"
   },
   {
    "duration": 14,
    "start_time": "2023-04-30T08:58:04.577Z"
   },
   {
    "duration": 355,
    "start_time": "2023-04-30T08:58:04.594Z"
   },
   {
    "duration": 4,
    "start_time": "2023-04-30T08:58:04.951Z"
   },
   {
    "duration": 270,
    "start_time": "2023-04-30T08:58:04.957Z"
   },
   {
    "duration": 345,
    "start_time": "2023-04-30T08:58:05.229Z"
   },
   {
    "duration": 170,
    "start_time": "2023-04-30T08:58:05.576Z"
   },
   {
    "duration": 159,
    "start_time": "2023-04-30T08:58:05.749Z"
   },
   {
    "duration": 18,
    "start_time": "2023-04-30T08:58:05.910Z"
   },
   {
    "duration": 9,
    "start_time": "2023-04-30T08:58:05.929Z"
   },
   {
    "duration": 228,
    "start_time": "2023-04-30T08:58:05.940Z"
   },
   {
    "duration": 170,
    "start_time": "2023-04-30T08:58:06.170Z"
   },
   {
    "duration": 185,
    "start_time": "2023-04-30T08:58:06.342Z"
   },
   {
    "duration": 4,
    "start_time": "2023-04-30T08:58:06.529Z"
   },
   {
    "duration": 273,
    "start_time": "2023-04-30T08:58:06.535Z"
   },
   {
    "duration": 165,
    "start_time": "2023-04-30T08:58:06.810Z"
   },
   {
    "duration": 7,
    "start_time": "2023-04-30T08:58:06.977Z"
   },
   {
    "duration": 7,
    "start_time": "2023-04-30T08:58:06.986Z"
   },
   {
    "duration": 133,
    "start_time": "2023-04-30T08:58:06.995Z"
   },
   {
    "duration": 1,
    "start_time": "2023-04-30T08:58:07.130Z"
   },
   {
    "duration": 0,
    "start_time": "2023-04-30T08:58:07.132Z"
   },
   {
    "duration": 0,
    "start_time": "2023-04-30T08:58:07.134Z"
   },
   {
    "duration": 0,
    "start_time": "2023-04-30T08:58:07.136Z"
   },
   {
    "duration": 0,
    "start_time": "2023-04-30T08:58:07.137Z"
   },
   {
    "duration": 6,
    "start_time": "2023-04-30T09:00:01.204Z"
   },
   {
    "duration": 27,
    "start_time": "2023-04-30T09:00:02.606Z"
   },
   {
    "duration": 14,
    "start_time": "2023-04-30T09:00:06.410Z"
   },
   {
    "duration": 17,
    "start_time": "2023-04-30T09:00:07.241Z"
   },
   {
    "duration": 13,
    "start_time": "2023-04-30T09:00:07.912Z"
   },
   {
    "duration": 27,
    "start_time": "2023-04-30T09:00:08.105Z"
   },
   {
    "duration": 15,
    "start_time": "2023-04-30T09:00:09.284Z"
   },
   {
    "duration": 207,
    "start_time": "2023-04-30T09:00:51.214Z"
   },
   {
    "duration": 222,
    "start_time": "2023-04-30T09:01:07.462Z"
   },
   {
    "duration": 199,
    "start_time": "2023-04-30T09:01:12.355Z"
   },
   {
    "duration": 243,
    "start_time": "2023-04-30T09:01:18.121Z"
   },
   {
    "duration": 314,
    "start_time": "2023-04-30T09:01:50.725Z"
   },
   {
    "duration": 201,
    "start_time": "2023-04-30T09:47:41.454Z"
   },
   {
    "duration": 271,
    "start_time": "2023-04-30T09:52:18.337Z"
   },
   {
    "duration": 287,
    "start_time": "2023-04-30T09:53:39.433Z"
   },
   {
    "duration": 296,
    "start_time": "2023-04-30T09:53:49.884Z"
   },
   {
    "duration": 227,
    "start_time": "2023-04-30T09:53:56.762Z"
   },
   {
    "duration": 237,
    "start_time": "2023-04-30T09:54:15.727Z"
   },
   {
    "duration": 212,
    "start_time": "2023-04-30T09:54:53.061Z"
   },
   {
    "duration": 257,
    "start_time": "2023-04-30T09:55:02.275Z"
   },
   {
    "duration": 53,
    "start_time": "2023-04-30T09:55:06.633Z"
   },
   {
    "duration": 197,
    "start_time": "2023-04-30T09:55:19.524Z"
   },
   {
    "duration": 255,
    "start_time": "2023-04-30T09:57:32.306Z"
   },
   {
    "duration": 372,
    "start_time": "2023-04-30T09:57:39.176Z"
   },
   {
    "duration": 296,
    "start_time": "2023-04-30T09:57:58.344Z"
   },
   {
    "duration": 270,
    "start_time": "2023-04-30T09:58:45.735Z"
   },
   {
    "duration": 199,
    "start_time": "2023-04-30T10:00:05.920Z"
   },
   {
    "duration": 283,
    "start_time": "2023-04-30T10:00:24.541Z"
   },
   {
    "duration": 1231,
    "start_time": "2023-04-30T10:00:37.236Z"
   },
   {
    "duration": 51,
    "start_time": "2023-04-30T10:00:38.469Z"
   },
   {
    "duration": 59,
    "start_time": "2023-04-30T10:00:38.522Z"
   },
   {
    "duration": 37,
    "start_time": "2023-04-30T10:00:38.583Z"
   },
   {
    "duration": 7,
    "start_time": "2023-04-30T10:00:38.623Z"
   },
   {
    "duration": 5,
    "start_time": "2023-04-30T10:00:38.633Z"
   },
   {
    "duration": 8,
    "start_time": "2023-04-30T10:00:38.640Z"
   },
   {
    "duration": 7,
    "start_time": "2023-04-30T10:00:38.650Z"
   },
   {
    "duration": 32,
    "start_time": "2023-04-30T10:00:38.659Z"
   },
   {
    "duration": 10,
    "start_time": "2023-04-30T10:00:38.695Z"
   },
   {
    "duration": 9,
    "start_time": "2023-04-30T10:00:38.709Z"
   },
   {
    "duration": 12,
    "start_time": "2023-04-30T10:00:38.720Z"
   },
   {
    "duration": 13,
    "start_time": "2023-04-30T10:00:38.734Z"
   },
   {
    "duration": 41,
    "start_time": "2023-04-30T10:00:38.750Z"
   },
   {
    "duration": 276,
    "start_time": "2023-04-30T10:00:38.793Z"
   },
   {
    "duration": 210,
    "start_time": "2023-04-30T10:00:39.072Z"
   },
   {
    "duration": 14,
    "start_time": "2023-04-30T10:00:39.286Z"
   },
   {
    "duration": 14,
    "start_time": "2023-04-30T10:00:39.302Z"
   },
   {
    "duration": 9,
    "start_time": "2023-04-30T10:00:39.317Z"
   },
   {
    "duration": 369,
    "start_time": "2023-04-30T10:00:39.328Z"
   },
   {
    "duration": 270,
    "start_time": "2023-04-30T10:00:39.698Z"
   },
   {
    "duration": 15,
    "start_time": "2023-04-30T10:00:39.970Z"
   },
   {
    "duration": 393,
    "start_time": "2023-04-30T10:00:39.988Z"
   },
   {
    "duration": 5,
    "start_time": "2023-04-30T10:00:40.382Z"
   },
   {
    "duration": 357,
    "start_time": "2023-04-30T10:00:40.388Z"
   },
   {
    "duration": 0,
    "start_time": "2023-04-30T10:00:40.747Z"
   },
   {
    "duration": 0,
    "start_time": "2023-04-30T10:00:40.749Z"
   },
   {
    "duration": 0,
    "start_time": "2023-04-30T10:00:40.750Z"
   },
   {
    "duration": 0,
    "start_time": "2023-04-30T10:00:40.752Z"
   },
   {
    "duration": 0,
    "start_time": "2023-04-30T10:00:40.753Z"
   },
   {
    "duration": 0,
    "start_time": "2023-04-30T10:00:40.755Z"
   },
   {
    "duration": 0,
    "start_time": "2023-04-30T10:00:40.757Z"
   },
   {
    "duration": 0,
    "start_time": "2023-04-30T10:00:40.758Z"
   },
   {
    "duration": 0,
    "start_time": "2023-04-30T10:00:40.795Z"
   },
   {
    "duration": 0,
    "start_time": "2023-04-30T10:00:40.796Z"
   },
   {
    "duration": 0,
    "start_time": "2023-04-30T10:00:40.797Z"
   },
   {
    "duration": 0,
    "start_time": "2023-04-30T10:00:40.798Z"
   },
   {
    "duration": 0,
    "start_time": "2023-04-30T10:00:40.799Z"
   },
   {
    "duration": 0,
    "start_time": "2023-04-30T10:00:40.800Z"
   },
   {
    "duration": 0,
    "start_time": "2023-04-30T10:00:40.800Z"
   },
   {
    "duration": 0,
    "start_time": "2023-04-30T10:00:40.801Z"
   },
   {
    "duration": 0,
    "start_time": "2023-04-30T10:00:40.801Z"
   },
   {
    "duration": 0,
    "start_time": "2023-04-30T10:00:40.802Z"
   },
   {
    "duration": 0,
    "start_time": "2023-04-30T10:00:40.803Z"
   },
   {
    "duration": 1316,
    "start_time": "2023-04-30T10:05:33.455Z"
   },
   {
    "duration": 54,
    "start_time": "2023-04-30T10:05:34.773Z"
   },
   {
    "duration": 66,
    "start_time": "2023-04-30T10:05:34.830Z"
   },
   {
    "duration": 46,
    "start_time": "2023-04-30T10:05:34.898Z"
   },
   {
    "duration": 8,
    "start_time": "2023-04-30T10:05:34.946Z"
   },
   {
    "duration": 6,
    "start_time": "2023-04-30T10:05:34.956Z"
   },
   {
    "duration": 18,
    "start_time": "2023-04-30T10:05:34.964Z"
   },
   {
    "duration": 13,
    "start_time": "2023-04-30T10:05:34.985Z"
   },
   {
    "duration": 29,
    "start_time": "2023-04-30T10:05:35.001Z"
   },
   {
    "duration": 8,
    "start_time": "2023-04-30T10:05:35.034Z"
   },
   {
    "duration": 10,
    "start_time": "2023-04-30T10:05:35.044Z"
   },
   {
    "duration": 10,
    "start_time": "2023-04-30T10:05:35.056Z"
   },
   {
    "duration": 31,
    "start_time": "2023-04-30T10:05:35.068Z"
   },
   {
    "duration": 11,
    "start_time": "2023-04-30T10:05:35.101Z"
   },
   {
    "duration": 201,
    "start_time": "2023-04-30T10:05:35.114Z"
   },
   {
    "duration": 165,
    "start_time": "2023-04-30T10:05:35.317Z"
   },
   {
    "duration": 9,
    "start_time": "2023-04-30T10:05:35.484Z"
   },
   {
    "duration": 28,
    "start_time": "2023-04-30T10:05:35.495Z"
   },
   {
    "duration": 10,
    "start_time": "2023-04-30T10:05:35.525Z"
   },
   {
    "duration": 328,
    "start_time": "2023-04-30T10:05:35.537Z"
   },
   {
    "duration": 241,
    "start_time": "2023-04-30T10:05:35.867Z"
   },
   {
    "duration": 7,
    "start_time": "2023-04-30T10:05:36.110Z"
   },
   {
    "duration": 316,
    "start_time": "2023-04-30T10:05:36.118Z"
   },
   {
    "duration": 6,
    "start_time": "2023-04-30T10:05:36.436Z"
   },
   {
    "duration": 398,
    "start_time": "2023-04-30T10:05:36.446Z"
   },
   {
    "duration": 0,
    "start_time": "2023-04-30T10:05:36.847Z"
   },
   {
    "duration": 0,
    "start_time": "2023-04-30T10:05:36.849Z"
   },
   {
    "duration": 0,
    "start_time": "2023-04-30T10:05:36.850Z"
   },
   {
    "duration": 0,
    "start_time": "2023-04-30T10:05:36.851Z"
   },
   {
    "duration": 0,
    "start_time": "2023-04-30T10:05:36.852Z"
   },
   {
    "duration": 0,
    "start_time": "2023-04-30T10:05:36.853Z"
   },
   {
    "duration": 0,
    "start_time": "2023-04-30T10:05:36.855Z"
   },
   {
    "duration": 0,
    "start_time": "2023-04-30T10:05:36.856Z"
   },
   {
    "duration": 0,
    "start_time": "2023-04-30T10:05:36.857Z"
   },
   {
    "duration": 0,
    "start_time": "2023-04-30T10:05:36.858Z"
   },
   {
    "duration": 0,
    "start_time": "2023-04-30T10:05:36.859Z"
   },
   {
    "duration": 0,
    "start_time": "2023-04-30T10:05:36.860Z"
   },
   {
    "duration": 0,
    "start_time": "2023-04-30T10:05:36.862Z"
   },
   {
    "duration": 0,
    "start_time": "2023-04-30T10:05:36.885Z"
   },
   {
    "duration": 0,
    "start_time": "2023-04-30T10:05:36.886Z"
   },
   {
    "duration": 0,
    "start_time": "2023-04-30T10:05:36.886Z"
   },
   {
    "duration": 0,
    "start_time": "2023-04-30T10:05:36.891Z"
   },
   {
    "duration": 0,
    "start_time": "2023-04-30T10:05:36.892Z"
   },
   {
    "duration": 0,
    "start_time": "2023-04-30T10:05:36.898Z"
   },
   {
    "duration": 6,
    "start_time": "2023-04-30T10:06:47.520Z"
   },
   {
    "duration": 294,
    "start_time": "2023-04-30T10:06:56.607Z"
   },
   {
    "duration": 289,
    "start_time": "2023-04-30T10:09:04.529Z"
   },
   {
    "duration": 313,
    "start_time": "2023-04-30T10:10:14.000Z"
   },
   {
    "duration": 373,
    "start_time": "2023-04-30T10:10:45.207Z"
   },
   {
    "duration": 296,
    "start_time": "2023-04-30T10:12:21.023Z"
   },
   {
    "duration": 1204,
    "start_time": "2023-04-30T10:20:47.797Z"
   },
   {
    "duration": 42,
    "start_time": "2023-04-30T10:20:49.003Z"
   },
   {
    "duration": 55,
    "start_time": "2023-04-30T10:20:49.047Z"
   },
   {
    "duration": 27,
    "start_time": "2023-04-30T10:20:49.104Z"
   },
   {
    "duration": 5,
    "start_time": "2023-04-30T10:20:49.133Z"
   },
   {
    "duration": 5,
    "start_time": "2023-04-30T10:20:49.140Z"
   },
   {
    "duration": 9,
    "start_time": "2023-04-30T10:20:49.147Z"
   },
   {
    "duration": 32,
    "start_time": "2023-04-30T10:20:49.158Z"
   },
   {
    "duration": 7,
    "start_time": "2023-04-30T10:20:49.195Z"
   },
   {
    "duration": 9,
    "start_time": "2023-04-30T10:20:49.206Z"
   },
   {
    "duration": 9,
    "start_time": "2023-04-30T10:20:49.217Z"
   },
   {
    "duration": 6,
    "start_time": "2023-04-30T10:20:49.228Z"
   },
   {
    "duration": 17,
    "start_time": "2023-04-30T10:20:49.235Z"
   },
   {
    "duration": 35,
    "start_time": "2023-04-30T10:20:49.253Z"
   },
   {
    "duration": 213,
    "start_time": "2023-04-30T10:20:49.290Z"
   },
   {
    "duration": 155,
    "start_time": "2023-04-30T10:20:49.507Z"
   },
   {
    "duration": 28,
    "start_time": "2023-04-30T10:20:49.663Z"
   },
   {
    "duration": 13,
    "start_time": "2023-04-30T10:20:49.693Z"
   },
   {
    "duration": 9,
    "start_time": "2023-04-30T10:20:49.708Z"
   },
   {
    "duration": 311,
    "start_time": "2023-04-30T10:20:49.719Z"
   },
   {
    "duration": 203,
    "start_time": "2023-04-30T10:20:50.032Z"
   },
   {
    "duration": 7,
    "start_time": "2023-04-30T10:20:50.236Z"
   },
   {
    "duration": 357,
    "start_time": "2023-04-30T10:20:50.244Z"
   },
   {
    "duration": 6,
    "start_time": "2023-04-30T10:20:50.602Z"
   },
   {
    "duration": 216,
    "start_time": "2023-04-30T10:20:50.609Z"
   },
   {
    "duration": 292,
    "start_time": "2023-04-30T10:20:50.827Z"
   },
   {
    "duration": 157,
    "start_time": "2023-04-30T10:20:51.121Z"
   },
   {
    "duration": 135,
    "start_time": "2023-04-30T10:20:51.291Z"
   },
   {
    "duration": 6,
    "start_time": "2023-04-30T10:20:51.427Z"
   },
   {
    "duration": 19,
    "start_time": "2023-04-30T10:20:51.434Z"
   },
   {
    "duration": 255,
    "start_time": "2023-04-30T10:20:51.455Z"
   },
   {
    "duration": 150,
    "start_time": "2023-04-30T10:20:51.712Z"
   },
   {
    "duration": 162,
    "start_time": "2023-04-30T10:20:51.864Z"
   },
   {
    "duration": 6,
    "start_time": "2023-04-30T10:20:52.028Z"
   },
   {
    "duration": 267,
    "start_time": "2023-04-30T10:20:52.036Z"
   },
   {
    "duration": 157,
    "start_time": "2023-04-30T10:20:52.305Z"
   },
   {
    "duration": 9,
    "start_time": "2023-04-30T10:20:52.464Z"
   },
   {
    "duration": 19,
    "start_time": "2023-04-30T10:20:52.475Z"
   },
   {
    "duration": 29,
    "start_time": "2023-04-30T10:20:52.496Z"
   },
   {
    "duration": 11,
    "start_time": "2023-04-30T10:20:52.526Z"
   },
   {
    "duration": 12,
    "start_time": "2023-04-30T10:20:52.539Z"
   },
   {
    "duration": 48,
    "start_time": "2023-04-30T10:20:52.552Z"
   },
   {
    "duration": 31,
    "start_time": "2023-04-30T10:20:52.602Z"
   },
   {
    "duration": 10,
    "start_time": "2023-04-30T10:20:52.634Z"
   },
   {
    "duration": 234,
    "start_time": "2023-04-30T10:29:23.740Z"
   },
   {
    "duration": 229,
    "start_time": "2023-04-30T10:29:38.721Z"
   },
   {
    "duration": 239,
    "start_time": "2023-04-30T10:29:49.927Z"
   },
   {
    "duration": 243,
    "start_time": "2023-04-30T10:30:09.501Z"
   },
   {
    "duration": 258,
    "start_time": "2023-04-30T10:31:42.226Z"
   },
   {
    "duration": 225,
    "start_time": "2023-04-30T10:32:11.325Z"
   },
   {
    "duration": 432,
    "start_time": "2023-04-30T10:33:18.196Z"
   },
   {
    "duration": 5,
    "start_time": "2023-04-30T11:38:27.469Z"
   },
   {
    "duration": 102,
    "start_time": "2023-04-30T11:39:36.631Z"
   },
   {
    "duration": 7,
    "start_time": "2023-04-30T11:39:40.658Z"
   },
   {
    "duration": 12,
    "start_time": "2023-04-30T11:40:26.014Z"
   },
   {
    "duration": 8,
    "start_time": "2023-04-30T11:40:35.259Z"
   },
   {
    "duration": 9,
    "start_time": "2023-04-30T11:40:44.890Z"
   },
   {
    "duration": 6,
    "start_time": "2023-04-30T11:41:48.104Z"
   },
   {
    "duration": 13,
    "start_time": "2023-04-30T11:41:57.910Z"
   },
   {
    "duration": 5,
    "start_time": "2023-04-30T11:42:57.884Z"
   },
   {
    "duration": 5,
    "start_time": "2023-04-30T11:43:11.311Z"
   },
   {
    "duration": 8,
    "start_time": "2023-04-30T11:52:38.442Z"
   },
   {
    "duration": 6,
    "start_time": "2023-04-30T11:52:45.349Z"
   },
   {
    "duration": 69,
    "start_time": "2023-04-30T12:23:17.144Z"
   },
   {
    "duration": 19,
    "start_time": "2023-04-30T12:23:21.756Z"
   },
   {
    "duration": 901,
    "start_time": "2023-04-30T12:23:31.273Z"
   },
   {
    "duration": 12,
    "start_time": "2023-04-30T12:23:34.282Z"
   },
   {
    "duration": 1350,
    "start_time": "2023-04-30T12:24:33.567Z"
   },
   {
    "duration": 46,
    "start_time": "2023-04-30T12:24:34.919Z"
   },
   {
    "duration": 65,
    "start_time": "2023-04-30T12:24:34.967Z"
   },
   {
    "duration": 29,
    "start_time": "2023-04-30T12:24:35.034Z"
   },
   {
    "duration": 8,
    "start_time": "2023-04-30T12:24:35.065Z"
   },
   {
    "duration": 13,
    "start_time": "2023-04-30T12:24:35.074Z"
   },
   {
    "duration": 14,
    "start_time": "2023-04-30T12:24:35.089Z"
   },
   {
    "duration": 13,
    "start_time": "2023-04-30T12:24:35.105Z"
   },
   {
    "duration": 6,
    "start_time": "2023-04-30T12:24:35.119Z"
   },
   {
    "duration": 13,
    "start_time": "2023-04-30T12:24:35.128Z"
   },
   {
    "duration": 10,
    "start_time": "2023-04-30T12:24:35.143Z"
   },
   {
    "duration": 8,
    "start_time": "2023-04-30T12:24:35.186Z"
   },
   {
    "duration": 21,
    "start_time": "2023-04-30T12:24:35.195Z"
   },
   {
    "duration": 12,
    "start_time": "2023-04-30T12:24:35.218Z"
   },
   {
    "duration": 6,
    "start_time": "2023-04-30T12:24:35.232Z"
   },
   {
    "duration": 240,
    "start_time": "2023-04-30T12:24:35.241Z"
   },
   {
    "duration": 145,
    "start_time": "2023-04-30T12:24:35.485Z"
   },
   {
    "duration": 8,
    "start_time": "2023-04-30T12:24:35.632Z"
   },
   {
    "duration": 13,
    "start_time": "2023-04-30T12:24:35.642Z"
   },
   {
    "duration": 8,
    "start_time": "2023-04-30T12:24:35.684Z"
   },
   {
    "duration": 302,
    "start_time": "2023-04-30T12:24:35.693Z"
   },
   {
    "duration": 232,
    "start_time": "2023-04-30T12:24:35.997Z"
   },
   {
    "duration": 7,
    "start_time": "2023-04-30T12:24:36.231Z"
   },
   {
    "duration": 347,
    "start_time": "2023-04-30T12:24:36.240Z"
   },
   {
    "duration": 5,
    "start_time": "2023-04-30T12:24:36.589Z"
   },
   {
    "duration": 258,
    "start_time": "2023-04-30T12:24:36.596Z"
   },
   {
    "duration": 357,
    "start_time": "2023-04-30T12:24:36.855Z"
   },
   {
    "duration": 187,
    "start_time": "2023-04-30T12:24:37.216Z"
   },
   {
    "duration": 161,
    "start_time": "2023-04-30T12:24:37.405Z"
   },
   {
    "duration": 5,
    "start_time": "2023-04-30T12:24:37.568Z"
   },
   {
    "duration": 15,
    "start_time": "2023-04-30T12:24:37.574Z"
   },
   {
    "duration": 251,
    "start_time": "2023-04-30T12:24:37.591Z"
   },
   {
    "duration": 154,
    "start_time": "2023-04-30T12:24:37.844Z"
   },
   {
    "duration": 153,
    "start_time": "2023-04-30T12:24:38.000Z"
   },
   {
    "duration": 6,
    "start_time": "2023-04-30T12:24:38.156Z"
   },
   {
    "duration": 286,
    "start_time": "2023-04-30T12:24:38.164Z"
   },
   {
    "duration": 179,
    "start_time": "2023-04-30T12:24:38.452Z"
   },
   {
    "duration": 7,
    "start_time": "2023-04-30T12:24:38.632Z"
   },
   {
    "duration": 7,
    "start_time": "2023-04-30T12:24:38.640Z"
   },
   {
    "duration": 47,
    "start_time": "2023-04-30T12:24:38.648Z"
   },
   {
    "duration": 10,
    "start_time": "2023-04-30T12:24:38.696Z"
   },
   {
    "duration": 13,
    "start_time": "2023-04-30T12:24:38.708Z"
   },
   {
    "duration": 5,
    "start_time": "2023-04-30T12:24:38.723Z"
   },
   {
    "duration": 56,
    "start_time": "2023-04-30T12:24:38.729Z"
   },
   {
    "duration": 24,
    "start_time": "2023-04-30T12:24:38.788Z"
   },
   {
    "duration": 12,
    "start_time": "2023-04-30T12:24:38.814Z"
   },
   {
    "duration": 1309,
    "start_time": "2023-04-30T12:25:52.847Z"
   },
   {
    "duration": 68,
    "start_time": "2023-04-30T12:25:54.159Z"
   },
   {
    "duration": 62,
    "start_time": "2023-04-30T12:25:54.229Z"
   },
   {
    "duration": 29,
    "start_time": "2023-04-30T12:25:54.294Z"
   },
   {
    "duration": 9,
    "start_time": "2023-04-30T12:25:54.326Z"
   },
   {
    "duration": 5,
    "start_time": "2023-04-30T12:25:54.338Z"
   },
   {
    "duration": 7,
    "start_time": "2023-04-30T12:25:54.350Z"
   },
   {
    "duration": 31,
    "start_time": "2023-04-30T12:25:54.360Z"
   },
   {
    "duration": 9,
    "start_time": "2023-04-30T12:25:54.394Z"
   },
   {
    "duration": 12,
    "start_time": "2023-04-30T12:25:54.407Z"
   },
   {
    "duration": 12,
    "start_time": "2023-04-30T12:25:54.421Z"
   },
   {
    "duration": 8,
    "start_time": "2023-04-30T12:25:54.435Z"
   },
   {
    "duration": 22,
    "start_time": "2023-04-30T12:25:54.486Z"
   },
   {
    "duration": 24,
    "start_time": "2023-04-30T12:25:54.510Z"
   },
   {
    "duration": 9,
    "start_time": "2023-04-30T12:25:54.537Z"
   },
   {
    "duration": 224,
    "start_time": "2023-04-30T12:25:54.549Z"
   },
   {
    "duration": 171,
    "start_time": "2023-04-30T12:25:54.775Z"
   },
   {
    "duration": 17,
    "start_time": "2023-04-30T12:25:54.947Z"
   },
   {
    "duration": 24,
    "start_time": "2023-04-30T12:25:54.966Z"
   },
   {
    "duration": 15,
    "start_time": "2023-04-30T12:25:54.994Z"
   },
   {
    "duration": 295,
    "start_time": "2023-04-30T12:25:55.011Z"
   },
   {
    "duration": 227,
    "start_time": "2023-04-30T12:25:55.308Z"
   },
   {
    "duration": 7,
    "start_time": "2023-04-30T12:25:55.537Z"
   },
   {
    "duration": 333,
    "start_time": "2023-04-30T12:25:55.545Z"
   },
   {
    "duration": 6,
    "start_time": "2023-04-30T12:25:55.885Z"
   },
   {
    "duration": 234,
    "start_time": "2023-04-30T12:25:55.893Z"
   },
   {
    "duration": 296,
    "start_time": "2023-04-30T12:25:56.129Z"
   },
   {
    "duration": 199,
    "start_time": "2023-04-30T12:25:56.429Z"
   },
   {
    "duration": 166,
    "start_time": "2023-04-30T12:25:56.630Z"
   },
   {
    "duration": 6,
    "start_time": "2023-04-30T12:25:56.798Z"
   },
   {
    "duration": 9,
    "start_time": "2023-04-30T12:25:56.807Z"
   },
   {
    "duration": 271,
    "start_time": "2023-04-30T12:25:56.818Z"
   },
   {
    "duration": 168,
    "start_time": "2023-04-30T12:25:57.091Z"
   },
   {
    "duration": 174,
    "start_time": "2023-04-30T12:25:57.262Z"
   },
   {
    "duration": 5,
    "start_time": "2023-04-30T12:25:57.439Z"
   },
   {
    "duration": 286,
    "start_time": "2023-04-30T12:25:57.447Z"
   },
   {
    "duration": 160,
    "start_time": "2023-04-30T12:25:57.735Z"
   },
   {
    "duration": 7,
    "start_time": "2023-04-30T12:25:57.896Z"
   },
   {
    "duration": 6,
    "start_time": "2023-04-30T12:25:57.905Z"
   },
   {
    "duration": 27,
    "start_time": "2023-04-30T12:25:57.913Z"
   },
   {
    "duration": 10,
    "start_time": "2023-04-30T12:25:57.942Z"
   },
   {
    "duration": 48,
    "start_time": "2023-04-30T12:25:57.954Z"
   },
   {
    "duration": 5,
    "start_time": "2023-04-30T12:25:58.004Z"
   },
   {
    "duration": 11,
    "start_time": "2023-04-30T12:25:58.011Z"
   },
   {
    "duration": 34,
    "start_time": "2023-04-30T12:25:58.025Z"
   },
   {
    "duration": 13,
    "start_time": "2023-04-30T12:25:58.086Z"
   },
   {
    "duration": 1386,
    "start_time": "2023-05-02T14:49:58.376Z"
   },
   {
    "duration": 1151,
    "start_time": "2023-05-02T14:50:09.548Z"
   },
   {
    "duration": 71,
    "start_time": "2023-05-02T14:50:10.701Z"
   },
   {
    "duration": 77,
    "start_time": "2023-05-02T14:50:10.774Z"
   },
   {
    "duration": 66,
    "start_time": "2023-05-02T14:50:10.853Z"
   },
   {
    "duration": 7,
    "start_time": "2023-05-02T14:50:10.921Z"
   },
   {
    "duration": 10,
    "start_time": "2023-05-02T14:50:10.930Z"
   },
   {
    "duration": 8,
    "start_time": "2023-05-02T14:50:10.942Z"
   },
   {
    "duration": 7,
    "start_time": "2023-05-02T14:50:10.952Z"
   },
   {
    "duration": 5,
    "start_time": "2023-05-02T14:50:10.960Z"
   },
   {
    "duration": 8,
    "start_time": "2023-05-02T14:50:10.967Z"
   },
   {
    "duration": 13,
    "start_time": "2023-05-02T14:50:10.976Z"
   },
   {
    "duration": 9,
    "start_time": "2023-05-02T14:50:10.990Z"
   },
   {
    "duration": 27,
    "start_time": "2023-05-02T14:50:11.000Z"
   },
   {
    "duration": 10,
    "start_time": "2023-05-02T14:50:11.029Z"
   },
   {
    "duration": 6,
    "start_time": "2023-05-02T14:50:11.041Z"
   },
   {
    "duration": 177,
    "start_time": "2023-05-02T14:50:11.049Z"
   },
   {
    "duration": 140,
    "start_time": "2023-05-02T14:50:11.227Z"
   },
   {
    "duration": 19,
    "start_time": "2023-05-02T14:50:11.369Z"
   },
   {
    "duration": 16,
    "start_time": "2023-05-02T14:50:11.390Z"
   },
   {
    "duration": 9,
    "start_time": "2023-05-02T14:50:11.408Z"
   },
   {
    "duration": 347,
    "start_time": "2023-05-02T14:50:11.419Z"
   },
   {
    "duration": 236,
    "start_time": "2023-05-02T14:50:11.768Z"
   },
   {
    "duration": 6,
    "start_time": "2023-05-02T14:50:12.005Z"
   },
   {
    "duration": 297,
    "start_time": "2023-05-02T14:50:12.013Z"
   },
   {
    "duration": 4,
    "start_time": "2023-05-02T14:50:12.311Z"
   },
   {
    "duration": 244,
    "start_time": "2023-05-02T14:50:12.317Z"
   },
   {
    "duration": 341,
    "start_time": "2023-05-02T14:50:12.563Z"
   },
   {
    "duration": 186,
    "start_time": "2023-05-02T14:50:12.908Z"
   },
   {
    "duration": 160,
    "start_time": "2023-05-02T14:50:13.096Z"
   },
   {
    "duration": 5,
    "start_time": "2023-05-02T14:50:13.257Z"
   },
   {
    "duration": 25,
    "start_time": "2023-05-02T14:50:13.263Z"
   },
   {
    "duration": 239,
    "start_time": "2023-05-02T14:50:13.290Z"
   },
   {
    "duration": 157,
    "start_time": "2023-05-02T14:50:13.531Z"
   },
   {
    "duration": 174,
    "start_time": "2023-05-02T14:50:13.690Z"
   },
   {
    "duration": 4,
    "start_time": "2023-05-02T14:50:13.866Z"
   },
   {
    "duration": 287,
    "start_time": "2023-05-02T14:50:13.884Z"
   },
   {
    "duration": 151,
    "start_time": "2023-05-02T14:50:14.173Z"
   },
   {
    "duration": 6,
    "start_time": "2023-05-02T14:50:14.326Z"
   },
   {
    "duration": 18,
    "start_time": "2023-05-02T14:50:14.334Z"
   },
   {
    "duration": 22,
    "start_time": "2023-05-02T14:50:14.354Z"
   },
   {
    "duration": 12,
    "start_time": "2023-05-02T14:50:14.378Z"
   },
   {
    "duration": 17,
    "start_time": "2023-05-02T14:50:14.392Z"
   },
   {
    "duration": 5,
    "start_time": "2023-05-02T14:50:14.411Z"
   },
   {
    "duration": 11,
    "start_time": "2023-05-02T14:50:14.417Z"
   },
   {
    "duration": 65,
    "start_time": "2023-05-02T14:50:14.430Z"
   },
   {
    "duration": 12,
    "start_time": "2023-05-02T14:50:14.498Z"
   },
   {
    "duration": 1236,
    "start_time": "2023-05-02T14:50:50.956Z"
   },
   {
    "duration": 40,
    "start_time": "2023-05-02T14:50:52.194Z"
   },
   {
    "duration": 45,
    "start_time": "2023-05-02T14:50:52.236Z"
   },
   {
    "duration": 28,
    "start_time": "2023-05-02T14:50:52.283Z"
   },
   {
    "duration": 6,
    "start_time": "2023-05-02T14:50:52.312Z"
   },
   {
    "duration": 8,
    "start_time": "2023-05-02T14:50:52.320Z"
   },
   {
    "duration": 21,
    "start_time": "2023-05-02T14:50:52.330Z"
   },
   {
    "duration": 7,
    "start_time": "2023-05-02T14:50:52.352Z"
   },
   {
    "duration": 10,
    "start_time": "2023-05-02T14:50:52.361Z"
   },
   {
    "duration": 13,
    "start_time": "2023-05-02T14:50:52.373Z"
   },
   {
    "duration": 9,
    "start_time": "2023-05-02T14:50:52.387Z"
   },
   {
    "duration": 14,
    "start_time": "2023-05-02T14:50:52.398Z"
   },
   {
    "duration": 13,
    "start_time": "2023-05-02T14:50:52.414Z"
   },
   {
    "duration": 11,
    "start_time": "2023-05-02T14:50:52.429Z"
   },
   {
    "duration": 7,
    "start_time": "2023-05-02T14:50:52.442Z"
   },
   {
    "duration": 237,
    "start_time": "2023-05-02T14:50:52.451Z"
   },
   {
    "duration": 151,
    "start_time": "2023-05-02T14:50:52.689Z"
   },
   {
    "duration": 7,
    "start_time": "2023-05-02T14:50:52.842Z"
   },
   {
    "duration": 21,
    "start_time": "2023-05-02T14:50:52.850Z"
   },
   {
    "duration": 25,
    "start_time": "2023-05-02T14:50:52.872Z"
   },
   {
    "duration": 343,
    "start_time": "2023-05-02T14:50:52.899Z"
   },
   {
    "duration": 205,
    "start_time": "2023-05-02T14:50:53.244Z"
   },
   {
    "duration": 6,
    "start_time": "2023-05-02T14:50:53.452Z"
   },
   {
    "duration": 346,
    "start_time": "2023-05-02T14:50:53.460Z"
   },
   {
    "duration": 6,
    "start_time": "2023-05-02T14:50:53.808Z"
   },
   {
    "duration": 258,
    "start_time": "2023-05-02T14:50:53.816Z"
   },
   {
    "duration": 361,
    "start_time": "2023-05-02T14:50:54.076Z"
   },
   {
    "duration": 188,
    "start_time": "2023-05-02T14:50:54.442Z"
   },
   {
    "duration": 156,
    "start_time": "2023-05-02T14:50:54.632Z"
   },
   {
    "duration": 6,
    "start_time": "2023-05-02T14:50:54.790Z"
   },
   {
    "duration": 9,
    "start_time": "2023-05-02T14:50:54.798Z"
   },
   {
    "duration": 256,
    "start_time": "2023-05-02T14:50:54.808Z"
   },
   {
    "duration": 143,
    "start_time": "2023-05-02T14:50:55.066Z"
   },
   {
    "duration": 152,
    "start_time": "2023-05-02T14:50:55.211Z"
   },
   {
    "duration": 5,
    "start_time": "2023-05-02T14:50:55.364Z"
   },
   {
    "duration": 237,
    "start_time": "2023-05-02T14:50:55.370Z"
   },
   {
    "duration": 135,
    "start_time": "2023-05-02T14:50:55.609Z"
   },
   {
    "duration": 7,
    "start_time": "2023-05-02T14:50:55.746Z"
   },
   {
    "duration": 4,
    "start_time": "2023-05-02T14:50:55.755Z"
   },
   {
    "duration": 43,
    "start_time": "2023-05-02T14:50:55.761Z"
   },
   {
    "duration": 8,
    "start_time": "2023-05-02T14:50:55.806Z"
   },
   {
    "duration": 14,
    "start_time": "2023-05-02T14:50:55.816Z"
   },
   {
    "duration": 5,
    "start_time": "2023-05-02T14:50:55.832Z"
   },
   {
    "duration": 10,
    "start_time": "2023-05-02T14:50:55.839Z"
   },
   {
    "duration": 56,
    "start_time": "2023-05-02T14:50:55.850Z"
   },
   {
    "duration": 9,
    "start_time": "2023-05-02T14:50:55.908Z"
   },
   {
    "duration": 4,
    "start_time": "2023-05-02T14:51:24.136Z"
   },
   {
    "duration": 1183,
    "start_time": "2023-05-02T14:51:29.044Z"
   },
   {
    "duration": 38,
    "start_time": "2023-05-02T14:51:30.229Z"
   },
   {
    "duration": 53,
    "start_time": "2023-05-02T14:51:30.269Z"
   },
   {
    "duration": 34,
    "start_time": "2023-05-02T14:51:30.325Z"
   },
   {
    "duration": 6,
    "start_time": "2023-05-02T14:51:30.361Z"
   },
   {
    "duration": 18,
    "start_time": "2023-05-02T14:51:30.368Z"
   },
   {
    "duration": 24,
    "start_time": "2023-05-02T14:51:30.388Z"
   },
   {
    "duration": 52,
    "start_time": "2023-05-02T14:51:30.414Z"
   },
   {
    "duration": 38,
    "start_time": "2023-05-02T14:51:30.468Z"
   },
   {
    "duration": 37,
    "start_time": "2023-05-02T14:51:30.509Z"
   },
   {
    "duration": 48,
    "start_time": "2023-05-02T14:51:30.548Z"
   },
   {
    "duration": 46,
    "start_time": "2023-05-02T14:51:30.598Z"
   },
   {
    "duration": 52,
    "start_time": "2023-05-02T14:51:30.646Z"
   },
   {
    "duration": 44,
    "start_time": "2023-05-02T14:51:30.701Z"
   },
   {
    "duration": 44,
    "start_time": "2023-05-02T14:51:30.747Z"
   },
   {
    "duration": 237,
    "start_time": "2023-05-02T14:51:30.793Z"
   },
   {
    "duration": 156,
    "start_time": "2023-05-02T14:51:31.031Z"
   },
   {
    "duration": 9,
    "start_time": "2023-05-02T14:51:31.189Z"
   },
   {
    "duration": 50,
    "start_time": "2023-05-02T14:51:31.199Z"
   },
   {
    "duration": 48,
    "start_time": "2023-05-02T14:51:31.251Z"
   },
   {
    "duration": 373,
    "start_time": "2023-05-02T14:51:31.302Z"
   },
   {
    "duration": 220,
    "start_time": "2023-05-02T14:51:31.677Z"
   },
   {
    "duration": 7,
    "start_time": "2023-05-02T14:51:31.898Z"
   },
   {
    "duration": 292,
    "start_time": "2023-05-02T14:51:31.907Z"
   },
   {
    "duration": 5,
    "start_time": "2023-05-02T14:51:32.201Z"
   },
   {
    "duration": 279,
    "start_time": "2023-05-02T14:51:32.207Z"
   },
   {
    "duration": 335,
    "start_time": "2023-05-02T14:51:32.488Z"
   },
   {
    "duration": 187,
    "start_time": "2023-05-02T14:51:32.827Z"
   },
   {
    "duration": 171,
    "start_time": "2023-05-02T14:51:33.016Z"
   },
   {
    "duration": 5,
    "start_time": "2023-05-02T14:51:33.189Z"
   },
   {
    "duration": 9,
    "start_time": "2023-05-02T14:51:33.195Z"
   },
   {
    "duration": 254,
    "start_time": "2023-05-02T14:51:33.205Z"
   },
   {
    "duration": 153,
    "start_time": "2023-05-02T14:51:33.461Z"
   },
   {
    "duration": 161,
    "start_time": "2023-05-02T14:51:33.616Z"
   },
   {
    "duration": 9,
    "start_time": "2023-05-02T14:51:33.778Z"
   },
   {
    "duration": 297,
    "start_time": "2023-05-02T14:51:33.789Z"
   },
   {
    "duration": 230,
    "start_time": "2023-05-02T14:51:34.089Z"
   },
   {
    "duration": 8,
    "start_time": "2023-05-02T14:51:34.321Z"
   },
   {
    "duration": 9,
    "start_time": "2023-05-02T14:51:34.331Z"
   },
   {
    "duration": 51,
    "start_time": "2023-05-02T14:51:34.344Z"
   },
   {
    "duration": 12,
    "start_time": "2023-05-02T14:51:34.397Z"
   },
   {
    "duration": 14,
    "start_time": "2023-05-02T14:51:34.411Z"
   },
   {
    "duration": 12,
    "start_time": "2023-05-02T14:51:34.427Z"
   },
   {
    "duration": 14,
    "start_time": "2023-05-02T14:51:34.442Z"
   },
   {
    "duration": 50,
    "start_time": "2023-05-02T14:51:34.459Z"
   },
   {
    "duration": 11,
    "start_time": "2023-05-02T14:51:34.511Z"
   },
   {
    "duration": 33,
    "start_time": "2023-05-02T14:55:21.419Z"
   },
   {
    "duration": 8,
    "start_time": "2023-05-02T14:57:39.247Z"
   },
   {
    "duration": 873,
    "start_time": "2023-05-02T14:58:14.626Z"
   },
   {
    "duration": 805,
    "start_time": "2023-05-02T15:00:00.849Z"
   },
   {
    "duration": 918,
    "start_time": "2023-05-02T15:00:12.399Z"
   },
   {
    "duration": 888,
    "start_time": "2023-05-02T15:00:31.386Z"
   },
   {
    "duration": 1210,
    "start_time": "2023-05-02T15:00:39.119Z"
   },
   {
    "duration": 40,
    "start_time": "2023-05-02T15:00:40.332Z"
   },
   {
    "duration": 52,
    "start_time": "2023-05-02T15:00:40.374Z"
   },
   {
    "duration": 30,
    "start_time": "2023-05-02T15:00:40.428Z"
   },
   {
    "duration": 7,
    "start_time": "2023-05-02T15:00:40.459Z"
   },
   {
    "duration": 6,
    "start_time": "2023-05-02T15:00:40.468Z"
   },
   {
    "duration": 11,
    "start_time": "2023-05-02T15:00:40.476Z"
   },
   {
    "duration": 21,
    "start_time": "2023-05-02T15:00:40.488Z"
   },
   {
    "duration": 6,
    "start_time": "2023-05-02T15:00:40.510Z"
   },
   {
    "duration": 7,
    "start_time": "2023-05-02T15:00:40.519Z"
   },
   {
    "duration": 11,
    "start_time": "2023-05-02T15:00:40.528Z"
   },
   {
    "duration": 11,
    "start_time": "2023-05-02T15:00:40.541Z"
   },
   {
    "duration": 35,
    "start_time": "2023-05-02T15:00:40.553Z"
   },
   {
    "duration": 14,
    "start_time": "2023-05-02T15:00:40.591Z"
   },
   {
    "duration": 10,
    "start_time": "2023-05-02T15:00:40.606Z"
   },
   {
    "duration": 5,
    "start_time": "2023-05-02T15:00:40.618Z"
   },
   {
    "duration": 210,
    "start_time": "2023-05-02T15:00:40.625Z"
   },
   {
    "duration": 137,
    "start_time": "2023-05-02T15:00:40.836Z"
   },
   {
    "duration": 6,
    "start_time": "2023-05-02T15:00:40.974Z"
   },
   {
    "duration": 17,
    "start_time": "2023-05-02T15:00:40.982Z"
   },
   {
    "duration": 7,
    "start_time": "2023-05-02T15:00:41.001Z"
   },
   {
    "duration": 315,
    "start_time": "2023-05-02T15:00:41.010Z"
   },
   {
    "duration": 230,
    "start_time": "2023-05-02T15:00:41.327Z"
   },
   {
    "duration": 6,
    "start_time": "2023-05-02T15:00:41.558Z"
   },
   {
    "duration": 334,
    "start_time": "2023-05-02T15:00:41.566Z"
   },
   {
    "duration": 4,
    "start_time": "2023-05-02T15:00:41.902Z"
   },
   {
    "duration": 250,
    "start_time": "2023-05-02T15:00:41.908Z"
   },
   {
    "duration": 356,
    "start_time": "2023-05-02T15:00:42.162Z"
   },
   {
    "duration": 181,
    "start_time": "2023-05-02T15:00:42.520Z"
   },
   {
    "duration": 154,
    "start_time": "2023-05-02T15:00:42.703Z"
   },
   {
    "duration": 5,
    "start_time": "2023-05-02T15:00:42.858Z"
   },
   {
    "duration": 20,
    "start_time": "2023-05-02T15:00:42.865Z"
   },
   {
    "duration": 246,
    "start_time": "2023-05-02T15:00:42.887Z"
   },
   {
    "duration": 153,
    "start_time": "2023-05-02T15:00:43.134Z"
   },
   {
    "duration": 162,
    "start_time": "2023-05-02T15:00:43.289Z"
   },
   {
    "duration": 4,
    "start_time": "2023-05-02T15:00:43.453Z"
   },
   {
    "duration": 250,
    "start_time": "2023-05-02T15:00:43.459Z"
   },
   {
    "duration": 142,
    "start_time": "2023-05-02T15:00:43.711Z"
   },
   {
    "duration": 8,
    "start_time": "2023-05-02T15:00:43.854Z"
   },
   {
    "duration": 15,
    "start_time": "2023-05-02T15:00:43.863Z"
   },
   {
    "duration": 39,
    "start_time": "2023-05-02T15:00:43.880Z"
   },
   {
    "duration": 9,
    "start_time": "2023-05-02T15:00:43.921Z"
   },
   {
    "duration": 33,
    "start_time": "2023-05-02T15:00:43.931Z"
   },
   {
    "duration": 6,
    "start_time": "2023-05-02T15:00:43.966Z"
   },
   {
    "duration": 25,
    "start_time": "2023-05-02T15:00:43.974Z"
   },
   {
    "duration": 25,
    "start_time": "2023-05-02T15:00:44.002Z"
   },
   {
    "duration": 11,
    "start_time": "2023-05-02T15:00:44.030Z"
   },
   {
    "duration": 8,
    "start_time": "2023-05-02T15:01:11.595Z"
   },
   {
    "duration": 80,
    "start_time": "2023-05-02T15:31:16.334Z"
   },
   {
    "duration": 13,
    "start_time": "2023-05-02T15:31:43.726Z"
   },
   {
    "duration": 10,
    "start_time": "2023-05-02T15:33:07.625Z"
   },
   {
    "duration": 1314,
    "start_time": "2023-05-02T15:34:02.101Z"
   },
   {
    "duration": 51,
    "start_time": "2023-05-02T15:34:03.417Z"
   },
   {
    "duration": 68,
    "start_time": "2023-05-02T15:34:03.470Z"
   },
   {
    "duration": 27,
    "start_time": "2023-05-02T15:34:03.540Z"
   },
   {
    "duration": 6,
    "start_time": "2023-05-02T15:34:03.568Z"
   },
   {
    "duration": 30,
    "start_time": "2023-05-02T15:34:03.576Z"
   },
   {
    "duration": 35,
    "start_time": "2023-05-02T15:34:03.608Z"
   },
   {
    "duration": 27,
    "start_time": "2023-05-02T15:34:03.644Z"
   },
   {
    "duration": 9,
    "start_time": "2023-05-02T15:34:03.673Z"
   },
   {
    "duration": 18,
    "start_time": "2023-05-02T15:34:03.685Z"
   },
   {
    "duration": 9,
    "start_time": "2023-05-02T15:34:03.705Z"
   },
   {
    "duration": 10,
    "start_time": "2023-05-02T15:34:03.716Z"
   },
   {
    "duration": 10,
    "start_time": "2023-05-02T15:34:03.728Z"
   },
   {
    "duration": 12,
    "start_time": "2023-05-02T15:34:03.740Z"
   },
   {
    "duration": 46,
    "start_time": "2023-05-02T15:34:03.753Z"
   },
   {
    "duration": 12,
    "start_time": "2023-05-02T15:34:03.802Z"
   },
   {
    "duration": 11,
    "start_time": "2023-05-02T15:34:03.816Z"
   },
   {
    "duration": 245,
    "start_time": "2023-05-02T15:34:03.829Z"
   },
   {
    "duration": 199,
    "start_time": "2023-05-02T15:34:04.076Z"
   },
   {
    "duration": 13,
    "start_time": "2023-05-02T15:34:04.278Z"
   },
   {
    "duration": 18,
    "start_time": "2023-05-02T15:34:04.293Z"
   },
   {
    "duration": 7,
    "start_time": "2023-05-02T15:34:04.313Z"
   },
   {
    "duration": 417,
    "start_time": "2023-05-02T15:34:04.323Z"
   },
   {
    "duration": 219,
    "start_time": "2023-05-02T15:34:04.743Z"
   },
   {
    "duration": 6,
    "start_time": "2023-05-02T15:34:04.963Z"
   },
   {
    "duration": 355,
    "start_time": "2023-05-02T15:34:04.971Z"
   },
   {
    "duration": 4,
    "start_time": "2023-05-02T15:34:05.328Z"
   },
   {
    "duration": 262,
    "start_time": "2023-05-02T15:34:05.336Z"
   },
   {
    "duration": 356,
    "start_time": "2023-05-02T15:34:05.600Z"
   },
   {
    "duration": 175,
    "start_time": "2023-05-02T15:34:05.958Z"
   },
   {
    "duration": 150,
    "start_time": "2023-05-02T15:34:06.135Z"
   },
   {
    "duration": 7,
    "start_time": "2023-05-02T15:34:06.291Z"
   },
   {
    "duration": 16,
    "start_time": "2023-05-02T15:34:06.301Z"
   },
   {
    "duration": 250,
    "start_time": "2023-05-02T15:34:06.319Z"
   },
   {
    "duration": 166,
    "start_time": "2023-05-02T15:34:06.571Z"
   },
   {
    "duration": 180,
    "start_time": "2023-05-02T15:34:06.739Z"
   },
   {
    "duration": 4,
    "start_time": "2023-05-02T15:34:06.921Z"
   },
   {
    "duration": 260,
    "start_time": "2023-05-02T15:34:06.927Z"
   },
   {
    "duration": 160,
    "start_time": "2023-05-02T15:34:07.189Z"
   },
   {
    "duration": 6,
    "start_time": "2023-05-02T15:34:07.353Z"
   },
   {
    "duration": 10,
    "start_time": "2023-05-02T15:34:07.361Z"
   },
   {
    "duration": 42,
    "start_time": "2023-05-02T15:34:07.373Z"
   },
   {
    "duration": 9,
    "start_time": "2023-05-02T15:34:07.417Z"
   },
   {
    "duration": 14,
    "start_time": "2023-05-02T15:34:07.428Z"
   },
   {
    "duration": 4,
    "start_time": "2023-05-02T15:34:07.443Z"
   },
   {
    "duration": 45,
    "start_time": "2023-05-02T15:34:07.449Z"
   },
   {
    "duration": 30,
    "start_time": "2023-05-02T15:34:07.496Z"
   },
   {
    "duration": 11,
    "start_time": "2023-05-02T15:34:07.527Z"
   },
   {
    "duration": 12,
    "start_time": "2023-05-02T15:34:24.515Z"
   },
   {
    "duration": 323,
    "start_time": "2023-05-02T15:36:24.910Z"
   },
   {
    "duration": 229,
    "start_time": "2023-05-02T15:36:42.634Z"
   },
   {
    "duration": 331,
    "start_time": "2023-05-02T15:36:59.138Z"
   },
   {
    "duration": 233,
    "start_time": "2023-05-02T15:39:04.864Z"
   },
   {
    "duration": 218,
    "start_time": "2023-05-02T15:39:12.761Z"
   },
   {
    "duration": 51,
    "start_time": "2023-05-03T12:41:48.702Z"
   },
   {
    "duration": 8,
    "start_time": "2023-05-03T12:42:14.503Z"
   },
   {
    "duration": 1451,
    "start_time": "2023-05-03T12:43:08.019Z"
   },
   {
    "duration": 86,
    "start_time": "2023-05-03T12:43:09.472Z"
   },
   {
    "duration": 89,
    "start_time": "2023-05-03T12:43:09.562Z"
   },
   {
    "duration": 75,
    "start_time": "2023-05-03T12:43:09.653Z"
   },
   {
    "duration": 8,
    "start_time": "2023-05-03T12:43:09.730Z"
   },
   {
    "duration": 7,
    "start_time": "2023-05-03T12:43:09.742Z"
   },
   {
    "duration": 18,
    "start_time": "2023-05-03T12:43:09.751Z"
   },
   {
    "duration": 9,
    "start_time": "2023-05-03T12:43:09.771Z"
   },
   {
    "duration": 6,
    "start_time": "2023-05-03T12:43:09.782Z"
   },
   {
    "duration": 8,
    "start_time": "2023-05-03T12:43:09.791Z"
   },
   {
    "duration": 5,
    "start_time": "2023-05-03T12:43:09.801Z"
   },
   {
    "duration": 10,
    "start_time": "2023-05-03T12:43:09.808Z"
   },
   {
    "duration": 12,
    "start_time": "2023-05-03T12:43:09.819Z"
   },
   {
    "duration": 11,
    "start_time": "2023-05-03T12:43:09.833Z"
   },
   {
    "duration": 13,
    "start_time": "2023-05-03T12:43:09.845Z"
   },
   {
    "duration": 11,
    "start_time": "2023-05-03T12:43:09.891Z"
   },
   {
    "duration": 10,
    "start_time": "2023-05-03T12:43:09.904Z"
   },
   {
    "duration": 6,
    "start_time": "2023-05-03T12:43:09.916Z"
   },
   {
    "duration": 200,
    "start_time": "2023-05-03T12:43:09.923Z"
   },
   {
    "duration": 147,
    "start_time": "2023-05-03T12:43:10.125Z"
   },
   {
    "duration": 19,
    "start_time": "2023-05-03T12:43:10.274Z"
   },
   {
    "duration": 33,
    "start_time": "2023-05-03T12:43:10.294Z"
   },
   {
    "duration": 10,
    "start_time": "2023-05-03T12:43:10.329Z"
   },
   {
    "duration": 350,
    "start_time": "2023-05-03T12:43:10.341Z"
   },
   {
    "duration": 225,
    "start_time": "2023-05-03T12:43:10.694Z"
   },
   {
    "duration": 5,
    "start_time": "2023-05-03T12:43:10.922Z"
   },
   {
    "duration": 355,
    "start_time": "2023-05-03T12:43:10.929Z"
   },
   {
    "duration": 4,
    "start_time": "2023-05-03T12:43:11.287Z"
   },
   {
    "duration": 224,
    "start_time": "2023-05-03T12:43:11.293Z"
   },
   {
    "duration": 305,
    "start_time": "2023-05-03T12:43:11.519Z"
   },
   {
    "duration": 177,
    "start_time": "2023-05-03T12:43:11.826Z"
   },
   {
    "duration": 175,
    "start_time": "2023-05-03T12:43:12.005Z"
   },
   {
    "duration": 13,
    "start_time": "2023-05-03T12:43:12.181Z"
   },
   {
    "duration": 9,
    "start_time": "2023-05-03T12:43:12.195Z"
   },
   {
    "duration": 288,
    "start_time": "2023-05-03T12:43:12.206Z"
   },
   {
    "duration": 167,
    "start_time": "2023-05-03T12:43:12.496Z"
   },
   {
    "duration": 186,
    "start_time": "2023-05-03T12:43:12.665Z"
   },
   {
    "duration": 5,
    "start_time": "2023-05-03T12:43:12.853Z"
   },
   {
    "duration": 290,
    "start_time": "2023-05-03T12:43:12.860Z"
   },
   {
    "duration": 169,
    "start_time": "2023-05-03T12:43:13.153Z"
   },
   {
    "duration": 7,
    "start_time": "2023-05-03T12:43:13.324Z"
   },
   {
    "duration": 6,
    "start_time": "2023-05-03T12:43:13.333Z"
   },
   {
    "duration": 25,
    "start_time": "2023-05-03T12:43:13.341Z"
   },
   {
    "duration": 28,
    "start_time": "2023-05-03T12:43:13.368Z"
   },
   {
    "duration": 16,
    "start_time": "2023-05-03T12:43:13.399Z"
   },
   {
    "duration": 7,
    "start_time": "2023-05-03T12:43:13.417Z"
   },
   {
    "duration": 14,
    "start_time": "2023-05-03T12:43:13.425Z"
   },
   {
    "duration": 52,
    "start_time": "2023-05-03T12:43:13.441Z"
   },
   {
    "duration": 12,
    "start_time": "2023-05-03T12:43:13.495Z"
   },
   {
    "duration": 212,
    "start_time": "2023-05-03T12:44:30.124Z"
   }
  ],
  "kernelspec": {
   "display_name": "Python 3 (ipykernel)",
   "language": "python",
   "name": "python3"
  },
  "language_info": {
   "codemirror_mode": {
    "name": "ipython",
    "version": 3
   },
   "file_extension": ".py",
   "mimetype": "text/x-python",
   "name": "python",
   "nbconvert_exporter": "python",
   "pygments_lexer": "ipython3",
   "version": "3.9.5"
  },
  "toc": {
   "base_numbering": 1,
   "nav_menu": {},
   "number_sections": true,
   "sideBar": true,
   "skip_h1_title": true,
   "title_cell": "Table of Contents",
   "title_sidebar": "Contents",
   "toc_cell": false,
   "toc_position": {
    "height": "calc(100% - 180px)",
    "left": "10px",
    "top": "150px",
    "width": "275.222px"
   },
   "toc_section_display": true,
   "toc_window_display": true
  }
 },
 "nbformat": 4,
 "nbformat_minor": 5
}
