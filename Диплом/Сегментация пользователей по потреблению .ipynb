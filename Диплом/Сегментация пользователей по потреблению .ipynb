{
 "cells": [
  {
   "cell_type": "markdown",
   "id": "efd95c1a",
   "metadata": {},
   "source": [
    "# СЕГМЕНТАЦИЯ ПОЛЬЗОВАТЕЛЕЙ ПО ПОТРЕБЛЕНИЮ"
   ]
  },
  {
   "cell_type": "markdown",
   "id": "00e6b38d",
   "metadata": {},
   "source": [
    "**Цель исследования:** обнаружить портреты пользователей среди разных сегментов таким образом, чтробы при изменении банковских продуктов отток пользователей не увеличивался"
   ]
  },
  {
   "cell_type": "markdown",
   "id": "03320c9e",
   "metadata": {},
   "source": [
    "По итогу исследования представлены : презентация и дашборд."
   ]
  },
  {
   "cell_type": "markdown",
   "id": "185c5d96",
   "metadata": {},
   "source": [
    "Презентация: https://disk.yandex.ru/d/zyjp-r-s5vZijQ"
   ]
  },
  {
   "cell_type": "markdown",
   "id": "522e28a3",
   "metadata": {},
   "source": [
    "Дашборд: https://public.tableau.com/views/_16884794655830/Dashboard1?:language=en-US&publish=yes&:display_count=n&:origin=viz_share_link"
   ]
  },
  {
   "cell_type": "markdown",
   "id": "519e462d",
   "metadata": {},
   "source": [
    "**Описание данных:** датасет содержит данные о клиентах банка «Метанпром». Банк располагается в\n",
    "Ярославле и областных городах: Ростов Великий и Рыбинск."
   ]
  },
  {
   "cell_type": "markdown",
   "id": "1206c775",
   "metadata": {},
   "source": [
    "- userid — идентификатор пользователя,\n",
    "- score — баллы кредитного скоринга,\n",
    "- City — город,\n",
    "- Gender — пол,\n",
    "- Age — возраст,\n",
    "- equity — приблизительная оценка собственности клиента,\n",
    "- Objects — количество объектов в собственности,\n",
    "- Balance — баланс на счёте,\n",
    "- Products — количество продуктов, которыми пользуется клиент,\n",
    "- CreditCard — есть ли кредитная карта,\n",
    "- Loyalty — активный клиент,\n",
    "- estimated_salary — заработная плата клиента,\n",
    "- Churn — ушёл или нет."
   ]
  },
  {
   "cell_type": "markdown",
   "id": "9bb84e6f",
   "metadata": {},
   "source": [
    "**ОБЗОР И ПРЕДОБРАБОТКА ДАННЫХ**"
   ]
  },
  {
   "cell_type": "code",
   "execution_count": 1,
   "id": "553b116b",
   "metadata": {},
   "outputs": [],
   "source": [
    "import pandas as pd\n",
    "import seaborn as sns\n",
    "import matplotlib.pyplot as plt\n",
    "import warnings; warnings.filterwarnings(action = 'ignore')\n",
    "import numpy as np\n",
    "import scipy.stats as st"
   ]
  },
  {
   "cell_type": "code",
   "execution_count": 2,
   "id": "9c5f98a6",
   "metadata": {},
   "outputs": [],
   "source": [
    "# снимаем ограничение на количество столбцов\n",
    "pd.set_option('display.max_columns', 50)\n",
    "\n",
    "# снимаем ограничение на ширину столбцов\n",
    "pd.set_option('display.max_colwidth', 120)\n",
    "\n",
    "# игнорируем предупреждения\n",
    "pd.set_option('chained_assignment', 'warn')\n",
    "warnings.simplefilter(action='ignore', category=FutureWarning)\n",
    "\n",
    "# выставляем ограничение на показ знаков после запятой\n",
    "pd.options.display.float_format = '{:,.2f}'.format\n"
   ]
  },
  {
   "cell_type": "code",
   "execution_count": 3,
   "id": "1364c1c4",
   "metadata": {},
   "outputs": [],
   "source": [
    "data = pd.read_csv('https://code.s3.yandex.net/datasets/bank_scrooge.csv')"
   ]
  },
  {
   "cell_type": "code",
   "execution_count": 4,
   "id": "f4db8454",
   "metadata": {},
   "outputs": [
    {
     "data": {
      "text/html": [
       "<div>\n",
       "<style scoped>\n",
       "    .dataframe tbody tr th:only-of-type {\n",
       "        vertical-align: middle;\n",
       "    }\n",
       "\n",
       "    .dataframe tbody tr th {\n",
       "        vertical-align: top;\n",
       "    }\n",
       "\n",
       "    .dataframe thead th {\n",
       "        text-align: right;\n",
       "    }\n",
       "</style>\n",
       "<table border=\"1\" class=\"dataframe\">\n",
       "  <thead>\n",
       "    <tr style=\"text-align: right;\">\n",
       "      <th></th>\n",
       "      <th>USERID</th>\n",
       "      <th>score</th>\n",
       "      <th>city</th>\n",
       "      <th>gender</th>\n",
       "      <th>age</th>\n",
       "      <th>equity</th>\n",
       "      <th>balance</th>\n",
       "      <th>products</th>\n",
       "      <th>credit_card</th>\n",
       "      <th>last_activity</th>\n",
       "      <th>EST_SALARY</th>\n",
       "      <th>churn</th>\n",
       "    </tr>\n",
       "  </thead>\n",
       "  <tbody>\n",
       "    <tr>\n",
       "      <th>0</th>\n",
       "      <td>183012</td>\n",
       "      <td>850.00</td>\n",
       "      <td>Рыбинск</td>\n",
       "      <td>Ж</td>\n",
       "      <td>25.00</td>\n",
       "      <td>1</td>\n",
       "      <td>59,214.82</td>\n",
       "      <td>2</td>\n",
       "      <td>0</td>\n",
       "      <td>1</td>\n",
       "      <td>75,719.14</td>\n",
       "      <td>1</td>\n",
       "    </tr>\n",
       "    <tr>\n",
       "      <th>1</th>\n",
       "      <td>146556</td>\n",
       "      <td>861.00</td>\n",
       "      <td>Рыбинск</td>\n",
       "      <td>Ж</td>\n",
       "      <td>37.00</td>\n",
       "      <td>5</td>\n",
       "      <td>850,594.33</td>\n",
       "      <td>3</td>\n",
       "      <td>1</td>\n",
       "      <td>0</td>\n",
       "      <td>86,621.77</td>\n",
       "      <td>0</td>\n",
       "    </tr>\n",
       "    <tr>\n",
       "      <th>2</th>\n",
       "      <td>120722</td>\n",
       "      <td>892.00</td>\n",
       "      <td>Рыбинск</td>\n",
       "      <td>Ж</td>\n",
       "      <td>30.00</td>\n",
       "      <td>0</td>\n",
       "      <td>NaN</td>\n",
       "      <td>1</td>\n",
       "      <td>1</td>\n",
       "      <td>1</td>\n",
       "      <td>107,683.34</td>\n",
       "      <td>0</td>\n",
       "    </tr>\n",
       "    <tr>\n",
       "      <th>3</th>\n",
       "      <td>225363</td>\n",
       "      <td>866.00</td>\n",
       "      <td>Ярославль</td>\n",
       "      <td>Ж</td>\n",
       "      <td>51.00</td>\n",
       "      <td>5</td>\n",
       "      <td>1,524,746.26</td>\n",
       "      <td>2</td>\n",
       "      <td>0</td>\n",
       "      <td>1</td>\n",
       "      <td>174,423.53</td>\n",
       "      <td>1</td>\n",
       "    </tr>\n",
       "    <tr>\n",
       "      <th>4</th>\n",
       "      <td>157978</td>\n",
       "      <td>730.00</td>\n",
       "      <td>Ярославль</td>\n",
       "      <td>М</td>\n",
       "      <td>34.00</td>\n",
       "      <td>5</td>\n",
       "      <td>174.00</td>\n",
       "      <td>1</td>\n",
       "      <td>1</td>\n",
       "      <td>0</td>\n",
       "      <td>67,353.16</td>\n",
       "      <td>1</td>\n",
       "    </tr>\n",
       "    <tr>\n",
       "      <th>...</th>\n",
       "      <td>...</td>\n",
       "      <td>...</td>\n",
       "      <td>...</td>\n",
       "      <td>...</td>\n",
       "      <td>...</td>\n",
       "      <td>...</td>\n",
       "      <td>...</td>\n",
       "      <td>...</td>\n",
       "      <td>...</td>\n",
       "      <td>...</td>\n",
       "      <td>...</td>\n",
       "      <td>...</td>\n",
       "    </tr>\n",
       "    <tr>\n",
       "      <th>9995</th>\n",
       "      <td>120553</td>\n",
       "      <td>814.00</td>\n",
       "      <td>Рыбинск</td>\n",
       "      <td>М</td>\n",
       "      <td>27.00</td>\n",
       "      <td>1</td>\n",
       "      <td>78,144.65</td>\n",
       "      <td>1</td>\n",
       "      <td>0</td>\n",
       "      <td>1</td>\n",
       "      <td>18,943.64</td>\n",
       "      <td>0</td>\n",
       "    </tr>\n",
       "    <tr>\n",
       "      <th>9996</th>\n",
       "      <td>139170</td>\n",
       "      <td>894.00</td>\n",
       "      <td>Ярославль</td>\n",
       "      <td>М</td>\n",
       "      <td>46.00</td>\n",
       "      <td>0</td>\n",
       "      <td>NaN</td>\n",
       "      <td>1</td>\n",
       "      <td>1</td>\n",
       "      <td>0</td>\n",
       "      <td>196,898.29</td>\n",
       "      <td>0</td>\n",
       "    </tr>\n",
       "    <tr>\n",
       "      <th>9997</th>\n",
       "      <td>115639</td>\n",
       "      <td>903.00</td>\n",
       "      <td>Ярославль</td>\n",
       "      <td>М</td>\n",
       "      <td>24.00</td>\n",
       "      <td>0</td>\n",
       "      <td>NaN</td>\n",
       "      <td>2</td>\n",
       "      <td>1</td>\n",
       "      <td>1</td>\n",
       "      <td>108,905.09</td>\n",
       "      <td>0</td>\n",
       "    </tr>\n",
       "    <tr>\n",
       "      <th>9998</th>\n",
       "      <td>148700</td>\n",
       "      <td>777.00</td>\n",
       "      <td>Ярославль</td>\n",
       "      <td>Ж</td>\n",
       "      <td>68.00</td>\n",
       "      <td>3</td>\n",
       "      <td>865,457.97</td>\n",
       "      <td>3</td>\n",
       "      <td>0</td>\n",
       "      <td>1</td>\n",
       "      <td>86,874.90</td>\n",
       "      <td>0</td>\n",
       "    </tr>\n",
       "    <tr>\n",
       "      <th>9999</th>\n",
       "      <td>96267</td>\n",
       "      <td>828.00</td>\n",
       "      <td>Рыбинск</td>\n",
       "      <td>Ж</td>\n",
       "      <td>58.00</td>\n",
       "      <td>3</td>\n",
       "      <td>1,180,886.70</td>\n",
       "      <td>4</td>\n",
       "      <td>0</td>\n",
       "      <td>1</td>\n",
       "      <td>21,422.37</td>\n",
       "      <td>0</td>\n",
       "    </tr>\n",
       "  </tbody>\n",
       "</table>\n",
       "<p>10000 rows × 12 columns</p>\n",
       "</div>"
      ],
      "text/plain": [
       "      USERID  score       city gender   age  equity      balance  products  \\\n",
       "0     183012 850.00    Рыбинск      Ж 25.00       1    59,214.82         2   \n",
       "1     146556 861.00    Рыбинск      Ж 37.00       5   850,594.33         3   \n",
       "2     120722 892.00    Рыбинск      Ж 30.00       0          NaN         1   \n",
       "3     225363 866.00  Ярославль      Ж 51.00       5 1,524,746.26         2   \n",
       "4     157978 730.00  Ярославль      М 34.00       5       174.00         1   \n",
       "...      ...    ...        ...    ...   ...     ...          ...       ...   \n",
       "9995  120553 814.00    Рыбинск      М 27.00       1    78,144.65         1   \n",
       "9996  139170 894.00  Ярославль      М 46.00       0          NaN         1   \n",
       "9997  115639 903.00  Ярославль      М 24.00       0          NaN         2   \n",
       "9998  148700 777.00  Ярославль      Ж 68.00       3   865,457.97         3   \n",
       "9999   96267 828.00    Рыбинск      Ж 58.00       3 1,180,886.70         4   \n",
       "\n",
       "      credit_card  last_activity  EST_SALARY  churn  \n",
       "0               0              1   75,719.14      1  \n",
       "1               1              0   86,621.77      0  \n",
       "2               1              1  107,683.34      0  \n",
       "3               0              1  174,423.53      1  \n",
       "4               1              0   67,353.16      1  \n",
       "...           ...            ...         ...    ...  \n",
       "9995            0              1   18,943.64      0  \n",
       "9996            1              0  196,898.29      0  \n",
       "9997            1              1  108,905.09      0  \n",
       "9998            0              1   86,874.90      0  \n",
       "9999            0              1   21,422.37      0  \n",
       "\n",
       "[10000 rows x 12 columns]"
      ]
     },
     "execution_count": 4,
     "metadata": {},
     "output_type": "execute_result"
    }
   ],
   "source": [
    "data"
   ]
  },
  {
   "cell_type": "markdown",
   "id": "aabf03e8",
   "metadata": {},
   "source": [
    "Приведем названия столбцов к нижнему регистру"
   ]
  },
  {
   "cell_type": "code",
   "execution_count": 5,
   "id": "90807223",
   "metadata": {},
   "outputs": [],
   "source": [
    "data.columns = [x.lower() for x in data.columns]"
   ]
  },
  {
   "cell_type": "markdown",
   "id": "d28a843c",
   "metadata": {},
   "source": [
    "Проверим тип данных в каждом столбце"
   ]
  },
  {
   "cell_type": "code",
   "execution_count": 6,
   "id": "d0cbad20",
   "metadata": {},
   "outputs": [
    {
     "name": "stdout",
     "output_type": "stream",
     "text": [
      "<class 'pandas.core.frame.DataFrame'>\n",
      "RangeIndex: 10000 entries, 0 to 9999\n",
      "Data columns (total 12 columns):\n",
      " #   Column         Non-Null Count  Dtype  \n",
      "---  ------         --------------  -----  \n",
      " 0   userid         10000 non-null  int64  \n",
      " 1   score          10000 non-null  float64\n",
      " 2   city           10000 non-null  object \n",
      " 3   gender         10000 non-null  object \n",
      " 4   age            9974 non-null   float64\n",
      " 5   equity         10000 non-null  int64  \n",
      " 6   balance        7705 non-null   float64\n",
      " 7   products       10000 non-null  int64  \n",
      " 8   credit_card    10000 non-null  int64  \n",
      " 9   last_activity  10000 non-null  int64  \n",
      " 10  est_salary     10000 non-null  float64\n",
      " 11  churn          10000 non-null  int64  \n",
      "dtypes: float64(4), int64(6), object(2)\n",
      "memory usage: 937.6+ KB\n"
     ]
    }
   ],
   "source": [
    "data.info()"
   ]
  },
  {
   "cell_type": "markdown",
   "id": "ad5ff9cf",
   "metadata": {},
   "source": [
    "Проверим на наличие дубликатов."
   ]
  },
  {
   "cell_type": "code",
   "execution_count": 7,
   "id": "2274242a",
   "metadata": {},
   "outputs": [
    {
     "data": {
      "text/plain": [
       "73"
      ]
     },
     "execution_count": 7,
     "metadata": {},
     "output_type": "execute_result"
    }
   ],
   "source": [
    "data['userid'].duplicated().sum()"
   ]
  },
  {
   "cell_type": "markdown",
   "id": "3dda1b4d",
   "metadata": {},
   "source": [
    "Видим, что в столбце 'userid' есть 73 дубликата. Серьезного влияние на наше исследование эти дубликаты не окажут, так как их очень мало. Можно их удалить."
   ]
  },
  {
   "cell_type": "code",
   "execution_count": 8,
   "id": "046c08e1",
   "metadata": {},
   "outputs": [],
   "source": [
    "data = data.drop_duplicates(subset=['userid'])"
   ]
  },
  {
   "cell_type": "code",
   "execution_count": 9,
   "id": "9607c32b",
   "metadata": {},
   "outputs": [
    {
     "data": {
      "text/plain": [
       "0"
      ]
     },
     "execution_count": 9,
     "metadata": {},
     "output_type": "execute_result"
    }
   ],
   "source": [
    "data['userid'].duplicated().sum()"
   ]
  },
  {
   "cell_type": "markdown",
   "id": "196ccf2f",
   "metadata": {},
   "source": [
    "Посмотрим на количство попусков "
   ]
  },
  {
   "cell_type": "code",
   "execution_count": 10,
   "id": "7790fdd7",
   "metadata": {},
   "outputs": [
    {
     "data": {
      "text/plain": [
       "userid              0\n",
       "score               0\n",
       "city                0\n",
       "gender              0\n",
       "age                 4\n",
       "equity              0\n",
       "balance          2260\n",
       "products            0\n",
       "credit_card         0\n",
       "last_activity       0\n",
       "est_salary          0\n",
       "churn               0\n",
       "dtype: int64"
      ]
     },
     "execution_count": 10,
     "metadata": {},
     "output_type": "execute_result"
    }
   ],
   "source": [
    "data.isna().sum()"
   ]
  },
  {
   "cell_type": "markdown",
   "id": "f8dc11e0",
   "metadata": {},
   "source": [
    "Как видно пропуски есть в двух столбцах 'age' и 'balance'.Пропусков в столбце 'age' так же очень мало, избавимся от них. "
   ]
  },
  {
   "cell_type": "code",
   "execution_count": 11,
   "id": "8a3977dc",
   "metadata": {
    "scrolled": false
   },
   "outputs": [],
   "source": [
    "data = data.dropna(subset=['age'])"
   ]
  },
  {
   "cell_type": "markdown",
   "id": "e6d307fa",
   "metadata": {},
   "source": [
    "Начнем работать с пропусками в столбце 'balance', изучим причину возникновения пропусков и есть ли какая-то зависимость с другими параметрами."
   ]
  },
  {
   "cell_type": "code",
   "execution_count": 12,
   "id": "26be6d45",
   "metadata": {
    "scrolled": true
   },
   "outputs": [
    {
     "data": {
      "text/html": [
       "<div>\n",
       "<style scoped>\n",
       "    .dataframe tbody tr th:only-of-type {\n",
       "        vertical-align: middle;\n",
       "    }\n",
       "\n",
       "    .dataframe tbody tr th {\n",
       "        vertical-align: top;\n",
       "    }\n",
       "\n",
       "    .dataframe thead th {\n",
       "        text-align: right;\n",
       "    }\n",
       "</style>\n",
       "<table border=\"1\" class=\"dataframe\">\n",
       "  <thead>\n",
       "    <tr style=\"text-align: right;\">\n",
       "      <th></th>\n",
       "      <th></th>\n",
       "      <th>balance</th>\n",
       "    </tr>\n",
       "    <tr>\n",
       "      <th>city</th>\n",
       "      <th>equity</th>\n",
       "      <th></th>\n",
       "    </tr>\n",
       "  </thead>\n",
       "  <tbody>\n",
       "    <tr>\n",
       "      <th rowspan=\"10\" valign=\"top\">Ростов</th>\n",
       "      <th>0</th>\n",
       "      <td>226.00</td>\n",
       "    </tr>\n",
       "    <tr>\n",
       "      <th>1</th>\n",
       "      <td>9.00</td>\n",
       "    </tr>\n",
       "    <tr>\n",
       "      <th>2</th>\n",
       "      <td>0.00</td>\n",
       "    </tr>\n",
       "    <tr>\n",
       "      <th>3</th>\n",
       "      <td>0.00</td>\n",
       "    </tr>\n",
       "    <tr>\n",
       "      <th>4</th>\n",
       "      <td>0.00</td>\n",
       "    </tr>\n",
       "    <tr>\n",
       "      <th>5</th>\n",
       "      <td>0.00</td>\n",
       "    </tr>\n",
       "    <tr>\n",
       "      <th>6</th>\n",
       "      <td>0.00</td>\n",
       "    </tr>\n",
       "    <tr>\n",
       "      <th>7</th>\n",
       "      <td>0.00</td>\n",
       "    </tr>\n",
       "    <tr>\n",
       "      <th>8</th>\n",
       "      <td>0.00</td>\n",
       "    </tr>\n",
       "    <tr>\n",
       "      <th>9</th>\n",
       "      <td>0.00</td>\n",
       "    </tr>\n",
       "    <tr>\n",
       "      <th rowspan=\"10\" valign=\"top\">Рыбинск</th>\n",
       "      <th>0</th>\n",
       "      <td>552.00</td>\n",
       "    </tr>\n",
       "    <tr>\n",
       "      <th>1</th>\n",
       "      <td>23.00</td>\n",
       "    </tr>\n",
       "    <tr>\n",
       "      <th>2</th>\n",
       "      <td>0.00</td>\n",
       "    </tr>\n",
       "    <tr>\n",
       "      <th>3</th>\n",
       "      <td>1.00</td>\n",
       "    </tr>\n",
       "    <tr>\n",
       "      <th>4</th>\n",
       "      <td>0.00</td>\n",
       "    </tr>\n",
       "    <tr>\n",
       "      <th>5</th>\n",
       "      <td>0.00</td>\n",
       "    </tr>\n",
       "    <tr>\n",
       "      <th>6</th>\n",
       "      <td>0.00</td>\n",
       "    </tr>\n",
       "    <tr>\n",
       "      <th>7</th>\n",
       "      <td>0.00</td>\n",
       "    </tr>\n",
       "    <tr>\n",
       "      <th>8</th>\n",
       "      <td>0.00</td>\n",
       "    </tr>\n",
       "    <tr>\n",
       "      <th>9</th>\n",
       "      <td>0.00</td>\n",
       "    </tr>\n",
       "    <tr>\n",
       "      <th rowspan=\"10\" valign=\"top\">Ярославль</th>\n",
       "      <th>0</th>\n",
       "      <td>1,367.00</td>\n",
       "    </tr>\n",
       "    <tr>\n",
       "      <th>1</th>\n",
       "      <td>82.00</td>\n",
       "    </tr>\n",
       "    <tr>\n",
       "      <th>2</th>\n",
       "      <td>0.00</td>\n",
       "    </tr>\n",
       "    <tr>\n",
       "      <th>3</th>\n",
       "      <td>0.00</td>\n",
       "    </tr>\n",
       "    <tr>\n",
       "      <th>4</th>\n",
       "      <td>0.00</td>\n",
       "    </tr>\n",
       "    <tr>\n",
       "      <th>5</th>\n",
       "      <td>0.00</td>\n",
       "    </tr>\n",
       "    <tr>\n",
       "      <th>6</th>\n",
       "      <td>0.00</td>\n",
       "    </tr>\n",
       "    <tr>\n",
       "      <th>7</th>\n",
       "      <td>0.00</td>\n",
       "    </tr>\n",
       "    <tr>\n",
       "      <th>8</th>\n",
       "      <td>0.00</td>\n",
       "    </tr>\n",
       "    <tr>\n",
       "      <th>9</th>\n",
       "      <td>0.00</td>\n",
       "    </tr>\n",
       "  </tbody>\n",
       "</table>\n",
       "</div>"
      ],
      "text/plain": [
       "                  balance\n",
       "city      equity         \n",
       "Ростов    0        226.00\n",
       "          1          9.00\n",
       "          2          0.00\n",
       "          3          0.00\n",
       "          4          0.00\n",
       "          5          0.00\n",
       "          6          0.00\n",
       "          7          0.00\n",
       "          8          0.00\n",
       "          9          0.00\n",
       "Рыбинск   0        552.00\n",
       "          1         23.00\n",
       "          2          0.00\n",
       "          3          1.00\n",
       "          4          0.00\n",
       "          5          0.00\n",
       "          6          0.00\n",
       "          7          0.00\n",
       "          8          0.00\n",
       "          9          0.00\n",
       "Ярославль 0      1,367.00\n",
       "          1         82.00\n",
       "          2          0.00\n",
       "          3          0.00\n",
       "          4          0.00\n",
       "          5          0.00\n",
       "          6          0.00\n",
       "          7          0.00\n",
       "          8          0.00\n",
       "          9          0.00"
      ]
     },
     "execution_count": 12,
     "metadata": {},
     "output_type": "execute_result"
    }
   ],
   "source": [
    "data_city = data.groupby(['city', 'equity']).agg({'balance': lambda x: x.isnull().sum()})\n",
    "data_city"
   ]
  },
  {
   "cell_type": "markdown",
   "id": "e8231b0e",
   "metadata": {},
   "source": [
    "Как видно из таблицы , чем ниже значение столбца equity, тем больше количество пропусков в столбце balance."
   ]
  },
  {
   "cell_type": "code",
   "execution_count": 13,
   "id": "258d1f31",
   "metadata": {},
   "outputs": [
    {
     "data": {
      "text/html": [
       "<div>\n",
       "<style scoped>\n",
       "    .dataframe tbody tr th:only-of-type {\n",
       "        vertical-align: middle;\n",
       "    }\n",
       "\n",
       "    .dataframe tbody tr th {\n",
       "        vertical-align: top;\n",
       "    }\n",
       "\n",
       "    .dataframe thead th {\n",
       "        text-align: right;\n",
       "    }\n",
       "</style>\n",
       "<table border=\"1\" class=\"dataframe\">\n",
       "  <thead>\n",
       "    <tr style=\"text-align: right;\">\n",
       "      <th></th>\n",
       "      <th>balance</th>\n",
       "    </tr>\n",
       "    <tr>\n",
       "      <th>churn</th>\n",
       "      <th></th>\n",
       "    </tr>\n",
       "  </thead>\n",
       "  <tbody>\n",
       "    <tr>\n",
       "      <th>0</th>\n",
       "      <td>2,247.00</td>\n",
       "    </tr>\n",
       "    <tr>\n",
       "      <th>1</th>\n",
       "      <td>13.00</td>\n",
       "    </tr>\n",
       "  </tbody>\n",
       "</table>\n",
       "</div>"
      ],
      "text/plain": [
       "       balance\n",
       "churn         \n",
       "0     2,247.00\n",
       "1        13.00"
      ]
     },
     "execution_count": 13,
     "metadata": {},
     "output_type": "execute_result"
    }
   ],
   "source": [
    "data_city = data.groupby('churn').agg({'balance': lambda x: x.isnull().sum()})\n",
    "data_city"
   ]
  },
  {
   "cell_type": "markdown",
   "id": "be237026",
   "metadata": {},
   "source": [
    "Так же видим зависимсть ,если клиент остается , то пропусков в столбце balance больше."
   ]
  },
  {
   "cell_type": "markdown",
   "id": "168fbbad",
   "metadata": {},
   "source": [
    "Причину возникновения пропусков определить невозможно, это может быть как человеческий фактор,так и технологический фактор. Можно преположить, что пропуски в балансе есть у людей, имеющих только дебетовую карту. Для более подробного анализу можно уточнить данные у заказчика."
   ]
  },
  {
   "cell_type": "markdown",
   "id": "53842472",
   "metadata": {},
   "source": [
    "Проверим на выбросы"
   ]
  },
  {
   "cell_type": "code",
   "execution_count": 14,
   "id": "235d8b48",
   "metadata": {},
   "outputs": [
    {
     "data": {
      "image/png": "[encoded data removed]",
      "text/plain": [
       "<Figure size 432x288 with 1 Axes>"
      ]
     },
     "metadata": {
      "needs_background": "light"
     },
     "output_type": "display_data"
    },
    {
     "data": {
      "text/plain": [
       "count   9,923.00\n",
       "mean       42.73\n",
       "std        12.18\n",
       "min        18.00\n",
       "25%        33.00\n",
       "50%        40.00\n",
       "75%        51.00\n",
       "max        86.00\n",
       "Name: age, dtype: float64"
      ]
     },
     "execution_count": 14,
     "metadata": {},
     "output_type": "execute_result"
    }
   ],
   "source": [
    "data.boxplot(column = 'age' , return_type='axes');\n",
    "plt.title('График размаха возраста клиентов')\n",
    "plt.ylabel('Количество лет')\n",
    "plt.show()\n",
    "data['age'].describe()"
   ]
  },
  {
   "cell_type": "markdown",
   "id": "8aab6680",
   "metadata": {},
   "source": [
    "Видим, что по возрасту есть небольшие выбросы ,но они незначительные.Минимальный возраст 18 лет, что соответсвует законодательству. Максимальный возраст 86 лет.\n"
   ]
  },
  {
   "cell_type": "code",
   "execution_count": 15,
   "id": "fb8293a7",
   "metadata": {},
   "outputs": [
    {
     "data": {
      "image/png": "[encoded data removed]",
      "text/plain": [
       "<Figure size 432x288 with 1 Axes>"
      ]
     },
     "metadata": {
      "needs_background": "light"
     },
     "output_type": "display_data"
    },
    {
     "data": {
      "text/plain": [
       "count         7,663.00\n",
       "mean        828,248.16\n",
       "std       1,984,247.69\n",
       "min               0.00\n",
       "25%         295,498.98\n",
       "50%         524,961.22\n",
       "75%         980,801.49\n",
       "max     119,113,552.01\n",
       "Name: balance, dtype: float64"
      ]
     },
     "execution_count": 15,
     "metadata": {},
     "output_type": "execute_result"
    }
   ],
   "source": [
    "data.boxplot(column = 'balance' , return_type='axes');\n",
    "plt.title('График размаха баланса клиента')\n",
    "plt.ylabel('Баланс, млн')\n",
    "plt.show()\n",
    "data['balance'].describe()"
   ]
  },
  {
   "cell_type": "markdown",
   "id": "41d44f39",
   "metadata": {},
   "source": [
    "Из графика можно сделать вывод, что у  большинства клиентов баланс ниже 1 млн . Те клиенты , у которых баланс выше этой отметки будем считать вип-клиентами."
   ]
  },
  {
   "cell_type": "code",
   "execution_count": 16,
   "id": "1246408b",
   "metadata": {},
   "outputs": [
    {
     "data": {
      "image/png": "[encoded data removed]",
      "text/plain": [
       "<Figure size 432x288 with 1 Axes>"
      ]
     },
     "metadata": {
      "needs_background": "light"
     },
     "output_type": "display_data"
    },
    {
     "data": {
      "text/plain": [
       "count       9,923.00\n",
       "mean      147,886.49\n",
       "std       139,363.90\n",
       "min         2,546.30\n",
       "25%        75,252.12\n",
       "50%       119,719.33\n",
       "75%       174,673.28\n",
       "max     1,395,064.45\n",
       "Name: est_salary, dtype: float64"
      ]
     },
     "execution_count": 16,
     "metadata": {},
     "output_type": "execute_result"
    }
   ],
   "source": [
    "data.boxplot(column = 'est_salary' , return_type='axes');\n",
    "plt.title('График размаха зарплаты клиента')\n",
    "plt.ylabel('Зарплата, млн')\n",
    "plt.show()\n",
    "data['est_salary'].describe()"
   ]
  },
  {
   "cell_type": "markdown",
   "id": "75fe4c5b",
   "metadata": {},
   "source": [
    "Клиентов, имеющих доход свыше 300000 ,так же отнесем к категории вип-клиентов."
   ]
  },
  {
   "cell_type": "markdown",
   "id": "6fda3b18",
   "metadata": {},
   "source": [
    "Затем посомтрим выбросы в столбце products"
   ]
  },
  {
   "cell_type": "code",
   "execution_count": 17,
   "id": "b4dbea1a",
   "metadata": {},
   "outputs": [
    {
     "data": {
      "text/plain": [
       "count   9,923.00\n",
       "mean        1.87\n",
       "std         0.79\n",
       "min         0.00\n",
       "25%         1.00\n",
       "50%         2.00\n",
       "75%         2.00\n",
       "max         5.00\n",
       "Name: products, dtype: float64"
      ]
     },
     "execution_count": 17,
     "metadata": {},
     "output_type": "execute_result"
    }
   ],
   "source": [
    "data['products'].describe()"
   ]
  },
  {
   "cell_type": "markdown",
   "id": "82e66698",
   "metadata": {},
   "source": [
    "Видим, что есть клиент или клиенты , которые вообще не пользуются продуктами банка. Найдем таких клиентов."
   ]
  },
  {
   "cell_type": "code",
   "execution_count": 18,
   "id": "06694114",
   "metadata": {},
   "outputs": [
    {
     "data": {
      "text/html": [
       "<div>\n",
       "<style scoped>\n",
       "    .dataframe tbody tr th:only-of-type {\n",
       "        vertical-align: middle;\n",
       "    }\n",
       "\n",
       "    .dataframe tbody tr th {\n",
       "        vertical-align: top;\n",
       "    }\n",
       "\n",
       "    .dataframe thead th {\n",
       "        text-align: right;\n",
       "    }\n",
       "</style>\n",
       "<table border=\"1\" class=\"dataframe\">\n",
       "  <thead>\n",
       "    <tr style=\"text-align: right;\">\n",
       "      <th></th>\n",
       "      <th>userid</th>\n",
       "      <th>score</th>\n",
       "      <th>city</th>\n",
       "      <th>gender</th>\n",
       "      <th>age</th>\n",
       "      <th>equity</th>\n",
       "      <th>balance</th>\n",
       "      <th>products</th>\n",
       "      <th>credit_card</th>\n",
       "      <th>last_activity</th>\n",
       "      <th>est_salary</th>\n",
       "      <th>churn</th>\n",
       "    </tr>\n",
       "  </thead>\n",
       "  <tbody>\n",
       "    <tr>\n",
       "      <th>8957</th>\n",
       "      <td>147837</td>\n",
       "      <td>962.00</td>\n",
       "      <td>Рыбинск</td>\n",
       "      <td>Ж</td>\n",
       "      <td>79.00</td>\n",
       "      <td>3</td>\n",
       "      <td>NaN</td>\n",
       "      <td>0</td>\n",
       "      <td>0</td>\n",
       "      <td>0</td>\n",
       "      <td>25,063.96</td>\n",
       "      <td>1</td>\n",
       "    </tr>\n",
       "  </tbody>\n",
       "</table>\n",
       "</div>"
      ],
      "text/plain": [
       "      userid  score     city gender   age  equity  balance  products  \\\n",
       "8957  147837 962.00  Рыбинск      Ж 79.00       3      NaN         0   \n",
       "\n",
       "      credit_card  last_activity  est_salary  churn  \n",
       "8957            0              0   25,063.96      1  "
      ]
     },
     "execution_count": 18,
     "metadata": {},
     "output_type": "execute_result"
    }
   ],
   "source": [
    "data.query('products == 0')"
   ]
  },
  {
   "cell_type": "markdown",
   "id": "05f30917",
   "metadata": {},
   "source": [
    "Видим, что есть клиент , который не пользуется продуктами банка, такой клиент один, поэтому можно удалить "
   ]
  },
  {
   "cell_type": "code",
   "execution_count": 19,
   "id": "6dfa8ba4",
   "metadata": {},
   "outputs": [],
   "source": [
    "data=data.query('products != 0')"
   ]
  },
  {
   "cell_type": "markdown",
   "id": "6a30ac2a",
   "metadata": {},
   "source": [
    "# **Исследовательский анализ данных**"
   ]
  },
  {
   "cell_type": "markdown",
   "id": "2315eb46",
   "metadata": {},
   "source": [
    "Посмотрим распределение по некоторым параметрам"
   ]
  },
  {
   "cell_type": "code",
   "execution_count": 20,
   "id": "285c362c",
   "metadata": {
    "scrolled": false
   },
   "outputs": [
    {
     "data": {
      "image/png": "[encoded data removed]",
      "text/plain": [
       "<Figure size 360x216 with 1 Axes>"
      ]
     },
     "metadata": {
      "needs_background": "light"
     },
     "output_type": "display_data"
    },
    {
     "data": {
      "image/png": "[encoded data removed]",
      "text/plain": [
       "<Figure size 360x216 with 1 Axes>"
      ]
     },
     "metadata": {
      "needs_background": "light"
     },
     "output_type": "display_data"
    },
    {
     "data": {
      "image/png": "[encoded data removed]",
      "text/plain": [
       "<Figure size 360x216 with 1 Axes>"
      ]
     },
     "metadata": {
      "needs_background": "light"
     },
     "output_type": "display_data"
    },
    {
     "data": {
      "image/png": "[encoded data removed]",
      "text/plain": [
       "<Figure size 360x216 with 1 Axes>"
      ]
     },
     "metadata": {
      "needs_background": "light"
     },
     "output_type": "display_data"
    },
    {
     "data": {
      "image/png": "[encoded data removed]",
      "text/plain": [
       "<Figure size 360x216 with 1 Axes>"
      ]
     },
     "metadata": {
      "needs_background": "light"
     },
     "output_type": "display_data"
    },
    {
     "data": {
      "image/png": "[encoded data removed]",
      "text/plain": [
       "<Figure size 360x216 with 1 Axes>"
      ]
     },
     "metadata": {
      "needs_background": "light"
     },
     "output_type": "display_data"
    }
   ],
   "source": [
    "data_to_plt = data[[\n",
    "    'gender', 'city', 'credit_card', 'products', 'last_activity', 'churn' ]]\n",
    "\n",
    "for i in data_to_plt.columns:\n",
    "        plt.figure(figsize=(5, 3))\n",
    "        sns.histplot(x=i, data=data)\n",
    "        plt.title(i)\n",
    "        plt.xlabel(' ')\n",
    "        plt.ylabel('Количество')\n",
    "        plt.show()\n"
   ]
  },
  {
   "cell_type": "markdown",
   "id": "3bf24667",
   "metadata": {},
   "source": [
    "Вывод: по графкам видно, что распределение по полу и активности примерно равное. В Ярославле самое большое количество клиентов в 2 раза больше , чем в Рыбинске , и в 3 раза больше , чем в Ростове. Клиенты,которые имеют кредитную карту примерно в 2 раза больше, чем без нее. Чуть больше трети клиентов пользуются одним продуктом, около 50% - двумя. 3, 4 и 5 продкутами - менее 5%. Так же около 20% клиентов уходит."
   ]
  },
  {
   "cell_type": "markdown",
   "id": "a6d5bd45",
   "metadata": {},
   "source": [
    "**ВЛИЯНИЕ ПАРАМЕТРОВ НА ОТТОК**"
   ]
  },
  {
   "cell_type": "code",
   "execution_count": 21,
   "id": "39bbacaf",
   "metadata": {},
   "outputs": [
    {
     "data": {
      "text/html": [
       "<div>\n",
       "<style scoped>\n",
       "    .dataframe tbody tr th:only-of-type {\n",
       "        vertical-align: middle;\n",
       "    }\n",
       "\n",
       "    .dataframe tbody tr th {\n",
       "        vertical-align: top;\n",
       "    }\n",
       "\n",
       "    .dataframe thead th {\n",
       "        text-align: right;\n",
       "    }\n",
       "</style>\n",
       "<table border=\"1\" class=\"dataframe\">\n",
       "  <thead>\n",
       "    <tr style=\"text-align: right;\">\n",
       "      <th></th>\n",
       "      <th>userid</th>\n",
       "      <th>score</th>\n",
       "      <th>age</th>\n",
       "      <th>equity</th>\n",
       "      <th>balance</th>\n",
       "      <th>products</th>\n",
       "      <th>credit_card</th>\n",
       "      <th>last_activity</th>\n",
       "      <th>est_salary</th>\n",
       "    </tr>\n",
       "    <tr>\n",
       "      <th>churn</th>\n",
       "      <th></th>\n",
       "      <th></th>\n",
       "      <th></th>\n",
       "      <th></th>\n",
       "      <th></th>\n",
       "      <th></th>\n",
       "      <th></th>\n",
       "      <th></th>\n",
       "      <th></th>\n",
       "    </tr>\n",
       "  </thead>\n",
       "  <tbody>\n",
       "    <tr>\n",
       "      <th>0</th>\n",
       "      <td>173,117.50</td>\n",
       "      <td>848.00</td>\n",
       "      <td>40.00</td>\n",
       "      <td>3.00</td>\n",
       "      <td>475,354.80</td>\n",
       "      <td>2.00</td>\n",
       "      <td>1.00</td>\n",
       "      <td>0.00</td>\n",
       "      <td>118,248.51</td>\n",
       "    </tr>\n",
       "    <tr>\n",
       "      <th>1</th>\n",
       "      <td>170,638.50</td>\n",
       "      <td>866.00</td>\n",
       "      <td>39.00</td>\n",
       "      <td>4.00</td>\n",
       "      <td>783,908.90</td>\n",
       "      <td>2.00</td>\n",
       "      <td>1.00</td>\n",
       "      <td>1.00</td>\n",
       "      <td>125,408.88</td>\n",
       "    </tr>\n",
       "  </tbody>\n",
       "</table>\n",
       "</div>"
      ],
      "text/plain": [
       "          userid  score   age  equity    balance  products  credit_card  \\\n",
       "churn                                                                     \n",
       "0     173,117.50 848.00 40.00    3.00 475,354.80      2.00         1.00   \n",
       "1     170,638.50 866.00 39.00    4.00 783,908.90      2.00         1.00   \n",
       "\n",
       "       last_activity  est_salary  \n",
       "churn                             \n",
       "0               0.00  118,248.51  \n",
       "1               1.00  125,408.88  "
      ]
     },
     "execution_count": 21,
     "metadata": {},
     "output_type": "execute_result"
    }
   ],
   "source": [
    "data.groupby('churn').agg('median')"
   ]
  },
  {
   "cell_type": "markdown",
   "id": "3a6e7a0c",
   "metadata": {},
   "source": [
    "Вывод:\n",
    "- у тех кто ушел, рейтнг score выше , чем у тех , кто остался\n",
    "- уходят клиенты со среднем возрастом 39 лет \n",
    "- в среднем баланс клиентов , которые ушли, больше , чем у тех кто остался\n",
    "- оттточные клиенты имеют около двух продуктов банка"
   ]
  },
  {
   "cell_type": "markdown",
   "id": "4a03b43d",
   "metadata": {},
   "source": [
    "**МАТРИЦА КОРРЕЛЯЦИЙ**"
   ]
  },
  {
   "cell_type": "markdown",
   "id": "810cc24a",
   "metadata": {},
   "source": [
    "Построим матрицу корреляций , для этого сначала создадим копию датасета, чтобы удалить столбец 'userid' так как от него нет никакой зависимости"
   ]
  },
  {
   "cell_type": "markdown",
   "id": "39f3838d",
   "metadata": {},
   "source": [
    "Также необходимо учитывать города и пол, поэотому закодируем города в бинарной системе."
   ]
  },
  {
   "cell_type": "code",
   "execution_count": 22,
   "id": "83d764ad",
   "metadata": {},
   "outputs": [],
   "source": [
    "matrix = data\n",
    "matrix = pd.get_dummies(matrix,columns=['city','gender'],drop_first=False)\n",
    "matrix = matrix.rename(columns = {'city_Ростов':'Ростов','city_Рыбинск':'Рыбинск','city_Ярославль':'Ярославль'})"
   ]
  },
  {
   "cell_type": "code",
   "execution_count": 23,
   "id": "e6e28575",
   "metadata": {},
   "outputs": [
    {
     "data": {
      "image/png": "[encoded data removed]",
      "text/plain": [
       "<Figure size 1152x864 with 2 Axes>"
      ]
     },
     "metadata": {
      "needs_background": "light"
     },
     "output_type": "display_data"
    }
   ],
   "source": [
    "f, ax = plt.subplots(figsize=(16, 12))\n",
    "\n",
    "sns.heatmap(matrix.corr(), annot=True, linewidths=.5,fmt='.2%', alpha=.5)\n",
    "plt.show()"
   ]
  },
  {
   "cell_type": "markdown",
   "id": "e0e6cd59",
   "metadata": {},
   "source": [
    "Вывод: по матрице корреляций видно, что сильной зависимости оттока клиента от других параметров - нет. Больше всего влияние на отток оказывают количество продуктов и оценка собственности. Стоит отметить , что есть умеренная корреляция между балансом и зароботной платы.Так же можно увидеть, что корреляции между городами и параметрами нет. Заметим , что корреляция между полом и оттоком низкая."
   ]
  },
  {
   "cell_type": "markdown",
   "id": "50ffd353",
   "metadata": {},
   "source": [
    "**СЕГМЕНТАЦИЯ ПОЛЬЗОВАТЕЛЕЙ ПО ПОТРЕБЛЕНИЮ ПРОДУКТОВ**"
   ]
  },
  {
   "cell_type": "markdown",
   "id": "4fa52ec0",
   "metadata": {},
   "source": [
    "Далее рассмотрим, как распределяются пользователи по количеству потребляемых продуктов. То есть продукты , которые предоставляет сам банк."
   ]
  },
  {
   "cell_type": "code",
   "execution_count": 24,
   "id": "66fb832c",
   "metadata": {},
   "outputs": [
    {
     "data": {
      "image/png": "[encoded data removed]",
      "text/plain": [
       "<Figure size 1080x216 with 1 Axes>"
      ]
     },
     "metadata": {
      "needs_background": "light"
     },
     "output_type": "display_data"
    }
   ],
   "source": [
    "plt.figure(figsize=(15, 3))\n",
    "ax = sns.barplot(x='count', \n",
    "                 y='products', \n",
    "                 data=data.groupby('products').agg(count=('userid','count')).reset_index(), \n",
    "                 orient='h', alpha=0.6)\n",
    "ax.set_title('Распределение пользователей по количеству потребляемых продуктов', loc='left')\n",
    "ax.set_xlabel('количество пользователей') \n",
    "ax.set_ylabel('')\n",
    "plt.show()\n",
    "\n"
   ]
  },
  {
   "cell_type": "markdown",
   "id": "7d5b3eca",
   "metadata": {},
   "source": [
    "Как видно из графика , больше клиентов, которые пользуются 2 продуктами , около 50%, одним продуктом пользуются примерно 32%, 3мя продуктами около 10% , 4мя продуктами около 5% и 5ю продуктами менее 1% процента."
   ]
  },
  {
   "cell_type": "code",
   "execution_count": 25,
   "id": "32d9eab6",
   "metadata": {
    "scrolled": true
   },
   "outputs": [
    {
     "data": {
      "text/html": [
       "<div>\n",
       "<style scoped>\n",
       "    .dataframe tbody tr th:only-of-type {\n",
       "        vertical-align: middle;\n",
       "    }\n",
       "\n",
       "    .dataframe tbody tr th {\n",
       "        vertical-align: top;\n",
       "    }\n",
       "\n",
       "    .dataframe thead th {\n",
       "        text-align: right;\n",
       "    }\n",
       "</style>\n",
       "<table border=\"1\" class=\"dataframe\">\n",
       "  <thead>\n",
       "    <tr style=\"text-align: right;\">\n",
       "      <th></th>\n",
       "      <th>userid</th>\n",
       "      <th>score</th>\n",
       "      <th>age</th>\n",
       "      <th>equity</th>\n",
       "      <th>balance</th>\n",
       "      <th>credit_card</th>\n",
       "      <th>last_activity</th>\n",
       "      <th>est_salary</th>\n",
       "      <th>churn</th>\n",
       "    </tr>\n",
       "    <tr>\n",
       "      <th>products</th>\n",
       "      <th></th>\n",
       "      <th></th>\n",
       "      <th></th>\n",
       "      <th></th>\n",
       "      <th></th>\n",
       "      <th></th>\n",
       "      <th></th>\n",
       "      <th></th>\n",
       "      <th></th>\n",
       "    </tr>\n",
       "  </thead>\n",
       "  <tbody>\n",
       "    <tr>\n",
       "      <th>1</th>\n",
       "      <td>172,048.62</td>\n",
       "      <td>854.34</td>\n",
       "      <td>42.20</td>\n",
       "      <td>1.33</td>\n",
       "      <td>611,243.03</td>\n",
       "      <td>0.86</td>\n",
       "      <td>0.53</td>\n",
       "      <td>180,616.23</td>\n",
       "      <td>0.07</td>\n",
       "    </tr>\n",
       "    <tr>\n",
       "      <th>2</th>\n",
       "      <td>171,416.61</td>\n",
       "      <td>844.60</td>\n",
       "      <td>42.75</td>\n",
       "      <td>3.15</td>\n",
       "      <td>813,073.72</td>\n",
       "      <td>0.63</td>\n",
       "      <td>0.52</td>\n",
       "      <td>130,534.96</td>\n",
       "      <td>0.19</td>\n",
       "    </tr>\n",
       "    <tr>\n",
       "      <th>3</th>\n",
       "      <td>172,853.77</td>\n",
       "      <td>837.24</td>\n",
       "      <td>45.74</td>\n",
       "      <td>3.53</td>\n",
       "      <td>997,180.63</td>\n",
       "      <td>0.35</td>\n",
       "      <td>0.42</td>\n",
       "      <td>128,907.95</td>\n",
       "      <td>0.29</td>\n",
       "    </tr>\n",
       "    <tr>\n",
       "      <th>4</th>\n",
       "      <td>170,869.86</td>\n",
       "      <td>878.27</td>\n",
       "      <td>39.78</td>\n",
       "      <td>4.15</td>\n",
       "      <td>1,267,820.57</td>\n",
       "      <td>0.68</td>\n",
       "      <td>0.79</td>\n",
       "      <td>148,788.95</td>\n",
       "      <td>0.63</td>\n",
       "    </tr>\n",
       "    <tr>\n",
       "      <th>5</th>\n",
       "      <td>163,015.58</td>\n",
       "      <td>859.26</td>\n",
       "      <td>36.47</td>\n",
       "      <td>3.68</td>\n",
       "      <td>610,986.63</td>\n",
       "      <td>1.00</td>\n",
       "      <td>0.89</td>\n",
       "      <td>116,652.05</td>\n",
       "      <td>0.42</td>\n",
       "    </tr>\n",
       "  </tbody>\n",
       "</table>\n",
       "</div>"
      ],
      "text/plain": [
       "             userid  score   age  equity      balance  credit_card  \\\n",
       "products                                                             \n",
       "1        172,048.62 854.34 42.20    1.33   611,243.03         0.86   \n",
       "2        171,416.61 844.60 42.75    3.15   813,073.72         0.63   \n",
       "3        172,853.77 837.24 45.74    3.53   997,180.63         0.35   \n",
       "4        170,869.86 878.27 39.78    4.15 1,267,820.57         0.68   \n",
       "5        163,015.58 859.26 36.47    3.68   610,986.63         1.00   \n",
       "\n",
       "          last_activity  est_salary  churn  \n",
       "products                                    \n",
       "1                  0.53  180,616.23   0.07  \n",
       "2                  0.52  130,534.96   0.19  \n",
       "3                  0.42  128,907.95   0.29  \n",
       "4                  0.79  148,788.95   0.63  \n",
       "5                  0.89  116,652.05   0.42  "
      ]
     },
     "execution_count": 25,
     "metadata": {},
     "output_type": "execute_result"
    }
   ],
   "source": [
    "data_product = data.groupby('products').agg('mean')\n",
    "data_product"
   ]
  },
  {
   "cell_type": "markdown",
   "id": "2d151f8c",
   "metadata": {},
   "source": [
    "Из таблицы можно сделать вывод,что большой отток происходит у клиентов с 4мя и 5ю продуктами"
   ]
  },
  {
   "cell_type": "markdown",
   "id": "c49d006a",
   "metadata": {},
   "source": [
    "После группировки пользователей по количеству потребляемых продуктов перейдем к сравнению параметров каждой группы методом boxplot().\n",
    "\n"
   ]
  },
  {
   "cell_type": "code",
   "execution_count": 26,
   "id": "3129e9fd",
   "metadata": {
    "scrolled": false
   },
   "outputs": [
    {
     "data": {
      "image/png": "[encoded data removed]",
      "text/plain": [
       "<Figure size 1080x720 with 1 Axes>"
      ]
     },
     "metadata": {
      "needs_background": "light"
     },
     "output_type": "display_data"
    }
   ],
   "source": [
    "plt.figure(figsize=(15,10))\n",
    "sns.boxplot(x='products', y = 'score', data = data)\n",
    "ax = plt.gca()\n",
    "ax.set_xlabel('Количесвто продуктов')\n",
    "ax.set_ylabel('Баллы кредитного рейтинга')\n",
    "ax.set_title('Баллы кредитного скоринга по количеству потребляемых продуктов');"
   ]
  },
  {
   "cell_type": "markdown",
   "id": "687a44d3",
   "metadata": {},
   "source": [
    "**Вывод:** количество продуктов, не влияют на баллы кредитного скоринга клиента."
   ]
  },
  {
   "cell_type": "code",
   "execution_count": 27,
   "id": "f59d8f04",
   "metadata": {
    "scrolled": false
   },
   "outputs": [
    {
     "data": {
      "image/png": "[encoded data removed]",
      "text/plain": [
       "<Figure size 1080x720 with 1 Axes>"
      ]
     },
     "metadata": {
      "needs_background": "light"
     },
     "output_type": "display_data"
    }
   ],
   "source": [
    "plt.figure(figsize=(15,10))\n",
    "sns.boxplot(x='products', y = 'age', data = data)\n",
    "ax = plt.gca()\n",
    "ax.set_xlabel('Количесвто продуктов')\n",
    "ax.set_ylabel('Возраст')\n",
    "ax.set_title('Возраст по количеству потребляемых продуктов');"
   ]
  },
  {
   "cell_type": "markdown",
   "id": "bca42fe1",
   "metadata": {},
   "source": [
    "**Вывод:** возрастные клиенты обычно пользуются 3 продуктами банка. Однако мы видим выбросы , и с использованием одного продукта и 2 продуктов банка"
   ]
  },
  {
   "cell_type": "code",
   "execution_count": 28,
   "id": "f7e095f9",
   "metadata": {},
   "outputs": [
    {
     "data": {
      "image/png": "[encoded data removed]",
      "text/plain": [
       "<Figure size 1080x720 with 1 Axes>"
      ]
     },
     "metadata": {
      "needs_background": "light"
     },
     "output_type": "display_data"
    }
   ],
   "source": [
    "plt.figure(figsize=(15,10))\n",
    "sns.boxplot(x='products', y = 'equity', data = data)\n",
    "ax = plt.gca()\n",
    "ax.set_xlabel('Количесвто продуктов')\n",
    "ax.set_ylabel('Оценка собственности клиента')\n",
    "ax.set_title('Оценка собственности клиента по количеству потребляемых продуктов');"
   ]
  },
  {
   "cell_type": "markdown",
   "id": "02c8262c",
   "metadata": {},
   "source": [
    "**Вывод:** из графика видно, влияиние оценки собственности на количество продуктов. Клиенты , с оценкой от 0 до 3 , чаще всего пользуются одним продуктом. "
   ]
  },
  {
   "cell_type": "code",
   "execution_count": 29,
   "id": "b48619d9",
   "metadata": {},
   "outputs": [
    {
     "data": {
      "image/png": "[encoded data removed]",
      "text/plain": [
       "<Figure size 1080x720 with 1 Axes>"
      ]
     },
     "metadata": {
      "needs_background": "light"
     },
     "output_type": "display_data"
    }
   ],
   "source": [
    "plt.figure(figsize=(15,10))\n",
    "sns.boxplot(x='products', y = 'balance', data = data)\n",
    "ax = plt.gca()\n",
    "ax.set_xlabel('Количесвто продуктов')\n",
    "ax.set_ylabel('Баланс клиента')\n",
    "ax.set_title('Баланс клиента по количеству потребляемых продуктов')\n",
    "ax.set(ylim=(0, 3200000));"
   ]
  },
  {
   "cell_type": "markdown",
   "id": "72bbb6ef",
   "metadata": {},
   "source": [
    "**Вывод:** видно, чем больше баланс клиента, тем больше продуктов банка он использует. Но клиенты , которые используют 5 продуктов являются исключением, так как их небольшое количество в исследовании."
   ]
  },
  {
   "cell_type": "code",
   "execution_count": 30,
   "id": "30a6a18f",
   "metadata": {},
   "outputs": [
    {
     "data": {
      "image/png": "[encoded data removed]",
      "text/plain": [
       "<Figure size 1080x720 with 1 Axes>"
      ]
     },
     "metadata": {
      "needs_background": "light"
     },
     "output_type": "display_data"
    }
   ],
   "source": [
    "plt.figure(figsize=(15,10))\n",
    "sns.boxplot(x='products', y = 'est_salary', data = data)\n",
    "ax = plt.gca()\n",
    "ax.set_xlabel('Количесвто продуктов')\n",
    "ax.set_ylabel('Зарплата клиента')\n",
    "ax.set_title('Зарплата клиента по количеству потребляемых продуктов');"
   ]
  },
  {
   "cell_type": "markdown",
   "id": "01fb81c4",
   "metadata": {},
   "source": [
    "**Вывод:** видим, что зарплата не влияет на количество продуктов , которые использует клиент"
   ]
  },
  {
   "cell_type": "markdown",
   "id": "27005840",
   "metadata": {},
   "source": [
    "Далее посмотрим, на логические параметры. Для сравнения будем использовать столбчатые диаграммы."
   ]
  },
  {
   "cell_type": "code",
   "execution_count": 31,
   "id": "28a3fee2",
   "metadata": {
    "scrolled": false
   },
   "outputs": [
    {
     "data": {
      "image/png": "[encoded data removed]",
      "text/plain": [
       "<Figure size 864x504 with 1 Axes>"
      ]
     },
     "metadata": {
      "needs_background": "light"
     },
     "output_type": "display_data"
    },
    {
     "data": {
      "image/png": "[encoded data removed]",
      "text/plain": [
       "<Figure size 864x504 with 1 Axes>"
      ]
     },
     "metadata": {
      "needs_background": "light"
     },
     "output_type": "display_data"
    },
    {
     "data": {
      "image/png": "[encoded data removed]",
      "text/plain": [
       "<Figure size 864x504 with 1 Axes>"
      ]
     },
     "metadata": {
      "needs_background": "light"
     },
     "output_type": "display_data"
    },
    {
     "data": {
      "image/png": "[encoded data removed]",
      "text/plain": [
       "<Figure size 864x504 with 1 Axes>"
      ]
     },
     "metadata": {
      "needs_background": "light"
     },
     "output_type": "display_data"
    },
    {
     "data": {
      "image/png": "[encoded data removed]",
      "text/plain": [
       "<Figure size 864x504 with 1 Axes>"
      ]
     },
     "metadata": {
      "needs_background": "light"
     },
     "output_type": "display_data"
    }
   ],
   "source": [
    "parametrs_rus = ['по городам', \\\n",
    "                  'в зависимости от пола', \\\n",
    "                  'в зависимости от наличия кредитной карты', \\\n",
    "                  'в зависимости от активности', \\\n",
    "                  'в зависимости от того, ушёл клиент или нет']\n",
    "parametrs = ['city', 'gender', 'credit_card', 'last_activity', 'churn']\n",
    "for i in range(len(parametrs)):\n",
    "    data1 = data.pivot_table(index=parametrs[i], columns='products', values='userid', aggfunc='count')\n",
    "    data1['sum'] = data1.sum(axis=1)\n",
    "    for j in range(1, 6):\n",
    "        data1[j] = data1[j] / data1['sum']\n",
    "    data1.iloc[:, 0:5].plot(kind='bar', figsize=(12, 7), grid=True, \n",
    "                          title='Сравнение числа клиентов и потребляемых ими продуктов ' + parametrs[i])\n",
    "    ax = plt.gca()\n",
    "    ax.set_xticklabels(ax.get_xticklabels(), rotation=0)\n",
    "    plt.show()"
   ]
  },
  {
   "cell_type": "markdown",
   "id": "01da9ab4",
   "metadata": {},
   "source": [
    "**Вывод:** как видно из столбчатой диаграммы ,в каждом городе клиентов с 2мя банковскими продуктами больше, чем остальных. Затем идут клиенты с одним продуктом.Видим ,больше женщин , которые пользуются двумя продуктами больше , чем мужчин. Также больше женщин , которые пользуются тремя продуктами. Однако мужчин пбольше, которые пользуются одним продуктом.Клиенты, которые используют кредитную карту, чаще всего пользуются двумя продуктами банка. Так же видим, много клиентов, которые пользуются только кредитной картой. По графикам видно, что число клиентов и потребляемые ими продукты не зависят от активности клиентов. Из тех клиентов, которые уходят, больше тех, кто пользуется двумя продуктами. Клиентов с идни, тремя и четырьмя продуктами примерно по ровну. Среди тех кто остлался , больше клиентов , которые пользуются дувмя продуктами, потом идут клиенты с одним продуктом, далее с 3мя продуктами, затем с 4мя продуктами и 5ю."
   ]
  },
  {
   "cell_type": "markdown",
   "id": "225f5a36",
   "metadata": {},
   "source": [
    "**Клиенты с одним продуктом:** \n",
    "- средний возраст 42 года,но высокий процент пенсионеров\n",
    "- средняя сумма на балансе 611006, высокая волатильность\n",
    "- средняя вероятность ухода, но 70% от общего числа ушедших клиентов\n",
    "- чаще всего есть кредитная карта \n",
    "- средняя активность\n",
    "- заработная плата около 180000\n",
    "- среднее число баллов кредитного скоринга, но часто ниже."
   ]
  },
  {
   "cell_type": "markdown",
   "id": "eb687561",
   "metadata": {},
   "source": [
    "**Клиенты с двумя продуктами:**\n",
    "- средний возраст 42, но высокий процент пенсионеров\n",
    "- средняя сумма на балансе 812000, высокая волатильность\n",
    "- наименьшая вероятность ухода\n",
    "- чаще всего есть кредитная карта\n",
    "- активность выше среднего\n",
    "- заработная плата средняя\n",
    "- среднее число баллов кредитного скоринга."
   ]
  },
  {
   "cell_type": "markdown",
   "id": "76dfa417",
   "metadata": {},
   "source": [
    "**Клиенты с тремя продуктами:** \n",
    "- средний возраст 45, процент пенсионеров ниже среднего\n",
    "- средняя сумма на балансе 993, волатильность ниже среднего\n",
    "- 30% клиентов ушли\n",
    "- кредитной карты скорее нет\n",
    "- активность ниже среднего \n",
    "- заработная плата выше среднего\n",
    "- среднее число баллов кредитного скоринга."
   ]
  },
  {
   "cell_type": "markdown",
   "id": "fae8f4e4",
   "metadata": {},
   "source": [
    "**Клиенты с четырьмя продуктами:**\n",
    "- Средний возраст 39, процент пенсионеров низкий\n",
    "- средняя сумма на балансе 1267820 — выше, чем у остальных групп, волатильность низкая\n",
    "- 63% клиентов ушли \n",
    "- чаще всего есть кредитная карта\n",
    "- активность выше среднего\n",
    "- заработная плата выше среднего\n",
    "- среднее число баллов кредитного скоринга."
   ]
  },
  {
   "cell_type": "markdown",
   "id": "fae24330",
   "metadata": {},
   "source": [
    "**Клиенты с пятью продуктами:**\n",
    "- средний возраст 36, процент пенсионеров низкий\n",
    "- средняя сумма на балансе 610986\n",
    "- 42% клиентов ушли\n",
    "- у всех клиентов есть кредитная карта\n",
    "- активность выше среднего\n",
    "- среднее число баллов кредитного скоринга."
   ]
  },
  {
   "cell_type": "markdown",
   "id": "a0e019d9",
   "metadata": {},
   "source": [
    "**Проверка гипотез**"
   ]
  },
  {
   "cell_type": "markdown",
   "id": "6ce6ee47",
   "metadata": {},
   "source": [
    "Гипотеза 1"
   ]
  },
  {
   "cell_type": "markdown",
   "id": "2c38584f",
   "metadata": {},
   "source": [
    "В ходе исследования нам необходимо проверить гипотезу о том , что **возраст клиентов, которые пользуются двумя продуктами банка, равен возрасту клиентов, которые пользуются одним.**"
   ]
  },
  {
   "cell_type": "markdown",
   "id": "70ed39ee",
   "metadata": {},
   "source": [
    "Воспользуемся критерием Манна-Уитни,поскольку он не требует нормального распределения выборок."
   ]
  },
  {
   "cell_type": "markdown",
   "id": "84759431",
   "metadata": {},
   "source": [
    "Обозначим основную и альтернативную гипотезу."
   ]
  },
  {
   "cell_type": "markdown",
   "id": "3ab8fef7",
   "metadata": {},
   "source": [
    "**H_0:** возраст клиентов, которые пользуются двумя продуктами банка, равен возрасту клиентов, которые пользуются одним."
   ]
  },
  {
   "cell_type": "markdown",
   "id": "3c9df83a",
   "metadata": {},
   "source": [
    "**H_1:** возраст клиентов, которые пользуются двумя продуктами банка, не равен возрасту клиентов, которые пользуются одним."
   ]
  },
  {
   "cell_type": "markdown",
   "id": "5380e5ca",
   "metadata": {},
   "source": [
    "Уровень значимости зададим 0,05"
   ]
  },
  {
   "cell_type": "markdown",
   "id": "3fcd37d0",
   "metadata": {},
   "source": [
    "Если p-value будет меньше выбранного уровня значимости , то нулевую гипотезу о равенстве средних отвергнем. В противном случае делаем вывод, что данные не позволили нам отвергнуть нулевую гипотезу."
   ]
  },
  {
   "cell_type": "code",
   "execution_count": 32,
   "id": "b1067eda",
   "metadata": {},
   "outputs": [
    {
     "name": "stdout",
     "output_type": "stream",
     "text": [
      "p-значение:  0.072\n",
      "Не получилось отвергнуть нулевую гипотезу\n"
     ]
    }
   ],
   "source": [
    "data1 = data[data['products'] < 2]['age']\n",
    "data2 = data[data['products'] == 2]['age']\n",
    "\n",
    "alpha = .05 # критический уровень статистической значимости\n",
    "\n",
    "results = st.mannwhitneyu(data2,data1)\n",
    "print('p-значение: ', \"{0:.3f}\".format(results.pvalue))\n",
    "\n",
    "if (results.pvalue < alpha):\n",
    "    print(\"Отвергаем нулевую гипотезу\")\n",
    "else:\n",
    "    print(\"Не получилось отвергнуть нулевую гипотезу\")"
   ]
  },
  {
   "cell_type": "markdown",
   "id": "a614f9fb",
   "metadata": {},
   "source": [
    "Мы не отвергаем гипотезу о том, что средний возраст клиентов, которые пользуются двумя продуктами банка, равен среднему возрасту клиентов, которые пользуются одним."
   ]
  },
  {
   "cell_type": "markdown",
   "id": "01eda2b2",
   "metadata": {},
   "source": [
    "**Гипотеза 2**"
   ]
  },
  {
   "cell_type": "markdown",
   "id": "52b49030",
   "metadata": {},
   "source": [
    "Также в ходе исследования необходимо проверить вторую гипотезу о том, что **доход клиентов, которые пользуются двумя продуктами банка, равен доходу клиентов, которые пользуются одним.**"
   ]
  },
  {
   "cell_type": "markdown",
   "id": "5bd602b6",
   "metadata": {},
   "source": [
    "Обозначим основную и альтернативную гипотезу."
   ]
  },
  {
   "cell_type": "markdown",
   "id": "571d907e",
   "metadata": {},
   "source": [
    "H_0 : Доход клиентов, которые\n",
    "пользуются двумя продуктами банка, равен доходу клиентов, которые пользуются одним."
   ]
  },
  {
   "cell_type": "markdown",
   "id": "be6b32bd",
   "metadata": {},
   "source": [
    "H_1 :  доход клиентов, которые\n",
    "пользуются двумя продуктами банка, равен  доходу клиентов, которые пользуются одним."
   ]
  },
  {
   "cell_type": "markdown",
   "id": "226dcf1c",
   "metadata": {},
   "source": [
    "Воспользуемся критерием Манна-Уитни,поскольку он не требует нормального распределения выборок."
   ]
  },
  {
   "cell_type": "markdown",
   "id": "e3e98aad",
   "metadata": {},
   "source": [
    "Уровень значимости зададим 0,05\n"
   ]
  },
  {
   "cell_type": "code",
   "execution_count": 33,
   "id": "13b259f1",
   "metadata": {},
   "outputs": [
    {
     "name": "stdout",
     "output_type": "stream",
     "text": [
      "p-значение:  8.20292999918016e-77\n",
      "Отвергаем нулевую гипотезу\n"
     ]
    }
   ],
   "source": [
    "data1 = data[data['products'] < 2]['est_salary']\n",
    "data2 = data[data['products'] == 2]['est_salary']\n",
    "alpha = 0.01   # критический уровень статистической значимости    \n",
    "results = st.mannwhitneyu(data1,data2)\n",
    "\n",
    "print('p-значение: ', results.pvalue)    # тест двухсторонний\n",
    "\n",
    "if results.pvalue < alpha:\n",
    "    print(\"Отвергаем нулевую гипотезу\")\n",
    "else:\n",
    "    print(\"Не получилось отвергнуть нулевую гипотезу\")"
   ]
  },
  {
   "cell_type": "markdown",
   "id": "9048ecff",
   "metadata": {},
   "source": [
    "Мы отвергаем гипотезу о том, что доход клиентов, которые пользуются двумя продуктами банка, равен доходу клиентов, которые пользуются одним."
   ]
  },
  {
   "cell_type": "markdown",
   "id": "812f3e93",
   "metadata": {},
   "source": [
    "Главное отличие u-критерия Манна-Уитни от t-критерия Стьюдента в том, что он работает с рангами, — номерами значений в упорядоченном ряду, — никак не учитывая сами значения. Поэтому им пользуются тогда, когда работа с самими значениями невозможна из-за выбросов, сильно сдвигающих результаты."
   ]
  },
  {
   "cell_type": "markdown",
   "id": "77dd3553",
   "metadata": {},
   "source": [
    "**ВЫВОДЫ И РЕКОМЕНДАЦИИ**"
   ]
  },
  {
   "cell_type": "markdown",
   "id": "8d541334",
   "metadata": {},
   "source": [
    "В ходе исследования был проанализирован датасет клиентов банка \"Метанпром\", обслуживающихся в отделениях Ярославля, Ростове и Рыбинске.\n",
    "\n",
    "Клиенты банка могут использовать от одного до пяти банковских продуктов. По набору полей (скоринг, ЗП, наличие недвижимости в собственности) можно предположить, что речь идет о кредитных продуктах банка (ипотека, потребительский кредит, автокредит, покупка товаров в рассрочку и т.д.)."
   ]
  },
  {
   "cell_type": "markdown",
   "id": "cbbe95c4",
   "metadata": {},
   "source": [
    "Распределили клиентов на несколько групп\n",
    "\n",
    "**Клиенты с одним продуктом:** средний возраст 42 года,но высокий процент пенсионеров ,средняя сумма на балансе 611 006, высокая волатильность, средняя вероятность ухода, но 70% от общего числа ушедших клиентов, чаще всего есть кредитная карта, средняя активность , заработная плата около 180 000 , среднее число баллов кредитного скоринга, но часто ниже.\n",
    "**Клиенты с двумя продуктами:** средний возраст 42, но высокий процент пенсионеров, средняя сумма на балансе 812 000, высокая, волатильность, наименьшая вероятность ухода, чаще всего есть кредитная карта, активность выше среднего, заработная плата средняя\n",
    ", среднее число баллов кредитного скоринга\n",
    "**Клиенты с тремя продуктами:** средний возраст 45, процент пенсионеров ниже среднего, средняя сумма на балансе 993 000, волатильность ниже среднего, 30% клиентов ушли, кредитной карты скорее нет, активность ниже среднего, заработная плата выше среднего, среднее число баллов кредитного скоринга.\n",
    "**Клиенты с четырьмя продуктами:** средний возраст 39, процент пенсионеров низкий, средняя сумма на балансе 1 267 820 — выше, чем у остальных групп, волатильность низкая, 63% клиентов ушли, чаще всего есть кредитная карта, активность выше среднего, заработная плата выше среднего, среднее число баллов кредитного скоринга.\n",
    "**Клиенты с пятью продуктами:** средний возраст 36, процент пенсионеров низкий, средняя сумма на балансе 610 986, 42% клиентов ушли, у всех клиентов есть кредитная карта, активность выше среднего, среднее число баллов кредитного скоринга."
   ]
  },
  {
   "cell_type": "markdown",
   "id": "106e2e0c",
   "metadata": {},
   "source": [
    "Далее проверили две гипотезы:"
   ]
  },
  {
   "cell_type": "markdown",
   "id": "37c7ca0a",
   "metadata": {},
   "source": [
    "- возраст клиентов, которые пользуются двумя продуктами банка, равен возрасту клиентов, которые пользуются одним."
   ]
  },
  {
   "cell_type": "markdown",
   "id": "eeffba09",
   "metadata": {},
   "source": [
    "- доход клиентов, которые пользуются двумя продуктами банка, равен доходу клиентов, которые пользуются одним."
   ]
  },
  {
   "cell_type": "markdown",
   "id": "dc7a485d",
   "metadata": {},
   "source": [
    "Первую гипотезу отвергнуть не получилсоь,вторую гипотезу отвергли."
   ]
  },
  {
   "cell_type": "markdown",
   "id": "607ef43d",
   "metadata": {},
   "source": [
    "Клиентам с одним продуктом, необходимо сделать лояльные условия пользования кредитной картой"
   ]
  },
  {
   "cell_type": "markdown",
   "id": "738f1934",
   "metadata": {},
   "source": [
    "Для клиентов, пользующиеся двумя продуктами, можно создать программы для привлечения молодежи, для того чтобы омолодить сегмент.Как пример льготный кредит молодым семьям. "
   ]
  },
  {
   "cell_type": "markdown",
   "id": "edf48ee9",
   "metadata": {},
   "source": [
    "На отток также влияет активность клиентов. Стоит пользоваться программами лояльности, например, предлагать повышенный кэшбек в некоторых категориях, снижение комиссий за перевод по определённым дням.Нужно получить обратную связь от клиентов, расторгнувших договор. Может будут негативыне отзывы не на продукты, а на персонал. "
   ]
  },
  {
   "cell_type": "markdown",
   "id": "6ec602b6",
   "metadata": {},
   "source": [
    "Для клиентов, имеющих 3-4 продукта необходимо провести консолидацию долга с некоторым снижением процентной ставки (консолидация кредитов – это комплекс банковских мероприятий по объединению нескольких кредитов и займов в один). Это поможет удержать клиентов, т.к. снизят нагрузку на плательщика. В противном случае клиенты уйдут в первую же кредитную организацию, которая сделает им такое предложение."
   ]
  }
 ],
 "metadata": {
  "ExecuteTimeLog": [
   {
    "duration": 1311,
    "start_time": "2023-07-03T08:29:14.987Z"
   },
   {
    "duration": 5,
    "start_time": "2023-07-03T08:29:16.300Z"
   },
   {
    "duration": 211,
    "start_time": "2023-07-03T08:29:16.306Z"
   },
   {
    "duration": 32,
    "start_time": "2023-07-03T08:29:16.520Z"
   },
   {
    "duration": 3,
    "start_time": "2023-07-03T08:29:16.554Z"
   },
   {
    "duration": 30,
    "start_time": "2023-07-03T08:29:16.560Z"
   },
   {
    "duration": 5,
    "start_time": "2023-07-03T08:29:16.592Z"
   },
   {
    "duration": 27,
    "start_time": "2023-07-03T08:29:16.599Z"
   },
   {
    "duration": 120,
    "start_time": "2023-07-03T08:29:16.628Z"
   },
   {
    "duration": 0,
    "start_time": "2023-07-03T08:29:16.751Z"
   },
   {
    "duration": 0,
    "start_time": "2023-07-03T08:29:16.752Z"
   },
   {
    "duration": 0,
    "start_time": "2023-07-03T08:29:16.753Z"
   },
   {
    "duration": 0,
    "start_time": "2023-07-03T08:29:16.760Z"
   },
   {
    "duration": 0,
    "start_time": "2023-07-03T08:29:16.761Z"
   },
   {
    "duration": 0,
    "start_time": "2023-07-03T08:29:16.762Z"
   },
   {
    "duration": 0,
    "start_time": "2023-07-03T08:29:16.763Z"
   },
   {
    "duration": 0,
    "start_time": "2023-07-03T08:29:16.766Z"
   },
   {
    "duration": 0,
    "start_time": "2023-07-03T08:29:16.767Z"
   },
   {
    "duration": 0,
    "start_time": "2023-07-03T08:29:16.767Z"
   },
   {
    "duration": 0,
    "start_time": "2023-07-03T08:29:16.775Z"
   },
   {
    "duration": 0,
    "start_time": "2023-07-03T08:29:16.776Z"
   },
   {
    "duration": 0,
    "start_time": "2023-07-03T08:29:16.776Z"
   },
   {
    "duration": 0,
    "start_time": "2023-07-03T08:29:16.783Z"
   },
   {
    "duration": 0,
    "start_time": "2023-07-03T08:29:16.787Z"
   },
   {
    "duration": 0,
    "start_time": "2023-07-03T08:29:16.789Z"
   },
   {
    "duration": 0,
    "start_time": "2023-07-03T08:29:16.789Z"
   },
   {
    "duration": 0,
    "start_time": "2023-07-03T08:29:16.790Z"
   },
   {
    "duration": 0,
    "start_time": "2023-07-03T08:29:16.792Z"
   },
   {
    "duration": 0,
    "start_time": "2023-07-03T08:29:16.793Z"
   },
   {
    "duration": 0,
    "start_time": "2023-07-03T08:29:16.794Z"
   },
   {
    "duration": 0,
    "start_time": "2023-07-03T08:29:16.794Z"
   },
   {
    "duration": 0,
    "start_time": "2023-07-03T08:29:16.795Z"
   },
   {
    "duration": 0,
    "start_time": "2023-07-03T08:29:16.796Z"
   },
   {
    "duration": 0,
    "start_time": "2023-07-03T08:29:16.797Z"
   },
   {
    "duration": 0,
    "start_time": "2023-07-03T08:29:16.798Z"
   },
   {
    "duration": 0,
    "start_time": "2023-07-03T08:29:16.799Z"
   },
   {
    "duration": 0,
    "start_time": "2023-07-03T08:29:16.800Z"
   },
   {
    "duration": 0,
    "start_time": "2023-07-03T08:29:16.801Z"
   },
   {
    "duration": 0,
    "start_time": "2023-07-03T08:29:16.802Z"
   },
   {
    "duration": 0,
    "start_time": "2023-07-03T08:29:16.803Z"
   },
   {
    "duration": 0,
    "start_time": "2023-07-03T08:29:16.805Z"
   },
   {
    "duration": 0,
    "start_time": "2023-07-03T08:29:16.806Z"
   },
   {
    "duration": 0,
    "start_time": "2023-07-03T08:29:16.807Z"
   },
   {
    "duration": 66,
    "start_time": "2023-07-03T13:05:01.555Z"
   },
   {
    "duration": 1494,
    "start_time": "2023-07-03T13:05:06.323Z"
   },
   {
    "duration": 5,
    "start_time": "2023-07-03T13:05:07.819Z"
   },
   {
    "duration": 112,
    "start_time": "2023-07-03T13:05:07.826Z"
   },
   {
    "duration": 34,
    "start_time": "2023-07-03T13:05:07.940Z"
   },
   {
    "duration": 4,
    "start_time": "2023-07-03T13:05:09.735Z"
   },
   {
    "duration": 15,
    "start_time": "2023-07-03T13:05:10.888Z"
   },
   {
    "duration": 5,
    "start_time": "2023-07-03T13:05:13.824Z"
   },
   {
    "duration": 8,
    "start_time": "2023-07-03T13:05:15.697Z"
   },
   {
    "duration": 74,
    "start_time": "2023-07-03T13:05:17.974Z"
   },
   {
    "duration": 17,
    "start_time": "2023-07-03T13:06:49.862Z"
   },
   {
    "duration": 10,
    "start_time": "2023-07-03T13:07:11.391Z"
   },
   {
    "duration": 1298,
    "start_time": "2023-07-03T13:07:20.244Z"
   },
   {
    "duration": 5,
    "start_time": "2023-07-03T13:07:21.545Z"
   },
   {
    "duration": 75,
    "start_time": "2023-07-03T13:07:21.552Z"
   },
   {
    "duration": 27,
    "start_time": "2023-07-03T13:07:21.629Z"
   },
   {
    "duration": 3,
    "start_time": "2023-07-03T13:07:21.658Z"
   },
   {
    "duration": 22,
    "start_time": "2023-07-03T13:07:21.663Z"
   },
   {
    "duration": 5,
    "start_time": "2023-07-03T13:07:21.687Z"
   },
   {
    "duration": 24,
    "start_time": "2023-07-03T13:07:21.694Z"
   },
   {
    "duration": 10,
    "start_time": "2023-07-03T13:07:21.720Z"
   },
   {
    "duration": 44,
    "start_time": "2023-07-03T13:07:21.734Z"
   },
   {
    "duration": 14,
    "start_time": "2023-07-03T13:07:21.781Z"
   },
   {
    "duration": 1418,
    "start_time": "2023-07-03T13:07:21.797Z"
   },
   {
    "duration": 148,
    "start_time": "2023-07-03T13:07:23.217Z"
   },
   {
    "duration": 148,
    "start_time": "2023-07-03T13:07:23.367Z"
   },
   {
    "duration": 155,
    "start_time": "2023-07-03T13:07:23.516Z"
   },
   {
    "duration": 9,
    "start_time": "2023-07-03T13:07:23.673Z"
   },
   {
    "duration": 40,
    "start_time": "2023-07-03T13:07:23.684Z"
   },
   {
    "duration": 21,
    "start_time": "2023-07-03T13:07:23.726Z"
   },
   {
    "duration": 88,
    "start_time": "2023-07-03T13:07:23.749Z"
   },
   {
    "duration": 194,
    "start_time": "2023-07-03T13:07:23.838Z"
   },
   {
    "duration": 82,
    "start_time": "2023-07-03T13:07:24.034Z"
   },
   {
    "duration": 125,
    "start_time": "2023-07-03T13:07:24.118Z"
   },
   {
    "duration": 946,
    "start_time": "2023-07-03T13:07:24.245Z"
   },
   {
    "duration": 14,
    "start_time": "2023-07-03T13:07:25.193Z"
   },
   {
    "duration": 20,
    "start_time": "2023-07-03T13:07:25.209Z"
   },
   {
    "duration": 1547,
    "start_time": "2023-07-03T13:07:25.232Z"
   },
   {
    "duration": 256,
    "start_time": "2023-07-03T13:07:26.781Z"
   },
   {
    "duration": 23,
    "start_time": "2023-07-03T13:07:27.041Z"
   },
   {
    "duration": 243,
    "start_time": "2023-07-03T13:07:27.066Z"
   },
   {
    "duration": 287,
    "start_time": "2023-07-03T13:07:27.310Z"
   },
   {
    "duration": 359,
    "start_time": "2023-07-03T13:07:27.599Z"
   },
   {
    "duration": 250,
    "start_time": "2023-07-03T13:07:27.961Z"
   },
   {
    "duration": 252,
    "start_time": "2023-07-03T13:07:28.213Z"
   },
   {
    "duration": 226,
    "start_time": "2023-07-03T13:07:28.467Z"
   },
   {
    "duration": 210,
    "start_time": "2023-07-03T13:07:28.695Z"
   },
   {
    "duration": 228,
    "start_time": "2023-07-03T13:07:28.907Z"
   },
   {
    "duration": 216,
    "start_time": "2023-07-03T13:07:29.138Z"
   },
   {
    "duration": 279,
    "start_time": "2023-07-03T13:07:29.355Z"
   },
   {
    "duration": 450,
    "start_time": "2023-07-03T13:07:29.636Z"
   },
   {
    "duration": 12,
    "start_time": "2023-07-03T13:07:30.089Z"
   },
   {
    "duration": 23,
    "start_time": "2023-07-03T13:07:30.103Z"
   },
   {
    "duration": 478,
    "start_time": "2023-07-03T13:07:30.129Z"
   },
   {
    "duration": 10,
    "start_time": "2023-07-03T13:07:30.609Z"
   },
   {
    "duration": 7,
    "start_time": "2023-07-03T13:10:36.006Z"
   },
   {
    "duration": 7,
    "start_time": "2023-07-03T13:10:50.681Z"
   },
   {
    "duration": 5,
    "start_time": "2023-07-03T13:10:53.710Z"
   },
   {
    "duration": 11,
    "start_time": "2023-07-03T13:10:54.547Z"
   },
   {
    "duration": 5,
    "start_time": "2023-07-03T13:10:55.741Z"
   },
   {
    "duration": 23,
    "start_time": "2023-07-03T13:11:49.606Z"
   },
   {
    "duration": 4,
    "start_time": "2023-07-03T13:11:51.607Z"
   },
   {
    "duration": 29,
    "start_time": "2023-07-03T13:11:56.568Z"
   },
   {
    "duration": 6,
    "start_time": "2023-07-03T13:11:58.436Z"
   },
   {
    "duration": 1400,
    "start_time": "2023-07-03T13:12:08.250Z"
   },
   {
    "duration": 10,
    "start_time": "2023-07-03T13:12:09.652Z"
   },
   {
    "duration": 80,
    "start_time": "2023-07-03T13:12:09.664Z"
   },
   {
    "duration": 32,
    "start_time": "2023-07-03T13:12:09.746Z"
   },
   {
    "duration": 4,
    "start_time": "2023-07-03T13:12:09.780Z"
   },
   {
    "duration": 15,
    "start_time": "2023-07-03T13:12:09.786Z"
   },
   {
    "duration": 5,
    "start_time": "2023-07-03T13:12:09.803Z"
   },
   {
    "duration": 46,
    "start_time": "2023-07-03T13:12:09.810Z"
   },
   {
    "duration": 6,
    "start_time": "2023-07-03T13:12:09.859Z"
   },
   {
    "duration": 17,
    "start_time": "2023-07-03T13:12:09.868Z"
   },
   {
    "duration": 13,
    "start_time": "2023-07-03T13:12:09.887Z"
   },
   {
    "duration": 34,
    "start_time": "2023-07-03T13:12:09.902Z"
   },
   {
    "duration": 13,
    "start_time": "2023-07-03T13:12:09.938Z"
   },
   {
    "duration": 1635,
    "start_time": "2023-07-03T13:12:09.959Z"
   },
   {
    "duration": 152,
    "start_time": "2023-07-03T13:12:11.596Z"
   },
   {
    "duration": 164,
    "start_time": "2023-07-03T13:12:11.750Z"
   },
   {
    "duration": 165,
    "start_time": "2023-07-03T13:12:11.917Z"
   },
   {
    "duration": 8,
    "start_time": "2023-07-03T13:12:12.084Z"
   },
   {
    "duration": 13,
    "start_time": "2023-07-03T13:12:12.094Z"
   },
   {
    "duration": 5,
    "start_time": "2023-07-03T13:12:12.109Z"
   },
   {
    "duration": 115,
    "start_time": "2023-07-03T13:12:12.116Z"
   },
   {
    "duration": 253,
    "start_time": "2023-07-03T13:12:12.233Z"
   },
   {
    "duration": 83,
    "start_time": "2023-07-03T13:12:12.488Z"
   },
   {
    "duration": 128,
    "start_time": "2023-07-03T13:12:12.573Z"
   },
   {
    "duration": 973,
    "start_time": "2023-07-03T13:12:12.703Z"
   },
   {
    "duration": 16,
    "start_time": "2023-07-03T13:12:13.679Z"
   },
   {
    "duration": 11,
    "start_time": "2023-07-03T13:12:13.697Z"
   },
   {
    "duration": 1608,
    "start_time": "2023-07-03T13:12:13.711Z"
   },
   {
    "duration": 266,
    "start_time": "2023-07-03T13:12:15.321Z"
   },
   {
    "duration": 14,
    "start_time": "2023-07-03T13:12:15.590Z"
   },
   {
    "duration": 279,
    "start_time": "2023-07-03T13:12:15.605Z"
   },
   {
    "duration": 241,
    "start_time": "2023-07-03T13:12:15.886Z"
   },
   {
    "duration": 240,
    "start_time": "2023-07-03T13:12:16.128Z"
   },
   {
    "duration": 299,
    "start_time": "2023-07-03T13:12:16.371Z"
   },
   {
    "duration": 295,
    "start_time": "2023-07-03T13:12:16.673Z"
   },
   {
    "duration": 228,
    "start_time": "2023-07-03T13:12:16.973Z"
   },
   {
    "duration": 223,
    "start_time": "2023-07-03T13:12:17.203Z"
   },
   {
    "duration": 274,
    "start_time": "2023-07-03T13:12:17.428Z"
   },
   {
    "duration": 259,
    "start_time": "2023-07-03T13:12:17.705Z"
   },
   {
    "duration": 253,
    "start_time": "2023-07-03T13:12:17.966Z"
   },
   {
    "duration": 483,
    "start_time": "2023-07-03T13:12:18.220Z"
   },
   {
    "duration": 9,
    "start_time": "2023-07-03T13:12:18.705Z"
   },
   {
    "duration": 6,
    "start_time": "2023-07-03T13:12:18.715Z"
   },
   {
    "duration": 476,
    "start_time": "2023-07-03T13:12:18.723Z"
   },
   {
    "duration": 10,
    "start_time": "2023-07-03T13:12:19.201Z"
   },
   {
    "duration": 22,
    "start_time": "2023-07-03T13:15:11.000Z"
   },
   {
    "duration": 7,
    "start_time": "2023-07-03T13:15:12.188Z"
   },
   {
    "duration": 5,
    "start_time": "2023-07-03T13:15:15.976Z"
   },
   {
    "duration": 4,
    "start_time": "2023-07-03T13:16:07.714Z"
   },
   {
    "duration": 7,
    "start_time": "2023-07-03T13:16:07.975Z"
   },
   {
    "duration": 83,
    "start_time": "2023-07-03T13:16:08.420Z"
   },
   {
    "duration": 21,
    "start_time": "2023-07-03T13:16:08.816Z"
   },
   {
    "duration": 4,
    "start_time": "2023-07-03T13:16:10.550Z"
   },
   {
    "duration": 24,
    "start_time": "2023-07-03T13:16:11.056Z"
   },
   {
    "duration": 5,
    "start_time": "2023-07-03T13:16:12.179Z"
   },
   {
    "duration": 21,
    "start_time": "2023-07-03T13:16:12.991Z"
   },
   {
    "duration": 5,
    "start_time": "2023-07-03T13:16:13.734Z"
   },
   {
    "duration": 8,
    "start_time": "2023-07-03T13:16:15.244Z"
   },
   {
    "duration": 6,
    "start_time": "2023-07-03T13:16:16.699Z"
   },
   {
    "duration": 28,
    "start_time": "2023-07-03T13:16:17.937Z"
   },
   {
    "duration": 7,
    "start_time": "2023-07-03T13:16:28.430Z"
   },
   {
    "duration": 26,
    "start_time": "2023-07-03T13:17:57.678Z"
   },
   {
    "duration": 5,
    "start_time": "2023-07-03T13:17:59.802Z"
   },
   {
    "duration": 3,
    "start_time": "2023-07-03T13:18:05.804Z"
   },
   {
    "duration": 4,
    "start_time": "2023-07-03T13:18:06.211Z"
   },
   {
    "duration": 83,
    "start_time": "2023-07-03T13:18:06.735Z"
   },
   {
    "duration": 18,
    "start_time": "2023-07-03T13:18:07.080Z"
   },
   {
    "duration": 11,
    "start_time": "2023-07-03T13:18:07.959Z"
   },
   {
    "duration": 27,
    "start_time": "2023-07-03T13:18:08.550Z"
   },
   {
    "duration": 5,
    "start_time": "2023-07-03T13:18:09.343Z"
   },
   {
    "duration": 24,
    "start_time": "2023-07-03T13:18:10.104Z"
   },
   {
    "duration": 6,
    "start_time": "2023-07-03T13:18:10.679Z"
   },
   {
    "duration": 21,
    "start_time": "2023-07-03T13:30:35.367Z"
   },
   {
    "duration": 5,
    "start_time": "2023-07-03T13:30:39.494Z"
   },
   {
    "duration": 5,
    "start_time": "2023-07-03T13:30:42.023Z"
   },
   {
    "duration": 19,
    "start_time": "2023-07-03T13:30:42.995Z"
   },
   {
    "duration": 5,
    "start_time": "2023-07-03T13:30:43.734Z"
   },
   {
    "duration": 1204,
    "start_time": "2023-07-03T13:30:50.605Z"
   },
   {
    "duration": 4,
    "start_time": "2023-07-03T13:30:51.811Z"
   },
   {
    "duration": 109,
    "start_time": "2023-07-03T13:30:51.816Z"
   },
   {
    "duration": 24,
    "start_time": "2023-07-03T13:30:51.927Z"
   },
   {
    "duration": 13,
    "start_time": "2023-07-03T13:30:51.953Z"
   },
   {
    "duration": 42,
    "start_time": "2023-07-03T13:30:51.969Z"
   },
   {
    "duration": 24,
    "start_time": "2023-07-03T13:30:52.012Z"
   },
   {
    "duration": 44,
    "start_time": "2023-07-03T13:30:52.037Z"
   },
   {
    "duration": 8,
    "start_time": "2023-07-03T13:30:52.083Z"
   },
   {
    "duration": 40,
    "start_time": "2023-07-03T13:30:52.093Z"
   },
   {
    "duration": 28,
    "start_time": "2023-07-03T13:30:52.135Z"
   },
   {
    "duration": 66,
    "start_time": "2023-07-03T13:30:52.165Z"
   },
   {
    "duration": 34,
    "start_time": "2023-07-03T13:30:52.233Z"
   },
   {
    "duration": 1450,
    "start_time": "2023-07-03T13:30:52.271Z"
   },
   {
    "duration": 155,
    "start_time": "2023-07-03T13:30:53.723Z"
   },
   {
    "duration": 160,
    "start_time": "2023-07-03T13:30:53.879Z"
   },
   {
    "duration": 172,
    "start_time": "2023-07-03T13:30:54.040Z"
   },
   {
    "duration": 8,
    "start_time": "2023-07-03T13:30:54.214Z"
   },
   {
    "duration": 75,
    "start_time": "2023-07-03T13:30:54.223Z"
   },
   {
    "duration": 39,
    "start_time": "2023-07-03T13:30:54.300Z"
   },
   {
    "duration": 93,
    "start_time": "2023-07-03T13:30:54.341Z"
   },
   {
    "duration": 212,
    "start_time": "2023-07-03T13:30:54.436Z"
   },
   {
    "duration": 81,
    "start_time": "2023-07-03T13:30:54.653Z"
   },
   {
    "duration": 147,
    "start_time": "2023-07-03T13:30:54.735Z"
   },
   {
    "duration": 914,
    "start_time": "2023-07-03T13:30:54.884Z"
   },
   {
    "duration": 13,
    "start_time": "2023-07-03T13:30:55.800Z"
   },
   {
    "duration": 42,
    "start_time": "2023-07-03T13:30:55.815Z"
   },
   {
    "duration": 1636,
    "start_time": "2023-07-03T13:30:55.859Z"
   },
   {
    "duration": 242,
    "start_time": "2023-07-03T13:30:57.497Z"
   },
   {
    "duration": 36,
    "start_time": "2023-07-03T13:30:57.742Z"
   },
   {
    "duration": 232,
    "start_time": "2023-07-03T13:30:57.780Z"
   },
   {
    "duration": 223,
    "start_time": "2023-07-03T13:30:58.014Z"
   },
   {
    "duration": 235,
    "start_time": "2023-07-03T13:30:58.238Z"
   },
   {
    "duration": 240,
    "start_time": "2023-07-03T13:30:58.475Z"
   },
   {
    "duration": 254,
    "start_time": "2023-07-03T13:30:58.717Z"
   },
   {
    "duration": 232,
    "start_time": "2023-07-03T13:30:58.973Z"
   },
   {
    "duration": 213,
    "start_time": "2023-07-03T13:30:59.207Z"
   },
   {
    "duration": 217,
    "start_time": "2023-07-03T13:30:59.422Z"
   },
   {
    "duration": 228,
    "start_time": "2023-07-03T13:30:59.640Z"
   },
   {
    "duration": 225,
    "start_time": "2023-07-03T13:30:59.870Z"
   },
   {
    "duration": 457,
    "start_time": "2023-07-03T13:31:00.099Z"
   },
   {
    "duration": 10,
    "start_time": "2023-07-03T13:31:00.569Z"
   },
   {
    "duration": 43,
    "start_time": "2023-07-03T13:31:00.581Z"
   },
   {
    "duration": 460,
    "start_time": "2023-07-03T13:31:00.626Z"
   },
   {
    "duration": 9,
    "start_time": "2023-07-03T13:31:01.088Z"
   },
   {
    "duration": 7,
    "start_time": "2023-07-03T13:39:56.475Z"
   },
   {
    "duration": 8,
    "start_time": "2023-07-03T13:39:57.528Z"
   },
   {
    "duration": 1246,
    "start_time": "2023-07-03T13:40:10.202Z"
   },
   {
    "duration": 4,
    "start_time": "2023-07-03T13:40:11.451Z"
   },
   {
    "duration": 74,
    "start_time": "2023-07-03T13:40:11.457Z"
   },
   {
    "duration": 40,
    "start_time": "2023-07-03T13:40:11.534Z"
   },
   {
    "duration": 4,
    "start_time": "2023-07-03T13:40:11.583Z"
   },
   {
    "duration": 20,
    "start_time": "2023-07-03T13:40:11.590Z"
   },
   {
    "duration": 10,
    "start_time": "2023-07-03T13:40:11.612Z"
   },
   {
    "duration": 5,
    "start_time": "2023-07-03T13:40:11.624Z"
   },
   {
    "duration": 5,
    "start_time": "2023-07-03T13:40:11.631Z"
   },
   {
    "duration": 54,
    "start_time": "2023-07-03T13:40:11.639Z"
   },
   {
    "duration": 53,
    "start_time": "2023-07-03T13:40:11.694Z"
   },
   {
    "duration": 41,
    "start_time": "2023-07-03T13:40:11.749Z"
   },
   {
    "duration": 27,
    "start_time": "2023-07-03T13:40:11.792Z"
   },
   {
    "duration": 1448,
    "start_time": "2023-07-03T13:40:11.820Z"
   },
   {
    "duration": 131,
    "start_time": "2023-07-03T13:40:13.270Z"
   },
   {
    "duration": 150,
    "start_time": "2023-07-03T13:40:13.402Z"
   },
   {
    "duration": 149,
    "start_time": "2023-07-03T13:40:13.557Z"
   },
   {
    "duration": 8,
    "start_time": "2023-07-03T13:40:13.707Z"
   },
   {
    "duration": 57,
    "start_time": "2023-07-03T13:40:13.717Z"
   },
   {
    "duration": 19,
    "start_time": "2023-07-03T13:40:13.776Z"
   },
   {
    "duration": 102,
    "start_time": "2023-07-03T13:40:13.796Z"
   },
   {
    "duration": 218,
    "start_time": "2023-07-03T13:40:13.900Z"
   },
   {
    "duration": 84,
    "start_time": "2023-07-03T13:40:14.123Z"
   },
   {
    "duration": 128,
    "start_time": "2023-07-03T13:40:14.209Z"
   },
   {
    "duration": 948,
    "start_time": "2023-07-03T13:40:14.339Z"
   },
   {
    "duration": 14,
    "start_time": "2023-07-03T13:40:15.289Z"
   },
   {
    "duration": 40,
    "start_time": "2023-07-03T13:40:15.305Z"
   },
   {
    "duration": 1611,
    "start_time": "2023-07-03T13:40:15.348Z"
   },
   {
    "duration": 240,
    "start_time": "2023-07-03T13:40:16.966Z"
   },
   {
    "duration": 15,
    "start_time": "2023-07-03T13:40:17.208Z"
   },
   {
    "duration": 322,
    "start_time": "2023-07-03T13:40:17.225Z"
   },
   {
    "duration": 251,
    "start_time": "2023-07-03T13:40:17.554Z"
   },
   {
    "duration": 226,
    "start_time": "2023-07-03T13:40:17.807Z"
   },
   {
    "duration": 257,
    "start_time": "2023-07-03T13:40:18.035Z"
   },
   {
    "duration": 281,
    "start_time": "2023-07-03T13:40:18.294Z"
   },
   {
    "duration": 263,
    "start_time": "2023-07-03T13:40:18.577Z"
   },
   {
    "duration": 226,
    "start_time": "2023-07-03T13:40:18.842Z"
   },
   {
    "duration": 244,
    "start_time": "2023-07-03T13:40:19.072Z"
   },
   {
    "duration": 252,
    "start_time": "2023-07-03T13:40:19.318Z"
   },
   {
    "duration": 263,
    "start_time": "2023-07-03T13:40:19.574Z"
   },
   {
    "duration": 460,
    "start_time": "2023-07-03T13:40:19.839Z"
   },
   {
    "duration": 9,
    "start_time": "2023-07-03T13:40:20.300Z"
   },
   {
    "duration": 36,
    "start_time": "2023-07-03T13:40:20.311Z"
   },
   {
    "duration": 478,
    "start_time": "2023-07-03T13:40:20.349Z"
   },
   {
    "duration": 9,
    "start_time": "2023-07-03T13:40:20.829Z"
   },
   {
    "duration": 1204,
    "start_time": "2023-07-03T14:23:44.461Z"
   },
   {
    "duration": 4,
    "start_time": "2023-07-03T14:23:45.668Z"
   },
   {
    "duration": 96,
    "start_time": "2023-07-03T14:23:45.677Z"
   },
   {
    "duration": 21,
    "start_time": "2023-07-03T14:23:45.774Z"
   },
   {
    "duration": 21,
    "start_time": "2023-07-03T14:23:45.797Z"
   },
   {
    "duration": 61,
    "start_time": "2023-07-03T14:23:45.820Z"
   },
   {
    "duration": 26,
    "start_time": "2023-07-03T14:23:45.883Z"
   },
   {
    "duration": 11,
    "start_time": "2023-07-03T14:23:45.910Z"
   },
   {
    "duration": 37,
    "start_time": "2023-07-03T14:23:45.924Z"
   },
   {
    "duration": 39,
    "start_time": "2023-07-03T14:23:45.963Z"
   },
   {
    "duration": 52,
    "start_time": "2023-07-03T14:23:46.003Z"
   },
   {
    "duration": 69,
    "start_time": "2023-07-03T14:23:46.056Z"
   },
   {
    "duration": 25,
    "start_time": "2023-07-03T14:23:46.127Z"
   },
   {
    "duration": 1410,
    "start_time": "2023-07-03T14:23:46.153Z"
   },
   {
    "duration": 152,
    "start_time": "2023-07-03T14:23:47.565Z"
   },
   {
    "duration": 147,
    "start_time": "2023-07-03T14:23:47.719Z"
   },
   {
    "duration": 146,
    "start_time": "2023-07-03T14:23:47.868Z"
   },
   {
    "duration": 8,
    "start_time": "2023-07-03T14:23:48.015Z"
   },
   {
    "duration": 31,
    "start_time": "2023-07-03T14:23:48.025Z"
   },
   {
    "duration": 31,
    "start_time": "2023-07-03T14:23:48.058Z"
   },
   {
    "duration": 101,
    "start_time": "2023-07-03T14:23:48.091Z"
   },
   {
    "duration": 193,
    "start_time": "2023-07-03T14:23:48.194Z"
   },
   {
    "duration": 83,
    "start_time": "2023-07-03T14:23:48.389Z"
   },
   {
    "duration": 119,
    "start_time": "2023-07-03T14:23:48.474Z"
   },
   {
    "duration": 885,
    "start_time": "2023-07-03T14:23:48.595Z"
   },
   {
    "duration": 13,
    "start_time": "2023-07-03T14:23:49.482Z"
   },
   {
    "duration": 26,
    "start_time": "2023-07-03T14:23:49.499Z"
   },
   {
    "duration": 1543,
    "start_time": "2023-07-03T14:23:49.527Z"
   },
   {
    "duration": 242,
    "start_time": "2023-07-03T14:23:51.071Z"
   },
   {
    "duration": 14,
    "start_time": "2023-07-03T14:23:51.315Z"
   },
   {
    "duration": 330,
    "start_time": "2023-07-03T14:23:51.331Z"
   },
   {
    "duration": 223,
    "start_time": "2023-07-03T14:23:51.663Z"
   },
   {
    "duration": 216,
    "start_time": "2023-07-03T14:23:51.888Z"
   },
   {
    "duration": 230,
    "start_time": "2023-07-03T14:23:52.105Z"
   },
   {
    "duration": 229,
    "start_time": "2023-07-03T14:23:52.337Z"
   },
   {
    "duration": 224,
    "start_time": "2023-07-03T14:23:52.568Z"
   },
   {
    "duration": 210,
    "start_time": "2023-07-03T14:23:52.793Z"
   },
   {
    "duration": 216,
    "start_time": "2023-07-03T14:23:53.005Z"
   },
   {
    "duration": 210,
    "start_time": "2023-07-03T14:23:53.222Z"
   },
   {
    "duration": 229,
    "start_time": "2023-07-03T14:23:53.433Z"
   },
   {
    "duration": 458,
    "start_time": "2023-07-03T14:23:53.664Z"
   },
   {
    "duration": 9,
    "start_time": "2023-07-03T14:23:54.123Z"
   },
   {
    "duration": 38,
    "start_time": "2023-07-03T14:23:54.134Z"
   },
   {
    "duration": 425,
    "start_time": "2023-07-03T14:23:54.174Z"
   },
   {
    "duration": 12,
    "start_time": "2023-07-03T14:23:54.601Z"
   },
   {
    "duration": 59,
    "start_time": "2023-07-03T19:38:54.320Z"
   },
   {
    "duration": 6,
    "start_time": "2023-07-03T19:39:27.024Z"
   },
   {
    "duration": 1414,
    "start_time": "2023-07-03T19:39:30.702Z"
   },
   {
    "duration": 4,
    "start_time": "2023-07-03T19:39:32.118Z"
   },
   {
    "duration": 120,
    "start_time": "2023-07-03T19:39:32.123Z"
   },
   {
    "duration": 21,
    "start_time": "2023-07-03T19:39:33.584Z"
   },
   {
    "duration": 3,
    "start_time": "2023-07-03T19:39:34.606Z"
   },
   {
    "duration": 15,
    "start_time": "2023-07-03T19:39:35.032Z"
   },
   {
    "duration": 4,
    "start_time": "2023-07-03T19:39:36.038Z"
   },
   {
    "duration": 5,
    "start_time": "2023-07-03T19:39:36.542Z"
   },
   {
    "duration": 5,
    "start_time": "2023-07-03T19:39:36.837Z"
   },
   {
    "duration": 9,
    "start_time": "2023-07-03T19:39:38.045Z"
   },
   {
    "duration": 8,
    "start_time": "2023-07-03T19:39:39.034Z"
   },
   {
    "duration": 20,
    "start_time": "2023-07-03T19:39:40.284Z"
   },
   {
    "duration": 26,
    "start_time": "2023-07-03T19:39:41.337Z"
   },
   {
    "duration": 1125,
    "start_time": "2023-07-03T19:39:42.780Z"
   },
   {
    "duration": 1433,
    "start_time": "2023-07-03T19:39:55.406Z"
   },
   {
    "duration": 1601,
    "start_time": "2023-07-04T14:28:06.210Z"
   },
   {
    "duration": 7,
    "start_time": "2023-07-04T14:28:07.813Z"
   },
   {
    "duration": 201,
    "start_time": "2023-07-04T14:28:07.821Z"
   },
   {
    "duration": 27,
    "start_time": "2023-07-04T14:28:08.025Z"
   },
   {
    "duration": 4,
    "start_time": "2023-07-04T14:28:08.054Z"
   },
   {
    "duration": 26,
    "start_time": "2023-07-04T14:28:08.060Z"
   },
   {
    "duration": 13,
    "start_time": "2023-07-04T14:28:08.092Z"
   },
   {
    "duration": 8,
    "start_time": "2023-07-04T14:28:08.109Z"
   },
   {
    "duration": 7,
    "start_time": "2023-07-04T14:28:08.120Z"
   },
   {
    "duration": 9,
    "start_time": "2023-07-04T14:28:08.131Z"
   },
   {
    "duration": 36,
    "start_time": "2023-07-04T14:28:08.142Z"
   },
   {
    "duration": 28,
    "start_time": "2023-07-04T14:28:08.179Z"
   },
   {
    "duration": 10,
    "start_time": "2023-07-04T14:28:08.210Z"
   },
   {
    "duration": 1822,
    "start_time": "2023-07-04T14:28:08.222Z"
   },
   {
    "duration": 229,
    "start_time": "2023-07-04T14:28:10.046Z"
   },
   {
    "duration": 163,
    "start_time": "2023-07-04T14:28:10.282Z"
   },
   {
    "duration": 245,
    "start_time": "2023-07-04T14:28:10.448Z"
   },
   {
    "duration": 16,
    "start_time": "2023-07-04T14:28:10.694Z"
   },
   {
    "duration": 22,
    "start_time": "2023-07-04T14:28:10.712Z"
   },
   {
    "duration": 15,
    "start_time": "2023-07-04T14:28:10.736Z"
   },
   {
    "duration": 115,
    "start_time": "2023-07-04T14:28:10.753Z"
   },
   {
    "duration": 82,
    "start_time": "2023-07-04T14:28:10.871Z"
   },
   {
    "duration": 0,
    "start_time": "2023-07-04T14:28:11.118Z"
   },
   {
    "duration": 0,
    "start_time": "2023-07-04T14:28:11.120Z"
   },
   {
    "duration": 0,
    "start_time": "2023-07-04T14:28:11.123Z"
   },
   {
    "duration": 0,
    "start_time": "2023-07-04T14:28:11.124Z"
   },
   {
    "duration": 0,
    "start_time": "2023-07-04T14:28:11.126Z"
   },
   {
    "duration": 0,
    "start_time": "2023-07-04T14:28:11.128Z"
   },
   {
    "duration": 0,
    "start_time": "2023-07-04T14:28:11.130Z"
   },
   {
    "duration": 0,
    "start_time": "2023-07-04T14:28:11.132Z"
   },
   {
    "duration": 0,
    "start_time": "2023-07-04T14:28:11.134Z"
   },
   {
    "duration": 0,
    "start_time": "2023-07-04T14:28:11.136Z"
   },
   {
    "duration": 0,
    "start_time": "2023-07-04T14:28:11.137Z"
   },
   {
    "duration": 0,
    "start_time": "2023-07-04T14:28:11.139Z"
   },
   {
    "duration": 1,
    "start_time": "2023-07-04T14:28:11.167Z"
   },
   {
    "duration": 0,
    "start_time": "2023-07-04T14:28:11.169Z"
   },
   {
    "duration": 0,
    "start_time": "2023-07-04T14:28:11.171Z"
   },
   {
    "duration": 0,
    "start_time": "2023-07-04T14:28:11.172Z"
   },
   {
    "duration": 0,
    "start_time": "2023-07-04T14:28:11.173Z"
   },
   {
    "duration": 0,
    "start_time": "2023-07-04T14:28:11.175Z"
   },
   {
    "duration": 0,
    "start_time": "2023-07-04T14:28:11.176Z"
   },
   {
    "duration": 0,
    "start_time": "2023-07-04T14:28:11.177Z"
   },
   {
    "duration": 0,
    "start_time": "2023-07-04T14:28:11.179Z"
   },
   {
    "duration": 0,
    "start_time": "2023-07-04T14:28:11.180Z"
   },
   {
    "duration": 0,
    "start_time": "2023-07-04T14:28:11.182Z"
   },
   {
    "duration": 1472,
    "start_time": "2023-07-04T14:35:24.535Z"
   },
   {
    "duration": 6,
    "start_time": "2023-07-04T14:35:26.010Z"
   },
   {
    "duration": 161,
    "start_time": "2023-07-04T14:35:26.018Z"
   },
   {
    "duration": 58,
    "start_time": "2023-07-04T14:35:26.181Z"
   },
   {
    "duration": 4,
    "start_time": "2023-07-04T14:35:26.243Z"
   },
   {
    "duration": 53,
    "start_time": "2023-07-04T14:35:26.250Z"
   },
   {
    "duration": 33,
    "start_time": "2023-07-04T14:35:26.310Z"
   },
   {
    "duration": 14,
    "start_time": "2023-07-04T14:35:26.346Z"
   },
   {
    "duration": 54,
    "start_time": "2023-07-04T14:35:26.363Z"
   },
   {
    "duration": 17,
    "start_time": "2023-07-04T14:35:26.423Z"
   },
   {
    "duration": 28,
    "start_time": "2023-07-04T14:35:26.442Z"
   },
   {
    "duration": 46,
    "start_time": "2023-07-04T14:35:26.473Z"
   },
   {
    "duration": 24,
    "start_time": "2023-07-04T14:35:26.522Z"
   },
   {
    "duration": 1938,
    "start_time": "2023-07-04T14:35:26.552Z"
   },
   {
    "duration": 196,
    "start_time": "2023-07-04T14:35:28.492Z"
   },
   {
    "duration": 189,
    "start_time": "2023-07-04T14:35:28.696Z"
   },
   {
    "duration": 188,
    "start_time": "2023-07-04T14:35:28.891Z"
   },
   {
    "duration": 27,
    "start_time": "2023-07-04T14:35:29.081Z"
   },
   {
    "duration": 34,
    "start_time": "2023-07-04T14:35:29.113Z"
   },
   {
    "duration": 282,
    "start_time": "2023-07-04T14:35:29.149Z"
   },
   {
    "duration": 126,
    "start_time": "2023-07-04T14:35:29.434Z"
   },
   {
    "duration": 300,
    "start_time": "2023-07-04T14:35:29.562Z"
   },
   {
    "duration": 116,
    "start_time": "2023-07-04T14:35:29.864Z"
   },
   {
    "duration": 160,
    "start_time": "2023-07-04T14:35:29.983Z"
   },
   {
    "duration": 1236,
    "start_time": "2023-07-04T14:35:30.147Z"
   },
   {
    "duration": 27,
    "start_time": "2023-07-04T14:35:31.390Z"
   },
   {
    "duration": 38,
    "start_time": "2023-07-04T14:35:31.423Z"
   },
   {
    "duration": 2089,
    "start_time": "2023-07-04T14:35:31.464Z"
   },
   {
    "duration": 378,
    "start_time": "2023-07-04T14:35:33.557Z"
   },
   {
    "duration": 29,
    "start_time": "2023-07-04T14:35:33.944Z"
   },
   {
    "duration": 422,
    "start_time": "2023-07-04T14:35:33.984Z"
   },
   {
    "duration": 391,
    "start_time": "2023-07-04T14:35:34.412Z"
   },
   {
    "duration": 379,
    "start_time": "2023-07-04T14:35:34.811Z"
   },
   {
    "duration": 336,
    "start_time": "2023-07-04T14:35:35.196Z"
   },
   {
    "duration": 413,
    "start_time": "2023-07-04T14:35:35.542Z"
   },
   {
    "duration": 323,
    "start_time": "2023-07-04T14:35:35.958Z"
   },
   {
    "duration": 335,
    "start_time": "2023-07-04T14:35:36.283Z"
   },
   {
    "duration": 331,
    "start_time": "2023-07-04T14:35:36.622Z"
   },
   {
    "duration": 331,
    "start_time": "2023-07-04T14:35:36.956Z"
   },
   {
    "duration": 323,
    "start_time": "2023-07-04T14:35:37.302Z"
   },
   {
    "duration": 561,
    "start_time": "2023-07-04T14:35:37.629Z"
   },
   {
    "duration": 19,
    "start_time": "2023-07-04T14:35:38.195Z"
   },
   {
    "duration": 19,
    "start_time": "2023-07-04T14:35:38.217Z"
   },
   {
    "duration": 702,
    "start_time": "2023-07-04T14:35:38.238Z"
   },
   {
    "duration": 24,
    "start_time": "2023-07-04T14:35:38.945Z"
   },
   {
    "duration": 15,
    "start_time": "2023-07-04T14:40:58.392Z"
   },
   {
    "duration": 2084,
    "start_time": "2023-07-04T14:40:59.563Z"
   },
   {
    "duration": 2161,
    "start_time": "2023-07-04T14:41:11.055Z"
   },
   {
    "duration": 2422,
    "start_time": "2023-07-04T14:41:18.216Z"
   },
   {
    "duration": 2280,
    "start_time": "2023-07-04T14:42:14.758Z"
   },
   {
    "duration": 2042,
    "start_time": "2023-07-04T14:42:58.719Z"
   },
   {
    "duration": 2089,
    "start_time": "2023-07-04T14:44:16.843Z"
   },
   {
    "duration": 2722,
    "start_time": "2023-07-04T14:45:41.021Z"
   },
   {
    "duration": 405,
    "start_time": "2023-07-04T14:46:25.053Z"
   },
   {
    "duration": 2149,
    "start_time": "2023-07-04T14:47:04.803Z"
   },
   {
    "duration": 2185,
    "start_time": "2023-07-04T14:47:18.521Z"
   },
   {
    "duration": 2354,
    "start_time": "2023-07-04T14:47:37.107Z"
   },
   {
    "duration": 136,
    "start_time": "2023-07-04T14:50:06.809Z"
   },
   {
    "duration": 1960,
    "start_time": "2023-07-04T14:50:16.001Z"
   },
   {
    "duration": 2040,
    "start_time": "2023-07-04T14:50:31.431Z"
   },
   {
    "duration": 2032,
    "start_time": "2023-07-04T14:50:52.418Z"
   },
   {
    "duration": 2098,
    "start_time": "2023-07-04T14:51:04.423Z"
   },
   {
    "duration": 2057,
    "start_time": "2023-07-04T14:51:11.725Z"
   },
   {
    "duration": 400,
    "start_time": "2023-07-04T14:53:42.710Z"
   },
   {
    "duration": 681,
    "start_time": "2023-07-04T14:54:58.650Z"
   },
   {
    "duration": 219819,
    "start_time": "2023-07-04T15:00:24.221Z"
   },
   {
    "duration": 1228,
    "start_time": "2023-07-04T15:10:59.595Z"
   },
   {
    "duration": 341,
    "start_time": "2023-07-04T15:11:11.322Z"
   },
   {
    "duration": 1334,
    "start_time": "2023-07-04T15:22:56.973Z"
   },
   {
    "duration": 4,
    "start_time": "2023-07-04T15:22:58.310Z"
   },
   {
    "duration": 70,
    "start_time": "2023-07-04T15:22:58.315Z"
   },
   {
    "duration": 33,
    "start_time": "2023-07-04T15:22:58.387Z"
   },
   {
    "duration": 4,
    "start_time": "2023-07-04T15:22:58.423Z"
   },
   {
    "duration": 27,
    "start_time": "2023-07-04T15:22:58.429Z"
   },
   {
    "duration": 7,
    "start_time": "2023-07-04T15:22:58.467Z"
   },
   {
    "duration": 18,
    "start_time": "2023-07-04T15:22:58.476Z"
   },
   {
    "duration": 9,
    "start_time": "2023-07-04T15:22:58.496Z"
   },
   {
    "duration": 11,
    "start_time": "2023-07-04T15:22:58.507Z"
   },
   {
    "duration": 9,
    "start_time": "2023-07-04T15:22:58.520Z"
   },
   {
    "duration": 56,
    "start_time": "2023-07-04T15:22:58.531Z"
   },
   {
    "duration": 11,
    "start_time": "2023-07-04T15:22:58.589Z"
   },
   {
    "duration": 1578,
    "start_time": "2023-07-04T15:22:58.604Z"
   },
   {
    "duration": 146,
    "start_time": "2023-07-04T15:23:00.185Z"
   },
   {
    "duration": 164,
    "start_time": "2023-07-04T15:23:00.334Z"
   },
   {
    "duration": 191,
    "start_time": "2023-07-04T15:23:00.500Z"
   },
   {
    "duration": 11,
    "start_time": "2023-07-04T15:23:00.693Z"
   },
   {
    "duration": 44,
    "start_time": "2023-07-04T15:23:00.706Z"
   },
   {
    "duration": 23,
    "start_time": "2023-07-04T15:23:00.752Z"
   },
   {
    "duration": 139,
    "start_time": "2023-07-04T15:23:00.777Z"
   },
   {
    "duration": 259,
    "start_time": "2023-07-04T15:23:00.918Z"
   },
   {
    "duration": 89,
    "start_time": "2023-07-04T15:23:01.178Z"
   },
   {
    "duration": 151,
    "start_time": "2023-07-04T15:23:01.270Z"
   },
   {
    "duration": 1057,
    "start_time": "2023-07-04T15:23:01.422Z"
   },
   {
    "duration": 21,
    "start_time": "2023-07-04T15:23:02.481Z"
   },
   {
    "duration": 22,
    "start_time": "2023-07-04T15:23:02.505Z"
   },
   {
    "duration": 2044,
    "start_time": "2023-07-04T15:23:02.529Z"
   },
   {
    "duration": 261,
    "start_time": "2023-07-04T15:23:04.575Z"
   },
   {
    "duration": 29,
    "start_time": "2023-07-04T15:23:04.838Z"
   },
   {
    "duration": 272,
    "start_time": "2023-07-04T15:23:04.870Z"
   },
   {
    "duration": 230,
    "start_time": "2023-07-04T15:23:05.144Z"
   },
   {
    "duration": 225,
    "start_time": "2023-07-04T15:23:05.376Z"
   },
   {
    "duration": 253,
    "start_time": "2023-07-04T15:23:05.602Z"
   },
   {
    "duration": 249,
    "start_time": "2023-07-04T15:23:05.858Z"
   },
   {
    "duration": 263,
    "start_time": "2023-07-04T15:23:06.109Z"
   },
   {
    "duration": 236,
    "start_time": "2023-07-04T15:23:06.374Z"
   },
   {
    "duration": 236,
    "start_time": "2023-07-04T15:23:06.613Z"
   },
   {
    "duration": 233,
    "start_time": "2023-07-04T15:23:06.851Z"
   },
   {
    "duration": 235,
    "start_time": "2023-07-04T15:23:07.086Z"
   },
   {
    "duration": 466,
    "start_time": "2023-07-04T15:23:07.325Z"
   },
   {
    "duration": 10,
    "start_time": "2023-07-04T15:23:07.793Z"
   },
   {
    "duration": 24,
    "start_time": "2023-07-04T15:23:07.805Z"
   },
   {
    "duration": 452,
    "start_time": "2023-07-04T15:23:07.831Z"
   },
   {
    "duration": 10,
    "start_time": "2023-07-04T15:23:08.285Z"
   },
   {
    "duration": 85,
    "start_time": "2023-07-04T16:00:27.130Z"
   },
   {
    "duration": 4,
    "start_time": "2023-07-04T16:00:32.017Z"
   },
   {
    "duration": 13,
    "start_time": "2023-07-04T16:00:34.456Z"
   },
   {
    "duration": 166,
    "start_time": "2023-07-04T16:00:55.271Z"
   },
   {
    "duration": 15,
    "start_time": "2023-07-04T16:00:58.930Z"
   },
   {
    "duration": 11,
    "start_time": "2023-07-04T19:33:35.190Z"
   },
   {
    "duration": 2051,
    "start_time": "2023-07-04T19:33:48.247Z"
   },
   {
    "duration": 5,
    "start_time": "2023-07-04T19:33:50.300Z"
   },
   {
    "duration": 133,
    "start_time": "2023-07-04T19:33:50.307Z"
   },
   {
    "duration": 20,
    "start_time": "2023-07-04T19:33:50.442Z"
   },
   {
    "duration": 6,
    "start_time": "2023-07-04T19:33:50.464Z"
   },
   {
    "duration": 32,
    "start_time": "2023-07-04T19:33:50.472Z"
   },
   {
    "duration": 13,
    "start_time": "2023-07-04T19:33:50.506Z"
   },
   {
    "duration": 17,
    "start_time": "2023-07-04T19:33:50.521Z"
   },
   {
    "duration": 27,
    "start_time": "2023-07-04T19:33:50.540Z"
   },
   {
    "duration": 21,
    "start_time": "2023-07-04T19:33:50.569Z"
   },
   {
    "duration": 10,
    "start_time": "2023-07-04T19:33:50.591Z"
   },
   {
    "duration": 22,
    "start_time": "2023-07-04T19:33:50.603Z"
   },
   {
    "duration": 10,
    "start_time": "2023-07-04T19:33:50.627Z"
   },
   {
    "duration": 1362,
    "start_time": "2023-07-04T19:33:50.640Z"
   },
   {
    "duration": 137,
    "start_time": "2023-07-04T19:33:52.004Z"
   },
   {
    "duration": 135,
    "start_time": "2023-07-04T19:33:52.143Z"
   },
   {
    "duration": 150,
    "start_time": "2023-07-04T19:33:52.280Z"
   },
   {
    "duration": 25,
    "start_time": "2023-07-04T19:33:52.433Z"
   },
   {
    "duration": 16,
    "start_time": "2023-07-04T19:33:52.460Z"
   },
   {
    "duration": 20,
    "start_time": "2023-07-04T19:33:52.478Z"
   },
   {
    "duration": 954,
    "start_time": "2023-07-04T19:33:52.500Z"
   },
   {
    "duration": 15,
    "start_time": "2023-07-04T19:33:53.456Z"
   },
   {
    "duration": 12,
    "start_time": "2023-07-04T19:33:53.473Z"
   },
   {
    "duration": 1881,
    "start_time": "2023-07-04T19:33:53.487Z"
   },
   {
    "duration": 145,
    "start_time": "2023-07-04T19:33:55.369Z"
   },
   {
    "duration": 15,
    "start_time": "2023-07-04T19:33:55.516Z"
   },
   {
    "duration": 341,
    "start_time": "2023-07-04T19:33:55.533Z"
   },
   {
    "duration": 231,
    "start_time": "2023-07-04T19:33:55.876Z"
   },
   {
    "duration": 218,
    "start_time": "2023-07-04T19:33:56.109Z"
   },
   {
    "duration": 229,
    "start_time": "2023-07-04T19:33:56.329Z"
   },
   {
    "duration": 234,
    "start_time": "2023-07-04T19:33:56.559Z"
   },
   {
    "duration": 220,
    "start_time": "2023-07-04T19:33:56.795Z"
   },
   {
    "duration": 190,
    "start_time": "2023-07-04T19:33:57.017Z"
   },
   {
    "duration": 216,
    "start_time": "2023-07-04T19:33:57.209Z"
   },
   {
    "duration": 213,
    "start_time": "2023-07-04T19:33:57.427Z"
   },
   {
    "duration": 17,
    "start_time": "2023-07-04T19:33:57.641Z"
   },
   {
    "duration": 222,
    "start_time": "2023-07-04T19:33:57.660Z"
   },
   {
    "duration": 6,
    "start_time": "2023-07-04T19:33:57.884Z"
   },
   {
    "duration": 435,
    "start_time": "2023-07-04T19:33:57.891Z"
   },
   {
    "duration": 8,
    "start_time": "2023-07-04T19:33:58.328Z"
   },
   {
    "duration": 7,
    "start_time": "2023-07-04T19:33:58.353Z"
   },
   {
    "duration": 383,
    "start_time": "2023-07-04T19:33:58.361Z"
   },
   {
    "duration": 12,
    "start_time": "2023-07-04T19:33:58.746Z"
   },
   {
    "duration": 398,
    "start_time": "2023-07-04T19:34:43.877Z"
   },
   {
    "duration": 7,
    "start_time": "2023-07-04T19:35:12.202Z"
   },
   {
    "duration": 520,
    "start_time": "2023-07-04T19:35:16.051Z"
   },
   {
    "duration": 7,
    "start_time": "2023-07-04T19:36:07.404Z"
   },
   {
    "duration": 510,
    "start_time": "2023-07-04T19:36:08.920Z"
   },
   {
    "duration": 7,
    "start_time": "2023-07-04T19:36:23.924Z"
   },
   {
    "duration": 1055,
    "start_time": "2023-07-04T19:36:24.769Z"
   },
   {
    "duration": 6,
    "start_time": "2023-07-04T19:37:21.010Z"
   },
   {
    "duration": 1321,
    "start_time": "2023-07-04T19:37:22.500Z"
   },
   {
    "duration": 5,
    "start_time": "2023-07-04T19:37:32.206Z"
   },
   {
    "duration": 1026,
    "start_time": "2023-07-04T19:37:32.771Z"
   },
   {
    "duration": 12,
    "start_time": "2023-07-04T19:42:25.274Z"
   },
   {
    "duration": 12,
    "start_time": "2023-07-04T19:43:09.216Z"
   },
   {
    "duration": 12,
    "start_time": "2023-07-04T19:43:19.015Z"
   },
   {
    "duration": 12,
    "start_time": "2023-07-04T19:43:56.063Z"
   },
   {
    "duration": 12,
    "start_time": "2023-07-04T19:44:01.715Z"
   },
   {
    "duration": 12,
    "start_time": "2023-07-04T19:44:14.709Z"
   },
   {
    "duration": 20,
    "start_time": "2023-07-04T19:44:53.807Z"
   },
   {
    "duration": 19,
    "start_time": "2023-07-04T19:45:35.301Z"
   },
   {
    "duration": 230,
    "start_time": "2023-07-04T19:45:43.912Z"
   },
   {
    "duration": 20,
    "start_time": "2023-07-04T19:46:48.701Z"
   },
   {
    "duration": 15,
    "start_time": "2023-07-04T19:49:24.039Z"
   },
   {
    "duration": 9,
    "start_time": "2023-07-04T19:49:37.901Z"
   },
   {
    "duration": 10,
    "start_time": "2023-07-04T19:50:16.201Z"
   },
   {
    "duration": 85,
    "start_time": "2023-07-04T19:51:08.849Z"
   },
   {
    "duration": 12,
    "start_time": "2023-07-04T19:51:11.801Z"
   },
   {
    "duration": 1333,
    "start_time": "2023-07-04T19:51:31.640Z"
   },
   {
    "duration": 3,
    "start_time": "2023-07-04T19:51:32.975Z"
   },
   {
    "duration": 140,
    "start_time": "2023-07-04T19:51:32.980Z"
   },
   {
    "duration": 21,
    "start_time": "2023-07-04T19:51:33.121Z"
   },
   {
    "duration": 4,
    "start_time": "2023-07-04T19:51:33.144Z"
   },
   {
    "duration": 23,
    "start_time": "2023-07-04T19:51:33.149Z"
   },
   {
    "duration": 21,
    "start_time": "2023-07-04T19:51:33.173Z"
   },
   {
    "duration": 11,
    "start_time": "2023-07-04T19:51:33.196Z"
   },
   {
    "duration": 12,
    "start_time": "2023-07-04T19:51:33.208Z"
   },
   {
    "duration": 20,
    "start_time": "2023-07-04T19:51:33.221Z"
   },
   {
    "duration": 7,
    "start_time": "2023-07-04T19:51:33.243Z"
   },
   {
    "duration": 22,
    "start_time": "2023-07-04T19:51:33.252Z"
   },
   {
    "duration": 9,
    "start_time": "2023-07-04T19:51:33.275Z"
   },
   {
    "duration": 1313,
    "start_time": "2023-07-04T19:51:33.287Z"
   },
   {
    "duration": 134,
    "start_time": "2023-07-04T19:51:34.601Z"
   },
   {
    "duration": 134,
    "start_time": "2023-07-04T19:51:34.737Z"
   },
   {
    "duration": 147,
    "start_time": "2023-07-04T19:51:34.873Z"
   },
   {
    "duration": 8,
    "start_time": "2023-07-04T19:51:35.022Z"
   },
   {
    "duration": 57,
    "start_time": "2023-07-04T19:51:35.032Z"
   },
   {
    "duration": 27,
    "start_time": "2023-07-04T19:51:35.091Z"
   },
   {
    "duration": 1011,
    "start_time": "2023-07-04T19:51:35.120Z"
   },
   {
    "duration": 26,
    "start_time": "2023-07-04T19:51:36.134Z"
   },
   {
    "duration": 17,
    "start_time": "2023-07-04T19:51:36.162Z"
   },
   {
    "duration": 1839,
    "start_time": "2023-07-04T19:51:36.181Z"
   },
   {
    "duration": 138,
    "start_time": "2023-07-04T19:51:38.021Z"
   },
   {
    "duration": 14,
    "start_time": "2023-07-04T19:51:38.160Z"
   },
   {
    "duration": 317,
    "start_time": "2023-07-04T19:51:38.176Z"
   },
   {
    "duration": 225,
    "start_time": "2023-07-04T19:51:38.495Z"
   },
   {
    "duration": 213,
    "start_time": "2023-07-04T19:51:38.722Z"
   },
   {
    "duration": 232,
    "start_time": "2023-07-04T19:51:38.937Z"
   },
   {
    "duration": 231,
    "start_time": "2023-07-04T19:51:39.171Z"
   },
   {
    "duration": 320,
    "start_time": "2023-07-04T19:51:39.403Z"
   },
   {
    "duration": 0,
    "start_time": "2023-07-04T19:51:39.725Z"
   },
   {
    "duration": 0,
    "start_time": "2023-07-04T19:51:39.727Z"
   },
   {
    "duration": 0,
    "start_time": "2023-07-04T19:51:39.728Z"
   },
   {
    "duration": 0,
    "start_time": "2023-07-04T19:51:39.729Z"
   },
   {
    "duration": 0,
    "start_time": "2023-07-04T19:51:39.730Z"
   },
   {
    "duration": 0,
    "start_time": "2023-07-04T19:51:39.732Z"
   },
   {
    "duration": 0,
    "start_time": "2023-07-04T19:51:39.733Z"
   },
   {
    "duration": 10,
    "start_time": "2023-07-04T19:57:53.561Z"
   },
   {
    "duration": 9,
    "start_time": "2023-07-04T19:58:29.681Z"
   },
   {
    "duration": 10,
    "start_time": "2023-07-04T19:59:08.060Z"
   },
   {
    "duration": 9,
    "start_time": "2023-07-04T19:59:21.612Z"
   },
   {
    "duration": 4,
    "start_time": "2023-07-04T19:59:29.500Z"
   },
   {
    "duration": 4,
    "start_time": "2023-07-04T19:59:30.041Z"
   },
   {
    "duration": 95,
    "start_time": "2023-07-04T19:59:30.404Z"
   },
   {
    "duration": 20,
    "start_time": "2023-07-04T19:59:31.009Z"
   },
   {
    "duration": 4,
    "start_time": "2023-07-04T19:59:48.752Z"
   },
   {
    "duration": 4,
    "start_time": "2023-07-04T19:59:49.252Z"
   },
   {
    "duration": 97,
    "start_time": "2023-07-04T19:59:49.810Z"
   },
   {
    "duration": 20,
    "start_time": "2023-07-04T19:59:50.529Z"
   },
   {
    "duration": 4,
    "start_time": "2023-07-04T19:59:51.704Z"
   },
   {
    "duration": 14,
    "start_time": "2023-07-04T19:59:52.901Z"
   },
   {
    "duration": 6,
    "start_time": "2023-07-04T19:59:53.970Z"
   },
   {
    "duration": 7,
    "start_time": "2023-07-04T19:59:54.962Z"
   },
   {
    "duration": 6,
    "start_time": "2023-07-04T19:59:55.430Z"
   },
   {
    "duration": 33,
    "start_time": "2023-07-04T19:59:56.852Z"
   },
   {
    "duration": 11,
    "start_time": "2023-07-04T20:00:22.677Z"
   },
   {
    "duration": 6,
    "start_time": "2023-07-04T20:00:26.224Z"
   },
   {
    "duration": 21,
    "start_time": "2023-07-04T20:00:27.850Z"
   },
   {
    "duration": 13,
    "start_time": "2023-07-04T20:00:28.585Z"
   },
   {
    "duration": 1488,
    "start_time": "2023-07-04T20:00:29.847Z"
   },
   {
    "duration": 127,
    "start_time": "2023-07-04T20:00:34.035Z"
   },
   {
    "duration": 169,
    "start_time": "2023-07-04T20:00:34.651Z"
   },
   {
    "duration": 154,
    "start_time": "2023-07-04T20:00:35.508Z"
   },
   {
    "duration": 9,
    "start_time": "2023-07-04T20:00:36.945Z"
   },
   {
    "duration": 15,
    "start_time": "2023-07-04T20:00:37.906Z"
   },
   {
    "duration": 6,
    "start_time": "2023-07-04T20:00:38.705Z"
   },
   {
    "duration": 24,
    "start_time": "2023-07-04T20:00:39.513Z"
   },
   {
    "duration": 908,
    "start_time": "2023-07-04T20:01:06.009Z"
   },
   {
    "duration": 22,
    "start_time": "2023-07-04T20:01:12.406Z"
   },
   {
    "duration": 24,
    "start_time": "2023-07-04T20:01:14.065Z"
   },
   {
    "duration": 12,
    "start_time": "2023-07-04T20:01:27.861Z"
   },
   {
    "duration": 1923,
    "start_time": "2023-07-04T20:01:28.612Z"
   },
   {
    "duration": 23,
    "start_time": "2023-07-04T20:01:34.049Z"
   },
   {
    "duration": 150,
    "start_time": "2023-07-04T20:01:54.066Z"
   },
   {
    "duration": 16,
    "start_time": "2023-07-04T20:01:55.048Z"
   },
   {
    "duration": 256,
    "start_time": "2023-07-04T20:01:56.521Z"
   },
   {
    "duration": 225,
    "start_time": "2023-07-04T20:01:57.175Z"
   },
   {
    "duration": 219,
    "start_time": "2023-07-04T20:01:58.063Z"
   },
   {
    "duration": 220,
    "start_time": "2023-07-04T20:01:58.917Z"
   },
   {
    "duration": 227,
    "start_time": "2023-07-04T20:01:59.805Z"
   },
   {
    "duration": 20,
    "start_time": "2023-07-04T20:02:01.921Z"
   },
   {
    "duration": 24,
    "start_time": "2023-07-04T20:02:06.808Z"
   },
   {
    "duration": 236,
    "start_time": "2023-07-04T20:02:09.636Z"
   },
   {
    "duration": 11,
    "start_time": "2023-07-04T20:02:14.165Z"
   },
   {
    "duration": 15,
    "start_time": "2023-07-04T20:06:25.250Z"
   },
   {
    "duration": 19,
    "start_time": "2023-07-04T20:07:02.162Z"
   },
   {
    "duration": 25,
    "start_time": "2023-07-04T20:09:42.397Z"
   },
   {
    "duration": 10,
    "start_time": "2023-07-04T20:10:28.762Z"
   },
   {
    "duration": 20,
    "start_time": "2023-07-04T20:11:01.560Z"
   },
   {
    "duration": 14,
    "start_time": "2023-07-04T20:11:05.723Z"
   },
   {
    "duration": 1344,
    "start_time": "2023-07-04T20:11:12.232Z"
   },
   {
    "duration": 5,
    "start_time": "2023-07-04T20:11:13.578Z"
   },
   {
    "duration": 131,
    "start_time": "2023-07-04T20:11:13.585Z"
   },
   {
    "duration": 28,
    "start_time": "2023-07-04T20:11:13.718Z"
   },
   {
    "duration": 4,
    "start_time": "2023-07-04T20:11:13.749Z"
   },
   {
    "duration": 18,
    "start_time": "2023-07-04T20:11:13.754Z"
   },
   {
    "duration": 11,
    "start_time": "2023-07-04T20:11:13.774Z"
   },
   {
    "duration": 12,
    "start_time": "2023-07-04T20:11:13.787Z"
   },
   {
    "duration": 6,
    "start_time": "2023-07-04T20:11:13.801Z"
   },
   {
    "duration": 11,
    "start_time": "2023-07-04T20:11:13.809Z"
   },
   {
    "duration": 37,
    "start_time": "2023-07-04T20:11:13.822Z"
   },
   {
    "duration": 28,
    "start_time": "2023-07-04T20:11:13.861Z"
   },
   {
    "duration": 11,
    "start_time": "2023-07-04T20:11:13.891Z"
   },
   {
    "duration": 1409,
    "start_time": "2023-07-04T20:11:13.905Z"
   },
   {
    "duration": 162,
    "start_time": "2023-07-04T20:11:15.317Z"
   },
   {
    "duration": 149,
    "start_time": "2023-07-04T20:11:15.480Z"
   },
   {
    "duration": 141,
    "start_time": "2023-07-04T20:11:15.631Z"
   },
   {
    "duration": 8,
    "start_time": "2023-07-04T20:11:15.774Z"
   },
   {
    "duration": 16,
    "start_time": "2023-07-04T20:11:15.784Z"
   },
   {
    "duration": 8,
    "start_time": "2023-07-04T20:11:15.801Z"
   },
   {
    "duration": 978,
    "start_time": "2023-07-04T20:11:15.811Z"
   },
   {
    "duration": 16,
    "start_time": "2023-07-04T20:11:16.791Z"
   },
   {
    "duration": 13,
    "start_time": "2023-07-04T20:11:16.808Z"
   },
   {
    "duration": 1850,
    "start_time": "2023-07-04T20:11:16.822Z"
   },
   {
    "duration": 145,
    "start_time": "2023-07-04T20:11:18.673Z"
   },
   {
    "duration": 14,
    "start_time": "2023-07-04T20:11:18.820Z"
   },
   {
    "duration": 336,
    "start_time": "2023-07-04T20:11:18.836Z"
   },
   {
    "duration": 233,
    "start_time": "2023-07-04T20:11:19.174Z"
   },
   {
    "duration": 232,
    "start_time": "2023-07-04T20:11:19.410Z"
   },
   {
    "duration": 244,
    "start_time": "2023-07-04T20:11:19.644Z"
   },
   {
    "duration": 246,
    "start_time": "2023-07-04T20:11:19.890Z"
   },
   {
    "duration": 30,
    "start_time": "2023-07-04T20:11:20.137Z"
   },
   {
    "duration": 1291,
    "start_time": "2023-07-04T20:11:20.169Z"
   },
   {
    "duration": 0,
    "start_time": "2023-07-04T20:11:21.462Z"
   },
   {
    "duration": 0,
    "start_time": "2023-07-04T20:11:21.463Z"
   },
   {
    "duration": 0,
    "start_time": "2023-07-04T20:11:21.464Z"
   },
   {
    "duration": 0,
    "start_time": "2023-07-04T20:11:21.466Z"
   },
   {
    "duration": 0,
    "start_time": "2023-07-04T20:11:21.468Z"
   },
   {
    "duration": 0,
    "start_time": "2023-07-04T20:11:21.470Z"
   },
   {
    "duration": 0,
    "start_time": "2023-07-04T20:11:21.471Z"
   },
   {
    "duration": 176476,
    "start_time": "2023-07-04T20:11:44.557Z"
   },
   {
    "duration": 1019,
    "start_time": "2023-07-04T20:16:46.508Z"
   },
   {
    "duration": 10,
    "start_time": "2023-07-04T20:18:25.689Z"
   },
   {
    "duration": 243,
    "start_time": "2023-07-04T20:18:26.138Z"
   },
   {
    "duration": 4023,
    "start_time": "2023-07-04T20:19:22.897Z"
   },
   {
    "duration": 1107,
    "start_time": "2023-07-04T20:19:32.864Z"
   },
   {
    "duration": 308,
    "start_time": "2023-07-04T20:19:51.857Z"
   },
   {
    "duration": 9,
    "start_time": "2023-07-04T20:19:53.759Z"
   },
   {
    "duration": 8,
    "start_time": "2023-07-04T20:19:54.900Z"
   },
   {
    "duration": 460,
    "start_time": "2023-07-04T20:19:55.863Z"
   },
   {
    "duration": 8,
    "start_time": "2023-07-04T20:20:00.126Z"
   },
   {
    "duration": 15,
    "start_time": "2023-07-04T20:21:28.936Z"
   },
   {
    "duration": 53,
    "start_time": "2023-07-05T06:23:53.505Z"
   },
   {
    "duration": 1384,
    "start_time": "2023-07-05T06:24:02.376Z"
   },
   {
    "duration": 4,
    "start_time": "2023-07-05T06:24:03.762Z"
   },
   {
    "duration": 95,
    "start_time": "2023-07-05T06:24:03.768Z"
   },
   {
    "duration": 23,
    "start_time": "2023-07-05T06:24:03.865Z"
   },
   {
    "duration": 5,
    "start_time": "2023-07-05T06:24:03.891Z"
   },
   {
    "duration": 37,
    "start_time": "2023-07-05T06:24:03.897Z"
   },
   {
    "duration": 19,
    "start_time": "2023-07-05T06:24:03.936Z"
   },
   {
    "duration": 17,
    "start_time": "2023-07-05T06:24:03.956Z"
   },
   {
    "duration": 22,
    "start_time": "2023-07-05T06:24:03.975Z"
   },
   {
    "duration": 28,
    "start_time": "2023-07-05T06:24:03.998Z"
   },
   {
    "duration": 25,
    "start_time": "2023-07-05T06:24:04.028Z"
   },
   {
    "duration": 37,
    "start_time": "2023-07-05T06:24:04.055Z"
   },
   {
    "duration": 13,
    "start_time": "2023-07-05T06:24:04.093Z"
   },
   {
    "duration": 1481,
    "start_time": "2023-07-05T06:24:04.109Z"
   },
   {
    "duration": 0,
    "start_time": "2023-07-05T06:24:05.592Z"
   },
   {
    "duration": 0,
    "start_time": "2023-07-05T06:24:05.593Z"
   },
   {
    "duration": 0,
    "start_time": "2023-07-05T06:24:05.595Z"
   },
   {
    "duration": 0,
    "start_time": "2023-07-05T06:24:05.596Z"
   },
   {
    "duration": 0,
    "start_time": "2023-07-05T06:24:05.597Z"
   },
   {
    "duration": 0,
    "start_time": "2023-07-05T06:24:05.598Z"
   },
   {
    "duration": 0,
    "start_time": "2023-07-05T06:24:05.600Z"
   },
   {
    "duration": 0,
    "start_time": "2023-07-05T06:24:05.601Z"
   },
   {
    "duration": 0,
    "start_time": "2023-07-05T06:24:05.602Z"
   },
   {
    "duration": 0,
    "start_time": "2023-07-05T06:24:05.603Z"
   },
   {
    "duration": 0,
    "start_time": "2023-07-05T06:24:05.604Z"
   },
   {
    "duration": 0,
    "start_time": "2023-07-05T06:24:05.605Z"
   },
   {
    "duration": 0,
    "start_time": "2023-07-05T06:24:05.606Z"
   },
   {
    "duration": 0,
    "start_time": "2023-07-05T06:24:05.607Z"
   },
   {
    "duration": 0,
    "start_time": "2023-07-05T06:24:05.609Z"
   },
   {
    "duration": 0,
    "start_time": "2023-07-05T06:24:05.610Z"
   },
   {
    "duration": 0,
    "start_time": "2023-07-05T06:24:05.611Z"
   },
   {
    "duration": 0,
    "start_time": "2023-07-05T06:24:05.612Z"
   },
   {
    "duration": 0,
    "start_time": "2023-07-05T06:24:05.613Z"
   },
   {
    "duration": 0,
    "start_time": "2023-07-05T06:24:05.614Z"
   },
   {
    "duration": 0,
    "start_time": "2023-07-05T06:24:05.654Z"
   },
   {
    "duration": 1413,
    "start_time": "2023-07-05T06:24:37.112Z"
   },
   {
    "duration": 1272,
    "start_time": "2023-07-05T06:24:52.866Z"
   },
   {
    "duration": 224,
    "start_time": "2023-07-05T06:24:59.445Z"
   },
   {
    "duration": 416,
    "start_time": "2023-07-05T06:27:16.058Z"
   },
   {
    "duration": 6,
    "start_time": "2023-07-05T06:30:21.228Z"
   },
   {
    "duration": 82,
    "start_time": "2023-07-05T06:34:10.415Z"
   },
   {
    "duration": 11,
    "start_time": "2023-07-05T06:35:21.346Z"
   },
   {
    "duration": 14,
    "start_time": "2023-07-05T06:36:09.363Z"
   },
   {
    "duration": 15,
    "start_time": "2023-07-05T06:36:28.793Z"
   },
   {
    "duration": 9,
    "start_time": "2023-07-05T06:37:12.115Z"
   },
   {
    "duration": 17,
    "start_time": "2023-07-05T06:39:42.497Z"
   },
   {
    "duration": 11,
    "start_time": "2023-07-05T07:16:07.244Z"
   },
   {
    "duration": 16,
    "start_time": "2023-07-05T07:17:51.403Z"
   },
   {
    "duration": 1452,
    "start_time": "2023-07-05T07:59:17.065Z"
   },
   {
    "duration": 5,
    "start_time": "2023-07-05T07:59:18.520Z"
   },
   {
    "duration": 168,
    "start_time": "2023-07-05T07:59:18.527Z"
   },
   {
    "duration": 31,
    "start_time": "2023-07-05T07:59:18.697Z"
   },
   {
    "duration": 4,
    "start_time": "2023-07-05T07:59:18.732Z"
   },
   {
    "duration": 51,
    "start_time": "2023-07-05T07:59:18.740Z"
   },
   {
    "duration": 14,
    "start_time": "2023-07-05T07:59:18.792Z"
   },
   {
    "duration": 29,
    "start_time": "2023-07-05T07:59:18.808Z"
   },
   {
    "duration": 45,
    "start_time": "2023-07-05T07:59:18.839Z"
   },
   {
    "duration": 35,
    "start_time": "2023-07-05T07:59:18.886Z"
   },
   {
    "duration": 36,
    "start_time": "2023-07-05T07:59:18.923Z"
   },
   {
    "duration": 45,
    "start_time": "2023-07-05T07:59:18.961Z"
   },
   {
    "duration": 12,
    "start_time": "2023-07-05T07:59:19.008Z"
   },
   {
    "duration": 160,
    "start_time": "2023-07-05T07:59:19.023Z"
   },
   {
    "duration": 205,
    "start_time": "2023-07-05T07:59:19.186Z"
   },
   {
    "duration": 166,
    "start_time": "2023-07-05T07:59:19.393Z"
   },
   {
    "duration": 12,
    "start_time": "2023-07-05T07:59:19.561Z"
   },
   {
    "duration": 29,
    "start_time": "2023-07-05T07:59:19.577Z"
   },
   {
    "duration": 20,
    "start_time": "2023-07-05T07:59:19.608Z"
   },
   {
    "duration": 1068,
    "start_time": "2023-07-05T07:59:19.630Z"
   },
   {
    "duration": 16,
    "start_time": "2023-07-05T07:59:20.699Z"
   },
   {
    "duration": 12,
    "start_time": "2023-07-05T07:59:20.717Z"
   },
   {
    "duration": 2166,
    "start_time": "2023-07-05T07:59:20.731Z"
   },
   {
    "duration": 186,
    "start_time": "2023-07-05T07:59:22.898Z"
   },
   {
    "duration": 14,
    "start_time": "2023-07-05T07:59:23.087Z"
   },
   {
    "duration": 269,
    "start_time": "2023-07-05T07:59:23.104Z"
   },
   {
    "duration": 288,
    "start_time": "2023-07-05T07:59:23.376Z"
   },
   {
    "duration": 253,
    "start_time": "2023-07-05T07:59:23.667Z"
   },
   {
    "duration": 298,
    "start_time": "2023-07-05T07:59:23.921Z"
   },
   {
    "duration": 286,
    "start_time": "2023-07-05T07:59:24.221Z"
   },
   {
    "duration": 1270,
    "start_time": "2023-07-05T07:59:24.508Z"
   },
   {
    "duration": 14,
    "start_time": "2023-07-05T07:59:25.780Z"
   },
   {
    "duration": 14,
    "start_time": "2023-07-05T07:59:25.796Z"
   },
   {
    "duration": 16,
    "start_time": "2023-07-05T08:04:18.223Z"
   },
   {
    "duration": 17,
    "start_time": "2023-07-05T08:04:40.447Z"
   },
   {
    "duration": 1117,
    "start_time": "2023-07-05T11:37:16.054Z"
   },
   {
    "duration": 5,
    "start_time": "2023-07-05T11:37:17.173Z"
   },
   {
    "duration": 130,
    "start_time": "2023-07-05T11:37:17.180Z"
   },
   {
    "duration": 23,
    "start_time": "2023-07-05T11:37:17.313Z"
   },
   {
    "duration": 3,
    "start_time": "2023-07-05T11:37:17.338Z"
   },
   {
    "duration": 24,
    "start_time": "2023-07-05T11:37:17.343Z"
   },
   {
    "duration": 5,
    "start_time": "2023-07-05T11:37:17.370Z"
   },
   {
    "duration": 9,
    "start_time": "2023-07-05T11:37:17.376Z"
   },
   {
    "duration": 10,
    "start_time": "2023-07-05T11:37:17.387Z"
   },
   {
    "duration": 21,
    "start_time": "2023-07-05T11:37:17.399Z"
   },
   {
    "duration": 7,
    "start_time": "2023-07-05T11:37:17.422Z"
   },
   {
    "duration": 29,
    "start_time": "2023-07-05T11:37:17.431Z"
   },
   {
    "duration": 11,
    "start_time": "2023-07-05T11:37:17.462Z"
   },
   {
    "duration": 144,
    "start_time": "2023-07-05T11:37:17.474Z"
   },
   {
    "duration": 137,
    "start_time": "2023-07-05T11:37:17.619Z"
   },
   {
    "duration": 126,
    "start_time": "2023-07-05T11:37:17.757Z"
   },
   {
    "duration": 7,
    "start_time": "2023-07-05T11:37:17.885Z"
   },
   {
    "duration": 13,
    "start_time": "2023-07-05T11:37:17.894Z"
   },
   {
    "duration": 5,
    "start_time": "2023-07-05T11:37:17.908Z"
   },
   {
    "duration": 908,
    "start_time": "2023-07-05T11:37:17.915Z"
   },
   {
    "duration": 16,
    "start_time": "2023-07-05T11:37:18.825Z"
   },
   {
    "duration": 10,
    "start_time": "2023-07-05T11:37:18.852Z"
   },
   {
    "duration": 1776,
    "start_time": "2023-07-05T11:37:18.864Z"
   },
   {
    "duration": 157,
    "start_time": "2023-07-05T11:37:20.642Z"
   },
   {
    "duration": 13,
    "start_time": "2023-07-05T11:37:20.801Z"
   },
   {
    "duration": 231,
    "start_time": "2023-07-05T11:37:20.816Z"
   },
   {
    "duration": 216,
    "start_time": "2023-07-05T11:37:21.048Z"
   },
   {
    "duration": 215,
    "start_time": "2023-07-05T11:37:21.267Z"
   },
   {
    "duration": 222,
    "start_time": "2023-07-05T11:37:21.483Z"
   },
   {
    "duration": 230,
    "start_time": "2023-07-05T11:37:21.707Z"
   },
   {
    "duration": 1107,
    "start_time": "2023-07-05T11:37:21.939Z"
   },
   {
    "duration": 13,
    "start_time": "2023-07-05T11:37:23.052Z"
   },
   {
    "duration": 14,
    "start_time": "2023-07-05T11:37:23.066Z"
   },
   {
    "duration": 45,
    "start_time": "2023-07-05T16:03:07.357Z"
   },
   {
    "duration": 1321,
    "start_time": "2023-07-05T16:03:13.407Z"
   },
   {
    "duration": 4,
    "start_time": "2023-07-05T16:03:14.733Z"
   },
   {
    "duration": 130,
    "start_time": "2023-07-05T16:03:14.739Z"
   },
   {
    "duration": 27,
    "start_time": "2023-07-05T16:03:14.872Z"
   },
   {
    "duration": 3,
    "start_time": "2023-07-05T16:03:14.901Z"
   },
   {
    "duration": 15,
    "start_time": "2023-07-05T16:03:14.906Z"
   },
   {
    "duration": 9,
    "start_time": "2023-07-05T16:03:14.923Z"
   },
   {
    "duration": 11,
    "start_time": "2023-07-05T16:03:14.934Z"
   },
   {
    "duration": 11,
    "start_time": "2023-07-05T16:03:14.946Z"
   },
   {
    "duration": 11,
    "start_time": "2023-07-05T16:03:14.960Z"
   },
   {
    "duration": 16,
    "start_time": "2023-07-05T16:03:14.973Z"
   },
   {
    "duration": 55,
    "start_time": "2023-07-05T16:03:14.991Z"
   },
   {
    "duration": 19,
    "start_time": "2023-07-05T16:03:15.048Z"
   },
   {
    "duration": 131,
    "start_time": "2023-07-05T16:03:15.069Z"
   },
   {
    "duration": 120,
    "start_time": "2023-07-05T16:03:15.202Z"
   },
   {
    "duration": 123,
    "start_time": "2023-07-05T16:03:15.331Z"
   },
   {
    "duration": 7,
    "start_time": "2023-07-05T16:03:15.455Z"
   },
   {
    "duration": 13,
    "start_time": "2023-07-05T16:03:15.464Z"
   },
   {
    "duration": 11,
    "start_time": "2023-07-05T16:03:15.479Z"
   },
   {
    "duration": 772,
    "start_time": "2023-07-05T16:03:15.492Z"
   },
   {
    "duration": 12,
    "start_time": "2023-07-05T16:03:16.266Z"
   },
   {
    "duration": 10,
    "start_time": "2023-07-05T16:03:16.279Z"
   },
   {
    "duration": 1830,
    "start_time": "2023-07-05T16:03:16.291Z"
   },
   {
    "duration": 133,
    "start_time": "2023-07-05T16:03:18.122Z"
   },
   {
    "duration": 12,
    "start_time": "2023-07-05T16:03:18.256Z"
   },
   {
    "duration": 221,
    "start_time": "2023-07-05T16:03:18.270Z"
   },
   {
    "duration": 198,
    "start_time": "2023-07-05T16:03:18.493Z"
   },
   {
    "duration": 201,
    "start_time": "2023-07-05T16:03:18.694Z"
   },
   {
    "duration": 201,
    "start_time": "2023-07-05T16:03:18.896Z"
   },
   {
    "duration": 216,
    "start_time": "2023-07-05T16:03:19.099Z"
   },
   {
    "duration": 1086,
    "start_time": "2023-07-05T16:03:19.317Z"
   },
   {
    "duration": 17,
    "start_time": "2023-07-05T16:03:20.405Z"
   },
   {
    "duration": 23,
    "start_time": "2023-07-05T16:03:20.431Z"
   },
   {
    "duration": 14,
    "start_time": "2023-07-05T16:04:07.426Z"
   },
   {
    "duration": 1363,
    "start_time": "2023-07-05T18:49:46.612Z"
   },
   {
    "duration": 5,
    "start_time": "2023-07-05T18:49:47.977Z"
   },
   {
    "duration": 78,
    "start_time": "2023-07-05T18:49:47.983Z"
   },
   {
    "duration": 28,
    "start_time": "2023-07-05T18:49:48.064Z"
   },
   {
    "duration": 3,
    "start_time": "2023-07-05T18:49:48.094Z"
   },
   {
    "duration": 19,
    "start_time": "2023-07-05T18:49:48.099Z"
   },
   {
    "duration": 5,
    "start_time": "2023-07-05T18:49:48.119Z"
   },
   {
    "duration": 51,
    "start_time": "2023-07-05T18:49:48.126Z"
   },
   {
    "duration": 9,
    "start_time": "2023-07-05T18:49:48.180Z"
   },
   {
    "duration": 10,
    "start_time": "2023-07-05T18:49:48.192Z"
   },
   {
    "duration": 9,
    "start_time": "2023-07-05T18:49:48.204Z"
   },
   {
    "duration": 25,
    "start_time": "2023-07-05T18:49:48.215Z"
   },
   {
    "duration": 20,
    "start_time": "2023-07-05T18:49:48.243Z"
   },
   {
    "duration": 244,
    "start_time": "2023-07-05T18:49:48.270Z"
   },
   {
    "duration": 169,
    "start_time": "2023-07-05T18:49:48.518Z"
   },
   {
    "duration": 148,
    "start_time": "2023-07-05T18:49:48.689Z"
   },
   {
    "duration": 27,
    "start_time": "2023-07-05T18:49:48.838Z"
   },
   {
    "duration": 21,
    "start_time": "2023-07-05T18:49:48.867Z"
   },
   {
    "duration": 9,
    "start_time": "2023-07-05T18:49:48.890Z"
   },
   {
    "duration": 953,
    "start_time": "2023-07-05T18:49:48.900Z"
   },
   {
    "duration": 20,
    "start_time": "2023-07-05T18:49:49.858Z"
   },
   {
    "duration": 11,
    "start_time": "2023-07-05T18:49:49.880Z"
   },
   {
    "duration": 2083,
    "start_time": "2023-07-05T18:49:49.892Z"
   },
   {
    "duration": 161,
    "start_time": "2023-07-05T18:49:51.978Z"
   },
   {
    "duration": 27,
    "start_time": "2023-07-05T18:49:52.141Z"
   },
   {
    "duration": 288,
    "start_time": "2023-07-05T18:49:52.170Z"
   },
   {
    "duration": 242,
    "start_time": "2023-07-05T18:49:52.460Z"
   },
   {
    "duration": 230,
    "start_time": "2023-07-05T18:49:52.706Z"
   },
   {
    "duration": 248,
    "start_time": "2023-07-05T18:49:52.938Z"
   },
   {
    "duration": 254,
    "start_time": "2023-07-05T18:49:53.188Z"
   },
   {
    "duration": 1152,
    "start_time": "2023-07-05T18:49:53.445Z"
   },
   {
    "duration": 16,
    "start_time": "2023-07-05T18:49:54.599Z"
   },
   {
    "duration": 37,
    "start_time": "2023-07-05T18:49:54.616Z"
   },
   {
    "duration": 1214,
    "start_time": "2023-07-05T18:53:51.415Z"
   },
   {
    "duration": 4,
    "start_time": "2023-07-05T18:53:52.631Z"
   },
   {
    "duration": 94,
    "start_time": "2023-07-05T18:53:52.636Z"
   },
   {
    "duration": 32,
    "start_time": "2023-07-05T18:53:52.732Z"
   },
   {
    "duration": 5,
    "start_time": "2023-07-05T18:53:52.765Z"
   },
   {
    "duration": 32,
    "start_time": "2023-07-05T18:53:52.771Z"
   },
   {
    "duration": 6,
    "start_time": "2023-07-05T18:53:52.804Z"
   },
   {
    "duration": 8,
    "start_time": "2023-07-05T18:53:52.811Z"
   },
   {
    "duration": 5,
    "start_time": "2023-07-05T18:53:52.821Z"
   },
   {
    "duration": 7,
    "start_time": "2023-07-05T18:53:52.830Z"
   },
   {
    "duration": 29,
    "start_time": "2023-07-05T18:53:52.838Z"
   },
   {
    "duration": 40,
    "start_time": "2023-07-05T18:53:52.869Z"
   },
   {
    "duration": 9,
    "start_time": "2023-07-05T18:53:52.911Z"
   },
   {
    "duration": 147,
    "start_time": "2023-07-05T18:53:52.922Z"
   },
   {
    "duration": 152,
    "start_time": "2023-07-05T18:53:53.071Z"
   },
   {
    "duration": 168,
    "start_time": "2023-07-05T18:53:53.224Z"
   },
   {
    "duration": 8,
    "start_time": "2023-07-05T18:53:53.395Z"
   },
   {
    "duration": 12,
    "start_time": "2023-07-05T18:53:53.404Z"
   },
   {
    "duration": 7,
    "start_time": "2023-07-05T18:53:53.418Z"
   },
   {
    "duration": 936,
    "start_time": "2023-07-05T18:53:53.427Z"
   },
   {
    "duration": 21,
    "start_time": "2023-07-05T18:53:54.366Z"
   },
   {
    "duration": 10,
    "start_time": "2023-07-05T18:53:54.388Z"
   },
   {
    "duration": 2024,
    "start_time": "2023-07-05T18:53:54.399Z"
   },
   {
    "duration": 168,
    "start_time": "2023-07-05T18:53:56.425Z"
   },
   {
    "duration": 14,
    "start_time": "2023-07-05T18:53:56.595Z"
   },
   {
    "duration": 267,
    "start_time": "2023-07-05T18:53:56.610Z"
   },
   {
    "duration": 213,
    "start_time": "2023-07-05T18:53:56.886Z"
   },
   {
    "duration": 219,
    "start_time": "2023-07-05T18:53:57.102Z"
   },
   {
    "duration": 258,
    "start_time": "2023-07-05T18:53:57.323Z"
   },
   {
    "duration": 246,
    "start_time": "2023-07-05T18:53:57.582Z"
   },
   {
    "duration": 1376,
    "start_time": "2023-07-05T18:53:57.830Z"
   },
   {
    "duration": 13,
    "start_time": "2023-07-05T18:53:59.208Z"
   },
   {
    "duration": 43,
    "start_time": "2023-07-05T18:53:59.223Z"
   },
   {
    "duration": 1518,
    "start_time": "2023-07-05T19:19:57.403Z"
   },
   {
    "duration": 4,
    "start_time": "2023-07-05T19:19:58.923Z"
   },
   {
    "duration": 94,
    "start_time": "2023-07-05T19:19:58.929Z"
   },
   {
    "duration": 22,
    "start_time": "2023-07-05T19:19:59.024Z"
   },
   {
    "duration": 3,
    "start_time": "2023-07-05T19:19:59.048Z"
   },
   {
    "duration": 22,
    "start_time": "2023-07-05T19:19:59.053Z"
   },
   {
    "duration": 35,
    "start_time": "2023-07-05T19:19:59.077Z"
   },
   {
    "duration": 6,
    "start_time": "2023-07-05T19:19:59.114Z"
   },
   {
    "duration": 30,
    "start_time": "2023-07-05T19:19:59.122Z"
   },
   {
    "duration": 23,
    "start_time": "2023-07-05T19:19:59.153Z"
   },
   {
    "duration": 8,
    "start_time": "2023-07-05T19:19:59.178Z"
   },
   {
    "duration": 45,
    "start_time": "2023-07-05T19:19:59.188Z"
   },
   {
    "duration": 10,
    "start_time": "2023-07-05T19:19:59.235Z"
   },
   {
    "duration": 159,
    "start_time": "2023-07-05T19:19:59.249Z"
   },
   {
    "duration": 124,
    "start_time": "2023-07-05T19:19:59.410Z"
   },
   {
    "duration": 159,
    "start_time": "2023-07-05T19:19:59.536Z"
   },
   {
    "duration": 15,
    "start_time": "2023-07-05T19:19:59.697Z"
   },
   {
    "duration": 13,
    "start_time": "2023-07-05T19:19:59.714Z"
   },
   {
    "duration": 9,
    "start_time": "2023-07-05T19:19:59.729Z"
   },
   {
    "duration": 965,
    "start_time": "2023-07-05T19:19:59.740Z"
   },
   {
    "duration": 16,
    "start_time": "2023-07-05T19:20:00.707Z"
   },
   {
    "duration": 28,
    "start_time": "2023-07-05T19:20:00.725Z"
   },
   {
    "duration": 2089,
    "start_time": "2023-07-05T19:20:00.755Z"
   },
   {
    "duration": 162,
    "start_time": "2023-07-05T19:20:02.846Z"
   },
   {
    "duration": 12,
    "start_time": "2023-07-05T19:20:03.010Z"
   },
   {
    "duration": 235,
    "start_time": "2023-07-05T19:20:03.023Z"
   },
   {
    "duration": 217,
    "start_time": "2023-07-05T19:20:03.259Z"
   },
   {
    "duration": 229,
    "start_time": "2023-07-05T19:20:03.477Z"
   },
   {
    "duration": 229,
    "start_time": "2023-07-05T19:20:03.707Z"
   },
   {
    "duration": 231,
    "start_time": "2023-07-05T19:20:03.938Z"
   },
   {
    "duration": 1301,
    "start_time": "2023-07-05T19:20:04.171Z"
   },
   {
    "duration": 18,
    "start_time": "2023-07-05T19:20:05.474Z"
   },
   {
    "duration": 15,
    "start_time": "2023-07-05T19:20:05.494Z"
   }
  ],
  "kernelspec": {
   "display_name": "Python 3 (ipykernel)",
   "language": "python",
   "name": "python3"
  },
  "language_info": {
   "codemirror_mode": {
    "name": "ipython",
    "version": 3
   },
   "file_extension": ".py",
   "mimetype": "text/x-python",
   "name": "python",
   "nbconvert_exporter": "python",
   "pygments_lexer": "ipython3",
   "version": "3.9.5"
  },
  "toc": {
   "base_numbering": 1,
   "nav_menu": {},
   "number_sections": true,
   "sideBar": true,
   "skip_h1_title": true,
   "title_cell": "Table of Contents",
   "title_sidebar": "Contents",
   "toc_cell": false,
   "toc_position": {},
   "toc_section_display": true,
   "toc_window_display": false
  }
 },
 "nbformat": 4,
 "nbformat_minor": 5
}
